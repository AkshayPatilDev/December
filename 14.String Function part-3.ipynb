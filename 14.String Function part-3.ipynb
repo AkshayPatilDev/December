{
 "cells": [
  {
   "cell_type": "markdown",
   "id": "e1712c58",
   "metadata": {},
   "source": [
    "#  String function\n"
   ]
  },
  {
   "cell_type": "markdown",
   "id": "fa1eaf52",
   "metadata": {},
   "source": [
    "## 10.Count\n",
    "- syntax :-\n",
    "- string.count(substring[start_index],[end_index])"
   ]
  },
  {
   "cell_type": "code",
   "execution_count": 3,
   "id": "2d4c5764",
   "metadata": {},
   "outputs": [
    {
     "data": {
      "text/plain": [
       "'Python and Data Science. Python is very easy to learn. Python'"
      ]
     },
     "execution_count": 3,
     "metadata": {},
     "output_type": "execute_result"
    }
   ],
   "source": [
    "string = \"Python and Data Science. Python is very easy to learn. Python\"\n",
    "string"
   ]
  },
  {
   "cell_type": "code",
   "execution_count": 4,
   "id": "ca8560c4",
   "metadata": {},
   "outputs": [
    {
     "data": {
      "text/plain": [
       "3"
      ]
     },
     "execution_count": 4,
     "metadata": {},
     "output_type": "execute_result"
    }
   ],
   "source": [
    "substring = \"Python\"\n",
    "string.count(substring)"
   ]
  },
  {
   "cell_type": "code",
   "execution_count": 7,
   "id": "8c3e21e0",
   "metadata": {},
   "outputs": [
    {
     "data": {
      "text/plain": [
       "5"
      ]
     },
     "execution_count": 7,
     "metadata": {},
     "output_type": "execute_result"
    }
   ],
   "source": [
    "string = \"Python and Data Science. Python is very easy to learn. Python Python Python\"\n",
    "string.count(substring)"
   ]
  },
  {
   "cell_type": "code",
   "execution_count": 9,
   "id": "57540a0e",
   "metadata": {},
   "outputs": [
    {
     "data": {
      "text/plain": [
       "4"
      ]
     },
     "execution_count": 9,
     "metadata": {},
     "output_type": "execute_result"
    }
   ],
   "source": [
    "a = \"abc abc abc gsj sgy bca sga abc cab\"\n",
    "a.count(\"abc\")"
   ]
  },
  {
   "cell_type": "code",
   "execution_count": 15,
   "id": "0cef89db",
   "metadata": {},
   "outputs": [
    {
     "data": {
      "text/plain": [
       "5"
      ]
     },
     "execution_count": 15,
     "metadata": {},
     "output_type": "execute_result"
    }
   ],
   "source": [
    "string = \"Python and Data Science. Python is very easy to learn. Python Python Python\"\n",
    "string.count(\"a\")"
   ]
  },
  {
   "cell_type": "code",
   "execution_count": 16,
   "id": "c014dcfb",
   "metadata": {},
   "outputs": [
    {
     "data": {
      "text/plain": [
       "2"
      ]
     },
     "execution_count": 16,
     "metadata": {},
     "output_type": "execute_result"
    }
   ],
   "source": [
    "string = \"Python and Data Science. Python is very easy to learn. Python Python Python\"\n",
    "string.count(\"a\",8,20)"
   ]
  },
  {
   "cell_type": "code",
   "execution_count": 17,
   "id": "b4a9fcb7",
   "metadata": {},
   "outputs": [
    {
     "data": {
      "text/plain": [
       "'nd Data Scie'"
      ]
     },
     "execution_count": 17,
     "metadata": {},
     "output_type": "execute_result"
    }
   ],
   "source": [
    "string[8:20]"
   ]
  },
  {
   "cell_type": "markdown",
   "id": "5c6b522a",
   "metadata": {},
   "source": [
    "## 11.index\n",
    "- string.index(substring,[start_index],[end_index])"
   ]
  },
  {
   "cell_type": "code",
   "execution_count": 3,
   "id": "66c40907",
   "metadata": {},
   "outputs": [
    {
     "data": {
      "text/plain": [
       "'Data Science is about data gathering, analysis and decision-making. Data Science \\nis about finding patterns in data, through analysis, and make future predictions. By using Data \\nScience, companies are able to make: Better decisions (should we choose A or B)'"
      ]
     },
     "execution_count": 3,
     "metadata": {},
     "output_type": "execute_result"
    }
   ],
   "source": [
    "str1 = \"\"\"Data Science is about data gathering, analysis and decision-making. Data Science \n",
    "is about finding patterns in data, through analysis, and make future predictions. By using Data \n",
    "Science, companies are able to make: Better decisions (should we choose A or B)\"\"\"\n",
    "\n",
    "str1"
   ]
  },
  {
   "cell_type": "code",
   "execution_count": 4,
   "id": "6d60a31a",
   "metadata": {},
   "outputs": [
    {
     "data": {
      "text/plain": [
       "0"
      ]
     },
     "execution_count": 4,
     "metadata": {},
     "output_type": "execute_result"
    }
   ],
   "source": [
    "str1.index(\"Data\")"
   ]
  },
  {
   "cell_type": "code",
   "execution_count": 22,
   "id": "2cd04918",
   "metadata": {},
   "outputs": [
    {
     "data": {
      "text/plain": [
       "5"
      ]
     },
     "execution_count": 22,
     "metadata": {},
     "output_type": "execute_result"
    }
   ],
   "source": [
    "str1.index(\"Science\")"
   ]
  },
  {
   "cell_type": "code",
   "execution_count": 26,
   "id": "5437a447",
   "metadata": {},
   "outputs": [
    {
     "ename": "ValueError",
     "evalue": "substring not found",
     "output_type": "error",
     "traceback": [
      "\u001b[1;31m---------------------------------------------------------------------------\u001b[0m",
      "\u001b[1;31mValueError\u001b[0m                                Traceback (most recent call last)",
      "\u001b[1;32m~\\AppData\\Local\\Temp/ipykernel_10900/1025357175.py\u001b[0m in \u001b[0;36m<module>\u001b[1;34m\u001b[0m\n\u001b[0;32m      1\u001b[0m \u001b[0mstr1\u001b[0m \u001b[1;33m=\u001b[0m \u001b[0mstr1\u001b[0m\u001b[1;33m.\u001b[0m\u001b[0mreplace\u001b[0m\u001b[1;33m(\u001b[0m\u001b[1;34m\"Science\"\u001b[0m\u001b[1;33m,\u001b[0m\u001b[1;34m\"Dscience\"\u001b[0m\u001b[1;33m)\u001b[0m\u001b[1;33m\u001b[0m\u001b[1;33m\u001b[0m\u001b[0m\n\u001b[1;32m----> 2\u001b[1;33m \u001b[0mstr1\u001b[0m\u001b[1;33m.\u001b[0m\u001b[0mindex\u001b[0m\u001b[1;33m(\u001b[0m\u001b[1;34m\"Science\"\u001b[0m\u001b[1;33m)\u001b[0m\u001b[1;33m\u001b[0m\u001b[1;33m\u001b[0m\u001b[0m\n\u001b[0m",
      "\u001b[1;31mValueError\u001b[0m: substring not found"
     ]
    }
   ],
   "source": [
    "str1 = str1.replace(\"Science\",\"Dscience\")\n",
    "str1.index(\"Science\")"
   ]
  },
  {
   "cell_type": "code",
   "execution_count": 30,
   "id": "ad681711",
   "metadata": {},
   "outputs": [
    {
     "data": {
      "text/plain": [
       "'Data Science is about data gathering, analysis and decision-making. Data Science \\nis about finding patterns in data, through analysis, and make future predictions. By using Data \\nScience, companies are able to make: Better decisions (should we choose A or B)'"
      ]
     },
     "execution_count": 30,
     "metadata": {},
     "output_type": "execute_result"
    }
   ],
   "source": [
    "str1 = \"\"\"Data Science is about data gathering, analysis and decision-making. Data Science \n",
    "is about finding patterns in data, through analysis, and make future predictions. By using Data \n",
    "Science, companies are able to make: Better decisions (should we choose A or B)\"\"\"\n",
    "\n",
    "str1\n"
   ]
  },
  {
   "cell_type": "code",
   "execution_count": 39,
   "id": "cb0d274c",
   "metadata": {},
   "outputs": [
    {
     "data": {
      "text/plain": [
       "5"
      ]
     },
     "execution_count": 39,
     "metadata": {},
     "output_type": "execute_result"
    }
   ],
   "source": [
    "str1.index(\"Science\")"
   ]
  },
  {
   "cell_type": "code",
   "execution_count": 45,
   "id": "c90346d1",
   "metadata": {},
   "outputs": [
    {
     "data": {
      "text/plain": [
       "'a Science is abou'"
      ]
     },
     "execution_count": 45,
     "metadata": {},
     "output_type": "execute_result"
    }
   ],
   "source": [
    "str1[3:20]"
   ]
  },
  {
   "cell_type": "code",
   "execution_count": 46,
   "id": "f76fe2da",
   "metadata": {},
   "outputs": [
    {
     "data": {
      "text/plain": [
       "5"
      ]
     },
     "execution_count": 46,
     "metadata": {},
     "output_type": "execute_result"
    }
   ],
   "source": [
    "str1.index('Science',3,20)"
   ]
  },
  {
   "cell_type": "code",
   "execution_count": 47,
   "id": "75e13ab6",
   "metadata": {},
   "outputs": [
    {
     "data": {
      "text/plain": [
       "True"
      ]
     },
     "execution_count": 47,
     "metadata": {},
     "output_type": "execute_result"
    }
   ],
   "source": [
    "'Science' in  'Data Science'"
   ]
  },
  {
   "cell_type": "code",
   "execution_count": 48,
   "id": "4ed4b4cb",
   "metadata": {},
   "outputs": [
    {
     "data": {
      "text/plain": [
       "False"
      ]
     },
     "execution_count": 48,
     "metadata": {},
     "output_type": "execute_result"
    }
   ],
   "source": [
    "'science' in  'Data Science'"
   ]
  },
  {
   "cell_type": "code",
   "execution_count": 51,
   "id": "a4b080b4",
   "metadata": {},
   "outputs": [
    {
     "data": {
      "text/plain": [
       "True"
      ]
     },
     "execution_count": 51,
     "metadata": {},
     "output_type": "execute_result"
    }
   ],
   "source": [
    "str1 = \"Python\"\n",
    "\"P\" in str1"
   ]
  },
  {
   "cell_type": "code",
   "execution_count": 52,
   "id": "d0466c94",
   "metadata": {},
   "outputs": [
    {
     "data": {
      "text/plain": [
       "True"
      ]
     },
     "execution_count": 52,
     "metadata": {},
     "output_type": "execute_result"
    }
   ],
   "source": [
    "str1 = \"Python\"\n",
    "\"P\" in str1"
   ]
  },
  {
   "cell_type": "code",
   "execution_count": 54,
   "id": "0d523b30",
   "metadata": {},
   "outputs": [
    {
     "name": "stdout",
     "output_type": "stream",
     "text": [
      "P is not present\n"
     ]
    }
   ],
   "source": [
    "str1 = \"Python\"\n",
    "if \"M\" in str1:\n",
    "    print(\"P is present\")\n",
    "else:\n",
    "    print(\"P is not present\")"
   ]
  },
  {
   "cell_type": "code",
   "execution_count": 55,
   "id": "39389b1a",
   "metadata": {},
   "outputs": [
    {
     "name": "stdout",
     "output_type": "stream",
     "text": [
      "The index of analysis is 38\n"
     ]
    }
   ],
   "source": [
    "str1 = \"\"\"Data Science is about data gathering, analysis and decision-making. Data Science \n",
    "is about finding patterns in data, through analysis, and make future predictions. By using Data \n",
    "Science, companies are able to make: Better decisions (should we choose A or B)\"\"\"\n",
    "\n",
    "str2 = \"analysis\"\n",
    "\n",
    "if str2 in str1:\n",
    "    print(f\"The index of {str2} is {str1.index(str2)}\")\n",
    "else:\n",
    "    print(f\"{str2} is not found\")"
   ]
  },
  {
   "cell_type": "code",
   "execution_count": 62,
   "id": "de833df4",
   "metadata": {},
   "outputs": [
    {
     "name": "stdout",
     "output_type": "stream",
     "text": [
      "The index of analysis is 127\n"
     ]
    }
   ],
   "source": [
    "str1 = \"\"\"Data Science is about data gathering, anaaalysis and decision-making. Data Science \n",
    "is about finding patterns in data, through analysis, and make future predictions. By using Data \n",
    "Science, companies are able to make: Better decisions (should we choose A or B)\"\"\"\n",
    "\n",
    "str2 = 'analysis'\n",
    "\n",
    "if str2 in str1:\n",
    "    print(f\"The index of {str2} is {str1.index(str2)}\")\n",
    "else:\n",
    "    print(f\"{str2} is not found\")"
   ]
  },
  {
   "cell_type": "code",
   "execution_count": 63,
   "id": "04944bcb",
   "metadata": {},
   "outputs": [
    {
     "name": "stdout",
     "output_type": "stream",
     "text": [
      "analysis is not found\n"
     ]
    }
   ],
   "source": [
    "str1 = \"\"\"Data Science is about data gathering, anaaalysis and decision-making. Data Science \n",
    "is about finding patterns in data, through anaaalysis, and make future predictions. By using Data \n",
    "Science, companies are able to make: Better decisions (should we choose A or B)\"\"\"\n",
    "\n",
    "str2 = 'analysis'\n",
    "\n",
    "if str2 in str1:\n",
    "    print(f\"The index of {str2} is {str1.index(str2)}\")\n",
    "else:\n",
    "    print(f\"{str2} is not found\")"
   ]
  },
  {
   "cell_type": "markdown",
   "id": "171ec3b9",
   "metadata": {},
   "source": [
    "## 12.find()\n",
    "- syntax:- string.find(substring,[start_index],[end_index]\n",
    "- If substring present = return index of substring\n",
    "- If substring absent = return  -1"
   ]
  },
  {
   "cell_type": "code",
   "execution_count": 7,
   "id": "d0cd812b",
   "metadata": {},
   "outputs": [
    {
     "data": {
      "text/plain": [
       "'Data Science is about data gathering, analysis and decision-making. Data Science \\nis about finding patterns in data, through analysis, and make future predictions. By using Data \\nScience, companies are able to make: Better decisions (should we choose A or B)'"
      ]
     },
     "execution_count": 7,
     "metadata": {},
     "output_type": "execute_result"
    }
   ],
   "source": [
    "str1"
   ]
  },
  {
   "cell_type": "code",
   "execution_count": 14,
   "id": "ceb107f3",
   "metadata": {},
   "outputs": [
    {
     "data": {
      "text/plain": [
       "0"
      ]
     },
     "execution_count": 14,
     "metadata": {},
     "output_type": "execute_result"
    }
   ],
   "source": [
    "str1 = \"\"\"Data Science is about data gathering, analysis and decision-making. Data Science \n",
    "is about finding patterns in data, through analysis, and make future predictions. By using Data \n",
    "Science, companies are able to make: Better decisions (should we choose A or B)\"\"\"\n",
    "str1.find('Data')"
   ]
  },
  {
   "cell_type": "code",
   "execution_count": 11,
   "id": "f93150ce",
   "metadata": {},
   "outputs": [
    {
     "data": {
      "text/plain": [
       "-1"
      ]
     },
     "execution_count": 11,
     "metadata": {},
     "output_type": "execute_result"
    }
   ],
   "source": [
    "str1.find('Python')     #returns -1 coz 'Python is not present in string'"
   ]
  },
  {
   "cell_type": "code",
   "execution_count": 13,
   "id": "eb26b81b",
   "metadata": {},
   "outputs": [
    {
     "name": "stdout",
     "output_type": "stream",
     "text": [
      "find = -1\n"
     ]
    },
    {
     "ename": "ValueError",
     "evalue": "substring not found",
     "output_type": "error",
     "traceback": [
      "\u001b[1;31m---------------------------------------------------------------------------\u001b[0m",
      "\u001b[1;31mValueError\u001b[0m                                Traceback (most recent call last)",
      "\u001b[1;32m~\\AppData\\Local\\Temp/ipykernel_14752/1760602061.py\u001b[0m in \u001b[0;36m<module>\u001b[1;34m\u001b[0m\n\u001b[0;32m      1\u001b[0m \u001b[0mstr1\u001b[0m \u001b[1;33m=\u001b[0m \u001b[1;34m\"\"\"Data Science is about data gathering, analysis and decision-making. Data Science \\nis about finding patterns in data, through analysis, and make future predictions. By using Data \\nScience, companies are able to make: Better decisions (should we choose A or B)\"\"\"\u001b[0m\u001b[1;33m\u001b[0m\u001b[1;33m\u001b[0m\u001b[0m\n\u001b[0;32m      2\u001b[0m \u001b[0mprint\u001b[0m\u001b[1;33m(\u001b[0m\u001b[1;34mf\"find = {str1.find('Python')}\"\u001b[0m\u001b[1;33m)\u001b[0m\u001b[1;33m\u001b[0m\u001b[1;33m\u001b[0m\u001b[0m\n\u001b[1;32m----> 3\u001b[1;33m \u001b[0mstr1\u001b[0m\u001b[1;33m.\u001b[0m\u001b[0mindex\u001b[0m\u001b[1;33m(\u001b[0m\u001b[1;34m'Python'\u001b[0m\u001b[1;33m)\u001b[0m     \u001b[1;31m#>>>>>>>If substring is absent and we used .index function ,it returns error\u001b[0m\u001b[1;33m\u001b[0m\u001b[1;33m\u001b[0m\u001b[0m\n\u001b[0m",
      "\u001b[1;31mValueError\u001b[0m: substring not found"
     ]
    }
   ],
   "source": [
    "str1 = \"\"\"Data Science is about data gathering, analysis and decision-making. Data Science \n",
    "is about finding patterns in data, through analysis, and make future predictions. By using Data \n",
    "Science, companies are able to make: Better decisions (should we choose A or B)\"\"\"\n",
    "print(f\"find = {str1.find('Python')}\")\n",
    "str1.index('Python')     #>>>>>>>If substring is absent and we used .index function ,it returns error  "
   ]
  },
  {
   "cell_type": "code",
   "execution_count": 20,
   "id": "ec5e216b",
   "metadata": {},
   "outputs": [
    {
     "data": {
      "text/plain": [
       "202"
      ]
     },
     "execution_count": 20,
     "metadata": {},
     "output_type": "execute_result"
    }
   ],
   "source": [
    "str1 = \"\"\"Data Science is about data gathering, analysis and decision-making. Data Science \n",
    "is about finding patterns in data, through analysis, and make future predictions. By using Data \n",
    "Science, companies are able to make: Better decisions (should we choose A or B)\"\"\"\n",
    "\n",
    "str1.find('able',190,len(str1))"
   ]
  },
  {
   "cell_type": "code",
   "execution_count": 19,
   "id": "342dd459",
   "metadata": {},
   "outputs": [
    {
     "name": "stdout",
     "output_type": "stream",
     "text": [
      "258\n"
     ]
    },
    {
     "data": {
      "text/plain": [
       "'mpanies are able to make: Better decisions (should we choose A or B)'"
      ]
     },
     "execution_count": 19,
     "metadata": {},
     "output_type": "execute_result"
    }
   ],
   "source": [
    "print(f\"{len(str1)}\")\n",
    "str1[190:len(str1)]"
   ]
  },
  {
   "cell_type": "code",
   "execution_count": 21,
   "id": "a7b67cef",
   "metadata": {},
   "outputs": [
    {
     "data": {
      "text/plain": [
       "164"
      ]
     },
     "execution_count": 21,
     "metadata": {},
     "output_type": "execute_result"
    }
   ],
   "source": [
    "str1 = \"\"\"Data Science is about data gathering, analysis and decision-making. Data Science \n",
    "is about finding patterns in data, through analysis, and make future predictions. By using Data \n",
    "Science, companies are able to make: Better decisions (should we choose A or B)\"\"\"\n",
    "\n",
    "substring = 'By'\n",
    "index_sub = str1.find(substring)\n",
    "index_sub"
   ]
  },
  {
   "cell_type": "code",
   "execution_count": 22,
   "id": "797bc88c",
   "metadata": {},
   "outputs": [
    {
     "data": {
      "text/plain": [
       "'using Data \\nScience, companies are able to make: Better decisions (should we choose A or B)'"
      ]
     },
     "execution_count": 22,
     "metadata": {},
     "output_type": "execute_result"
    }
   ],
   "source": [
    "str1 = \"\"\"Data Science is about data gathering, analysis and decision-making. Data Science \n",
    "is about finding patterns in data, through analysis, and make future predictions. By using Data \n",
    "Science, companies are able to make: Better decisions (should we choose A or B)\"\"\"\n",
    "\n",
    "substring = 'By'\n",
    "index_sub = str1.find(substring)\n",
    "str1[index_sub + len(substring) + 1:]"
   ]
  },
  {
   "cell_type": "code",
   "execution_count": 23,
   "id": "3ccc5326",
   "metadata": {},
   "outputs": [
    {
     "data": {
      "text/plain": [
       "'using Data \\nScience, companies are able to make: Better decisions (should we choose A or B)'"
      ]
     },
     "execution_count": 23,
     "metadata": {},
     "output_type": "execute_result"
    }
   ],
   "source": [
    "str1[166+1:]"
   ]
  },
  {
   "cell_type": "code",
   "execution_count": 24,
   "id": "a0ee1147",
   "metadata": {},
   "outputs": [
    {
     "data": {
      "text/plain": [
       "'u'"
      ]
     },
     "execution_count": 24,
     "metadata": {},
     "output_type": "execute_result"
    }
   ],
   "source": [
    "str1[167]"
   ]
  },
  {
   "cell_type": "markdown",
   "id": "5830eed7",
   "metadata": {},
   "source": [
    "## 13.split()\n",
    "- It will convert string to list\n",
    "- List = collection of different data types\n",
    "- syntax:- string.split()"
   ]
  },
  {
   "cell_type": "code",
   "execution_count": 25,
   "id": "56fd8065",
   "metadata": {},
   "outputs": [
    {
     "data": {
      "text/plain": [
       "['Python', 'and', 'Data', 'Science']"
      ]
     },
     "execution_count": 25,
     "metadata": {},
     "output_type": "execute_result"
    }
   ],
   "source": [
    "str1 = \"Python and Data Science\"\n",
    "str1.split()"
   ]
  },
  {
   "cell_type": "code",
   "execution_count": 26,
   "id": "6dc4b529",
   "metadata": {},
   "outputs": [
    {
     "data": {
      "text/plain": [
       "['P', 'ython', 'and', 'D', 'ata', 'Science']"
      ]
     },
     "execution_count": 26,
     "metadata": {},
     "output_type": "execute_result"
    }
   ],
   "source": [
    "str1 = \"P ython and D ata Science\"\n",
    "str1.split()"
   ]
  },
  {
   "cell_type": "code",
   "execution_count": 27,
   "id": "8774613e",
   "metadata": {},
   "outputs": [
    {
     "data": {
      "text/plain": [
       "['Python', 'and', 'Data', 'Science']"
      ]
     },
     "execution_count": 27,
     "metadata": {},
     "output_type": "execute_result"
    }
   ],
   "source": [
    "str1 = \"Python and Data Science\"\n",
    "str1.split(\" \")"
   ]
  },
  {
   "cell_type": "code",
   "execution_count": 30,
   "id": "6cc1fd3d",
   "metadata": {},
   "outputs": [
    {
     "data": {
      "text/plain": [
       "['Python', 'and', 'Data', 'Science']"
      ]
     },
     "execution_count": 30,
     "metadata": {},
     "output_type": "execute_result"
    }
   ],
   "source": [
    "str1 = \"Python-and-Data-Science\"\n",
    "str1.split('-')"
   ]
  },
  {
   "cell_type": "code",
   "execution_count": 31,
   "id": "b070a84e",
   "metadata": {},
   "outputs": [
    {
     "data": {
      "text/plain": [
       "['Python ', 'nd D', 't', ' Science']"
      ]
     },
     "execution_count": 31,
     "metadata": {},
     "output_type": "execute_result"
    }
   ],
   "source": [
    "str1 = \"Python and Data Science\"\n",
    "str1.split('a')"
   ]
  },
  {
   "cell_type": "code",
   "execution_count": 32,
   "id": "97fdda3f",
   "metadata": {},
   "outputs": [
    {
     "data": {
      "text/plain": [
       "['Python ', ' Data Science']"
      ]
     },
     "execution_count": 32,
     "metadata": {},
     "output_type": "execute_result"
    }
   ],
   "source": [
    "str1 = \"Python and Data Science\"\n",
    "str1.split('and')"
   ]
  },
  {
   "cell_type": "code",
   "execution_count": 33,
   "id": "ec88af1f",
   "metadata": {},
   "outputs": [
    {
     "data": {
      "text/plain": [
       "['Python ', ' Data Science']"
      ]
     },
     "execution_count": 33,
     "metadata": {},
     "output_type": "execute_result"
    }
   ],
   "source": [
    "str1 = \"Python & Data Science\"\n",
    "str1.split('&')"
   ]
  },
  {
   "cell_type": "code",
   "execution_count": 70,
   "id": "2c3512c9",
   "metadata": {},
   "outputs": [
    {
     "data": {
      "text/plain": [
       "' python & DATA science'"
      ]
     },
     "execution_count": 70,
     "metadata": {},
     "output_type": "execute_result"
    }
   ],
   "source": [
    "new_str = \"\"\"\"\"\"\n",
    "for i in str1.lower().split():\n",
    "    if \"data\" == i:\n",
    "        new_str = new_str + \" \" + i.upper()\n",
    "    else:\n",
    "        new_str = new_str + \" \" + i\n",
    "new_str"
   ]
  },
  {
   "cell_type": "markdown",
   "id": "9364378c",
   "metadata": {},
   "source": [
    "## 14.join()\n",
    "- It joins or convert list to string\n",
    "- syntax:- \"\".join()"
   ]
  },
  {
   "cell_type": "code",
   "execution_count": 34,
   "id": "ee540652",
   "metadata": {},
   "outputs": [
    {
     "data": {
      "text/plain": [
       "'PythonandDataScience'"
      ]
     },
     "execution_count": 34,
     "metadata": {},
     "output_type": "execute_result"
    }
   ],
   "source": [
    "list1 = ['Python', 'and', 'Data', 'Science']\n",
    "\"\".join(list1)"
   ]
  },
  {
   "cell_type": "code",
   "execution_count": 35,
   "id": "17a92cb5",
   "metadata": {},
   "outputs": [
    {
     "data": {
      "text/plain": [
       "'Python and Data Science'"
      ]
     },
     "execution_count": 35,
     "metadata": {},
     "output_type": "execute_result"
    }
   ],
   "source": [
    "list1 = ['Python', 'and', 'Data', 'Science']\n",
    "\" \".join(list1)"
   ]
  },
  {
   "cell_type": "code",
   "execution_count": 36,
   "id": "1da0c950",
   "metadata": {},
   "outputs": [
    {
     "data": {
      "text/plain": [
       "'Python-and-Data-Science'"
      ]
     },
     "execution_count": 36,
     "metadata": {},
     "output_type": "execute_result"
    }
   ],
   "source": [
    "list1 = ['Python', 'and', 'Data', 'Science']\n",
    "\"-\".join(list1)"
   ]
  },
  {
   "cell_type": "code",
   "execution_count": 37,
   "id": "843d1e97",
   "metadata": {},
   "outputs": [
    {
     "data": {
      "text/plain": [
       "'Python*and*Data*Science'"
      ]
     },
     "execution_count": 37,
     "metadata": {},
     "output_type": "execute_result"
    }
   ],
   "source": [
    "list1 = ['Python', 'and', 'Data', 'Science']\n",
    "\"*\".join(list1)"
   ]
  },
  {
   "cell_type": "code",
   "execution_count": 38,
   "id": "3b542df4",
   "metadata": {},
   "outputs": [
    {
     "data": {
      "text/plain": [
       "'Python    and    Data    Science'"
      ]
     },
     "execution_count": 38,
     "metadata": {},
     "output_type": "execute_result"
    }
   ],
   "source": [
    "list1 = ['Python', 'and', 'Data', 'Science']\n",
    "\"    \".join(list1)"
   ]
  },
  {
   "cell_type": "markdown",
   "id": "648e4568",
   "metadata": {},
   "source": [
    "## 15.endswith()\n",
    "- It returns True/False values and used to check file extension\n",
    "- syntax:- string.endswith()"
   ]
  },
  {
   "cell_type": "code",
   "execution_count": 41,
   "id": "1ff07613",
   "metadata": {},
   "outputs": [
    {
     "data": {
      "text/plain": [
       "True"
      ]
     },
     "execution_count": 41,
     "metadata": {},
     "output_type": "execute_result"
    }
   ],
   "source": [
    "string = \"Python and Data Science\"\n",
    "string.endswith(\"e\")"
   ]
  },
  {
   "cell_type": "code",
   "execution_count": 42,
   "id": "6b4e5688",
   "metadata": {},
   "outputs": [
    {
     "data": {
      "text/plain": [
       "False"
      ]
     },
     "execution_count": 42,
     "metadata": {},
     "output_type": "execute_result"
    }
   ],
   "source": [
    "string = \"Python and Data Science\"\n",
    "string.endswith(\"P\")"
   ]
  },
  {
   "cell_type": "code",
   "execution_count": 43,
   "id": "ed1400f2",
   "metadata": {},
   "outputs": [
    {
     "data": {
      "text/plain": [
       "True"
      ]
     },
     "execution_count": 43,
     "metadata": {},
     "output_type": "execute_result"
    }
   ],
   "source": [
    "string = \"Python and Data Science\"\n",
    "string.endswith(\"Science\")"
   ]
  },
  {
   "cell_type": "code",
   "execution_count": 44,
   "id": "ab8715d0",
   "metadata": {},
   "outputs": [
    {
     "data": {
      "text/plain": [
       "False"
      ]
     },
     "execution_count": 44,
     "metadata": {},
     "output_type": "execute_result"
    }
   ],
   "source": [
    "string = \"Python and Data Science\"\n",
    "string.endswith(\"Python\")"
   ]
  },
  {
   "cell_type": "code",
   "execution_count": 46,
   "id": "06fcb415",
   "metadata": {},
   "outputs": [],
   "source": [
    "import os"
   ]
  },
  {
   "cell_type": "code",
   "execution_count": 48,
   "id": "f737395e",
   "metadata": {},
   "outputs": [
    {
     "data": {
      "text/plain": [
       "True"
      ]
     },
     "execution_count": 48,
     "metadata": {},
     "output_type": "execute_result"
    }
   ],
   "source": [
    "file_path = r\"C:\\Users\\Mohit\\Desktop\\VELOCITY\\31st july python and data science\\01_Aug_Introduction.txt\"\n",
    "file_path.endswith('.txt')"
   ]
  },
  {
   "cell_type": "code",
   "execution_count": 49,
   "id": "ffb61d3a",
   "metadata": {},
   "outputs": [
    {
     "data": {
      "text/plain": [
       "True"
      ]
     },
     "execution_count": 49,
     "metadata": {},
     "output_type": "execute_result"
    }
   ],
   "source": [
    "file_path = r\"C:\\Users\\Mohit\\Desktop\\VELOCITY\\31st july python and data science\\01_Aug_Introduction.pdf\"\n",
    "file_path.endswith('.pdf')"
   ]
  },
  {
   "cell_type": "code",
   "execution_count": 50,
   "id": "d7c902d7",
   "metadata": {},
   "outputs": [
    {
     "data": {
      "text/plain": [
       "False"
      ]
     },
     "execution_count": 50,
     "metadata": {},
     "output_type": "execute_result"
    }
   ],
   "source": [
    "file_path = r\"C:\\Users\\Mohit\\Desktop\\VELOCITY\\31st july python and data science\\01_Aug_Introduction.PDF\"\n",
    "file_path.endswith('.pdf')"
   ]
  },
  {
   "cell_type": "code",
   "execution_count": 51,
   "id": "43788d39",
   "metadata": {},
   "outputs": [
    {
     "name": "stdout",
     "output_type": "stream",
     "text": [
      "The text file is present\n"
     ]
    }
   ],
   "source": [
    "file_path = r\"C:\\Users\\Mohit\\Desktop\\VELOCITY\\31st july python and data science\\01_Aug_Introduction.txt\"\n",
    "if file_path.endswith('.txt'):\n",
    "    print(\"The text file is present\")\n",
    "else:\n",
    "    print(\"The text file is not present\")\n"
   ]
  },
  {
   "cell_type": "code",
   "execution_count": 52,
   "id": "5884618e",
   "metadata": {},
   "outputs": [
    {
     "name": "stdout",
     "output_type": "stream",
     "text": [
      "The text file is not present\n"
     ]
    }
   ],
   "source": [
    "file_path = r\"C:\\Users\\Mohit\\Desktop\\VELOCITY\\31st july python and data science\\01_Aug_Introduction.pdf\"\n",
    "if file_path.endswith('.txt'):\n",
    "    print(\"The text file is present\")\n",
    "else:\n",
    "    print(\"The text file is not present\")\n"
   ]
  },
  {
   "cell_type": "code",
   "execution_count": 53,
   "id": "0b937db5",
   "metadata": {},
   "outputs": [
    {
     "data": {
      "text/plain": [
       "['.ipynb_checkpoints',\n",
       " '01.Introduction.ipynb',\n",
       " '02.Comments and Indentation.ipynb',\n",
       " '03.Variables.ipynb',\n",
       " '04.Global and Local Variable.ipynb',\n",
       " '05.Variable assignment.ipynb',\n",
       " '06.Types of printing variables .ipynb',\n",
       " '07. Data types.ipynb',\n",
       " '08.String.ipynb',\n",
       " '09.String_Escape_Bar ___ backslash _new line_tab .ipynb',\n",
       " '10.String_Indexing and String Slicing.ipynb',\n",
       " '11.String slicing .ipynb',\n",
       " '12.String Functions part-1.ipynb',\n",
       " '13.String Functions part-2.ipynb',\n",
       " '14.String Function part-3.ipynb']"
      ]
     },
     "execution_count": 53,
     "metadata": {},
     "output_type": "execute_result"
    }
   ],
   "source": [
    "list_files = os.listdir()\n",
    "list_files"
   ]
  },
  {
   "cell_type": "code",
   "execution_count": 57,
   "id": "f5b4983a",
   "metadata": {},
   "outputs": [
    {
     "name": "stdout",
     "output_type": "stream",
     "text": [
      "The File = .ipynb_checkpoints\n",
      "The File = 01.Introduction.ipynb\n",
      "The File = 02.Comments and Indentation.ipynb\n",
      "The File = 03.Variables.ipynb\n",
      "The File = 04.Global and Local Variable.ipynb\n",
      "The File = 05.Variable assignment.ipynb\n",
      "The File = 06.Types of printing variables .ipynb\n",
      "The File = 07. Data types.ipynb\n",
      "The File = 08.String.ipynb\n",
      "The File = 09.String_Escape_Bar ___ backslash _new line_tab .ipynb\n",
      "The File = 10.String_Indexing and String Slicing.ipynb\n",
      "The File = 11.String slicing .ipynb\n",
      "The File = 12.String Functions part-1.ipynb\n",
      "The File = 13.String Functions part-2.ipynb\n",
      "The File = 14.String Function part-3.ipynb\n"
     ]
    }
   ],
   "source": [
    "for file in list_files:\n",
    "    print(f\"The File = {file}\")"
   ]
  },
  {
   "cell_type": "code",
   "execution_count": 63,
   "id": "f13b913e",
   "metadata": {},
   "outputs": [
    {
     "name": "stdout",
     "output_type": "stream",
     "text": [
      "IPYNB File name = 01.Introduction.ipynb\n",
      "IPYNB File name = 02.Comments and Indentation.ipynb\n",
      "IPYNB File name = 03.Variables.ipynb\n",
      "IPYNB File name = 04.Global and Local Variable.ipynb\n",
      "IPYNB File name = 05.Variable assignment.ipynb\n",
      "IPYNB File name = 06.Types of printing variables .ipynb\n",
      "IPYNB File name = 07. Data types.ipynb\n",
      "IPYNB File name = 08.String.ipynb\n",
      "IPYNB File name = 09.String_Escape_Bar ___ backslash _new line_tab .ipynb\n",
      "IPYNB File name = 10.String_Indexing and String Slicing.ipynb\n",
      "IPYNB File name = 11.String slicing .ipynb\n",
      "IPYNB File name = 12.String Functions part-1.ipynb\n",
      "IPYNB File name = 13.String Functions part-2.ipynb\n",
      "IPYNB File name = 14.String Function part-3.ipynb\n"
     ]
    }
   ],
   "source": [
    "for file in list_files:\n",
    "    if file.endswith('.ipynb'):\n",
    "        print(f\"IPYNB File name = {file}\")"
   ]
  },
  {
   "cell_type": "code",
   "execution_count": 64,
   "id": "4ae3a7e4",
   "metadata": {},
   "outputs": [
    {
     "data": {
      "text/plain": [
       "15"
      ]
     },
     "execution_count": 64,
     "metadata": {},
     "output_type": "execute_result"
    }
   ],
   "source": [
    "len(list_files)"
   ]
  },
  {
   "cell_type": "code",
   "execution_count": 66,
   "id": "543773d3",
   "metadata": {},
   "outputs": [
    {
     "name": "stdout",
     "output_type": "stream",
     "text": [
      "IPYNB File name = 01.Introduction.ipynb\n",
      "\n",
      "IPYNB File name = 02.Comments and Indentation.ipynb\n",
      "\n",
      "IPYNB File name = 03.Variables.ipynb\n",
      "\n",
      "IPYNB File name = 04.Global and Local Variable.ipynb\n",
      "\n",
      "IPYNB File name = 05.Variable assignment.ipynb\n",
      "\n",
      "IPYNB File name = 06.Types of printing variables .ipynb\n",
      "\n",
      "IPYNB File name = 07. Data types.ipynb\n",
      "\n",
      "IPYNB File name = 08.String.ipynb\n",
      "\n",
      "IPYNB File name = 09.String_Escape_Bar ___ backslash _new line_tab .ipynb\n",
      "\n",
      "IPYNB File name = 10.String_Indexing and String Slicing.ipynb\n",
      "\n",
      "IPYNB File name = 11.String slicing .ipynb\n",
      "\n",
      "IPYNB File name = 12.String Functions part-1.ipynb\n",
      "\n",
      "IPYNB File name = 13.String Functions part-2.ipynb\n",
      "\n",
      "IPYNB File name = 14.String Function part-3.ipynb\n",
      "\n"
     ]
    }
   ],
   "source": [
    "for file in list_files:\n",
    "    if file.endswith('.ipynb'):\n",
    "        print(f\"IPYNB File name = {file}\")\n",
    "        print()"
   ]
  },
  {
   "cell_type": "code",
   "execution_count": null,
   "id": "29ed2745",
   "metadata": {},
   "outputs": [],
   "source": []
  }
 ],
 "metadata": {
  "kernelspec": {
   "display_name": "Python 3 (ipykernel)",
   "language": "python",
   "name": "python3"
  },
  "language_info": {
   "codemirror_mode": {
    "name": "ipython",
    "version": 3
   },
   "file_extension": ".py",
   "mimetype": "text/x-python",
   "name": "python",
   "nbconvert_exporter": "python",
   "pygments_lexer": "ipython3",
   "version": "3.12.4"
  }
 },
 "nbformat": 4,
 "nbformat_minor": 5
}
