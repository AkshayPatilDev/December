{
 "cells": [
  {
   "cell_type": "markdown",
   "id": "29321f31",
   "metadata": {},
   "source": [
    "# List\n",
    "- List is a collection of items\n",
    "- list can hold ---> int,float,str,list,set,tuple,etc...\n",
    "- It is used store sequence of various data types"
   ]
  },
  {
   "cell_type": "markdown",
   "id": "b20a5714",
   "metadata": {},
   "source": [
    "## Properties\n",
    "- List is ordered data type\n",
    "- Mutable: changeable >>add elements,delete elements,update list,etc..\n",
    "- It allows duplicate values/items\n",
    "- Enclosed by sq brackets--> []\n",
    "- All the items in list are comma separated\n",
    "- LOMAD"
   ]
  },
  {
   "cell_type": "code",
   "execution_count": 2,
   "id": "0e77c7cb",
   "metadata": {},
   "outputs": [
    {
     "name": "stdout",
     "output_type": "stream",
     "text": [
      "[1, 2, 3, 4, 5]\n"
     ]
    },
    {
     "data": {
      "text/plain": [
       "list"
      ]
     },
     "execution_count": 2,
     "metadata": {},
     "output_type": "execute_result"
    }
   ],
   "source": [
    "li = [1,2,3,4,5]\n",
    "print(li)\n",
    "type(li)"
   ]
  },
  {
   "cell_type": "code",
   "execution_count": 3,
   "id": "5b462479",
   "metadata": {},
   "outputs": [
    {
     "name": "stdout",
     "output_type": "stream",
     "text": [
      "[1.1, 2.2, 3.3]\n"
     ]
    },
    {
     "data": {
      "text/plain": [
       "list"
      ]
     },
     "execution_count": 3,
     "metadata": {},
     "output_type": "execute_result"
    }
   ],
   "source": [
    "li = [1.1,2.2,3.3]\n",
    "print(li)\n",
    "type(li)"
   ]
  },
  {
   "cell_type": "code",
   "execution_count": 4,
   "id": "79054f76",
   "metadata": {},
   "outputs": [
    {
     "name": "stdout",
     "output_type": "stream",
     "text": [
      "['Python', 'And', 'java']\n"
     ]
    },
    {
     "data": {
      "text/plain": [
       "list"
      ]
     },
     "execution_count": 4,
     "metadata": {},
     "output_type": "execute_result"
    }
   ],
   "source": [
    "li = ['Python','And','java']\n",
    "print(li)\n",
    "type(li)"
   ]
  },
  {
   "cell_type": "code",
   "execution_count": 5,
   "id": "48a1a642",
   "metadata": {},
   "outputs": [
    {
     "name": "stdout",
     "output_type": "stream",
     "text": [
      "[(5+0j), (2+8j), (9+4j)]\n"
     ]
    },
    {
     "data": {
      "text/plain": [
       "list"
      ]
     },
     "execution_count": 5,
     "metadata": {},
     "output_type": "execute_result"
    }
   ],
   "source": [
    "li = [5+0j,2+8j,9+4j]\n",
    "print(li)\n",
    "type(li)"
   ]
  },
  {
   "cell_type": "code",
   "execution_count": 6,
   "id": "19f8ac16",
   "metadata": {},
   "outputs": [
    {
     "name": "stdout",
     "output_type": "stream",
     "text": [
      "[1, 2, 3, 1.1, 2.2, 3.3, 'Python', 'And', 'java', (5+0j), (2+8j)]\n"
     ]
    },
    {
     "data": {
      "text/plain": [
       "list"
      ]
     },
     "execution_count": 6,
     "metadata": {},
     "output_type": "execute_result"
    }
   ],
   "source": [
    "li = [1,2,3,1.1,2.2,3.3,'Python','And','java',5+0j,2+8j]\n",
    "print(li)\n",
    "type(li)"
   ]
  },
  {
   "cell_type": "code",
   "execution_count": 9,
   "id": "e2c0626d",
   "metadata": {},
   "outputs": [
    {
     "name": "stdout",
     "output_type": "stream",
     "text": [
      "[1, 2, 3, (1.1, 2.2, 3.3), ['Python', 'And', 'java'], (5+0j), (2+8j)]\n"
     ]
    },
    {
     "data": {
      "text/plain": [
       "list"
      ]
     },
     "execution_count": 9,
     "metadata": {},
     "output_type": "execute_result"
    }
   ],
   "source": [
    "li = [1,2,3,(1.1,2.2,3.3),['Python','And','java'],5+0j,2+8j]\n",
    "print(li)\n",
    "type(li)"
   ]
  },
  {
   "cell_type": "markdown",
   "id": "23c625cb",
   "metadata": {},
   "source": [
    "## Indexing"
   ]
  },
  {
   "cell_type": "raw",
   "id": "5488fc05",
   "metadata": {},
   "source": [
    "  [1, 2, 3, 4, 5]\n",
    "   0  1  2  3  4\n",
    "  -5 -4 -3 -2 -1"
   ]
  },
  {
   "cell_type": "code",
   "execution_count": 10,
   "id": "e20795a3",
   "metadata": {},
   "outputs": [
    {
     "name": "stdout",
     "output_type": "stream",
     "text": [
      "[1, 2, 3, 4, 5]\n"
     ]
    }
   ],
   "source": [
    "li =[1,2,3,4,5]\n",
    "print(li)"
   ]
  },
  {
   "cell_type": "code",
   "execution_count": 16,
   "id": "6b0a6ffa",
   "metadata": {},
   "outputs": [
    {
     "name": "stdout",
     "output_type": "stream",
     "text": [
      "1\n",
      "2\n",
      "3\n",
      "4\n",
      "5\n"
     ]
    }
   ],
   "source": [
    "li =[1,2,3,4,5]\n",
    "print(li[0])\n",
    "print(li[1])\n",
    "print(li[2])\n",
    "print(li[3])\n",
    "print(li[4])"
   ]
  },
  {
   "cell_type": "code",
   "execution_count": 18,
   "id": "166f2c16",
   "metadata": {},
   "outputs": [
    {
     "name": "stdout",
     "output_type": "stream",
     "text": [
      "1\n",
      "2\n",
      "3\n",
      "4\n",
      "5\n"
     ]
    },
    {
     "ename": "IndexError",
     "evalue": "list index out of range",
     "output_type": "error",
     "traceback": [
      "\u001b[1;31m---------------------------------------------------------------------------\u001b[0m",
      "\u001b[1;31mIndexError\u001b[0m                                Traceback (most recent call last)",
      "\u001b[1;32m~\\AppData\\Local\\Temp/ipykernel_19764/926067898.py\u001b[0m in \u001b[0;36m<module>\u001b[1;34m\u001b[0m\n\u001b[0;32m      5\u001b[0m \u001b[0mprint\u001b[0m\u001b[1;33m(\u001b[0m\u001b[0mli\u001b[0m\u001b[1;33m[\u001b[0m\u001b[1;36m3\u001b[0m\u001b[1;33m]\u001b[0m\u001b[1;33m)\u001b[0m\u001b[1;33m\u001b[0m\u001b[1;33m\u001b[0m\u001b[0m\n\u001b[0;32m      6\u001b[0m \u001b[0mprint\u001b[0m\u001b[1;33m(\u001b[0m\u001b[0mli\u001b[0m\u001b[1;33m[\u001b[0m\u001b[1;36m4\u001b[0m\u001b[1;33m]\u001b[0m\u001b[1;33m)\u001b[0m\u001b[1;33m\u001b[0m\u001b[1;33m\u001b[0m\u001b[0m\n\u001b[1;32m----> 7\u001b[1;33m \u001b[0mprint\u001b[0m\u001b[1;33m(\u001b[0m\u001b[0mli\u001b[0m\u001b[1;33m[\u001b[0m\u001b[1;36m5\u001b[0m\u001b[1;33m]\u001b[0m\u001b[1;33m)\u001b[0m   \u001b[1;31m#>>>index error-->index out of range\u001b[0m\u001b[1;33m\u001b[0m\u001b[1;33m\u001b[0m\u001b[0m\n\u001b[0m",
      "\u001b[1;31mIndexError\u001b[0m: list index out of range"
     ]
    }
   ],
   "source": [
    "li =[1,2,3,4,5]\n",
    "print(li[0])\n",
    "print(li[1])\n",
    "print(li[2])\n",
    "print(li[3])\n",
    "print(li[4])\n",
    "print(li[5])   #>>>index error-->index out of range"
   ]
  },
  {
   "cell_type": "code",
   "execution_count": 19,
   "id": "54d5145c",
   "metadata": {},
   "outputs": [
    {
     "name": "stdout",
     "output_type": "stream",
     "text": [
      "5\n",
      "4\n",
      "3\n",
      "2\n",
      "1\n"
     ]
    }
   ],
   "source": [
    "li =[1,2,3,4,5]\n",
    "print(li[-1])\n",
    "print(li[-2])\n",
    "print(li[-3])\n",
    "print(li[-4])\n",
    "print(li[-5])"
   ]
  },
  {
   "cell_type": "code",
   "execution_count": 20,
   "id": "8f16134a",
   "metadata": {
    "scrolled": true
   },
   "outputs": [
    {
     "name": "stdout",
     "output_type": "stream",
     "text": [
      "Python\n",
      "And\n",
      "java\n"
     ]
    }
   ],
   "source": [
    "li = ['Python','And','java',1,2,3]\n",
    "print(li[0])\n",
    "print(li[1])\n",
    "print(li[2])"
   ]
  },
  {
   "cell_type": "code",
   "execution_count": 22,
   "id": "506a5908",
   "metadata": {},
   "outputs": [
    {
     "name": "stdout",
     "output_type": "stream",
     "text": [
      "Python\n",
      "and\n",
      "JAVA\n"
     ]
    }
   ],
   "source": [
    "li = ['Python','And','java',1,2,3]\n",
    "print(li[0])\n",
    "print(li[1].lower())\n",
    "print(li[2].upper())"
   ]
  },
  {
   "cell_type": "code",
   "execution_count": 24,
   "id": "f170ad01",
   "metadata": {
    "scrolled": true
   },
   "outputs": [
    {
     "name": "stdout",
     "output_type": "stream",
     "text": [
      "1\n",
      "2\n",
      "3\n"
     ]
    }
   ],
   "source": [
    "li = [1,2,3,[1,2,3]]\n",
    "print(li[3][0])\n",
    "print(li[3][1])\n",
    "print(li[3][2])"
   ]
  },
  {
   "cell_type": "code",
   "execution_count": 25,
   "id": "05a8447d",
   "metadata": {
    "scrolled": true
   },
   "outputs": [
    {
     "name": "stdout",
     "output_type": "stream",
     "text": [
      "1\n",
      "3\n"
     ]
    }
   ],
   "source": [
    "li = [1,2,3,[1,2,3]]\n",
    "print(li[3][0])\n",
    "print(li[3][-1])"
   ]
  },
  {
   "cell_type": "markdown",
   "id": "1152677a",
   "metadata": {},
   "source": [
    "## Slicing"
   ]
  },
  {
   "cell_type": "code",
   "execution_count": 26,
   "id": "5e86e825",
   "metadata": {},
   "outputs": [
    {
     "data": {
      "text/plain": [
       "[1, 2, 3, 4, 5]"
      ]
     },
     "execution_count": 26,
     "metadata": {},
     "output_type": "execute_result"
    }
   ],
   "source": [
    "li = [1,2,3,4,5,10,20,30,40,50,\"Python\",\"And\",\"Data\",\"Science\"]\n",
    "li[0:5]"
   ]
  },
  {
   "cell_type": "code",
   "execution_count": 27,
   "id": "f9b47982",
   "metadata": {},
   "outputs": [
    {
     "data": {
      "text/plain": [
       "[1, 2, 3, 4, 5]"
      ]
     },
     "execution_count": 27,
     "metadata": {},
     "output_type": "execute_result"
    }
   ],
   "source": [
    "li = [1,2,3,4,5,10,20,30,40,50,\"Python\",\"And\",\"Data\",\"Science\"]\n",
    "li[:5]"
   ]
  },
  {
   "cell_type": "code",
   "execution_count": 28,
   "id": "5405c80f",
   "metadata": {},
   "outputs": [
    {
     "data": {
      "text/plain": [
       "[10, 20, 30, 40, 50, 'Python', 'And', 'Data', 'Science']"
      ]
     },
     "execution_count": 28,
     "metadata": {},
     "output_type": "execute_result"
    }
   ],
   "source": [
    "li = [1,2,3,4,5,10,20,30,40,50,\"Python\",\"And\",\"Data\",\"Science\"]\n",
    "li[5:]"
   ]
  },
  {
   "cell_type": "code",
   "execution_count": 29,
   "id": "28abf59a",
   "metadata": {},
   "outputs": [
    {
     "data": {
      "text/plain": [
       "[1, 2, 3, 4, 5]"
      ]
     },
     "execution_count": 29,
     "metadata": {},
     "output_type": "execute_result"
    }
   ],
   "source": [
    "li = [1,2,3,4,5,10,20,30,40,50,\"Python\",\"And\",\"Data\",\"Science\"]\n",
    "li[0:5:1]"
   ]
  },
  {
   "cell_type": "code",
   "execution_count": 30,
   "id": "b8fa13b4",
   "metadata": {},
   "outputs": [
    {
     "data": {
      "text/plain": [
       "[1, 3, 5, 20, 40, 'Python', 'Data']"
      ]
     },
     "execution_count": 30,
     "metadata": {},
     "output_type": "execute_result"
    }
   ],
   "source": [
    "li = [1,2,3,4,5,10,20,30,40,50,\"Python\",\"And\",\"Data\",\"Science\"]\n",
    "li[:15:2]"
   ]
  },
  {
   "cell_type": "code",
   "execution_count": 31,
   "id": "1a1817a2",
   "metadata": {},
   "outputs": [
    {
     "data": {
      "text/plain": [
       "[10, 20, 30]"
      ]
     },
     "execution_count": 31,
     "metadata": {},
     "output_type": "execute_result"
    }
   ],
   "source": [
    "li = [1,2,3,4,5,10,20,30,40,50,\"Python\",\"And\",\"Data\",\"Science\"]\n",
    "li[5:8]"
   ]
  },
  {
   "cell_type": "code",
   "execution_count": 34,
   "id": "1b610d43",
   "metadata": {},
   "outputs": [
    {
     "data": {
      "text/plain": [
       "['Science', 'Data', 'And', 'Python', 50, 40, 30, 20, 10, 5, 4, 3, 2, 1]"
      ]
     },
     "execution_count": 34,
     "metadata": {},
     "output_type": "execute_result"
    }
   ],
   "source": [
    "li = [1,2,3,4,5,10,20,30,40,50,\"Python\",\"And\",\"Data\",\"Science\"]\n",
    "li[::-1]"
   ]
  },
  {
   "cell_type": "code",
   "execution_count": 1,
   "id": "2d082db6",
   "metadata": {},
   "outputs": [
    {
     "data": {
      "text/plain": [
       "['Science', 'Data', 'And', 'Python']"
      ]
     },
     "execution_count": 1,
     "metadata": {},
     "output_type": "execute_result"
    }
   ],
   "source": [
    "li = [1,2,3,4,5,10,20,30,40,50,\"Python\",\"And\",\"Data\",\"Science\"]\n",
    "li[:-5:-1]"
   ]
  },
  {
   "cell_type": "code",
   "execution_count": 37,
   "id": "e7dc9a39",
   "metadata": {},
   "outputs": [
    {
     "data": {
      "text/plain": [
       "[2, 4, 10, 30, 50, 'And', 'Science']"
      ]
     },
     "execution_count": 37,
     "metadata": {},
     "output_type": "execute_result"
    }
   ],
   "source": [
    "li = [1,2,3,4,5,10,20,30,40,50,\"Python\",\"And\",\"Data\",\"Science\"]\n",
    "li[1::2]"
   ]
  },
  {
   "cell_type": "code",
   "execution_count": 39,
   "id": "0a01c0c6",
   "metadata": {},
   "outputs": [
    {
     "data": {
      "text/plain": [
       "['Science', 'Data', 'And', 'Python', 50, 40, 30, 20, 10, 5, 4, 3, 2, 1]"
      ]
     },
     "execution_count": 39,
     "metadata": {},
     "output_type": "execute_result"
    }
   ],
   "source": [
    "list(reversed(li))"
   ]
  },
  {
   "cell_type": "code",
   "execution_count": 41,
   "id": "5fbe8f20",
   "metadata": {},
   "outputs": [
    {
     "data": {
      "text/plain": [
       "['n', 'o', 'h', 't', 'y', 'P']"
      ]
     },
     "execution_count": 41,
     "metadata": {},
     "output_type": "execute_result"
    }
   ],
   "source": [
    "list(reversed(\"Python\"))"
   ]
  },
  {
   "cell_type": "code",
   "execution_count": 42,
   "id": "68db4084",
   "metadata": {},
   "outputs": [
    {
     "data": {
      "text/plain": [
       "'nohtyP'"
      ]
     },
     "execution_count": 42,
     "metadata": {},
     "output_type": "execute_result"
    }
   ],
   "source": [
    "\"\".join(list(reversed(\"Python\")))"
   ]
  },
  {
   "cell_type": "code",
   "execution_count": 43,
   "id": "b0a1c585",
   "metadata": {},
   "outputs": [
    {
     "data": {
      "text/plain": [
       "'nohtyP'"
      ]
     },
     "execution_count": 43,
     "metadata": {},
     "output_type": "execute_result"
    }
   ],
   "source": [
    "\"\".join(list(\"Python\"[::-1]))"
   ]
  },
  {
   "cell_type": "markdown",
   "id": "328d81bd",
   "metadata": {},
   "source": [
    "## Check items in list"
   ]
  },
  {
   "cell_type": "code",
   "execution_count": 44,
   "id": "8a94db94",
   "metadata": {},
   "outputs": [
    {
     "data": {
      "text/plain": [
       "[1, 2, 3, 4, 5, 10, 20, 30, 40, 50, 'Python', 'And', 'Data', 'Science']"
      ]
     },
     "execution_count": 44,
     "metadata": {},
     "output_type": "execute_result"
    }
   ],
   "source": [
    "li"
   ]
  },
  {
   "cell_type": "code",
   "execution_count": 46,
   "id": "11ed7bd8",
   "metadata": {},
   "outputs": [
    {
     "data": {
      "text/plain": [
       "True"
      ]
     },
     "execution_count": 46,
     "metadata": {},
     "output_type": "execute_result"
    }
   ],
   "source": [
    "'Python' in li"
   ]
  },
  {
   "cell_type": "code",
   "execution_count": 47,
   "id": "743a1048",
   "metadata": {
    "scrolled": true
   },
   "outputs": [
    {
     "data": {
      "text/plain": [
       "False"
      ]
     },
     "execution_count": 47,
     "metadata": {},
     "output_type": "execute_result"
    }
   ],
   "source": [
    "'python' in li"
   ]
  },
  {
   "cell_type": "code",
   "execution_count": 50,
   "id": "1711cac8",
   "metadata": {},
   "outputs": [
    {
     "name": "stdout",
     "output_type": "stream",
     "text": [
      "Python is present in [1, 2, 3, 4, 5, 10, 20, 30, 40, 50, 'Python', 'And', 'Data', 'Science']\n"
     ]
    }
   ],
   "source": [
    "if 'Python' in li:\n",
    "    print(f\"Python is present in {li}\")"
   ]
  },
  {
   "cell_type": "code",
   "execution_count": 51,
   "id": "d55858cf",
   "metadata": {},
   "outputs": [
    {
     "name": "stdout",
     "output_type": "stream",
     "text": [
      "Python is not present in [1, 2, 3, 4, 5, 10, 20, 30, 40, 50, 'Python', 'And', 'Data', 'Science']\n"
     ]
    }
   ],
   "source": [
    "if 'python' in li:\n",
    "    print(f\"Python is present in {li}\")\n",
    "else:\n",
    "    print(f\"Python is not present in {li}\")"
   ]
  },
  {
   "cell_type": "code",
   "execution_count": 53,
   "id": "f051a36f",
   "metadata": {},
   "outputs": [
    {
     "name": "stdout",
     "output_type": "stream",
     "text": [
      "Yes\n"
     ]
    }
   ],
   "source": [
    "if 'Hi' in [\"Hi\",\"Bye\"]:\n",
    "    print(f\"Yes\")\n",
    "else:\n",
    "    print(f\"No\")\n",
    "    "
   ]
  },
  {
   "cell_type": "code",
   "execution_count": 54,
   "id": "5cbdd404",
   "metadata": {},
   "outputs": [
    {
     "name": "stdout",
     "output_type": "stream",
     "text": [
      "No\n"
     ]
    }
   ],
   "source": [
    "if 'hi' in [\"Hi\",\"Bye\"]:\n",
    "    print(f\"Yes\")\n",
    "else:\n",
    "    print(f\"No\")"
   ]
  },
  {
   "cell_type": "markdown",
   "id": "be6aa36c",
   "metadata": {},
   "source": [
    "## Access list items by using for loop"
   ]
  },
  {
   "cell_type": "code",
   "execution_count": 55,
   "id": "2ff1fe1b",
   "metadata": {},
   "outputs": [
    {
     "data": {
      "text/plain": [
       "[1, 2, 3, 4, 5, 10, 20, 30, 40, 50, 'Python', 'And', 'Data', 'Science']"
      ]
     },
     "execution_count": 55,
     "metadata": {},
     "output_type": "execute_result"
    }
   ],
   "source": [
    "li"
   ]
  },
  {
   "cell_type": "code",
   "execution_count": 57,
   "id": "4fc38a71",
   "metadata": {},
   "outputs": [
    {
     "name": "stdout",
     "output_type": "stream",
     "text": [
      "The element = 1\n",
      "The element = 2\n",
      "The element = 3\n",
      "The element = 4\n",
      "The element = 5\n",
      "The element = 10\n",
      "The element = 20\n",
      "The element = 30\n",
      "The element = 40\n",
      "The element = 50\n",
      "The element = Python\n",
      "The element = And\n",
      "The element = Data\n",
      "The element = Science\n"
     ]
    }
   ],
   "source": [
    "for i in li:\n",
    "    print(f\"The element = {i}\")"
   ]
  }
 ],
 "metadata": {
  "kernelspec": {
   "display_name": "Python 3 (ipykernel)",
   "language": "python",
   "name": "python3"
  },
  "language_info": {
   "codemirror_mode": {
    "name": "ipython",
    "version": 3
   },
   "file_extension": ".py",
   "mimetype": "text/x-python",
   "name": "python",
   "nbconvert_exporter": "python",
   "pygments_lexer": "ipython3",
   "version": "3.12.4"
  }
 },
 "nbformat": 4,
 "nbformat_minor": 5
}
