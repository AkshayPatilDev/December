{
 "cells": [
  {
   "cell_type": "markdown",
   "id": "5327b571",
   "metadata": {},
   "source": [
    "# Geneartor\n",
    "- If we are using one or more yield statement ,then it is called as generator"
   ]
  },
  {
   "cell_type": "code",
   "execution_count": 1,
   "id": "1cac1e4f",
   "metadata": {},
   "outputs": [],
   "source": [
    "def gen():\n",
    "    return \"First Statement\"\n",
    "    return \"Second Statement\"\n",
    "    return \"Third Statement\""
   ]
  },
  {
   "cell_type": "code",
   "execution_count": 2,
   "id": "51cb0775",
   "metadata": {},
   "outputs": [
    {
     "data": {
      "text/plain": [
       "'First Statement'"
      ]
     },
     "execution_count": 2,
     "metadata": {},
     "output_type": "execute_result"
    }
   ],
   "source": [
    "gen()"
   ]
  },
  {
   "cell_type": "code",
   "execution_count": 3,
   "id": "6097bab5",
   "metadata": {},
   "outputs": [
    {
     "data": {
      "text/plain": [
       "'First Statement'"
      ]
     },
     "execution_count": 3,
     "metadata": {},
     "output_type": "execute_result"
    }
   ],
   "source": [
    "gen()"
   ]
  },
  {
   "cell_type": "code",
   "execution_count": 4,
   "id": "21e19a9d",
   "metadata": {},
   "outputs": [],
   "source": [
    "def sq_func(li):\n",
    "    for i in li:\n",
    "        sqr = i **2\n",
    "        print(f\"Sqaure of  {i} == {sqr}\")\n",
    "        return sqr"
   ]
  },
  {
   "cell_type": "code",
   "execution_count": 5,
   "id": "b10aec52",
   "metadata": {},
   "outputs": [
    {
     "name": "stdout",
     "output_type": "stream",
     "text": [
      "Sqaure of  1 == 1\n"
     ]
    },
    {
     "data": {
      "text/plain": [
       "1"
      ]
     },
     "execution_count": 5,
     "metadata": {},
     "output_type": "execute_result"
    }
   ],
   "source": [
    "sq_func([1,2,3,4,5])"
   ]
  },
  {
   "cell_type": "code",
   "execution_count": 1,
   "id": "c41962f7",
   "metadata": {},
   "outputs": [],
   "source": [
    "def sq_func(li):\n",
    "    for i in li:\n",
    "        sqr = i **2\n",
    "        print(f\"Sqaure of  {i} == {sqr}\")\n",
    "#         return sqr"
   ]
  },
  {
   "cell_type": "code",
   "execution_count": 2,
   "id": "3cc5b8d2",
   "metadata": {},
   "outputs": [
    {
     "name": "stdout",
     "output_type": "stream",
     "text": [
      "Sqaure of  1 == 1\n",
      "Sqaure of  2 == 4\n",
      "Sqaure of  3 == 9\n",
      "Sqaure of  4 == 16\n",
      "Sqaure of  5 == 25\n"
     ]
    }
   ],
   "source": [
    "sq_func([1,2,3,4,5])"
   ]
  },
  {
   "cell_type": "code",
   "execution_count": 8,
   "id": "aa0c9c76",
   "metadata": {},
   "outputs": [
    {
     "data": {
      "text/plain": [
       "<generator object sq_func at 0x0000013021898B30>"
      ]
     },
     "execution_count": 8,
     "metadata": {},
     "output_type": "execute_result"
    }
   ],
   "source": [
    "def sq_func(li):\n",
    "    for i in li:\n",
    "        sqr = i **2\n",
    "        print(f\"Sqaure of  {i} == {sqr}\")\n",
    "        yield sqr\n",
    "        \n",
    "square_obj =  sq_func([1,2,3,4,5])\n",
    "square_obj"
   ]
  },
  {
   "cell_type": "code",
   "execution_count": 9,
   "id": "424b6fe7",
   "metadata": {},
   "outputs": [
    {
     "name": "stdout",
     "output_type": "stream",
     "text": [
      "Sqaure of  1 == 1\n",
      "--------------------\n",
      "Sqaure of  2 == 4\n",
      "--------------------\n",
      "Sqaure of  3 == 9\n",
      "--------------------\n",
      "Sqaure of  4 == 16\n",
      "--------------------\n",
      "Sqaure of  5 == 25\n",
      "--------------------\n"
     ]
    }
   ],
   "source": [
    "for i in square_obj:\n",
    "    print(\"-\"*20)"
   ]
  },
  {
   "cell_type": "code",
   "execution_count": 10,
   "id": "5286d6f4",
   "metadata": {},
   "outputs": [
    {
     "ename": "StopIteration",
     "evalue": "",
     "output_type": "error",
     "traceback": [
      "\u001b[1;31m---------------------------------------------------------------------------\u001b[0m",
      "\u001b[1;31mStopIteration\u001b[0m                             Traceback (most recent call last)",
      "Cell \u001b[1;32mIn [10], line 1\u001b[0m\n\u001b[1;32m----> 1\u001b[0m \u001b[38;5;28;43mnext\u001b[39;49m\u001b[43m(\u001b[49m\u001b[43msquare_obj\u001b[49m\u001b[43m)\u001b[49m\n",
      "\u001b[1;31mStopIteration\u001b[0m: "
     ]
    }
   ],
   "source": [
    "next(square_obj)"
   ]
  },
  {
   "cell_type": "code",
   "execution_count": 13,
   "id": "5344e96d",
   "metadata": {},
   "outputs": [
    {
     "data": {
      "text/plain": [
       "<generator object sq_func at 0x00000130242D9A50>"
      ]
     },
     "execution_count": 13,
     "metadata": {},
     "output_type": "execute_result"
    }
   ],
   "source": [
    "def sq_func(li):\n",
    "    for i in li:\n",
    "        sqr = i ** 2\n",
    "        yield f\"Sqaure of {i} == {sqr}\"\n",
    "        \n",
    "square_obj =  sq_func([1,2,3,4,5])\n",
    "square_obj"
   ]
  },
  {
   "cell_type": "code",
   "execution_count": 14,
   "id": "ec00fe8f",
   "metadata": {},
   "outputs": [
    {
     "name": "stdout",
     "output_type": "stream",
     "text": [
      "Sqaure of 1 == 1\n",
      "Sqaure of 2 == 4\n",
      "Sqaure of 3 == 9\n",
      "Sqaure of 4 == 16\n",
      "Sqaure of 5 == 25\n"
     ]
    },
    {
     "ename": "StopIteration",
     "evalue": "",
     "output_type": "error",
     "traceback": [
      "\u001b[1;31m---------------------------------------------------------------------------\u001b[0m",
      "\u001b[1;31mStopIteration\u001b[0m                             Traceback (most recent call last)",
      "Cell \u001b[1;32mIn [14], line 6\u001b[0m\n\u001b[0;32m      4\u001b[0m \u001b[38;5;28mprint\u001b[39m(\u001b[38;5;28mnext\u001b[39m(square_obj))\n\u001b[0;32m      5\u001b[0m \u001b[38;5;28mprint\u001b[39m(\u001b[38;5;28mnext\u001b[39m(square_obj))\n\u001b[1;32m----> 6\u001b[0m \u001b[38;5;28mprint\u001b[39m(\u001b[38;5;28;43mnext\u001b[39;49m\u001b[43m(\u001b[49m\u001b[43msquare_obj\u001b[49m\u001b[43m)\u001b[49m)\n",
      "\u001b[1;31mStopIteration\u001b[0m: "
     ]
    }
   ],
   "source": [
    "print(next(square_obj))\n",
    "print(next(square_obj))\n",
    "print(next(square_obj))\n",
    "print(next(square_obj))\n",
    "print(next(square_obj))\n",
    "print(next(square_obj))"
   ]
  },
  {
   "cell_type": "code",
   "execution_count": 15,
   "id": "9fba2b4b",
   "metadata": {},
   "outputs": [
    {
     "name": "stdout",
     "output_type": "stream",
     "text": [
      "Sqaure of 1 == 1\n",
      "Sqaure of 2 == 4\n",
      "Sqaure of 3 == 9\n",
      "Sqaure of 4 == 16\n",
      "Sqaure of 5 == 25\n"
     ]
    }
   ],
   "source": [
    "square_obj = sq_func([1,2,3,4,5])\n",
    "for i in square_obj:\n",
    "    print(i)"
   ]
  },
  {
   "cell_type": "code",
   "execution_count": 17,
   "id": "23139cbd",
   "metadata": {},
   "outputs": [
    {
     "data": {
      "text/plain": [
       "'First Statement'"
      ]
     },
     "execution_count": 17,
     "metadata": {},
     "output_type": "execute_result"
    }
   ],
   "source": [
    "def gen():\n",
    "    return \"First Statement\"\n",
    "    return \"Second Statement\"\n",
    "    return \"Third Statement\"\n",
    "gen()"
   ]
  },
  {
   "cell_type": "code",
   "execution_count": 19,
   "id": "7faa211a",
   "metadata": {},
   "outputs": [
    {
     "data": {
      "text/plain": [
       "<generator object gen at 0x00000130241CBC80>"
      ]
     },
     "execution_count": 19,
     "metadata": {},
     "output_type": "execute_result"
    }
   ],
   "source": [
    "def gen():\n",
    "    yield \"First Statement\"\n",
    "    yield \"Second Statement\"\n",
    "    yield \"Third Statement\"\n",
    "x = gen()\n",
    "x"
   ]
  },
  {
   "cell_type": "code",
   "execution_count": 20,
   "id": "8888a7c8",
   "metadata": {},
   "outputs": [
    {
     "data": {
      "text/plain": [
       "'First Statement'"
      ]
     },
     "execution_count": 20,
     "metadata": {},
     "output_type": "execute_result"
    }
   ],
   "source": [
    "next(x)"
   ]
  },
  {
   "cell_type": "code",
   "execution_count": 21,
   "id": "622bfe6a",
   "metadata": {},
   "outputs": [
    {
     "data": {
      "text/plain": [
       "'Second Statement'"
      ]
     },
     "execution_count": 21,
     "metadata": {},
     "output_type": "execute_result"
    }
   ],
   "source": [
    "next(x)"
   ]
  },
  {
   "cell_type": "code",
   "execution_count": 22,
   "id": "6b647c2a",
   "metadata": {},
   "outputs": [
    {
     "data": {
      "text/plain": [
       "'Third Statement'"
      ]
     },
     "execution_count": 22,
     "metadata": {},
     "output_type": "execute_result"
    }
   ],
   "source": [
    "next(x)"
   ]
  },
  {
   "cell_type": "code",
   "execution_count": 23,
   "id": "9c8e0268",
   "metadata": {},
   "outputs": [
    {
     "ename": "StopIteration",
     "evalue": "",
     "output_type": "error",
     "traceback": [
      "\u001b[1;31m---------------------------------------------------------------------------\u001b[0m",
      "\u001b[1;31mStopIteration\u001b[0m                             Traceback (most recent call last)",
      "Cell \u001b[1;32mIn [23], line 1\u001b[0m\n\u001b[1;32m----> 1\u001b[0m \u001b[38;5;28;43mnext\u001b[39;49m\u001b[43m(\u001b[49m\u001b[43mx\u001b[49m\u001b[43m)\u001b[49m\n",
      "\u001b[1;31mStopIteration\u001b[0m: "
     ]
    }
   ],
   "source": [
    "next(x)"
   ]
  }
 ],
 "metadata": {
  "kernelspec": {
   "display_name": "Python 3 (ipykernel)",
   "language": "python",
   "name": "python3"
  },
  "language_info": {
   "codemirror_mode": {
    "name": "ipython",
    "version": 3
   },
   "file_extension": ".py",
   "mimetype": "text/x-python",
   "name": "python",
   "nbconvert_exporter": "python",
   "pygments_lexer": "ipython3",
   "version": "3.12.4"
  }
 },
 "nbformat": 4,
 "nbformat_minor": 5
}
