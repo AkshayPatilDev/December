{
 "cells": [
  {
   "cell_type": "markdown",
   "id": "1528a888",
   "metadata": {},
   "source": [
    "##### Functions\n",
    "- Functions are an organized block of reusable code\n",
    "- Functions will gets executed only when it gets called\n",
    "- def keyword is used to define a function\n",
    "- Function calling = my_funcname(),my_funcname1(arg1,arg2)\n",
    "- Function name should follow the identifier rules"
   ]
  },
  {
   "cell_type": "raw",
   "id": "0160b600",
   "metadata": {},
   "source": [
    "f(z) = 3x + 4y #4,5/1,3/100,200\n",
    "3*4 + 4*5\n",
    "3*1 + 4*3\n",
    "3*100 + 4*200\n",
    "\n",
    "3x + 4y #4,5/1,3/100,200"
   ]
  },
  {
   "cell_type": "markdown",
   "id": "4ce4922d",
   "metadata": {},
   "source": [
    "# Syntax"
   ]
  },
  {
   "cell_type": "raw",
   "id": "8342ee42",
   "metadata": {},
   "source": [
    "def my_funcionname(): #Defining a function\n",
    "    statement-1 | \n",
    "    statement-2 |\n",
    "    statement-3 |-----------------> Block of code\n",
    "        .       |\n",
    "        .       |\n",
    "    statement-n |\n",
    "    \n",
    "my_funcionname()   #Calling a function\n",
    "\n",
    "\n",
    "def my_funcionname(parameter1,parameter2): #Defining a function with parameter\n",
    "    statement-1 | \n",
    "    statement-2 |\n",
    "    statement-3 |-----------------> Block of code\n",
    "        .       |\n",
    "        .       |\n",
    "    statement-n |\n",
    "    \n",
    "my_funcionname(argument1,argument2)   #Calling a function with argument\n"
   ]
  },
  {
   "cell_type": "code",
   "execution_count": 8,
   "id": "c4298183",
   "metadata": {},
   "outputs": [
    {
     "name": "stdout",
     "output_type": "stream",
     "text": [
      "-------------------------\n",
      "We are learning functions\n",
      "-------------------------\n",
      "\n",
      "-------------------------\n",
      "We are learning functions\n",
      "-------------------------\n",
      "\n",
      "-------------------------\n",
      "We are learning functions\n",
      "-------------------------\n",
      "\n",
      "-------------------------\n",
      "We are learning functions\n",
      "-------------------------\n",
      "\n",
      "-------------------------\n",
      "We are learning functions\n",
      "-------------------------\n"
     ]
    }
   ],
   "source": [
    "print(\"-\"*25)\n",
    "print(\"We are learning functions\") #4\n",
    "print(\"-\"*25)\n",
    "print()\n",
    "print(\"-\"*25)\n",
    "print(\"We are learning functions\") #4\n",
    "print(\"-\"*25)\n",
    "print()\n",
    "print(\"-\"*25)\n",
    "print(\"We are learning functions\") #4       Total lines  = 20\n",
    "print(\"-\"*25)\n",
    "print()\n",
    "print(\"-\"*25)\n",
    "print(\"We are learning functions\") #4\n",
    "print(\"-\"*25)\n",
    "print()\n",
    "print(\"-\"*25)\n",
    "print(\"We are learning functions\") #4\n",
    "print(\"-\"*25)"
   ]
  },
  {
   "cell_type": "code",
   "execution_count": 6,
   "id": "2aab8169",
   "metadata": {},
   "outputs": [
    {
     "name": "stdout",
     "output_type": "stream",
     "text": [
      "-------------------------\n",
      "We are learning functions\n",
      "-------------------------\n",
      "\n"
     ]
    }
   ],
   "source": [
    "def welcome_noteForFunction(): #-->Defining a function\n",
    "    print(\"-\"*25)\n",
    "    print(\"We are learning functions\")\n",
    "    print(\"-\"*25)\n",
    "    print()\n",
    "welcome_noteForFunction()      #---->Calling a function"
   ]
  },
  {
   "cell_type": "code",
   "execution_count": 7,
   "id": "c284c2f2",
   "metadata": {},
   "outputs": [
    {
     "name": "stdout",
     "output_type": "stream",
     "text": [
      "-------------------------\n",
      "We are learning functions\n",
      "-------------------------\n",
      "\n",
      "-------------------------\n",
      "We are learning functions\n",
      "-------------------------\n",
      "\n",
      "-------------------------\n",
      "We are learning functions\n",
      "-------------------------\n",
      "\n",
      "-------------------------\n",
      "We are learning functions\n",
      "-------------------------\n",
      "\n",
      "-------------------------\n",
      "We are learning functions\n",
      "-------------------------\n",
      "\n"
     ]
    }
   ],
   "source": [
    "def welcome_noteForFunction():\n",
    "    print(\"-\"*25)\n",
    "    print(\"We are learning functions\")\n",
    "    print(\"-\"*25)\n",
    "    print()\n",
    "welcome_noteForFunction()\n",
    "welcome_noteForFunction()\n",
    "welcome_noteForFunction()\n",
    "welcome_noteForFunction()\n",
    "welcome_noteForFunction()"
   ]
  },
  {
   "cell_type": "code",
   "execution_count": 12,
   "id": "640dec60",
   "metadata": {},
   "outputs": [
    {
     "name": "stdout",
     "output_type": "stream",
     "text": [
      "List = [1, 2, 3]\n",
      "Summation = 6\n",
      "List = [11, 22, 33]\n",
      "Summation = 66\n",
      "List = [111, 222, 333]\n",
      "Summation = 666\n"
     ]
    }
   ],
   "source": [
    "li1 = [1,2,3]\n",
    "print(f\"List = {li1}\")\n",
    "summation = 0\n",
    "for i in li1:\n",
    "    summation += i\n",
    "print(f\"Summation = {summation}\")\n",
    "\n",
    "li2 = [11,22,33]\n",
    "print(f\"List = {li2}\")\n",
    "summation = 0\n",
    "for i in li2:\n",
    "    summation += i\n",
    "print(f\"Summation = {summation}\")\n",
    "\n",
    "li3 = [111,222,333]\n",
    "print(f\"List = {li3}\")\n",
    "summation = 0\n",
    "for i in li3:\n",
    "    summation += i\n",
    "print(f\"Summation = {summation}\")"
   ]
  },
  {
   "cell_type": "code",
   "execution_count": 13,
   "id": "eda5b5dd",
   "metadata": {},
   "outputs": [
    {
     "name": "stdout",
     "output_type": "stream",
     "text": [
      "List = [1, 2, 3]\n",
      "The summation = 6\n",
      "List = [11, 22, 33]\n",
      "The summation = 66\n",
      "List = [111, 222, 333]\n",
      "The summation = 666\n"
     ]
    }
   ],
   "source": [
    "def get_sum(list1):\n",
    "    print(f\"List = {list1}\")\n",
    "    summation = 0\n",
    "    for i in list1:\n",
    "        summation += i\n",
    "    print(f\"The summation = {summation}\")\n",
    "\n",
    "get_sum([1,2,3])\n",
    "get_sum([11,22,33])\n",
    "get_sum([111,222,333])"
   ]
  },
  {
   "cell_type": "code",
   "execution_count": 15,
   "id": "42995e3d",
   "metadata": {},
   "outputs": [
    {
     "name": "stdout",
     "output_type": "stream",
     "text": [
      "Python Function\n",
      "Functions are Great\n",
      "Functions are Great\n",
      "Functions are Great\n",
      "Functions are Great\n",
      "Functions are Great\n",
      "\n",
      "Python Function\n",
      "Functions are Great\n",
      "Functions are Great\n",
      "Functions are Great\n",
      "Functions are Great\n",
      "Functions are Great\n",
      "\n",
      "Python Function\n",
      "Functions are Great\n",
      "Functions are Great\n",
      "Functions are Great\n",
      "Functions are Great\n",
      "Functions are Great\n",
      "\n"
     ]
    }
   ],
   "source": [
    "print(\"Python Function\")\n",
    "for i in range(5):\n",
    "    print(\"Functions are Great\")\n",
    "print()\n",
    "\n",
    "print(\"Python Function\")\n",
    "for i in range(5):\n",
    "    print(\"Functions are Great\")\n",
    "print()\n",
    "\n",
    "print(\"Python Function\")\n",
    "for i in range(5):\n",
    "    print(\"Functions are Great\")\n",
    "print()"
   ]
  },
  {
   "cell_type": "code",
   "execution_count": 17,
   "id": "c2d2f598",
   "metadata": {},
   "outputs": [
    {
     "name": "stdout",
     "output_type": "stream",
     "text": [
      "Python Function\n",
      "Functions are Great\n",
      "Functions are Great\n",
      "Functions are Great\n",
      "Functions are Great\n",
      "Functions are Great\n",
      "\n",
      "Python Function\n",
      "Functions are Great\n",
      "Functions are Great\n",
      "Functions are Great\n",
      "Functions are Great\n",
      "Functions are Great\n",
      "Functions are Great\n",
      "Functions are Great\n",
      "\n",
      "Python Function\n",
      "Functions are Great\n",
      "Functions are Great\n",
      "Functions are Great\n",
      "Functions are Great\n",
      "Functions are Great\n",
      "Functions are Great\n",
      "Functions are Great\n",
      "Functions are Great\n",
      "Functions are Great\n",
      "\n"
     ]
    }
   ],
   "source": [
    "def get_print(n):\n",
    "    print(\"Python Function\")\n",
    "    for i in range(n):\n",
    "        print(\"Functions are Great\")\n",
    "    print()\n",
    "    \n",
    "get_print(5)\n",
    "get_print(7)\n",
    "get_print(9)"
   ]
  },
  {
   "cell_type": "markdown",
   "id": "4e2e8a34",
   "metadata": {},
   "source": [
    "## Avg of 3 numbers"
   ]
  },
  {
   "cell_type": "code",
   "execution_count": 19,
   "id": "0eb8345b",
   "metadata": {},
   "outputs": [
    {
     "name": "stdout",
     "output_type": "stream",
     "text": [
      "Num1 = 10, Num2 = 20, Num3 = 30\n",
      "The Average of number = 20.0\n",
      "\n",
      "Num1 = 100, Num2 = 200, Num3 = 300\n",
      "The Average of number = 200.0\n",
      "\n",
      "Num1 = 1000, Num2 = 2000, Num3 = 3000\n",
      "The Average of number = 2000.0\n",
      "\n"
     ]
    }
   ],
   "source": [
    "num1 = 10\n",
    "num2 = 20\n",
    "num3 = 30\n",
    "print(f\"Num1 = {num1}, Num2 = {num2}, Num3 = {num3}\")\n",
    "avg = (num1+num2+num3)/3\n",
    "print(f\"The Average of number = {avg}\")\n",
    "print()\n",
    "\n",
    "num1 = 100\n",
    "num2 = 200\n",
    "num3 = 300\n",
    "print(f\"Num1 = {num1}, Num2 = {num2}, Num3 = {num3}\")\n",
    "avg = (num1+num2+num3)/3\n",
    "print(f\"The Average of number = {avg}\")\n",
    "print()\n",
    "\n",
    "num1 = 1000\n",
    "num2 = 2000\n",
    "num3 = 3000\n",
    "print(f\"Num1 = {num1}, Num2 = {num2}, Num3 = {num3}\")\n",
    "avg = (num1+num2+num3)/3\n",
    "print(f\"The Average of number = {avg}\")\n",
    "print()"
   ]
  },
  {
   "cell_type": "code",
   "execution_count": 21,
   "id": "0ebb4098",
   "metadata": {},
   "outputs": [
    {
     "name": "stdout",
     "output_type": "stream",
     "text": [
      "Num1 = 10, Num2 = 20, Num3 = 30\n",
      "The Average = 20.0\n",
      "\n",
      "Num1 = 100, Num2 = 200, Num3 = 300\n",
      "The Average = 200.0\n",
      "\n",
      "Num1 = 1000, Num2 = 2000, Num3 = 3000\n",
      "The Average = 2000.0\n",
      "\n"
     ]
    }
   ],
   "source": [
    "def get_avg(num1,num2,num3):\n",
    "    print(f\"Num1 = {num1}, Num2 = {num2}, Num3 = {num3}\")\n",
    "    avg = (num1+num2+num3)/3\n",
    "    print(f\"The Average = {avg}\")\n",
    "    print()\n",
    "    \n",
    "get_avg(10,20,30)\n",
    "get_avg(100,200,300)\n",
    "get_avg(1000,2000,3000)"
   ]
  },
  {
   "cell_type": "markdown",
   "id": "abfa15af",
   "metadata": {},
   "source": [
    "## Number of Arguments = Number of parameters"
   ]
  },
  {
   "cell_type": "code",
   "execution_count": 22,
   "id": "c911023e",
   "metadata": {},
   "outputs": [
    {
     "name": "stdout",
     "output_type": "stream",
     "text": [
      "Val1 = 10 and Val2 = 20\n"
     ]
    }
   ],
   "source": [
    "def dummy_func(val1,val2):\n",
    "    print(f\"Val1 = {val1} and Val2 = {val2}\")\n",
    "dummy_func(10,20)"
   ]
  },
  {
   "cell_type": "code",
   "execution_count": 23,
   "id": "a2fbbfea",
   "metadata": {},
   "outputs": [
    {
     "ename": "TypeError",
     "evalue": "dummy_func() missing 1 required positional argument: 'val2'",
     "output_type": "error",
     "traceback": [
      "\u001b[1;31m---------------------------------------------------------------------------\u001b[0m",
      "\u001b[1;31mTypeError\u001b[0m                                 Traceback (most recent call last)",
      "\u001b[1;32m~\\AppData\\Local\\Temp/ipykernel_10144/2337769546.py\u001b[0m in \u001b[0;36m<module>\u001b[1;34m\u001b[0m\n\u001b[0;32m      1\u001b[0m \u001b[1;32mdef\u001b[0m \u001b[0mdummy_func\u001b[0m\u001b[1;33m(\u001b[0m\u001b[0mval1\u001b[0m\u001b[1;33m,\u001b[0m\u001b[0mval2\u001b[0m\u001b[1;33m)\u001b[0m\u001b[1;33m:\u001b[0m\u001b[1;33m\u001b[0m\u001b[1;33m\u001b[0m\u001b[0m\n\u001b[0;32m      2\u001b[0m     \u001b[0mprint\u001b[0m\u001b[1;33m(\u001b[0m\u001b[1;34mf\"Val1 = {val1} and Val2 = {val2}\"\u001b[0m\u001b[1;33m)\u001b[0m\u001b[1;33m\u001b[0m\u001b[1;33m\u001b[0m\u001b[0m\n\u001b[1;32m----> 3\u001b[1;33m \u001b[0mdummy_func\u001b[0m\u001b[1;33m(\u001b[0m\u001b[1;36m10\u001b[0m\u001b[1;33m)\u001b[0m\u001b[1;33m\u001b[0m\u001b[1;33m\u001b[0m\u001b[0m\n\u001b[0m",
      "\u001b[1;31mTypeError\u001b[0m: dummy_func() missing 1 required positional argument: 'val2'"
     ]
    }
   ],
   "source": [
    "def dummy_func(val1,val2):\n",
    "    print(f\"Val1 = {val1} and Val2 = {val2}\")\n",
    "dummy_func(10)"
   ]
  },
  {
   "cell_type": "code",
   "execution_count": 24,
   "id": "e43edf31",
   "metadata": {},
   "outputs": [
    {
     "ename": "TypeError",
     "evalue": "dummy_func() takes 2 positional arguments but 3 were given",
     "output_type": "error",
     "traceback": [
      "\u001b[1;31m---------------------------------------------------------------------------\u001b[0m",
      "\u001b[1;31mTypeError\u001b[0m                                 Traceback (most recent call last)",
      "\u001b[1;32m~\\AppData\\Local\\Temp/ipykernel_10144/2358873379.py\u001b[0m in \u001b[0;36m<module>\u001b[1;34m\u001b[0m\n\u001b[0;32m      1\u001b[0m \u001b[1;32mdef\u001b[0m \u001b[0mdummy_func\u001b[0m\u001b[1;33m(\u001b[0m\u001b[0mval1\u001b[0m\u001b[1;33m,\u001b[0m\u001b[0mval2\u001b[0m\u001b[1;33m)\u001b[0m\u001b[1;33m:\u001b[0m\u001b[1;33m\u001b[0m\u001b[1;33m\u001b[0m\u001b[0m\n\u001b[0;32m      2\u001b[0m     \u001b[0mprint\u001b[0m\u001b[1;33m(\u001b[0m\u001b[1;34mf\"Val1 = {val1} and Val2 = {val2}\"\u001b[0m\u001b[1;33m)\u001b[0m\u001b[1;33m\u001b[0m\u001b[1;33m\u001b[0m\u001b[0m\n\u001b[1;32m----> 3\u001b[1;33m \u001b[0mdummy_func\u001b[0m\u001b[1;33m(\u001b[0m\u001b[1;36m10\u001b[0m\u001b[1;33m,\u001b[0m\u001b[1;36m20\u001b[0m\u001b[1;33m,\u001b[0m\u001b[1;36m30\u001b[0m\u001b[1;33m)\u001b[0m\u001b[1;33m\u001b[0m\u001b[1;33m\u001b[0m\u001b[0m\n\u001b[0m",
      "\u001b[1;31mTypeError\u001b[0m: dummy_func() takes 2 positional arguments but 3 were given"
     ]
    }
   ],
   "source": [
    "def dummy_func(val1,val2):\n",
    "    print(f\"Val1 = {val1} and Val2 = {val2}\")\n",
    "dummy_func(10,20,30)"
   ]
  },
  {
   "cell_type": "code",
   "execution_count": 25,
   "id": "70e6d436",
   "metadata": {},
   "outputs": [
    {
     "ename": "TypeError",
     "evalue": "dummy_func() takes 0 positional arguments but 1 was given",
     "output_type": "error",
     "traceback": [
      "\u001b[1;31m---------------------------------------------------------------------------\u001b[0m",
      "\u001b[1;31mTypeError\u001b[0m                                 Traceback (most recent call last)",
      "\u001b[1;32m~\\AppData\\Local\\Temp/ipykernel_10144/3270640332.py\u001b[0m in \u001b[0;36m<module>\u001b[1;34m\u001b[0m\n\u001b[0;32m      1\u001b[0m \u001b[1;32mdef\u001b[0m \u001b[0mdummy_func\u001b[0m\u001b[1;33m(\u001b[0m\u001b[1;33m)\u001b[0m\u001b[1;33m:\u001b[0m\u001b[1;33m\u001b[0m\u001b[1;33m\u001b[0m\u001b[0m\n\u001b[0;32m      2\u001b[0m     \u001b[0mprint\u001b[0m\u001b[1;33m(\u001b[0m\u001b[1;34mf\"Val1 = {val1} and Val2 = {val2}\"\u001b[0m\u001b[1;33m)\u001b[0m\u001b[1;33m\u001b[0m\u001b[1;33m\u001b[0m\u001b[0m\n\u001b[1;32m----> 3\u001b[1;33m \u001b[0mdummy_func\u001b[0m\u001b[1;33m(\u001b[0m\u001b[1;36m10\u001b[0m\u001b[1;33m)\u001b[0m\u001b[1;33m\u001b[0m\u001b[1;33m\u001b[0m\u001b[0m\n\u001b[0m",
      "\u001b[1;31mTypeError\u001b[0m: dummy_func() takes 0 positional arguments but 1 was given"
     ]
    }
   ],
   "source": [
    "def dummy_func():\n",
    "    print(f\"Val1 = {val1} and Val2 = {val2}\")\n",
    "dummy_func(10)"
   ]
  },
  {
   "cell_type": "code",
   "execution_count": 27,
   "id": "b8dcc32b",
   "metadata": {},
   "outputs": [
    {
     "ename": "NameError",
     "evalue": "name 'val2' is not defined",
     "output_type": "error",
     "traceback": [
      "\u001b[1;31m---------------------------------------------------------------------------\u001b[0m",
      "\u001b[1;31mNameError\u001b[0m                                 Traceback (most recent call last)",
      "\u001b[1;32m~\\AppData\\Local\\Temp/ipykernel_10144/1767372307.py\u001b[0m in \u001b[0;36m<module>\u001b[1;34m\u001b[0m\n\u001b[0;32m      1\u001b[0m \u001b[1;32mdef\u001b[0m \u001b[0mdummy_func\u001b[0m\u001b[1;33m(\u001b[0m\u001b[0mval1\u001b[0m\u001b[1;33m)\u001b[0m\u001b[1;33m:\u001b[0m\u001b[1;33m\u001b[0m\u001b[1;33m\u001b[0m\u001b[0m\n\u001b[0;32m      2\u001b[0m     \u001b[0mprint\u001b[0m\u001b[1;33m(\u001b[0m\u001b[1;34mf\"Val1 = {val1} and Val2 = {val2}\"\u001b[0m\u001b[1;33m)\u001b[0m\u001b[1;33m\u001b[0m\u001b[1;33m\u001b[0m\u001b[0m\n\u001b[1;32m----> 3\u001b[1;33m \u001b[0mdummy_func\u001b[0m\u001b[1;33m(\u001b[0m\u001b[1;36m10\u001b[0m\u001b[1;33m)\u001b[0m\u001b[1;33m\u001b[0m\u001b[1;33m\u001b[0m\u001b[0m\n\u001b[0m",
      "\u001b[1;32m~\\AppData\\Local\\Temp/ipykernel_10144/1767372307.py\u001b[0m in \u001b[0;36mdummy_func\u001b[1;34m(val1)\u001b[0m\n\u001b[0;32m      1\u001b[0m \u001b[1;32mdef\u001b[0m \u001b[0mdummy_func\u001b[0m\u001b[1;33m(\u001b[0m\u001b[0mval1\u001b[0m\u001b[1;33m)\u001b[0m\u001b[1;33m:\u001b[0m\u001b[1;33m\u001b[0m\u001b[1;33m\u001b[0m\u001b[0m\n\u001b[1;32m----> 2\u001b[1;33m     \u001b[0mprint\u001b[0m\u001b[1;33m(\u001b[0m\u001b[1;34mf\"Val1 = {val1} and Val2 = {val2}\"\u001b[0m\u001b[1;33m)\u001b[0m\u001b[1;33m\u001b[0m\u001b[1;33m\u001b[0m\u001b[0m\n\u001b[0m\u001b[0;32m      3\u001b[0m \u001b[0mdummy_func\u001b[0m\u001b[1;33m(\u001b[0m\u001b[1;36m10\u001b[0m\u001b[1;33m)\u001b[0m\u001b[1;33m\u001b[0m\u001b[1;33m\u001b[0m\u001b[0m\n",
      "\u001b[1;31mNameError\u001b[0m: name 'val2' is not defined"
     ]
    }
   ],
   "source": [
    "def dummy_func(val1):\n",
    "    print(f\"Val1 = {val1} and Val2 = {val2}\")\n",
    "dummy_func(10)"
   ]
  },
  {
   "cell_type": "code",
   "execution_count": 28,
   "id": "af54bf08",
   "metadata": {},
   "outputs": [
    {
     "name": "stdout",
     "output_type": "stream",
     "text": [
      "Val1 = 10 and Val2 = 100000\n"
     ]
    }
   ],
   "source": [
    "def dummy_func(val1):\n",
    "    val2 = 100000\n",
    "    print(f\"Val1 = {val1} and Val2 = {val2}\")\n",
    "dummy_func(10)"
   ]
  },
  {
   "cell_type": "code",
   "execution_count": 33,
   "id": "c7166093",
   "metadata": {},
   "outputs": [
    {
     "name": "stdout",
     "output_type": "stream",
     "text": [
      "Input List = [5, 7, 4, 65, 3, 5, 7, 9, 0, 6, 4, 2, 5, 76, 9, 45, 34, 65, 876]\n",
      "Even number list = [4, 0, 6, 4, 2, 76, 34, 876]\n",
      "Odd number list = [5, 7, 65, 3, 5, 7, 9, 5, 9, 45, 65]\n",
      "-------------------------------------------------------------------------------------\n",
      "Input List = [5, 7, 65, 3, 5, 7, 9, 5, 9, 45, 65]\n",
      "Even number list = []\n",
      "Odd number list = [5, 7, 65, 3, 5, 7, 9, 5, 9, 45, 65]\n",
      "-------------------------------------------------------------------------------------\n",
      "Input List = [4, 0, 6, 4, 2, 76, 34, 876]\n",
      "Even number list = [4, 0, 6, 4, 2, 76, 34, 876]\n",
      "Odd number list = []\n",
      "-------------------------------------------------------------------------------------\n"
     ]
    }
   ],
   "source": [
    "li = [5,7,4,65,3,5,7,9,0,6,4,2,5,76,9,45,34,65,876]\n",
    "print(f\"Input List = {li}\")\n",
    "even_li = []\n",
    "odd_li = []\n",
    "for i in li:\n",
    "    if i % 2 == 0:\n",
    "        even_li.append(i)\n",
    "    else:\n",
    "        odd_li.append(i)\n",
    "        \n",
    "print(f\"Even number list = {even_li}\")\n",
    "print(f\"Odd number list = {odd_li}\")\n",
    "print(\"-\"*85)\n",
    "\n",
    "li = [5, 7, 65, 3, 5, 7, 9, 5, 9, 45, 65]\n",
    "print(f\"Input List = {li}\")\n",
    "even_li = []\n",
    "odd_li = []\n",
    "for i in li:\n",
    "    if i % 2 == 0:\n",
    "        even_li.append(i)\n",
    "    else:\n",
    "        odd_li.append(i)\n",
    "        \n",
    "print(f\"Even number list = {even_li}\")\n",
    "print(f\"Odd number list = {odd_li}\")\n",
    "print(\"-\"*85)\n",
    "\n",
    "li = [4, 0, 6, 4, 2, 76, 34, 876]\n",
    "print(f\"Input List = {li}\")\n",
    "even_li = []\n",
    "odd_li = []\n",
    "for i in li:\n",
    "    if i % 2 == 0:\n",
    "        even_li.append(i)\n",
    "    else:\n",
    "        odd_li.append(i)\n",
    "        \n",
    "print(f\"Even number list = {even_li}\")\n",
    "print(f\"Odd number list = {odd_li}\")\n",
    "print(\"-\"*85)\n"
   ]
  },
  {
   "cell_type": "code",
   "execution_count": 40,
   "id": "60340341",
   "metadata": {},
   "outputs": [
    {
     "name": "stdout",
     "output_type": "stream",
     "text": [
      "Input List = [5, 7, 4, 65, 3, 5, 7, 9, 0, 6, 4, 2, 5, 76, 9, 45, 34, 65, 876]\n",
      "Even Number List = [4, 0, 6, 4, 2, 76, 34, 876]\n",
      "Odd Number List = [5, 7, 65, 3, 5, 7, 9, 5, 9, 45, 65]\n",
      "-------------------------------------------------------------------------------------\n",
      "Input List = [5, 7, 65, 3, 5, 7, 9, 5, 9, 45, 65]\n",
      "Even Number List = []\n",
      "Odd Number List = [5, 7, 65, 3, 5, 7, 9, 5, 9, 45, 65]\n",
      "-------------------------------------------------------------------------------------\n",
      "Input List = [4, 0, 6, 4, 2, 76, 34, 876]\n",
      "Even Number List = [4, 0, 6, 4, 2, 76, 34, 876]\n",
      "Odd Number List = []\n",
      "-------------------------------------------------------------------------------------\n",
      "Input List = [1, 5, 1, 2, 99, 3, 6, 87, 998, 65, 5, 41, 35, 9, 59, 354, 8, 18, 56, 4, 986, 894, 489]\n",
      "Even Number List = [2, 6, 998, 354, 8, 18, 56, 4, 986, 894]\n",
      "Odd Number List = [1, 5, 1, 99, 3, 87, 65, 5, 41, 35, 9, 59, 489]\n",
      "-------------------------------------------------------------------------------------\n"
     ]
    }
   ],
   "source": [
    "def get_Even_Odd_li(li):\n",
    "    print(f\"Input List = {li}\")\n",
    "    even_li = []\n",
    "    odd_li = []\n",
    "    for i in li:\n",
    "        if i % 2  == 0:\n",
    "            even_li.append(i)\n",
    "        else:\n",
    "            odd_li.append(i)\n",
    "    print(f\"Even Number List = {even_li}\")\n",
    "    print(f\"Odd Number List = {odd_li}\")\n",
    "    print(\"-\"*85)\n",
    "    \n",
    "get_Even_Odd_li([5, 7, 4, 65, 3, 5, 7, 9, 0, 6, 4, 2, 5, 76, 9, 45, 34, 65, 876])\n",
    "get_Even_Odd_li([5, 7, 65, 3, 5, 7, 9, 5, 9, 45, 65])\n",
    "get_Even_Odd_li([4, 0, 6, 4, 2, 76, 34, 876])\n",
    "get_Even_Odd_li([1,5,1,2,99,3,6,87,998,65,5,41,35,9,59,354,8,18,56,4,986,894,489])"
   ]
  },
  {
   "cell_type": "code",
   "execution_count": 43,
   "id": "cbdc99d1",
   "metadata": {},
   "outputs": [
    {
     "name": "stdout",
     "output_type": "stream",
     "text": [
      "Input Number List = [5, 7, 4, 65, 3, 5, 7, 9, 0, 6, 4, 2, 5, 76, 9, 45, 34, 65, 876]\n",
      "Even Number List = [4, 0, 6, 4, 2, 76, 34, 876]\n",
      "Odd Number List = [5, 7, 65, 3, 5, 7, 9, 5, 9, 45, 65]\n",
      "-------------------------------------------------------------------------------------\n",
      "Input Number List = [5, 7, 65, 3, 5, 7, 9, 5, 9, 45, 65]\n",
      "Even Number List = []\n",
      "Odd Number List = [5, 7, 65, 3, 5, 7, 9, 5, 9, 45, 65]\n",
      "-------------------------------------------------------------------------------------\n",
      "Input Number List = [4, 0, 6, 4, 2, 76, 34, 876]\n",
      "Even Number List = [4, 0, 6, 4, 2, 76, 34, 876]\n",
      "Odd Number List = []\n",
      "-------------------------------------------------------------------------------------\n",
      "Input Number List = [1, 5, 1, 2, 99, 3, 6, 87, 998, 65, 5, 41, 35, 9, 59, 354, 8, 18, 56, 4, 986, 894, 489]\n",
      "Even Number List = [2, 6, 998, 354, 8, 18, 56, 4, 986, 894]\n",
      "Odd Number List = [1, 5, 1, 99, 3, 87, 65, 5, 41, 35, 9, 59, 489]\n",
      "-------------------------------------------------------------------------------------\n"
     ]
    }
   ],
   "source": [
    "def get_Even_Odd_li(li):\n",
    "    print(f\"Input Number List = {li}\")\n",
    "    even_li = [i for i in li if i % 2 == 0]\n",
    "    odd_li = [i for i in li if i % 2 != 0]\n",
    "    print(f\"Even Number List = {even_li}\")\n",
    "    print(f\"Odd Number List = {odd_li}\")\n",
    "    print(\"-\"*85)\n",
    "    \n",
    "get_Even_Odd_li([5, 7, 4, 65, 3, 5, 7, 9, 0, 6, 4, 2, 5, 76, 9, 45, 34, 65, 876])\n",
    "get_Even_Odd_li([5, 7, 65, 3, 5, 7, 9, 5, 9, 45, 65])\n",
    "get_Even_Odd_li([4, 0, 6, 4, 2, 76, 34, 876])\n",
    "get_Even_Odd_li([1,5,1,2,99,3,6,87,998,65,5,41,35,9,59,354,8,18,56,4,986,894,489])"
   ]
  },
  {
   "cell_type": "markdown",
   "id": "211eee89",
   "metadata": {},
   "source": [
    "## Return statement"
   ]
  },
  {
   "cell_type": "code",
   "execution_count": 46,
   "id": "7dc2fbc4",
   "metadata": {},
   "outputs": [
    {
     "data": {
      "text/plain": [
       "30"
      ]
     },
     "execution_count": 46,
     "metadata": {},
     "output_type": "execute_result"
    }
   ],
   "source": [
    "def learning_return():\n",
    "    x = 10\n",
    "    y = 20\n",
    "    return x+y\n",
    "learning_return()"
   ]
  },
  {
   "cell_type": "code",
   "execution_count": 47,
   "id": "1b6a71b9",
   "metadata": {},
   "outputs": [
    {
     "data": {
      "text/plain": [
       "530"
      ]
     },
     "execution_count": 47,
     "metadata": {},
     "output_type": "execute_result"
    }
   ],
   "source": [
    "def learning_return():\n",
    "    x = 10\n",
    "    y = 20\n",
    "    return x+y\n",
    "learning_return()+500"
   ]
  },
  {
   "cell_type": "code",
   "execution_count": 48,
   "id": "75d1baca",
   "metadata": {},
   "outputs": [
    {
     "name": "stdout",
     "output_type": "stream",
     "text": [
      "30\n"
     ]
    }
   ],
   "source": [
    "def learning_return():\n",
    "    x = 10\n",
    "    y = 20\n",
    "    return x+y\n",
    "res = learning_return()\n",
    "print(res)"
   ]
  },
  {
   "cell_type": "code",
   "execution_count": 50,
   "id": "0c5584fd",
   "metadata": {},
   "outputs": [
    {
     "name": "stdout",
     "output_type": "stream",
     "text": [
      "The Result of learning_return function = 30\n"
     ]
    }
   ],
   "source": [
    "def print_res():\n",
    "    print(f\"The Result of learning_return function = {res}\")\n",
    "print_res()"
   ]
  },
  {
   "cell_type": "code",
   "execution_count": 51,
   "id": "b4747d3d",
   "metadata": {},
   "outputs": [
    {
     "ename": "SyntaxError",
     "evalue": "cannot assign to operator (Temp/ipykernel_10144/2738528365.py, line 1)",
     "output_type": "error",
     "traceback": [
      "\u001b[1;36m  File \u001b[1;32m\"C:\\Users\\Mohit\\AppData\\Local\\Temp/ipykernel_10144/2738528365.py\"\u001b[1;36m, line \u001b[1;32m1\u001b[0m\n\u001b[1;33m    get_min&max = 0\u001b[0m\n\u001b[1;37m    ^\u001b[0m\n\u001b[1;31mSyntaxError\u001b[0m\u001b[1;31m:\u001b[0m cannot assign to operator\n"
     ]
    }
   ],
   "source": [
    "get_min&max = 0"
   ]
  },
  {
   "cell_type": "code",
   "execution_count": 60,
   "id": "61bbfb88",
   "metadata": {},
   "outputs": [
    {
     "data": {
      "text/plain": [
       "(1, 5)"
      ]
     },
     "execution_count": 60,
     "metadata": {},
     "output_type": "execute_result"
    }
   ],
   "source": [
    "def get_min_max(li):\n",
    "    minimum = min(li)\n",
    "    maximum = max(li)\n",
    "    return minimum,maximum\n",
    "get_min_max([1,2,3,4,5])"
   ]
  },
  {
   "cell_type": "code",
   "execution_count": 55,
   "id": "68cc4b3b",
   "metadata": {},
   "outputs": [],
   "source": [
    "a,b = (1,2) "
   ]
  },
  {
   "cell_type": "code",
   "execution_count": 56,
   "id": "7031a523",
   "metadata": {},
   "outputs": [
    {
     "data": {
      "text/plain": [
       "1"
      ]
     },
     "execution_count": 56,
     "metadata": {},
     "output_type": "execute_result"
    }
   ],
   "source": [
    "a"
   ]
  },
  {
   "cell_type": "code",
   "execution_count": 57,
   "id": "1877b79f",
   "metadata": {},
   "outputs": [
    {
     "data": {
      "text/plain": [
       "2"
      ]
     },
     "execution_count": 57,
     "metadata": {},
     "output_type": "execute_result"
    }
   ],
   "source": [
    "b"
   ]
  },
  {
   "cell_type": "code",
   "execution_count": 3,
   "id": "2c38faac",
   "metadata": {},
   "outputs": [
    {
     "name": "stdout",
     "output_type": "stream",
     "text": [
      "Minimum = 1\n",
      "Maximum = 5\n"
     ]
    }
   ],
   "source": [
    "def get_min_max(li):\n",
    "    minimum = min(li)\n",
    "    maximum = max(li)\n",
    "    return minimum,maximum\n",
    "get_min_max([1,2,3,4,5])\n",
    "print(f\"Minimum = {minimum}\")\n",
    "print(f\"Maximum = {maximum}\")"
   ]
  },
  {
   "cell_type": "code",
   "execution_count": 4,
   "id": "f9e09458",
   "metadata": {},
   "outputs": [
    {
     "name": "stdout",
     "output_type": "stream",
     "text": [
      "Minimum = 1\n"
     ]
    }
   ],
   "source": [
    "def get_min_max(li):\n",
    "    minimum = min(li)\n",
    "    maximum = max(li)\n",
    "    return minimum,maximum\n",
    "\n",
    "minimum , maximum = get_min_max([1,2,3,4,5])\n",
    "print(f\"Minimum = {minimum}\")"
   ]
  }
 ],
 "metadata": {
  "kernelspec": {
   "display_name": "Python 3 (ipykernel)",
   "language": "python",
   "name": "python3"
  },
  "language_info": {
   "codemirror_mode": {
    "name": "ipython",
    "version": 3
   },
   "file_extension": ".py",
   "mimetype": "text/x-python",
   "name": "python",
   "nbconvert_exporter": "python",
   "pygments_lexer": "ipython3",
   "version": "3.12.4"
  }
 },
 "nbformat": 4,
 "nbformat_minor": 5
}
