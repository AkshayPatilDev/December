{
 "cells": [
  {
   "cell_type": "markdown",
   "id": "0b88bfc3",
   "metadata": {},
   "source": [
    "# Introduction"
   ]
  },
  {
   "cell_type": "code",
   "execution_count": 1,
   "id": "3bbde9eb",
   "metadata": {
    "scrolled": true
   },
   "outputs": [
    {
     "name": "stdout",
     "output_type": "stream",
     "text": [
      "Hello world!\n"
     ]
    }
   ],
   "source": [
    "print(\"Hello world!\")"
   ]
  },
  {
   "cell_type": "code",
   "execution_count": 4,
   "id": "8fe25b28",
   "metadata": {},
   "outputs": [
    {
     "name": "stdout",
     "output_type": "stream",
     "text": [
      "Welcome to Python and Data Science class\n"
     ]
    }
   ],
   "source": [
    "print(\"Welcome to Python and Data Science class\")"
   ]
  },
  {
   "cell_type": "code",
   "execution_count": 5,
   "id": "eb0e31ac",
   "metadata": {},
   "outputs": [
    {
     "name": "stdout",
     "output_type": "stream",
     "text": [
      "Data science\n"
     ]
    },
    {
     "data": {
      "text/plain": [
       "100"
      ]
     },
     "execution_count": 5,
     "metadata": {},
     "output_type": "execute_result"
    }
   ],
   "source": [
    "print(\"Data science\")\n",
    "number = 100\n",
    "number"
   ]
  },
  {
   "cell_type": "code",
   "execution_count": 6,
   "id": "efc16867",
   "metadata": {},
   "outputs": [
    {
     "data": {
      "text/plain": [
       "100"
      ]
     },
     "execution_count": 6,
     "metadata": {},
     "output_type": "execute_result"
    }
   ],
   "source": [
    "number"
   ]
  },
  {
   "cell_type": "code",
   "execution_count": 7,
   "id": "6fea7a64",
   "metadata": {},
   "outputs": [
    {
     "data": {
      "text/plain": [
       "200"
      ]
     },
     "execution_count": 7,
     "metadata": {},
     "output_type": "execute_result"
    }
   ],
   "source": [
    "number1 = 100\n",
    "number1\n",
    "number2 = 200\n",
    "number2"
   ]
  },
  {
   "cell_type": "code",
   "execution_count": 8,
   "id": "ae9fe901",
   "metadata": {},
   "outputs": [
    {
     "name": "stdout",
     "output_type": "stream",
     "text": [
      "100\n"
     ]
    },
    {
     "data": {
      "text/plain": [
       "200"
      ]
     },
     "execution_count": 8,
     "metadata": {},
     "output_type": "execute_result"
    }
   ],
   "source": [
    "number1 = 100\n",
    "print(number1)\n",
    "number2 = 200\n",
    "number2"
   ]
  },
  {
   "cell_type": "code",
   "execution_count": 9,
   "id": "42bae8d9",
   "metadata": {},
   "outputs": [
    {
     "name": "stdout",
     "output_type": "stream",
     "text": [
      "100\n",
      "200\n"
     ]
    },
    {
     "data": {
      "text/plain": [
       "300"
      ]
     },
     "execution_count": 9,
     "metadata": {},
     "output_type": "execute_result"
    }
   ],
   "source": [
    "number1 = 100\n",
    "print(number1)\n",
    "number2 = 200\n",
    "print(number2)\n",
    "number3 = 300\n",
    "number3"
   ]
  },
  {
   "cell_type": "code",
   "execution_count": null,
   "id": "497459d5",
   "metadata": {},
   "outputs": [],
   "source": []
  },
  {
   "cell_type": "markdown",
   "id": "3712676d",
   "metadata": {},
   "source": []
  },
  {
   "cell_type": "markdown",
   "id": "80edfaa9",
   "metadata": {},
   "source": []
  },
  {
   "cell_type": "markdown",
   "id": "4342776d",
   "metadata": {},
   "source": []
  },
  {
   "cell_type": "markdown",
   "id": "ace4122b",
   "metadata": {},
   "source": [
    "# First using single hash\n",
    "## Second Heading\n",
    "### Third Heading\n",
    "#### Fourth Heading\n",
    "##### Fifth Heading"
   ]
  },
  {
   "cell_type": "markdown",
   "id": "19ba2025",
   "metadata": {},
   "source": [
    "# Data science"
   ]
  },
  {
   "cell_type": "raw",
   "id": "712d9fb3",
   "metadata": {},
   "source": [
    "Data science is an interdisciplinary field that uses scientific methods, processes, algorithms and systems to extract knowledge and insights from noisy, structured and unstructured data,[1][2] and apply knowledge from data across a broad range of application domains. Data science is related to data mining, machine learning and big data."
   ]
  },
  {
   "cell_type": "code",
   "execution_count": 10,
   "id": "a10c34ae",
   "metadata": {},
   "outputs": [
    {
     "data": {
      "text/plain": [
       "'Data science is an interdisciplinary field that uses scientific methods, processes, algorithms and systems to extract knowledge and insights from noisy, structured and unstructured data,[1][2] and apply knowledge from data across a broad range of application domains. Data science is related to data mining, machine learning and big data.'"
      ]
     },
     "execution_count": 10,
     "metadata": {},
     "output_type": "execute_result"
    }
   ],
   "source": [
    "\"\"\"Data science is an interdisciplinary field that uses scientific methods, processes, algorithms and systems to extract knowledge and insights from noisy, structured and unstructured data,[1][2] and apply knowledge from data across a broad range of application domains. Data science is related to data mining, machine learning and big data.\"\"\""
   ]
  },
  {
   "cell_type": "code",
   "execution_count": 13,
   "id": "5f6e2eac",
   "metadata": {},
   "outputs": [
    {
     "name": "stdout",
     "output_type": "stream",
     "text": [
      "Data science is an interdisciplinary field that uses scientific methods, processes, algorithms and systems to extract knowledge and insights from noisy, structured and unstructured data,[1][2] and apply knowledge from data across a broad range of application domains. Data science is related to data mining, machine learning and big data.\n"
     ]
    }
   ],
   "source": [
    "print(\"\"\"Data science is an interdisciplinary field that uses scientific methods, processes, algorithms and systems to extract knowledge and insights from noisy, structured and unstructured data,[1][2] and apply knowledge from data across a broad range of application domains. Data science is related to data mining, machine learning and big data.\"\"\")"
   ]
  },
  {
   "cell_type": "markdown",
   "id": "8ad2f682",
   "metadata": {},
   "source": [
    "# How to run a cell\n",
    "- 1. control + enter >>> Used to run the current cell\n",
    "    - 2. shift + enter >>> Used to execute current cell and enter into new cell\n",
    "        - 3. alt + enter >>>Used to execute cureent cell and create / add new blank cell"
   ]
  }
 ],
 "metadata": {
  "kernelspec": {
   "display_name": "Python 3 (ipykernel)",
   "language": "python",
   "name": "python3"
  },
  "language_info": {
   "codemirror_mode": {
    "name": "ipython",
    "version": 3
   },
   "file_extension": ".py",
   "mimetype": "text/x-python",
   "name": "python",
   "nbconvert_exporter": "python",
   "pygments_lexer": "ipython3",
   "version": "3.12.4"
  }
 },
 "nbformat": 4,
 "nbformat_minor": 5
}
