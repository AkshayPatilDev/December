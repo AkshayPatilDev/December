{
 "cells": [
  {
   "cell_type": "markdown",
   "id": "27070421",
   "metadata": {},
   "source": [
    "# Encapsulation\n",
    "- Encapsulation used to restrict the access of methods and variables from outside the class.\n",
    "- Protecting accidental change of data(Variables and Methods)"
   ]
  },
  {
   "cell_type": "code",
   "execution_count": 5,
   "id": "d1432cde",
   "metadata": {},
   "outputs": [
    {
     "name": "stdout",
     "output_type": "stream",
     "text": [
      "DummyClass __init__ Method\n",
      "500\n"
     ]
    },
    {
     "data": {
      "text/plain": [
       "'Data Science'"
      ]
     },
     "execution_count": 5,
     "metadata": {},
     "output_type": "execute_result"
    }
   ],
   "source": [
    "class DummyClass1:\n",
    "    dummy_var = 500                         # Public class variable\n",
    "    def __init__(self):\n",
    "        print(\"DummyClass __init__ Method\")\n",
    "        var2 = \"Python\"                     # Local Variable\n",
    "        self.var3 = \"Data Science\"          # Public Instance variable\n",
    "        \n",
    "obj = DummyClass1()\n",
    "print(obj.dummy_var)\n",
    "obj.var3\n"
   ]
  },
  {
   "cell_type": "code",
   "execution_count": 6,
   "id": "fa4e4d44",
   "metadata": {},
   "outputs": [
    {
     "name": "stdout",
     "output_type": "stream",
     "text": [
      "DummyClass __init__ Method\n",
      "500\n"
     ]
    },
    {
     "data": {
      "text/plain": [
       "'DATA SCIENCE'"
      ]
     },
     "execution_count": 6,
     "metadata": {},
     "output_type": "execute_result"
    }
   ],
   "source": [
    "class DummyClass1:\n",
    "    dummy_var = 500                         # Public class variable\n",
    "    def __init__(self):\n",
    "        print(\"DummyClass __init__ Method\")\n",
    "        var2 = \"Python\"                     # Local Variable\n",
    "        self.var3 = \"Data Science\"          # Public Instance variable\n",
    "        \n",
    "obj = DummyClass1()\n",
    "print(obj.dummy_var)\n",
    "obj.var3 = \"DATA SCIENCE\"                   # Updating public Instance Variable\n",
    "obj.var3\n"
   ]
  },
  {
   "cell_type": "code",
   "execution_count": 7,
   "id": "2044c279",
   "metadata": {},
   "outputs": [
    {
     "name": "stdout",
     "output_type": "stream",
     "text": [
      "DummyClass __init__ Method\n",
      "500\n",
      "5000\n"
     ]
    }
   ],
   "source": [
    "class DummyClass1:\n",
    "    dummy_var = 500                         # Public class variable\n",
    "    def __init__(self):\n",
    "        print(\"DummyClass __init__ Method\")\n",
    "        var2 = \"Python\"                     # Local Variable\n",
    "        self.var3 = \"Data Science\"          # Public Instance variable\n",
    "        \n",
    "obj = DummyClass1()\n",
    "print(obj.dummy_var)\n",
    "obj.dummy_var = 5000                   # Updating public Class Variable\n",
    "print(obj.dummy_var)\n"
   ]
  },
  {
   "cell_type": "code",
   "execution_count": 8,
   "id": "b433aab5",
   "metadata": {},
   "outputs": [
    {
     "name": "stdout",
     "output_type": "stream",
     "text": [
      "DummyClass __init__ Method\n"
     ]
    },
    {
     "ename": "AttributeError",
     "evalue": "'DummyClass1' object has no attribute '__dummy_var'",
     "output_type": "error",
     "traceback": [
      "\u001b[1;31m---------------------------------------------------------------------------\u001b[0m",
      "\u001b[1;31mAttributeError\u001b[0m                            Traceback (most recent call last)",
      "Cell \u001b[1;32mIn [8], line 9\u001b[0m\n\u001b[0;32m      6\u001b[0m         \u001b[38;5;28mself\u001b[39m\u001b[38;5;241m.\u001b[39mvar3 \u001b[38;5;241m=\u001b[39m \u001b[38;5;124m\"\u001b[39m\u001b[38;5;124mData Science\u001b[39m\u001b[38;5;124m\"\u001b[39m          \u001b[38;5;66;03m# Public Instance variable\u001b[39;00m\n\u001b[0;32m      8\u001b[0m obj \u001b[38;5;241m=\u001b[39m DummyClass1()\n\u001b[1;32m----> 9\u001b[0m \u001b[38;5;28mprint\u001b[39m(\u001b[43mobj\u001b[49m\u001b[38;5;241;43m.\u001b[39;49m\u001b[43m__dummy_var\u001b[49m)\n\u001b[0;32m     10\u001b[0m obj\u001b[38;5;241m.\u001b[39mdummy_var \u001b[38;5;241m=\u001b[39m \u001b[38;5;241m5000\u001b[39m                        \u001b[38;5;66;03m#  Private Class Variable\u001b[39;00m\n\u001b[0;32m     11\u001b[0m \u001b[38;5;28mprint\u001b[39m(obj\u001b[38;5;241m.\u001b[39m__dummy_var)\n",
      "\u001b[1;31mAttributeError\u001b[0m: 'DummyClass1' object has no attribute '__dummy_var'"
     ]
    }
   ],
   "source": [
    "class DummyClass1:\n",
    "    __dummy_var = 500                       # Private class variable\n",
    "    def __init__(self):\n",
    "        print(\"DummyClass __init__ Method\")\n",
    "        var2 = \"Python\"                     # Local Variable\n",
    "        self.var3 = \"Data Science\"          # Public Instance variable\n",
    "        \n",
    "obj = DummyClass1()\n",
    "print(obj.__dummy_var)\n",
    "obj.dummy_var = 5000                        #  Private Class Variable\n",
    "print(obj.__dummy_var)\n"
   ]
  },
  {
   "cell_type": "code",
   "execution_count": 9,
   "id": "e0865240",
   "metadata": {},
   "outputs": [
    {
     "name": "stdout",
     "output_type": "stream",
     "text": [
      "DummyClass __init__ Method\n",
      "Class Variable = 500\n"
     ]
    },
    {
     "ename": "AttributeError",
     "evalue": "'DummyClass1' object has no attribute '__dummy_var'",
     "output_type": "error",
     "traceback": [
      "\u001b[1;31m---------------------------------------------------------------------------\u001b[0m",
      "\u001b[1;31mAttributeError\u001b[0m                            Traceback (most recent call last)",
      "Cell \u001b[1;32mIn [9], line 10\u001b[0m\n\u001b[0;32m      7\u001b[0m         \u001b[38;5;28mprint\u001b[39m(\u001b[38;5;124mf\u001b[39m\u001b[38;5;124m\"\u001b[39m\u001b[38;5;124mClass Variable = \u001b[39m\u001b[38;5;132;01m{\u001b[39;00m\u001b[38;5;28mself\u001b[39m\u001b[38;5;241m.\u001b[39m__dummy_var\u001b[38;5;132;01m}\u001b[39;00m\u001b[38;5;124m\"\u001b[39m)\n\u001b[0;32m      9\u001b[0m obj \u001b[38;5;241m=\u001b[39m DummyClass1()\n\u001b[1;32m---> 10\u001b[0m \u001b[38;5;28mprint\u001b[39m(\u001b[43mobj\u001b[49m\u001b[38;5;241;43m.\u001b[39;49m\u001b[43m__dummy_var\u001b[49m)\n",
      "\u001b[1;31mAttributeError\u001b[0m: 'DummyClass1' object has no attribute '__dummy_var'"
     ]
    }
   ],
   "source": [
    "class DummyClass1:\n",
    "    __dummy_var = 500                       # Private class variable\n",
    "    def __init__(self):\n",
    "        print(\"DummyClass __init__ Method\")\n",
    "        var2 = \"Python\"                     # Local Variable\n",
    "        self.var3 = \"Data Science\"          # Public Instance variable\n",
    "        print(f\"Class Variable = {self.__dummy_var}\")\n",
    "        \n",
    "obj = DummyClass1()\n",
    "print(obj.__dummy_var)        \n"
   ]
  },
  {
   "cell_type": "code",
   "execution_count": 10,
   "id": "f978c111",
   "metadata": {},
   "outputs": [
    {
     "name": "stdout",
     "output_type": "stream",
     "text": [
      "DummyClass __init__ Method\n",
      "Class Variable = 500\n"
     ]
    },
    {
     "ename": "AttributeError",
     "evalue": "'DummyClass1' object has no attribute '__var3'",
     "output_type": "error",
     "traceback": [
      "\u001b[1;31m---------------------------------------------------------------------------\u001b[0m",
      "\u001b[1;31mAttributeError\u001b[0m                            Traceback (most recent call last)",
      "Cell \u001b[1;32mIn [10], line 10\u001b[0m\n\u001b[0;32m      7\u001b[0m         \u001b[38;5;28mprint\u001b[39m(\u001b[38;5;124mf\u001b[39m\u001b[38;5;124m\"\u001b[39m\u001b[38;5;124mClass Variable = \u001b[39m\u001b[38;5;132;01m{\u001b[39;00m\u001b[38;5;28mself\u001b[39m\u001b[38;5;241m.\u001b[39m__dummy_var\u001b[38;5;132;01m}\u001b[39;00m\u001b[38;5;124m\"\u001b[39m)\n\u001b[0;32m      9\u001b[0m obj \u001b[38;5;241m=\u001b[39m DummyClass1()\n\u001b[1;32m---> 10\u001b[0m \u001b[38;5;28mprint\u001b[39m(\u001b[43mobj\u001b[49m\u001b[38;5;241;43m.\u001b[39;49m\u001b[43m__var3\u001b[49m)\n",
      "\u001b[1;31mAttributeError\u001b[0m: 'DummyClass1' object has no attribute '__var3'"
     ]
    }
   ],
   "source": [
    "class DummyClass1:\n",
    "    __dummy_var = 500                       # Private class variable\n",
    "    def __init__(self):\n",
    "        print(\"DummyClass __init__ Method\")\n",
    "        var2 = \"Python\"                     # Local Variable\n",
    "        self.__var3 = \"Data Science\"        # Private Instance variable\n",
    "        print(f\"Class Variable = {self.__dummy_var}\")\n",
    "        \n",
    "obj = DummyClass1()\n",
    "print(obj.__var3)        "
   ]
  },
  {
   "cell_type": "code",
   "execution_count": 11,
   "id": "740235f6",
   "metadata": {},
   "outputs": [
    {
     "name": "stdout",
     "output_type": "stream",
     "text": [
      "DummyClass __init__ Method\n",
      "Class Variable = 500\n",
      "Insatance Variable = Data Science\n"
     ]
    },
    {
     "ename": "AttributeError",
     "evalue": "'DummyClass1' object has no attribute '__var3'",
     "output_type": "error",
     "traceback": [
      "\u001b[1;31m---------------------------------------------------------------------------\u001b[0m",
      "\u001b[1;31mAttributeError\u001b[0m                            Traceback (most recent call last)",
      "Cell \u001b[1;32mIn [11], line 15\u001b[0m\n\u001b[0;32m     13\u001b[0m obj \u001b[38;5;241m=\u001b[39m DummyClass1()\n\u001b[0;32m     14\u001b[0m obj\u001b[38;5;241m.\u001b[39mdisplay_var()\n\u001b[1;32m---> 15\u001b[0m \u001b[43mobj\u001b[49m\u001b[38;5;241;43m.\u001b[39;49m\u001b[43m__var3\u001b[49m\n",
      "\u001b[1;31mAttributeError\u001b[0m: 'DummyClass1' object has no attribute '__var3'"
     ]
    }
   ],
   "source": [
    "class DummyClass1:\n",
    "    __dummy_var = 500                       # Private class variable\n",
    "    def __init__(self):\n",
    "        print(\"DummyClass __init__ Method\")\n",
    "        var2 = \"Python\"                     # Local Variable\n",
    "        self.__var3 = \"Data Science\"        # Private Instance variable\n",
    "        \n",
    "        \n",
    "    def display_var(self):\n",
    "        print(f\"Class Variable = {self.__dummy_var}\")\n",
    "        print(f\"Insatance Variable = {self.__var3}\")\n",
    "        \n",
    "obj = DummyClass1()\n",
    "obj.display_var()\n",
    "obj.__var3     "
   ]
  },
  {
   "cell_type": "code",
   "execution_count": 12,
   "id": "5f79a423",
   "metadata": {},
   "outputs": [
    {
     "name": "stdout",
     "output_type": "stream",
     "text": [
      "DummyClass __init__ Method\n",
      "Class Variable = 500\n",
      "Insatance Variable = Data Science\n"
     ]
    }
   ],
   "source": [
    "class DummyClass1:\n",
    "    __dummy_var = 500                       # Private class variable\n",
    "    def __init__(self):\n",
    "        print(\"DummyClass __init__ Method\")\n",
    "        var2 = \"Python\"                     # Local Variable\n",
    "        self.__var3 = \"Data Science\"        # Private Instance variable\n",
    "        \n",
    "        \n",
    "    def display_var(self):\n",
    "        print(f\"Class Variable = {self.__dummy_var}\")\n",
    "        print(f\"Insatance Variable = {self.__var3}\")\n",
    "        \n",
    "obj = DummyClass1()\n",
    "obj.display_var()"
   ]
  },
  {
   "cell_type": "code",
   "execution_count": 13,
   "id": "606e4216",
   "metadata": {},
   "outputs": [
    {
     "name": "stdout",
     "output_type": "stream",
     "text": [
      "DummyClass __init__ Method\n"
     ]
    },
    {
     "ename": "AttributeError",
     "evalue": "'DummyClass1' object has no attribute 'display_var'",
     "output_type": "error",
     "traceback": [
      "\u001b[1;31m---------------------------------------------------------------------------\u001b[0m",
      "\u001b[1;31mAttributeError\u001b[0m                            Traceback (most recent call last)",
      "Cell \u001b[1;32mIn [13], line 14\u001b[0m\n\u001b[0;32m     11\u001b[0m         \u001b[38;5;28mprint\u001b[39m(\u001b[38;5;124mf\u001b[39m\u001b[38;5;124m\"\u001b[39m\u001b[38;5;124mInsatance Variable = \u001b[39m\u001b[38;5;132;01m{\u001b[39;00m\u001b[38;5;28mself\u001b[39m\u001b[38;5;241m.\u001b[39m__var3\u001b[38;5;132;01m}\u001b[39;00m\u001b[38;5;124m\"\u001b[39m)\n\u001b[0;32m     13\u001b[0m obj \u001b[38;5;241m=\u001b[39m DummyClass1()\n\u001b[1;32m---> 14\u001b[0m \u001b[43mobj\u001b[49m\u001b[38;5;241;43m.\u001b[39;49m\u001b[43mdisplay_var\u001b[49m()\n",
      "\u001b[1;31mAttributeError\u001b[0m: 'DummyClass1' object has no attribute 'display_var'"
     ]
    }
   ],
   "source": [
    "class DummyClass1:\n",
    "    __dummy_var = 500                       # Private class variable\n",
    "    def __init__(self):\n",
    "        print(\"DummyClass __init__ Method\")\n",
    "        var2 = \"Python\"                     # Local Variable\n",
    "        self.__var3 = \"Data Science\"        # Private Instance variable\n",
    "        \n",
    "        \n",
    "    def __display_var(self):                # Private Method\n",
    "        print(f\"Class Variable = {self.__dummy_var}\")\n",
    "        print(f\"Insatance Variable = {self.__var3}\")\n",
    "        \n",
    "obj = DummyClass1()\n",
    "obj.display_var()"
   ]
  },
  {
   "cell_type": "code",
   "execution_count": 14,
   "id": "95e339c9",
   "metadata": {},
   "outputs": [
    {
     "name": "stdout",
     "output_type": "stream",
     "text": [
      "DummyClass __init__ Method\n",
      "Adding 100,200 = 300\n"
     ]
    }
   ],
   "source": [
    "class DummyClass1:\n",
    "    __dummy_var = 500                       # Private class variable\n",
    "    def __init__(self,a,b):\n",
    "        print(\"DummyClass __init__ Method\")\n",
    "        var2 = \"Python\"                     # Local Variable\n",
    "        self.__var3 = \"Data Science\"        # Private Instance variable\n",
    "        self.__a = a\n",
    "        self.__b = b\n",
    "        \n",
    "    def __display_var(self):                # Private Method\n",
    "        print(f\"Class Variable = {self.__dummy_var}\")\n",
    "        print(f\"Insatance Variable = {self.__var3}\")\n",
    "        \n",
    "    def add(self):\n",
    "        print(f\"Adding {self.__a},{self.__b} = {self.__a + self.__b}\")\n",
    "        \n",
    "        \n",
    "obj = DummyClass1(100,200)\n",
    "obj.add()"
   ]
  },
  {
   "cell_type": "code",
   "execution_count": 15,
   "id": "cdd30056",
   "metadata": {},
   "outputs": [
    {
     "name": "stdout",
     "output_type": "stream",
     "text": [
      "DummyClass __init__ Method\n",
      "Adding 100,200 = 300\n"
     ]
    }
   ],
   "source": [
    "class DummyClass1:\n",
    "    __dummy_var = 500                       # Private class variable\n",
    "    def __init__(self,a,b):\n",
    "        print(\"DummyClass __init__ Method\")\n",
    "        var2 = \"Python\"                     # Local Variable\n",
    "        self.__var3 = \"Data Science\"        # Private Instance variable\n",
    "        self.__a = a\n",
    "        self.__b = b\n",
    "        \n",
    "    def __display_var(self):                # Private Method\n",
    "        print(f\"Class Variable = {self.__dummy_var}\")\n",
    "        print(f\"Insatance Variable = {self.__var3}\")\n",
    "        \n",
    "    def add(self):\n",
    "        self.add = self.__a + self.__b\n",
    "        print(f\"Adding {self.__a},{self.__b} = {self.add}\")\n",
    "        \n",
    "        \n",
    "obj = DummyClass1(100,200)\n",
    "obj.add()"
   ]
  },
  {
   "cell_type": "code",
   "execution_count": 18,
   "id": "dc5ec291",
   "metadata": {},
   "outputs": [
    {
     "name": "stdout",
     "output_type": "stream",
     "text": [
      "DummyClass __init__ Method\n",
      "This is Method 1\n"
     ]
    }
   ],
   "source": [
    "class DummyClass1:\n",
    "    __dummy_var = 500                       # Private class variable\n",
    "    def __init__(self,a,b):\n",
    "        print(\"DummyClass __init__ Method\")\n",
    "        var2 = \"Python\"                     # Local Variable\n",
    "        self.__var3 = \"Data Science\"        # Private Instance variable\n",
    "        self.__a = a\n",
    "        self.__b = b\n",
    "        \n",
    "    def __display_var(self):                # Private Method\n",
    "        print(f\"Class Variable = {self.__dummy_var}\")\n",
    "        print(f\"Insatance Variable = {self.__var3}\")\n",
    "        \n",
    "    def add(self):\n",
    "        self.add = self.__a + self.__b\n",
    "        print(f\"Adding {self.__a},{self.__b} = {self.add}\")\n",
    "        \n",
    "    def method1(self):\n",
    "        print(\"This is Method 1\")\n",
    "        \n",
    "    def method2(self):\n",
    "        print(\"This is Method 2\")\n",
    "        \n",
    "        \n",
    "obj = DummyClass1(100,200)\n",
    "obj.method1()"
   ]
  },
  {
   "cell_type": "code",
   "execution_count": 19,
   "id": "0de9b751",
   "metadata": {},
   "outputs": [
    {
     "name": "stdout",
     "output_type": "stream",
     "text": [
      "DummyClass __init__ Method\n",
      "This is Method 1\n",
      "This is Method 2\n"
     ]
    }
   ],
   "source": [
    "class DummyClass1:\n",
    "    __dummy_var = 500                       # Private class variable\n",
    "    def __init__(self,a,b):\n",
    "        print(\"DummyClass __init__ Method\")\n",
    "        var2 = \"Python\"                     # Local Variable\n",
    "        self.__var3 = \"Data Science\"        # Private Instance variable\n",
    "        self.__a = a\n",
    "        self.__b = b\n",
    "        \n",
    "    def __display_var(self):                # Private Method\n",
    "        print(f\"Class Variable = {self.__dummy_var}\")\n",
    "        print(f\"Insatance Variable = {self.__var3}\")\n",
    "        \n",
    "    def add(self):\n",
    "        self.add = self.__a + self.__b\n",
    "        print(f\"Adding {self.__a},{self.__b} = {self.add}\")\n",
    "        \n",
    "    def method1(self):\n",
    "        print(\"This is Method 1\")\n",
    "        \n",
    "    def method2(self):\n",
    "        print(\"This is Method 2\")\n",
    "        \n",
    "        \n",
    "obj = DummyClass1(100,200)\n",
    "obj.method1()\n",
    "obj.method2()"
   ]
  },
  {
   "cell_type": "code",
   "execution_count": 21,
   "id": "5b84691b",
   "metadata": {},
   "outputs": [
    {
     "ename": "NameError",
     "evalue": "name 'v2' is not defined",
     "output_type": "error",
     "traceback": [
      "\u001b[1;31m---------------------------------------------------------------------------\u001b[0m",
      "\u001b[1;31mNameError\u001b[0m                                 Traceback (most recent call last)",
      "Cell \u001b[1;32mIn [21], line 1\u001b[0m\n\u001b[1;32m----> 1\u001b[0m v1 \u001b[38;5;241m=\u001b[39m\u001b[43mv2\u001b[49m \u001b[38;5;241m+\u001b[39m\u001b[38;5;241m10\u001b[39m\n\u001b[0;32m      2\u001b[0m v2 \u001b[38;5;241m=\u001b[39m \u001b[38;5;241m20\u001b[39m\n\u001b[0;32m      3\u001b[0m v1\n",
      "\u001b[1;31mNameError\u001b[0m: name 'v2' is not defined"
     ]
    }
   ],
   "source": [
    "v1 =v2 +10\n",
    "v2 = 20\n",
    "v1"
   ]
  },
  {
   "cell_type": "code",
   "execution_count": 22,
   "id": "10fc1b53",
   "metadata": {},
   "outputs": [
    {
     "name": "stdout",
     "output_type": "stream",
     "text": [
      "One\n",
      "Two\n"
     ]
    }
   ],
   "source": [
    "def One():\n",
    "    print(\"One\")\n",
    "    Two()\n",
    "    \n",
    "def Two():\n",
    "    print(\"Two\")\n",
    "    \n",
    "One()"
   ]
  },
  {
   "cell_type": "code",
   "execution_count": 1,
   "id": "ca68578a",
   "metadata": {},
   "outputs": [
    {
     "name": "stdout",
     "output_type": "stream",
     "text": [
      "DummyClass __init__ Method\n",
      "This is Method 1\n",
      "This is Method 2\n"
     ]
    }
   ],
   "source": [
    "class DummyClass1:\n",
    "    __dummy_var = 500                       # Private class variable\n",
    "    def __init__(self,a,b):\n",
    "        print(\"DummyClass __init__ Method\")\n",
    "        var2 = \"Python\"                     # Local Variable\n",
    "        self.__var3 = \"Data Science\"        # Private Instance variable\n",
    "        self.__a = a\n",
    "        self.__b = b\n",
    "        \n",
    "    def __display_var(self):                # Private Method\n",
    "        print(f\"Class Variable = {self.__dummy_var}\")\n",
    "        print(f\"Insatance Variable = {self.__var3}\")\n",
    "        \n",
    "    def add(self):\n",
    "        self.add = self.__a + self.__b\n",
    "        print(f\"Adding {self.__a},{self.__b} = {self.add}\")\n",
    "        \n",
    "    def method1(self):\n",
    "        print(\"This is Method 1\")\n",
    "        self.method2()\n",
    "        \n",
    "    def method2(self):\n",
    "        print(\"This is Method 2\")\n",
    "        \n",
    "        \n",
    "obj = DummyClass1(100,200)\n",
    "obj.method1()"
   ]
  },
  {
   "cell_type": "code",
   "execution_count": 6,
   "id": "d5c0fdb9",
   "metadata": {
    "scrolled": true
   },
   "outputs": [
    {
     "name": "stdout",
     "output_type": "stream",
     "text": [
      "DummyClass __init__ Method\n",
      "This is Method 1\n",
      "100\n",
      "This is Method 2\n"
     ]
    },
    {
     "ename": "AttributeError",
     "evalue": "'DummyClass1' object has no attribute '__method2'",
     "output_type": "error",
     "traceback": [
      "\u001b[1;31m---------------------------------------------------------------------------\u001b[0m",
      "\u001b[1;31mAttributeError\u001b[0m                            Traceback (most recent call last)",
      "\u001b[1;32m~\\AppData\\Local\\Temp\\ipykernel_14912\\1209593337.py\u001b[0m in \u001b[0;36m<module>\u001b[1;34m\u001b[0m\n\u001b[0;32m     27\u001b[0m \u001b[0mobj\u001b[0m \u001b[1;33m=\u001b[0m \u001b[0mDummyClass1\u001b[0m\u001b[1;33m(\u001b[0m\u001b[1;36m100\u001b[0m\u001b[1;33m,\u001b[0m\u001b[1;36m200\u001b[0m\u001b[1;33m)\u001b[0m\u001b[1;33m\u001b[0m\u001b[1;33m\u001b[0m\u001b[0m\n\u001b[0;32m     28\u001b[0m \u001b[0mobj\u001b[0m\u001b[1;33m.\u001b[0m\u001b[0mmethod1\u001b[0m\u001b[1;33m(\u001b[0m\u001b[1;33m)\u001b[0m\u001b[1;33m\u001b[0m\u001b[1;33m\u001b[0m\u001b[0m\n\u001b[1;32m---> 29\u001b[1;33m \u001b[0mobj\u001b[0m\u001b[1;33m.\u001b[0m\u001b[0m__method2\u001b[0m\u001b[1;33m(\u001b[0m\u001b[1;33m)\u001b[0m\u001b[1;33m\u001b[0m\u001b[1;33m\u001b[0m\u001b[0m\n\u001b[0m",
      "\u001b[1;31mAttributeError\u001b[0m: 'DummyClass1' object has no attribute '__method2'"
     ]
    }
   ],
   "source": [
    "class DummyClass1:\n",
    "    __dummy_var = 500                       # Private class variable\n",
    "    def __init__(self,a,b):\n",
    "        print(\"DummyClass __init__ Method\")\n",
    "        var2 = \"Python\"                     # Local Variable\n",
    "        self.__var3 = \"Data Science\"        # Private Instance variable\n",
    "        self.__a = a\n",
    "        self.__b = b\n",
    "        \n",
    "    def __display_var(self):                # Private Method\n",
    "        print(f\"Class Variable = {self.__dummy_var}\")\n",
    "        print(f\"Insatance Variable = {self.__var3}\")\n",
    "        \n",
    "    def add(self):\n",
    "        self.add = self.__a + self.__b\n",
    "        print(f\"Adding {self.__a},{self.__b} = {self.add}\")\n",
    "        \n",
    "    def method1(self):\n",
    "        print(\"This is Method 1\")\n",
    "        print(self.__a)\n",
    "        self.__method2()\n",
    "        \n",
    "    def __method2(self):\n",
    "        print(\"This is Method 2\")\n",
    "        \n",
    "        \n",
    "obj = DummyClass1(100,200)\n",
    "obj.method1()\n",
    "obj.__method2()"
   ]
  },
  {
   "cell_type": "markdown",
   "id": "d990d9a6",
   "metadata": {},
   "source": [
    "# Name Mangling\n",
    "- To access or modify private variables and methods from outside the class\n",
    "- Syntax :-\n",
    "    - Obj._ClassName__VariableName"
   ]
  },
  {
   "cell_type": "code",
   "execution_count": 29,
   "id": "2dc2ee8e",
   "metadata": {},
   "outputs": [
    {
     "name": "stdout",
     "output_type": "stream",
     "text": [
      "DummyClass __init__ Method\n"
     ]
    },
    {
     "ename": "AttributeError",
     "evalue": "'DummyClass1' object has no attribute '__dummy_var'",
     "output_type": "error",
     "traceback": [
      "\u001b[1;31m---------------------------------------------------------------------------\u001b[0m",
      "\u001b[1;31mAttributeError\u001b[0m                            Traceback (most recent call last)",
      "Cell \u001b[1;32mIn [29], line 27\u001b[0m\n\u001b[0;32m     23\u001b[0m         \u001b[38;5;28mprint\u001b[39m(\u001b[38;5;124m\"\u001b[39m\u001b[38;5;124mThis is Method 2\u001b[39m\u001b[38;5;124m\"\u001b[39m)\n\u001b[0;32m     26\u001b[0m obj \u001b[38;5;241m=\u001b[39m DummyClass1(\u001b[38;5;241m100\u001b[39m,\u001b[38;5;241m200\u001b[39m)\n\u001b[1;32m---> 27\u001b[0m \u001b[43mobj\u001b[49m\u001b[38;5;241;43m.\u001b[39;49m\u001b[43m__dummy_var\u001b[49m\n",
      "\u001b[1;31mAttributeError\u001b[0m: 'DummyClass1' object has no attribute '__dummy_var'"
     ]
    }
   ],
   "source": [
    "class DummyClass1:\n",
    "    __dummy_var = 500                       # Private class variable\n",
    "    def __init__(self,a,b):\n",
    "        print(\"DummyClass __init__ Method\")\n",
    "        var2 = \"Python\"                     # Local Variable\n",
    "        self.__var3 = \"Data Science\"        # Private Instance variable\n",
    "        self.__a = a\n",
    "        self.__b = b\n",
    "        \n",
    "    def __display_var(self):                # Private Method\n",
    "        print(f\"Class Variable = {self.__dummy_var}\")\n",
    "        print(f\"Insatance Variable = {self.__var3}\")\n",
    "        \n",
    "    def add(self):\n",
    "        self.add = self.__a + self.__b\n",
    "        print(f\"Adding {self.__a},{self.__b} = {self.add}\")\n",
    "        \n",
    "    def method1(self):\n",
    "        print(\"This is Method 1\")\n",
    "        self.__method2()\n",
    "        \n",
    "    def __method2(self):\n",
    "        print(\"This is Method 2\")\n",
    "        \n",
    "        \n",
    "obj = DummyClass1(100,200)\n",
    "obj.__dummy_var"
   ]
  },
  {
   "cell_type": "code",
   "execution_count": 31,
   "id": "0c99c5a0",
   "metadata": {},
   "outputs": [
    {
     "name": "stdout",
     "output_type": "stream",
     "text": [
      "DummyClass __init__ Method\n"
     ]
    },
    {
     "data": {
      "text/plain": [
       "500"
      ]
     },
     "execution_count": 31,
     "metadata": {},
     "output_type": "execute_result"
    }
   ],
   "source": [
    "class DummyClass1:\n",
    "    __dummy_var = 500                       # Private class variable\n",
    "    def __init__(self,a,b):\n",
    "        print(\"DummyClass __init__ Method\")\n",
    "        var2 = \"Python\"                     # Local Variable\n",
    "        self.__var3 = \"Data Science\"        # Private Instance variable\n",
    "        self.__a = a\n",
    "        self.__b = b\n",
    "        \n",
    "    def __display_var(self):                # Private Method\n",
    "        print(f\"Class Variable = {self.__dummy_var}\")\n",
    "        print(f\"Insatance Variable = {self.__var3}\")\n",
    "        \n",
    "    def add(self):\n",
    "        self.add = self.__a + self.__b\n",
    "        print(f\"Adding {self.__a},{self.__b} = {self.add}\")\n",
    "        \n",
    "    def method1(self):\n",
    "        print(\"This is Method 1\")\n",
    "        self.__method2()\n",
    "        \n",
    "    def __method2(self):\n",
    "        print(\"This is Method 2\")\n",
    "        \n",
    "        \n",
    "obj = DummyClass1(100,200)\n",
    "obj._DummyClass1__dummy_var"
   ]
  },
  {
   "cell_type": "code",
   "execution_count": 32,
   "id": "8474bee2",
   "metadata": {},
   "outputs": [
    {
     "name": "stdout",
     "output_type": "stream",
     "text": [
      "DummyClass __init__ Method\n",
      "500\n",
      "500000\n"
     ]
    }
   ],
   "source": [
    "class DummyClass1:\n",
    "    __dummy_var = 500                       # Private class variable\n",
    "    def __init__(self,a,b):\n",
    "        print(\"DummyClass __init__ Method\")\n",
    "        var2 = \"Python\"                     # Local Variable\n",
    "        self.__var3 = \"Data Science\"        # Private Instance variable\n",
    "        self.__a = a\n",
    "        self.__b = b\n",
    "        \n",
    "    def __display_var(self):                # Private Method\n",
    "        print(f\"Class Variable = {self.__dummy_var}\")\n",
    "        print(f\"Insatance Variable = {self.__var3}\")\n",
    "        \n",
    "    def add(self):\n",
    "        self.add = self.__a + self.__b\n",
    "        print(f\"Adding {self.__a},{self.__b} = {self.add}\")\n",
    "        \n",
    "    def method1(self):\n",
    "        print(\"This is Method 1\")\n",
    "        self.__method2()\n",
    "        \n",
    "    def __method2(self):\n",
    "        print(\"This is Method 2\")\n",
    "        \n",
    "        \n",
    "obj = DummyClass1(100,200)\n",
    "print(obj._DummyClass1__dummy_var)\n",
    "obj._DummyClass1__dummy_var = 500000\n",
    "print(obj._DummyClass1__dummy_var)"
   ]
  },
  {
   "cell_type": "code",
   "execution_count": 33,
   "id": "2befeb33",
   "metadata": {},
   "outputs": [
    {
     "name": "stdout",
     "output_type": "stream",
     "text": [
      "DummyClass __init__ Method\n",
      "500\n",
      "500000\n",
      "*********************************************\n",
      "Data Science\n",
      "DATA SCIENCE\n"
     ]
    }
   ],
   "source": [
    "class DummyClass1:\n",
    "    __dummy_var = 500                       # Private class variable\n",
    "    def __init__(self,a,b):\n",
    "        print(\"DummyClass __init__ Method\")\n",
    "        var2 = \"Python\"                     # Local Variable\n",
    "        self.__var3 = \"Data Science\"        # Private Instance variable\n",
    "        self.__a = a\n",
    "        self.__b = b\n",
    "        \n",
    "    def __display_var(self):                # Private Method\n",
    "        print(f\"Class Variable = {self.__dummy_var}\")\n",
    "        print(f\"Insatance Variable = {self.__var3}\")\n",
    "        \n",
    "    def add(self):\n",
    "        self.add = self.__a + self.__b\n",
    "        print(f\"Adding {self.__a},{self.__b} = {self.add}\")\n",
    "        \n",
    "    def method1(self):\n",
    "        print(\"This is Method 1\")\n",
    "        self.__method2()\n",
    "        \n",
    "    def __method2(self):\n",
    "        print(\"This is Method 2\")\n",
    "        \n",
    "        \n",
    "obj = DummyClass1(100,200)\n",
    "print(obj._DummyClass1__dummy_var)\n",
    "obj._DummyClass1__dummy_var = 500000\n",
    "print(obj._DummyClass1__dummy_var)\n",
    "print(\"*\"*45)\n",
    "print(obj._DummyClass1__var3)\n",
    "obj._DummyClass1__var3 = obj._DummyClass1__var3.upper()\n",
    "print(obj._DummyClass1__var3)"
   ]
  },
  {
   "cell_type": "code",
   "execution_count": 34,
   "id": "8f5f0935",
   "metadata": {},
   "outputs": [
    {
     "name": "stdout",
     "output_type": "stream",
     "text": [
      "DummyClass __init__ Method\n",
      "500\n",
      "500000\n",
      "*********************************************\n",
      "Data Science\n",
      "DATA SCIENCE\n",
      "This is Method 2\n"
     ]
    }
   ],
   "source": [
    "class DummyClass1:\n",
    "    __dummy_var = 500                       # Private class variable\n",
    "    def __init__(self,a,b):\n",
    "        print(\"DummyClass __init__ Method\")\n",
    "        var2 = \"Python\"                     # Local Variable\n",
    "        self.__var3 = \"Data Science\"        # Private Instance variable\n",
    "        self.__a = a\n",
    "        self.__b = b\n",
    "        \n",
    "    def __display_var(self):                # Private Method\n",
    "        print(f\"Class Variable = {self.__dummy_var}\")\n",
    "        print(f\"Insatance Variable = {self.__var3}\")\n",
    "        \n",
    "    def add(self):\n",
    "        self.add = self.__a + self.__b\n",
    "        print(f\"Adding {self.__a},{self.__b} = {self.add}\")\n",
    "        \n",
    "    def method1(self):\n",
    "        print(\"This is Method 1\")\n",
    "        self.__method2()\n",
    "        \n",
    "    def __method2(self):\n",
    "        print(\"This is Method 2\")\n",
    "        \n",
    "        \n",
    "obj = DummyClass1(100,200)\n",
    "print(obj._DummyClass1__dummy_var)\n",
    "obj._DummyClass1__dummy_var = 500000\n",
    "print(obj._DummyClass1__dummy_var)\n",
    "print(\"*\"*45)\n",
    "print(obj._DummyClass1__var3)\n",
    "obj._DummyClass1__var3 = obj._DummyClass1__var3.upper()\n",
    "print(obj._DummyClass1__var3)\n",
    "obj._DummyClass1__method2()"
   ]
  },
  {
   "cell_type": "code",
   "execution_count": 36,
   "id": "8a151bde",
   "metadata": {},
   "outputs": [
    {
     "name": "stdout",
     "output_type": "stream",
     "text": [
      "DummyClass __init__ Method\n",
      "Adding 100,200 = 300\n",
      "300\n"
     ]
    }
   ],
   "source": [
    "class DummyClass1:\n",
    "    __dummy_var = 500                       # Private class variable\n",
    "    def __init__(self,a,b):\n",
    "        print(\"DummyClass __init__ Method\")\n",
    "        var2 = \"Python\"                     # Local Variable\n",
    "        self.__var3 = \"Data Science\"        # Private Instance variable\n",
    "        self.__a = a\n",
    "        self.__b = b\n",
    "        \n",
    "    def __display_var(self):                # Private Method\n",
    "        print(f\"Class Variable = {self.__dummy_var}\")\n",
    "        print(f\"Insatance Variable = {self.__var3}\")\n",
    "        \n",
    "    def add(self):\n",
    "        self.add = self.__a + self.__b\n",
    "        print(f\"Adding {self.__a},{self.__b} = {self.add}\")\n",
    "        print(self.add)\n",
    "        \n",
    "    def method1(self):\n",
    "        print(\"This is Method 1\")\n",
    "        self.__method2()\n",
    "        \n",
    "    def __method2(self):\n",
    "        print(\"This is Method 2\")\n",
    "        \n",
    "        \n",
    "obj = DummyClass1(100,200)\n",
    "obj.add()"
   ]
  }
 ],
 "metadata": {
  "kernelspec": {
   "display_name": "Python 3 (ipykernel)",
   "language": "python",
   "name": "python3"
  },
  "language_info": {
   "codemirror_mode": {
    "name": "ipython",
    "version": 3
   },
   "file_extension": ".py",
   "mimetype": "text/x-python",
   "name": "python",
   "nbconvert_exporter": "python",
   "pygments_lexer": "ipython3",
   "version": "3.12.4"
  }
 },
 "nbformat": 4,
 "nbformat_minor": 5
}
