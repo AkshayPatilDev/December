{
 "cells": [
  {
   "cell_type": "markdown",
   "id": "8def371e",
   "metadata": {},
   "source": [
    "# String\n",
    "- string is a collection of character surrounded by single, double or tripple quote"
   ]
  },
  {
   "cell_type": "code",
   "execution_count": 1,
   "id": "6ee407de",
   "metadata": {},
   "outputs": [
    {
     "name": "stdout",
     "output_type": "stream",
     "text": [
      "The string = Python and Data Science\n",
      "The string = Python and Data Science\n",
      "The string = Python and Data Science\n"
     ]
    }
   ],
   "source": [
    "string = 'Python and Data Science'\n",
    "print(f\"The string = {string}\")\n",
    "string = \"Python and Data Science\"\n",
    "print(f\"The string = {string}\")\n",
    "string = \"\"\"Python and Data Science\"\"\"\n",
    "print(f\"The string = {string}\")"
   ]
  },
  {
   "cell_type": "code",
   "execution_count": 4,
   "id": "89d8cb14",
   "metadata": {},
   "outputs": [
    {
     "name": "stdout",
     "output_type": "stream",
     "text": [
      "Hello Mohit\n"
     ]
    }
   ],
   "source": [
    "string = 'Mohit'\n",
    "print(f\"Hello {string}\")"
   ]
  },
  {
   "cell_type": "code",
   "execution_count": 5,
   "id": "1048d4a3",
   "metadata": {},
   "outputs": [
    {
     "name": "stdout",
     "output_type": "stream",
     "text": [
      "**********Hello Mohit **********\n"
     ]
    }
   ],
   "source": [
    "string = 'Mohit'\n",
    "print(f\"**********Hello {string} **********\")"
   ]
  },
  {
   "cell_type": "code",
   "execution_count": 6,
   "id": "e5b227cc",
   "metadata": {},
   "outputs": [
    {
     "name": "stdout",
     "output_type": "stream",
     "text": [
      "Hello *****Mohit*****\n"
     ]
    }
   ],
   "source": [
    "string = '*****Mohit*****'\n",
    "print(f\"Hello {string}\")"
   ]
  },
  {
   "cell_type": "markdown",
   "id": "4d3ed95f",
   "metadata": {},
   "source": [
    "### we cannot use single quote in single quote"
   ]
  },
  {
   "cell_type": "code",
   "execution_count": 7,
   "id": "f943c927",
   "metadata": {},
   "outputs": [
    {
     "name": "stdout",
     "output_type": "stream",
     "text": [
      "The string = Python and Data Science\n"
     ]
    }
   ],
   "source": [
    "string = 'Python and Data Science'\n",
    "print(f\"The string = {string}\")"
   ]
  },
  {
   "cell_type": "code",
   "execution_count": 8,
   "id": "fca53ec8",
   "metadata": {},
   "outputs": [
    {
     "ename": "SyntaxError",
     "evalue": "invalid syntax (Temp/ipykernel_20820/4244458945.py, line 1)",
     "output_type": "error",
     "traceback": [
      "\u001b[1;36m  File \u001b[1;32m\"C:\\Users\\Mohit\\AppData\\Local\\Temp/ipykernel_20820/4244458945.py\"\u001b[1;36m, line \u001b[1;32m1\u001b[0m\n\u001b[1;33m    string = 'Python and 'Data' Science'\u001b[0m\n\u001b[1;37m                          ^\u001b[0m\n\u001b[1;31mSyntaxError\u001b[0m\u001b[1;31m:\u001b[0m invalid syntax\n"
     ]
    }
   ],
   "source": [
    "string = 'Python and 'Data' Science'\n",
    "print(f\"The string = {string}\")"
   ]
  },
  {
   "cell_type": "code",
   "execution_count": 10,
   "id": "6be01de0",
   "metadata": {},
   "outputs": [
    {
     "name": "stdout",
     "output_type": "stream",
     "text": [
      "The string = Python and data' Science\n"
     ]
    }
   ],
   "source": [
    "string = 'Python and data\\' Science'\n",
    "print(f\"The string = {string}\")"
   ]
  },
  {
   "cell_type": "code",
   "execution_count": 11,
   "id": "d21e4efd",
   "metadata": {},
   "outputs": [
    {
     "name": "stdout",
     "output_type": "stream",
     "text": [
      "The string = Python 1'st batch\n"
     ]
    }
   ],
   "source": [
    "string = 'Python 1\\'st batch'\n",
    "print(f\"The string = {string}\")"
   ]
  },
  {
   "cell_type": "markdown",
   "id": "95102fe9",
   "metadata": {},
   "source": [
    "### we cannot use double quote in double quote"
   ]
  },
  {
   "cell_type": "code",
   "execution_count": 12,
   "id": "e3cbd766",
   "metadata": {},
   "outputs": [
    {
     "name": "stdout",
     "output_type": "stream",
     "text": [
      "The string = Python and Data Science\n"
     ]
    }
   ],
   "source": [
    "string = \"Python and Data Science\"\n",
    "print(f\"The string = {string}\")"
   ]
  },
  {
   "cell_type": "code",
   "execution_count": 13,
   "id": "768f56ae",
   "metadata": {},
   "outputs": [
    {
     "ename": "SyntaxError",
     "evalue": "invalid syntax (Temp/ipykernel_20820/126246790.py, line 1)",
     "output_type": "error",
     "traceback": [
      "\u001b[1;36m  File \u001b[1;32m\"C:\\Users\\Mohit\\AppData\\Local\\Temp/ipykernel_20820/126246790.py\"\u001b[1;36m, line \u001b[1;32m1\u001b[0m\n\u001b[1;33m    string = \"Python and \"Data\" Science\"\u001b[0m\n\u001b[1;37m                          ^\u001b[0m\n\u001b[1;31mSyntaxError\u001b[0m\u001b[1;31m:\u001b[0m invalid syntax\n"
     ]
    }
   ],
   "source": [
    "string = \"Python and \"Data\" Science\"\n",
    "print(f\"The string = {string}\")"
   ]
  },
  {
   "cell_type": "code",
   "execution_count": 14,
   "id": "93e87673",
   "metadata": {},
   "outputs": [
    {
     "name": "stdout",
     "output_type": "stream",
     "text": [
      "The string = Python and \"Data\" Science\n"
     ]
    }
   ],
   "source": [
    "string = \"\"\"Python and \"Data\" Science\"\"\"\n",
    "print(f\"The string = {string}\")"
   ]
  },
  {
   "cell_type": "code",
   "execution_count": 15,
   "id": "f2e8348b",
   "metadata": {},
   "outputs": [
    {
     "name": "stdout",
     "output_type": "stream",
     "text": [
      "The string = Python and 'Data' Science\n"
     ]
    }
   ],
   "source": [
    "string = \"\"\"Python and 'Data' Science\"\"\"\n",
    "print(f\"The string = {string}\")"
   ]
  },
  {
   "cell_type": "code",
   "execution_count": 16,
   "id": "9790c10d",
   "metadata": {},
   "outputs": [
    {
     "name": "stdout",
     "output_type": "stream",
     "text": [
      "The string = Python and \"Data\" Science\n"
     ]
    }
   ],
   "source": [
    "string = \"\"\"Python and \\\"Data\\\" Science\"\"\"\n",
    "print(f\"The string = {string}\")"
   ]
  },
  {
   "cell_type": "code",
   "execution_count": 17,
   "id": "77699327",
   "metadata": {},
   "outputs": [
    {
     "name": "stdout",
     "output_type": "stream",
     "text": [
      "The data = Data science is a great field\n"
     ]
    }
   ],
   "source": [
    "data = \"Data science is a great field\"\n",
    "print(f\"The data = {data}\")"
   ]
  },
  {
   "cell_type": "code",
   "execution_count": 18,
   "id": "9a591fa4",
   "metadata": {},
   "outputs": [
    {
     "ename": "SyntaxError",
     "evalue": "EOL while scanning string literal (Temp/ipykernel_20820/638201870.py, line 1)",
     "output_type": "error",
     "traceback": [
      "\u001b[1;36m  File \u001b[1;32m\"C:\\Users\\Mohit\\AppData\\Local\\Temp/ipykernel_20820/638201870.py\"\u001b[1;36m, line \u001b[1;32m1\u001b[0m\n\u001b[1;33m    data = \"Data science\u001b[0m\n\u001b[1;37m                         ^\u001b[0m\n\u001b[1;31mSyntaxError\u001b[0m\u001b[1;31m:\u001b[0m EOL while scanning string literal\n"
     ]
    }
   ],
   "source": [
    "data = \"Data science \n",
    "        is a great field\"\n",
    "print(f\"The data = {data}\")"
   ]
  },
  {
   "cell_type": "code",
   "execution_count": 22,
   "id": "5a2a98d6",
   "metadata": {},
   "outputs": [
    {
     "name": "stdout",
     "output_type": "stream",
     "text": [
      "The data = Data science \n",
      "           is a great field\n"
     ]
    }
   ],
   "source": [
    "data = \"\"\"Data science \n",
    "           is a great field\"\"\"\n",
    "print(f\"The data = {data}\")"
   ]
  },
  {
   "cell_type": "code",
   "execution_count": 23,
   "id": "41fb1b61",
   "metadata": {},
   "outputs": [
    {
     "name": "stdout",
     "output_type": "stream",
     "text": [
      "The data = Data science \n",
      "          \n",
      "          \n",
      "          is a great field\n"
     ]
    }
   ],
   "source": [
    "data = \"\"\"Data science \n",
    "          \n",
    "          \n",
    "          is a great field\"\"\"\n",
    "print(f\"The data = {data}\")"
   ]
  },
  {
   "cell_type": "code",
   "execution_count": 24,
   "id": "89908b92",
   "metadata": {},
   "outputs": [
    {
     "name": "stdout",
     "output_type": "stream",
     "text": [
      "The data = Data science \n",
      "          \n",
      "          \n",
      "                                  is a great field\n"
     ]
    }
   ],
   "source": [
    "data = \"\"\"Data science \n",
    "          \n",
    "          \n",
    "                                  is a great field\"\"\"\n",
    "print(f\"The data = {data}\")"
   ]
  },
  {
   "cell_type": "code",
   "execution_count": 26,
   "id": "ba26588b",
   "metadata": {},
   "outputs": [
    {
     "name": "stdout",
     "output_type": "stream",
     "text": [
      "Data science is an interdisciplinary field focused on extracting knowledge from typically large data sets and applying the knowledge and insights from that data to solve problems in a wide range of application domains.The field encompasses preparing data for analysis, formulating data science problems, analyzing data, developing data-driven solutions, and presenting findings to  inform high-level decisions in a broad range of application domains. \n"
     ]
    }
   ],
   "source": [
    "var = \"\"\"Data science is an interdisciplinary field focused on extracting knowledge from typically large data sets and applying the knowledge and insights from that data to solve problems in a wide range of application domains.The field encompasses preparing data for analysis, formulating data science problems, analyzing data, developing data-driven solutions, and presenting findings to  inform high-level decisions in a broad range of application domains. \"\"\"\n",
    "print(f\"{var}\")"
   ]
  },
  {
   "cell_type": "code",
   "execution_count": 33,
   "id": "3ba63711",
   "metadata": {},
   "outputs": [
    {
     "name": "stdout",
     "output_type": "stream",
     "text": [
      "         Data science is an interdisciplinary field focused on extracting knowledge from\n",
      "         typically large data sets and applying the knowledge and insights from that data\n",
      "         to solve problems in a wide range of application domains.The field encompasses\n",
      "         preparing data for analysis, formulating data science problems, analyzing data,\n",
      "         developing data-driven solutions, and presenting findings to  inform high-level \n",
      "         decisions in a broad range of application domains. \n"
     ]
    }
   ],
   "source": [
    "var = \"\"\"         Data science is an interdisciplinary field focused on extracting knowledge from\n",
    "         typically large data sets and applying the knowledge and insights from that data\n",
    "         to solve problems in a wide range of application domains.The field encompasses\n",
    "         preparing data for analysis, formulating data science problems, analyzing data,\n",
    "         developing data-driven solutions, and presenting findings to  inform high-level \n",
    "         decisions in a broad range of application domains. \"\"\"\n",
    "print(f\"{var}\")"
   ]
  }
 ],
 "metadata": {
  "kernelspec": {
   "display_name": "Python 3 (ipykernel)",
   "language": "python",
   "name": "python3"
  },
  "language_info": {
   "codemirror_mode": {
    "name": "ipython",
    "version": 3
   },
   "file_extension": ".py",
   "mimetype": "text/x-python",
   "name": "python",
   "nbconvert_exporter": "python",
   "pygments_lexer": "ipython3",
   "version": "3.12.4"
  }
 },
 "nbformat": 4,
 "nbformat_minor": 5
}
