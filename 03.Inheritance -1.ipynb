{
 "cells": [
  {
   "cell_type": "markdown",
   "id": "6b4f704d",
   "metadata": {},
   "source": [
    "# Four fundamental concepts in oops\n",
    "- 1.Inheritance\n",
    "- 2.Encapsulation\n",
    "- 3.Polymorphism\n",
    "- 4.Abstraction"
   ]
  },
  {
   "cell_type": "markdown",
   "id": "4b19d3ae",
   "metadata": {},
   "source": [
    "# 1.Inheritance\n",
    "- It allows a class to inherit the properties from other class\n",
    "- Properties - Variables and Methods\n",
    "    - Parent Class(Base Class)-Superclass\n",
    "    - Child Class(Derived Class)-Subclass\n",
    "- Parent Class - Is the class being inherited from\n",
    "- Child Class - Is the class that inherits from the other class"
   ]
  },
  {
   "cell_type": "markdown",
   "id": "cf1adc6a",
   "metadata": {},
   "source": [
    "# Types of Inheritance\n",
    "- 1.Single Inheritance\n",
    "- 2.Multiple Inheritance\n",
    "- 3.Multilevel Inheritance\n",
    "- 4.Hierarchical Inheritance\n",
    "- 5.Hybrid Inheritance"
   ]
  },
  {
   "cell_type": "code",
   "execution_count": 2,
   "id": "bcf610e2",
   "metadata": {},
   "outputs": [],
   "source": [
    "class Dclass1():\n",
    "    pass\n",
    "class Dclass2():\n",
    "    pass\n",
    "\n",
    "obj1 = Dclass1()\n",
    "obj2 = Dclass2()"
   ]
  },
  {
   "cell_type": "code",
   "execution_count": 3,
   "id": "5a3e768a",
   "metadata": {},
   "outputs": [],
   "source": [
    "class Dclass1():\n",
    "    pass\n",
    "class Dclass2(Dclass1):\n",
    "    pass\n",
    "\n",
    "obj1 = Dclass1() # Only dummy class 1\n",
    "obj2 = Dclass2() # Both classes"
   ]
  },
  {
   "cell_type": "code",
   "execution_count": 4,
   "id": "5335da72",
   "metadata": {},
   "outputs": [
    {
     "name": "stdout",
     "output_type": "stream",
     "text": [
      "In the parent class\n",
      "In the child class\n"
     ]
    }
   ],
   "source": [
    "class Parent():\n",
    "    print(\"In the parent class\")\n",
    "    \n",
    "class Child():\n",
    "    print(\"In the child class\")\n",
    "    \n",
    "o1 = Parent()\n",
    "o2 = Child()"
   ]
  },
  {
   "cell_type": "code",
   "execution_count": 5,
   "id": "e7e7917d",
   "metadata": {},
   "outputs": [],
   "source": [
    "o3 = Parent()"
   ]
  },
  {
   "cell_type": "code",
   "execution_count": 6,
   "id": "b7e3989f",
   "metadata": {},
   "outputs": [],
   "source": [
    "o4 = Child()"
   ]
  },
  {
   "cell_type": "code",
   "execution_count": 7,
   "id": "010ed937",
   "metadata": {},
   "outputs": [
    {
     "name": "stdout",
     "output_type": "stream",
     "text": [
      "In the parent class\n",
      "In the child class\n"
     ]
    }
   ],
   "source": [
    "class Parent():\n",
    "    print(\"In the parent class\")\n",
    "    \n",
    "class Child(Parent):\n",
    "    print(\"In the child class\")\n",
    "    \n",
    "obj1 = Child()"
   ]
  },
  {
   "cell_type": "code",
   "execution_count": 8,
   "id": "dba6ed17",
   "metadata": {},
   "outputs": [
    {
     "name": "stdout",
     "output_type": "stream",
     "text": [
      "In the parent class\n",
      "In the child class\n"
     ]
    }
   ],
   "source": [
    "class Base():\n",
    "    print(\"In the parent class\")\n",
    "\n",
    "class Derived(Base):\n",
    "    print(\"In the child class\")\n",
    "    \n",
    "obj1 = Derived()"
   ]
  },
  {
   "cell_type": "code",
   "execution_count": 9,
   "id": "76328ec1",
   "metadata": {},
   "outputs": [],
   "source": [
    "class CompanyInfo():\n",
    "    def __init__(self,company_name,location):\n",
    "        print(\"Company Information __init__ Method\")\n",
    "        self.company_name = company_name\n",
    "        self.location = location\n",
    "    def get_companyName(self):\n",
    "        print(\"Company Name = \",self.company_name)\n",
    "        \n",
    "    def get_companyLocation(self):\n",
    "        print(\"Company Location = \",self.location)"
   ]
  },
  {
   "cell_type": "code",
   "execution_count": 10,
   "id": "f9cdab1f",
   "metadata": {},
   "outputs": [],
   "source": [
    "class EmployeeInfo():\n",
    "    def __init__(self,emp_name,salary):\n",
    "        print(\"Employee Information __init__ Method\")\n",
    "        self.emp_name = emp_name\n",
    "        self.salary = salary\n",
    "    \n",
    "    def get_empName(self):\n",
    "        print(f\"Employee Name = {self.emp_name}\")\n",
    "        \n",
    "    def get_empSalary(self):\n",
    "        print(f\"Employee Salary = {self.salary}\")"
   ]
  },
  {
   "cell_type": "code",
   "execution_count": 11,
   "id": "04149a42",
   "metadata": {},
   "outputs": [
    {
     "name": "stdout",
     "output_type": "stream",
     "text": [
      "Company Information __init__ Method\n"
     ]
    }
   ],
   "source": [
    "c1 = CompanyInfo(\"TCS\",\"Pune\")"
   ]
  },
  {
   "cell_type": "code",
   "execution_count": 12,
   "id": "cd988705",
   "metadata": {},
   "outputs": [
    {
     "data": {
      "text/plain": [
       "'TCS'"
      ]
     },
     "execution_count": 12,
     "metadata": {},
     "output_type": "execute_result"
    }
   ],
   "source": [
    "c1.company_name"
   ]
  },
  {
   "cell_type": "code",
   "execution_count": 13,
   "id": "53fda9f3",
   "metadata": {},
   "outputs": [
    {
     "data": {
      "text/plain": [
       "'Pune'"
      ]
     },
     "execution_count": 13,
     "metadata": {},
     "output_type": "execute_result"
    }
   ],
   "source": [
    "c1.location"
   ]
  },
  {
   "cell_type": "code",
   "execution_count": 14,
   "id": "656f4d94",
   "metadata": {},
   "outputs": [
    {
     "name": "stdout",
     "output_type": "stream",
     "text": [
      "Company Information __init__ Method\n",
      "Company Name =  Infosys\n",
      "Company Location =  Mumbai\n",
      "*********************************************\n",
      "Company Information __init__ Method\n",
      "Company Name =  Wipro\n",
      "Company Location =  Pune\n"
     ]
    }
   ],
   "source": [
    "c1 = CompanyInfo(\"Infosys\",\"Mumbai\")\n",
    "c1.get_companyName()\n",
    "c1.get_companyLocation()\n",
    "\n",
    "print(\"*\"*45)\n",
    "\n",
    "c2 = CompanyInfo(\"Wipro\",\"Pune\")\n",
    "c2.get_companyName()\n",
    "c2.get_companyLocation()"
   ]
  },
  {
   "cell_type": "code",
   "execution_count": 15,
   "id": "f256a8a1",
   "metadata": {},
   "outputs": [
    {
     "name": "stdout",
     "output_type": "stream",
     "text": [
      "Employee Information __init__ Method\n",
      "Employee Name = Yash\n",
      "Employee Salary = 1000000\n",
      "*********************************************\n",
      "Employee Information __init__ Method\n",
      "Employee Name = Amar\n",
      "Employee Salary = 1500000\n"
     ]
    }
   ],
   "source": [
    "e1 = EmployeeInfo(\"Yash\",1000000)\n",
    "e1.get_empName()\n",
    "e1.get_empSalary()\n",
    "\n",
    "print(\"*\"*45)\n",
    "\n",
    "e2 = EmployeeInfo(\"Amar\",1500000)\n",
    "e2.get_empName()\n",
    "e2.get_empSalary()"
   ]
  },
  {
   "cell_type": "code",
   "execution_count": 16,
   "id": "586a9d21",
   "metadata": {},
   "outputs": [],
   "source": [
    "class CompanyInfo(): # Parent Class\n",
    "    def __init__(self,company_name,location):\n",
    "        print(\"Company Information __init__ Method\")\n",
    "        self.company_name = company_name\n",
    "        self.location = location\n",
    "        \n",
    "    def get_companyName(self):\n",
    "        print(\"Company Name = \",self.company_name)\n",
    "        \n",
    "    def get_companyLocation(self):\n",
    "        print(\"Company Location = \",self.location)\n",
    "        \n",
    "\n",
    "class EmployeeInfo(CompanyInfo): # Child Class \n",
    "    def __init__(self,emp_name,salary):\n",
    "        print(\"Employee Information __init__ Method\")\n",
    "        self.emp_name = emp_name\n",
    "        self.salary = salary\n",
    "    \n",
    "    def get_empName(self):\n",
    "        print(f\"Employee Name = {self.emp_name}\")\n",
    "        \n",
    "    def get_empSalary(self):\n",
    "        print(f\"Employee Salary = {self.salary}\")"
   ]
  },
  {
   "cell_type": "code",
   "execution_count": 17,
   "id": "89b60246",
   "metadata": {},
   "outputs": [
    {
     "name": "stdout",
     "output_type": "stream",
     "text": [
      "Employee Information __init__ Method\n"
     ]
    }
   ],
   "source": [
    "obj1 = EmployeeInfo(\"Akash\",700000)"
   ]
  },
  {
   "cell_type": "code",
   "execution_count": 18,
   "id": "f8283fa7",
   "metadata": {},
   "outputs": [
    {
     "data": {
      "text/plain": [
       "'Akash'"
      ]
     },
     "execution_count": 18,
     "metadata": {},
     "output_type": "execute_result"
    }
   ],
   "source": [
    "obj1.emp_name"
   ]
  },
  {
   "cell_type": "code",
   "execution_count": 19,
   "id": "2cd4fc72",
   "metadata": {},
   "outputs": [
    {
     "data": {
      "text/plain": [
       "700000"
      ]
     },
     "execution_count": 19,
     "metadata": {},
     "output_type": "execute_result"
    }
   ],
   "source": [
    "obj1.salary"
   ]
  },
  {
   "cell_type": "code",
   "execution_count": 20,
   "id": "cbe72825",
   "metadata": {},
   "outputs": [
    {
     "name": "stdout",
     "output_type": "stream",
     "text": [
      "Employee Name = Akash\n"
     ]
    }
   ],
   "source": [
    "obj1.get_empName()"
   ]
  },
  {
   "cell_type": "code",
   "execution_count": 21,
   "id": "a7e176db",
   "metadata": {},
   "outputs": [
    {
     "name": "stdout",
     "output_type": "stream",
     "text": [
      "Employee Salary = 700000\n"
     ]
    }
   ],
   "source": [
    "obj1.get_empSalary()"
   ]
  },
  {
   "cell_type": "code",
   "execution_count": 22,
   "id": "1b0607d2",
   "metadata": {},
   "outputs": [
    {
     "ename": "AttributeError",
     "evalue": "'EmployeeInfo' object has no attribute 'location'",
     "output_type": "error",
     "traceback": [
      "\u001b[1;31m---------------------------------------------------------------------------\u001b[0m",
      "\u001b[1;31mAttributeError\u001b[0m                            Traceback (most recent call last)",
      "Cell \u001b[1;32mIn [22], line 1\u001b[0m\n\u001b[1;32m----> 1\u001b[0m \u001b[43mobj1\u001b[49m\u001b[38;5;241;43m.\u001b[39;49m\u001b[43mget_companyLocation\u001b[49m\u001b[43m(\u001b[49m\u001b[43m)\u001b[49m\n",
      "Cell \u001b[1;32mIn [16], line 11\u001b[0m, in \u001b[0;36mCompanyInfo.get_companyLocation\u001b[1;34m(self)\u001b[0m\n\u001b[0;32m     10\u001b[0m \u001b[38;5;28;01mdef\u001b[39;00m \u001b[38;5;21mget_companyLocation\u001b[39m(\u001b[38;5;28mself\u001b[39m):\n\u001b[1;32m---> 11\u001b[0m     \u001b[38;5;28mprint\u001b[39m(\u001b[38;5;124m\"\u001b[39m\u001b[38;5;124mCompany Location = \u001b[39m\u001b[38;5;124m\"\u001b[39m,\u001b[38;5;28;43mself\u001b[39;49m\u001b[38;5;241;43m.\u001b[39;49m\u001b[43mlocation\u001b[49m)\n",
      "\u001b[1;31mAttributeError\u001b[0m: 'EmployeeInfo' object has no attribute 'location'"
     ]
    }
   ],
   "source": [
    "obj1.get_companyLocation()"
   ]
  },
  {
   "cell_type": "code",
   "execution_count": 1,
   "id": "97af8902",
   "metadata": {},
   "outputs": [],
   "source": [
    "class CompanyInfo(): # Parent Class\n",
    "    company_area = \"Magarpatta\"\n",
    "    def __init__(self,company_name,location):\n",
    "        print(\"Company Information __init__ Method\")\n",
    "        self.company_name = company_name\n",
    "        self.location = location\n",
    "        \n",
    "    def get_companyName(self):\n",
    "        print(\"Company Name = \",self.company_name)\n",
    "        \n",
    "    def get_companyLocation(self):\n",
    "        print(\"Company Location = \",self.location)\n",
    "        \n",
    "\n",
    "class EmployeeInfo(CompanyInfo): # Child Class \n",
    "    def __init__(self,emp_name,salary):\n",
    "        print(\"Employee Information __init__ Method\")\n",
    "        CompanyInfo.__init__(self,\"Qualcomn\",\"Banglore\")\n",
    "        self.emp_name = emp_name\n",
    "        self.salary = salary\n",
    "    \n",
    "    def get_empName(self):\n",
    "        print(f\"Employee Name = {self.emp_name}\")\n",
    "        \n",
    "    def get_empSalary(self):\n",
    "        print(f\"Employee Salary = {self.salary}\")"
   ]
  },
  {
   "cell_type": "code",
   "execution_count": 2,
   "id": "0524f8ef",
   "metadata": {},
   "outputs": [
    {
     "name": "stdout",
     "output_type": "stream",
     "text": [
      "Employee Information __init__ Method\n",
      "Company Information __init__ Method\n"
     ]
    }
   ],
   "source": [
    "obj1 = EmployeeInfo(\"Shubham\",1200000)"
   ]
  },
  {
   "cell_type": "code",
   "execution_count": 3,
   "id": "d4d1181b",
   "metadata": {},
   "outputs": [
    {
     "data": {
      "text/plain": [
       "'Qualcomn'"
      ]
     },
     "execution_count": 3,
     "metadata": {},
     "output_type": "execute_result"
    }
   ],
   "source": [
    "obj1.company_name"
   ]
  },
  {
   "cell_type": "code",
   "execution_count": 4,
   "id": "9fab4c46",
   "metadata": {},
   "outputs": [
    {
     "data": {
      "text/plain": [
       "'Banglore'"
      ]
     },
     "execution_count": 4,
     "metadata": {},
     "output_type": "execute_result"
    }
   ],
   "source": [
    "obj1.location"
   ]
  },
  {
   "cell_type": "code",
   "execution_count": 5,
   "id": "51ac60d5",
   "metadata": {},
   "outputs": [
    {
     "name": "stdout",
     "output_type": "stream",
     "text": [
      "Employee Information __init__ Method\n",
      "Company Information __init__ Method\n",
      "Employee Name = Saurabh\n",
      "Employee Salary = 2100000\n",
      "****************************************\n",
      "Company Name =  Qualcomn\n",
      "Company Location =  Banglore\n"
     ]
    }
   ],
   "source": [
    "obj2 = EmployeeInfo(\"Saurabh\",2100000)\n",
    "obj2.get_empName()\n",
    "obj2.get_empSalary()\n",
    "print(\"*\"*40)\n",
    "obj2.get_companyName()\n",
    "obj2.get_companyLocation()"
   ]
  },
  {
   "cell_type": "code",
   "execution_count": 6,
   "id": "f9346f72",
   "metadata": {},
   "outputs": [
    {
     "data": {
      "text/plain": [
       "'Magarpatta'"
      ]
     },
     "execution_count": 6,
     "metadata": {},
     "output_type": "execute_result"
    }
   ],
   "source": [
    "obj2.company_area"
   ]
  },
  {
   "cell_type": "code",
   "execution_count": 7,
   "id": "bc315018",
   "metadata": {},
   "outputs": [],
   "source": [
    "class T1():\n",
    "    def Say_Hi(self):\n",
    "        print(\"Hi\")\n",
    "    \n",
    "class T2():\n",
    "    def Say_Hello(self):\n",
    "        print(\"Hello\")"
   ]
  },
  {
   "cell_type": "code",
   "execution_count": 8,
   "id": "d3141302",
   "metadata": {},
   "outputs": [
    {
     "name": "stdout",
     "output_type": "stream",
     "text": [
      "Hi\n",
      "----------\n",
      "Hello\n"
     ]
    }
   ],
   "source": [
    "o1 = T1()\n",
    "o1.Say_Hi()\n",
    "print(\"-\"*10)\n",
    "o2 = T2()\n",
    "o2.Say_Hello()"
   ]
  },
  {
   "cell_type": "code",
   "execution_count": 9,
   "id": "25fe1c00",
   "metadata": {},
   "outputs": [
    {
     "name": "stdout",
     "output_type": "stream",
     "text": [
      "Hi\n"
     ]
    }
   ],
   "source": [
    "class T1():\n",
    "    def Say_Hi(self):\n",
    "        print(\"Hi\")\n",
    "    \n",
    "class T2(T1):\n",
    "    def Say_Hello(self):\n",
    "        print(\"Hello\")\n",
    "        \n",
    "o1 = T2()\n",
    "o1.Say_Hi()"
   ]
  },
  {
   "cell_type": "code",
   "execution_count": 10,
   "id": "c5eceb11",
   "metadata": {},
   "outputs": [
    {
     "name": "stdout",
     "output_type": "stream",
     "text": [
      "Hi\n"
     ]
    }
   ],
   "source": [
    "o1 = T2()\n",
    "o1.Say_Hi()"
   ]
  },
  {
   "cell_type": "code",
   "execution_count": 11,
   "id": "aeb35c55",
   "metadata": {},
   "outputs": [
    {
     "name": "stdout",
     "output_type": "stream",
     "text": [
      "Hello\n"
     ]
    }
   ],
   "source": [
    "def Say_Hi():\n",
    "    print(\"Hi\")\n",
    "def Say_Hi():\n",
    "    print(\"Hello\")\n",
    "    \n",
    "Say_Hi()"
   ]
  },
  {
   "cell_type": "code",
   "execution_count": 1,
   "id": "8c6e8fad",
   "metadata": {},
   "outputs": [],
   "source": [
    "class CompanyInfo(): # Parent Class\n",
    "    company_area = \"Magarpatta\"\n",
    "    def __init__(self,company_name,location):\n",
    "        print(\"Company Information __init__ method\")\n",
    "        self.company_name = company_name\n",
    "        self.location = location\n",
    "        \n",
    "    def get_companyName(self):\n",
    "        print(\"Company Name = \",self.company_name)\n",
    "        \n",
    "    def get_companyLocation(self):\n",
    "        print(\"Company Location = \",self.location)\n",
    "        \n",
    "class EmployeeInfo(CompanyInfo): # Child Class\n",
    "    def __init__(self,emp_name, salary,company_name,location):\n",
    "        print(\"Employee Information __init__ method\")\n",
    "        CompanyInfo.__init__(self,company_name,location)\n",
    "        self.emp_name = emp_name\n",
    "        self.salary = salary\n",
    "        \n",
    "    def get_empName(self):\n",
    "        print(f\"Employee Name = {self.emp_name}\")\n",
    "        \n",
    "    def get_salary(self):\n",
    "        print(f\"Employee Salary = {self.salary}\")"
   ]
  },
  {
   "cell_type": "code",
   "execution_count": 3,
   "id": "7c0472a5",
   "metadata": {
    "scrolled": true
   },
   "outputs": [
    {
     "name": "stdout",
     "output_type": "stream",
     "text": [
      "Employee Information __init__ method\n",
      "Company Information __init__ method\n",
      "Employee Name = Saurabh\n",
      "Employee Salary = 2100000\n",
      "---------------------------------------------\n",
      "Magarpatta\n",
      "Company Name =  TCS\n",
      "Company Location =  Banglore\n"
     ]
    }
   ],
   "source": [
    "obj1 = EmployeeInfo(\"Saurabh\",2100000,\"TCS\",\"Banglore\")\n",
    "obj1.get_empName()\n",
    "obj1.get_salary()\n",
    "print(\"-\"*45)\n",
    "print(EmployeeInfo.company_area)\n",
    "obj1.get_companyName()\n",
    "obj1.get_companyLocation()"
   ]
  },
  {
   "cell_type": "markdown",
   "id": "37d11464",
   "metadata": {},
   "source": [
    "# Single Inheritance"
   ]
  },
  {
   "cell_type": "code",
   "execution_count": 33,
   "id": "684bc659",
   "metadata": {},
   "outputs": [
    {
     "name": "stdout",
     "output_type": "stream",
     "text": [
      "In the Child class __init__ Method\n",
      "In The parent class __init__ Method\n"
     ]
    }
   ],
   "source": [
    "class Parent():\n",
    "    def __init__(self):\n",
    "        print(\"In The parent class __init__ Method\")\n",
    "        \n",
    "class Child(Parent):\n",
    "    def __init__(self):\n",
    "        print(\"In the Child class __init__ Method\")\n",
    "        super().__init__()\n",
    "\n",
    "c1 = Child()"
   ]
  },
  {
   "cell_type": "code",
   "execution_count": 34,
   "id": "1157fc33",
   "metadata": {},
   "outputs": [
    {
     "name": "stdout",
     "output_type": "stream",
     "text": [
      "Employee Information __init__ method\n",
      "Company Information __init__ method\n",
      "Employee Name = Saurabh\n",
      "Employee Salary = 2100000\n",
      "*********************************************\n",
      "Magarpatta\n",
      "Company Name =  TCS\n",
      "Company Location =  Pune\n"
     ]
    }
   ],
   "source": [
    "class CompanyInfo(): # Parent Class\n",
    "    company_area = \"Magarpatta\"\n",
    "    def __init__(self,company_name,location):\n",
    "        print(\"Company Information __init__ method\")\n",
    "        self.company_name = company_name\n",
    "        self.location = location\n",
    "        \n",
    "    def get_companyName(self):\n",
    "        print(\"Company Name = \",self.company_name)\n",
    "        \n",
    "    def get_companyLocation(self):\n",
    "        print(\"Company Location = \",self.location)\n",
    "        \n",
    "class EmployeeInfo(CompanyInfo): # Child Class\n",
    "    def __init__(self,emp_name, salary):\n",
    "        print(\"Employee Information __init__ method\")\n",
    "        CompanyInfo.__init__(self,\"TCS\",\"Pune\")\n",
    "        self.emp_name = emp_name\n",
    "        self.salary = salary\n",
    "        \n",
    "    def get_empName(self):\n",
    "        print(f\"Employee Name = {self.emp_name}\")\n",
    "        \n",
    "    def get_salary(self):\n",
    "        print(f\"Employee Salary = {self.salary}\")\n",
    "        \n",
    "obj1 = EmployeeInfo(\"Saurabh\",2100000)\n",
    "obj1.get_empName()\n",
    "obj1.get_salary()\n",
    "print(\"*\"*45)\n",
    "print(obj1.company_area)\n",
    "obj1.get_companyName()\n",
    "obj1.get_companyLocation()"
   ]
  },
  {
   "cell_type": "code",
   "execution_count": 15,
   "id": "4cdc97cb",
   "metadata": {},
   "outputs": [
    {
     "name": "stdout",
     "output_type": "stream",
     "text": [
      "Employee Information __init__ method\n",
      "Company Information __init__ method\n",
      "Employee Name = Saurabh\n",
      "Employee Salary = 2100000\n",
      "*********************************************\n",
      "Magarpatta\n",
      "Company Name =  TCS\n",
      "Company Location =  Pune\n"
     ]
    }
   ],
   "source": [
    "class CompanyInfo(): # Parent Class\n",
    "    company_area = \"Magarpatta\"\n",
    "    def __init__(self,company_name,location):\n",
    "        print(\"Company Information __init__ method\")\n",
    "        self.company_name = company_name\n",
    "        self.location = location\n",
    "        \n",
    "    def get_companyName(self):\n",
    "        print(\"Company Name = \",self.company_name)\n",
    "        \n",
    "    def get_companyLocation(self):\n",
    "        print(\"Company Location = \",self.location)\n",
    "        \n",
    "class EmployeeInfo(CompanyInfo): # Child Class\n",
    "    def __init__(self,emp_name, salary):\n",
    "        print(\"Employee Information __init__ method\")\n",
    "        super().__init__(\"TCS\",\"Pune\")\n",
    "        self.emp_name = emp_name\n",
    "        self.salary = salary\n",
    "        \n",
    "    def get_empName(self):\n",
    "        print(f\"Employee Name = {self.emp_name}\")\n",
    "        \n",
    "    def get_salary(self):\n",
    "        print(f\"Employee Salary = {self.salary}\")\n",
    "        \n",
    "obj1 = EmployeeInfo(\"Saurabh\",2100000)\n",
    "obj1.get_empName()\n",
    "obj1.get_salary()\n",
    "print(\"*\"*45)\n",
    "print(obj1.company_area)\n",
    "obj1.get_companyName()\n",
    "obj1.get_companyLocation()"
   ]
  }
 ],
 "metadata": {
  "kernelspec": {
   "display_name": "Python 3 (ipykernel)",
   "language": "python",
   "name": "python3"
  },
  "language_info": {
   "codemirror_mode": {
    "name": "ipython",
    "version": 3
   },
   "file_extension": ".py",
   "mimetype": "text/x-python",
   "name": "python",
   "nbconvert_exporter": "python",
   "pygments_lexer": "ipython3",
   "version": "3.12.4"
  }
 },
 "nbformat": 4,
 "nbformat_minor": 5
}
