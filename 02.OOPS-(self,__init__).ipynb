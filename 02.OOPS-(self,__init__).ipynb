{
 "cells": [
  {
   "cell_type": "markdown",
   "id": "2c6d5ed5",
   "metadata": {},
   "source": [
    "# OOPS"
   ]
  },
  {
   "cell_type": "code",
   "execution_count": 2,
   "id": "4f5655ad",
   "metadata": {},
   "outputs": [],
   "source": [
    "class EmpDetails():\n",
    "    \n",
    "    def emp_fname(self):\n",
    "        pass\n",
    "    \n",
    "    def emp_lname(self):\n",
    "        pass\n",
    "    \n",
    "    def emp_fullname(self):\n",
    "        pass\n",
    "    \n",
    "    def emp_salary(self):\n",
    "        pass\n",
    "    \n",
    "    def company_name(self):\n",
    "        pass\n",
    "    \n",
    "    def emp_designation(self):\n",
    "        pass\n",
    "    \n",
    "emp1 = EmpDetails()"
   ]
  },
  {
   "cell_type": "code",
   "execution_count": 3,
   "id": "5339ea8d",
   "metadata": {},
   "outputs": [],
   "source": [
    "class EmpDetails():\n",
    "    \n",
    "    def emp_fname(self,name):\n",
    "        print(f\"First name = {name}\")\n",
    "    \n",
    "    def emp_lname(self,lname):\n",
    "        print(f\"Last name = {lname}\")\n",
    "    \n",
    "    def emp_fullname(self):\n",
    "        pass\n",
    "    \n",
    "    def emp_salary(self,salary):\n",
    "        print(f\"Salary = {salary}\")\n",
    "        \n",
    "    def company_name(self,c_name):\n",
    "        print(f\"C_Name = {c_name}\")\n",
    "    \n",
    "    def emp_designation(self,Designation):\n",
    "        print(f\"Designation = {Designation}\")\n",
    "    \n",
    "emp1 = EmpDetails()"
   ]
  },
  {
   "cell_type": "code",
   "execution_count": 4,
   "id": "e3244b0f",
   "metadata": {},
   "outputs": [
    {
     "name": "stdout",
     "output_type": "stream",
     "text": [
      "First name = Akshata\n"
     ]
    }
   ],
   "source": [
    "emp1.emp_fname(\"Akshata\")"
   ]
  },
  {
   "cell_type": "code",
   "execution_count": 5,
   "id": "70f412b7",
   "metadata": {},
   "outputs": [
    {
     "name": "stdout",
     "output_type": "stream",
     "text": [
      "Designation = Data Scientist\n"
     ]
    }
   ],
   "source": [
    "emp2 = EmpDetails()\n",
    "emp2.emp_designation(\"Data Scientist\")"
   ]
  },
  {
   "cell_type": "code",
   "execution_count": 6,
   "id": "7ee7ec02",
   "metadata": {},
   "outputs": [
    {
     "name": "stdout",
     "output_type": "stream",
     "text": [
      "Salary = 1500000\n"
     ]
    }
   ],
   "source": [
    "emp2.emp_salary(1500000)"
   ]
  },
  {
   "cell_type": "code",
   "execution_count": 7,
   "id": "94b2b972",
   "metadata": {},
   "outputs": [],
   "source": [
    "class EmpDetails():\n",
    "    var = \"Python\"\n",
    "    \n",
    "    def emp_fname(self,name):\n",
    "        self.name = name\n",
    "        print(f\"First name = {name}\")\n",
    "    \n",
    "    def emp_lname(self,lname):\n",
    "        self.lname = lname\n",
    "        print(f\"Last name = {lname}\")\n",
    "    \n",
    "    def emp_fullname(self):\n",
    "        print(f\"The Employee Full name = {self.name} {self.lname}\")\n",
    "    \n",
    "    def emp_salary(self,salary):\n",
    "        print(f\"Salary = {salary}\")\n",
    "        \n",
    "    def company_name(self,c_name):\n",
    "        print(f\"C_Name of {self.name} {self.lname}= {c_name}\")\n",
    "    \n",
    "    def emp_designation(self,Designation):\n",
    "        print(f\"Designation = {Designation}\")"
   ]
  },
  {
   "cell_type": "code",
   "execution_count": 8,
   "id": "09c816c9",
   "metadata": {},
   "outputs": [
    {
     "name": "stdout",
     "output_type": "stream",
     "text": [
      "First name = Yash\n",
      "Last name = Sawant\n",
      "The Employee Full name = Yash Sawant\n"
     ]
    }
   ],
   "source": [
    "emp1 = EmpDetails()\n",
    "emp1.emp_fname(\"Yash\")\n",
    "emp1.emp_lname(\"Sawant\")\n",
    "emp1.emp_fullname()"
   ]
  },
  {
   "cell_type": "code",
   "execution_count": 9,
   "id": "48e0aa29",
   "metadata": {},
   "outputs": [
    {
     "name": "stdout",
     "output_type": "stream",
     "text": [
      "C_Name of Yash Sawant= TCS\n"
     ]
    }
   ],
   "source": [
    "emp1.company_name(\"TCS\")"
   ]
  },
  {
   "cell_type": "code",
   "execution_count": 10,
   "id": "207ebd27",
   "metadata": {},
   "outputs": [
    {
     "name": "stdout",
     "output_type": "stream",
     "text": [
      "First name = XYZ\n"
     ]
    }
   ],
   "source": [
    "emp1.emp_fname(\"XYZ\")"
   ]
  },
  {
   "cell_type": "code",
   "execution_count": 11,
   "id": "2f645e01",
   "metadata": {},
   "outputs": [
    {
     "data": {
      "text/plain": [
       "'Python'"
      ]
     },
     "execution_count": 11,
     "metadata": {},
     "output_type": "execute_result"
    }
   ],
   "source": [
    "emp1.var"
   ]
  },
  {
   "cell_type": "markdown",
   "id": "927cf7fe",
   "metadata": {},
   "source": [
    "# init :- It will execute automatically when we create an new object"
   ]
  },
  {
   "cell_type": "code",
   "execution_count": 12,
   "id": "8910212b",
   "metadata": {},
   "outputs": [],
   "source": [
    "class Test_init():\n",
    "    def __init__(self):\n",
    "        print(\"Executing __init__ method\")"
   ]
  },
  {
   "cell_type": "code",
   "execution_count": 14,
   "id": "6671bfb4",
   "metadata": {},
   "outputs": [
    {
     "name": "stdout",
     "output_type": "stream",
     "text": [
      "Executing __init__ method\n",
      "Executing __init__ method\n",
      "Executing __init__ method\n"
     ]
    }
   ],
   "source": [
    "t1 = Test_init()\n",
    "t2 = Test_init()\n",
    "t3 = Test_init()"
   ]
  },
  {
   "cell_type": "code",
   "execution_count": 15,
   "id": "5d5a3601",
   "metadata": {},
   "outputs": [],
   "source": [
    "class Test_init():\n",
    "    def __init__(self,f_var,s_var):\n",
    "        print(\"Executing __init__ method\")\n",
    "        self.fvar = f_var\n",
    "        self.svar = s_var\n",
    "        print(f\"Init method fvar = {self.fvar}\")\n",
    "        print(f\"Init method svar = {self.svar}\")\n",
    "        \n",
    "    def first_method(self,first_val):\n",
    "        print(f\"In the first method and prinitng the first variable {self.fvar}\")\n",
    "        print(first_val)\n",
    "        \n",
    "    def second_method(self):\n",
    "        print(f\"In the second method and pritnig the second variable {self.svar}\")"
   ]
  },
  {
   "cell_type": "code",
   "execution_count": 16,
   "id": "305652fa",
   "metadata": {},
   "outputs": [
    {
     "name": "stdout",
     "output_type": "stream",
     "text": [
      "Executing __init__ method\n",
      "Init method fvar = Python\n",
      "Init method svar = Data Science\n"
     ]
    }
   ],
   "source": [
    "t1 =Test_init(\"Python\",\"Data Science\")"
   ]
  },
  {
   "cell_type": "code",
   "execution_count": 17,
   "id": "842a4926",
   "metadata": {},
   "outputs": [
    {
     "name": "stdout",
     "output_type": "stream",
     "text": [
      "Executing __init__ method\n",
      "Init method fvar = DS\n",
      "Init method svar = NLP\n"
     ]
    }
   ],
   "source": [
    "t2 = Test_init(\"DS\",\"NLP\")"
   ]
  },
  {
   "cell_type": "code",
   "execution_count": 18,
   "id": "116aabe3",
   "metadata": {},
   "outputs": [
    {
     "name": "stdout",
     "output_type": "stream",
     "text": [
      "In the second method and pritnig the second variable NLP\n"
     ]
    }
   ],
   "source": [
    "t2.second_method()"
   ]
  },
  {
   "cell_type": "code",
   "execution_count": 19,
   "id": "44c09fac",
   "metadata": {},
   "outputs": [
    {
     "name": "stdout",
     "output_type": "stream",
     "text": [
      "In the first method and prinitng the first variable DS\n",
      "Deep learning\n"
     ]
    }
   ],
   "source": [
    "t2.first_method(\"Deep learning\")"
   ]
  },
  {
   "cell_type": "code",
   "execution_count": 20,
   "id": "f099ddfe",
   "metadata": {},
   "outputs": [
    {
     "data": {
      "text/plain": [
       "'DS'"
      ]
     },
     "execution_count": 20,
     "metadata": {},
     "output_type": "execute_result"
    }
   ],
   "source": [
    "t2.fvar"
   ]
  },
  {
   "cell_type": "code",
   "execution_count": 21,
   "id": "afe4f3cf",
   "metadata": {},
   "outputs": [
    {
     "data": {
      "text/plain": [
       "'NLP'"
      ]
     },
     "execution_count": 21,
     "metadata": {},
     "output_type": "execute_result"
    }
   ],
   "source": [
    "t2.svar"
   ]
  },
  {
   "cell_type": "code",
   "execution_count": 22,
   "id": "54ab04c4",
   "metadata": {},
   "outputs": [],
   "source": [
    "class EmpDetails():\n",
    "    var = \"Python\"\n",
    "    def __init__(self,name,salary,c_name,designation):\n",
    "        print(\"Initializing all variables\")\n",
    "        self.name = name\n",
    "        self.salary = salary\n",
    "        self.c_name = c_name\n",
    "        self.designation = designation\n",
    "        print(self.name)\n",
    "        print(self.salary)\n",
    "        print(self.c_name)\n",
    "        print(self.designation)\n",
    "    \n",
    "    def emp_fname(self):\n",
    "        print(f\"First name = {self.name}\")\n",
    "        print(f\"Class Variable = {self.var}\")\n",
    "        \n",
    "    def emp_salary(self):\n",
    "        print(f\"Salary = {self.salary}\")\n",
    "        \n",
    "    def company_name(self):\n",
    "        print(f\"C_Name of {self.name} = {self.c_name}\")\n",
    "        \n",
    "    def emp_designation(self):\n",
    "        print(f\"Designation = {self.designation}\")\n",
    "        "
   ]
  },
  {
   "cell_type": "code",
   "execution_count": 23,
   "id": "db2c5db5",
   "metadata": {},
   "outputs": [
    {
     "name": "stdout",
     "output_type": "stream",
     "text": [
      "Initializing all variables\n",
      "Rakesh\n",
      "1500000\n",
      "Accenture\n",
      "Data Engineer\n"
     ]
    }
   ],
   "source": [
    "e1 =EmpDetails(\"Rakesh\",1500000,\"Accenture\",\"Data Engineer\")"
   ]
  },
  {
   "cell_type": "code",
   "execution_count": 24,
   "id": "264875f8",
   "metadata": {},
   "outputs": [
    {
     "name": "stdout",
     "output_type": "stream",
     "text": [
      "First name = Rakesh\n",
      "Class Variable = Python\n"
     ]
    }
   ],
   "source": [
    "e1.emp_fname()"
   ]
  },
  {
   "cell_type": "code",
   "execution_count": 26,
   "id": "e3364016",
   "metadata": {},
   "outputs": [
    {
     "name": "stdout",
     "output_type": "stream",
     "text": [
      "Salary = 1500000\n"
     ]
    }
   ],
   "source": [
    "e1.emp_salary()"
   ]
  },
  {
   "cell_type": "code",
   "execution_count": 27,
   "id": "edb2983f",
   "metadata": {},
   "outputs": [
    {
     "name": "stdout",
     "output_type": "stream",
     "text": [
      "Designation = Data Engineer\n"
     ]
    }
   ],
   "source": [
    "e1.emp_designation()"
   ]
  },
  {
   "cell_type": "code",
   "execution_count": 28,
   "id": "37fbfb9c",
   "metadata": {},
   "outputs": [
    {
     "name": "stdout",
     "output_type": "stream",
     "text": [
      "C_Name of Rakesh = Accenture\n"
     ]
    }
   ],
   "source": [
    "e1.company_name()"
   ]
  },
  {
   "cell_type": "code",
   "execution_count": 29,
   "id": "47bbb1fc",
   "metadata": {},
   "outputs": [
    {
     "name": "stdout",
     "output_type": "stream",
     "text": [
      "Initializing all variables\n",
      "Rutik\n",
      "1300000\n",
      "Wipro\n",
      "Data Analyst\n"
     ]
    }
   ],
   "source": [
    "e2 = EmpDetails(\"Rutik\",1300000,\"Wipro\",\"Data Analyst\")"
   ]
  },
  {
   "cell_type": "code",
   "execution_count": 30,
   "id": "313ed0cb",
   "metadata": {},
   "outputs": [],
   "source": [
    "class Employee():\n",
    "    pass"
   ]
  },
  {
   "cell_type": "code",
   "execution_count": 31,
   "id": "c3fbeae5",
   "metadata": {},
   "outputs": [],
   "source": [
    "emp1 =Employee()"
   ]
  },
  {
   "cell_type": "code",
   "execution_count": 32,
   "id": "a8da0dab",
   "metadata": {},
   "outputs": [],
   "source": [
    "emp1.fname = \"Nitin\"\n",
    "emp1.lname = \"Kumar\""
   ]
  },
  {
   "cell_type": "code",
   "execution_count": 34,
   "id": "d83c6800",
   "metadata": {},
   "outputs": [
    {
     "data": {
      "text/plain": [
       "'Nitin'"
      ]
     },
     "execution_count": 34,
     "metadata": {},
     "output_type": "execute_result"
    }
   ],
   "source": [
    "emp1.fname"
   ]
  },
  {
   "cell_type": "code",
   "execution_count": 35,
   "id": "d2bc298e",
   "metadata": {},
   "outputs": [
    {
     "data": {
      "text/plain": [
       "'Kumar'"
      ]
     },
     "execution_count": 35,
     "metadata": {},
     "output_type": "execute_result"
    }
   ],
   "source": [
    "emp1.lname"
   ]
  },
  {
   "cell_type": "code",
   "execution_count": 37,
   "id": "42d128bd",
   "metadata": {},
   "outputs": [
    {
     "name": "stdout",
     "output_type": "stream",
     "text": [
      "{'fname': 'Nitin', 'lname': 'Kumar'}\n"
     ]
    }
   ],
   "source": [
    "print(emp1.__dict__)"
   ]
  },
  {
   "cell_type": "code",
   "execution_count": 38,
   "id": "25ac0bef",
   "metadata": {},
   "outputs": [
    {
     "name": "stdout",
     "output_type": "stream",
     "text": [
      "{'name': 'Rakesh', 'salary': 1500000, 'c_name': 'Accenture', 'designation': 'Data Engineer'}\n"
     ]
    }
   ],
   "source": [
    "print(e1.__dict__)"
   ]
  },
  {
   "cell_type": "code",
   "execution_count": 39,
   "id": "79a1d553",
   "metadata": {},
   "outputs": [
    {
     "data": {
      "text/plain": [
       "['__class__',\n",
       " '__delattr__',\n",
       " '__dict__',\n",
       " '__dir__',\n",
       " '__doc__',\n",
       " '__eq__',\n",
       " '__format__',\n",
       " '__ge__',\n",
       " '__getattribute__',\n",
       " '__gt__',\n",
       " '__hash__',\n",
       " '__init__',\n",
       " '__init_subclass__',\n",
       " '__le__',\n",
       " '__lt__',\n",
       " '__module__',\n",
       " '__ne__',\n",
       " '__new__',\n",
       " '__reduce__',\n",
       " '__reduce_ex__',\n",
       " '__repr__',\n",
       " '__setattr__',\n",
       " '__sizeof__',\n",
       " '__str__',\n",
       " '__subclasshook__',\n",
       " '__weakref__',\n",
       " 'company_name',\n",
       " 'emp_designation',\n",
       " 'emp_fname',\n",
       " 'emp_salary',\n",
       " 'var']"
      ]
     },
     "execution_count": 39,
     "metadata": {},
     "output_type": "execute_result"
    }
   ],
   "source": [
    "dir(EmpDetails)"
   ]
  },
  {
   "cell_type": "code",
   "execution_count": 40,
   "id": "0512cac2",
   "metadata": {},
   "outputs": [
    {
     "data": {
      "text/plain": [
       "['__class__',\n",
       " '__delattr__',\n",
       " '__dict__',\n",
       " '__dir__',\n",
       " '__doc__',\n",
       " '__eq__',\n",
       " '__format__',\n",
       " '__ge__',\n",
       " '__getattribute__',\n",
       " '__gt__',\n",
       " '__hash__',\n",
       " '__init__',\n",
       " '__init_subclass__',\n",
       " '__le__',\n",
       " '__lt__',\n",
       " '__module__',\n",
       " '__ne__',\n",
       " '__new__',\n",
       " '__reduce__',\n",
       " '__reduce_ex__',\n",
       " '__repr__',\n",
       " '__setattr__',\n",
       " '__sizeof__',\n",
       " '__str__',\n",
       " '__subclasshook__',\n",
       " '__weakref__']"
      ]
     },
     "execution_count": 40,
     "metadata": {},
     "output_type": "execute_result"
    }
   ],
   "source": [
    "dir(Employee)"
   ]
  },
  {
   "cell_type": "code",
   "execution_count": 41,
   "id": "e38f9b16",
   "metadata": {},
   "outputs": [
    {
     "data": {
      "text/plain": [
       "['__class__',\n",
       " '__delattr__',\n",
       " '__dict__',\n",
       " '__dir__',\n",
       " '__doc__',\n",
       " '__eq__',\n",
       " '__format__',\n",
       " '__ge__',\n",
       " '__getattribute__',\n",
       " '__gt__',\n",
       " '__hash__',\n",
       " '__init__',\n",
       " '__init_subclass__',\n",
       " '__le__',\n",
       " '__lt__',\n",
       " '__module__',\n",
       " '__ne__',\n",
       " '__new__',\n",
       " '__reduce__',\n",
       " '__reduce_ex__',\n",
       " '__repr__',\n",
       " '__setattr__',\n",
       " '__sizeof__',\n",
       " '__str__',\n",
       " '__subclasshook__',\n",
       " '__weakref__',\n",
       " 'fname',\n",
       " 'lname']"
      ]
     },
     "execution_count": 41,
     "metadata": {},
     "output_type": "execute_result"
    }
   ],
   "source": [
    "dir(emp1)"
   ]
  },
  {
   "cell_type": "code",
   "execution_count": 42,
   "id": "c1282595",
   "metadata": {},
   "outputs": [
    {
     "data": {
      "text/plain": [
       "['__add__',\n",
       " '__class__',\n",
       " '__class_getitem__',\n",
       " '__contains__',\n",
       " '__delattr__',\n",
       " '__delitem__',\n",
       " '__dir__',\n",
       " '__doc__',\n",
       " '__eq__',\n",
       " '__format__',\n",
       " '__ge__',\n",
       " '__getattribute__',\n",
       " '__getitem__',\n",
       " '__gt__',\n",
       " '__hash__',\n",
       " '__iadd__',\n",
       " '__imul__',\n",
       " '__init__',\n",
       " '__init_subclass__',\n",
       " '__iter__',\n",
       " '__le__',\n",
       " '__len__',\n",
       " '__lt__',\n",
       " '__mul__',\n",
       " '__ne__',\n",
       " '__new__',\n",
       " '__reduce__',\n",
       " '__reduce_ex__',\n",
       " '__repr__',\n",
       " '__reversed__',\n",
       " '__rmul__',\n",
       " '__setattr__',\n",
       " '__setitem__',\n",
       " '__sizeof__',\n",
       " '__str__',\n",
       " '__subclasshook__',\n",
       " 'append',\n",
       " 'clear',\n",
       " 'copy',\n",
       " 'count',\n",
       " 'extend',\n",
       " 'index',\n",
       " 'insert',\n",
       " 'pop',\n",
       " 'remove',\n",
       " 'reverse',\n",
       " 'sort']"
      ]
     },
     "execution_count": 42,
     "metadata": {},
     "output_type": "execute_result"
    }
   ],
   "source": [
    "dir(list)"
   ]
  },
  {
   "cell_type": "code",
   "execution_count": 44,
   "id": "1f396149",
   "metadata": {},
   "outputs": [],
   "source": [
    "class Employee:\n",
    "    def __init__(self,fname,lname):\n",
    "        self.fname = fname\n",
    "        self.lname = lname\n",
    "        self.email = fname.lower() + \".\" + lname.lower() +\"@gmail.com\"\n",
    "        \n",
    "    def get_Fullname(self):\n",
    "        print(f\"Full Name = {self.fname} {self.lname}\")\n",
    "        print(f\"Mail Id = {self.email}\")"
   ]
  },
  {
   "cell_type": "code",
   "execution_count": 45,
   "id": "08cb3fb0",
   "metadata": {},
   "outputs": [],
   "source": [
    "emp1 =Employee(\"Rajesh\",\"Pawar\")"
   ]
  },
  {
   "cell_type": "code",
   "execution_count": 47,
   "id": "d4872da9",
   "metadata": {},
   "outputs": [
    {
     "name": "stdout",
     "output_type": "stream",
     "text": [
      "Full Name = Rajesh Pawar\n",
      "Mail Id = rajesh.pawar@gmail.com\n"
     ]
    }
   ],
   "source": [
    "emp1.get_Fullname()"
   ]
  },
  {
   "cell_type": "code",
   "execution_count": 48,
   "id": "2a50261d",
   "metadata": {},
   "outputs": [],
   "source": [
    "emp2 =Employee(\"Sakshi\",\"More\")\n"
   ]
  },
  {
   "cell_type": "code",
   "execution_count": 49,
   "id": "30e46a68",
   "metadata": {},
   "outputs": [
    {
     "name": "stdout",
     "output_type": "stream",
     "text": [
      "Full Name = Sakshi More\n",
      "Mail Id = sakshi.more@gmail.com\n"
     ]
    }
   ],
   "source": [
    "Employee.get_Fullname(emp2)"
   ]
  },
  {
   "cell_type": "code",
   "execution_count": 50,
   "id": "32e0275a",
   "metadata": {},
   "outputs": [
    {
     "name": "stdout",
     "output_type": "stream",
     "text": [
      "Full Name = Rajesh Pawar\n",
      "Mail Id = rajesh.pawar@gmail.com\n"
     ]
    }
   ],
   "source": [
    "Employee.get_Fullname(emp1)"
   ]
  },
  {
   "cell_type": "markdown",
   "id": "590fdfab",
   "metadata": {},
   "source": [
    "# Class Variable"
   ]
  },
  {
   "cell_type": "code",
   "execution_count": 56,
   "id": "39461897",
   "metadata": {},
   "outputs": [],
   "source": [
    "class Employee:\n",
    "    def __init__(self,fname,lname,pay):\n",
    "        self.fname = fname\n",
    "        self.lname = lname\n",
    "        self.pay =pay\n",
    "        self.email = fname.lower() + \".\" + lname.lower() +\"@gmail.com\"\n",
    "        \n",
    "    def get_Fullname(self):\n",
    "        print(f\"Full Name = {self.fname} {self.lname}\")\n",
    "        print(f\"Mail Id = {self.email}\")\n",
    "        \n",
    "    def apply_raise(self):\n",
    "        self.pay = self.pay * 5"
   ]
  },
  {
   "cell_type": "code",
   "execution_count": 63,
   "id": "0d65d91b",
   "metadata": {},
   "outputs": [],
   "source": [
    "emp1 =Employee(\"Nitin\",\"Kumar\",1500000)\n",
    "emp2 =Employee(\"Ankush\",\"Shinde\",1500000)"
   ]
  },
  {
   "cell_type": "code",
   "execution_count": 64,
   "id": "efc97c0b",
   "metadata": {},
   "outputs": [
    {
     "name": "stdout",
     "output_type": "stream",
     "text": [
      "1500000\n"
     ]
    }
   ],
   "source": [
    "print(emp1.pay)"
   ]
  },
  {
   "cell_type": "code",
   "execution_count": 65,
   "id": "b564825d",
   "metadata": {},
   "outputs": [],
   "source": [
    "emp1.apply_raise()"
   ]
  },
  {
   "cell_type": "code",
   "execution_count": 66,
   "id": "156f53b1",
   "metadata": {},
   "outputs": [
    {
     "name": "stdout",
     "output_type": "stream",
     "text": [
      "7500000\n"
     ]
    }
   ],
   "source": [
    "print(emp1.pay)"
   ]
  },
  {
   "cell_type": "code",
   "execution_count": 67,
   "id": "1c2f9304",
   "metadata": {},
   "outputs": [
    {
     "data": {
      "text/plain": [
       "1500000"
      ]
     },
     "execution_count": 67,
     "metadata": {},
     "output_type": "execute_result"
    }
   ],
   "source": [
    "emp2.pay"
   ]
  },
  {
   "cell_type": "code",
   "execution_count": 68,
   "id": "31878d8c",
   "metadata": {},
   "outputs": [],
   "source": [
    "emp2.apply_raise()"
   ]
  },
  {
   "cell_type": "code",
   "execution_count": 69,
   "id": "2ef46b02",
   "metadata": {},
   "outputs": [
    {
     "name": "stdout",
     "output_type": "stream",
     "text": [
      "7500000\n"
     ]
    }
   ],
   "source": [
    "print(emp2.pay)"
   ]
  },
  {
   "cell_type": "code",
   "execution_count": 70,
   "id": "8272b0de",
   "metadata": {},
   "outputs": [],
   "source": [
    "emp2.pay = 7"
   ]
  },
  {
   "cell_type": "code",
   "execution_count": 71,
   "id": "c4790170",
   "metadata": {},
   "outputs": [],
   "source": [
    "emp2.apply_raise()"
   ]
  },
  {
   "cell_type": "code",
   "execution_count": 72,
   "id": "482ac6e2",
   "metadata": {},
   "outputs": [
    {
     "data": {
      "text/plain": [
       "35"
      ]
     },
     "execution_count": 72,
     "metadata": {},
     "output_type": "execute_result"
    }
   ],
   "source": [
    "emp2.pay"
   ]
  },
  {
   "cell_type": "code",
   "execution_count": 73,
   "id": "dbbf8688",
   "metadata": {},
   "outputs": [],
   "source": [
    "class Employee:\n",
    "    raise_ammount = 3\n",
    "    def __init__(self,fname,lname,pay):\n",
    "        self.fname = fname\n",
    "        self.lname = lname\n",
    "        self.pay = pay\n",
    "        self.email = fname.lower() + \".\" + lname.lower() +\"@gmail.com\"\n",
    "        \n",
    "    def get_Fullname(self):\n",
    "        print(f\"Full Name = {self.fname} {self.lname}\")\n",
    "        print(f\"Mail Id = {self.email}\")\n",
    "        \n",
    "    def apply_raise(self):\n",
    "        self.pay = self.pay * Employee.raise_ammount"
   ]
  },
  {
   "cell_type": "code",
   "execution_count": 74,
   "id": "fa039acc",
   "metadata": {},
   "outputs": [],
   "source": [
    "emp1 = Employee(\"Rahim\",\"Sahikh\",1500000)\n",
    "emp2 = Employee(\"Roshan\",\"More\",1500000)"
   ]
  },
  {
   "cell_type": "code",
   "execution_count": 76,
   "id": "5b5aa207",
   "metadata": {},
   "outputs": [
    {
     "name": "stdout",
     "output_type": "stream",
     "text": [
      "1500000\n",
      "4500000\n"
     ]
    }
   ],
   "source": [
    "print(emp1.pay)\n",
    "emp1.apply_raise()\n",
    "print(emp1.pay)"
   ]
  },
  {
   "cell_type": "code",
   "execution_count": 77,
   "id": "0c386428",
   "metadata": {},
   "outputs": [
    {
     "name": "stdout",
     "output_type": "stream",
     "text": [
      "1500000\n",
      "7500000\n"
     ]
    }
   ],
   "source": [
    "Employee.raise_ammount = 5\n",
    "print(emp2.pay)\n",
    "emp2.apply_raise()\n",
    "print(emp2.pay)"
   ]
  },
  {
   "cell_type": "code",
   "execution_count": 78,
   "id": "4999fdc5",
   "metadata": {},
   "outputs": [
    {
     "name": "stdout",
     "output_type": "stream",
     "text": [
      "4500000\n",
      "22500000\n"
     ]
    }
   ],
   "source": [
    "print(emp1.pay)\n",
    "emp1.apply_raise()\n",
    "print(emp1.pay)"
   ]
  },
  {
   "cell_type": "code",
   "execution_count": 80,
   "id": "c0b949c4",
   "metadata": {},
   "outputs": [
    {
     "data": {
      "text/plain": [
       "5"
      ]
     },
     "execution_count": 80,
     "metadata": {},
     "output_type": "execute_result"
    }
   ],
   "source": [
    "Employee.raise_ammount"
   ]
  },
  {
   "cell_type": "code",
   "execution_count": 81,
   "id": "f161a8c9",
   "metadata": {},
   "outputs": [],
   "source": [
    "class Employee:\n",
    "    raise_ammount = 3\n",
    "    def __init__(self,fname,lname,pay):\n",
    "        self.fname = fname\n",
    "        self.lname = lname\n",
    "        self.pay = pay\n",
    "        self.email = fname.lower() + \".\" + lname.lower() +\"@gmail.com\"\n",
    "        \n",
    "    def get_Fullname(self):\n",
    "        print(f\"Full Name = {self.fname} {self.lname}\")\n",
    "        print(f\"Mail Id = {self.email}\")\n",
    "        \n",
    "    def apply_raise(self):\n",
    "        self.pay = self.pay * self.raise_ammount"
   ]
  },
  {
   "cell_type": "code",
   "execution_count": 82,
   "id": "b94ff3bd",
   "metadata": {},
   "outputs": [],
   "source": [
    "emp1 = Employee(\"Rahim\",\"Shaikh\",5)\n",
    "emp2 = Employee(\"Ankur\",\"Patait\",6)"
   ]
  },
  {
   "cell_type": "code",
   "execution_count": 83,
   "id": "ad9c5077",
   "metadata": {},
   "outputs": [
    {
     "name": "stdout",
     "output_type": "stream",
     "text": [
      "5\n",
      "15\n"
     ]
    }
   ],
   "source": [
    "print(emp1.pay)\n",
    "emp1.apply_raise()\n",
    "print(emp1.pay)"
   ]
  },
  {
   "cell_type": "code",
   "execution_count": 84,
   "id": "6e576efb",
   "metadata": {},
   "outputs": [
    {
     "name": "stdout",
     "output_type": "stream",
     "text": [
      "3\n",
      "6\n",
      "18\n"
     ]
    }
   ],
   "source": [
    "print(emp2.raise_ammount)\n",
    "print(emp2.pay)\n",
    "emp2.apply_raise()\n",
    "print(emp2.pay)"
   ]
  },
  {
   "cell_type": "code",
   "execution_count": 85,
   "id": "9181a479",
   "metadata": {},
   "outputs": [
    {
     "name": "stdout",
     "output_type": "stream",
     "text": [
      "5\n",
      "18\n",
      "90\n"
     ]
    }
   ],
   "source": [
    "emp2.raise_ammount = 5\n",
    "print(emp2.raise_ammount)\n",
    "print(emp2.pay)\n",
    "emp2.apply_raise()\n",
    "print(emp2.pay)"
   ]
  },
  {
   "cell_type": "code",
   "execution_count": 86,
   "id": "697ba99d",
   "metadata": {},
   "outputs": [
    {
     "name": "stdout",
     "output_type": "stream",
     "text": [
      "15\n",
      "45\n"
     ]
    }
   ],
   "source": [
    "print(emp1.pay)\n",
    "emp1.apply_raise()\n",
    "print(emp1.pay)"
   ]
  },
  {
   "cell_type": "code",
   "execution_count": 87,
   "id": "f0e55b4b",
   "metadata": {},
   "outputs": [],
   "source": [
    "class Employee:\n",
    "    raise_ammount = 3\n",
    "    NoOfEmp = 0\n",
    "    def __init__(self,fname,lname,pay):\n",
    "        self.fname = fname\n",
    "        self.lname = lname\n",
    "        self.pay = pay\n",
    "        self.email = fname.lower() + \".\" + lname.lower() +\"@gmail.com\"\n",
    "        Employee.NoOfEmp += 1\n",
    "    def get_Fullname(self):\n",
    "        print(f\"Full Name = {self.fname} {self.lname}\")\n",
    "        print(f\"Mail Id = {self.email}\")\n",
    "        \n",
    "    def apply_raise(self):\n",
    "        self.pay = self.pay * self.raise_ammount"
   ]
  },
  {
   "cell_type": "code",
   "execution_count": 88,
   "id": "3ca69585",
   "metadata": {},
   "outputs": [],
   "source": [
    "emp1 = Employee(\"Rahim\",\"Shaikh\",5)\n",
    "emp2 = Employee(\"Ankur\",\"Patait\",6)\n",
    "emp3 = Employee(\"Rahim\",\"Shaikh\",5)\n",
    "emp4 = Employee(\"Ankur\",\"Patait\",6)\n",
    "emp5 = Employee(\"Rahim\",\"Shaikh\",5)\n",
    "emp6 = Employee(\"Ankur\",\"Patait\",6)"
   ]
  },
  {
   "cell_type": "code",
   "execution_count": 89,
   "id": "5bceefcb",
   "metadata": {},
   "outputs": [
    {
     "data": {
      "text/plain": [
       "6"
      ]
     },
     "execution_count": 89,
     "metadata": {},
     "output_type": "execute_result"
    }
   ],
   "source": [
    "Employee.NoOfEmp"
   ]
  },
  {
   "cell_type": "code",
   "execution_count": 90,
   "id": "5e77ded2",
   "metadata": {},
   "outputs": [],
   "source": [
    "class Employee:\n",
    "    raise_ammount = 3\n",
    "    NoOfEmp = 0\n",
    "    def __init__(self,fname,lname,pay):\n",
    "        self.fname = fname\n",
    "        self.lname = lname\n",
    "        self.pay = pay\n",
    "        self.email = fname.lower() + \".\" + lname.lower() + \"@gmail.com\"\n",
    "        self.NoOfEmp += 1\n",
    "        \n",
    "    def get_fullname(self):\n",
    "        print(f\"Full Name = {self.fname} {self.lname}\")\n",
    "        print(f\"Mail id = {self.email}\")\n",
    "        \n",
    "    def apply_raise(self):\n",
    "        self.pay = self.pay * self.raise_ammount\n",
    "        \n",
    "emp1 = Employee(\"Rahim\",\"Shaikh\",5)\n",
    "emp2 = Employee(\"Ankur\",\"Patait\",6)\n",
    "emp3 = Employee(\"Rahim\",\"Shaikh\",5)\n",
    "emp4 = Employee(\"Ankur\",\"Patait\",6)\n",
    "emp5 = Employee(\"Rahim\",\"Shaikh\",5)\n",
    "emp6 = Employee(\"Ankur\",\"Patait\",6)"
   ]
  },
  {
   "cell_type": "code",
   "execution_count": 91,
   "id": "42843377",
   "metadata": {},
   "outputs": [
    {
     "data": {
      "text/plain": [
       "0"
      ]
     },
     "execution_count": 91,
     "metadata": {},
     "output_type": "execute_result"
    }
   ],
   "source": [
    "Employee.NoOfEmp"
   ]
  },
  {
   "cell_type": "code",
   "execution_count": 92,
   "id": "39418376",
   "metadata": {},
   "outputs": [
    {
     "name": "stdout",
     "output_type": "stream",
     "text": [
      "0\n",
      "0\n"
     ]
    }
   ],
   "source": [
    "class A:\n",
    "    n = 0\n",
    "    def __init__(self):\n",
    "        self.n += 1\n",
    "        \n",
    "print(A.n)\n",
    "a1 = A()\n",
    "a1 = A()\n",
    "a1 = A()\n",
    "a1 = A()\n",
    "a1 = A()\n",
    "a1 = A()\n",
    "a1 = A()\n",
    "a1 = A()\n",
    "a1 = A()\n",
    "a1 = A()\n",
    "print(A.n)"
   ]
  },
  {
   "cell_type": "code",
   "execution_count": 95,
   "id": "6a3b6079",
   "metadata": {},
   "outputs": [
    {
     "name": "stdout",
     "output_type": "stream",
     "text": [
      "0\n",
      "10\n"
     ]
    }
   ],
   "source": [
    "class A:\n",
    "    n = 0\n",
    "    def __init__(self):\n",
    "        A.n += 1\n",
    "        \n",
    "print(A.n)\n",
    "a1 = A()\n",
    "a1 = A()\n",
    "a1 = A()\n",
    "a1 = A()\n",
    "a1 = A()\n",
    "a1 = A()\n",
    "a1 = A()\n",
    "a1 = A()\n",
    "a1 = A()\n",
    "a1 = A()\n",
    "print(A.n)"
   ]
  },
  {
   "cell_type": "code",
   "execution_count": 96,
   "id": "eb370946",
   "metadata": {},
   "outputs": [],
   "source": [
    "class calc():\n",
    "    def __init__(self,a,b):\n",
    "        self.a = a\n",
    "        self.b = b\n",
    "        \n",
    "    def addition(self):\n",
    "        print(f\"Addition ----> {self.a+self.b}\")"
   ]
  },
  {
   "cell_type": "code",
   "execution_count": 97,
   "id": "5ca0e82a",
   "metadata": {},
   "outputs": [],
   "source": [
    "Operation1 = calc(10,50)"
   ]
  },
  {
   "cell_type": "code",
   "execution_count": 98,
   "id": "a3bcd6ab",
   "metadata": {},
   "outputs": [
    {
     "name": "stdout",
     "output_type": "stream",
     "text": [
      "Addition ----> 60\n"
     ]
    }
   ],
   "source": [
    "Operation1.addition()"
   ]
  },
  {
   "cell_type": "code",
   "execution_count": 102,
   "id": "fb9f2d91",
   "metadata": {},
   "outputs": [],
   "source": [
    "class list1():\n",
    "    pass"
   ]
  },
  {
   "cell_type": "code",
   "execution_count": 106,
   "id": "cadaa117",
   "metadata": {},
   "outputs": [],
   "source": [
    "li = list1()"
   ]
  },
  {
   "cell_type": "code",
   "execution_count": 107,
   "id": "abc3c64b",
   "metadata": {},
   "outputs": [
    {
     "data": {
      "text/plain": [
       "<__main__.list1 at 0x2dc75b03400>"
      ]
     },
     "execution_count": 107,
     "metadata": {},
     "output_type": "execute_result"
    }
   ],
   "source": [
    "li"
   ]
  }
 ],
 "metadata": {
  "kernelspec": {
   "display_name": "Python 3 (ipykernel)",
   "language": "python",
   "name": "python3"
  },
  "language_info": {
   "codemirror_mode": {
    "name": "ipython",
    "version": 3
   },
   "file_extension": ".py",
   "mimetype": "text/x-python",
   "name": "python",
   "nbconvert_exporter": "python",
   "pygments_lexer": "ipython3",
   "version": "3.12.4"
  }
 },
 "nbformat": 4,
 "nbformat_minor": 5
}
