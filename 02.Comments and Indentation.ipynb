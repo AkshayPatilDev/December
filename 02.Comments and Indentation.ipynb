{
 "cells": [
  {
   "cell_type": "markdown",
   "id": "3389373f",
   "metadata": {},
   "source": [
    "# Comments\n",
    "- 1. Comments are specified by >>> #\n",
    "- 2. Control + / >>> To comment multiple lines\n",
    "- 3. Tripple quotes"
   ]
  },
  {
   "cell_type": "code",
   "execution_count": null,
   "id": "70c5cf80",
   "metadata": {},
   "outputs": [],
   "source": [
    "# print(\"Hello World!\")\n",
    "print(\"Hello World!\") # This is my first code line\n",
    "# print(\"Learning Python 1\")\n",
    "print(\"Learning Python 2\")\n",
    "# print(\"Learning Python 3\")\n",
    "print(\"Learning Python 4\")\n",
    "print(\"Learning Python 5\")\n",
    "print(\"Learning Python 6\")"
   ]
  },
  {
   "cell_type": "code",
   "execution_count": null,
   "id": "17134419",
   "metadata": {},
   "outputs": [],
   "source": [
    "# print(\"Hello World!\")\n",
    "print(\"Hello World!\") \n",
    "# print(\"Learning Python 1\")\n",
    "print(\"Learning Python 2\")\n",
    "# print(\"Learning Python 3\")  used ctrl + /\n",
    "# print(\"Learning Python 4\")\n",
    "# print(\"Learning Python 5\")\n",
    "# print(\"Learning Python 6\")"
   ]
  },
  {
   "cell_type": "code",
   "execution_count": null,
   "id": "c07ba208",
   "metadata": {},
   "outputs": [],
   "source": [
    "print(\"Hello World!\")\n",
    "print(\"Hello World!\")\n",
    "print(\"Learning Python 1\")\n",
    " print(\"Learning Python 2\")\n",
    "#  print(\"Learning Python 3\")\n",
    "#  print(\"Learning Python 4\")\n",
    "#  print(\"Learning Python 5\")\n",
    "#  print(\"Learning Python 6\")"
   ]
  },
  {
   "cell_type": "code",
   "execution_count": 2,
   "id": "11e922a4",
   "metadata": {},
   "outputs": [
    {
     "name": "stdout",
     "output_type": "stream",
     "text": [
      "This is about Python Language\n"
     ]
    }
   ],
   "source": [
    "\"\"\"Python is a high-level, interpreted, general-purpose programming language. Its design philosophy \n",
    "emphasizes code readability with the use of significant indentation.Python is dynamically-typed and \n",
    "garbage-collected. It supports multiple programming paradigms, including structured (particularly \n",
    "procedural), object-oriented and functional programming. It is often described as a \"batteries \n",
    "included\" language due to its comprehensive standard library.\"\"\"\n",
    "print(\"This is about Python Language\")"
   ]
  },
  {
   "cell_type": "markdown",
   "id": "484f8bf8",
   "metadata": {},
   "source": [
    "# Indentation\n",
    "- 1. space at the start of the code line"
   ]
  },
  {
   "cell_type": "code",
   "execution_count": 3,
   "id": "e2fdca9a",
   "metadata": {},
   "outputs": [
    {
     "name": "stdout",
     "output_type": "stream",
     "text": [
      "Hello World!\n"
     ]
    }
   ],
   "source": [
    "print(\"Hello World!\")"
   ]
  },
  {
   "cell_type": "code",
   "execution_count": 4,
   "id": "fd0079e7",
   "metadata": {},
   "outputs": [
    {
     "name": "stdout",
     "output_type": "stream",
     "text": [
      "Hello World!\n",
      "Hello World!\n"
     ]
    }
   ],
   "source": [
    "print(\"Hello World!\")\n",
    "print(\"Hello World!\")"
   ]
  },
  {
   "cell_type": "code",
   "execution_count": 6,
   "id": "45f7ed1c",
   "metadata": {},
   "outputs": [
    {
     "ename": "IndentationError",
     "evalue": "unexpected indent (Temp/ipykernel_12712/661463307.py, line 4)",
     "output_type": "error",
     "traceback": [
      "\u001b[1;36m  File \u001b[1;32m\"C:\\Users\\Mohit\\AppData\\Local\\Temp/ipykernel_12712/661463307.py\"\u001b[1;36m, line \u001b[1;32m4\u001b[0m\n\u001b[1;33m    print(\"Hello World!\") #Adding 1 space before print\u001b[0m\n\u001b[1;37m    ^\u001b[0m\n\u001b[1;31mIndentationError\u001b[0m\u001b[1;31m:\u001b[0m unexpected indent\n"
     ]
    }
   ],
   "source": [
    "print(\"Hello World!\")\n",
    "print(\"Hello World!\")\n",
    "print(\"Hello World!\")\n",
    " print(\"Hello World!\") #Adding 1 space before print"
   ]
  },
  {
   "cell_type": "code",
   "execution_count": 8,
   "id": "c5b1817d",
   "metadata": {},
   "outputs": [
    {
     "name": "stdout",
     "output_type": "stream",
     "text": [
      "Hello World!\n",
      "Hello World!\n",
      "Hello World!\n",
      "Hello World!\n"
     ]
    }
   ],
   "source": [
    " print(\"Hello World!\") #Adding 1space before every start of line\n",
    " print(\"Hello World!\") #Adding 1space before every start of line\n",
    " print(\"Hello World!\") #Adding 1space before every start of line\n",
    " print(\"Hello World!\") #Adding 1space before every start of line"
   ]
  },
  {
   "cell_type": "code",
   "execution_count": 2,
   "id": "323dcdea",
   "metadata": {},
   "outputs": [
    {
     "name": "stdout",
     "output_type": "stream",
     "text": [
      "Good to go for Voting\n"
     ]
    }
   ],
   "source": [
    "Age = 56\n",
    "if Age > 18:\n",
    "    print(\"Good to go for Voting\") # 4 spaces or 1 Tab"
   ]
  },
  {
   "cell_type": "code",
   "execution_count": 11,
   "id": "e32c71fe",
   "metadata": {},
   "outputs": [
    {
     "ename": "IndentationError",
     "evalue": "unindent does not match any outer indentation level (<tokenize>, line 4)",
     "output_type": "error",
     "traceback": [
      "\u001b[1;36m  File \u001b[1;32m\"<tokenize>\"\u001b[1;36m, line \u001b[1;32m4\u001b[0m\n\u001b[1;33m    print(\"Going for vote\")         #3 spaces\u001b[0m\n\u001b[1;37m    ^\u001b[0m\n\u001b[1;31mIndentationError\u001b[0m\u001b[1;31m:\u001b[0m unindent does not match any outer indentation level\n"
     ]
    }
   ],
   "source": [
    "Age = 56\n",
    "if Age > 18:\n",
    "    print(\"Good to go for Voting\") # 4 spaces\n",
    "   print(\"Going for vote\")         # 3 spaces"
   ]
  },
  {
   "cell_type": "code",
   "execution_count": 12,
   "id": "3d41bec5",
   "metadata": {},
   "outputs": [
    {
     "name": "stdout",
     "output_type": "stream",
     "text": [
      "Good to go for Voting\n",
      "Going for vote\n"
     ]
    }
   ],
   "source": [
    "Age = 56\n",
    "if Age > 18:\n",
    "   print(\"Good to go for Voting\") # 3 spaces\n",
    "   print(\"Going for vote\")        # 3 spaces"
   ]
  },
  {
   "cell_type": "code",
   "execution_count": 5,
   "id": "a57b5613",
   "metadata": {},
   "outputs": [
    {
     "name": "stdout",
     "output_type": "stream",
     "text": [
      "Good to go for Voting\n",
      "Going for vote\n"
     ]
    }
   ],
   "source": [
    "Age = 56\n",
    "if Age > 18:\n",
    "  print(\"Good to go for Voting\") # 2 spaces\n",
    "  print(\"Going for vote\")        # 2 spaces"
   ]
  },
  {
   "cell_type": "code",
   "execution_count": 14,
   "id": "273d192e",
   "metadata": {},
   "outputs": [
    {
     "name": "stdout",
     "output_type": "stream",
     "text": [
      "Good to go for Voting\n",
      "Going for vote\n",
      "Testing age for voting\n"
     ]
    }
   ],
   "source": [
    "Age = 56\n",
    "if Age > 18:\n",
    "    print(\"Good to go for Voting\") # 2 spaces\n",
    "    print(\"Going for vote\")        # 2 spaces\n",
    "     \n",
    "print(\"Testing age for voting\")"
   ]
  },
  {
   "cell_type": "code",
   "execution_count": 9,
   "id": "9fc6c657",
   "metadata": {},
   "outputs": [
    {
     "name": "stdout",
     "output_type": "stream",
     "text": [
      "Cannot go for voting\n",
      "Sorry\n"
     ]
    }
   ],
   "source": [
    "Age = 16\n",
    "if Age > 18:\n",
    "   print(\"Good to go for Voting\") # 2 spaces\n",
    "   print(\"Going for vote\")        # 2 spaces\n",
    "else:\n",
    "    print(\"Cannot go for voting\")\n",
    "    print(\"Sorry\")"
   ]
  },
  {
   "cell_type": "code",
   "execution_count": 3,
   "id": "f76c9a0f",
   "metadata": {},
   "outputs": [],
   "source": [
    "age = 10\n",
    "if age > 18:\n",
    "    print(\"Go for vote\")"
   ]
  },
  {
   "cell_type": "code",
   "execution_count": 5,
   "id": "9270e47b",
   "metadata": {},
   "outputs": [
    {
     "name": "stdout",
     "output_type": "stream",
     "text": [
      "Go for vote\n"
     ]
    }
   ],
   "source": [
    "age = 20\n",
    "if age > 18:\n",
    "    print(\"Go for vote\")\n",
    "else:\n",
    "    print(\"Cannot gofor vote\")"
   ]
  },
  {
   "cell_type": "code",
   "execution_count": null,
   "id": "1effffdf",
   "metadata": {},
   "outputs": [],
   "source": [
    "age = int(input(\"Enter your age :\"))\n",
    "if age >= 18:\n",
    "    print(\"Go for voting\")\n",
    "else:\n",
    "    print(\"Can not go for voting \")"
   ]
  }
 ],
 "metadata": {
  "kernelspec": {
   "display_name": "Python 3 (ipykernel)",
   "language": "python",
   "name": "python3"
  },
  "language_info": {
   "codemirror_mode": {
    "name": "ipython",
    "version": 3
   },
   "file_extension": ".py",
   "mimetype": "text/x-python",
   "name": "python",
   "nbconvert_exporter": "python",
   "pygments_lexer": "ipython3",
   "version": "3.12.4"
  }
 },
 "nbformat": 4,
 "nbformat_minor": 5
}
