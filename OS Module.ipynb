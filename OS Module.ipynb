{
 "cells": [
  {
   "cell_type": "markdown",
   "id": "0d10b1bd",
   "metadata": {},
   "source": [
    "# OS Module\n",
    "- Operating System = It will provide the ability to deal with operating system (Task)"
   ]
  },
  {
   "cell_type": "raw",
   "id": "75a09ba1",
   "metadata": {},
   "source": [
    "- Create file\n",
    "- Create a folder\n",
    "- Delete a folder\n",
    "- Delete file\n",
    "- Move folder\n",
    "- Copy\n",
    "- Check the path/ Work on path"
   ]
  },
  {
   "cell_type": "markdown",
   "id": "eb929a7c",
   "metadata": {},
   "source": [
    "# Importing OS Module"
   ]
  },
  {
   "cell_type": "code",
   "execution_count": 1,
   "id": "16fb4837",
   "metadata": {},
   "outputs": [],
   "source": [
    "import os"
   ]
  },
  {
   "cell_type": "markdown",
   "id": "87ba39ae",
   "metadata": {},
   "source": [
    "## 1.rename()\n",
    "- os.rename(ild_file_name,new_file_name)"
   ]
  },
  {
   "cell_type": "code",
   "execution_count": 3,
   "id": "f06f06e8",
   "metadata": {},
   "outputs": [],
   "source": [
    "with open(\"Sample.txt\",\"w\") as f:\n",
    "    f.write(\"Creating this file for os module operations\")"
   ]
  },
  {
   "cell_type": "code",
   "execution_count": 4,
   "id": "e88a8c99",
   "metadata": {},
   "outputs": [],
   "source": [
    "old_file_name = \"Sample.txt\"\n",
    "new_file_name = \"SAMPLE.txt\"\n",
    "os.rename(old_file_name,new_file_name)"
   ]
  },
  {
   "cell_type": "code",
   "execution_count": 5,
   "id": "d34db8a2",
   "metadata": {},
   "outputs": [],
   "source": [
    "with open(\"Sample0001.txt\",\"w\") as f:\n",
    "    f.write(\"Creating this file for os module operations\")"
   ]
  },
  {
   "cell_type": "code",
   "execution_count": 6,
   "id": "f8adb450",
   "metadata": {},
   "outputs": [],
   "source": [
    "old_file_name = \"Sample0001.txt\"\n",
    "new_file_name = \"Sample01.txt.txt\"\n",
    "os.rename(old_file_name,new_file_name)"
   ]
  },
  {
   "cell_type": "code",
   "execution_count": 8,
   "id": "3b9245f8",
   "metadata": {},
   "outputs": [
    {
     "ename": "FileNotFoundError",
     "evalue": "[WinError 2] The system cannot find the file specified: 'Sample0001.txt' -> 'Sample01.txt.txt'",
     "output_type": "error",
     "traceback": [
      "\u001b[1;31m---------------------------------------------------------------------------\u001b[0m",
      "\u001b[1;31mFileNotFoundError\u001b[0m                         Traceback (most recent call last)",
      "Cell \u001b[1;32mIn [8], line 3\u001b[0m\n\u001b[0;32m      1\u001b[0m old_file_name \u001b[38;5;241m=\u001b[39m \u001b[38;5;124m\"\u001b[39m\u001b[38;5;124mSample0001.txt\u001b[39m\u001b[38;5;124m\"\u001b[39m\n\u001b[0;32m      2\u001b[0m new_file_name \u001b[38;5;241m=\u001b[39m \u001b[38;5;124m\"\u001b[39m\u001b[38;5;124mSample01.txt.txt\u001b[39m\u001b[38;5;124m\"\u001b[39m\n\u001b[1;32m----> 3\u001b[0m \u001b[43mos\u001b[49m\u001b[38;5;241;43m.\u001b[39;49m\u001b[43mrename\u001b[49m\u001b[43m(\u001b[49m\u001b[43mold_file_name\u001b[49m\u001b[43m,\u001b[49m\u001b[43mnew_file_name\u001b[49m\u001b[43m)\u001b[49m\n",
      "\u001b[1;31mFileNotFoundError\u001b[0m: [WinError 2] The system cannot find the file specified: 'Sample0001.txt' -> 'Sample01.txt.txt'"
     ]
    }
   ],
   "source": [
    "old_file_name = \"Sample0001.txt\"\n",
    "new_file_name = \"Sample01.txt.txt\"\n",
    "os.rename(old_file_name,new_file_name)  # Running this cell 2nd time"
   ]
  },
  {
   "cell_type": "code",
   "execution_count": 10,
   "id": "38e7851d",
   "metadata": {},
   "outputs": [],
   "source": [
    "os.rename(r\"C:\\Users\\Mohit\\Desktop\\VELOCITY\\31st july python and data science\\01_Aug_Introduction\\43.OS Module\\Sample01.txt.txt\",\"SAMPLE01.txt\")"
   ]
  },
  {
   "cell_type": "code",
   "execution_count": 11,
   "id": "46a6a118",
   "metadata": {},
   "outputs": [],
   "source": [
    "with open(\"Linear_model.pkl\",\"wb\") as f:\n",
    "    pass"
   ]
  },
  {
   "cell_type": "code",
   "execution_count": 6,
   "id": "22ae9187",
   "metadata": {},
   "outputs": [],
   "source": [
    "for i in range(5):\n",
    "    with open(f\"model{i}.pkl\",\"wb\") as f:\n",
    "        pass"
   ]
  },
  {
   "cell_type": "markdown",
   "id": "c3fc646a",
   "metadata": {},
   "source": [
    "## 2.remove()\n",
    "- os.remove(file_name)"
   ]
  },
  {
   "cell_type": "code",
   "execution_count": 7,
   "id": "2395c85a",
   "metadata": {},
   "outputs": [],
   "source": [
    "os.remove(\"SAMPLE01.txt\")"
   ]
  },
  {
   "cell_type": "code",
   "execution_count": 8,
   "id": "5cb6ae9a",
   "metadata": {},
   "outputs": [],
   "source": [
    "file_path = r\"C:\\Users\\Mohit\\Desktop\\VELOCITY\\31st july python and data science\\01_Aug_Introduction\\43.OS Module\\Linear_model.pkl\""
   ]
  },
  {
   "cell_type": "code",
   "execution_count": 9,
   "id": "f8f52b31",
   "metadata": {},
   "outputs": [],
   "source": [
    "os.remove(file_path)"
   ]
  },
  {
   "cell_type": "code",
   "execution_count": 10,
   "id": "f8079ec7",
   "metadata": {},
   "outputs": [
    {
     "ename": "FileNotFoundError",
     "evalue": "[WinError 2] The system cannot find the file specified: 'KNN.pkl'",
     "output_type": "error",
     "traceback": [
      "\u001b[1;31m---------------------------------------------------------------------------\u001b[0m",
      "\u001b[1;31mFileNotFoundError\u001b[0m                         Traceback (most recent call last)",
      "Cell \u001b[1;32mIn [10], line 1\u001b[0m\n\u001b[1;32m----> 1\u001b[0m \u001b[43mos\u001b[49m\u001b[38;5;241;43m.\u001b[39;49m\u001b[43mremove\u001b[49m\u001b[43m(\u001b[49m\u001b[38;5;124;43m\"\u001b[39;49m\u001b[38;5;124;43mKNN.pkl\u001b[39;49m\u001b[38;5;124;43m\"\u001b[39;49m\u001b[43m)\u001b[49m\n",
      "\u001b[1;31mFileNotFoundError\u001b[0m: [WinError 2] The system cannot find the file specified: 'KNN.pkl'"
     ]
    }
   ],
   "source": [
    "os.remove(\"KNN.pkl\")"
   ]
  },
  {
   "cell_type": "markdown",
   "id": "13c4d121",
   "metadata": {},
   "source": [
    "## Check files exists or not\n",
    "- os.path.exists(file_name)\n",
    "    - True  = if file exist\n",
    "    - False = if file not exist"
   ]
  },
  {
   "cell_type": "code",
   "execution_count": 11,
   "id": "30323aff",
   "metadata": {},
   "outputs": [
    {
     "data": {
      "text/plain": [
       "True"
      ]
     },
     "execution_count": 11,
     "metadata": {},
     "output_type": "execute_result"
    }
   ],
   "source": [
    "os.path.exists(\"model0.pkl\")"
   ]
  },
  {
   "cell_type": "code",
   "execution_count": 12,
   "id": "9b9b8a0a",
   "metadata": {},
   "outputs": [
    {
     "data": {
      "text/plain": [
       "False"
      ]
     },
     "execution_count": 12,
     "metadata": {},
     "output_type": "execute_result"
    }
   ],
   "source": [
    "os.path.exists(\"kNN.pkl\")"
   ]
  },
  {
   "cell_type": "code",
   "execution_count": 14,
   "id": "e49902b9",
   "metadata": {},
   "outputs": [],
   "source": [
    "if os.path.exists(\"model0.pkl\"):\n",
    "    os.remove(\"model0.pkl\")\n",
    "else:\n",
    "    print(\"File not present in your mentioned directory\")"
   ]
  },
  {
   "cell_type": "code",
   "execution_count": 15,
   "id": "2e8041d9",
   "metadata": {},
   "outputs": [
    {
     "name": "stdout",
     "output_type": "stream",
     "text": [
      "File not present in your mentioned directory\n"
     ]
    }
   ],
   "source": [
    "if os.path.exists(\"model10.pkl\"):\n",
    "    os.remove(\"model10.pkl\")\n",
    "else:\n",
    "    print(\"File not present in your mentioned directory\")"
   ]
  },
  {
   "cell_type": "code",
   "execution_count": 16,
   "id": "ad2dc87f",
   "metadata": {},
   "outputs": [
    {
     "name": "stdout",
     "output_type": "stream",
     "text": [
      "File name renamed\n"
     ]
    }
   ],
   "source": [
    "if os.path.exists(\"model1.pkl\"):\n",
    "    os.rename(\"model1.pkl\",\"MODEL1.pkl\")\n",
    "    print(\"File name renamed\")\n",
    "else:\n",
    "    print(\"File not present in your mentioned directory\")"
   ]
  }
 ],
 "metadata": {
  "kernelspec": {
   "display_name": "Python 3 (ipykernel)",
   "language": "python",
   "name": "python3"
  },
  "language_info": {
   "codemirror_mode": {
    "name": "ipython",
    "version": 3
   },
   "file_extension": ".py",
   "mimetype": "text/x-python",
   "name": "python",
   "nbconvert_exporter": "python",
   "pygments_lexer": "ipython3",
   "version": "3.12.4"
  }
 },
 "nbformat": 4,
 "nbformat_minor": 5
}
