{
 "cells": [
  {
   "cell_type": "markdown",
   "id": "a9c8d571",
   "metadata": {},
   "source": [
    "# Datetime Module\n",
    "- 10-01-2020\n",
    "- 10 Jan 2020\n",
    "- 2020-01-10\n",
    "- 10/01/2020"
   ]
  },
  {
   "cell_type": "markdown",
   "id": "eb3879ac",
   "metadata": {},
   "source": [
    "# Current Datetime"
   ]
  },
  {
   "cell_type": "code",
   "execution_count": 1,
   "id": "b9241796",
   "metadata": {},
   "outputs": [],
   "source": [
    "import datetime"
   ]
  },
  {
   "cell_type": "code",
   "execution_count": 3,
   "id": "7475dbbb",
   "metadata": {},
   "outputs": [
    {
     "name": "stdout",
     "output_type": "stream",
     "text": [
      "2022-09-27 19:21:40.980466\n"
     ]
    }
   ],
   "source": [
    "current_datetime = datetime.datetime.now()\n",
    "print(current_datetime)"
   ]
  },
  {
   "cell_type": "code",
   "execution_count": 4,
   "id": "860e0c6d",
   "metadata": {},
   "outputs": [
    {
     "name": "stdout",
     "output_type": "stream",
     "text": [
      "2022-09-27 19:21:51.044589\n"
     ]
    }
   ],
   "source": [
    "current_datetime = datetime.datetime.now()\n",
    "print(current_datetime)"
   ]
  },
  {
   "cell_type": "code",
   "execution_count": 5,
   "id": "d8e86b3d",
   "metadata": {},
   "outputs": [
    {
     "name": "stdout",
     "output_type": "stream",
     "text": [
      "2022-09-27 19:22:43.203684\n"
     ]
    }
   ],
   "source": [
    "current_datetime_today = datetime.datetime.today()\n",
    "print(current_datetime_today)"
   ]
  },
  {
   "cell_type": "code",
   "execution_count": 6,
   "id": "63f3c5ca",
   "metadata": {},
   "outputs": [
    {
     "data": {
      "text/plain": [
       "2022"
      ]
     },
     "execution_count": 6,
     "metadata": {},
     "output_type": "execute_result"
    }
   ],
   "source": [
    "current_datetime_today.year"
   ]
  },
  {
   "cell_type": "code",
   "execution_count": 9,
   "id": "258667bb",
   "metadata": {},
   "outputs": [
    {
     "data": {
      "text/plain": [
       "9"
      ]
     },
     "execution_count": 9,
     "metadata": {},
     "output_type": "execute_result"
    }
   ],
   "source": [
    "current_datetime_today.month"
   ]
  },
  {
   "cell_type": "code",
   "execution_count": 10,
   "id": "b8e5157f",
   "metadata": {},
   "outputs": [
    {
     "data": {
      "text/plain": [
       "27"
      ]
     },
     "execution_count": 10,
     "metadata": {},
     "output_type": "execute_result"
    }
   ],
   "source": [
    "current_datetime_today.day"
   ]
  },
  {
   "cell_type": "code",
   "execution_count": 11,
   "id": "6a7499dc",
   "metadata": {},
   "outputs": [
    {
     "data": {
      "text/plain": [
       "19"
      ]
     },
     "execution_count": 11,
     "metadata": {},
     "output_type": "execute_result"
    }
   ],
   "source": [
    "current_datetime_today.hour"
   ]
  },
  {
   "cell_type": "code",
   "execution_count": 14,
   "id": "3a2f71f5",
   "metadata": {},
   "outputs": [
    {
     "data": {
      "text/plain": [
       "22"
      ]
     },
     "execution_count": 14,
     "metadata": {},
     "output_type": "execute_result"
    }
   ],
   "source": [
    "current_datetime_today.minute"
   ]
  },
  {
   "cell_type": "code",
   "execution_count": 17,
   "id": "99f3067d",
   "metadata": {},
   "outputs": [
    {
     "data": {
      "text/plain": [
       "datetime.time(19, 25, 40, 155145)"
      ]
     },
     "execution_count": 17,
     "metadata": {},
     "output_type": "execute_result"
    }
   ],
   "source": [
    "current_datetime.today().time()"
   ]
  },
  {
   "cell_type": "code",
   "execution_count": 16,
   "id": "0d94c20c",
   "metadata": {},
   "outputs": [
    {
     "data": {
      "text/plain": [
       "datetime.date(2022, 9, 27)"
      ]
     },
     "execution_count": 16,
     "metadata": {},
     "output_type": "execute_result"
    }
   ],
   "source": [
    "current_datetime.today().date()"
   ]
  },
  {
   "cell_type": "code",
   "execution_count": 7,
   "id": "5b6b8d66",
   "metadata": {},
   "outputs": [
    {
     "data": {
      "text/plain": [
       "datetime.datetime"
      ]
     },
     "execution_count": 7,
     "metadata": {},
     "output_type": "execute_result"
    }
   ],
   "source": [
    "type(current_datetime_today)"
   ]
  },
  {
   "cell_type": "code",
   "execution_count": 8,
   "id": "11eb482e",
   "metadata": {},
   "outputs": [
    {
     "data": {
      "text/plain": [
       "datetime.datetime"
      ]
     },
     "execution_count": 8,
     "metadata": {},
     "output_type": "execute_result"
    }
   ],
   "source": [
    "type(current_datetime)"
   ]
  },
  {
   "cell_type": "markdown",
   "id": "38cc27de",
   "metadata": {},
   "source": [
    "# Timedelta"
   ]
  },
  {
   "cell_type": "code",
   "execution_count": 18,
   "id": "bf0d9b60",
   "metadata": {},
   "outputs": [
    {
     "data": {
      "text/plain": [
       "datetime.date(2022, 9, 27)"
      ]
     },
     "execution_count": 18,
     "metadata": {},
     "output_type": "execute_result"
    }
   ],
   "source": [
    "current_date = current_datetime.today().date()\n",
    "current_date"
   ]
  },
  {
   "cell_type": "code",
   "execution_count": 19,
   "id": "3ae8717e",
   "metadata": {},
   "outputs": [
    {
     "data": {
      "text/plain": [
       "datetime.date(2022, 9, 28)"
      ]
     },
     "execution_count": 19,
     "metadata": {},
     "output_type": "execute_result"
    }
   ],
   "source": [
    "new_date = current_date + datetime.timedelta(days = 1)\n",
    "new_date"
   ]
  },
  {
   "cell_type": "code",
   "execution_count": 20,
   "id": "9eb6d17d",
   "metadata": {},
   "outputs": [
    {
     "data": {
      "text/plain": [
       "datetime.date(2022, 9, 30)"
      ]
     },
     "execution_count": 20,
     "metadata": {},
     "output_type": "execute_result"
    }
   ],
   "source": [
    "new_date = current_date + datetime.timedelta(days = 3)\n",
    "new_date"
   ]
  },
  {
   "cell_type": "code",
   "execution_count": 21,
   "id": "891708a1",
   "metadata": {},
   "outputs": [
    {
     "data": {
      "text/plain": [
       "datetime.date(2022, 10, 4)"
      ]
     },
     "execution_count": 21,
     "metadata": {},
     "output_type": "execute_result"
    }
   ],
   "source": [
    "new_date = current_date + datetime.timedelta(days = 7)\n",
    "new_date"
   ]
  },
  {
   "cell_type": "code",
   "execution_count": 22,
   "id": "a98c57f8",
   "metadata": {},
   "outputs": [
    {
     "data": {
      "text/plain": [
       "datetime.date(2022, 10, 27)"
      ]
     },
     "execution_count": 22,
     "metadata": {},
     "output_type": "execute_result"
    }
   ],
   "source": [
    "new_date = current_date + datetime.timedelta(days = 30)\n",
    "new_date"
   ]
  },
  {
   "cell_type": "code",
   "execution_count": 23,
   "id": "16124733",
   "metadata": {},
   "outputs": [
    {
     "data": {
      "text/plain": [
       "datetime.date(2023, 9, 27)"
      ]
     },
     "execution_count": 23,
     "metadata": {},
     "output_type": "execute_result"
    }
   ],
   "source": [
    "new_date = current_date + datetime.timedelta(days = 365)\n",
    "new_date"
   ]
  },
  {
   "cell_type": "markdown",
   "id": "138869f4",
   "metadata": {},
   "source": [
    "# Next 10 days"
   ]
  },
  {
   "cell_type": "code",
   "execution_count": 24,
   "id": "556a5313",
   "metadata": {},
   "outputs": [
    {
     "name": "stdout",
     "output_type": "stream",
     "text": [
      "New_date = 2022-09-28\n",
      "New_date = 2022-09-29\n",
      "New_date = 2022-09-30\n",
      "New_date = 2022-10-01\n",
      "New_date = 2022-10-02\n",
      "New_date = 2022-10-03\n",
      "New_date = 2022-10-04\n",
      "New_date = 2022-10-05\n",
      "New_date = 2022-10-06\n",
      "New_date = 2022-10-07\n"
     ]
    }
   ],
   "source": [
    "for i in range(1,11):\n",
    "    new_date = current_date + datetime.timedelta(days = i)\n",
    "    print(f\"New_date = {new_date}\")"
   ]
  },
  {
   "cell_type": "markdown",
   "id": "5c317438",
   "metadata": {},
   "source": [
    "# Last 10 days\n"
   ]
  },
  {
   "cell_type": "code",
   "execution_count": 25,
   "id": "871cff76",
   "metadata": {},
   "outputs": [
    {
     "name": "stdout",
     "output_type": "stream",
     "text": [
      "New_date = 2022-09-26\n",
      "New_date = 2022-09-25\n",
      "New_date = 2022-09-24\n",
      "New_date = 2022-09-23\n",
      "New_date = 2022-09-22\n",
      "New_date = 2022-09-21\n",
      "New_date = 2022-09-20\n",
      "New_date = 2022-09-19\n",
      "New_date = 2022-09-18\n",
      "New_date = 2022-09-17\n"
     ]
    }
   ],
   "source": [
    "for i in range(1,11):\n",
    "    new_date = current_date - datetime.timedelta(days = i)\n",
    "    print(f\"New_date = {new_date}\")"
   ]
  },
  {
   "cell_type": "markdown",
   "id": "99181735",
   "metadata": {},
   "source": [
    "# Last & Next 10 days"
   ]
  },
  {
   "cell_type": "code",
   "execution_count": 26,
   "id": "6ef368db",
   "metadata": {},
   "outputs": [
    {
     "name": "stdout",
     "output_type": "stream",
     "text": [
      "New_date = 2022-09-17\n",
      "New_date = 2022-09-18\n",
      "New_date = 2022-09-19\n",
      "New_date = 2022-09-20\n",
      "New_date = 2022-09-21\n",
      "New_date = 2022-09-22\n",
      "New_date = 2022-09-23\n",
      "New_date = 2022-09-24\n",
      "New_date = 2022-09-25\n",
      "New_date = 2022-09-26\n",
      "New_date = 2022-09-27\n",
      "New_date = 2022-09-28\n",
      "New_date = 2022-09-29\n",
      "New_date = 2022-09-30\n",
      "New_date = 2022-10-01\n",
      "New_date = 2022-10-02\n",
      "New_date = 2022-10-03\n",
      "New_date = 2022-10-04\n",
      "New_date = 2022-10-05\n",
      "New_date = 2022-10-06\n"
     ]
    }
   ],
   "source": [
    "for i in range(-10,10):\n",
    "    new_date = current_date + datetime.timedelta(days = i)\n",
    "    print(f\"New_date = {new_date}\")"
   ]
  },
  {
   "cell_type": "code",
   "execution_count": 27,
   "id": "b286e3f6",
   "metadata": {},
   "outputs": [
    {
     "name": "stdout",
     "output_type": "stream",
     "text": [
      "New_date = 2022-10-04\n"
     ]
    }
   ],
   "source": [
    "new_date = current_date + datetime.timedelta(weeks = 1)\n",
    "print(f\"New_date = {new_date}\")"
   ]
  },
  {
   "cell_type": "code",
   "execution_count": 28,
   "id": "33f1e416",
   "metadata": {},
   "outputs": [
    {
     "name": "stdout",
     "output_type": "stream",
     "text": [
      "New_date = 2022-09-20\n"
     ]
    }
   ],
   "source": [
    "new_date = current_date + datetime.timedelta(weeks = -1)\n",
    "print(f\"New_date = {new_date}\")"
   ]
  },
  {
   "cell_type": "raw",
   "id": "36cd6df2",
   "metadata": {},
   "source": [
    "days = 0\n",
    "seconds = 0\n",
    "microseconds = 0\n",
    "milliseconds = 0\n",
    "minutes = 0\n",
    "hours = 0\n",
    "weeks = 0"
   ]
  },
  {
   "cell_type": "code",
   "execution_count": 29,
   "id": "1c576b7f",
   "metadata": {},
   "outputs": [
    {
     "data": {
      "text/plain": [
       "datetime.datetime(2022, 9, 27, 19, 32, 10, 826288)"
      ]
     },
     "execution_count": 29,
     "metadata": {},
     "output_type": "execute_result"
    }
   ],
   "source": [
    "curr_time = datetime.datetime.today()\n",
    "curr_time"
   ]
  },
  {
   "cell_type": "code",
   "execution_count": 30,
   "id": "7d9d239b",
   "metadata": {},
   "outputs": [
    {
     "data": {
      "text/plain": [
       "datetime.datetime(2022, 9, 28, 0, 32, 10, 826288)"
      ]
     },
     "execution_count": 30,
     "metadata": {},
     "output_type": "execute_result"
    }
   ],
   "source": [
    "curr_time + datetime.timedelta(hours = 5)"
   ]
  },
  {
   "cell_type": "code",
   "execution_count": 31,
   "id": "a7c2a86e",
   "metadata": {},
   "outputs": [
    {
     "data": {
      "text/plain": [
       "datetime.datetime(2022, 9, 27, 20, 32, 10, 826288)"
      ]
     },
     "execution_count": 31,
     "metadata": {},
     "output_type": "execute_result"
    }
   ],
   "source": [
    "curr_time + datetime.timedelta(hours = 1)"
   ]
  },
  {
   "cell_type": "markdown",
   "id": "66ce7421",
   "metadata": {},
   "source": [
    "# strftime()\n",
    "- string from time object(time to string)"
   ]
  },
  {
   "cell_type": "code",
   "execution_count": 32,
   "id": "81199543",
   "metadata": {},
   "outputs": [
    {
     "data": {
      "text/plain": [
       "datetime.datetime(2022, 9, 27, 19, 33, 35, 583740)"
      ]
     },
     "execution_count": 32,
     "metadata": {},
     "output_type": "execute_result"
    }
   ],
   "source": [
    "curr_time = datetime.datetime.today()\n",
    "curr_time"
   ]
  },
  {
   "cell_type": "code",
   "execution_count": 33,
   "id": "4c4139d3",
   "metadata": {},
   "outputs": [
    {
     "data": {
      "text/plain": [
       "datetime.datetime"
      ]
     },
     "execution_count": 33,
     "metadata": {},
     "output_type": "execute_result"
    }
   ],
   "source": [
    "type(curr_time)"
   ]
  },
  {
   "cell_type": "code",
   "execution_count": 34,
   "id": "06389754",
   "metadata": {},
   "outputs": [
    {
     "data": {
      "text/plain": [
       "'2022'"
      ]
     },
     "execution_count": 34,
     "metadata": {},
     "output_type": "execute_result"
    }
   ],
   "source": [
    "curr_time.strftime('%Y')"
   ]
  },
  {
   "cell_type": "code",
   "execution_count": 35,
   "id": "6c1e23ea",
   "metadata": {},
   "outputs": [
    {
     "data": {
      "text/plain": [
       "2022"
      ]
     },
     "execution_count": 35,
     "metadata": {},
     "output_type": "execute_result"
    }
   ],
   "source": [
    "curr_time.year"
   ]
  },
  {
   "cell_type": "code",
   "execution_count": 36,
   "id": "ba1d4a43",
   "metadata": {},
   "outputs": [
    {
     "data": {
      "text/plain": [
       "int"
      ]
     },
     "execution_count": 36,
     "metadata": {},
     "output_type": "execute_result"
    }
   ],
   "source": [
    "type(curr_time.year)"
   ]
  },
  {
   "cell_type": "code",
   "execution_count": 38,
   "id": "8eaeb849",
   "metadata": {},
   "outputs": [
    {
     "data": {
      "text/plain": [
       "str"
      ]
     },
     "execution_count": 38,
     "metadata": {},
     "output_type": "execute_result"
    }
   ],
   "source": [
    "type(curr_time.strftime('%Y'))"
   ]
  },
  {
   "cell_type": "code",
   "execution_count": 55,
   "id": "937efa40",
   "metadata": {},
   "outputs": [
    {
     "name": "stdout",
     "output_type": "stream",
     "text": [
      "2022\n",
      "22\n",
      "September\n",
      "Sep\n",
      "09\n",
      "27\n",
      "Tuesday\n",
      "Tue\n",
      "2\n",
      "270\n",
      "39\n",
      "PM\n"
     ]
    }
   ],
   "source": [
    "# Year\n",
    "print(curr_time.strftime('%Y')) # year = 2022\n",
    "print(curr_time.strftime('%y')) # year = 22\n",
    "\n",
    "# Month\n",
    "print(curr_time.strftime('%B')) # month = september\n",
    "print(curr_time.strftime('%b')) # month = sep\n",
    "print(curr_time.strftime('%m')) # month = 09\n",
    "\n",
    "# Date\n",
    "print(curr_time.strftime('%d')) # date = 27\n",
    "\n",
    "#Weekdays\n",
    "print(curr_time.strftime('%A')) # weekdays = Tuesday\n",
    "print(curr_time.strftime('%a')) # weekdays = Tue\n",
    "print(curr_time.strftime('%w')) # weekdays = 2 sun = 0 Monday = 1\n",
    "\n",
    "# Day Number\n",
    "print(curr_time.strftime('%j')) # day Number (nth day of current year) = 270\n",
    "\n",
    "# Week Number\n",
    "print(curr_time.strftime('%U')) # week number (nth week of current year) = 39\n",
    "\n",
    "# AM\\PM\n",
    "print(curr_time.strftime('%p')) # Current time (AM\\PM)"
   ]
  },
  {
   "cell_type": "code",
   "execution_count": 57,
   "id": "d99ff522",
   "metadata": {},
   "outputs": [
    {
     "data": {
      "text/plain": [
       "datetime.datetime(1896, 5, 7, 10, 0)"
      ]
     },
     "execution_count": 57,
     "metadata": {},
     "output_type": "execute_result"
    }
   ],
   "source": [
    "any_day = datetime.datetime(1896,5,7,10,0)\n",
    "any_day"
   ]
  },
  {
   "cell_type": "code",
   "execution_count": 58,
   "id": "964db555",
   "metadata": {},
   "outputs": [
    {
     "data": {
      "text/plain": [
       "'Thursday'"
      ]
     },
     "execution_count": 58,
     "metadata": {},
     "output_type": "execute_result"
    }
   ],
   "source": [
    "any_day.strftime('%A')"
   ]
  },
  {
   "cell_type": "code",
   "execution_count": 59,
   "id": "431bd67e",
   "metadata": {},
   "outputs": [
    {
     "data": {
      "text/plain": [
       "'128'"
      ]
     },
     "execution_count": 59,
     "metadata": {},
     "output_type": "execute_result"
    }
   ],
   "source": [
    "any_day.strftime('%j')"
   ]
  },
  {
   "cell_type": "code",
   "execution_count": 60,
   "id": "6bf5f16b",
   "metadata": {},
   "outputs": [
    {
     "data": {
      "text/plain": [
       "'May'"
      ]
     },
     "execution_count": 60,
     "metadata": {},
     "output_type": "execute_result"
    }
   ],
   "source": [
    "any_day.strftime('%B')"
   ]
  },
  {
   "cell_type": "code",
   "execution_count": 61,
   "id": "0bfd32c9",
   "metadata": {},
   "outputs": [
    {
     "data": {
      "text/plain": [
       "datetime.datetime(1896, 8, 7, 0, 0)"
      ]
     },
     "execution_count": 61,
     "metadata": {},
     "output_type": "execute_result"
    }
   ],
   "source": [
    "any_day = datetime.datetime(1896,8,7)\n",
    "any_day"
   ]
  },
  {
   "cell_type": "code",
   "execution_count": 62,
   "id": "d66af133",
   "metadata": {},
   "outputs": [
    {
     "data": {
      "text/plain": [
       "'1896-Aug-07'"
      ]
     },
     "execution_count": 62,
     "metadata": {},
     "output_type": "execute_result"
    }
   ],
   "source": [
    "any_day.strftime(\"%Y-%b-%d\")"
   ]
  },
  {
   "cell_type": "code",
   "execution_count": 63,
   "id": "2f0b257f",
   "metadata": {},
   "outputs": [
    {
     "data": {
      "text/plain": [
       "'07-Aug-1896'"
      ]
     },
     "execution_count": 63,
     "metadata": {},
     "output_type": "execute_result"
    }
   ],
   "source": [
    "any_day.strftime(\"%d-%b-%Y\")"
   ]
  },
  {
   "cell_type": "code",
   "execution_count": 64,
   "id": "7615d452",
   "metadata": {},
   "outputs": [
    {
     "data": {
      "text/plain": [
       "'07/Aug/1896'"
      ]
     },
     "execution_count": 64,
     "metadata": {},
     "output_type": "execute_result"
    }
   ],
   "source": [
    "any_day.strftime(\"%d/%b/%Y\")"
   ]
  },
  {
   "cell_type": "code",
   "execution_count": 65,
   "id": "7c29f1e1",
   "metadata": {},
   "outputs": [
    {
     "data": {
      "text/plain": [
       "'07 Aug 1896'"
      ]
     },
     "execution_count": 65,
     "metadata": {},
     "output_type": "execute_result"
    }
   ],
   "source": [
    "any_day.strftime(\"%d %b %Y\")"
   ]
  },
  {
   "cell_type": "code",
   "execution_count": 68,
   "id": "5aa20b54",
   "metadata": {},
   "outputs": [
    {
     "data": {
      "text/plain": [
       "'07-08-1896'"
      ]
     },
     "execution_count": 68,
     "metadata": {},
     "output_type": "execute_result"
    }
   ],
   "source": [
    "date_str = any_day.strftime(\"%d-%m-%Y\")\n",
    "date_str"
   ]
  },
  {
   "cell_type": "code",
   "execution_count": 70,
   "id": "6d73cae0",
   "metadata": {},
   "outputs": [
    {
     "data": {
      "text/plain": [
       "'1896'"
      ]
     },
     "execution_count": 70,
     "metadata": {},
     "output_type": "execute_result"
    }
   ],
   "source": [
    "date_str[-4:]"
   ]
  },
  {
   "cell_type": "markdown",
   "id": "08994878",
   "metadata": {},
   "source": [
    "# strptime()\n",
    "- String points to time (string to time object)"
   ]
  },
  {
   "cell_type": "code",
   "execution_count": 72,
   "id": "1c145c56",
   "metadata": {},
   "outputs": [],
   "source": [
    "d1 = \"25-11-2020\" \n",
    "d2 = \"25/11/2020\"\n",
    "d3 = \"25 11 2020\"\n",
    "d4 = \"25 Nov 2020\"\n",
    "d5 = \"25/November/2020\""
   ]
  },
  {
   "cell_type": "code",
   "execution_count": 74,
   "id": "bc427a66",
   "metadata": {},
   "outputs": [
    {
     "data": {
      "text/plain": [
       "datetime.datetime(2020, 11, 25, 0, 0)"
      ]
     },
     "execution_count": 74,
     "metadata": {},
     "output_type": "execute_result"
    }
   ],
   "source": [
    "d1 = \"25-11-2020\"\n",
    "date_format = \"%d-%m-%Y\"\n",
    "new_date = datetime.datetime.strptime(d1,date_format)\n",
    "new_date"
   ]
  },
  {
   "cell_type": "code",
   "execution_count": 75,
   "id": "7e303411",
   "metadata": {},
   "outputs": [
    {
     "data": {
      "text/plain": [
       "datetime.datetime"
      ]
     },
     "execution_count": 75,
     "metadata": {},
     "output_type": "execute_result"
    }
   ],
   "source": [
    "type(new_date)"
   ]
  },
  {
   "cell_type": "code",
   "execution_count": 76,
   "id": "d8dea99e",
   "metadata": {},
   "outputs": [
    {
     "ename": "ValueError",
     "evalue": "time data '25/11/2020' does not match format '%d-%m-%Y'",
     "output_type": "error",
     "traceback": [
      "\u001b[1;31m---------------------------------------------------------------------------\u001b[0m",
      "\u001b[1;31mValueError\u001b[0m                                Traceback (most recent call last)",
      "Cell \u001b[1;32mIn [76], line 3\u001b[0m\n\u001b[0;32m      1\u001b[0m d2 \u001b[38;5;241m=\u001b[39m \u001b[38;5;124m\"\u001b[39m\u001b[38;5;124m25/11/2020\u001b[39m\u001b[38;5;124m\"\u001b[39m\n\u001b[0;32m      2\u001b[0m date_format \u001b[38;5;241m=\u001b[39m \u001b[38;5;124m\"\u001b[39m\u001b[38;5;132;01m%d\u001b[39;00m\u001b[38;5;124m-\u001b[39m\u001b[38;5;124m%\u001b[39m\u001b[38;5;124mm-\u001b[39m\u001b[38;5;124m%\u001b[39m\u001b[38;5;124mY\u001b[39m\u001b[38;5;124m\"\u001b[39m\n\u001b[1;32m----> 3\u001b[0m new_date \u001b[38;5;241m=\u001b[39m \u001b[43mdatetime\u001b[49m\u001b[38;5;241;43m.\u001b[39;49m\u001b[43mdatetime\u001b[49m\u001b[38;5;241;43m.\u001b[39;49m\u001b[43mstrptime\u001b[49m\u001b[43m(\u001b[49m\u001b[43md2\u001b[49m\u001b[43m,\u001b[49m\u001b[43mdate_format\u001b[49m\u001b[43m)\u001b[49m\n\u001b[0;32m      4\u001b[0m new_date\n",
      "File \u001b[1;32m~\\anaconda3\\lib\\_strptime.py:568\u001b[0m, in \u001b[0;36m_strptime_datetime\u001b[1;34m(cls, data_string, format)\u001b[0m\n\u001b[0;32m    565\u001b[0m \u001b[38;5;28;01mdef\u001b[39;00m \u001b[38;5;21m_strptime_datetime\u001b[39m(\u001b[38;5;28mcls\u001b[39m, data_string, \u001b[38;5;28mformat\u001b[39m\u001b[38;5;241m=\u001b[39m\u001b[38;5;124m\"\u001b[39m\u001b[38;5;132;01m%a\u001b[39;00m\u001b[38;5;124m \u001b[39m\u001b[38;5;124m%\u001b[39m\u001b[38;5;124mb \u001b[39m\u001b[38;5;132;01m%d\u001b[39;00m\u001b[38;5;124m \u001b[39m\u001b[38;5;124m%\u001b[39m\u001b[38;5;124mH:\u001b[39m\u001b[38;5;124m%\u001b[39m\u001b[38;5;124mM:\u001b[39m\u001b[38;5;124m%\u001b[39m\u001b[38;5;124mS \u001b[39m\u001b[38;5;124m%\u001b[39m\u001b[38;5;124mY\u001b[39m\u001b[38;5;124m\"\u001b[39m):\n\u001b[0;32m    566\u001b[0m     \u001b[38;5;124;03m\"\"\"Return a class cls instance based on the input string and the\u001b[39;00m\n\u001b[0;32m    567\u001b[0m \u001b[38;5;124;03m    format string.\"\"\"\u001b[39;00m\n\u001b[1;32m--> 568\u001b[0m     tt, fraction, gmtoff_fraction \u001b[38;5;241m=\u001b[39m \u001b[43m_strptime\u001b[49m\u001b[43m(\u001b[49m\u001b[43mdata_string\u001b[49m\u001b[43m,\u001b[49m\u001b[43m \u001b[49m\u001b[38;5;28;43mformat\u001b[39;49m\u001b[43m)\u001b[49m\n\u001b[0;32m    569\u001b[0m     tzname, gmtoff \u001b[38;5;241m=\u001b[39m tt[\u001b[38;5;241m-\u001b[39m\u001b[38;5;241m2\u001b[39m:]\n\u001b[0;32m    570\u001b[0m     args \u001b[38;5;241m=\u001b[39m tt[:\u001b[38;5;241m6\u001b[39m] \u001b[38;5;241m+\u001b[39m (fraction,)\n",
      "File \u001b[1;32m~\\anaconda3\\lib\\_strptime.py:349\u001b[0m, in \u001b[0;36m_strptime\u001b[1;34m(data_string, format)\u001b[0m\n\u001b[0;32m    347\u001b[0m found \u001b[38;5;241m=\u001b[39m format_regex\u001b[38;5;241m.\u001b[39mmatch(data_string)\n\u001b[0;32m    348\u001b[0m \u001b[38;5;28;01mif\u001b[39;00m \u001b[38;5;129;01mnot\u001b[39;00m found:\n\u001b[1;32m--> 349\u001b[0m     \u001b[38;5;28;01mraise\u001b[39;00m \u001b[38;5;167;01mValueError\u001b[39;00m(\u001b[38;5;124m\"\u001b[39m\u001b[38;5;124mtime data \u001b[39m\u001b[38;5;132;01m%r\u001b[39;00m\u001b[38;5;124m does not match format \u001b[39m\u001b[38;5;132;01m%r\u001b[39;00m\u001b[38;5;124m\"\u001b[39m \u001b[38;5;241m%\u001b[39m\n\u001b[0;32m    350\u001b[0m                      (data_string, \u001b[38;5;28mformat\u001b[39m))\n\u001b[0;32m    351\u001b[0m \u001b[38;5;28;01mif\u001b[39;00m \u001b[38;5;28mlen\u001b[39m(data_string) \u001b[38;5;241m!=\u001b[39m found\u001b[38;5;241m.\u001b[39mend():\n\u001b[0;32m    352\u001b[0m     \u001b[38;5;28;01mraise\u001b[39;00m \u001b[38;5;167;01mValueError\u001b[39;00m(\u001b[38;5;124m\"\u001b[39m\u001b[38;5;124munconverted data remains: \u001b[39m\u001b[38;5;132;01m%s\u001b[39;00m\u001b[38;5;124m\"\u001b[39m \u001b[38;5;241m%\u001b[39m\n\u001b[0;32m    353\u001b[0m                       data_string[found\u001b[38;5;241m.\u001b[39mend():])\n",
      "\u001b[1;31mValueError\u001b[0m: time data '25/11/2020' does not match format '%d-%m-%Y'"
     ]
    }
   ],
   "source": [
    "d2 = \"25/11/2020\"\n",
    "date_format = \"%d-%m-%Y\"\n",
    "new_date = datetime.datetime.strptime(d2,date_format)\n",
    "new_date"
   ]
  },
  {
   "cell_type": "code",
   "execution_count": 83,
   "id": "1ba1c680",
   "metadata": {},
   "outputs": [
    {
     "data": {
      "text/plain": [
       "datetime.date(2020, 11, 25)"
      ]
     },
     "execution_count": 83,
     "metadata": {},
     "output_type": "execute_result"
    }
   ],
   "source": [
    "d2 = \"25/11/2020\"\n",
    "date_format = \"%d/%m/%Y\"\n",
    "new_date = datetime.datetime.strptime(d2,date_format).date()\n",
    "new_date"
   ]
  },
  {
   "cell_type": "code",
   "execution_count": 84,
   "id": "1f25ba48",
   "metadata": {},
   "outputs": [
    {
     "data": {
      "text/plain": [
       "datetime.date(2020, 11, 25)"
      ]
     },
     "execution_count": 84,
     "metadata": {},
     "output_type": "execute_result"
    }
   ],
   "source": [
    "d3 = \"25 11 2020\"\n",
    "date_format = \"%d %m %Y\"\n",
    "new_date = datetime.datetime.strptime(d3,date_format).date()\n",
    "new_date"
   ]
  },
  {
   "cell_type": "code",
   "execution_count": 85,
   "id": "dff34003",
   "metadata": {},
   "outputs": [
    {
     "data": {
      "text/plain": [
       "datetime.date(2020, 11, 25)"
      ]
     },
     "execution_count": 85,
     "metadata": {},
     "output_type": "execute_result"
    }
   ],
   "source": [
    "d4 = \"25 Nov 2020\"\n",
    "date_format = \"%d %b %Y\"\n",
    "new_date = datetime.datetime.strptime(d4,date_format).date()\n",
    "new_date"
   ]
  },
  {
   "cell_type": "code",
   "execution_count": 87,
   "id": "f4ad817f",
   "metadata": {},
   "outputs": [
    {
     "data": {
      "text/plain": [
       "datetime.date(2020, 11, 25)"
      ]
     },
     "execution_count": 87,
     "metadata": {},
     "output_type": "execute_result"
    }
   ],
   "source": [
    "d5 = \"25/November/2020\"\n",
    "date_format = \"%d/%B/%Y\"\n",
    "new_date = datetime.datetime.strptime(d5,date_format).date()\n",
    "new_date"
   ]
  },
  {
   "cell_type": "code",
   "execution_count": 88,
   "id": "80164aaa",
   "metadata": {},
   "outputs": [
    {
     "data": {
      "text/plain": [
       "['17-02-2022',\n",
       " '28/03/2022',\n",
       " '17-02-22',\n",
       " '2022-02-17',\n",
       " '2022 Feb 17',\n",
       " '2022 February 17',\n",
       " '2022 Aug 17',\n",
       " '17 Feb 22',\n",
       " '17 Feb 2022',\n",
       " '17/02/2022',\n",
       " '17/02/22',\n",
       " '17-05-2020']"
      ]
     },
     "execution_count": 88,
     "metadata": {},
     "output_type": "execute_result"
    }
   ],
   "source": [
    "date_list = date_list = [\"17-02-2022\",\"28/03/2022\",\"17-02-22\",\"2022-02-17\",\"2022 Feb 17\", \"2022 February 17\", \n",
    "            \"2022 Aug 17\", \"17 Feb 22\", \"17 Feb 2022\", \"17/02/2022\", \"17/02/22\", \"17-05-2020\"]\n",
    "date_list"
   ]
  },
  {
   "cell_type": "code",
   "execution_count": 89,
   "id": "3b81afc5",
   "metadata": {},
   "outputs": [
    {
     "data": {
      "text/plain": [
       "['%d/%m/%Y',\n",
       " '%d-%m-%Y',\n",
       " '%d-%m-%y',\n",
       " '%Y-%m-%d',\n",
       " '%Y %b %d',\n",
       " '%Y %B %d',\n",
       " '%d %b %y',\n",
       " '%d %b %y',\n",
       " '%d %b %Y',\n",
       " '%d/%m/%y']"
      ]
     },
     "execution_count": 89,
     "metadata": {},
     "output_type": "execute_result"
    }
   ],
   "source": [
    "date_format_list = [\"%d/%m/%Y\",\"%d-%m-%Y\",\"%d-%m-%y\",\"%Y-%m-%d\", \"%Y %b %d\", \"%Y %B %d\", \"%d %b %y\", \n",
    "                   \"%d %b %y\", \"%d %b %Y\", \"%d/%m/%y\"]\n",
    "date_format_list"
   ]
  },
  {
   "cell_type": "code",
   "execution_count": 91,
   "id": "5ce79a8c",
   "metadata": {},
   "outputs": [
    {
     "name": "stdout",
     "output_type": "stream",
     "text": [
      "Date     ---> 17-02-2022\n",
      "Foramat  ---> %d-%m-%Y\n",
      "New_date ---> 2022-02-17\n",
      "---------------------------\n",
      "Date     ---> 28/03/2022\n",
      "Foramat  ---> %d/%m/%Y\n",
      "New_date ---> 2022-03-28\n",
      "---------------------------\n",
      "Date     ---> 17-02-22\n",
      "Foramat  ---> %d-%m-%y\n",
      "New_date ---> 2022-02-17\n",
      "---------------------------\n",
      "Date     ---> 2022-02-17\n",
      "Foramat  ---> %Y-%m-%d\n",
      "New_date ---> 2022-02-17\n",
      "---------------------------\n",
      "Date     ---> 2022 Feb 17\n",
      "Foramat  ---> %Y %b %d\n",
      "New_date ---> 2022-02-17\n",
      "---------------------------\n",
      "Date     ---> 2022 February 17\n",
      "Foramat  ---> %Y %B %d\n",
      "New_date ---> 2022-02-17\n",
      "---------------------------\n",
      "Date     ---> 2022 Aug 17\n",
      "Foramat  ---> %Y %b %d\n",
      "New_date ---> 2022-08-17\n",
      "---------------------------\n",
      "Date     ---> 17 Feb 22\n",
      "Foramat  ---> %d %b %y\n",
      "New_date ---> 2022-02-17\n",
      "---------------------------\n",
      "Date     ---> 17 Feb 2022\n",
      "Foramat  ---> %d %b %Y\n",
      "New_date ---> 2022-02-17\n",
      "---------------------------\n",
      "Date     ---> 17/02/2022\n",
      "Foramat  ---> %d/%m/%Y\n",
      "New_date ---> 2022-02-17\n",
      "---------------------------\n",
      "Date     ---> 17/02/22\n",
      "Foramat  ---> %d/%m/%y\n",
      "New_date ---> 2022-02-17\n",
      "---------------------------\n",
      "Date     ---> 17-05-2020\n",
      "Foramat  ---> %d-%m-%Y\n",
      "New_date ---> 2020-05-17\n",
      "---------------------------\n"
     ]
    }
   ],
   "source": [
    "for date in date_list:\n",
    "    for date_format in date_format_list:\n",
    "        try:\n",
    "            new_date = datetime.datetime.strptime(date,date_format).date()\n",
    "            print(f\"Date     ---> {date}\")\n",
    "            print(f\"Foramat  ---> {date_format}\")\n",
    "            print(f\"New_date ---> {new_date}\")\n",
    "            print(\"---------------------------\")\n",
    "            break\n",
    "        except:\n",
    "            continue"
   ]
  },
  {
   "cell_type": "code",
   "execution_count": 92,
   "id": "3ce95ad1",
   "metadata": {},
   "outputs": [
    {
     "name": "stdout",
     "output_type": "stream",
     "text": [
      "0\n",
      "1\n",
      "2\n"
     ]
    }
   ],
   "source": [
    "for i in range(100):\n",
    "    if i == 3:\n",
    "        break\n",
    "    print(i)\n",
    "    "
   ]
  }
 ],
 "metadata": {
  "kernelspec": {
   "display_name": "Python 3 (ipykernel)",
   "language": "python",
   "name": "python3"
  },
  "language_info": {
   "codemirror_mode": {
    "name": "ipython",
    "version": 3
   },
   "file_extension": ".py",
   "mimetype": "text/x-python",
   "name": "python",
   "nbconvert_exporter": "python",
   "pygments_lexer": "ipython3",
   "version": "3.12.4"
  }
 },
 "nbformat": 4,
 "nbformat_minor": 5
}
