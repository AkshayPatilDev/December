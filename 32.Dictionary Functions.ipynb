{
 "cells": [
  {
   "cell_type": "markdown",
   "id": "7b4e730f",
   "metadata": {},
   "source": [
    "# Delete items from dictionary\n",
    "- 1.pop()\n",
    "- 2.popitem()\n",
    "- 3.clear()\n",
    "- 4.del"
   ]
  },
  {
   "cell_type": "code",
   "execution_count": 5,
   "id": "73f99b9a",
   "metadata": {},
   "outputs": [
    {
     "data": {
      "text/plain": [
       "{'Employee name': 'John',\n",
       " 'Company name': 'E-Clerx',\n",
       " 'Salary': '1500000',\n",
       " 'Designation': 'Data Scientist'}"
      ]
     },
     "execution_count": 5,
     "metadata": {},
     "output_type": "execute_result"
    }
   ],
   "source": [
    "dict1 = {\n",
    "    \"Employee name\" : \"John\",\n",
    "    \"Company name\"  : \"E-Clerx\",\n",
    "    \"Salary\"        : \"1500000\",\n",
    "    \"Designation\"   : \"Data Scientist\"\n",
    "}\n",
    "dict1"
   ]
  },
  {
   "cell_type": "markdown",
   "id": "c7d81de0",
   "metadata": {},
   "source": [
    "## 1.pop()\n",
    "- dictionary.pop(key)"
   ]
  },
  {
   "cell_type": "code",
   "execution_count": 6,
   "id": "9cb6c590",
   "metadata": {},
   "outputs": [
    {
     "data": {
      "text/plain": [
       "{'Employee name': 'John',\n",
       " 'Company name': 'E-Clerx',\n",
       " 'Salary': '1500000',\n",
       " 'Designation': 'Data Scientist'}"
      ]
     },
     "execution_count": 6,
     "metadata": {},
     "output_type": "execute_result"
    }
   ],
   "source": [
    "dict1 = {\n",
    "    \"Employee name\" : \"John\",\n",
    "    \"Company name\"  : \"E-Clerx\",\n",
    "    \"Salary\"        : \"1500000\",\n",
    "    \"Designation\"   : \"Data Scientist\"\n",
    "}\n",
    "dict1"
   ]
  },
  {
   "cell_type": "code",
   "execution_count": 7,
   "id": "dde18e4a",
   "metadata": {},
   "outputs": [
    {
     "data": {
      "text/plain": [
       "{'Employee name': 'John', 'Company name': 'E-Clerx', 'Salary': '1500000'}"
      ]
     },
     "execution_count": 7,
     "metadata": {},
     "output_type": "execute_result"
    }
   ],
   "source": [
    "dict1.pop(\"Designation\")\n",
    "dict1"
   ]
  },
  {
   "cell_type": "code",
   "execution_count": 9,
   "id": "477490e8",
   "metadata": {},
   "outputs": [
    {
     "name": "stdout",
     "output_type": "stream",
     "text": [
      "{'Employee name': 'John', 'Company name': 'E-Clerx', 'Salary': '1500000', 'Designation': 'Data Scientist'}\n",
      "\n",
      "{'Employee name': 'John', 'Salary': '1500000', 'Designation': 'Data Scientist'}\n"
     ]
    }
   ],
   "source": [
    "dict1 = {\n",
    "    \"Employee name\" : \"John\",\n",
    "    \"Company name\"  : \"E-Clerx\",\n",
    "    \"Salary\"        : \"1500000\",\n",
    "    \"Designation\"   : \"Data Scientist\"\n",
    "}\n",
    "print(dict1)\n",
    "dict1.pop(\"Company name\")\n",
    "print()\n",
    "print(dict1)"
   ]
  },
  {
   "cell_type": "markdown",
   "id": "867057fc",
   "metadata": {},
   "source": [
    "## 2.popitem()\n",
    "- It will remove the last item"
   ]
  },
  {
   "cell_type": "code",
   "execution_count": 10,
   "id": "7e722eb0",
   "metadata": {},
   "outputs": [
    {
     "name": "stdout",
     "output_type": "stream",
     "text": [
      "{'Employee name': 'John', 'Company name': 'E-Clerx', 'Salary': '1500000', 'Designation': 'Data Scientist'}\n",
      "\n",
      "{'Employee name': 'John', 'Company name': 'E-Clerx', 'Salary': '1500000'}\n"
     ]
    }
   ],
   "source": [
    "dict1 = {\n",
    "    \"Employee name\" : \"John\",\n",
    "    \"Company name\"  : \"E-Clerx\",\n",
    "    \"Salary\"        : \"1500000\",\n",
    "    \"Designation\"   : \"Data Scientist\"\n",
    "}\n",
    "print(dict1)\n",
    "dict1.popitem()\n",
    "print()\n",
    "print(dict1)"
   ]
  },
  {
   "cell_type": "code",
   "execution_count": 12,
   "id": "1e6fa243",
   "metadata": {},
   "outputs": [
    {
     "name": "stdout",
     "output_type": "stream",
     "text": [
      "{'Employee name': 'John', 'Company name': 'E-Clerx', 'Salary': '1500000', 'Designation': 'Data Scientist'}\n",
      "\n",
      "{'Employee name': 'John', 'Company name': 'E-Clerx', 'Salary': '1500000'}\n",
      "\n",
      "{'Employee name': 'John', 'Company name': 'E-Clerx'}\n"
     ]
    }
   ],
   "source": [
    "dict1 = {\n",
    "    \"Employee name\" : \"John\",\n",
    "    \"Company name\"  : \"E-Clerx\",\n",
    "    \"Salary\"        : \"1500000\",\n",
    "    \"Designation\"   : \"Data Scientist\"\n",
    "}\n",
    "print(dict1)\n",
    "dict1.popitem()\n",
    "print()\n",
    "print(dict1)\n",
    "print()\n",
    "dict1.popitem()\n",
    "print(dict1)"
   ]
  },
  {
   "cell_type": "markdown",
   "id": "87da1388",
   "metadata": {},
   "source": [
    "## 3.clear"
   ]
  },
  {
   "cell_type": "code",
   "execution_count": 13,
   "id": "e39a9d3d",
   "metadata": {},
   "outputs": [
    {
     "name": "stdout",
     "output_type": "stream",
     "text": [
      "{'Employee name': 'John', 'Company name': 'E-Clerx', 'Salary': '1500000', 'Designation': 'Data Scientist'}\n",
      "\n",
      "{}\n"
     ]
    }
   ],
   "source": [
    "dict1 = {\n",
    "    \"Employee name\" : \"John\",\n",
    "    \"Company name\"  : \"E-Clerx\",\n",
    "    \"Salary\"        : \"1500000\",\n",
    "    \"Designation\"   : \"Data Scientist\"\n",
    "}\n",
    "print(dict1)\n",
    "dict1.clear()\n",
    "print()\n",
    "print(dict1)"
   ]
  },
  {
   "cell_type": "code",
   "execution_count": 14,
   "id": "0529004d",
   "metadata": {},
   "outputs": [
    {
     "name": "stdout",
     "output_type": "stream",
     "text": [
      "{'Employee name': 'John', 'Company name': 'E-Clerx', 'Salary': '1500000', 'Designation': 'Data Scientist'}\n",
      "\n"
     ]
    },
    {
     "ename": "NameError",
     "evalue": "name 'dict1' is not defined",
     "output_type": "error",
     "traceback": [
      "\u001b[1;31m---------------------------------------------------------------------------\u001b[0m",
      "\u001b[1;31mNameError\u001b[0m                                 Traceback (most recent call last)",
      "\u001b[1;32m~\\AppData\\Local\\Temp/ipykernel_1484/2648290376.py\u001b[0m in \u001b[0;36m<module>\u001b[1;34m\u001b[0m\n\u001b[0;32m      8\u001b[0m \u001b[1;32mdel\u001b[0m \u001b[0mdict1\u001b[0m\u001b[1;33m\u001b[0m\u001b[1;33m\u001b[0m\u001b[0m\n\u001b[0;32m      9\u001b[0m \u001b[0mprint\u001b[0m\u001b[1;33m(\u001b[0m\u001b[1;33m)\u001b[0m\u001b[1;33m\u001b[0m\u001b[1;33m\u001b[0m\u001b[0m\n\u001b[1;32m---> 10\u001b[1;33m \u001b[0mprint\u001b[0m\u001b[1;33m(\u001b[0m\u001b[0mdict1\u001b[0m\u001b[1;33m)\u001b[0m\u001b[1;33m\u001b[0m\u001b[1;33m\u001b[0m\u001b[0m\n\u001b[0m",
      "\u001b[1;31mNameError\u001b[0m: name 'dict1' is not defined"
     ]
    }
   ],
   "source": [
    "dict1 = {\n",
    "    \"Employee name\" : \"John\",\n",
    "    \"Company name\"  : \"E-Clerx\",\n",
    "    \"Salary\"        : \"1500000\",\n",
    "    \"Designation\"   : \"Data Scientist\"\n",
    "}\n",
    "print(dict1)\n",
    "del dict1\n",
    "print()\n",
    "print(dict1)"
   ]
  },
  {
   "cell_type": "code",
   "execution_count": 16,
   "id": "2a1acdd2",
   "metadata": {},
   "outputs": [
    {
     "name": "stdout",
     "output_type": "stream",
     "text": [
      "{'Employee name': 'John', 'Company name': 'E-Clerx', 'Salary': '1500000', 'Designation': 'Data Scientist'}\n",
      "\n",
      "{'Employee name': 'John', 'Salary': '1500000', 'Designation': 'Data Scientist'}\n"
     ]
    }
   ],
   "source": [
    "dict1 = {\n",
    "    \"Employee name\" : \"John\",\n",
    "    \"Company name\"  : \"E-Clerx\",\n",
    "    \"Salary\"        : \"1500000\",\n",
    "    \"Designation\"   : \"Data Scientist\"\n",
    "}\n",
    "print(dict1)\n",
    "del dict1[\"Company name\"]\n",
    "print()\n",
    "print(dict1)"
   ]
  },
  {
   "cell_type": "markdown",
   "id": "24fb90fa",
   "metadata": {},
   "source": [
    "# Nested Dictionary"
   ]
  },
  {
   "cell_type": "code",
   "execution_count": 17,
   "id": "d9930e9c",
   "metadata": {},
   "outputs": [],
   "source": [
    "dict1 = {\n",
    "    \"Employee name\" : \"John\",\n",
    "    \"Company name\"  : \"E-clerx\",\n",
    "    \"Salary\"        : \"1500000\",\n",
    "    \"Designation\"   : \"Data Scientist\"\n",
    "}"
   ]
  },
  {
   "cell_type": "code",
   "execution_count": 18,
   "id": "6ae27449",
   "metadata": {},
   "outputs": [],
   "source": [
    "dict2 = {\n",
    "    \"Employee name\" : \"Mohit\",\n",
    "    \"Company name\"  : \"Accenture\",\n",
    "    \"Salary\"        : \"2000000\",\n",
    "    \"Designation\"   : \"ML Engineer\"\n",
    "}"
   ]
  },
  {
   "cell_type": "code",
   "execution_count": 20,
   "id": "9188eb7c",
   "metadata": {},
   "outputs": [
    {
     "data": {
      "text/plain": [
       "{'ABC11': {'Employee name': 'John',\n",
       "  'Company name': 'E-Clerx',\n",
       "  'Salary': '1500000',\n",
       "  'Designation': 'Data Scientist'},\n",
       " 'ABC12': {'Employee name': 'Mohit',\n",
       "  'Company name': 'Accenture',\n",
       "  'Salary': '2000000',\n",
       "  'Designation': 'ML Engineer'}}"
      ]
     },
     "execution_count": 20,
     "metadata": {},
     "output_type": "execute_result"
    }
   ],
   "source": [
    "employee_info = {\n",
    "    \"ABC11\" : dict1,\n",
    "    \"ABC12\" : dict2\n",
    "}\n",
    "print(employee_info)"
   ]
  },
  {
   "cell_type": "code",
   "execution_count": 21,
   "id": "cf0cce13",
   "metadata": {},
   "outputs": [
    {
     "data": {
      "text/plain": [
       "22"
      ]
     },
     "execution_count": 21,
     "metadata": {},
     "output_type": "execute_result"
    }
   ],
   "source": [
    "li = [[1,2,3],[11,22,33],[111,222,333]]\n",
    "li[1][1]"
   ]
  },
  {
   "cell_type": "code",
   "execution_count": 22,
   "id": "576119b6",
   "metadata": {},
   "outputs": [
    {
     "data": {
      "text/plain": [
       "{'Employee name': 'John',\n",
       " 'Company name': 'E-Clerx',\n",
       " 'Salary': '1500000',\n",
       " 'Designation': 'Data Scientist'}"
      ]
     },
     "execution_count": 22,
     "metadata": {},
     "output_type": "execute_result"
    }
   ],
   "source": [
    "dict1"
   ]
  },
  {
   "cell_type": "code",
   "execution_count": 23,
   "id": "d266fd11",
   "metadata": {},
   "outputs": [
    {
     "data": {
      "text/plain": [
       "'E-Clerx'"
      ]
     },
     "execution_count": 23,
     "metadata": {},
     "output_type": "execute_result"
    }
   ],
   "source": [
    "dict1[\"Company name\"]"
   ]
  },
  {
   "cell_type": "code",
   "execution_count": 24,
   "id": "898dd38c",
   "metadata": {},
   "outputs": [
    {
     "data": {
      "text/plain": [
       "{'Employee name': 'Mohit',\n",
       " 'Company name': 'Accenture',\n",
       " 'Salary': '2000000',\n",
       " 'Designation': 'ML Engineer'}"
      ]
     },
     "execution_count": 24,
     "metadata": {},
     "output_type": "execute_result"
    }
   ],
   "source": [
    "employee_info[\"ABC12\"]"
   ]
  },
  {
   "cell_type": "code",
   "execution_count": 25,
   "id": "ba854158",
   "metadata": {},
   "outputs": [
    {
     "data": {
      "text/plain": [
       "'Accenture'"
      ]
     },
     "execution_count": 25,
     "metadata": {},
     "output_type": "execute_result"
    }
   ],
   "source": [
    "employee_info[\"ABC12\"][\"Company name\"]"
   ]
  },
  {
   "cell_type": "code",
   "execution_count": 26,
   "id": "4a691454",
   "metadata": {},
   "outputs": [
    {
     "data": {
      "text/plain": [
       "'2000000'"
      ]
     },
     "execution_count": 26,
     "metadata": {},
     "output_type": "execute_result"
    }
   ],
   "source": [
    "employee_info[\"ABC12\"][\"Salary\"]"
   ]
  },
  {
   "cell_type": "code",
   "execution_count": 28,
   "id": "49e6ca5a",
   "metadata": {},
   "outputs": [
    {
     "name": "stdout",
     "output_type": "stream",
     "text": [
      "{'ABC11': {'Employee name': 'John', 'Company name': 'E-Clerx', 'Salary': '1500000', 'Designation': 'Data Scientist'}, 'ABC12': {'Employee name': 'Mohit', 'Company name': 'Accenture', 'Salary': '2000000', 'Designation': 'ML Engineer'}, 'ABC13': {'Employee name': 'Akash', 'Company name': 'TCS', 'Salary': [1500000, 1700000, 2000000], 'Designation': 'Data Analyst'}}\n"
     ]
    }
   ],
   "source": [
    "employee_info = {\n",
    "    \"ABC11\" : dict1,\n",
    "    \"ABC12\" : dict2,\n",
    "    \"ABC13\" : {\n",
    "        \"Employee name\" : \"Akash\",\n",
    "        \"Company name\"  : \"TCS\",\n",
    "        \"Salary\"        : [1500000,1700000,2000000],\n",
    "        \"Designation\"   : \"Data Analyst\"\n",
    "        \n",
    "    }\n",
    "}\n",
    "print(employee_info)"
   ]
  },
  {
   "cell_type": "code",
   "execution_count": 29,
   "id": "ac735cc1",
   "metadata": {},
   "outputs": [
    {
     "data": {
      "text/plain": [
       "{'Employee name': 'Akash',\n",
       " 'Company name': 'TCS',\n",
       " 'Salary': [1500000, 1700000, 2000000],\n",
       " 'Designation': 'Data Analyst'}"
      ]
     },
     "execution_count": 29,
     "metadata": {},
     "output_type": "execute_result"
    }
   ],
   "source": [
    "employee_info[\"ABC13\"]"
   ]
  },
  {
   "cell_type": "code",
   "execution_count": 30,
   "id": "4c2e76e3",
   "metadata": {},
   "outputs": [
    {
     "data": {
      "text/plain": [
       "[1500000, 1700000, 2000000]"
      ]
     },
     "execution_count": 30,
     "metadata": {},
     "output_type": "execute_result"
    }
   ],
   "source": [
    "employee_info[\"ABC13\"][\"Salary\"]"
   ]
  },
  {
   "cell_type": "code",
   "execution_count": 32,
   "id": "e7696d78",
   "metadata": {},
   "outputs": [
    {
     "data": {
      "text/plain": [
       "1500000"
      ]
     },
     "execution_count": 32,
     "metadata": {},
     "output_type": "execute_result"
    }
   ],
   "source": [
    "employee_info[\"ABC13\"][\"Salary\"][0]"
   ]
  },
  {
   "cell_type": "code",
   "execution_count": 33,
   "id": "5e548869",
   "metadata": {},
   "outputs": [
    {
     "data": {
      "text/plain": [
       "[1500000, 1700000]"
      ]
     },
     "execution_count": 33,
     "metadata": {},
     "output_type": "execute_result"
    }
   ],
   "source": [
    "employee_info[\"ABC13\"][\"Salary\"][0:2]"
   ]
  },
  {
   "cell_type": "code",
   "execution_count": 34,
   "id": "7e49da9c",
   "metadata": {},
   "outputs": [
    {
     "data": {
      "text/plain": [
       "2000000"
      ]
     },
     "execution_count": 34,
     "metadata": {},
     "output_type": "execute_result"
    }
   ],
   "source": [
    "employee_info[\"ABC13\"][\"Salary\"][-1]"
   ]
  },
  {
   "cell_type": "code",
   "execution_count": 35,
   "id": "41a8dd65",
   "metadata": {},
   "outputs": [
    {
     "data": {
      "text/plain": [
       "{'ABC11': {'Employee name': 'John',\n",
       "  'Company name': 'E-Clerx',\n",
       "  'Salary': '1500000',\n",
       "  'Designation': 'Data Scientist'},\n",
       " 'ABC12': {'Employee name': 'Mohit',\n",
       "  'Company name': 'Accenture',\n",
       "  'Salary': '2000000',\n",
       "  'Designation': 'ML Engineer'},\n",
       " 'ABC13': {'Employee name': 'Akash',\n",
       "  'Company name': 'TCS',\n",
       "  'Salary': [1500000, 1700000, 2000000],\n",
       "  'Designation': 'Data Analyst'}}"
      ]
     },
     "execution_count": 35,
     "metadata": {},
     "output_type": "execute_result"
    }
   ],
   "source": [
    "employee_info"
   ]
  },
  {
   "cell_type": "code",
   "execution_count": 36,
   "id": "2a1f0387",
   "metadata": {},
   "outputs": [
    {
     "name": "stdout",
     "output_type": "stream",
     "text": [
      "{'ABC11': {'Employee name': 'John', 'Company name': 'E-Clerx', 'Salary': '1500000', 'Designation': 'Data Scientist'}, 'ABC12': {'Employee name': 'Mohit', 'Company name': 'Accenture', 'Salary': '2000000', 'Designation': 'ML Engineer'}, 'ABC13': {'Employee name': 'Akash', 'Company name': 'TCS', 'Salary': [1500000, 1700000, 2000000], 'Designation': 'Data Analyst', 'Location': {'City': 'Pune', 'State': 'Maharashtra', 'Pincode': '411001'}}}\n"
     ]
    }
   ],
   "source": [
    "employee_info = {\n",
    "    \"ABC11\" : dict1,\n",
    "    \"ABC12\" : dict2,\n",
    "    \"ABC13\" : {\n",
    "        \"Employee name\" : \"Akash\",\n",
    "        \"Company name\"  : \"TCS\",\n",
    "        \"Salary\"        : [1500000,1700000,2000000],\n",
    "        \"Designation\"   : \"Data Analyst\",\n",
    "        \"Location\"      : {\n",
    "            \"City\"      : \"Pune\",\n",
    "            \"State\"     : \"Maharashtra\",\n",
    "            \"Pincode\"   : \"411001\"\n",
    "        }\n",
    "        \n",
    "    }\n",
    "}\n",
    "print(employee_info)"
   ]
  },
  {
   "cell_type": "code",
   "execution_count": 37,
   "id": "9b19a8ea",
   "metadata": {},
   "outputs": [
    {
     "data": {
      "text/plain": [
       "{'City': 'Pune', 'State': 'Maharashtra', 'Pincode': '411001'}"
      ]
     },
     "execution_count": 37,
     "metadata": {},
     "output_type": "execute_result"
    }
   ],
   "source": [
    "employee_info[\"ABC13\"][\"Location\"]"
   ]
  },
  {
   "cell_type": "code",
   "execution_count": 38,
   "id": "65c19eac",
   "metadata": {},
   "outputs": [
    {
     "data": {
      "text/plain": [
       "'Maharashtra'"
      ]
     },
     "execution_count": 38,
     "metadata": {},
     "output_type": "execute_result"
    }
   ],
   "source": [
    "employee_info[\"ABC13\"][\"Location\"][\"State\"]"
   ]
  },
  {
   "cell_type": "code",
   "execution_count": 39,
   "id": "76e90592",
   "metadata": {},
   "outputs": [
    {
     "data": {
      "text/plain": [
       "'411001'"
      ]
     },
     "execution_count": 39,
     "metadata": {},
     "output_type": "execute_result"
    }
   ],
   "source": [
    "employee_info[\"ABC13\"][\"Location\"][\"Pincode\"]"
   ]
  },
  {
   "cell_type": "code",
   "execution_count": 40,
   "id": "8fe05695",
   "metadata": {},
   "outputs": [],
   "source": [
    "employee_info[\"ABC13\"][\"Location\"][\"Pincode\"] = 411002"
   ]
  },
  {
   "cell_type": "code",
   "execution_count": 41,
   "id": "436d48f9",
   "metadata": {},
   "outputs": [
    {
     "data": {
      "text/plain": [
       "{'ABC11': {'Employee name': 'John',\n",
       "  'Company name': 'E-Clerx',\n",
       "  'Salary': '1500000',\n",
       "  'Designation': 'Data Scientist'},\n",
       " 'ABC12': {'Employee name': 'Mohit',\n",
       "  'Company name': 'Accenture',\n",
       "  'Salary': '2000000',\n",
       "  'Designation': 'ML Engineer'},\n",
       " 'ABC13': {'Employee name': 'Akash',\n",
       "  'Company name': 'TCS',\n",
       "  'Salary': [1500000, 1700000, 2000000],\n",
       "  'Designation': 'Data Analyst',\n",
       "  'Location': {'City': 'Pune', 'State': 'Maharashtra', 'Pincode': 411002}}}"
      ]
     },
     "execution_count": 41,
     "metadata": {},
     "output_type": "execute_result"
    }
   ],
   "source": [
    "employee_info"
   ]
  },
  {
   "cell_type": "code",
   "execution_count": 44,
   "id": "f023b636",
   "metadata": {},
   "outputs": [
    {
     "name": "stdout",
     "output_type": "stream",
     "text": [
      "{'ABC11': {'Employee name': 'John', 'Company name': 'E-Clerx', 'Salary': '1500000', 'Designation': 'Data Scientist'}, 'ABC12': {'Employee name': 'Mohit', 'Company name': 'Accenture', 'Salary': '2000000', 'Designation': 'ML Engineer'}, 'ABC13': {'Employee name': 'Akash', 'Company name': 'Infosys', 'Salary': [1500000, 1700000, 2000000], 'Designation': 'Data Analyst'}}\n"
     ]
    }
   ],
   "source": [
    "employee_info = {\n",
    "    \"ABC11\" : dict1,\n",
    "    \"ABC12\" : dict2,\n",
    "    \"ABC13\" : {\n",
    "        \"Employee name\" : \"Akash\",\n",
    "        \"Company name\"  : \"Infosys\",\n",
    "        \"Salary\"        : [1500000,1700000,2000000],\n",
    "        \"Designation\"   : \"Data Analyst\"\n",
    "    }\n",
    "}\n",
    "print(employee_info)"
   ]
  },
  {
   "cell_type": "code",
   "execution_count": 45,
   "id": "38dae3d4",
   "metadata": {},
   "outputs": [
    {
     "data": {
      "text/plain": [
       "{'Employee name': 'Akash',\n",
       " 'Company name': 'Infosys',\n",
       " 'Salary': [1500000, 1700000, 2000000],\n",
       " 'Designation': 'Data Analyst'}"
      ]
     },
     "execution_count": 45,
     "metadata": {},
     "output_type": "execute_result"
    }
   ],
   "source": [
    "employee_info[\"ABC13\"]"
   ]
  },
  {
   "cell_type": "code",
   "execution_count": 46,
   "id": "a6096765",
   "metadata": {},
   "outputs": [
    {
     "data": {
      "text/plain": [
       "[1500000, 1700000, 2000000]"
      ]
     },
     "execution_count": 46,
     "metadata": {},
     "output_type": "execute_result"
    }
   ],
   "source": [
    "employee_info[\"ABC13\"][\"Salary\"]"
   ]
  },
  {
   "cell_type": "code",
   "execution_count": 47,
   "id": "f6ef9fa0",
   "metadata": {},
   "outputs": [
    {
     "data": {
      "text/plain": [
       "1500000"
      ]
     },
     "execution_count": 47,
     "metadata": {},
     "output_type": "execute_result"
    }
   ],
   "source": [
    "employee_info[\"ABC13\"][\"Salary\"][0]"
   ]
  },
  {
   "cell_type": "code",
   "execution_count": 48,
   "id": "f5b7e213",
   "metadata": {},
   "outputs": [
    {
     "data": {
      "text/plain": [
       "1700000"
      ]
     },
     "execution_count": 48,
     "metadata": {},
     "output_type": "execute_result"
    }
   ],
   "source": [
    "employee_info[\"ABC13\"][\"Salary\"][1]"
   ]
  },
  {
   "cell_type": "code",
   "execution_count": 49,
   "id": "0088fd55",
   "metadata": {},
   "outputs": [],
   "source": [
    "employee_info[\"ABC13\"][\"Salary\"][-1] = 2100000"
   ]
  },
  {
   "cell_type": "code",
   "execution_count": 50,
   "id": "cbaeb632",
   "metadata": {},
   "outputs": [
    {
     "data": {
      "text/plain": [
       "[1500000, 1700000, 2100000]"
      ]
     },
     "execution_count": 50,
     "metadata": {},
     "output_type": "execute_result"
    }
   ],
   "source": [
    "employee_info[\"ABC13\"][\"Salary\"]"
   ]
  },
  {
   "cell_type": "code",
   "execution_count": 51,
   "id": "c3eba108",
   "metadata": {},
   "outputs": [
    {
     "data": {
      "text/plain": [
       "list"
      ]
     },
     "execution_count": 51,
     "metadata": {},
     "output_type": "execute_result"
    }
   ],
   "source": [
    "type(employee_info[\"ABC13\"][\"Salary\"])"
   ]
  },
  {
   "cell_type": "code",
   "execution_count": 52,
   "id": "0eee8861",
   "metadata": {},
   "outputs": [
    {
     "name": "stdout",
     "output_type": "stream",
     "text": [
      "1500005\n",
      "1700005\n",
      "2100005\n"
     ]
    }
   ],
   "source": [
    "for i in employee_info[\"ABC13\"][\"Salary\"]:\n",
    "    print(i+5)"
   ]
  },
  {
   "cell_type": "code",
   "execution_count": 53,
   "id": "529b7c42",
   "metadata": {},
   "outputs": [],
   "source": [
    "lang_name = [\"Python\",\"Java\",\"C\",\"R\",\"GoLang\"]\n",
    "popularity = [95, 89, 75, 79, 70]"
   ]
  },
  {
   "cell_type": "code",
   "execution_count": 56,
   "id": "5db5639a",
   "metadata": {},
   "outputs": [
    {
     "name": "stdout",
     "output_type": "stream",
     "text": [
      "95\n",
      "89\n",
      "75\n",
      "79\n",
      "70\n",
      "\n",
      "95\n",
      "89\n",
      "75\n",
      "79\n",
      "70\n",
      "\n",
      "95\n",
      "89\n",
      "75\n",
      "79\n",
      "70\n",
      "\n",
      "95\n",
      "89\n",
      "75\n",
      "79\n",
      "70\n",
      "\n",
      "95\n",
      "89\n",
      "75\n",
      "79\n",
      "70\n",
      "\n"
     ]
    }
   ],
   "source": [
    "for L in lang_name:\n",
    "    for P in popularity:\n",
    "        print(P)\n",
    "    print()"
   ]
  },
  {
   "cell_type": "code",
   "execution_count": 61,
   "id": "fd4a3300",
   "metadata": {},
   "outputs": [
    {
     "name": "stdout",
     "output_type": "stream",
     "text": [
      "{'Python': 70}\n",
      "{'Python': 70, 'Java': 70}\n",
      "{'Python': 70, 'Java': 70, 'C': 70}\n",
      "{'Python': 70, 'Java': 70, 'C': 70, 'R': 70}\n",
      "{'Python': 70, 'Java': 70, 'C': 70, 'R': 70, 'GoLang': 70}\n"
     ]
    }
   ],
   "source": [
    "lang_dict = {}\n",
    "for L in lang_name:\n",
    "    for P in popularity:\n",
    "        lang_dict[L] = P\n",
    "    print(lang_dict)"
   ]
  },
  {
   "cell_type": "code",
   "execution_count": 62,
   "id": "30fb39d1",
   "metadata": {},
   "outputs": [
    {
     "name": "stdout",
     "output_type": "stream",
     "text": [
      "{'Python': 95}\n",
      "{'Python': 95, 'Java': 89}\n",
      "{'Python': 95, 'Java': 89, 'C': 75}\n",
      "{'Python': 95, 'Java': 89, 'C': 75, 'R': 79}\n",
      "{'Python': 95, 'Java': 89, 'C': 75, 'R': 79, 'GoLang': 70}\n"
     ]
    }
   ],
   "source": [
    "lang_dict = {}\n",
    "for index,lang in enumerate(lang_name):\n",
    "    lang_dict[lang] = popularity[index]\n",
    "    print(lang_dict)"
   ]
  },
  {
   "cell_type": "code",
   "execution_count": 63,
   "id": "e7fa0dae",
   "metadata": {},
   "outputs": [
    {
     "name": "stdout",
     "output_type": "stream",
     "text": [
      "{'Python': 95, 'Java': 89, 'C': 75, 'R': 79, 'GoLang': 70}\n"
     ]
    }
   ],
   "source": [
    "lang_dict = {}\n",
    "for index,lang in enumerate(lang_name):\n",
    "    lang_dict[lang] = popularity[index]\n",
    "print(lang_dict)"
   ]
  },
  {
   "cell_type": "code",
   "execution_count": 66,
   "id": "03cada08",
   "metadata": {},
   "outputs": [
    {
     "name": "stdout",
     "output_type": "stream",
     "text": [
      "Python 95\n",
      "Java 89\n",
      "C 75\n",
      "R 79\n",
      "GoLang 70\n"
     ]
    }
   ],
   "source": [
    "lang_dict = {}\n",
    "for i in range(0,len(lang_name)):\n",
    "    print(lang_name[i],popularity[i])"
   ]
  },
  {
   "cell_type": "code",
   "execution_count": 68,
   "id": "d63ff5d4",
   "metadata": {},
   "outputs": [
    {
     "name": "stdout",
     "output_type": "stream",
     "text": [
      "{'Python': 95}\n",
      "{'Python': 95, 'Java': 89}\n",
      "{'Python': 95, 'Java': 89, 'C': 75}\n",
      "{'Python': 95, 'Java': 89, 'C': 75, 'R': 79}\n",
      "{'Python': 95, 'Java': 89, 'C': 75, 'R': 79, 'GoLang': 70}\n"
     ]
    }
   ],
   "source": [
    "lang_dict = {}\n",
    "for i in range(0,len(lang_name)):\n",
    "    lang_dict.update({lang_name[i]:popularity[i]})\n",
    "    print(lang_dict)"
   ]
  },
  {
   "cell_type": "markdown",
   "id": "5451887d",
   "metadata": {},
   "source": [
    "# Sort Dictionary"
   ]
  },
  {
   "cell_type": "markdown",
   "id": "47fe7cfa",
   "metadata": {},
   "source": [
    "## 1.Sort dictionary by using keys"
   ]
  },
  {
   "cell_type": "code",
   "execution_count": 69,
   "id": "9d3f833d",
   "metadata": {},
   "outputs": [
    {
     "data": {
      "text/plain": [
       "{'Python': 95, 'Java': 89, 'C': 75, 'R': 79, 'GoLang': 70}"
      ]
     },
     "execution_count": 69,
     "metadata": {},
     "output_type": "execute_result"
    }
   ],
   "source": [
    "lang_popularity = {'Python': 95, 'Java': 89, 'C': 75, 'R': 79, 'GoLang': 70}\n",
    "lang_popularity"
   ]
  },
  {
   "cell_type": "code",
   "execution_count": 70,
   "id": "b44af18b",
   "metadata": {},
   "outputs": [
    {
     "data": {
      "text/plain": [
       "dict_keys(['Python', 'Java', 'C', 'R', 'GoLang'])"
      ]
     },
     "execution_count": 70,
     "metadata": {},
     "output_type": "execute_result"
    }
   ],
   "source": [
    "lang_popularity.keys()"
   ]
  },
  {
   "cell_type": "code",
   "execution_count": 72,
   "id": "4f2fdd68",
   "metadata": {},
   "outputs": [
    {
     "data": {
      "text/plain": [
       "['C', 'GoLang', 'Java', 'Python', 'R']"
      ]
     },
     "execution_count": 72,
     "metadata": {},
     "output_type": "execute_result"
    }
   ],
   "source": [
    "sorted_keys = sorted(lang_popularity.keys())\n",
    "sorted_keys"
   ]
  },
  {
   "cell_type": "code",
   "execution_count": 73,
   "id": "987108cb",
   "metadata": {},
   "outputs": [
    {
     "data": {
      "text/plain": [
       "['R', 'Python', 'Java', 'GoLang', 'C']"
      ]
     },
     "execution_count": 73,
     "metadata": {},
     "output_type": "execute_result"
    }
   ],
   "source": [
    "sorted_keys = sorted(lang_popularity.keys(),reverse=True)\n",
    "sorted_keys"
   ]
  },
  {
   "cell_type": "code",
   "execution_count": 74,
   "id": "320757a7",
   "metadata": {},
   "outputs": [
    {
     "name": "stdout",
     "output_type": "stream",
     "text": [
      "Language : R\n",
      "Language : Python\n",
      "Language : Java\n",
      "Language : GoLang\n",
      "Language : C\n"
     ]
    }
   ],
   "source": [
    "for i in sorted_keys:\n",
    "    print(\"Language :\",i)"
   ]
  },
  {
   "cell_type": "code",
   "execution_count": 75,
   "id": "a4a9bce6",
   "metadata": {},
   "outputs": [
    {
     "name": "stdout",
     "output_type": "stream",
     "text": [
      "{'R': 79}\n",
      "{'R': 79, 'Python': 95}\n",
      "{'R': 79, 'Python': 95, 'Java': 89}\n",
      "{'R': 79, 'Python': 95, 'Java': 89, 'GoLang': 70}\n",
      "{'R': 79, 'Python': 95, 'Java': 89, 'GoLang': 70, 'C': 75}\n"
     ]
    }
   ],
   "source": [
    "sorted_dict = {}\n",
    "for i in sorted_keys:\n",
    "    sorted_dict.update({i : lang_popularity[i]})\n",
    "    print(sorted_dict)"
   ]
  },
  {
   "cell_type": "code",
   "execution_count": 76,
   "id": "375f9aed",
   "metadata": {},
   "outputs": [
    {
     "data": {
      "text/plain": [
       "{'Python': 95, 'Java': 89, 'C': 75, 'R': 79, 'GoLang': 70}"
      ]
     },
     "execution_count": 76,
     "metadata": {},
     "output_type": "execute_result"
    }
   ],
   "source": [
    "lang_popularity"
   ]
  },
  {
   "cell_type": "code",
   "execution_count": 77,
   "id": "c210ec29",
   "metadata": {},
   "outputs": [],
   "source": [
    "sorted_keys = sorted(lang_popularity.keys())"
   ]
  },
  {
   "cell_type": "code",
   "execution_count": 78,
   "id": "ec11bbb0",
   "metadata": {},
   "outputs": [
    {
     "name": "stdout",
     "output_type": "stream",
     "text": [
      "{'C': 75}\n",
      "{'C': 75, 'GoLang': 70}\n",
      "{'C': 75, 'GoLang': 70, 'Java': 89}\n",
      "{'C': 75, 'GoLang': 70, 'Java': 89, 'Python': 95}\n",
      "{'C': 75, 'GoLang': 70, 'Java': 89, 'Python': 95, 'R': 79}\n"
     ]
    }
   ],
   "source": [
    "sorted_dict = {}\n",
    "for i in sorted_keys:\n",
    "    sorted_dict.update({i:lang_popularity[i]})\n",
    "    print(sorted_dict)"
   ]
  },
  {
   "cell_type": "code",
   "execution_count": 1,
   "id": "cd7caad7",
   "metadata": {},
   "outputs": [
    {
     "data": {
      "text/plain": [
       "{'key1': 'val1'}"
      ]
     },
     "execution_count": 1,
     "metadata": {},
     "output_type": "execute_result"
    }
   ],
   "source": [
    "di1 = {\"key1\" : \"val1\"}\n",
    "di1"
   ]
  },
  {
   "cell_type": "markdown",
   "id": "5fda5b79",
   "metadata": {},
   "source": [
    "# fromkeys()\n",
    "- dict.fromkeys(sequence,[val])"
   ]
  },
  {
   "cell_type": "code",
   "execution_count": 2,
   "id": "7981b445",
   "metadata": {},
   "outputs": [
    {
     "data": {
      "text/plain": [
       "{}"
      ]
     },
     "execution_count": 2,
     "metadata": {},
     "output_type": "execute_result"
    }
   ],
   "source": [
    "di = {}\n",
    "di"
   ]
  },
  {
   "cell_type": "code",
   "execution_count": 10,
   "id": "d517c9bb",
   "metadata": {},
   "outputs": [
    {
     "data": {
      "text/plain": [
       "{'One': None, 'Two': None, 'Three': None}"
      ]
     },
     "execution_count": 10,
     "metadata": {},
     "output_type": "execute_result"
    }
   ],
   "source": [
    "result = di.fromkeys([\"One\",\"Two\",\"Three\"])\n",
    "result"
   ]
  },
  {
   "cell_type": "code",
   "execution_count": 11,
   "id": "1b18f20e",
   "metadata": {},
   "outputs": [
    {
     "data": {
      "text/plain": [
       "{}"
      ]
     },
     "execution_count": 11,
     "metadata": {},
     "output_type": "execute_result"
    }
   ],
   "source": [
    "di"
   ]
  },
  {
   "cell_type": "code",
   "execution_count": 12,
   "id": "a352645c",
   "metadata": {},
   "outputs": [
    {
     "data": {
      "text/plain": [
       "dict_values([None, None, None])"
      ]
     },
     "execution_count": 12,
     "metadata": {},
     "output_type": "execute_result"
    }
   ],
   "source": [
    "result.values()"
   ]
  },
  {
   "cell_type": "code",
   "execution_count": 13,
   "id": "54095cb8",
   "metadata": {},
   "outputs": [
    {
     "data": {
      "text/plain": [
       "dict_keys(['One', 'Two', 'Three'])"
      ]
     },
     "execution_count": 13,
     "metadata": {},
     "output_type": "execute_result"
    }
   ],
   "source": [
    "result.keys()"
   ]
  },
  {
   "cell_type": "code",
   "execution_count": 14,
   "id": "8291b776",
   "metadata": {},
   "outputs": [
    {
     "data": {
      "text/plain": [
       "{'One': [1, 2, 3], 'Two': [1, 2, 3], 'Three': [1, 2, 3]}"
      ]
     },
     "execution_count": 14,
     "metadata": {},
     "output_type": "execute_result"
    }
   ],
   "source": [
    "di.fromkeys(['One', 'Two', 'Three'],[1,2,3])"
   ]
  },
  {
   "cell_type": "code",
   "execution_count": 15,
   "id": "abc4d404",
   "metadata": {},
   "outputs": [
    {
     "data": {
      "text/plain": [
       "{'One': 1, 'Two': 1, 'Three': 1}"
      ]
     },
     "execution_count": 15,
     "metadata": {},
     "output_type": "execute_result"
    }
   ],
   "source": [
    "di.fromkeys(['One', 'Two', 'Three'],1)"
   ]
  },
  {
   "cell_type": "code",
   "execution_count": 17,
   "id": "b9e25f1a",
   "metadata": {},
   "outputs": [
    {
     "data": {
      "text/plain": [
       "{'One': 'Python', 'Two': 'Python', 'Three': 'Python'}"
      ]
     },
     "execution_count": 17,
     "metadata": {},
     "output_type": "execute_result"
    }
   ],
   "source": [
    "di.fromkeys(['One', 'Two', 'Three'],\"Python\")"
   ]
  },
  {
   "cell_type": "code",
   "execution_count": 18,
   "id": "d1963114",
   "metadata": {},
   "outputs": [
    {
     "name": "stdout",
     "output_type": "stream",
     "text": [
      "<class 'NoneType'>\n",
      "<class 'NoneType'>\n",
      "<class 'NoneType'>\n"
     ]
    }
   ],
   "source": [
    "for i in result.values():\n",
    "    print(type(i))"
   ]
  },
  {
   "cell_type": "markdown",
   "id": "2d8c0608",
   "metadata": {},
   "source": [
    "# setdefault()\n",
    "- Return a value with a specified key\n",
    "- If specified key is not present in dictionary ,then it will gets added"
   ]
  },
  {
   "cell_type": "code",
   "execution_count": 19,
   "id": "4090a7b2",
   "metadata": {},
   "outputs": [
    {
     "data": {
      "text/plain": [
       "{'Employee_fname': 'Sanjay',\n",
       " 'Employee_lname': 'Thakur',\n",
       " 'Employee_ID': 10010,\n",
       " 'Employee_Designation': 'Data Analyst',\n",
       " 'Employee_salary': 1500000,\n",
       " 'Employee_Location': 'Pune'}"
      ]
     },
     "execution_count": 19,
     "metadata": {},
     "output_type": "execute_result"
    }
   ],
   "source": [
    "new_di = {\n",
    "    \"Employee_fname\"       : \"Sanjay\",\n",
    "    \"Employee_lname\"       : \"Thakur\",\n",
    "    \"Employee_ID\"          : 10010,\n",
    "    \"Employee_Designation\" : \"Data Analyst\",\n",
    "    \"Employee_salary\"      : 1500000,\n",
    "    \"Employee_Location\"    : \"Pune\"\n",
    "}\n",
    "new_di"
   ]
  },
  {
   "cell_type": "code",
   "execution_count": 20,
   "id": "8a022c57",
   "metadata": {},
   "outputs": [
    {
     "data": {
      "text/plain": [
       "'Pune'"
      ]
     },
     "execution_count": 20,
     "metadata": {},
     "output_type": "execute_result"
    }
   ],
   "source": [
    "new_di.setdefault(\"Employee_Location\")"
   ]
  },
  {
   "cell_type": "code",
   "execution_count": 21,
   "id": "ca745585",
   "metadata": {},
   "outputs": [],
   "source": [
    "new_di.setdefault(\"Employee_Location1\")"
   ]
  },
  {
   "cell_type": "code",
   "execution_count": 22,
   "id": "908d4438",
   "metadata": {},
   "outputs": [
    {
     "data": {
      "text/plain": [
       "{'Employee_fname': 'Sanjay',\n",
       " 'Employee_lname': 'Thakur',\n",
       " 'Employee_ID': 10010,\n",
       " 'Employee_Designation': 'Data Analyst',\n",
       " 'Employee_salary': 1500000,\n",
       " 'Employee_Location': 'Pune',\n",
       " 'Employee_Location1': None}"
      ]
     },
     "execution_count": 22,
     "metadata": {},
     "output_type": "execute_result"
    }
   ],
   "source": [
    "new_di"
   ]
  },
  {
   "cell_type": "code",
   "execution_count": 24,
   "id": "4c11af1b",
   "metadata": {},
   "outputs": [
    {
     "data": {
      "text/plain": [
       "'Mumbai'"
      ]
     },
     "execution_count": 24,
     "metadata": {},
     "output_type": "execute_result"
    }
   ],
   "source": [
    "new_di.setdefault(\"Employee_Location2\", \"Mumbai\")"
   ]
  },
  {
   "cell_type": "code",
   "execution_count": 25,
   "id": "61969c72",
   "metadata": {},
   "outputs": [
    {
     "data": {
      "text/plain": [
       "{'Employee_fname': 'Sanjay',\n",
       " 'Employee_lname': 'Thakur',\n",
       " 'Employee_ID': 10010,\n",
       " 'Employee_Designation': 'Data Analyst',\n",
       " 'Employee_salary': 1500000,\n",
       " 'Employee_Location': 'Pune',\n",
       " 'Employee_Location1': None,\n",
       " 'Employee_Location2': 'Mumbai'}"
      ]
     },
     "execution_count": 25,
     "metadata": {},
     "output_type": "execute_result"
    }
   ],
   "source": [
    "new_di"
   ]
  },
  {
   "cell_type": "code",
   "execution_count": 26,
   "id": "c4179eab",
   "metadata": {},
   "outputs": [
    {
     "data": {
      "text/plain": [
       "10010"
      ]
     },
     "execution_count": 26,
     "metadata": {},
     "output_type": "execute_result"
    }
   ],
   "source": [
    "new_di.setdefault(\"Employee_ID\",10011)"
   ]
  },
  {
   "cell_type": "code",
   "execution_count": 28,
   "id": "3d8b7594",
   "metadata": {},
   "outputs": [],
   "source": [
    "new_di.setdefault(\"Employee_ID_vendor\")"
   ]
  },
  {
   "cell_type": "code",
   "execution_count": 29,
   "id": "e4dd3d6f",
   "metadata": {},
   "outputs": [
    {
     "data": {
      "text/plain": [
       "{'Employee_fname': 'Sanjay',\n",
       " 'Employee_lname': 'Thakur',\n",
       " 'Employee_ID': 10010,\n",
       " 'Employee_Designation': 'Data Analyst',\n",
       " 'Employee_salary': 1500000,\n",
       " 'Employee_Location': 'Pune',\n",
       " 'Employee_Location1': None,\n",
       " 'Employee_Location2': 'Mumbai',\n",
       " 'Employee_vendor': None,\n",
       " 'Employee_ID_vendor': None}"
      ]
     },
     "execution_count": 29,
     "metadata": {},
     "output_type": "execute_result"
    }
   ],
   "source": [
    "new_di"
   ]
  },
  {
   "cell_type": "code",
   "execution_count": 32,
   "id": "64273cce",
   "metadata": {},
   "outputs": [
    {
     "data": {
      "text/plain": [
       "{'Employee_fname': 'Sanjay',\n",
       " 'Employee_lname': 'Thakur',\n",
       " 'Employee_ID': 10010,\n",
       " 'Employee_Designation': 'Data Analyst',\n",
       " 'Employee_salary': 1500000,\n",
       " 'Employee_Location': 'Pune',\n",
       " 'Employee_Location1': None,\n",
       " 'Employee_Location2': 'Mumbai',\n",
       " 'Employee_ID_vendor': None}"
      ]
     },
     "execution_count": 32,
     "metadata": {},
     "output_type": "execute_result"
    }
   ],
   "source": [
    "new_di"
   ]
  },
  {
   "cell_type": "code",
   "execution_count": 35,
   "id": "22ff01f8",
   "metadata": {},
   "outputs": [
    {
     "data": {
      "text/plain": [
       "11211"
      ]
     },
     "execution_count": 35,
     "metadata": {},
     "output_type": "execute_result"
    }
   ],
   "source": [
    "new_di.setdefault(\"Employee_ID_vendor1\",11211)"
   ]
  },
  {
   "cell_type": "code",
   "execution_count": 36,
   "id": "5fe71754",
   "metadata": {},
   "outputs": [
    {
     "data": {
      "text/plain": [
       "{'Employee_fname': 'Sanjay',\n",
       " 'Employee_lname': 'Thakur',\n",
       " 'Employee_ID': 10010,\n",
       " 'Employee_Designation': 'Data Analyst',\n",
       " 'Employee_salary': 1500000,\n",
       " 'Employee_Location': 'Pune',\n",
       " 'Employee_Location1': None,\n",
       " 'Employee_Location2': 'Mumbai',\n",
       " 'Employee_ID_vendor': None,\n",
       " 'Employee_ID_vendor1': 11211}"
      ]
     },
     "execution_count": 36,
     "metadata": {},
     "output_type": "execute_result"
    }
   ],
   "source": [
    "new_di"
   ]
  },
  {
   "cell_type": "markdown",
   "id": "8b989554",
   "metadata": {},
   "source": [
    "# Copy"
   ]
  },
  {
   "cell_type": "code",
   "execution_count": 37,
   "id": "b7d627b6",
   "metadata": {},
   "outputs": [
    {
     "data": {
      "text/plain": [
       "{'Employee_fname': 'Sanjay',\n",
       " 'Employee_lname': 'Thakur',\n",
       " 'Employee_ID': 10010,\n",
       " 'Employee_Designation': 'Data Analyst',\n",
       " 'Employee_salary': 1500000,\n",
       " 'Employee_Location': 'Pune',\n",
       " 'Employee_Location1': None,\n",
       " 'Employee_Location2': 'Mumbai',\n",
       " 'Employee_ID_vendor': None,\n",
       " 'Employee_ID_vendor1': 11211}"
      ]
     },
     "execution_count": 37,
     "metadata": {},
     "output_type": "execute_result"
    }
   ],
   "source": [
    "new_di"
   ]
  },
  {
   "cell_type": "code",
   "execution_count": 38,
   "id": "eeff28cd",
   "metadata": {},
   "outputs": [
    {
     "data": {
      "text/plain": [
       "{'Employee_fname': 'Sanjay',\n",
       " 'Employee_lname': 'Thakur',\n",
       " 'Employee_ID': 10010,\n",
       " 'Employee_Designation': 'Data Analyst',\n",
       " 'Employee_salary': 1500000,\n",
       " 'Employee_Location': 'Pune',\n",
       " 'Employee_Location1': None,\n",
       " 'Employee_Location2': 'Mumbai',\n",
       " 'Employee_ID_vendor': None,\n",
       " 'Employee_ID_vendor1': 11211,\n",
       " 'XYZ': 100}"
      ]
     },
     "execution_count": 38,
     "metadata": {},
     "output_type": "execute_result"
    }
   ],
   "source": [
    "new_di1 = new_di\n",
    "new_di1[\"XYZ\"] = 100\n",
    "new_di"
   ]
  },
  {
   "cell_type": "code",
   "execution_count": 39,
   "id": "cfe3d0d0",
   "metadata": {},
   "outputs": [
    {
     "data": {
      "text/plain": [
       "{'Employee_fname': 'Sanjay',\n",
       " 'Employee_lname': 'Thakur',\n",
       " 'Employee_ID': 10010,\n",
       " 'Employee_Designation': 'Data Analyst',\n",
       " 'Employee_salary': 1500000,\n",
       " 'Employee_Location': 'Pune',\n",
       " 'Employee_Location1': None,\n",
       " 'Employee_Location2': 'Mumbai',\n",
       " 'Employee_ID_vendor': None,\n",
       " 'Employee_ID_vendor1': 11211}"
      ]
     },
     "execution_count": 39,
     "metadata": {},
     "output_type": "execute_result"
    }
   ],
   "source": [
    "new_di = {\n",
    "    'Employee_fname': 'Sanjay',\n",
    "    'Employee_lname': 'Thakur',\n",
    "    'Employee_ID': 10010,\n",
    "    'Employee_Designation': 'Data Analyst',\n",
    "    'Employee_salary': 1500000,\n",
    "    'Employee_Location': 'Pune',\n",
    "    'Employee_Location1': None,\n",
    "    'Employee_Location2': 'Mumbai',\n",
    "    'Employee_ID_vendor': None,\n",
    "    'Employee_ID_vendor1': 11211\n",
    "}\n",
    "new_di2 = new_di.copy()\n",
    "new_di2[\"XYZ\"] = 100\n",
    "new_di"
   ]
  }
 ],
 "metadata": {
  "kernelspec": {
   "display_name": "Python 3 (ipykernel)",
   "language": "python",
   "name": "python3"
  },
  "language_info": {
   "codemirror_mode": {
    "name": "ipython",
    "version": 3
   },
   "file_extension": ".py",
   "mimetype": "text/x-python",
   "name": "python",
   "nbconvert_exporter": "python",
   "pygments_lexer": "ipython3",
   "version": "3.12.4"
  }
 },
 "nbformat": 4,
 "nbformat_minor": 5
}
