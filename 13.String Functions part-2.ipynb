{
 "cells": [
  {
   "cell_type": "markdown",
   "id": "0c405689",
   "metadata": {},
   "source": [
    "# String function\n"
   ]
  },
  {
   "cell_type": "raw",
   "id": "b3808717",
   "metadata": {},
   "source": [
    "if condition:\n",
    "    statement -1\n",
    "    statement -2\n",
    "    statement -3\n",
    "    statement -4\n",
    "         .\n",
    "    statement -n\n",
    "else condition:\n",
    "    statement -1\n",
    "    statement -2\n",
    "    statement -3\n",
    "    statement -4\n",
    "         .\n",
    "    statement -5"
   ]
  },
  {
   "cell_type": "code",
   "execution_count": 1,
   "id": "f202b4a4",
   "metadata": {},
   "outputs": [
    {
     "name": "stdout",
     "output_type": "stream",
     "text": [
      "The 100 is equal to 100\n"
     ]
    }
   ],
   "source": [
    "num = 100\n",
    "if num == 100:    #True = statements in if block gets executed\n",
    "    print(f\"The {num} is equal to 100\")\n",
    "else:\n",
    "    print(f\"The {num} is not equal to 100\")"
   ]
  },
  {
   "cell_type": "code",
   "execution_count": 2,
   "id": "c9586d06",
   "metadata": {},
   "outputs": [
    {
     "name": "stdout",
     "output_type": "stream",
     "text": [
      "The 1000 is not equal to 100\n"
     ]
    }
   ],
   "source": [
    "num = 10000\n",
    "if num == 100:    #False = statements in else block will gets executed\n",
    "    print(f\"The {num} is equal to 100\")\n",
    "else:\n",
    "    print(f\"The {num} is not equal to 100\")"
   ]
  },
  {
   "cell_type": "code",
   "execution_count": 6,
   "id": "1b86cb88",
   "metadata": {},
   "outputs": [
    {
     "name": "stdout",
     "output_type": "stream",
     "text": [
      "10 is lesser than 20\n"
     ]
    }
   ],
   "source": [
    "a = 10\n",
    "b = 20\n",
    "if a > b:\n",
    "    print(f\"{a} is greater than {b}\")\n",
    "else:\n",
    "    print(f\"{a} is lesser than {b}\")\n",
    "    "
   ]
  },
  {
   "cell_type": "code",
   "execution_count": 7,
   "id": "98bd26b6",
   "metadata": {},
   "outputs": [
    {
     "name": "stdout",
     "output_type": "stream",
     "text": [
      "100 is greater than 20\n"
     ]
    }
   ],
   "source": [
    "a = 100\n",
    "b = 20\n",
    "if a > b:\n",
    "    print(f\"{a} is greater than {b}\")\n",
    "else:\n",
    "    print(f\"{a} is lesser than {b}\")\n",
    "    "
   ]
  },
  {
   "cell_type": "code",
   "execution_count": 8,
   "id": "4114fa64",
   "metadata": {},
   "outputs": [
    {
     "name": "stdout",
     "output_type": "stream",
     "text": [
      "Python and python are not same\n"
     ]
    }
   ],
   "source": [
    "str1 = \"Python\"\n",
    "str2 = \"python\"\n",
    "if str1 == str2:\n",
    "    print(f\"{str1} and {str2} are same\")\n",
    "else:\n",
    "    print(f\"{str1} and {str2} are not same\")"
   ]
  },
  {
   "cell_type": "code",
   "execution_count": 12,
   "id": "34016bdd",
   "metadata": {},
   "outputs": [
    {
     "name": "stdout",
     "output_type": "stream",
     "text": [
      "Python and Python are same\n"
     ]
    }
   ],
   "source": [
    "str1 = \"Python\"\n",
    "str2 = \"python\"\n",
    "str2 = str2.capitalize()\n",
    "if str1 == str2:\n",
    "    print(f\"{str1} and {str2} are same\")\n",
    "else:\n",
    "    print(f\"{str1} and {str2} are not same\")"
   ]
  },
  {
   "cell_type": "code",
   "execution_count": 13,
   "id": "0e719cac",
   "metadata": {},
   "outputs": [
    {
     "name": "stdout",
     "output_type": "stream",
     "text": [
      "python and python are same\n"
     ]
    }
   ],
   "source": [
    "str1 = \"Python\"\n",
    "str2 = \"python\"\n",
    "str1 = str1.lower()\n",
    "str2 = str2.lower()\n",
    "if str1 == str2:\n",
    "    print(f\"{str1} and {str2} are same\")\n",
    "else:\n",
    "    print(f\"{str1} and {str2} are not same\")"
   ]
  },
  {
   "cell_type": "code",
   "execution_count": 15,
   "id": "fc7e5e19",
   "metadata": {},
   "outputs": [
    {
     "name": "stdout",
     "output_type": "stream",
     "text": [
      "Both names are different\n"
     ]
    }
   ],
   "source": [
    "adhar_name = \"Samantha Prabhu\"\n",
    "pan_name = \"SAMANTHA PRBHU\"\n",
    "if adhar_name == pan_name:\n",
    "    print(f\"Both names are same\")\n",
    "else:\n",
    "    print(f\"Both names are different\")\n"
   ]
  },
  {
   "cell_type": "code",
   "execution_count": 19,
   "id": "1fa180ef",
   "metadata": {},
   "outputs": [
    {
     "name": "stdout",
     "output_type": "stream",
     "text": [
      "Both names are same\n"
     ]
    }
   ],
   "source": [
    "adhar_name = \"Samantha Prabhu\"\n",
    "pan_name = \"SAMANTHA PRABHU\"\n",
    "adhar_name = adhar_name.upper()\n",
    "if adhar_name == pan_name:\n",
    "    print(f\"Both names are same\")\n",
    "else:\n",
    "    print(f\"Both names are different\")\n"
   ]
  },
  {
   "cell_type": "code",
   "execution_count": 25,
   "id": "da39b440",
   "metadata": {},
   "outputs": [
    {
     "name": "stdout",
     "output_type": "stream",
     "text": [
      "Adhar name = samantha prabhu\n",
      "Pan name = samantha prabhu\n",
      "****************************************\n",
      "Both names are same\n"
     ]
    }
   ],
   "source": [
    "adhar_name = \"Samantha Prabhu\"\n",
    "pan_name = \"SAMANTHA PRABHU\"\n",
    "adhar_name = adhar_name.lower()\n",
    "pan_name  = pan_name.lower()\n",
    "print(f\"Adhar name = {adhar_name}\")\n",
    "print(f\"Pan name = {pan_name}\")\n",
    "print(\"*\"*40)\n",
    "if adhar_name == pan_name:\n",
    "    print(f\"Both names are same\")\n",
    "else:\n",
    "    print(f\"Both names are different\")\n"
   ]
  },
  {
   "cell_type": "code",
   "execution_count": 20,
   "id": "f26ced74",
   "metadata": {},
   "outputs": [
    {
     "name": "stdout",
     "output_type": "stream",
     "text": [
      "Both names are same\n"
     ]
    }
   ],
   "source": [
    "adhar_name = \"Samantha Prabhu\"\n",
    "pan_name = \"SAMANTHA PRABHU\"\n",
    "adhar_name = adhar_name.lower()\n",
    "pan_name  = pan_name.lower()\n",
    "if adhar_name == pan_name:\n",
    "    print(f\"Both names are same\")\n",
    "else:\n",
    "    print(f\"Both names are different\")\n"
   ]
  },
  {
   "cell_type": "markdown",
   "id": "5792fbf5",
   "metadata": {},
   "source": [
    "## 5. lstrip()\n",
    "- removes all leading whitespaces"
   ]
  },
  {
   "cell_type": "code",
   "execution_count": 31,
   "id": "5b13a9b8",
   "metadata": {},
   "outputs": [
    {
     "name": "stdout",
     "output_type": "stream",
     "text": [
      "Adhar name =        Samantha Prabhu\n",
      "Pan name = SAMANTHA PRABHU\n",
      "**************************************************\n",
      "Adhar name = samantha prabhu\n",
      "Pan name = samantha prabhu\n",
      "**************************************************\n",
      "Both names are same\n"
     ]
    }
   ],
   "source": [
    "adhar_name = \"       Samantha Prabhu\"\n",
    "pan_name = \"SAMANTHA PRABHU\"\n",
    "\n",
    "print(f\"Adhar name = {adhar_name}\")\n",
    "print(f\"Pan name = {pan_name}\")\n",
    "print(\"*\"*50)\n",
    "\n",
    "adhar_name = adhar_name.lower()\n",
    "pan_name = pan_name.lower()\n",
    "\n",
    "adhar_name = adhar_name.lstrip()     # lstrip removed all spaces\n",
    "\n",
    "print(f\"Adhar name = {adhar_name}\")\n",
    "print(f\"Pan name = {pan_name}\")\n",
    "print(\"*\"*50)\n",
    "if adhar_name == pan_name:\n",
    "    print(f\"Both names are same\")\n",
    "else:\n",
    "    print(f\"Both names are different\")\n"
   ]
  },
  {
   "cell_type": "code",
   "execution_count": 34,
   "id": "3fd05752",
   "metadata": {},
   "outputs": [
    {
     "name": "stdout",
     "output_type": "stream",
     "text": [
      "7\n"
     ]
    },
    {
     "data": {
      "text/plain": [
       "0"
      ]
     },
     "execution_count": 34,
     "metadata": {},
     "output_type": "execute_result"
    }
   ],
   "source": [
    "print(len(\"       \"))\n",
    "len(\"          \".lstrip())     #>>>lstrip doesnt count spaces"
   ]
  },
  {
   "cell_type": "code",
   "execution_count": 35,
   "id": "9076643c",
   "metadata": {},
   "outputs": [
    {
     "data": {
      "text/plain": [
       "'Python'"
      ]
     },
     "execution_count": 35,
     "metadata": {},
     "output_type": "execute_result"
    }
   ],
   "source": [
    "\"      Python\".lstrip()"
   ]
  },
  {
   "cell_type": "code",
   "execution_count": 36,
   "id": "8ff33dc4",
   "metadata": {},
   "outputs": [
    {
     "data": {
      "text/plain": [
       "'Python     '"
      ]
     },
     "execution_count": 36,
     "metadata": {},
     "output_type": "execute_result"
    }
   ],
   "source": [
    "\"     Python     \".lstrip()"
   ]
  },
  {
   "cell_type": "markdown",
   "id": "f47a72e5",
   "metadata": {},
   "source": [
    "## 6.rstrip()\n",
    "- removes all trailing whitespaces in string"
   ]
  },
  {
   "cell_type": "code",
   "execution_count": 38,
   "id": "8756bb95",
   "metadata": {},
   "outputs": [
    {
     "name": "stdout",
     "output_type": "stream",
     "text": [
      "Both names are same\n"
     ]
    }
   ],
   "source": [
    "adhar_name = \"Samantha Prabhu\"\n",
    "pan_name = \"SAMANTHA PRABHU          \"\n",
    "adhar_name = adhar_name.lower()\n",
    "pan_name  = pan_name.lower()\n",
    "\n",
    "pan_name = pan_name.rstrip()\n",
    "\n",
    "if adhar_name == pan_name:\n",
    "    print(f\"Both names are same\")\n",
    "else:\n",
    "    print(f\"Both names are different\")\n"
   ]
  },
  {
   "cell_type": "code",
   "execution_count": 39,
   "id": "25985ce8",
   "metadata": {},
   "outputs": [
    {
     "data": {
      "text/plain": [
       "'python'"
      ]
     },
     "execution_count": 39,
     "metadata": {},
     "output_type": "execute_result"
    }
   ],
   "source": [
    "\"python\""
   ]
  },
  {
   "cell_type": "code",
   "execution_count": 40,
   "id": "f6f828e5",
   "metadata": {},
   "outputs": [
    {
     "data": {
      "text/plain": [
       "'python'"
      ]
     },
     "execution_count": 40,
     "metadata": {},
     "output_type": "execute_result"
    }
   ],
   "source": [
    "\"python         \".rstrip()"
   ]
  },
  {
   "cell_type": "code",
   "execution_count": 41,
   "id": "1a2dc798",
   "metadata": {},
   "outputs": [
    {
     "data": {
      "text/plain": [
       "'     pyhton'"
      ]
     },
     "execution_count": 41,
     "metadata": {},
     "output_type": "execute_result"
    }
   ],
   "source": [
    "\"     pyhton       \".rstrip()"
   ]
  },
  {
   "cell_type": "code",
   "execution_count": 44,
   "id": "8c59e330",
   "metadata": {},
   "outputs": [
    {
     "data": {
      "text/plain": [
       "'pyhton'"
      ]
     },
     "execution_count": 44,
     "metadata": {},
     "output_type": "execute_result"
    }
   ],
   "source": [
    "\"     pyhton       \".lstrip().rstrip()"
   ]
  },
  {
   "cell_type": "markdown",
   "id": "b3100182",
   "metadata": {},
   "source": [
    "## 7. strip()\n",
    "- Removes leading as well as trailing whitespaces"
   ]
  },
  {
   "cell_type": "code",
   "execution_count": 1,
   "id": "76e7704f",
   "metadata": {},
   "outputs": [
    {
     "data": {
      "text/plain": [
       "'Python'"
      ]
     },
     "execution_count": 1,
     "metadata": {},
     "output_type": "execute_result"
    }
   ],
   "source": [
    "\"     Python     \".strip()"
   ]
  },
  {
   "cell_type": "code",
   "execution_count": 3,
   "id": "1ea49c1a",
   "metadata": {},
   "outputs": [
    {
     "name": "stdout",
     "output_type": "stream",
     "text": [
      "Both names are same\n"
     ]
    }
   ],
   "source": [
    "adhar_name = \"       Samantha Prabhu \"\n",
    "pan_name = \"   SAMANTHA PRABHU          \"\n",
    "adhar_name = adhar_name.lower()\n",
    "pan_name  = pan_name.lower()\n",
    "\n",
    "adhar_name = adhar_name.strip()\n",
    "pan_name = pan_name.strip()\n",
    "\n",
    "if adhar_name == pan_name:\n",
    "    print(f\"Both names are same\")\n",
    "else:\n",
    "    print(f\"Both names are different\")\n"
   ]
  },
  {
   "cell_type": "code",
   "execution_count": 4,
   "id": "03909e42",
   "metadata": {},
   "outputs": [
    {
     "data": {
      "text/plain": [
       "False"
      ]
     },
     "execution_count": 4,
     "metadata": {},
     "output_type": "execute_result"
    }
   ],
   "source": [
    "\" \" == \"   \""
   ]
  },
  {
   "cell_type": "code",
   "execution_count": 5,
   "id": "21095ce8",
   "metadata": {},
   "outputs": [
    {
     "data": {
      "text/plain": [
       "True"
      ]
     },
     "execution_count": 5,
     "metadata": {},
     "output_type": "execute_result"
    }
   ],
   "source": [
    "\" \" == \" \""
   ]
  },
  {
   "cell_type": "code",
   "execution_count": 7,
   "id": "c5c9f8fe",
   "metadata": {},
   "outputs": [
    {
     "data": {
      "text/plain": [
       "True"
      ]
     },
     "execution_count": 7,
     "metadata": {},
     "output_type": "execute_result"
    }
   ],
   "source": [
    "\"Python  \".strip() == \"Python\""
   ]
  },
  {
   "cell_type": "code",
   "execution_count": 8,
   "id": "c8f05e11",
   "metadata": {},
   "outputs": [
    {
     "data": {
      "text/plain": [
       "[1, 10, 3]"
      ]
     },
     "execution_count": 8,
     "metadata": {},
     "output_type": "execute_result"
    }
   ],
   "source": [
    "li = [1,2,3]\n",
    "li[1] = 10\n",
    "li"
   ]
  },
  {
   "cell_type": "markdown",
   "id": "337d49ab",
   "metadata": {},
   "source": [
    "## 8. swapcase\n",
    "- It invert case of all char\n",
    "- lower case = UPPER CASE\n",
    "- UPPER CASE = lower case"
   ]
  },
  {
   "cell_type": "code",
   "execution_count": 9,
   "id": "f27f7ddb",
   "metadata": {},
   "outputs": [
    {
     "data": {
      "text/plain": [
       "'Machine Learning'"
      ]
     },
     "execution_count": 9,
     "metadata": {},
     "output_type": "execute_result"
    }
   ],
   "source": [
    "str1 = \"Machine Learning\"\n",
    "str1"
   ]
  },
  {
   "cell_type": "code",
   "execution_count": 11,
   "id": "3bb8b62c",
   "metadata": {},
   "outputs": [
    {
     "data": {
      "text/plain": [
       "'mACHINE lEARNING'"
      ]
     },
     "execution_count": 11,
     "metadata": {},
     "output_type": "execute_result"
    }
   ],
   "source": [
    "str1.swapcase()"
   ]
  },
  {
   "cell_type": "code",
   "execution_count": 14,
   "id": "91d4bebd",
   "metadata": {},
   "outputs": [
    {
     "data": {
      "text/plain": [
       "'Machine Learning'"
      ]
     },
     "execution_count": 14,
     "metadata": {},
     "output_type": "execute_result"
    }
   ],
   "source": [
    "str2 = \"mACHINE lEARNING\"\n",
    "str2.swapcase()"
   ]
  },
  {
   "cell_type": "code",
   "execution_count": 15,
   "id": "2b4c600a",
   "metadata": {},
   "outputs": [
    {
     "data": {
      "text/plain": [
       "'pYTHON'"
      ]
     },
     "execution_count": 15,
     "metadata": {},
     "output_type": "execute_result"
    }
   ],
   "source": [
    "A = \"Python\"\n",
    "A.swapcase()"
   ]
  },
  {
   "cell_type": "code",
   "execution_count": 16,
   "id": "83b180fe",
   "metadata": {},
   "outputs": [
    {
     "data": {
      "text/plain": [
       "'Python'"
      ]
     },
     "execution_count": 16,
     "metadata": {},
     "output_type": "execute_result"
    }
   ],
   "source": [
    "a = \"pYTHON\"\n",
    "a.swapcase()"
   ]
  },
  {
   "cell_type": "markdown",
   "id": "ca58676f",
   "metadata": {},
   "source": [
    "## 9.replace()\n",
    "- It is used to replace old_str by new_str\n",
    "- syntax\n",
    "    - string.replace(old_str,new_str,[count]\n",
    "    - count is optional"
   ]
  },
  {
   "cell_type": "code",
   "execution_count": 3,
   "id": "20998e59",
   "metadata": {},
   "outputs": [
    {
     "data": {
      "text/plain": [
       "'We are learning Machine Learning and Data Science'"
      ]
     },
     "execution_count": 3,
     "metadata": {},
     "output_type": "execute_result"
    }
   ],
   "source": [
    "str1 = \"We are learning Python and Data Science\"\n",
    "str1.replace(\"Python\",\"Machine Learning\")"
   ]
  },
  {
   "cell_type": "code",
   "execution_count": 21,
   "id": "73508ab9",
   "metadata": {},
   "outputs": [
    {
     "data": {
      "text/plain": [
       "'We are learning Python and Deep Learning'"
      ]
     },
     "execution_count": 21,
     "metadata": {},
     "output_type": "execute_result"
    }
   ],
   "source": [
    "str1 = \"We are learning Python and Data Science\"\n",
    "str1.replace(\"Data Science\",\"Deep Learning\")"
   ]
  },
  {
   "cell_type": "code",
   "execution_count": 22,
   "id": "827648cc",
   "metadata": {},
   "outputs": [
    {
     "data": {
      "text/plain": [
       "'We are learning Python & Data Science'"
      ]
     },
     "execution_count": 22,
     "metadata": {},
     "output_type": "execute_result"
    }
   ],
   "source": [
    "str1 = \"We are learning Python and Data Science\"\n",
    "str1.replace(\"and\",\"&\")"
   ]
  },
  {
   "cell_type": "code",
   "execution_count": 23,
   "id": "0ddfd755",
   "metadata": {},
   "outputs": [
    {
     "data": {
      "text/plain": [
       "'PYTHON PYTHON PYTHON PYTHON'"
      ]
     },
     "execution_count": 23,
     "metadata": {},
     "output_type": "execute_result"
    }
   ],
   "source": [
    "str1 = \"Python Python Python Python\"\n",
    "str1.replace(\"ython\",\"YTHON\")"
   ]
  },
  {
   "cell_type": "code",
   "execution_count": 25,
   "id": "c9084b82",
   "metadata": {},
   "outputs": [
    {
     "name": "stdout",
     "output_type": "stream",
     "text": [
      "enter your name Mohit\n"
     ]
    }
   ],
   "source": [
    "input_str = input(\"enter your name \")"
   ]
  },
  {
   "cell_type": "code",
   "execution_count": 27,
   "id": "af6d23c7",
   "metadata": {},
   "outputs": [
    {
     "data": {
      "text/plain": [
       "'Data------science------is------an------interdisciplinary------field------that------uses------scientific------methods,------processes,------\\nalgorithms------and------systems------to------extract------knowledge'"
      ]
     },
     "execution_count": 27,
     "metadata": {},
     "output_type": "execute_result"
    }
   ],
   "source": [
    "a = \"\"\"Data science is an interdisciplinary field that uses scientific methods, processes, \n",
    "algorithms and systems to extract knowledge\"\"\"\n",
    "a.replace(\" \",\"------\")"
   ]
  },
  {
   "cell_type": "code",
   "execution_count": 28,
   "id": "3ab332eb",
   "metadata": {},
   "outputs": [
    {
     "name": "stdout",
     "output_type": "stream",
     "text": [
      "Adhar Name =            Samantha Prabhu      \n",
      "Pan Name   =      SAMANTHA         PRABHU     \n",
      "**************************************************\n",
      "Adhar Name = samanthaprabhu\n",
      "Pan Name   = samanthaprabhu\n",
      "**************************************************\n",
      "Both names are same\n"
     ]
    }
   ],
   "source": [
    "adhar_name = \"           Samantha Prabhu      \"\n",
    "pan_name = \"     SAMANTHA         PRABHU     \"\n",
    "\n",
    "print(f\"Adhar Name = {adhar_name}\")\n",
    "print(f\"Pan Name   = {pan_name}\")\n",
    "print(f\"*\"*50)\n",
    "\n",
    "adhar_name = adhar_name.lower().strip().replace(\" \",\"\")\n",
    "pan_name  = pan_name.lower().strip().replace(\" \",\"\")\n",
    "\n",
    "print(f\"Adhar Name = {adhar_name}\")\n",
    "print(f\"Pan Name   = {pan_name}\")\n",
    "print(f\"*\"*50)\n",
    "\n",
    "if adhar_name == pan_name:\n",
    "    print(\"Both names are same\")\n",
    "else:\n",
    "    print(\"Both names are not same\")"
   ]
  },
  {
   "cell_type": "code",
   "execution_count": 31,
   "id": "99bef4e6",
   "metadata": {},
   "outputs": [
    {
     "data": {
      "text/plain": [
       "'QQQQQpppppppppppp'"
      ]
     },
     "execution_count": 31,
     "metadata": {},
     "output_type": "execute_result"
    }
   ],
   "source": [
    "a = \"ppppppppppppppppp\"\n",
    "a.replace(\"p\",\"Q\",5)"
   ]
  },
  {
   "cell_type": "code",
   "execution_count": 32,
   "id": "fda1e4b9",
   "metadata": {},
   "outputs": [
    {
     "data": {
      "text/plain": [
       "'Java Java Python Python'"
      ]
     },
     "execution_count": 32,
     "metadata": {},
     "output_type": "execute_result"
    }
   ],
   "source": [
    "b = \"Python Python Python Python\"\n",
    "b.replace(\"Python\",\"Java\",2)"
   ]
  },
  {
   "cell_type": "markdown",
   "id": "63b6f002",
   "metadata": {},
   "source": [
    "## Remove vowels"
   ]
  },
  {
   "cell_type": "code",
   "execution_count": 33,
   "id": "f8ce94a5",
   "metadata": {},
   "outputs": [
    {
     "data": {
      "text/plain": [
       "'Pyth*n *nd D*t* sc**nc*. W* *r* l**rn*ng Pyth*n. Pyth*n *s v*ry **sy l*ng**g*'"
      ]
     },
     "execution_count": 33,
     "metadata": {},
     "output_type": "execute_result"
    }
   ],
   "source": [
    "str1 = \"Python and Data science. We are learning Python. Python is very easy language\"\n",
    "str1.replace(\"a\",\"*\").replace(\"e\",\"*\").replace(\"i\",\"*\").replace(\"o\",\"*\").replace(\"u\",\"*\")"
   ]
  },
  {
   "cell_type": "code",
   "execution_count": 36,
   "id": "882a4f0c",
   "metadata": {},
   "outputs": [
    {
     "data": {
      "text/plain": [
       "3"
      ]
     },
     "execution_count": 36,
     "metadata": {},
     "output_type": "execute_result"
    }
   ],
   "source": [
    "str1.count(\"P\")"
   ]
  },
  {
   "cell_type": "code",
   "execution_count": 4,
   "id": "386de72e",
   "metadata": {},
   "outputs": [
    {
     "data": {
      "text/plain": [
       "'pythn nd dt scnc, w r lrnng pythn, pythn s sy lngg'"
      ]
     },
     "execution_count": 4,
     "metadata": {},
     "output_type": "execute_result"
    }
   ],
   "source": [
    "str1 = \"Python and data science, we are learning Python, Python is easy language\".lower()\n",
    "vowels = \"aeiou\"\n",
    "new = \"\"\n",
    "for char in str1:\n",
    "    if char not in vowels:\n",
    "        new += char\n",
    "new"
   ]
  }
 ],
 "metadata": {
  "kernelspec": {
   "display_name": "Python 3 (ipykernel)",
   "language": "python",
   "name": "python3"
  },
  "language_info": {
   "codemirror_mode": {
    "name": "ipython",
    "version": 3
   },
   "file_extension": ".py",
   "mimetype": "text/x-python",
   "name": "python",
   "nbconvert_exporter": "python",
   "pygments_lexer": "ipython3",
   "version": "3.12.4"
  }
 },
 "nbformat": 4,
 "nbformat_minor": 5
}
