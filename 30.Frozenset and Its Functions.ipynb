{
 "cells": [
  {
   "cell_type": "markdown",
   "id": "384400a7",
   "metadata": {},
   "source": [
    "# Set data type\n",
    "- 1.Unordered\n",
    "- 2.Mutable\n",
    "- 3.Duplicates are not allowed"
   ]
  },
  {
   "cell_type": "markdown",
   "id": "4bc26f46",
   "metadata": {},
   "source": [
    "# Frozenset\n",
    "- 1.Unordered\n",
    "- 2.Immutable\n",
    "- 3.Duplicates are not allowed"
   ]
  },
  {
   "cell_type": "markdown",
   "id": "770b3381",
   "metadata": {},
   "source": [
    "# Frozenset Functions\n",
    "- 1.union()\n",
    "- 2.intersection()\n",
    "- 3.difference()\n",
    "- 4.symmetric_difference()\n",
    "- 5.issubset()\n",
    "- 6.issuperset()\n",
    "- 7.isdisjoint()"
   ]
  },
  {
   "cell_type": "code",
   "execution_count": 1,
   "id": "97d49756",
   "metadata": {},
   "outputs": [],
   "source": [
    "#Defining a set\n",
    "set1 = {1,2,3}\n",
    "set2 = set()"
   ]
  },
  {
   "cell_type": "code",
   "execution_count": 2,
   "id": "e2637641",
   "metadata": {},
   "outputs": [
    {
     "data": {
      "text/plain": [
       "frozenset({1, 2, 3, 4, 5})"
      ]
     },
     "execution_count": 2,
     "metadata": {},
     "output_type": "execute_result"
    }
   ],
   "source": [
    "# Defining frozenset\n",
    "frozenset1 = frozenset({1,2,3,4,5})\n",
    "frozenset1"
   ]
  },
  {
   "cell_type": "code",
   "execution_count": 3,
   "id": "9717c631",
   "metadata": {},
   "outputs": [
    {
     "data": {
      "text/plain": [
       "frozenset"
      ]
     },
     "execution_count": 3,
     "metadata": {},
     "output_type": "execute_result"
    }
   ],
   "source": [
    "type(frozenset1)"
   ]
  },
  {
   "cell_type": "code",
   "execution_count": 4,
   "id": "99da42a9",
   "metadata": {},
   "outputs": [
    {
     "data": {
      "text/plain": [
       "{1, 2, 3, 4, 5, 6, 7}"
      ]
     },
     "execution_count": 4,
     "metadata": {},
     "output_type": "execute_result"
    }
   ],
   "source": [
    "set1 = {1,2,3,4,5}\n",
    "set2 = {3,4,5,6,7}\n",
    "set1.union(set2)"
   ]
  },
  {
   "cell_type": "code",
   "execution_count": 5,
   "id": "9df0421a",
   "metadata": {},
   "outputs": [
    {
     "data": {
      "text/plain": [
       "frozenset({1, 2, 3, 4, 5, 6, 7})"
      ]
     },
     "execution_count": 5,
     "metadata": {},
     "output_type": "execute_result"
    }
   ],
   "source": [
    "fset1 = frozenset({1,2,3,4,5})\n",
    "fset2 = frozenset({3,4,5,6,7})\n",
    "fset1.union(fset2)\n"
   ]
  },
  {
   "cell_type": "code",
   "execution_count": 6,
   "id": "35213133",
   "metadata": {},
   "outputs": [
    {
     "name": "stdout",
     "output_type": "stream",
     "text": [
      "Set1 = frozenset({'Mumbai', 'Delhi', 'Pune'})\n",
      "Set2 = frozenset({'Delhi', 'Chennai', 'Mumbai'})\n",
      "Set3 = frozenset({'Mumbai', 'Delhi', 'Pune', 'Chennai'})\n"
     ]
    }
   ],
   "source": [
    "fset1 = frozenset({\"Pune\",\"Mumbai\",\"Delhi\"})\n",
    "fset2 = frozenset({\"Mumbai\",\"Delhi\",\"Chennai\"})\n",
    "print(f\"Set1 = {fset1}\")\n",
    "print(f\"Set2 = {fset2}\")\n",
    "fset3 = fset1.union(fset2)\n",
    "print(f\"Set3 = {fset3}\")"
   ]
  },
  {
   "cell_type": "code",
   "execution_count": 7,
   "id": "412f8683",
   "metadata": {},
   "outputs": [
    {
     "name": "stdout",
     "output_type": "stream",
     "text": [
      "Set1 = frozenset({'Delhi', 'Mumbai', 'Pune'})\n",
      "Set2 = frozenset({'Delhi', 'Chennai', 'Mumbai'})\n",
      "Set3 = frozenset({'Mumbai', 'Delhi'})\n"
     ]
    }
   ],
   "source": [
    "fset1 = frozenset({\"Pune\",\"Mumbai\",\"Delhi\"})\n",
    "fset2 = frozenset({\"Mumbai\",\"Delhi\",\"Chennai\"})\n",
    "print(f\"Set1 = {fset1}\")\n",
    "print(f\"Set2 = {fset2}\")\n",
    "fset3 = fset1.intersection(fset2)\n",
    "print(f\"Set3 = {fset3}\")"
   ]
  },
  {
   "cell_type": "code",
   "execution_count": 11,
   "id": "71f096cc",
   "metadata": {},
   "outputs": [
    {
     "name": "stdout",
     "output_type": "stream",
     "text": [
      "Set1 = frozenset({'Delhi', 'Mumbai', 'Pune'})\n",
      "Set2 = frozenset({'Delhi', 'Chennai', 'Mumbai'})\n",
      "Set3 = frozenset({'Chennai'})\n"
     ]
    }
   ],
   "source": [
    "fset1 = frozenset({\"Pune\",\"Mumbai\",\"Delhi\"})\n",
    "fset2 = frozenset({\"Mumbai\",\"Delhi\",\"Chennai\"})\n",
    "print(f\"Set1 = {fset1}\")\n",
    "print(f\"Set2 = {fset2}\")\n",
    "fset3 = fset2.difference(fset1)\n",
    "print(f\"Set3 = {fset3}\")"
   ]
  },
  {
   "cell_type": "code",
   "execution_count": 10,
   "id": "87999a46",
   "metadata": {},
   "outputs": [
    {
     "name": "stdout",
     "output_type": "stream",
     "text": [
      "Set1 = frozenset({'Delhi', 'Mumbai', 'Pune'})\n",
      "Set2 = frozenset({'Delhi', 'Chennai', 'Mumbai'})\n",
      "Set3 = frozenset({'Chennai', 'Pune'})\n"
     ]
    }
   ],
   "source": [
    "fset1 = frozenset({\"Pune\",\"Mumbai\",\"Delhi\"})\n",
    "fset2 = frozenset({\"Mumbai\",\"Delhi\",\"Chennai\"})\n",
    "print(f\"Set1 = {fset1}\")\n",
    "print(f\"Set2 = {fset2}\")\n",
    "fset3 = fset2.symmetric_difference(fset1)\n",
    "print(f\"Set3 = {fset3}\")"
   ]
  },
  {
   "cell_type": "code",
   "execution_count": 13,
   "id": "1dc2c8a5",
   "metadata": {},
   "outputs": [
    {
     "name": "stdout",
     "output_type": "stream",
     "text": [
      "Set1 = frozenset({'Delhi', 'Mumbai', 'Pune'})\n",
      "Set2 = frozenset({'Delhi', 'Mumbai'})\n"
     ]
    },
    {
     "data": {
      "text/plain": [
       "False"
      ]
     },
     "execution_count": 13,
     "metadata": {},
     "output_type": "execute_result"
    }
   ],
   "source": [
    "fset1 = frozenset({\"Pune\",\"Mumbai\",\"Delhi\"})\n",
    "fset2 = frozenset({\"Mumbai\",\"Delhi\"})\n",
    "print(f\"Set1 = {fset1}\")\n",
    "print(f\"Set2 = {fset2}\")\n",
    "fset1.issubset(fset2)\n"
   ]
  },
  {
   "cell_type": "code",
   "execution_count": 14,
   "id": "8a175249",
   "metadata": {},
   "outputs": [
    {
     "name": "stdout",
     "output_type": "stream",
     "text": [
      "Set1 = frozenset({'Delhi', 'Mumbai', 'Pune'})\n",
      "Set2 = frozenset({'Delhi', 'Mumbai'})\n"
     ]
    },
    {
     "data": {
      "text/plain": [
       "True"
      ]
     },
     "execution_count": 14,
     "metadata": {},
     "output_type": "execute_result"
    }
   ],
   "source": [
    "fset1 = frozenset({\"Pune\",\"Mumbai\",\"Delhi\"})\n",
    "fset2 = frozenset({\"Mumbai\",\"Delhi\"})\n",
    "print(f\"Set1 = {fset1}\")\n",
    "print(f\"Set2 = {fset2}\")\n",
    "fset2.issubset(fset1)\n"
   ]
  },
  {
   "cell_type": "code",
   "execution_count": 15,
   "id": "ed6cc74d",
   "metadata": {},
   "outputs": [
    {
     "name": "stdout",
     "output_type": "stream",
     "text": [
      "Set1 = frozenset({'Delhi', 'Mumbai', 'Pune'})\n",
      "Set2 = frozenset({'Delhi', 'Mumbai'})\n"
     ]
    },
    {
     "data": {
      "text/plain": [
       "True"
      ]
     },
     "execution_count": 15,
     "metadata": {},
     "output_type": "execute_result"
    }
   ],
   "source": [
    "fset1 = frozenset({\"Pune\",\"Mumbai\",\"Delhi\"})\n",
    "fset2 = frozenset({\"Mumbai\",\"Delhi\"})\n",
    "print(f\"Set1 = {fset1}\")\n",
    "print(f\"Set2 = {fset2}\")\n",
    "fset1.issuperset(fset2)\n"
   ]
  },
  {
   "cell_type": "code",
   "execution_count": 16,
   "id": "e7f7975a",
   "metadata": {},
   "outputs": [
    {
     "name": "stdout",
     "output_type": "stream",
     "text": [
      "Set1 = frozenset({'Delhi', 'Mumbai', 'Pune'})\n",
      "Set2 = frozenset({'Delhi', 'Mumbai'})\n"
     ]
    },
    {
     "data": {
      "text/plain": [
       "False"
      ]
     },
     "execution_count": 16,
     "metadata": {},
     "output_type": "execute_result"
    }
   ],
   "source": [
    "fset1 = frozenset({\"Pune\",\"Mumbai\",\"Delhi\"})\n",
    "fset2 = frozenset({\"Mumbai\",\"Delhi\"})\n",
    "print(f\"Set1 = {fset1}\")\n",
    "print(f\"Set2 = {fset2}\")\n",
    "fset2.issuperset(fset1)\n"
   ]
  },
  {
   "cell_type": "code",
   "execution_count": 17,
   "id": "e3a64cba",
   "metadata": {},
   "outputs": [
    {
     "name": "stdout",
     "output_type": "stream",
     "text": [
      "Set1 = frozenset({'Delhi', 'Mumbai', 'Pune'})\n",
      "Set2 = frozenset({'Delhi', 'Mumbai'})\n"
     ]
    },
    {
     "data": {
      "text/plain": [
       "False"
      ]
     },
     "execution_count": 17,
     "metadata": {},
     "output_type": "execute_result"
    }
   ],
   "source": [
    "fset1 = frozenset({\"Pune\",\"Mumbai\",\"Delhi\"})\n",
    "fset2 = frozenset({\"Mumbai\",\"Delhi\"})\n",
    "print(f\"Set1 = {fset1}\")\n",
    "print(f\"Set2 = {fset2}\")\n",
    "fset1.isdisjoint(fset2)\n"
   ]
  },
  {
   "cell_type": "code",
   "execution_count": 19,
   "id": "2a23071e",
   "metadata": {},
   "outputs": [
    {
     "name": "stdout",
     "output_type": "stream",
     "text": [
      "Set1 = frozenset({'Delhi', 'Mumbai', 'Pune'})\n",
      "Set2 = frozenset({'Banglore', 'Chennai'})\n"
     ]
    },
    {
     "data": {
      "text/plain": [
       "True"
      ]
     },
     "execution_count": 19,
     "metadata": {},
     "output_type": "execute_result"
    }
   ],
   "source": [
    "fset1 = frozenset({\"Pune\",\"Mumbai\",\"Delhi\"})\n",
    "fset2 = frozenset({\"Chennai\",\"Banglore\"})\n",
    "print(f\"Set1 = {fset1}\")\n",
    "print(f\"Set2 = {fset2}\")\n",
    "fset1.isdisjoint(fset2)\n"
   ]
  },
  {
   "cell_type": "code",
   "execution_count": 20,
   "id": "d65e2b08",
   "metadata": {},
   "outputs": [
    {
     "data": {
      "text/plain": [
       "frozenset({1, 2, 3})"
      ]
     },
     "execution_count": 20,
     "metadata": {},
     "output_type": "execute_result"
    }
   ],
   "source": [
    "frozenset([1,2,3])"
   ]
  },
  {
   "cell_type": "code",
   "execution_count": 21,
   "id": "3fbf939b",
   "metadata": {},
   "outputs": [
    {
     "data": {
      "text/plain": [
       "frozenset({1, 2, 3, 4})"
      ]
     },
     "execution_count": 21,
     "metadata": {},
     "output_type": "execute_result"
    }
   ],
   "source": [
    "frozenset((1,2,3,4))"
   ]
  }
 ],
 "metadata": {
  "kernelspec": {
   "display_name": "Python 3 (ipykernel)",
   "language": "python",
   "name": "python3"
  },
  "language_info": {
   "codemirror_mode": {
    "name": "ipython",
    "version": 3
   },
   "file_extension": ".py",
   "mimetype": "text/x-python",
   "name": "python",
   "nbconvert_exporter": "python",
   "pygments_lexer": "ipython3",
   "version": "3.12.4"
  }
 },
 "nbformat": 4,
 "nbformat_minor": 5
}
