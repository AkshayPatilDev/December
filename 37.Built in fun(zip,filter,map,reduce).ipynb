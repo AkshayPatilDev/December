{
 "cells": [
  {
   "cell_type": "markdown",
   "id": "ba65efd5",
   "metadata": {},
   "source": [
    "# Built-in functions\n",
    "- 1.max()\n",
    "- 2.min()\n",
    "- 3.sum()\n",
    "- 4.print()\n",
    "- 5.int()\n",
    "- 6.float()\n",
    "- 7.str()\n",
    "- 8.list()\n",
    "- 9.tuple()\n",
    "- 10.set()\n",
    "- 11.frozenset()\n",
    "- 12.dict()\n",
    "- 13.len()\n",
    "- 14.type()\n",
    "- 15.id()\n",
    "- 16.sorted()\n",
    "- 17.reversed()\n",
    "- 18.bool()\n",
    "- 19.range()\n",
    "- 20.enumerate ()\n",
    "- 21.complex()\n",
    "- 22.chr()\n",
    "- 23.order()\n",
    "- 24.map()\n",
    "- 25.zip()\n",
    "- 26.filter()\n",
    "- 27.reduce()"
   ]
  },
  {
   "cell_type": "markdown",
   "id": "c0dea3f4",
   "metadata": {},
   "source": [
    "## 1.zip()"
   ]
  },
  {
   "cell_type": "code",
   "execution_count": 1,
   "id": "ad5e8d86",
   "metadata": {},
   "outputs": [
    {
     "name": "stdout",
     "output_type": "stream",
     "text": [
      "0 Ajit 78\n",
      "1 Saurabh 67\n",
      "2 Sahil 88\n",
      "3 Sakshi 98\n",
      "4 Gaurav 90\n"
     ]
    }
   ],
   "source": [
    "names = [\"Ajit\",\"Saurabh\",\"Sahil\",\"Sakshi\",\"Gaurav\"]\n",
    "marks = [78,67,88,98,90]\n",
    "di = {}\n",
    "for index,name in enumerate(names):\n",
    "    print(index,name,marks[index])"
   ]
  },
  {
   "cell_type": "code",
   "execution_count": 6,
   "id": "cdeed379",
   "metadata": {},
   "outputs": [
    {
     "name": "stdout",
     "output_type": "stream",
     "text": [
      "{'Ajit': 78, 'Saurabh': 67, 'Sahil': 88, 'Sakshi': 98, 'Gaurav': 90}\n"
     ]
    }
   ],
   "source": [
    "names = [\"Ajit\",\"Saurabh\",\"Sahil\",\"Sakshi\",\"Gaurav\"]\n",
    "marks = [78,67,88,98,90]\n",
    "di = {}\n",
    "for index,name in enumerate(names):\n",
    "    di.update({name:marks[index]})\n",
    "\n",
    "print(di)"
   ]
  },
  {
   "cell_type": "code",
   "execution_count": 7,
   "id": "0f94709c",
   "metadata": {},
   "outputs": [
    {
     "data": {
      "text/plain": [
       "<zip at 0x1d43d57f100>"
      ]
     },
     "execution_count": 7,
     "metadata": {},
     "output_type": "execute_result"
    }
   ],
   "source": [
    "names = [\"Ajit\",\"Saurabh\",\"Sahil\",\"Sakshi\",\"Gaurav\"]\n",
    "marks = [78,67,88,98,90]\n",
    "zip(names,marks)"
   ]
  },
  {
   "cell_type": "code",
   "execution_count": 8,
   "id": "3d3219bb",
   "metadata": {},
   "outputs": [
    {
     "data": {
      "text/plain": [
       "{'Ajit': 78, 'Saurabh': 67, 'Sahil': 88, 'Sakshi': 98, 'Gaurav': 90}"
      ]
     },
     "execution_count": 8,
     "metadata": {},
     "output_type": "execute_result"
    }
   ],
   "source": [
    "dict(zip(names,marks))"
   ]
  },
  {
   "cell_type": "code",
   "execution_count": 9,
   "id": "286568f7",
   "metadata": {},
   "outputs": [
    {
     "data": {
      "text/plain": [
       "[('Ajit', 78), ('Saurabh', 67), ('Sahil', 88), ('Sakshi', 98), ('Gaurav', 90)]"
      ]
     },
     "execution_count": 9,
     "metadata": {},
     "output_type": "execute_result"
    }
   ],
   "source": [
    "list(zip(names,marks))"
   ]
  },
  {
   "cell_type": "code",
   "execution_count": 10,
   "id": "ba3013fd",
   "metadata": {},
   "outputs": [
    {
     "data": {
      "text/plain": [
       "(('Ajit', 78), ('Saurabh', 67), ('Sahil', 88), ('Sakshi', 98), ('Gaurav', 90))"
      ]
     },
     "execution_count": 10,
     "metadata": {},
     "output_type": "execute_result"
    }
   ],
   "source": [
    "tuple(zip(names,marks))"
   ]
  },
  {
   "cell_type": "code",
   "execution_count": 11,
   "id": "d2713f9d",
   "metadata": {},
   "outputs": [
    {
     "data": {
      "text/plain": [
       "{('Ajit', 78), ('Gaurav', 90), ('Sahil', 88), ('Sakshi', 98), ('Saurabh', 67)}"
      ]
     },
     "execution_count": 11,
     "metadata": {},
     "output_type": "execute_result"
    }
   ],
   "source": [
    "set(zip(names,marks))"
   ]
  },
  {
   "cell_type": "code",
   "execution_count": 12,
   "id": "16c338f4",
   "metadata": {},
   "outputs": [
    {
     "data": {
      "text/plain": [
       "{'Ajit': [78, 87],\n",
       " 'Saurabh': [67, 76],\n",
       " 'Sahil': [88, 88],\n",
       " 'Sakshi': [98, 89],\n",
       " 'Gaurav': [90, 9]}"
      ]
     },
     "execution_count": 12,
     "metadata": {},
     "output_type": "execute_result"
    }
   ],
   "source": [
    "names = [\"Ajit\",\"Saurabh\",\"Sahil\",\"Sakshi\",\"Gaurav\"]\n",
    "marks = [[78,87],[67,76],[88,88],[98,89],[90,9]]\n",
    "dict(zip(names,marks))"
   ]
  },
  {
   "cell_type": "code",
   "execution_count": 14,
   "id": "f5419c66",
   "metadata": {},
   "outputs": [
    {
     "data": {
      "text/plain": [
       "{'Ajit': [78, 87],\n",
       " 'Saurabh': [67, 76, 999],\n",
       " 'Sahil': [88, 88],\n",
       " 'Sakshi': [98, 89, 99, 90],\n",
       " 'Gaurav': [90, 9]}"
      ]
     },
     "execution_count": 14,
     "metadata": {},
     "output_type": "execute_result"
    }
   ],
   "source": [
    "names = [\"Ajit\",\"Saurabh\",\"Sahil\",\"Sakshi\",\"Gaurav\"]\n",
    "marks = [[78,87],[67,76,999],[88,88],[98,89,99,90],[90,9]]\n",
    "dict(zip(names,marks))"
   ]
  },
  {
   "cell_type": "code",
   "execution_count": 15,
   "id": "70d08142",
   "metadata": {},
   "outputs": [
    {
     "data": {
      "text/plain": [
       "{'Ajit': 1, 'Saurabh': 2, 'Sahil': 3, 'Sakshi': 4, 'Gaurav': 5}"
      ]
     },
     "execution_count": 15,
     "metadata": {},
     "output_type": "execute_result"
    }
   ],
   "source": [
    "names = [\"Ajit\",\"Saurabh\",\"Sahil\",\"Sakshi\",\"Gaurav\"]\n",
    "marks = [1,2,3,4,5,6,7,8,9,10]\n",
    "dict(zip(names,marks))"
   ]
  },
  {
   "cell_type": "code",
   "execution_count": 16,
   "id": "6df92dd0",
   "metadata": {},
   "outputs": [
    {
     "data": {
      "text/plain": [
       "{'Ajit': 1, 'Saurabh': 2, 'Sahil': 3, 'Sakshi': 4, 'Gaurav': 5, 'Mohit': 6}"
      ]
     },
     "execution_count": 16,
     "metadata": {},
     "output_type": "execute_result"
    }
   ],
   "source": [
    "names = [\"Ajit\",\"Saurabh\",\"Sahil\",\"Sakshi\",\"Gaurav\",\"Mohit\"]\n",
    "marks = [1,2,3,4,5,6,7,8,9,10]\n",
    "dict(zip(names,marks))"
   ]
  },
  {
   "cell_type": "markdown",
   "id": "2cce7de8",
   "metadata": {},
   "source": [
    "## 2.filter()\n",
    "- It returns only True values\n",
    "- syntax --> filter(function_name,iterable) #High Order Fucnction\n",
    "- list(filter(function_name,iterable))"
   ]
  },
  {
   "cell_type": "code",
   "execution_count": 19,
   "id": "a08d4c5d",
   "metadata": {},
   "outputs": [
    {
     "name": "stdout",
     "output_type": "stream",
     "text": [
      "None\n",
      "10\n"
     ]
    }
   ],
   "source": [
    "def even_check(num):\n",
    "    if num % 2 == 0:\n",
    "        return num\n",
    "\n",
    "print(even_check(1))\n",
    "print(even_check(10))"
   ]
  },
  {
   "cell_type": "code",
   "execution_count": 21,
   "id": "b6d83669",
   "metadata": {},
   "outputs": [
    {
     "data": {
      "text/plain": [
       "<filter at 0x1d43e16a430>"
      ]
     },
     "execution_count": 21,
     "metadata": {},
     "output_type": "execute_result"
    }
   ],
   "source": [
    "filter(even_check,list(range(1,11)))"
   ]
  },
  {
   "cell_type": "code",
   "execution_count": 22,
   "id": "17063e19",
   "metadata": {},
   "outputs": [
    {
     "data": {
      "text/plain": [
       "[2, 4, 6, 8, 10]"
      ]
     },
     "execution_count": 22,
     "metadata": {},
     "output_type": "execute_result"
    }
   ],
   "source": [
    "list(filter(even_check,list(range(1,11))))"
   ]
  },
  {
   "cell_type": "code",
   "execution_count": 24,
   "id": "5056de52",
   "metadata": {},
   "outputs": [
    {
     "data": {
      "text/plain": [
       "[22, 24, 26, 28, 30]"
      ]
     },
     "execution_count": 24,
     "metadata": {},
     "output_type": "execute_result"
    }
   ],
   "source": [
    "list(filter(even_check,list(range(21,31))))"
   ]
  },
  {
   "cell_type": "code",
   "execution_count": 25,
   "id": "6341feea",
   "metadata": {},
   "outputs": [],
   "source": [
    "names = [\"Ajit\",\"Saurabh\",\"Sahil\",\"Sakshi\",\"Gaurav\"]\n",
    "def get_wordswithS(word):\n",
    "    if word.startswith(\"S\"):\n",
    "        return word"
   ]
  },
  {
   "cell_type": "code",
   "execution_count": 26,
   "id": "ed0986b5",
   "metadata": {},
   "outputs": [
    {
     "data": {
      "text/plain": [
       "['Saurabh', 'Sahil', 'Sakshi']"
      ]
     },
     "execution_count": 26,
     "metadata": {},
     "output_type": "execute_result"
    }
   ],
   "source": [
    "list(filter(get_wordswithS,names))"
   ]
  },
  {
   "cell_type": "code",
   "execution_count": 27,
   "id": "35723969",
   "metadata": {},
   "outputs": [
    {
     "data": {
      "text/plain": [
       "['Saurabh', 'Sahil', 'Sakshi']"
      ]
     },
     "execution_count": 27,
     "metadata": {},
     "output_type": "execute_result"
    }
   ],
   "source": [
    "list(filter(lambda word : word.startswith(\"S\"),names))"
   ]
  },
  {
   "cell_type": "code",
   "execution_count": 28,
   "id": "e66155a5",
   "metadata": {},
   "outputs": [
    {
     "data": {
      "text/plain": [
       "[2, 4, 6, 8, 10]"
      ]
     },
     "execution_count": 28,
     "metadata": {},
     "output_type": "execute_result"
    }
   ],
   "source": [
    "list(filter(lambda num : num % 2 ==0 ,[1,2,3,4,5,6,7,8,9,10]))"
   ]
  },
  {
   "cell_type": "code",
   "execution_count": 29,
   "id": "67a63699",
   "metadata": {},
   "outputs": [
    {
     "data": {
      "text/plain": [
       "[1, 3, 5, 7, 9]"
      ]
     },
     "execution_count": 29,
     "metadata": {},
     "output_type": "execute_result"
    }
   ],
   "source": [
    "list(filter(lambda num : num % 2 != 0 ,[1,2,3,4,5,6,7,8,9,10]))"
   ]
  },
  {
   "cell_type": "code",
   "execution_count": 32,
   "id": "5ab9cc3e",
   "metadata": {},
   "outputs": [],
   "source": [
    "Alpha = [\"QA\",\"q\",\"E\",\"e\",\"H\",\"h\",\"O\",\"o\"]"
   ]
  },
  {
   "cell_type": "code",
   "execution_count": 34,
   "id": "c42962f4",
   "metadata": {},
   "outputs": [
    {
     "data": {
      "text/plain": [
       "['QA', 'E', 'H', 'O']"
      ]
     },
     "execution_count": 34,
     "metadata": {},
     "output_type": "execute_result"
    }
   ],
   "source": [
    "list(filter(lambda alp : alp.isupper(), Alpha))"
   ]
  },
  {
   "cell_type": "code",
   "execution_count": 35,
   "id": "109d4ebb",
   "metadata": {},
   "outputs": [
    {
     "data": {
      "text/plain": [
       "['q', 'e', 'h', 'o']"
      ]
     },
     "execution_count": 35,
     "metadata": {},
     "output_type": "execute_result"
    }
   ],
   "source": [
    "list(filter(lambda alp : alp.islower(), Alpha))"
   ]
  },
  {
   "cell_type": "code",
   "execution_count": 40,
   "id": "22d02cc5",
   "metadata": {},
   "outputs": [
    {
     "name": "stdout",
     "output_type": "stream",
     "text": [
      "QA\n",
      "None\n",
      "E\n",
      "None\n",
      "H\n",
      "None\n",
      "O\n",
      "None\n"
     ]
    }
   ],
   "source": [
    "def get_upper(alp):\n",
    "    if alp.isupper():\n",
    "        return alp\n",
    "\n",
    "for i in (Alpha):\n",
    "    print(get_upper(i))"
   ]
  },
  {
   "cell_type": "code",
   "execution_count": 43,
   "id": "0e9c0a64",
   "metadata": {},
   "outputs": [
    {
     "name": "stdout",
     "output_type": "stream",
     "text": [
      "QA True\n",
      "q False\n",
      "E True\n",
      "e False\n",
      "H True\n",
      "h False\n",
      "O True\n",
      "o False\n"
     ]
    }
   ],
   "source": [
    "def get_upper(alp):\n",
    "    return alp == alp.upper()\n",
    "\n",
    "for i in Alpha:\n",
    "    print(i,get_upper(i))"
   ]
  },
  {
   "cell_type": "code",
   "execution_count": 45,
   "id": "dcfa6d96",
   "metadata": {},
   "outputs": [
    {
     "data": {
      "text/plain": [
       "['QA', 'E', 'H', 'O']"
      ]
     },
     "execution_count": 45,
     "metadata": {},
     "output_type": "execute_result"
    }
   ],
   "source": [
    "list(filter(lambda alp : alp == alp.upper(),Alpha))"
   ]
  },
  {
   "cell_type": "code",
   "execution_count": 46,
   "id": "b5bfba8f",
   "metadata": {},
   "outputs": [
    {
     "data": {
      "text/plain": [
       "['q', 'e', 'h', 'o']"
      ]
     },
     "execution_count": 46,
     "metadata": {},
     "output_type": "execute_result"
    }
   ],
   "source": [
    "list(filter(lambda alp : alp != alp.upper(),Alpha))"
   ]
  },
  {
   "cell_type": "code",
   "execution_count": 54,
   "id": "78a5efdf",
   "metadata": {},
   "outputs": [
    {
     "data": {
      "text/plain": [
       "['D', 'S']"
      ]
     },
     "execution_count": 54,
     "metadata": {},
     "output_type": "execute_result"
    }
   ],
   "source": [
    "str1 = \"Data Science\"\n",
    "res = list(filter(lambda x : x.isupper(),str1))\n",
    "res"
   ]
  },
  {
   "cell_type": "code",
   "execution_count": 55,
   "id": "ba2bc3ca",
   "metadata": {},
   "outputs": [
    {
     "data": {
      "text/plain": [
       "'DS'"
      ]
     },
     "execution_count": 55,
     "metadata": {},
     "output_type": "execute_result"
    }
   ],
   "source": [
    "\"\".join(res)"
   ]
  },
  {
   "cell_type": "code",
   "execution_count": 58,
   "id": "fc234de0",
   "metadata": {},
   "outputs": [
    {
     "data": {
      "text/plain": [
       "'a t a c i e n c e'"
      ]
     },
     "execution_count": 58,
     "metadata": {},
     "output_type": "execute_result"
    }
   ],
   "source": [
    "str1 = \"Data Science\"\n",
    "res = list(filter(lambda x : x.islower(),str1))\n",
    "\" \".join(res)"
   ]
  },
  {
   "cell_type": "markdown",
   "id": "b6141bf3",
   "metadata": {},
   "source": [
    "## 3.map\n",
    "- The map() is High Order Function\n",
    "- syntax --> map(function_name,iterable)\n",
    "- list(map(function_name,iterable)"
   ]
  },
  {
   "cell_type": "code",
   "execution_count": 62,
   "id": "7ef18ee6",
   "metadata": {},
   "outputs": [
    {
     "name": "stdout",
     "output_type": "stream",
     "text": [
      "1\n",
      "4\n",
      "9\n",
      "16\n",
      "25\n"
     ]
    }
   ],
   "source": [
    "def square(num_li):\n",
    "    for num in num_li:\n",
    "        print(num**2)\n",
    "\n",
    "square([1,2,3,4,5])\n",
    "        "
   ]
  },
  {
   "cell_type": "code",
   "execution_count": 63,
   "id": "d53ea55b",
   "metadata": {},
   "outputs": [],
   "source": [
    "def square(num):\n",
    "    return num **2"
   ]
  },
  {
   "cell_type": "code",
   "execution_count": 64,
   "id": "5fee6254",
   "metadata": {},
   "outputs": [
    {
     "data": {
      "text/plain": [
       "<map at 0x1d43da7af10>"
      ]
     },
     "execution_count": 64,
     "metadata": {},
     "output_type": "execute_result"
    }
   ],
   "source": [
    "map(square,[1,2,3,4,5])"
   ]
  },
  {
   "cell_type": "code",
   "execution_count": 65,
   "id": "ccbd8895",
   "metadata": {},
   "outputs": [
    {
     "data": {
      "text/plain": [
       "[1, 4, 9, 16, 25]"
      ]
     },
     "execution_count": 65,
     "metadata": {},
     "output_type": "execute_result"
    }
   ],
   "source": [
    "list(map(square,[1,2,3,4,5]))"
   ]
  },
  {
   "cell_type": "code",
   "execution_count": 67,
   "id": "44ae9f94",
   "metadata": {},
   "outputs": [
    {
     "data": {
      "text/plain": [
       "[1, 4, 9, 16, 25]"
      ]
     },
     "execution_count": 67,
     "metadata": {},
     "output_type": "execute_result"
    }
   ],
   "source": [
    "list(map(lambda x : x**2,[1,2,3,4,5]))"
   ]
  },
  {
   "cell_type": "code",
   "execution_count": 71,
   "id": "505b098b",
   "metadata": {},
   "outputs": [
    {
     "data": {
      "text/plain": [
       "['D', 'A', 'T', 'A', ' ', 'S', 'C', 'I', 'N', 'E', 'C', 'E']"
      ]
     },
     "execution_count": 71,
     "metadata": {},
     "output_type": "execute_result"
    }
   ],
   "source": [
    "str1 = \"Data Scinece\"\n",
    "res = list(map(lambda x : x.upper(),str1))\n",
    "res"
   ]
  },
  {
   "cell_type": "code",
   "execution_count": 72,
   "id": "8deb3014",
   "metadata": {},
   "outputs": [
    {
     "data": {
      "text/plain": [
       "'DATA SCINECE'"
      ]
     },
     "execution_count": 72,
     "metadata": {},
     "output_type": "execute_result"
    }
   ],
   "source": [
    "\"\".join(res)"
   ]
  },
  {
   "cell_type": "code",
   "execution_count": 74,
   "id": "b639a421",
   "metadata": {},
   "outputs": [
    {
     "data": {
      "text/plain": [
       "[12, 14, 16, 18, 20]"
      ]
     },
     "execution_count": 74,
     "metadata": {},
     "output_type": "execute_result"
    }
   ],
   "source": [
    "li1 = [1,2,3,4,5]\n",
    "li2 = [11,12,13,14,15]\n",
    "list(map(lambda x,y : x+y, li1,li2))"
   ]
  },
  {
   "cell_type": "code",
   "execution_count": 75,
   "id": "5e64b45a",
   "metadata": {},
   "outputs": [
    {
     "data": {
      "text/plain": [
       "[12, 14, 16, 18, 20]"
      ]
     },
     "execution_count": 75,
     "metadata": {},
     "output_type": "execute_result"
    }
   ],
   "source": [
    "li1 = [1,2,3,4,5]\n",
    "li2 = (11,12,13,14,15)\n",
    "list(map(lambda x,y : x+y, li1,li2))"
   ]
  },
  {
   "cell_type": "code",
   "execution_count": 76,
   "id": "1edffe52",
   "metadata": {},
   "outputs": [
    {
     "data": {
      "text/plain": [
       "['PJ', 'ya', 'tv', 'ha']"
      ]
     },
     "execution_count": 76,
     "metadata": {},
     "output_type": "execute_result"
    }
   ],
   "source": [
    "str1 = \"Python\"\n",
    "str2 = \"Java\"\n",
    "list(map(lambda x,y : x+y, str1,str2))"
   ]
  },
  {
   "cell_type": "code",
   "execution_count": 78,
   "id": "d2bee96e",
   "metadata": {},
   "outputs": [
    {
     "data": {
      "text/plain": [
       "[True, True, False, False, False, True, False]"
      ]
     },
     "execution_count": 78,
     "metadata": {},
     "output_type": "execute_result"
    }
   ],
   "source": [
    "list1 = [\"Sunday\",\"Monday\",\"Tuesday\",\"Wednesday\",\"Thursday\",\"Friday\",\"Saturday\"]\n",
    "list(map(lambda day : len(day) == 6,list1))"
   ]
  },
  {
   "cell_type": "code",
   "execution_count": 79,
   "id": "9af2994b",
   "metadata": {},
   "outputs": [
    {
     "data": {
      "text/plain": [
       "['Sunday', 'Monday', 'Friday']"
      ]
     },
     "execution_count": 79,
     "metadata": {},
     "output_type": "execute_result"
    }
   ],
   "source": [
    "list(filter(lambda day : len(day) == 6,list1))"
   ]
  },
  {
   "cell_type": "code",
   "execution_count": 80,
   "id": "7626a28c",
   "metadata": {
    "scrolled": true
   },
   "outputs": [
    {
     "data": {
      "text/plain": [
       "['Sunday_Aug',\n",
       " 'Monday_Aug',\n",
       " 'Tuesday_Aug',\n",
       " 'Wednesday_Aug',\n",
       " 'Thursday_Aug',\n",
       " 'Friday_Aug',\n",
       " 'Saturday_Aug']"
      ]
     },
     "execution_count": 80,
     "metadata": {},
     "output_type": "execute_result"
    }
   ],
   "source": [
    "list1 = [\"Sunday\",\"Monday\",\"Tuesday\",\"Wednesday\",\"Thursday\",\"Friday\",\"Saturday\"]\n",
    "list(map(lambda day : day + \"_Aug\",list1))"
   ]
  },
  {
   "cell_type": "markdown",
   "id": "e1645a13",
   "metadata": {},
   "source": [
    "## 4.reduce()\n"
   ]
  },
  {
   "cell_type": "code",
   "execution_count": 81,
   "id": "eda9dbe3",
   "metadata": {},
   "outputs": [],
   "source": [
    "from functools import reduce"
   ]
  },
  {
   "cell_type": "code",
   "execution_count": 83,
   "id": "a8cd49f8",
   "metadata": {},
   "outputs": [
    {
     "name": "stdout",
     "output_type": "stream",
     "text": [
      "[2, 4]\n"
     ]
    }
   ],
   "source": [
    "def sqr(num):\n",
    "    return num ** 2\n",
    " \n",
    "num_list = [1,2,3,4,5]\n",
    "even = list(filter(lambda num : num % 2 == 0, num_list))\n",
    "print(even)"
   ]
  },
  {
   "cell_type": "code",
   "execution_count": 86,
   "id": "5960b8c0",
   "metadata": {},
   "outputs": [
    {
     "name": "stdout",
     "output_type": "stream",
     "text": [
      "[1, 4, 9, 16, 25]\n"
     ]
    }
   ],
   "source": [
    "square = list(map(sqr,num_list))\n",
    "print(square)"
   ]
  },
  {
   "cell_type": "code",
   "execution_count": 87,
   "id": "b12cf767",
   "metadata": {},
   "outputs": [
    {
     "data": {
      "text/plain": [
       "15"
      ]
     },
     "execution_count": 87,
     "metadata": {},
     "output_type": "execute_result"
    }
   ],
   "source": [
    "reduce(lambda x , y: x+y,[1,2,3,4,5])"
   ]
  },
  {
   "cell_type": "code",
   "execution_count": 88,
   "id": "bc56bb00",
   "metadata": {},
   "outputs": [
    {
     "data": {
      "text/plain": [
       "'ScienceData'"
      ]
     },
     "execution_count": 88,
     "metadata": {},
     "output_type": "execute_result"
    }
   ],
   "source": [
    "reduce(lambda x,y : x + y,\"Data\",\"Science\")"
   ]
  },
  {
   "cell_type": "code",
   "execution_count": 89,
   "id": "f43d04fe",
   "metadata": {},
   "outputs": [
    {
     "ename": "TypeError",
     "evalue": "can only concatenate list (not \"int\") to list",
     "output_type": "error",
     "traceback": [
      "\u001b[1;31m---------------------------------------------------------------------------\u001b[0m",
      "\u001b[1;31mTypeError\u001b[0m                                 Traceback (most recent call last)",
      "\u001b[1;32m~\\AppData\\Local\\Temp/ipykernel_1484/3179253867.py\u001b[0m in \u001b[0;36m<module>\u001b[1;34m\u001b[0m\n\u001b[1;32m----> 1\u001b[1;33m \u001b[0mreduce\u001b[0m\u001b[1;33m(\u001b[0m\u001b[1;32mlambda\u001b[0m \u001b[0mx\u001b[0m \u001b[1;33m,\u001b[0m \u001b[0my\u001b[0m \u001b[1;33m:\u001b[0m \u001b[0mx\u001b[0m \u001b[1;33m+\u001b[0m \u001b[0my\u001b[0m\u001b[1;33m,\u001b[0m\u001b[1;33m[\u001b[0m\u001b[1;36m1\u001b[0m\u001b[1;33m,\u001b[0m\u001b[1;36m2\u001b[0m\u001b[1;33m,\u001b[0m\u001b[1;36m3\u001b[0m\u001b[1;33m,\u001b[0m\u001b[1;36m4\u001b[0m\u001b[1;33m,\u001b[0m\u001b[1;36m5\u001b[0m\u001b[1;33m]\u001b[0m\u001b[1;33m,\u001b[0m\u001b[1;33m[\u001b[0m\u001b[1;36m1\u001b[0m\u001b[1;33m,\u001b[0m\u001b[1;36m2\u001b[0m\u001b[1;33m,\u001b[0m\u001b[1;36m3\u001b[0m\u001b[1;33m,\u001b[0m\u001b[1;36m4\u001b[0m\u001b[1;33m,\u001b[0m\u001b[1;36m5\u001b[0m\u001b[1;33m]\u001b[0m\u001b[1;33m)\u001b[0m\u001b[1;33m\u001b[0m\u001b[1;33m\u001b[0m\u001b[0m\n\u001b[0m",
      "\u001b[1;32m~\\AppData\\Local\\Temp/ipykernel_1484/3179253867.py\u001b[0m in \u001b[0;36m<lambda>\u001b[1;34m(x, y)\u001b[0m\n\u001b[1;32m----> 1\u001b[1;33m \u001b[0mreduce\u001b[0m\u001b[1;33m(\u001b[0m\u001b[1;32mlambda\u001b[0m \u001b[0mx\u001b[0m \u001b[1;33m,\u001b[0m \u001b[0my\u001b[0m \u001b[1;33m:\u001b[0m \u001b[0mx\u001b[0m \u001b[1;33m+\u001b[0m \u001b[0my\u001b[0m\u001b[1;33m,\u001b[0m\u001b[1;33m[\u001b[0m\u001b[1;36m1\u001b[0m\u001b[1;33m,\u001b[0m\u001b[1;36m2\u001b[0m\u001b[1;33m,\u001b[0m\u001b[1;36m3\u001b[0m\u001b[1;33m,\u001b[0m\u001b[1;36m4\u001b[0m\u001b[1;33m,\u001b[0m\u001b[1;36m5\u001b[0m\u001b[1;33m]\u001b[0m\u001b[1;33m,\u001b[0m\u001b[1;33m[\u001b[0m\u001b[1;36m1\u001b[0m\u001b[1;33m,\u001b[0m\u001b[1;36m2\u001b[0m\u001b[1;33m,\u001b[0m\u001b[1;36m3\u001b[0m\u001b[1;33m,\u001b[0m\u001b[1;36m4\u001b[0m\u001b[1;33m,\u001b[0m\u001b[1;36m5\u001b[0m\u001b[1;33m]\u001b[0m\u001b[1;33m)\u001b[0m\u001b[1;33m\u001b[0m\u001b[1;33m\u001b[0m\u001b[0m\n\u001b[0m",
      "\u001b[1;31mTypeError\u001b[0m: can only concatenate list (not \"int\") to list"
     ]
    }
   ],
   "source": [
    "reduce(lambda x , y : x + y,[1,2,3,4,5],[1,2,3,4,5])"
   ]
  },
  {
   "cell_type": "code",
   "execution_count": 90,
   "id": "69baf4e1",
   "metadata": {},
   "outputs": [
    {
     "data": {
      "text/plain": [
       "[1, 2, 3, 4, 5, 1, 2, 3, 4, 5]"
      ]
     },
     "execution_count": 90,
     "metadata": {},
     "output_type": "execute_result"
    }
   ],
   "source": [
    "[1,2,3,4,5] + [1,2,3,4,5]"
   ]
  },
  {
   "cell_type": "code",
   "execution_count": 91,
   "id": "53fd0619",
   "metadata": {},
   "outputs": [
    {
     "data": {
      "text/plain": [
       "120"
      ]
     },
     "execution_count": 91,
     "metadata": {},
     "output_type": "execute_result"
    }
   ],
   "source": [
    "reduce(lambda x,y : x*y , [1,2,3,4,5])"
   ]
  },
  {
   "cell_type": "code",
   "execution_count": 2,
   "id": "c9f73afd",
   "metadata": {},
   "outputs": [],
   "source": [
    "num_list = [1,2,3,4,5]"
   ]
  },
  {
   "cell_type": "code",
   "execution_count": 3,
   "id": "68a7b6d6",
   "metadata": {},
   "outputs": [],
   "source": [
    "even = list(filter(lambda x : x%2==0,num_list))"
   ]
  },
  {
   "cell_type": "code",
   "execution_count": 4,
   "id": "2c1d3638",
   "metadata": {},
   "outputs": [
    {
     "data": {
      "text/plain": [
       "[2, 4]"
      ]
     },
     "execution_count": 4,
     "metadata": {},
     "output_type": "execute_result"
    }
   ],
   "source": [
    "even\n"
   ]
  },
  {
   "cell_type": "code",
   "execution_count": 5,
   "id": "c4dda6b9",
   "metadata": {},
   "outputs": [],
   "source": [
    "sqr = list(map(lambda x : x**2,even))"
   ]
  },
  {
   "cell_type": "code",
   "execution_count": 6,
   "id": "2e2a9448",
   "metadata": {},
   "outputs": [
    {
     "data": {
      "text/plain": [
       "[4, 16]"
      ]
     },
     "execution_count": 6,
     "metadata": {},
     "output_type": "execute_result"
    }
   ],
   "source": [
    "sqr"
   ]
  },
  {
   "cell_type": "code",
   "execution_count": 9,
   "id": "237678a4",
   "metadata": {},
   "outputs": [],
   "source": [
    "from functools import reduce"
   ]
  },
  {
   "cell_type": "code",
   "execution_count": 11,
   "id": "e507610c",
   "metadata": {},
   "outputs": [
    {
     "data": {
      "text/plain": [
       "120"
      ]
     },
     "execution_count": 11,
     "metadata": {},
     "output_type": "execute_result"
    }
   ],
   "source": [
    "reduce(lambda x,y : x*y,num_list)"
   ]
  }
 ],
 "metadata": {
  "kernelspec": {
   "display_name": "Python 3 (ipykernel)",
   "language": "python",
   "name": "python3"
  },
  "language_info": {
   "codemirror_mode": {
    "name": "ipython",
    "version": 3
   },
   "file_extension": ".py",
   "mimetype": "text/x-python",
   "name": "python",
   "nbconvert_exporter": "python",
   "pygments_lexer": "ipython3",
   "version": "3.12.4"
  }
 },
 "nbformat": 4,
 "nbformat_minor": 5
}
