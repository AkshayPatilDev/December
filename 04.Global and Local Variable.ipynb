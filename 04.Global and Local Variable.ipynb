{
 "cells": [
  {
   "cell_type": "code",
   "execution_count": null,
   "id": "522161e7",
   "metadata": {},
   "outputs": [],
   "source": [
    "y = 500"
   ]
  },
  {
   "cell_type": "code",
   "execution_count": 4,
   "id": "c833ed99",
   "metadata": {},
   "outputs": [
    {
     "name": "stdout",
     "output_type": "stream",
     "text": [
      "Python and data science\n"
     ]
    }
   ],
   "source": [
    "str1 = \"Python and data science\"\n",
    "def test():\n",
    "    print(str1)\n",
    "test()"
   ]
  },
  {
   "cell_type": "code",
   "execution_count": 10,
   "id": "fb9f88aa",
   "metadata": {},
   "outputs": [
    {
     "name": "stdout",
     "output_type": "stream",
     "text": [
      "The string = Python and data science\n"
     ]
    }
   ],
   "source": [
    "str1 = \"Python and data science\" #global variable\n",
    "def test():                      #defining function\n",
    "    print(f\"The string = {str1}\")\n",
    "test()                           #calling function"
   ]
  },
  {
   "cell_type": "code",
   "execution_count": 12,
   "id": "c0ec24ee",
   "metadata": {},
   "outputs": [
    {
     "name": "stdout",
     "output_type": "stream",
     "text": [
      "The string = Python and data science\n",
      "We are accesing str1 variable outside the function = Python and data science\n"
     ]
    }
   ],
   "source": [
    "str1 = \"Python and data science\" #global variable\n",
    "def test():                      #defining function\n",
    "    print(f\"The string = {str1}\")\n",
    "test()                           #calling function\n",
    "\n",
    "print(f\"We are accesing str1 variable outside the function = {str1}\")"
   ]
  },
  {
   "cell_type": "code",
   "execution_count": 14,
   "id": "ed42ba44",
   "metadata": {},
   "outputs": [
    {
     "name": "stdout",
     "output_type": "stream",
     "text": [
      "The string = Python and data science\n",
      "x = 10\n",
      "We are accesing str1 variable outside the function = Python and data science\n"
     ]
    }
   ],
   "source": [
    "str1 = \"Python and data science\" #global variable\n",
    "def test():                      #defining function\n",
    "    x = 10\n",
    "    print(f\"The string = {str1}\")\n",
    "    print(f\"x = {x}\")\n",
    "test()                           #calling function\n",
    "\n",
    "print(f\"We are accesing str1 variable outside the function = {str1}\")"
   ]
  },
  {
   "cell_type": "code",
   "execution_count": 1,
   "id": "8958c08b",
   "metadata": {},
   "outputs": [
    {
     "name": "stdout",
     "output_type": "stream",
     "text": [
      "The string = Python and data science\n",
      "x = 10\n",
      "We are accesing str1 variable outside the function = Python and data science\n"
     ]
    },
    {
     "ename": "NameError",
     "evalue": "name 'x' is not defined",
     "output_type": "error",
     "traceback": [
      "\u001b[1;31m---------------------------------------------------------------------------\u001b[0m",
      "\u001b[1;31mNameError\u001b[0m                                 Traceback (most recent call last)",
      "\u001b[1;32m~\\AppData\\Local\\Temp\\ipykernel_11224\\4073614648.py\u001b[0m in \u001b[0;36m<module>\u001b[1;34m\u001b[0m\n\u001b[0;32m      7\u001b[0m \u001b[1;33m\u001b[0m\u001b[0m\n\u001b[0;32m      8\u001b[0m \u001b[0mprint\u001b[0m\u001b[1;33m(\u001b[0m\u001b[1;34mf\"We are accesing str1 variable outside the function = {str1}\"\u001b[0m\u001b[1;33m)\u001b[0m\u001b[1;33m\u001b[0m\u001b[1;33m\u001b[0m\u001b[0m\n\u001b[1;32m----> 9\u001b[1;33m \u001b[0mprint\u001b[0m\u001b[1;33m(\u001b[0m\u001b[1;34mf\"we are accessing x variable outside the fumction {x}\"\u001b[0m\u001b[1;33m)\u001b[0m\u001b[1;33m\u001b[0m\u001b[1;33m\u001b[0m\u001b[0m\n\u001b[0m",
      "\u001b[1;31mNameError\u001b[0m: name 'x' is not defined"
     ]
    }
   ],
   "source": [
    "str1 = \"Python and data science\" #global variable\n",
    "def test():                      #defining function\n",
    "    x = 10                       #local variable\n",
    "    print(f\"The string = {str1}\")\n",
    "    print(f\"x = {x}\")\n",
    "test()                           #calling function\n",
    "\n",
    "print(f\"We are accesing str1 variable outside the function = {str1}\")\n",
    "print(f\"we are accessing x variable outside the fumction {x}\")"
   ]
  },
  {
   "cell_type": "code",
   "execution_count": 16,
   "id": "8d4b0697",
   "metadata": {},
   "outputs": [
    {
     "name": "stdout",
     "output_type": "stream",
     "text": [
      "The string = Python and data science\n",
      "x = 10\n",
      "We are accesing str1 variable outside the function = Python and data science\n",
      "we are accessing x variable outside the fumction 10\n"
     ]
    }
   ],
   "source": [
    "str1 = \"Python and data science\" #global variable\n",
    "def test():                      #defining function\n",
    "    global x\n",
    "    x = 10\n",
    "    print(f\"The string = {str1}\")\n",
    "    print(f\"x = {x}\")\n",
    "test()                           #calling function\n",
    "\n",
    "print(f\"We are accesing str1 variable outside the function = {str1}\")\n",
    "print(f\"we are accessing x variable outside the fumction {x}\")"
   ]
  },
  {
   "cell_type": "code",
   "execution_count": 17,
   "id": "711af90d",
   "metadata": {},
   "outputs": [
    {
     "name": "stdout",
     "output_type": "stream",
     "text": [
      "10\n"
     ]
    }
   ],
   "source": [
    "print(x)"
   ]
  },
  {
   "cell_type": "code",
   "execution_count": 18,
   "id": "79e7a749",
   "metadata": {},
   "outputs": [
    {
     "data": {
      "text/plain": [
       "10"
      ]
     },
     "execution_count": 18,
     "metadata": {},
     "output_type": "execute_result"
    }
   ],
   "source": [
    "x"
   ]
  },
  {
   "cell_type": "code",
   "execution_count": 19,
   "id": "b2eaa786",
   "metadata": {},
   "outputs": [
    {
     "name": "stdout",
     "output_type": "stream",
     "text": [
      "50\n"
     ]
    }
   ],
   "source": [
    "print(x*5)"
   ]
  },
  {
   "cell_type": "code",
   "execution_count": 22,
   "id": "f6bd4a9c",
   "metadata": {},
   "outputs": [
    {
     "name": "stdout",
     "output_type": "stream",
     "text": [
      "100\n"
     ]
    }
   ],
   "source": [
    "def test():\n",
    "    y=100\n",
    "    print(y)\n",
    "test()"
   ]
  },
  {
   "cell_type": "code",
   "execution_count": 26,
   "id": "b9d3d911",
   "metadata": {},
   "outputs": [
    {
     "name": "stdout",
     "output_type": "stream",
     "text": [
      "100\n"
     ]
    },
    {
     "ename": "NameError",
     "evalue": "name 'y' is not defined",
     "output_type": "error",
     "traceback": [
      "\u001b[1;31m---------------------------------------------------------------------------\u001b[0m",
      "\u001b[1;31mNameError\u001b[0m                                 Traceback (most recent call last)",
      "\u001b[1;32m~\\AppData\\Local\\Temp/ipykernel_2308/544362154.py\u001b[0m in \u001b[0;36m<module>\u001b[1;34m\u001b[0m\n\u001b[0;32m      3\u001b[0m     \u001b[0mprint\u001b[0m\u001b[1;33m(\u001b[0m\u001b[0my\u001b[0m\u001b[1;33m)\u001b[0m\u001b[1;33m\u001b[0m\u001b[1;33m\u001b[0m\u001b[0m\n\u001b[0;32m      4\u001b[0m \u001b[0mtest1\u001b[0m\u001b[1;33m(\u001b[0m\u001b[1;33m)\u001b[0m\u001b[1;33m\u001b[0m\u001b[1;33m\u001b[0m\u001b[0m\n\u001b[1;32m----> 5\u001b[1;33m \u001b[0mprint\u001b[0m\u001b[1;33m(\u001b[0m\u001b[0my\u001b[0m\u001b[1;33m)\u001b[0m\u001b[1;33m\u001b[0m\u001b[1;33m\u001b[0m\u001b[0m\n\u001b[0m",
      "\u001b[1;31mNameError\u001b[0m: name 'y' is not defined"
     ]
    }
   ],
   "source": [
    "def test1():\n",
    "    y=100\n",
    "    print(y)\n",
    "test1()\n",
    "print(y)"
   ]
  },
  {
   "cell_type": "code",
   "execution_count": 6,
   "id": "52237636",
   "metadata": {},
   "outputs": [
    {
     "name": "stdout",
     "output_type": "stream",
     "text": [
      "10\n",
      "10\n"
     ]
    }
   ],
   "source": [
    "a = 100\n",
    "def func():\n",
    "    global a\n",
    "    a=10\n",
    "    print(a)\n",
    "    \n",
    "func() \n",
    "print(a)"
   ]
  },
  {
   "cell_type": "code",
   "execution_count": null,
   "id": "2b521d82",
   "metadata": {},
   "outputs": [],
   "source": [
    "str1 = \"Akshay\"\n"
   ]
  }
 ],
 "metadata": {
  "kernelspec": {
   "display_name": "Python 3 (ipykernel)",
   "language": "python",
   "name": "python3"
  },
  "language_info": {
   "codemirror_mode": {
    "name": "ipython",
    "version": 3
   },
   "file_extension": ".py",
   "mimetype": "text/x-python",
   "name": "python",
   "nbconvert_exporter": "python",
   "pygments_lexer": "ipython3",
   "version": "3.12.4"
  }
 },
 "nbformat": 4,
 "nbformat_minor": 5
}
