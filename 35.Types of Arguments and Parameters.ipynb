{
 "cells": [
  {
   "cell_type": "markdown",
   "id": "f094029b",
   "metadata": {},
   "source": [
    "# Types of Arguments\n",
    "- 1.Positional\n",
    "- 2.Default\n",
    "- 3.Arbitrary positional (*)\n",
    "- 4.Arbitrary Keyword Args (**)"
   ]
  },
  {
   "cell_type": "markdown",
   "id": "c61d3235",
   "metadata": {},
   "source": [
    "## 1.Positional Arguments\n",
    "- Number of positional Args = Number of Parameters "
   ]
  },
  {
   "cell_type": "code",
   "execution_count": 1,
   "id": "220ab845",
   "metadata": {},
   "outputs": [
    {
     "data": {
      "text/plain": [
       "'AkashShetty@gmail.com'"
      ]
     },
     "execution_count": 1,
     "metadata": {},
     "output_type": "execute_result"
    }
   ],
   "source": [
    "def get_mailID(fname,lname):\n",
    "    return fname+lname+\"@gmail.com\"\n",
    "\n",
    "get_mailID(\"Akash\",\"Shetty\")"
   ]
  },
  {
   "cell_type": "code",
   "execution_count": 2,
   "id": "78391a70",
   "metadata": {},
   "outputs": [
    {
     "data": {
      "text/plain": [
       "'ShettyAkash@gmail.com'"
      ]
     },
     "execution_count": 2,
     "metadata": {},
     "output_type": "execute_result"
    }
   ],
   "source": [
    "def get_mailID(fname,lname):\n",
    "    return fname+lname+\"@gmail.com\"\n",
    "\n",
    "get_mailID(\"Shetty\",\"Akash\")"
   ]
  },
  {
   "cell_type": "code",
   "execution_count": 3,
   "id": "bedae5c1",
   "metadata": {},
   "outputs": [
    {
     "data": {
      "text/plain": [
       "'shetty.akash@gmail.com'"
      ]
     },
     "execution_count": 3,
     "metadata": {},
     "output_type": "execute_result"
    }
   ],
   "source": [
    "def get_mailID(fname,lname):\n",
    "    return fname.lower()+ \".\" + lname.lower() + \"@gmail.com\"\n",
    "\n",
    "get_mailID(\"Shetty\",\"Akash\")"
   ]
  },
  {
   "cell_type": "code",
   "execution_count": 4,
   "id": "e722ce8c",
   "metadata": {},
   "outputs": [
    {
     "data": {
      "text/plain": [
       "'akash.shetty@gmail.com'"
      ]
     },
     "execution_count": 4,
     "metadata": {},
     "output_type": "execute_result"
    }
   ],
   "source": [
    "def get_mailID(lname,fname):\n",
    "    return fname.lower()+ \".\" + lname.lower() + \"@gmail.com\"\n",
    "\n",
    "get_mailID(\"Shetty\",\"Akash\")"
   ]
  },
  {
   "cell_type": "code",
   "execution_count": 5,
   "id": "8c0b451d",
   "metadata": {},
   "outputs": [
    {
     "name": "stdout",
     "output_type": "stream",
     "text": [
      "a = 10 & b = 20\n"
     ]
    }
   ],
   "source": [
    "def func(a,b):\n",
    "    print(f\"a = {a} & b = {b}\")\n",
    "    \n",
    "func(10,20)"
   ]
  },
  {
   "cell_type": "code",
   "execution_count": 6,
   "id": "21d7e26d",
   "metadata": {},
   "outputs": [
    {
     "name": "stdout",
     "output_type": "stream",
     "text": [
      "a = 20 & b = 10\n"
     ]
    }
   ],
   "source": [
    "def func(a,b):\n",
    "    print(f\"a = {a} & b = {b}\")\n",
    "    \n",
    "func(20,10)"
   ]
  },
  {
   "cell_type": "code",
   "execution_count": 7,
   "id": "fffaba7e",
   "metadata": {},
   "outputs": [
    {
     "name": "stdout",
     "output_type": "stream",
     "text": [
      "a = 50 & b = 100\n"
     ]
    }
   ],
   "source": [
    "def func(a,b): #Positional parameters\n",
    "    print(f\"a = {a} & b = {b}\")\n",
    "\n",
    "a = 50    #Postional Arguments\n",
    "b = 100   \n",
    "func(a,b)"
   ]
  },
  {
   "cell_type": "code",
   "execution_count": 8,
   "id": "9673d98e",
   "metadata": {},
   "outputs": [
    {
     "name": "stdout",
     "output_type": "stream",
     "text": [
      "a = 50 & b = [100, 200, 300, 400]\n"
     ]
    }
   ],
   "source": [
    "def func(a,b): #Positional parameters\n",
    "    print(f\"a = {a} & b = {b}\")\n",
    "\n",
    "a = 50    #Postional Arguments\n",
    "b = [100,200,300,400]   \n",
    "func(a,b)"
   ]
  },
  {
   "cell_type": "code",
   "execution_count": 9,
   "id": "71abd2dd",
   "metadata": {},
   "outputs": [
    {
     "name": "stdout",
     "output_type": "stream",
     "text": [
      "a = 50 & b = [100, 200, 300, 400]\n",
      "Type of a = <class 'int'>\n",
      "Type of b = <class 'list'>\n"
     ]
    }
   ],
   "source": [
    "def func(a,b): #Positional parameters\n",
    "    print(f\"a = {a} & b = {b}\")\n",
    "    print(f\"Type of a = {type(a)}\")\n",
    "    print(f\"Type of b = {type(b)}\")\n",
    "\n",
    "a = 50    #Postional Arguments\n",
    "b = [100,200,300,400]   \n",
    "func(a,b)"
   ]
  },
  {
   "cell_type": "code",
   "execution_count": 10,
   "id": "4a34b023",
   "metadata": {},
   "outputs": [
    {
     "ename": "TypeError",
     "evalue": "func() missing 1 required positional argument: 'b'",
     "output_type": "error",
     "traceback": [
      "\u001b[1;31m---------------------------------------------------------------------------\u001b[0m",
      "\u001b[1;31mTypeError\u001b[0m                                 Traceback (most recent call last)",
      "\u001b[1;32m~\\AppData\\Local\\Temp/ipykernel_13984/567114202.py\u001b[0m in \u001b[0;36m<module>\u001b[1;34m\u001b[0m\n\u001b[0;32m      6\u001b[0m \u001b[0ma\u001b[0m \u001b[1;33m=\u001b[0m \u001b[1;36m50\u001b[0m    \u001b[1;31m#Postional Arguments\u001b[0m\u001b[1;33m\u001b[0m\u001b[1;33m\u001b[0m\u001b[0m\n\u001b[0;32m      7\u001b[0m \u001b[0mb\u001b[0m \u001b[1;33m=\u001b[0m \u001b[1;33m[\u001b[0m\u001b[1;36m100\u001b[0m\u001b[1;33m,\u001b[0m\u001b[1;36m200\u001b[0m\u001b[1;33m,\u001b[0m\u001b[1;36m300\u001b[0m\u001b[1;33m,\u001b[0m\u001b[1;36m400\u001b[0m\u001b[1;33m]\u001b[0m\u001b[1;33m\u001b[0m\u001b[1;33m\u001b[0m\u001b[0m\n\u001b[1;32m----> 8\u001b[1;33m \u001b[0mfunc\u001b[0m\u001b[1;33m(\u001b[0m\u001b[0ma\u001b[0m\u001b[1;33m)\u001b[0m\u001b[1;33m\u001b[0m\u001b[1;33m\u001b[0m\u001b[0m\n\u001b[0m",
      "\u001b[1;31mTypeError\u001b[0m: func() missing 1 required positional argument: 'b'"
     ]
    }
   ],
   "source": [
    "def func(a,b): #Positional parameters\n",
    "    print(f\"a = {a} & b = {b}\")\n",
    "    print(f\"Type of a = {type(a)}\")\n",
    "    print(f\"Type of b = {type(b)}\")\n",
    "\n",
    "a = 50    #Postional Arguments\n",
    "b = [100,200,300,400]   \n",
    "func(a)"
   ]
  },
  {
   "cell_type": "code",
   "execution_count": 11,
   "id": "d92df4d6",
   "metadata": {},
   "outputs": [
    {
     "ename": "NameError",
     "evalue": "name 'c' is not defined",
     "output_type": "error",
     "traceback": [
      "\u001b[1;31m---------------------------------------------------------------------------\u001b[0m",
      "\u001b[1;31mNameError\u001b[0m                                 Traceback (most recent call last)",
      "\u001b[1;32m~\\AppData\\Local\\Temp/ipykernel_13984/1418145693.py\u001b[0m in \u001b[0;36m<module>\u001b[1;34m\u001b[0m\n\u001b[0;32m      6\u001b[0m \u001b[0ma\u001b[0m \u001b[1;33m=\u001b[0m \u001b[1;36m50\u001b[0m    \u001b[1;31m#Postional Arguments\u001b[0m\u001b[1;33m\u001b[0m\u001b[1;33m\u001b[0m\u001b[0m\n\u001b[0;32m      7\u001b[0m \u001b[0mb\u001b[0m \u001b[1;33m=\u001b[0m \u001b[1;33m[\u001b[0m\u001b[1;36m100\u001b[0m\u001b[1;33m,\u001b[0m\u001b[1;36m200\u001b[0m\u001b[1;33m,\u001b[0m\u001b[1;36m300\u001b[0m\u001b[1;33m,\u001b[0m\u001b[1;36m400\u001b[0m\u001b[1;33m]\u001b[0m\u001b[1;33m\u001b[0m\u001b[1;33m\u001b[0m\u001b[0m\n\u001b[1;32m----> 8\u001b[1;33m \u001b[0mfunc\u001b[0m\u001b[1;33m(\u001b[0m\u001b[0ma\u001b[0m\u001b[1;33m,\u001b[0m\u001b[0mb\u001b[0m\u001b[1;33m,\u001b[0m\u001b[0mc\u001b[0m\u001b[1;33m)\u001b[0m\u001b[1;33m\u001b[0m\u001b[1;33m\u001b[0m\u001b[0m\n\u001b[0m",
      "\u001b[1;31mNameError\u001b[0m: name 'c' is not defined"
     ]
    }
   ],
   "source": [
    "def func(a,b): #Positional parameters\n",
    "    print(f\"a = {a} & b = {b}\")\n",
    "    print(f\"Type of a = {type(a)}\")\n",
    "    print(f\"Type of b = {type(b)}\")\n",
    "\n",
    "a = 50    #Postional Arguments\n",
    "b = [100,200,300,400]   \n",
    "func(a,b,c)"
   ]
  },
  {
   "cell_type": "code",
   "execution_count": 12,
   "id": "fcf96e39",
   "metadata": {},
   "outputs": [
    {
     "ename": "TypeError",
     "evalue": "func() takes 1 positional argument but 2 were given",
     "output_type": "error",
     "traceback": [
      "\u001b[1;31m---------------------------------------------------------------------------\u001b[0m",
      "\u001b[1;31mTypeError\u001b[0m                                 Traceback (most recent call last)",
      "\u001b[1;32m~\\AppData\\Local\\Temp/ipykernel_13984/2962924665.py\u001b[0m in \u001b[0;36m<module>\u001b[1;34m\u001b[0m\n\u001b[0;32m      6\u001b[0m \u001b[0ma\u001b[0m \u001b[1;33m=\u001b[0m \u001b[1;36m50\u001b[0m    \u001b[1;31m#Postional Arguments\u001b[0m\u001b[1;33m\u001b[0m\u001b[1;33m\u001b[0m\u001b[0m\n\u001b[0;32m      7\u001b[0m \u001b[0mb\u001b[0m \u001b[1;33m=\u001b[0m \u001b[1;33m[\u001b[0m\u001b[1;36m100\u001b[0m\u001b[1;33m,\u001b[0m\u001b[1;36m200\u001b[0m\u001b[1;33m,\u001b[0m\u001b[1;36m300\u001b[0m\u001b[1;33m,\u001b[0m\u001b[1;36m400\u001b[0m\u001b[1;33m]\u001b[0m\u001b[1;33m\u001b[0m\u001b[1;33m\u001b[0m\u001b[0m\n\u001b[1;32m----> 8\u001b[1;33m \u001b[0mfunc\u001b[0m\u001b[1;33m(\u001b[0m\u001b[0ma\u001b[0m\u001b[1;33m,\u001b[0m\u001b[0mb\u001b[0m\u001b[1;33m)\u001b[0m\u001b[1;33m\u001b[0m\u001b[1;33m\u001b[0m\u001b[0m\n\u001b[0m",
      "\u001b[1;31mTypeError\u001b[0m: func() takes 1 positional argument but 2 were given"
     ]
    }
   ],
   "source": [
    "def func(a): #Positional parameters\n",
    "    print(f\"a = {a} & b = {b}\")\n",
    "    print(f\"Type of a = {type(a)}\")\n",
    "    print(f\"Type of b = {type(b)}\")\n",
    "\n",
    "a = 50    #Postional Arguments\n",
    "b = [100,200,300,400]   \n",
    "func(a,b)"
   ]
  },
  {
   "cell_type": "code",
   "execution_count": 14,
   "id": "65a07eeb",
   "metadata": {},
   "outputs": [
    {
     "ename": "TypeError",
     "evalue": "func() missing 1 required positional argument: 'c'",
     "output_type": "error",
     "traceback": [
      "\u001b[1;31m---------------------------------------------------------------------------\u001b[0m",
      "\u001b[1;31mTypeError\u001b[0m                                 Traceback (most recent call last)",
      "\u001b[1;32m~\\AppData\\Local\\Temp/ipykernel_13984/1137412556.py\u001b[0m in \u001b[0;36m<module>\u001b[1;34m\u001b[0m\n\u001b[0;32m      6\u001b[0m \u001b[0ma\u001b[0m \u001b[1;33m=\u001b[0m \u001b[1;36m50\u001b[0m    \u001b[1;31m#Postional Arguments\u001b[0m\u001b[1;33m\u001b[0m\u001b[1;33m\u001b[0m\u001b[0m\n\u001b[0;32m      7\u001b[0m \u001b[0mb\u001b[0m \u001b[1;33m=\u001b[0m \u001b[1;33m[\u001b[0m\u001b[1;36m100\u001b[0m\u001b[1;33m,\u001b[0m\u001b[1;36m200\u001b[0m\u001b[1;33m,\u001b[0m\u001b[1;36m300\u001b[0m\u001b[1;33m,\u001b[0m\u001b[1;36m400\u001b[0m\u001b[1;33m]\u001b[0m\u001b[1;33m\u001b[0m\u001b[1;33m\u001b[0m\u001b[0m\n\u001b[1;32m----> 8\u001b[1;33m \u001b[0mfunc\u001b[0m\u001b[1;33m(\u001b[0m\u001b[0ma\u001b[0m\u001b[1;33m,\u001b[0m\u001b[0mb\u001b[0m\u001b[1;33m)\u001b[0m\u001b[1;33m\u001b[0m\u001b[1;33m\u001b[0m\u001b[0m\n\u001b[0m",
      "\u001b[1;31mTypeError\u001b[0m: func() missing 1 required positional argument: 'c'"
     ]
    }
   ],
   "source": [
    "def func(a,b,c): #Positional parameters\n",
    "    print(f\"a = {a} & b = {b}\")\n",
    "    print(f\"Type of a = {type(a)}\")\n",
    "    print(f\"Type of b = {type(b)}\")\n",
    "\n",
    "a = 50    #Postional Arguments\n",
    "b = [100,200,300,400]   \n",
    "func(a,b)"
   ]
  },
  {
   "cell_type": "code",
   "execution_count": 15,
   "id": "cb11ec21",
   "metadata": {},
   "outputs": [],
   "source": [
    "def addition(a,b):\n",
    "    return a+b"
   ]
  },
  {
   "cell_type": "code",
   "execution_count": 16,
   "id": "59a7df57",
   "metadata": {},
   "outputs": [
    {
     "data": {
      "text/plain": [
       "30"
      ]
     },
     "execution_count": 16,
     "metadata": {},
     "output_type": "execute_result"
    }
   ],
   "source": [
    "addition(10,20)"
   ]
  },
  {
   "cell_type": "code",
   "execution_count": 17,
   "id": "4c7d5fb0",
   "metadata": {},
   "outputs": [
    {
     "data": {
      "text/plain": [
       "200"
      ]
     },
     "execution_count": 17,
     "metadata": {},
     "output_type": "execute_result"
    }
   ],
   "source": [
    "addition(50,150)"
   ]
  },
  {
   "cell_type": "markdown",
   "id": "deee22f5",
   "metadata": {},
   "source": [
    "## 2.Default Argument / Parameter\n",
    "- AKS Keyword Argument\n",
    "- Keyword Argument must have to follow the positional arguments"
   ]
  },
  {
   "cell_type": "code",
   "execution_count": 18,
   "id": "7da0cb39",
   "metadata": {},
   "outputs": [
    {
     "data": {
      "text/plain": [
       "'akash.shetty@gmail.com'"
      ]
     },
     "execution_count": 18,
     "metadata": {},
     "output_type": "execute_result"
    }
   ],
   "source": [
    "def get_mailID(lname,fname):\n",
    "    return fname.lower() + \".\" + lname.lower() + \"@gmail.com\"\n",
    "\n",
    "get_mailID(\"Shetty\",\"Akash\")\n"
   ]
  },
  {
   "cell_type": "code",
   "execution_count": 20,
   "id": "829690c4",
   "metadata": {},
   "outputs": [
    {
     "data": {
      "text/plain": [
       "'akash.shetty@tcs.com'"
      ]
     },
     "execution_count": 20,
     "metadata": {},
     "output_type": "execute_result"
    }
   ],
   "source": [
    "def get_mailID(lname,fname,company_name):\n",
    "    return fname.lower() + \".\" + lname.lower() + \"@\" + company_name + \".com\" \n",
    "\n",
    "get_mailID(\"Shetty\",\"Akash\",\"tcs\")\n"
   ]
  },
  {
   "cell_type": "code",
   "execution_count": 23,
   "id": "9323d061",
   "metadata": {},
   "outputs": [
    {
     "data": {
      "text/plain": [
       "'akash.shetty@tcs.com'"
      ]
     },
     "execution_count": 23,
     "metadata": {},
     "output_type": "execute_result"
    }
   ],
   "source": [
    "def get_mailID(lname,fname,company_name = \"tcs\"): #default parameter\n",
    "    return fname.lower() + \".\" + lname.lower() + \"@\" + company_name + \".com\" \n",
    "\n",
    "get_mailID(\"Shetty\",\"Akash\")\n"
   ]
  },
  {
   "cell_type": "code",
   "execution_count": 25,
   "id": "a6d8e5f1",
   "metadata": {},
   "outputs": [
    {
     "data": {
      "text/plain": [
       "'seema.sawant@tcs.com'"
      ]
     },
     "execution_count": 25,
     "metadata": {},
     "output_type": "execute_result"
    }
   ],
   "source": [
    "def get_mailID(fname,lname,company_name = \"tcs\"): \n",
    "    return fname.lower() + \".\" + lname.lower() + \"@\" + company_name + \".com\" \n",
    "\n",
    "get_mailID(\"Seema\",\"Sawant\")\n"
   ]
  },
  {
   "cell_type": "code",
   "execution_count": 26,
   "id": "19d19286",
   "metadata": {},
   "outputs": [
    {
     "data": {
      "text/plain": [
       "'seema.sawant@infosys.com'"
      ]
     },
     "execution_count": 26,
     "metadata": {},
     "output_type": "execute_result"
    }
   ],
   "source": [
    "def get_mailID(fname,lname,company_name = \"tcs\"): \n",
    "    return fname.lower() + \".\" + lname.lower() + \"@\" + company_name + \".com\" \n",
    "\n",
    "get_mailID(\"Seema\",\"Sawant\",\"infosys\")\n"
   ]
  },
  {
   "cell_type": "code",
   "execution_count": 28,
   "id": "04e62617",
   "metadata": {},
   "outputs": [
    {
     "data": {
      "text/plain": [
       "'seema.sawant@tata.com'"
      ]
     },
     "execution_count": 28,
     "metadata": {},
     "output_type": "execute_result"
    }
   ],
   "source": [
    "def get_mailID(fname,lname,company_name = \"tcs\"):\n",
    "    return fname.lower() + \".\" + lname.lower() + \"@\" + company_name.lower() + \".com\" \n",
    "\n",
    "get_mailID(\"Seema\",\"Sawant\",\"Tata\")\n"
   ]
  },
  {
   "cell_type": "code",
   "execution_count": 30,
   "id": "6671cc69",
   "metadata": {},
   "outputs": [
    {
     "data": {
      "text/plain": [
       "'seema.sawant@tata.com'"
      ]
     },
     "execution_count": 30,
     "metadata": {},
     "output_type": "execute_result"
    }
   ],
   "source": [
    "def get_mailID(fname=\"Employee_fname\",lname=\"Employee_lname\",company_name = \"tcs\"): #default parameter\n",
    "    return fname.lower() + \".\" + lname.lower() + \"@\" + company_name.lower() + \".com\" \n",
    "\n",
    "get_mailID(\"Seema\",\"Sawant\",\"Tata\")"
   ]
  },
  {
   "cell_type": "code",
   "execution_count": 31,
   "id": "bb49421b",
   "metadata": {},
   "outputs": [
    {
     "data": {
      "text/plain": [
       "'employee_fname.employee_lname@tcs.com'"
      ]
     },
     "execution_count": 31,
     "metadata": {},
     "output_type": "execute_result"
    }
   ],
   "source": [
    "def get_mailID(fname=\"Employee_fname\",lname=\"Employee_lname\",company_name = \"tcs\"): #default parameter\n",
    "    return fname.lower() + \".\" + lname.lower() + \"@\" + company_name.lower() + \".com\" \n",
    "\n",
    "get_mailID()"
   ]
  },
  {
   "cell_type": "code",
   "execution_count": 32,
   "id": "af86c6b2",
   "metadata": {},
   "outputs": [
    {
     "data": {
      "text/plain": [
       "'jagdish.employee_lname@tcs.com'"
      ]
     },
     "execution_count": 32,
     "metadata": {},
     "output_type": "execute_result"
    }
   ],
   "source": [
    "def get_mailID(fname=\"Employee_fname\",lname=\"Employee_lname\",company_name = \"tcs\"): #default parameter\n",
    "    return fname.lower() + \".\" + lname.lower() + \"@\" + company_name.lower() + \".com\" \n",
    "\n",
    "get_mailID(\"Jagdish\")"
   ]
  },
  {
   "cell_type": "code",
   "execution_count": 33,
   "id": "28573495",
   "metadata": {},
   "outputs": [
    {
     "ename": "SyntaxError",
     "evalue": "non-default argument follows default argument (Temp/ipykernel_13984/1737392560.py, line 1)",
     "output_type": "error",
     "traceback": [
      "\u001b[1;36m  File \u001b[1;32m\"C:\\Users\\Mohit\\AppData\\Local\\Temp/ipykernel_13984/1737392560.py\"\u001b[1;36m, line \u001b[1;32m1\u001b[0m\n\u001b[1;33m    def get_mailID(fname=\"Employee_fname\",lname=\"Employee_lname\",company_name = \"tcs\",location): #default parameter\u001b[0m\n\u001b[1;37m                                                                                              ^\u001b[0m\n\u001b[1;31mSyntaxError\u001b[0m\u001b[1;31m:\u001b[0m non-default argument follows default argument\n"
     ]
    }
   ],
   "source": [
    "def get_mailID(fname=\"Employee_fname\",lname=\"Employee_lname\",company_name = \"tcs\",location): #default parameter\n",
    "    return fname.lower() + \".\" + lname.lower() + \"@\" + company_name.lower() + \".com\" \n",
    "\n",
    "get_mailID(\"Jagdish\",\"Pune\")"
   ]
  },
  {
   "cell_type": "code",
   "execution_count": 37,
   "id": "6635eec9",
   "metadata": {},
   "outputs": [
    {
     "name": "stdout",
     "output_type": "stream",
     "text": [
      "The job location is Pune\n"
     ]
    },
    {
     "data": {
      "text/plain": [
       "'jagdish.employee_lname@tcs.com'"
      ]
     },
     "execution_count": 37,
     "metadata": {},
     "output_type": "execute_result"
    }
   ],
   "source": [
    "def get_mailID(location,fname=\"Employee_fname\",lname=\"Employee_lname\",company_name = \"tcs\"): #default parameter\n",
    "    print(f\"The job location is {location}\")\n",
    "    return fname.lower() + \".\" + lname.lower() + \"@\" + company_name.lower() + \".com\" \n",
    "\n",
    "get_mailID(\"Pune\",\"Jagdish\")"
   ]
  },
  {
   "cell_type": "code",
   "execution_count": 39,
   "id": "0f23a78d",
   "metadata": {},
   "outputs": [
    {
     "name": "stdout",
     "output_type": "stream",
     "text": [
      "The job location is Mumbai\n"
     ]
    },
    {
     "data": {
      "text/plain": [
       "'jagdish.employee_lname@tcs.com'"
      ]
     },
     "execution_count": 39,
     "metadata": {},
     "output_type": "execute_result"
    }
   ],
   "source": [
    "def get_mailID(location,fname=\"Employee_fname\",lname=\"Employee_lname\",company_name = \"tcs\"): #default parameter\n",
    "    print(f\"The job location is {location}\")\n",
    "    return fname.lower() + \".\" + lname.lower() + \"@\" + company_name.lower() + \".com\" \n",
    "\n",
    "get_mailID(\"Mumbai\",\"Jagdish\")"
   ]
  },
  {
   "cell_type": "code",
   "execution_count": 40,
   "id": "6ef1b551",
   "metadata": {},
   "outputs": [
    {
     "name": "stdout",
     "output_type": "stream",
     "text": [
      "The job location is Mumbai\n"
     ]
    },
    {
     "data": {
      "text/plain": [
       "'1400000.jagdish@tcs.com'"
      ]
     },
     "execution_count": 40,
     "metadata": {},
     "output_type": "execute_result"
    }
   ],
   "source": [
    "def get_mailID(location,fname=\"Employee_fname\",lname=\"Employee_lname\",company_name = \"tcs\"): #default parameter\n",
    "    print(f\"The job location is {location}\")\n",
    "    return fname.lower() + \".\" + lname.lower() + \"@\" + company_name.lower() + \".com\" \n",
    "\n",
    "get_mailID(\"Mumbai\",\"1400000\",\"Jagdish\")"
   ]
  },
  {
   "cell_type": "code",
   "execution_count": 43,
   "id": "ce8f4ef7",
   "metadata": {},
   "outputs": [
    {
     "name": "stdout",
     "output_type": "stream",
     "text": [
      "The job location is Mumbai\n",
      "The salary = 1400000\n"
     ]
    },
    {
     "data": {
      "text/plain": [
       "'jagdish.kavale@tcs.com'"
      ]
     },
     "execution_count": 43,
     "metadata": {},
     "output_type": "execute_result"
    }
   ],
   "source": [
    "def get_mailID(location,salary,fname=\"Employee_fname\",lname=\"Employee_lname\",company_name = \"tcs\"): #default parameter\n",
    "    print(f\"The job location is {location}\")\n",
    "    print(f\"The salary = {salary}\")\n",
    "    return fname.lower() + \".\" + lname.lower() + \"@\" + company_name.lower() + \".com\" \n",
    "\n",
    "get_mailID(\"Mumbai\",\"1400000\",\"Jagdish\",\"Kavale\")"
   ]
  },
  {
   "cell_type": "code",
   "execution_count": 45,
   "id": "1923c539",
   "metadata": {},
   "outputs": [
    {
     "name": "stdout",
     "output_type": "stream",
     "text": [
      "The job location is Mumbai\n",
      "The salary = 1400000\n"
     ]
    },
    {
     "data": {
      "text/plain": [
       "'kavale.jagdish@tcs.com'"
      ]
     },
     "execution_count": 45,
     "metadata": {},
     "output_type": "execute_result"
    }
   ],
   "source": [
    "def get_mailID(location,salary,fname=\"Employee_fname\",lname=\"Employee_lname\",company_name = \"tcs\"): #default parameter\n",
    "    print(f\"The job location is {location}\")\n",
    "    print(f\"The salary = {salary}\")\n",
    "    return fname.lower() + \".\" + lname.lower() + \"@\" + company_name.lower() + \".com\" \n",
    "\n",
    "get_mailID(\"Mumbai\",\"1400000\",\"Kavale\",\"Jagdish\")"
   ]
  },
  {
   "cell_type": "code",
   "execution_count": 46,
   "id": "d65908c9",
   "metadata": {},
   "outputs": [
    {
     "name": "stdout",
     "output_type": "stream",
     "text": [
      "The job location is Mumbai\n",
      "The salary = 1400000\n"
     ]
    },
    {
     "data": {
      "text/plain": [
       "'jagdish.kavale@tcs.com'"
      ]
     },
     "execution_count": 46,
     "metadata": {},
     "output_type": "execute_result"
    }
   ],
   "source": [
    "def get_mailID(location,salary,fname=\"Employee_fname\",lname=\"Employee_lname\",company_name = \"tcs\"): #default parameter\n",
    "    print(f\"The job location is {location}\")\n",
    "    print(f\"The salary = {salary}\")\n",
    "    return fname.lower() + \".\" + lname.lower() + \"@\" + company_name.lower() + \".com\" \n",
    "\n",
    "get_mailID(location = \"Mumbai\",salary = \"1400000\",lname = \"Kavale\",fname = \"Jagdish\")"
   ]
  },
  {
   "cell_type": "code",
   "execution_count": 48,
   "id": "93301085",
   "metadata": {},
   "outputs": [
    {
     "name": "stdout",
     "output_type": "stream",
     "text": [
      "The job location is Mumbai\n",
      "The salary = 1400000\n"
     ]
    },
    {
     "data": {
      "text/plain": [
       "'kavale.jagdish@tcs.com'"
      ]
     },
     "execution_count": 48,
     "metadata": {},
     "output_type": "execute_result"
    }
   ],
   "source": [
    "def get_mailID(location,salary,fname=\"Employee_fname\",lname=\"Employee_lname\",company_name = \"tcs\"): #default parameter\n",
    "    print(f\"The job location is {location}\")\n",
    "    print(f\"The salary = {salary}\")\n",
    "    return fname.lower() + \".\" + lname.lower() + \"@\" + company_name.lower() + \".com\" \n",
    "\n",
    "location = \"Mumbai\"\n",
    "salary = \"1400000\"\n",
    "lname = \"Kavale\"\n",
    "fname = \"Jagdish\"\n",
    "\n",
    "get_mailID(location,salary,lname,fname)"
   ]
  },
  {
   "cell_type": "code",
   "execution_count": 49,
   "id": "e92c6b85",
   "metadata": {},
   "outputs": [
    {
     "name": "stdout",
     "output_type": "stream",
     "text": [
      "The job location is Mumbai\n",
      "The salary = 1400000\n"
     ]
    },
    {
     "data": {
      "text/plain": [
       "'jagdish.kavale@tcs.com'"
      ]
     },
     "execution_count": 49,
     "metadata": {},
     "output_type": "execute_result"
    }
   ],
   "source": [
    "def get_mailID(location,salary,fname=\"Employee_fname\",lname=\"Employee_lname\",company_name = \"tcs\"): #default parameter\n",
    "    print(f\"The job location is {location}\")\n",
    "    print(f\"The salary = {salary}\")\n",
    "    return fname.lower() + \".\" + lname.lower() + \"@\" + company_name.lower() + \".com\" \n",
    "\n",
    "location = \"Mumbai\"\n",
    "salary = \"1400000\"\n",
    "lname = \"Kavale\"\n",
    "fname = \"Jagdish\"\n",
    "\n",
    "get_mailID(location,salary,lname = \"kavale\",fname = \"Jagdish\")"
   ]
  },
  {
   "cell_type": "code",
   "execution_count": 50,
   "id": "fd93f4c2",
   "metadata": {},
   "outputs": [],
   "source": [
    "def func(a,b = 100):\n",
    "    print(f\"a = {a} & b = {b}\")"
   ]
  },
  {
   "cell_type": "code",
   "execution_count": 52,
   "id": "c78699e1",
   "metadata": {},
   "outputs": [
    {
     "name": "stdout",
     "output_type": "stream",
     "text": [
      "a = 10 & b = 100\n"
     ]
    }
   ],
   "source": [
    "func(10)"
   ]
  },
  {
   "cell_type": "code",
   "execution_count": 51,
   "id": "b326ab9a",
   "metadata": {},
   "outputs": [
    {
     "name": "stdout",
     "output_type": "stream",
     "text": [
      "a = 1 & b = 2\n"
     ]
    }
   ],
   "source": [
    "func(1,2)"
   ]
  },
  {
   "cell_type": "code",
   "execution_count": 53,
   "id": "437e6ec0",
   "metadata": {},
   "outputs": [
    {
     "name": "stdout",
     "output_type": "stream",
     "text": [
      "a = 1 & b = 2\n"
     ]
    }
   ],
   "source": [
    "func(b=2,a=1)"
   ]
  },
  {
   "cell_type": "code",
   "execution_count": 55,
   "id": "5d2c8614",
   "metadata": {},
   "outputs": [
    {
     "name": "stdout",
     "output_type": "stream",
     "text": [
      "This is a dummy function\n"
     ]
    }
   ],
   "source": [
    "def dummy():\n",
    "    print(\"This is a dummy function\")\n",
    "dummy()"
   ]
  },
  {
   "cell_type": "markdown",
   "id": "ad911fbd",
   "metadata": {},
   "source": [
    "## 3.Arbitrary Argument\n",
    "- variable length arguments\n",
    "- *args = *arguments (args & arguments are nothing but variable names)\n",
    "- when we dont know the number of arguments to be passed \n",
    "- type(*args) = tuple"
   ]
  },
  {
   "cell_type": "code",
   "execution_count": 56,
   "id": "07ac919c",
   "metadata": {},
   "outputs": [
    {
     "name": "stdout",
     "output_type": "stream",
     "text": [
      "a = 1, b = 2, c = 3\n"
     ]
    },
    {
     "data": {
      "text/plain": [
       "6"
      ]
     },
     "execution_count": 56,
     "metadata": {},
     "output_type": "execute_result"
    }
   ],
   "source": [
    "def multiplication(a,b,c):\n",
    "    print(f\"a = {a}, b = {b}, c = {c}\")\n",
    "    return a*b*c\n",
    "multiplication(1,2,3)"
   ]
  },
  {
   "cell_type": "code",
   "execution_count": 62,
   "id": "9e5b1401",
   "metadata": {},
   "outputs": [
    {
     "name": "stdout",
     "output_type": "stream",
     "text": [
      "a = 1, b = (2, 3)\n"
     ]
    },
    {
     "data": {
      "text/plain": [
       "(2, 3)"
      ]
     },
     "execution_count": 62,
     "metadata": {},
     "output_type": "execute_result"
    }
   ],
   "source": [
    "def multiplication(a,*b):\n",
    "    print(f\"a = {a}, b = {b}\")\n",
    "    return a*b\n",
    "multiplication(1,2,3)"
   ]
  },
  {
   "cell_type": "code",
   "execution_count": 64,
   "id": "52dd15bf",
   "metadata": {},
   "outputs": [
    {
     "data": {
      "text/plain": [
       "(2, 2, 2, 2, 2, 2)"
      ]
     },
     "execution_count": 64,
     "metadata": {},
     "output_type": "execute_result"
    }
   ],
   "source": [
    "(2,2)*3"
   ]
  },
  {
   "cell_type": "code",
   "execution_count": 65,
   "id": "3d9ac85c",
   "metadata": {},
   "outputs": [
    {
     "name": "stdout",
     "output_type": "stream",
     "text": [
      "a = 1, b = (2, 3, 4, 5, 6, 7, 8, 9, 10)\n"
     ]
    },
    {
     "data": {
      "text/plain": [
       "(2, 3, 4, 5, 6, 7, 8, 9, 10)"
      ]
     },
     "execution_count": 65,
     "metadata": {},
     "output_type": "execute_result"
    }
   ],
   "source": [
    "def multiplication(a,*b):\n",
    "    print(f\"a = {a}, b = {b}\")\n",
    "    return a*b\n",
    "multiplication(1,2,3,4,5,6,7,8,9,10)"
   ]
  },
  {
   "cell_type": "code",
   "execution_count": 68,
   "id": "9f3be9be",
   "metadata": {},
   "outputs": [
    {
     "name": "stdout",
     "output_type": "stream",
     "text": [
      "b = (1, 2, 3, 4, 5)\n"
     ]
    },
    {
     "data": {
      "text/plain": [
       "120"
      ]
     },
     "execution_count": 68,
     "metadata": {},
     "output_type": "execute_result"
    }
   ],
   "source": [
    "def multiplication(*b):\n",
    "    print(f\"b = {b}\")\n",
    "    mul = 1\n",
    "    for i in b:\n",
    "        mul *= i\n",
    "    return mul\n",
    "multiplication(1,2,3,4,5)"
   ]
  },
  {
   "cell_type": "code",
   "execution_count": 71,
   "id": "6afe90e2",
   "metadata": {},
   "outputs": [
    {
     "name": "stdout",
     "output_type": "stream",
     "text": [
      "b = (1, 2, 3, 4, 5) & type of b = <class 'tuple'>\n"
     ]
    },
    {
     "data": {
      "text/plain": [
       "120"
      ]
     },
     "execution_count": 71,
     "metadata": {},
     "output_type": "execute_result"
    }
   ],
   "source": [
    "def multiplication(*b):\n",
    "    print(f\"b = {b} & type of b = {type(b)}\")\n",
    "    mul = 1\n",
    "    for i in b:\n",
    "        mul *= i\n",
    "    return mul\n",
    "\n",
    "multiplication(1,2,3,4,5)"
   ]
  },
  {
   "cell_type": "code",
   "execution_count": 77,
   "id": "dff3364a",
   "metadata": {},
   "outputs": [
    {
     "name": "stdout",
     "output_type": "stream",
     "text": [
      "args = (1, 2, 3, 4, 5) & type of args = <class 'tuple'>\n"
     ]
    },
    {
     "data": {
      "text/plain": [
       "120"
      ]
     },
     "execution_count": 77,
     "metadata": {},
     "output_type": "execute_result"
    }
   ],
   "source": [
    "def multiplication(*args):\n",
    "    print(f\"args = {args} & type of args = {type(args)}\")\n",
    "    mul = 1\n",
    "    for i in args:\n",
    "        mul *= i\n",
    "    return mul\n",
    "\n",
    "multiplication(1,2,3,4,5)"
   ]
  },
  {
   "cell_type": "code",
   "execution_count": 76,
   "id": "546f2691",
   "metadata": {},
   "outputs": [
    {
     "name": "stdout",
     "output_type": "stream",
     "text": [
      "args = (5,) & type of args = <class 'tuple'>\n"
     ]
    },
    {
     "data": {
      "text/plain": [
       "5"
      ]
     },
     "execution_count": 76,
     "metadata": {},
     "output_type": "execute_result"
    }
   ],
   "source": [
    "def multiplication(*args):\n",
    "    print(f\"args = {args} & type of args = {type(args)}\")\n",
    "    mul = 1\n",
    "    for i in args:\n",
    "        mul *= i\n",
    "    return mul\n",
    "\n",
    "multiplication(5)"
   ]
  },
  {
   "cell_type": "code",
   "execution_count": 78,
   "id": "28adc436",
   "metadata": {},
   "outputs": [
    {
     "name": "stdout",
     "output_type": "stream",
     "text": [
      "args = (6,) & type of args = <class 'tuple'>\n"
     ]
    },
    {
     "data": {
      "text/plain": [
       "6"
      ]
     },
     "execution_count": 78,
     "metadata": {},
     "output_type": "execute_result"
    }
   ],
   "source": [
    "def multiplication(a,*args):\n",
    "    print(f\"args = {args} & type of args = {type(args)}\")\n",
    "    mul = 1\n",
    "    for i in args:\n",
    "        mul *= i\n",
    "    return mul\n",
    "\n",
    "multiplication(5,6)"
   ]
  },
  {
   "cell_type": "code",
   "execution_count": 79,
   "id": "c34221f9",
   "metadata": {},
   "outputs": [
    {
     "data": {
      "text/plain": [
       "(5,)"
      ]
     },
     "execution_count": 79,
     "metadata": {},
     "output_type": "execute_result"
    }
   ],
   "source": [
    "a = 5,\n",
    "a"
   ]
  },
  {
   "cell_type": "code",
   "execution_count": 88,
   "id": "6c08e836",
   "metadata": {},
   "outputs": [],
   "source": [
    "def check_args_type(a,b,*c):\n",
    "    print(f\"a = {a} & Type = {type(a)}\")\n",
    "    print(f\"b = {b} & Type = {type(b)}\")\n",
    "    print(f\"c = {c} & Type = {type(c)}\")"
   ]
  },
  {
   "cell_type": "code",
   "execution_count": 89,
   "id": "d7044f66",
   "metadata": {},
   "outputs": [
    {
     "name": "stdout",
     "output_type": "stream",
     "text": [
      "a = 1 & Type = <class 'int'>\n",
      "b = 2 & Type = <class 'int'>\n",
      "c = (3, 4, 5, 6) & Type = <class 'tuple'>\n"
     ]
    }
   ],
   "source": [
    "check_args_type(1,2,3,4,5,6)"
   ]
  },
  {
   "cell_type": "code",
   "execution_count": 93,
   "id": "8378dcb6",
   "metadata": {},
   "outputs": [],
   "source": [
    "def check_args_type(a,b,z=[1,2,3,4,5],*c):\n",
    "    print(f\"a = {a} & Type = {type(a)}\")\n",
    "    print(f\"b = {b} & Type = {type(b)}\")\n",
    "    print(f\"c = {c} & Type = {type(c)}\")\n",
    "    print(f\"z = {z} & Type = {type(z)}\")"
   ]
  },
  {
   "cell_type": "code",
   "execution_count": 94,
   "id": "d10a2f04",
   "metadata": {},
   "outputs": [
    {
     "name": "stdout",
     "output_type": "stream",
     "text": [
      "a = 1 & Type = <class 'int'>\n",
      "b = 2 & Type = <class 'int'>\n",
      "c = (4, 5, 6) & Type = <class 'tuple'>\n",
      "z = 3 & Type = <class 'int'>\n"
     ]
    }
   ],
   "source": [
    "check_args_type(1,2,3,4,5,6)"
   ]
  },
  {
   "cell_type": "code",
   "execution_count": 97,
   "id": "2f7eb481",
   "metadata": {},
   "outputs": [
    {
     "name": "stdout",
     "output_type": "stream",
     "text": [
      "a = 1 & Type = <class 'int'>\n",
      "b = 2 & Type = <class 'int'>\n",
      "c = (3, 4, 5, 6) & Type = <class 'tuple'>\n",
      "z = [1, 2, 3, 4, 5] & Type = <class 'list'>\n"
     ]
    }
   ],
   "source": [
    "def check_args_type(a,b,*c,z=[1,2,3,4,5]):\n",
    "    print(f\"a = {a} & Type = {type(a)}\")\n",
    "    print(f\"b = {b} & Type = {type(b)}\")\n",
    "    print(f\"c = {c} & Type = {type(c)}\")\n",
    "    print(f\"z = {z} & Type = {type(z)}\")\n",
    "    \n",
    "check_args_type(1,2,3,4,5,6)"
   ]
  },
  {
   "cell_type": "code",
   "execution_count": 98,
   "id": "7094e686",
   "metadata": {},
   "outputs": [
    {
     "ename": "SyntaxError",
     "evalue": "non-default argument follows default argument (Temp/ipykernel_13984/3066895408.py, line 1)",
     "output_type": "error",
     "traceback": [
      "\u001b[1;36m  File \u001b[1;32m\"C:\\Users\\Mohit\\AppData\\Local\\Temp/ipykernel_13984/3066895408.py\"\u001b[1;36m, line \u001b[1;32m1\u001b[0m\n\u001b[1;33m    def check_args_type(a,z=[1,2,3,4,5],b,*c):\u001b[0m\n\u001b[1;37m                                          ^\u001b[0m\n\u001b[1;31mSyntaxError\u001b[0m\u001b[1;31m:\u001b[0m non-default argument follows default argument\n"
     ]
    }
   ],
   "source": [
    "def check_args_type(a,z=[1,2,3,4,5],b,*c):\n",
    "    print(f\"a = {a} & Type = {type(a)}\")\n",
    "    print(f\"b = {b} & Type = {type(b)}\")\n",
    "    print(f\"c = {c} & Type = {type(c)}\")\n",
    "    print(f\"z = {z} & Type = {type(z)}\")\n",
    "    \n",
    "check_args_type(1,2,3,4,5,6)"
   ]
  },
  {
   "cell_type": "code",
   "execution_count": 101,
   "id": "e6bde17c",
   "metadata": {},
   "outputs": [
    {
     "name": "stdout",
     "output_type": "stream",
     "text": [
      "a = 1 & Type = <class 'int'>\n",
      "b = 2 & Type = <class 'int'>\n",
      "x = Python & Type = <class 'str'>\n",
      "y = DS & Type = <class 'str'>\n",
      "args = (3, 4, 5, 6) & Type = <class 'tuple'>\n"
     ]
    },
    {
     "data": {
      "text/plain": [
       "360"
      ]
     },
     "execution_count": 101,
     "metadata": {},
     "output_type": "execute_result"
    }
   ],
   "source": [
    "def multiplication(a,b,*args,x = \"Python\", y = \"DS\"):\n",
    "    print(f\"a = {a} & Type = {type(a)}\")\n",
    "    print(f\"b = {b} & Type = {type(b)}\")\n",
    "    print(f\"x = {x} & Type = {type(x)}\")\n",
    "    print(f\"y = {y} & Type = {type(y)}\")\n",
    "    print(f\"args = {args} & Type = {type(args)}\")\n",
    "    mul = 1\n",
    "    for i in args:\n",
    "        mul *= i\n",
    "    return mul\n",
    "\n",
    "multiplication(1,2,3,4,5,6)"
   ]
  },
  {
   "cell_type": "code",
   "execution_count": 102,
   "id": "c113184f",
   "metadata": {},
   "outputs": [
    {
     "name": "stdout",
     "output_type": "stream",
     "text": [
      "a = 1 & Type = <class 'int'>\n",
      "b = 2 & Type = <class 'int'>\n",
      "x = R & Type = <class 'str'>\n",
      "y = ML & Type = <class 'str'>\n",
      "args = (3, 4, 5, 6) & Type = <class 'tuple'>\n"
     ]
    },
    {
     "data": {
      "text/plain": [
       "360"
      ]
     },
     "execution_count": 102,
     "metadata": {},
     "output_type": "execute_result"
    }
   ],
   "source": [
    "def multiplication(a,b,*args,x = \"Python\", y = \"DS\"):\n",
    "    print(f\"a = {a} & Type = {type(a)}\")\n",
    "    print(f\"b = {b} & Type = {type(b)}\")\n",
    "    print(f\"x = {x} & Type = {type(x)}\")\n",
    "    print(f\"y = {y} & Type = {type(y)}\")\n",
    "    print(f\"args = {args} & Type = {type(args)}\")\n",
    "    mul = 1\n",
    "    for i in args:\n",
    "        mul *= i\n",
    "    return mul\n",
    "\n",
    "multiplication(1,2,3,4,5,6,x=\"R\",y=\"ML\")"
   ]
  },
  {
   "cell_type": "code",
   "execution_count": 103,
   "id": "7eef1c93",
   "metadata": {},
   "outputs": [
    {
     "ename": "SyntaxError",
     "evalue": "positional argument follows keyword argument (Temp/ipykernel_13984/3696783892.py, line 12)",
     "output_type": "error",
     "traceback": [
      "\u001b[1;36m  File \u001b[1;32m\"C:\\Users\\Mohit\\AppData\\Local\\Temp/ipykernel_13984/3696783892.py\"\u001b[1;36m, line \u001b[1;32m12\u001b[0m\n\u001b[1;33m    multiplication(1,2,x=\"R\",y=\"ML\",3,4,5,6)\u001b[0m\n\u001b[1;37m                                           ^\u001b[0m\n\u001b[1;31mSyntaxError\u001b[0m\u001b[1;31m:\u001b[0m positional argument follows keyword argument\n"
     ]
    }
   ],
   "source": [
    "def multiplication(a,b,*args,x = \"Python\", y = \"DS\"):\n",
    "    print(f\"a = {a} & Type = {type(a)}\")\n",
    "    print(f\"b = {b} & Type = {type(b)}\")\n",
    "    print(f\"x = {x} & Type = {type(x)}\")\n",
    "    print(f\"y = {y} & Type = {type(y)}\")\n",
    "    print(f\"args = {args} & Type = {type(args)}\")\n",
    "    mul = 1\n",
    "    for i in args:\n",
    "        mul *= i\n",
    "    return mul\n",
    "\n",
    "multiplication(1,2,x=\"R\",y=\"ML\",3,4,5,6)"
   ]
  },
  {
   "cell_type": "markdown",
   "id": "80aad36f",
   "metadata": {},
   "source": [
    "## 4.Arbitrary Keyword Arguments\n",
    "- *kwrgs = *keyword arguments (kwargs is nothing but variable name)\n",
    "- When we dont know the number of default arguments to be passed \n",
    "- type(kwrgs) = Dict "
   ]
  },
  {
   "cell_type": "code",
   "execution_count": 106,
   "id": "c184080e",
   "metadata": {},
   "outputs": [
    {
     "name": "stdout",
     "output_type": "stream",
     "text": [
      "a = 1, b = 2, c = 3\n"
     ]
    }
   ],
   "source": [
    "def dummy(a,b,c):\n",
    "    print(f\"a = {a}, b = {b}, c = {c}\")\n",
    "    \n",
    "dummy(a = 1,b = 2,c = 3)"
   ]
  },
  {
   "cell_type": "code",
   "execution_count": 107,
   "id": "17475d51",
   "metadata": {},
   "outputs": [
    {
     "name": "stdout",
     "output_type": "stream",
     "text": [
      "a = 1, b = 2, c = 3\n"
     ]
    }
   ],
   "source": [
    "def dummy(a,b,c):\n",
    "    print(f\"a = {a}, b = {b}, c = {c}\")\n",
    "    \n",
    "dummy(b = 2,c = 3,a = 1)"
   ]
  },
  {
   "cell_type": "code",
   "execution_count": 108,
   "id": "e6cd7265",
   "metadata": {},
   "outputs": [
    {
     "ename": "TypeError",
     "evalue": "dummy() got an unexpected keyword argument 'd'",
     "output_type": "error",
     "traceback": [
      "\u001b[1;31m---------------------------------------------------------------------------\u001b[0m",
      "\u001b[1;31mTypeError\u001b[0m                                 Traceback (most recent call last)",
      "\u001b[1;32m~\\AppData\\Local\\Temp/ipykernel_13984/2511554100.py\u001b[0m in \u001b[0;36m<module>\u001b[1;34m\u001b[0m\n\u001b[0;32m      2\u001b[0m     \u001b[0mprint\u001b[0m\u001b[1;33m(\u001b[0m\u001b[1;34mf\"a = {a}, b = {b}, c = {c}\"\u001b[0m\u001b[1;33m)\u001b[0m\u001b[1;33m\u001b[0m\u001b[1;33m\u001b[0m\u001b[0m\n\u001b[0;32m      3\u001b[0m \u001b[1;33m\u001b[0m\u001b[0m\n\u001b[1;32m----> 4\u001b[1;33m \u001b[0mdummy\u001b[0m\u001b[1;33m(\u001b[0m\u001b[0mb\u001b[0m \u001b[1;33m=\u001b[0m \u001b[1;36m2\u001b[0m\u001b[1;33m,\u001b[0m\u001b[0mc\u001b[0m \u001b[1;33m=\u001b[0m \u001b[1;36m3\u001b[0m\u001b[1;33m,\u001b[0m\u001b[0ma\u001b[0m \u001b[1;33m=\u001b[0m \u001b[1;36m1\u001b[0m\u001b[1;33m,\u001b[0m\u001b[0md\u001b[0m \u001b[1;33m=\u001b[0m \u001b[1;36m4\u001b[0m\u001b[1;33m,\u001b[0m \u001b[0me\u001b[0m \u001b[1;33m=\u001b[0m \u001b[1;36m5\u001b[0m\u001b[1;33m)\u001b[0m\u001b[1;33m\u001b[0m\u001b[1;33m\u001b[0m\u001b[0m\n\u001b[0m",
      "\u001b[1;31mTypeError\u001b[0m: dummy() got an unexpected keyword argument 'd'"
     ]
    }
   ],
   "source": [
    "def dummy(a,b,c):\n",
    "    print(f\"a = {a}, b = {b}, c = {c}\")\n",
    "    \n",
    "dummy(b = 2,c = 3,a = 1,d = 4, e = 5)"
   ]
  },
  {
   "cell_type": "code",
   "execution_count": 117,
   "id": "bed80756",
   "metadata": {},
   "outputs": [
    {
     "name": "stdout",
     "output_type": "stream",
     "text": [
      "a = 1, b = 2, c = 3\n",
      "kwargs = {'d': 4, 'e': 5}\n"
     ]
    }
   ],
   "source": [
    "def dummy(a,b,c,**kwargs):\n",
    "    print(f\"a = {a}, b = {b}, c = {c}\")\n",
    "    print(f\"kwargs = {kwargs}\")\n",
    "    \n",
    "dummy(b = 2,c = 3,a = 1,d = 4 , e = 5)"
   ]
  },
  {
   "cell_type": "code",
   "execution_count": 118,
   "id": "b34f9a14",
   "metadata": {},
   "outputs": [
    {
     "name": "stdout",
     "output_type": "stream",
     "text": [
      "a = 1\n",
      "kwargs = {'b': 2, 'c': 3, 'd': 4, 'e': 5}\n"
     ]
    }
   ],
   "source": [
    "def dummy(a,**kwargs):\n",
    "    print(f\"a = {a}\")\n",
    "    print(f\"kwargs = {kwargs}\")\n",
    "    \n",
    "dummy(b = 2,c = 3,a = 1,d = 4 , e = 5)"
   ]
  },
  {
   "cell_type": "code",
   "execution_count": 121,
   "id": "67c9f55a",
   "metadata": {},
   "outputs": [
    {
     "name": "stdout",
     "output_type": "stream",
     "text": [
      "kwargs = {'b': 2, 'c': 3, 'a': 1, 'd': 4, 'e': 5}\n"
     ]
    },
    {
     "data": {
      "text/plain": [
       "{'b': 2, 'c': 3, 'a': 1, 'd': 4, 'e': 5}"
      ]
     },
     "execution_count": 121,
     "metadata": {},
     "output_type": "execute_result"
    }
   ],
   "source": [
    "def dummy(**kwargs):\n",
    "    print(f\"kwargs = {kwargs}\")\n",
    "    return kwargs\n",
    "    \n",
    "dict1 = dummy(b = 2,c = 3,a = 1,d = 4 , e = 5)\n",
    "dict1"
   ]
  },
  {
   "cell_type": "code",
   "execution_count": 122,
   "id": "ff4da86b",
   "metadata": {},
   "outputs": [
    {
     "data": {
      "text/plain": [
       "2"
      ]
     },
     "execution_count": 122,
     "metadata": {},
     "output_type": "execute_result"
    }
   ],
   "source": [
    "dict1[\"b\"]"
   ]
  },
  {
   "cell_type": "code",
   "execution_count": 124,
   "id": "c4ae51b9",
   "metadata": {},
   "outputs": [
    {
     "data": {
      "text/plain": [
       "dict_keys(['b', 'c', 'a', 'd', 'e'])"
      ]
     },
     "execution_count": 124,
     "metadata": {},
     "output_type": "execute_result"
    }
   ],
   "source": [
    "dict1.keys()"
   ]
  },
  {
   "cell_type": "code",
   "execution_count": 125,
   "id": "2fa1eec3",
   "metadata": {},
   "outputs": [
    {
     "data": {
      "text/plain": [
       "dict_values([2, 3, 1, 4, 5])"
      ]
     },
     "execution_count": 125,
     "metadata": {},
     "output_type": "execute_result"
    }
   ],
   "source": [
    "dict1.values()"
   ]
  },
  {
   "cell_type": "code",
   "execution_count": 132,
   "id": "44603290",
   "metadata": {},
   "outputs": [
    {
     "ename": "TypeError",
     "evalue": "dummy() takes 0 positional arguments but 5 were given",
     "output_type": "error",
     "traceback": [
      "\u001b[1;31m---------------------------------------------------------------------------\u001b[0m",
      "\u001b[1;31mTypeError\u001b[0m                                 Traceback (most recent call last)",
      "\u001b[1;32m~\\AppData\\Local\\Temp/ipykernel_13984/2061104747.py\u001b[0m in \u001b[0;36m<module>\u001b[1;34m\u001b[0m\n\u001b[0;32m      3\u001b[0m     \u001b[0mprint\u001b[0m\u001b[1;33m(\u001b[0m\u001b[1;34mf\"kwargs = {kwargs}\"\u001b[0m\u001b[1;33m)\u001b[0m\u001b[1;33m\u001b[0m\u001b[1;33m\u001b[0m\u001b[0m\n\u001b[0;32m      4\u001b[0m \u001b[1;33m\u001b[0m\u001b[0m\n\u001b[1;32m----> 5\u001b[1;33m \u001b[0mdummy\u001b[0m\u001b[1;33m(\u001b[0m\u001b[1;36m1\u001b[0m\u001b[1;33m,\u001b[0m\u001b[1;36m2\u001b[0m\u001b[1;33m,\u001b[0m\u001b[1;36m3\u001b[0m\u001b[1;33m,\u001b[0m\u001b[1;36m4\u001b[0m\u001b[1;33m,\u001b[0m\u001b[1;36m5\u001b[0m\u001b[1;33m)\u001b[0m\u001b[1;33m\u001b[0m\u001b[1;33m\u001b[0m\u001b[0m\n\u001b[0m",
      "\u001b[1;31mTypeError\u001b[0m: dummy() takes 0 positional arguments but 5 were given"
     ]
    }
   ],
   "source": [
    "def dummy(**kwargs):\n",
    "    print(f\"a= {a}\")\n",
    "    print(f\"kwargs = {kwargs}\")\n",
    "    \n",
    "dummy(1,2,3,4,5)"
   ]
  },
  {
   "cell_type": "code",
   "execution_count": 133,
   "id": "98fcbff4",
   "metadata": {},
   "outputs": [
    {
     "ename": "TypeError",
     "evalue": "dummy() takes 0 positional arguments but 1 was given",
     "output_type": "error",
     "traceback": [
      "\u001b[1;31m---------------------------------------------------------------------------\u001b[0m",
      "\u001b[1;31mTypeError\u001b[0m                                 Traceback (most recent call last)",
      "\u001b[1;32m~\\AppData\\Local\\Temp/ipykernel_13984/1386325335.py\u001b[0m in \u001b[0;36m<module>\u001b[1;34m\u001b[0m\n\u001b[0;32m      3\u001b[0m     \u001b[0mprint\u001b[0m\u001b[1;33m(\u001b[0m\u001b[1;34mf\"kwargs = {kwargs}\"\u001b[0m\u001b[1;33m)\u001b[0m\u001b[1;33m\u001b[0m\u001b[1;33m\u001b[0m\u001b[0m\n\u001b[0;32m      4\u001b[0m \u001b[1;33m\u001b[0m\u001b[0m\n\u001b[1;32m----> 5\u001b[1;33m \u001b[0mdummy\u001b[0m\u001b[1;33m(\u001b[0m\u001b[1;33m(\u001b[0m\u001b[1;36m1\u001b[0m\u001b[1;33m,\u001b[0m\u001b[1;36m2\u001b[0m\u001b[1;33m,\u001b[0m\u001b[1;36m3\u001b[0m\u001b[1;33m,\u001b[0m\u001b[1;36m4\u001b[0m\u001b[1;33m,\u001b[0m\u001b[1;36m5\u001b[0m\u001b[1;33m)\u001b[0m\u001b[1;33m)\u001b[0m\u001b[1;33m\u001b[0m\u001b[1;33m\u001b[0m\u001b[0m\n\u001b[0m",
      "\u001b[1;31mTypeError\u001b[0m: dummy() takes 0 positional arguments but 1 was given"
     ]
    }
   ],
   "source": [
    "def dummy(**kwargs):\n",
    "    print(f\"a= {a}\")\n",
    "    print(f\"kwargs = {kwargs}\")\n",
    "    \n",
    "dummy((1,2,3,4,5))"
   ]
  },
  {
   "cell_type": "code",
   "execution_count": 135,
   "id": "e9e4fcea",
   "metadata": {},
   "outputs": [
    {
     "name": "stdout",
     "output_type": "stream",
     "text": [
      "kwargs = ((1, 2, 3, 4, 5),)\n"
     ]
    }
   ],
   "source": [
    "def dummy(*kwargs):\n",
    "    print(f\"kwargs = {kwargs}\")\n",
    "    \n",
    "dummy((1,2,3,4,5))"
   ]
  },
  {
   "cell_type": "code",
   "execution_count": 137,
   "id": "ff6fb539",
   "metadata": {},
   "outputs": [
    {
     "name": "stdout",
     "output_type": "stream",
     "text": [
      "a = 1,b = 2,c = 3\n",
      "args = ()\n",
      "x = 50 & y = 100\n",
      "kwargs = {}\n"
     ]
    }
   ],
   "source": [
    "def test_params(a,b,c,*args,x = 50,y = 100,**kwargs):\n",
    "    print(f\"a = {a},b = {b},c = {c}\")\n",
    "    print(f\"args = {args}\")\n",
    "    print(f\"x = {x} & y = {y}\")\n",
    "    print(f\"kwargs = {kwargs}\")\n",
    "    \n",
    "test_params(1,2,3)"
   ]
  },
  {
   "cell_type": "code",
   "execution_count": 138,
   "id": "c1aa7c04",
   "metadata": {},
   "outputs": [
    {
     "name": "stdout",
     "output_type": "stream",
     "text": [
      "a = 1,b = 2,c = 3\n",
      "args = (4, 5, 6, 7)\n",
      "x = 50 & y = 100\n",
      "kwargs = {}\n"
     ]
    }
   ],
   "source": [
    "def test_params(a,b,c,*args,x = 50,y = 100,**kwargs):\n",
    "    print(f\"a = {a},b = {b},c = {c}\")\n",
    "    print(f\"args = {args}\")\n",
    "    print(f\"x = {x} & y = {y}\")\n",
    "    print(f\"kwargs = {kwargs}\")\n",
    "    \n",
    "test_params(1,2,3,4,5,6,7)"
   ]
  },
  {
   "cell_type": "code",
   "execution_count": 139,
   "id": "553d52d0",
   "metadata": {},
   "outputs": [
    {
     "name": "stdout",
     "output_type": "stream",
     "text": [
      "a = 1,b = 2,c = 3\n",
      "args = (4, 5, 6, 7)\n",
      "x = Python & y = Data Science\n",
      "kwargs = {}\n"
     ]
    }
   ],
   "source": [
    "def test_params(a,b,c,*args,x = 50,y = 100,**kwargs):\n",
    "    print(f\"a = {a},b = {b},c = {c}\")\n",
    "    print(f\"args = {args}\")\n",
    "    print(f\"x = {x} & y = {y}\")\n",
    "    print(f\"kwargs = {kwargs}\")\n",
    "    \n",
    "test_params(1,2,3,4,5,6,7,x=\"Python\",y=\"Data Science\")"
   ]
  },
  {
   "cell_type": "code",
   "execution_count": 140,
   "id": "840a064f",
   "metadata": {},
   "outputs": [
    {
     "name": "stdout",
     "output_type": "stream",
     "text": [
      "a = 1,b = 2,c = 3\n",
      "args = (4, 5, 6, 7)\n",
      "x = Python & y = 100\n",
      "kwargs = {}\n"
     ]
    }
   ],
   "source": [
    "def test_params(a,b,c,*args,x = 50,y = 100,**kwargs):\n",
    "    print(f\"a = {a},b = {b},c = {c}\")\n",
    "    print(f\"args = {args}\")\n",
    "    print(f\"x = {x} & y = {y}\")\n",
    "    print(f\"kwargs = {kwargs}\")\n",
    "    \n",
    "test_params(1,2,3,4,5,6,7,x=\"Python\")"
   ]
  },
  {
   "cell_type": "code",
   "execution_count": 141,
   "id": "194c214f",
   "metadata": {},
   "outputs": [
    {
     "name": "stdout",
     "output_type": "stream",
     "text": [
      "a = 1,b = 2,c = 3\n",
      "args = (4, 5, 6, 7)\n",
      "x = Python & y = 100 & z = False\n",
      "kwargs = {}\n"
     ]
    }
   ],
   "source": [
    "def test_params(a,b,c,*args,x = 50,y = 100,z = True,**kwargs):\n",
    "    print(f\"a = {a},b = {b},c = {c}\")\n",
    "    print(f\"args = {args}\")\n",
    "    print(f\"x = {x} & y = {y} & z = {z}\")\n",
    "    print(f\"kwargs = {kwargs}\")\n",
    "    \n",
    "test_params(1,2,3,4,5,6,7,x=\"Python\",z =False)"
   ]
  },
  {
   "cell_type": "code",
   "execution_count": 142,
   "id": "7af4143b",
   "metadata": {},
   "outputs": [
    {
     "name": "stdout",
     "output_type": "stream",
     "text": [
      "a = 1,b = 2,c = 3\n",
      "args = (4, 5, 6, 7)\n",
      "x = Python & y = 100 & z = False\n",
      "kwargs = {'n1': 10, 'n2': 20, 'n3': 30, 'n4': 40, 'n5': 50}\n"
     ]
    }
   ],
   "source": [
    "def test_params(a,b,c,*args,x = 50,y = 100,z = True,**kwargs):\n",
    "    print(f\"a = {a},b = {b},c = {c}\")\n",
    "    print(f\"args = {args}\")\n",
    "    print(f\"x = {x} & y = {y} & z = {z}\")\n",
    "    print(f\"kwargs = {kwargs}\")\n",
    "    \n",
    "test_params(1,2,3,4,5,6,7,x=\"Python\",z =False,n1 = 10,n2 = 20,n3 = 30,n4 = 40,n5 = 50)"
   ]
  },
  {
   "cell_type": "code",
   "execution_count": 144,
   "id": "6a728b9b",
   "metadata": {},
   "outputs": [
    {
     "ename": "SyntaxError",
     "evalue": "invalid syntax (Temp/ipykernel_13984/1915282163.py, line 1)",
     "output_type": "error",
     "traceback": [
      "\u001b[1;36m  File \u001b[1;32m\"C:\\Users\\Mohit\\AppData\\Local\\Temp/ipykernel_13984/1915282163.py\"\u001b[1;36m, line \u001b[1;32m1\u001b[0m\n\u001b[1;33m    def test_params(a,b,c,**args, x = 50, y = 100, z = True, x1 = None , **kwargs):\u001b[0m\n\u001b[1;37m                                  ^\u001b[0m\n\u001b[1;31mSyntaxError\u001b[0m\u001b[1;31m:\u001b[0m invalid syntax\n"
     ]
    }
   ],
   "source": [
    "def test_params(a,b,c,**args, x = 50, y = 100, z = True, x1 = None , **kwargs):\n",
    "    print(f\"a = {a},b = {b},c = {c}\")\n",
    "    print(f\"args = {args}\")\n",
    "    print(f\"x = {x} & y = {y} & z = {z}\")\n",
    "    print(f\"kwargs = {kwargs}\")\n",
    "    \n",
    "test_params(1,2,3,4,5,6,7,x=\"Python\",z =False,n1 = 10,n2 = 20,n3 = 30,n4 = 40,n5 = 50)"
   ]
  }
 ],
 "metadata": {
  "kernelspec": {
   "display_name": "Python 3 (ipykernel)",
   "language": "python",
   "name": "python3"
  },
  "language_info": {
   "codemirror_mode": {
    "name": "ipython",
    "version": 3
   },
   "file_extension": ".py",
   "mimetype": "text/x-python",
   "name": "python",
   "nbconvert_exporter": "python",
   "pygments_lexer": "ipython3",
   "version": "3.12.4"
  }
 },
 "nbformat": 4,
 "nbformat_minor": 5
}
