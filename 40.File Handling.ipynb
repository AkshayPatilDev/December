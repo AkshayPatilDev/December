{
 "cells": [
  {
   "cell_type": "markdown",
   "id": "580516df",
   "metadata": {},
   "source": [
    "# File Handling\n",
    "- Use\n",
    "    - We can read file\n",
    "    - We can write file\n",
    "    - We can append the new data in the existing file\n",
    "    - We can create file"
   ]
  },
  {
   "cell_type": "markdown",
   "id": "3380eb66",
   "metadata": {},
   "source": [
    "# Syntax:-\n",
    "- open(File_name,mode) # Default mode = \"r\"\n",
    "- Modes:-\n",
    "    - read      = \"r\"\n",
    "    - write     = \"w\"\n",
    "    - write     = \"x\"\n",
    "    - append    = \"a\"\n",
    "    - readbyte  = \"rb\"\n",
    "    - writebyte = \"wb\""
   ]
  },
  {
   "cell_type": "markdown",
   "id": "a72da215",
   "metadata": {},
   "source": [
    "## 1.Write mode \n",
    "- write = \"w\"\n",
    "    - write mode will create ,if that file is not exist\n",
    "    - If the file is already exist,then the existing file will gets overewrite"
   ]
  },
  {
   "cell_type": "code",
   "execution_count": 1,
   "id": "541c110c",
   "metadata": {},
   "outputs": [
    {
     "data": {
      "text/plain": [
       "<_io.TextIOWrapper name='Sample.txt' mode='w' encoding='cp1252'>"
      ]
     },
     "execution_count": 1,
     "metadata": {},
     "output_type": "execute_result"
    }
   ],
   "source": [
    "open(\"Sample.txt\",\"w\")"
   ]
  },
  {
   "cell_type": "code",
   "execution_count": 2,
   "id": "7c48fdc5",
   "metadata": {},
   "outputs": [],
   "source": [
    "file = open(\"Sample.txt\",\"w\")\n",
    "file.write(\"We are learning File Handling\")\n",
    "file.close()"
   ]
  },
  {
   "cell_type": "code",
   "execution_count": 3,
   "id": "20fcf42f",
   "metadata": {},
   "outputs": [],
   "source": [
    "file = open(\"Sample1.txt\",\"x\")\n",
    "file.write(\"This is sample1 file\")\n",
    "file.close()"
   ]
  },
  {
   "cell_type": "code",
   "execution_count": 4,
   "id": "d90e07e0",
   "metadata": {},
   "outputs": [
    {
     "ename": "FileExistsError",
     "evalue": "[Errno 17] File exists: 'Sample1.txt'",
     "output_type": "error",
     "traceback": [
      "\u001b[1;31m---------------------------------------------------------------------------\u001b[0m",
      "\u001b[1;31mFileExistsError\u001b[0m                           Traceback (most recent call last)",
      "\u001b[1;32m~\\AppData\\Local\\Temp/ipykernel_20632/425088266.py\u001b[0m in \u001b[0;36m<module>\u001b[1;34m\u001b[0m\n\u001b[1;32m----> 1\u001b[1;33m \u001b[0mfile\u001b[0m \u001b[1;33m=\u001b[0m \u001b[0mopen\u001b[0m\u001b[1;33m(\u001b[0m\u001b[1;34m\"Sample1.txt\"\u001b[0m\u001b[1;33m,\u001b[0m\u001b[1;34m\"x\"\u001b[0m\u001b[1;33m)\u001b[0m\u001b[1;33m\u001b[0m\u001b[1;33m\u001b[0m\u001b[0m\n\u001b[0m\u001b[0;32m      2\u001b[0m \u001b[0mfile\u001b[0m\u001b[1;33m.\u001b[0m\u001b[0mwrite\u001b[0m\u001b[1;33m(\u001b[0m\u001b[1;34m\"This is sample1 file\\nOpening the same file again\"\u001b[0m\u001b[1;33m)\u001b[0m\u001b[1;33m\u001b[0m\u001b[1;33m\u001b[0m\u001b[0m\n\u001b[0;32m      3\u001b[0m \u001b[0mfile\u001b[0m\u001b[1;33m.\u001b[0m\u001b[0mclose\u001b[0m\u001b[1;33m(\u001b[0m\u001b[1;33m)\u001b[0m\u001b[1;33m\u001b[0m\u001b[1;33m\u001b[0m\u001b[0m\n",
      "\u001b[1;31mFileExistsError\u001b[0m: [Errno 17] File exists: 'Sample1.txt'"
     ]
    }
   ],
   "source": [
    "file = open(\"Sample1.txt\",\"x\")\n",
    "file.write(\"This is sample1 file\\nOpening the same file again\")\n",
    "file.close()"
   ]
  },
  {
   "cell_type": "code",
   "execution_count": 5,
   "id": "fe0d829d",
   "metadata": {},
   "outputs": [],
   "source": [
    "file = open(\"Sample.txt\",\"w\")\n",
    "file.write(\"We are learning File Handling\\nThis is the first file\")\n",
    "file.close()"
   ]
  },
  {
   "cell_type": "code",
   "execution_count": 6,
   "id": "29493ee5",
   "metadata": {},
   "outputs": [],
   "source": [
    "text = \"\"\"Machine learning (ML) is a type of artificial intelligence (AI) that allows software \n",
    "applications to become more accurate at predicting outcomes without being explicitly programmed \n",
    "to do so. Machine learning algorithms use historical data as input to predict new output values.\n",
    "\"\"\"\n",
    "file = open(\"Sample.txt\",\"w\")\n",
    "file.write(text)\n",
    "file.close()"
   ]
  },
  {
   "cell_type": "code",
   "execution_count": 7,
   "id": "43f4e43d",
   "metadata": {},
   "outputs": [
    {
     "ename": "FileExistsError",
     "evalue": "[Errno 17] File exists: 'Sample1.txt'",
     "output_type": "error",
     "traceback": [
      "\u001b[1;31m---------------------------------------------------------------------------\u001b[0m",
      "\u001b[1;31mFileExistsError\u001b[0m                           Traceback (most recent call last)",
      "\u001b[1;32m~\\AppData\\Local\\Temp/ipykernel_20632/2628756101.py\u001b[0m in \u001b[0;36m<module>\u001b[1;34m\u001b[0m\n\u001b[0;32m      3\u001b[0m \u001b[0mto\u001b[0m \u001b[0mdo\u001b[0m \u001b[0mso\u001b[0m\u001b[1;33m.\u001b[0m \u001b[0mMachine\u001b[0m \u001b[0mlearning\u001b[0m \u001b[0malgorithms\u001b[0m \u001b[0muse\u001b[0m \u001b[0mhistorical\u001b[0m \u001b[0mdata\u001b[0m \u001b[1;32mas\u001b[0m \u001b[0minput\u001b[0m \u001b[0mto\u001b[0m \u001b[0mpredict\u001b[0m \u001b[0mnew\u001b[0m \u001b[0moutput\u001b[0m \u001b[0mvalues\u001b[0m\u001b[1;33m.\u001b[0m\u001b[1;33m\u001b[0m\u001b[1;33m\u001b[0m\u001b[0m\n\u001b[0;32m      4\u001b[0m \"\"\"\n\u001b[1;32m----> 5\u001b[1;33m \u001b[0mfile\u001b[0m \u001b[1;33m=\u001b[0m \u001b[0mopen\u001b[0m\u001b[1;33m(\u001b[0m\u001b[1;34m\"Sample1.txt\"\u001b[0m\u001b[1;33m,\u001b[0m\u001b[1;34m\"x\"\u001b[0m\u001b[1;33m)\u001b[0m\u001b[1;33m\u001b[0m\u001b[1;33m\u001b[0m\u001b[0m\n\u001b[0m\u001b[0;32m      6\u001b[0m \u001b[0mfile\u001b[0m\u001b[1;33m.\u001b[0m\u001b[0mwrite\u001b[0m\u001b[1;33m(\u001b[0m\u001b[0mtext\u001b[0m\u001b[1;33m)\u001b[0m\u001b[1;33m\u001b[0m\u001b[1;33m\u001b[0m\u001b[0m\n\u001b[0;32m      7\u001b[0m \u001b[0mfile\u001b[0m\u001b[1;33m.\u001b[0m\u001b[0mclose\u001b[0m\u001b[1;33m(\u001b[0m\u001b[1;33m)\u001b[0m\u001b[1;33m\u001b[0m\u001b[1;33m\u001b[0m\u001b[0m\n",
      "\u001b[1;31mFileExistsError\u001b[0m: [Errno 17] File exists: 'Sample1.txt'"
     ]
    }
   ],
   "source": [
    "text = \"\"\"Machine learning (ML) is a type of artificial intelligence (AI) that allows software \n",
    "applications to become more accurate at predicting outcomes without being explicitly programmed \n",
    "to do so. Machine learning algorithms use historical data as input to predict new output values.\n",
    "\"\"\"\n",
    "file = open(\"Sample1.txt\",\"x\")\n",
    "file.write(text)\n",
    "file.close()"
   ]
  },
  {
   "cell_type": "code",
   "execution_count": 8,
   "id": "682cb35c",
   "metadata": {},
   "outputs": [],
   "source": [
    "file = open(\"Sample.txt\",\"w\")\n",
    "file.write(\"Python and Data Science Batch(30 July)\")\n",
    "file.close()"
   ]
  },
  {
   "cell_type": "markdown",
   "id": "1db78d60",
   "metadata": {},
   "source": [
    "## 2.Append mode\n",
    "- append = \"a\"\n",
    "    - It will create new file,If the file is not exist\n",
    "    - It will add the new data in the existing file,if the file is already exist"
   ]
  },
  {
   "cell_type": "code",
   "execution_count": 10,
   "id": "3f0b1058",
   "metadata": {},
   "outputs": [],
   "source": [
    "text = text = \"\"\"Machine learning (ML) is a type of artificial intelligence (AI) that allows software \n",
    "applications to become more accurate at predicting outcomes without being explicitly programmed \n",
    "to do so. Machine learning algorithms use historical data as input to predict new output values.\n",
    "\"\"\"\n",
    "file = open(\"ML_Intro.txt\",\"w\")\n",
    "file.write(text)\n",
    "file.close()"
   ]
  },
  {
   "cell_type": "code",
   "execution_count": 11,
   "id": "fc55b434",
   "metadata": {},
   "outputs": [],
   "source": [
    "file = open(\"ML_Intro.txt\",\"a\")\n",
    "file.write(\"___________Machine Learning Introduction____________\")\n",
    "file.close()"
   ]
  },
  {
   "cell_type": "code",
   "execution_count": 12,
   "id": "6f3eddec",
   "metadata": {},
   "outputs": [],
   "source": [
    "file = open(\"ML_Intro.txt\",\"a\")\n",
    "file.write(text)\n",
    "file.close()"
   ]
  },
  {
   "cell_type": "code",
   "execution_count": 13,
   "id": "8317eec7",
   "metadata": {},
   "outputs": [],
   "source": [
    "file = open(\"ML_Intro.txt\",\"a\")\n",
    "file.write(\"\\n\\n____________This is ML Intro_____________\")\n",
    "file.close()"
   ]
  },
  {
   "cell_type": "code",
   "execution_count": 14,
   "id": "8cdbc7d6",
   "metadata": {},
   "outputs": [],
   "source": [
    "file = open(\"Hi.txt\",\"a\")\n",
    "file.write(\"Hi\")\n",
    "file.close()"
   ]
  },
  {
   "cell_type": "code",
   "execution_count": 15,
   "id": "e8f1da30",
   "metadata": {},
   "outputs": [],
   "source": [
    "file = open(\"Hi.txt\",\"a\")\n",
    "file.write(\"Hi\")\n",
    "file.write(\"Hi\")\n",
    "file.write(\"Hi\")\n",
    "file.write(\"Hi\")\n",
    "file.write(\"Hi\")\n",
    "file.write(\"Hi\")\n",
    "file.write(\"Hi\")\n",
    "file.write(\"Hi\")\n",
    "file.write(\"Hi\")\n",
    "file.write(\"Hi\")\n",
    "file.close()"
   ]
  },
  {
   "cell_type": "code",
   "execution_count": 16,
   "id": "117058d2",
   "metadata": {},
   "outputs": [],
   "source": [
    "file = open(\"Hi.txt\",\"a\")\n",
    "file.write(\"\\nHi\")\n",
    "file.write(\"\\nHi\")\n",
    "file.write(\"\\nHi\")\n",
    "file.write(\"\\nHi\")\n",
    "file.write(\"\\nHi\")\n",
    "file.write(\"\\nHi\")\n",
    "file.write(\"\\nHi\")\n",
    "file.write(\"\\nHi\")\n",
    "file.write(\"\\nHi\")\n",
    "file.write(\"\\nHi\")\n",
    "file.close()"
   ]
  },
  {
   "cell_type": "markdown",
   "id": "1bda81b4",
   "metadata": {},
   "source": [
    "# 3.Read mode\n",
    "## 3.1 read()\n",
    "- read = \"r\" # Default mode\n",
    "    - It will read the content of specified fiile"
   ]
  },
  {
   "cell_type": "code",
   "execution_count": 17,
   "id": "d7a29b8a",
   "metadata": {},
   "outputs": [
    {
     "name": "stdout",
     "output_type": "stream",
     "text": [
      "Python and Data Science Batch(30 July)\n"
     ]
    }
   ],
   "source": [
    "read_file = open(\"Sample.txt\")\n",
    "print(read_file.read())\n",
    "read_file.close()"
   ]
  },
  {
   "cell_type": "code",
   "execution_count": 20,
   "id": "a8a2e6ce",
   "metadata": {},
   "outputs": [
    {
     "name": "stdout",
     "output_type": "stream",
     "text": [
      "This is sample1 file\n"
     ]
    }
   ],
   "source": [
    "read_file = open(\"Sample1.txt\",\"r\")\n",
    "print(read_file.read())\n",
    "read_file.close()"
   ]
  },
  {
   "cell_type": "code",
   "execution_count": 21,
   "id": "f0e2d3aa",
   "metadata": {},
   "outputs": [
    {
     "name": "stdout",
     "output_type": "stream",
     "text": [
      "Machine learning (ML) is a type of artificial intelligence (AI) that allows software \n",
      "applications to become more accurate at predicting outcomes without being explicitly programmed \n",
      "to do so. Machine learning algorithms use historical data as input to predict new output values.\n",
      "___________Machine Learning Introduction____________Machine learning (ML) is a type of artificial intelligence (AI) that allows software \n",
      "applications to become more accurate at predicting outcomes without being explicitly programmed \n",
      "to do so. Machine learning algorithms use historical data as input to predict new output values.\n",
      "\n",
      "\n",
      "____________This is ML Intro_____________\n"
     ]
    }
   ],
   "source": [
    "read_file = open(\"ML_Intro.txt\",\"r\")\n",
    "print(read_file.read())\n",
    "read_file.close()"
   ]
  },
  {
   "cell_type": "code",
   "execution_count": 22,
   "id": "99d7d6dc",
   "metadata": {},
   "outputs": [
    {
     "ename": "FileNotFoundError",
     "evalue": "[Errno 2] No such file or directory: 'ML_Introduction'",
     "output_type": "error",
     "traceback": [
      "\u001b[1;31m---------------------------------------------------------------------------\u001b[0m",
      "\u001b[1;31mFileNotFoundError\u001b[0m                         Traceback (most recent call last)",
      "\u001b[1;32m~\\AppData\\Local\\Temp/ipykernel_20632/348845906.py\u001b[0m in \u001b[0;36m<module>\u001b[1;34m\u001b[0m\n\u001b[1;32m----> 1\u001b[1;33m \u001b[0mread_file\u001b[0m \u001b[1;33m=\u001b[0m \u001b[0mopen\u001b[0m\u001b[1;33m(\u001b[0m\u001b[1;34m\"ML_Introduction\"\u001b[0m\u001b[1;33m,\u001b[0m\u001b[1;34m\"r\"\u001b[0m\u001b[1;33m)\u001b[0m\u001b[1;33m\u001b[0m\u001b[1;33m\u001b[0m\u001b[0m\n\u001b[0m\u001b[0;32m      2\u001b[0m \u001b[0mprint\u001b[0m\u001b[1;33m(\u001b[0m\u001b[0mread_file\u001b[0m\u001b[1;33m.\u001b[0m\u001b[0mread\u001b[0m\u001b[1;33m(\u001b[0m\u001b[1;33m)\u001b[0m\u001b[1;33m)\u001b[0m\u001b[1;33m\u001b[0m\u001b[1;33m\u001b[0m\u001b[0m\n\u001b[0;32m      3\u001b[0m \u001b[0mread_file\u001b[0m\u001b[1;33m.\u001b[0m\u001b[0mclose\u001b[0m\u001b[1;33m(\u001b[0m\u001b[1;33m)\u001b[0m\u001b[1;33m\u001b[0m\u001b[1;33m\u001b[0m\u001b[0m\n",
      "\u001b[1;31mFileNotFoundError\u001b[0m: [Errno 2] No such file or directory: 'ML_Introduction'"
     ]
    }
   ],
   "source": [
    "read_file = open(\"ML_Introduction\",\"r\")\n",
    "print(read_file.read())\n",
    "read_file.close()"
   ]
  },
  {
   "cell_type": "code",
   "execution_count": 23,
   "id": "909052a6",
   "metadata": {},
   "outputs": [
    {
     "name": "stdout",
     "output_type": "stream",
     "text": [
      "HiHiHiHiHiHiHiHiHiHiHi\n",
      "Hi\n",
      "Hi\n",
      "Hi\n",
      "Hi\n",
      "Hi\n",
      "Hi\n",
      "Hi\n",
      "Hi\n",
      "Hi\n",
      "Hi\n"
     ]
    }
   ],
   "source": [
    "read_file = open(\"Hi.txt\",\"r\")\n",
    "print(read_file.read())\n",
    "read_file.close()"
   ]
  },
  {
   "cell_type": "code",
   "execution_count": 24,
   "id": "d260e7cf",
   "metadata": {},
   "outputs": [
    {
     "name": "stdout",
     "output_type": "stream",
     "text": [
      "HiHiHiHiHi\n"
     ]
    }
   ],
   "source": [
    "read_file = open(\"Hi.txt\",\"r\")\n",
    "print(read_file.read(10))\n",
    "read_file.close()"
   ]
  },
  {
   "cell_type": "code",
   "execution_count": 26,
   "id": "0e53e0b7",
   "metadata": {},
   "outputs": [
    {
     "name": "stdout",
     "output_type": "stream",
     "text": [
      "Machine learning (ML) is a type of artificial inte\n"
     ]
    }
   ],
   "source": [
    "read_file = open(\"ML_Intro.txt\",\"r\")\n",
    "print(read_file.read(50))\n",
    "read_file.close()"
   ]
  },
  {
   "cell_type": "code",
   "execution_count": 28,
   "id": "d2d3817a",
   "metadata": {},
   "outputs": [
    {
     "name": "stdout",
     "output_type": "stream",
     "text": [
      "Machine learning (ML) is a type of artificial intelligence (AI) that allows software \n",
      "applications t\n"
     ]
    }
   ],
   "source": [
    "read_file = open(\"ML_Intro.txt\",\"r\")\n",
    "print(read_file.read(100))\n",
    "read_file.close()"
   ]
  },
  {
   "cell_type": "code",
   "execution_count": 29,
   "id": "c14daa2b",
   "metadata": {},
   "outputs": [],
   "source": [
    "file = open(\"new_file.txt\",\"a\")\n",
    "for i in range(10):\n",
    "    file.write(f\"This is the {i} line\\n\")\n",
    "file.close()"
   ]
  },
  {
   "cell_type": "markdown",
   "id": "7321f466",
   "metadata": {},
   "source": [
    "## 3.2 readline()"
   ]
  },
  {
   "cell_type": "code",
   "execution_count": 30,
   "id": "9ee40400",
   "metadata": {},
   "outputs": [],
   "source": [
    "file = open(\"new_file.txt\")\n",
    "l1 = file.readline()\n",
    "file.close()"
   ]
  },
  {
   "cell_type": "code",
   "execution_count": 31,
   "id": "7ca4e4bc",
   "metadata": {},
   "outputs": [
    {
     "name": "stdout",
     "output_type": "stream",
     "text": [
      "This is the 0 line\n",
      "\n"
     ]
    }
   ],
   "source": [
    "print(l1)"
   ]
  },
  {
   "cell_type": "code",
   "execution_count": 32,
   "id": "80723a36",
   "metadata": {},
   "outputs": [],
   "source": [
    "file = open(\"new_file.txt\")\n",
    "l1 = file.readline()\n",
    "l2 = file.readline()\n",
    "l3= file.readline()\n",
    "l4 = file.readline()\n",
    "file.close()"
   ]
  },
  {
   "cell_type": "code",
   "execution_count": 34,
   "id": "792a7893",
   "metadata": {},
   "outputs": [
    {
     "name": "stdout",
     "output_type": "stream",
     "text": [
      "This is the 0 line\n",
      "\n",
      "This is the 1 line\n",
      "\n",
      "This is the 2 line\n",
      "\n",
      "This is the 3 line\n",
      "\n"
     ]
    }
   ],
   "source": [
    "print(l1)\n",
    "print(l2)\n",
    "print(l3)\n",
    "print(l4)"
   ]
  },
  {
   "cell_type": "code",
   "execution_count": 35,
   "id": "432e128a",
   "metadata": {},
   "outputs": [
    {
     "name": "stdout",
     "output_type": "stream",
     "text": [
      "This is the 0 line\n",
      "\n",
      "This is the 1 line\n",
      "\n",
      "This is the 2 line\n",
      "\n",
      "This is the 3 line\n",
      "\n",
      "This is the 4 line\n",
      "\n",
      "This is the 5 line\n",
      "\n",
      "This is the 6 line\n",
      "\n",
      "This is the 7 line\n",
      "\n",
      "This is the 8 line\n",
      "\n",
      "This is the 9 line\n",
      "\n"
     ]
    }
   ],
   "source": [
    "file = open(\"new_file.txt\")\n",
    "for i in file:\n",
    "    print(i)\n",
    "file.close()"
   ]
  },
  {
   "cell_type": "code",
   "execution_count": 36,
   "id": "f851d872",
   "metadata": {},
   "outputs": [],
   "source": [
    "file = open(\"new_file.txt\")\n",
    "l1 = file.readline(10)\n",
    "file.close()"
   ]
  },
  {
   "cell_type": "code",
   "execution_count": 37,
   "id": "742bf6a1",
   "metadata": {},
   "outputs": [
    {
     "data": {
      "text/plain": [
       "'This is th'"
      ]
     },
     "execution_count": 37,
     "metadata": {},
     "output_type": "execute_result"
    }
   ],
   "source": [
    "l1"
   ]
  },
  {
   "cell_type": "code",
   "execution_count": 39,
   "id": "ba6791e7",
   "metadata": {},
   "outputs": [
    {
     "name": "stdout",
     "output_type": "stream",
     "text": [
      "This is the 0 line\n",
      "\n",
      "This is the 1 li\n"
     ]
    }
   ],
   "source": [
    "file = open(\"new_file.txt\")\n",
    "l1 = file.readline(50)\n",
    "l2 = file.readline(16)\n",
    "print(l1)\n",
    "print(l2)\n",
    "file.close()"
   ]
  },
  {
   "cell_type": "markdown",
   "id": "8ee125f1",
   "metadata": {},
   "source": [
    "## 3.2.2 readlines()\n",
    "- Returns list of all the lines"
   ]
  },
  {
   "cell_type": "code",
   "execution_count": 40,
   "id": "c91f7e5e",
   "metadata": {},
   "outputs": [
    {
     "name": "stdout",
     "output_type": "stream",
     "text": [
      "['Python and Data Science Batch(30 July)']\n"
     ]
    }
   ],
   "source": [
    "file = open(\"Sample.txt\")\n",
    "lines_li = file.readlines()\n",
    "print(lines_li)\n",
    "file.close()"
   ]
  },
  {
   "cell_type": "code",
   "execution_count": 41,
   "id": "0295a86c",
   "metadata": {},
   "outputs": [
    {
     "data": {
      "text/plain": [
       "list"
      ]
     },
     "execution_count": 41,
     "metadata": {},
     "output_type": "execute_result"
    }
   ],
   "source": [
    "type(lines_li)"
   ]
  },
  {
   "cell_type": "code",
   "execution_count": 42,
   "id": "505d8fd2",
   "metadata": {},
   "outputs": [
    {
     "data": {
      "text/plain": [
       "1"
      ]
     },
     "execution_count": 42,
     "metadata": {},
     "output_type": "execute_result"
    }
   ],
   "source": [
    "len(lines_li)"
   ]
  },
  {
   "cell_type": "code",
   "execution_count": 43,
   "id": "c11ae3ca",
   "metadata": {},
   "outputs": [
    {
     "name": "stdout",
     "output_type": "stream",
     "text": [
      "['HiHiHiHiHiHiHiHiHiHiHi\\n', 'Hi\\n', 'Hi\\n', 'Hi\\n', 'Hi\\n', 'Hi\\n', 'Hi\\n', 'Hi\\n', 'Hi\\n', 'Hi\\n', 'Hi']\n"
     ]
    }
   ],
   "source": [
    "file = open(\"Hi.txt\")\n",
    "lines_li = file.readlines()\n",
    "print(lines_li)\n",
    "file.close()"
   ]
  },
  {
   "cell_type": "code",
   "execution_count": 44,
   "id": "67992c51",
   "metadata": {},
   "outputs": [
    {
     "name": "stdout",
     "output_type": "stream",
     "text": [
      "['This is the 0 line\\n', 'This is the 1 line\\n', 'This is the 2 line\\n', 'This is the 3 line\\n', 'This is the 4 line\\n', 'This is the 5 line\\n', 'This is the 6 line\\n', 'This is the 7 line\\n', 'This is the 8 line\\n', 'This is the 9 line\\n']\n"
     ]
    }
   ],
   "source": [
    "file = open(\"new_file.txt\")\n",
    "lines_li = file.readlines()\n",
    "print(lines_li)\n",
    "file.close()"
   ]
  },
  {
   "cell_type": "code",
   "execution_count": 45,
   "id": "6f9a3337",
   "metadata": {},
   "outputs": [
    {
     "name": "stdout",
     "output_type": "stream",
     "text": [
      "This is the 0 line\n",
      "\n",
      "This is the 1 line\n",
      "\n",
      "This is the 2 line\n",
      "\n",
      "This is the 3 line\n",
      "\n",
      "This is the 4 line\n",
      "\n",
      "This is the 5 line\n",
      "\n",
      "This is the 6 line\n",
      "\n",
      "This is the 7 line\n",
      "\n",
      "This is the 8 line\n",
      "\n",
      "This is the 9 line\n",
      "\n"
     ]
    }
   ],
   "source": [
    "for i in lines_li:\n",
    "    print(i)"
   ]
  },
  {
   "cell_type": "code",
   "execution_count": 46,
   "id": "93326cb3",
   "metadata": {},
   "outputs": [
    {
     "name": "stdout",
     "output_type": "stream",
     "text": [
      "THIS IS THE 0 LINE\n",
      "\n",
      "THIS IS THE 1 LINE\n",
      "\n",
      "THIS IS THE 2 LINE\n",
      "\n",
      "THIS IS THE 3 LINE\n",
      "\n",
      "THIS IS THE 4 LINE\n",
      "\n",
      "This is the 5 line\n",
      "\n",
      "This is the 6 line\n",
      "\n",
      "This is the 7 line\n",
      "\n",
      "This is the 8 line\n",
      "\n",
      "This is the 9 line\n",
      "\n"
     ]
    }
   ],
   "source": [
    "for i,j in enumerate(lines_li):\n",
    "    if i < 5:\n",
    "        print(j.upper())\n",
    "    else:\n",
    "        print(j)"
   ]
  },
  {
   "cell_type": "markdown",
   "id": "75be2356",
   "metadata": {},
   "source": [
    "# With statement\n",
    "- Syntax\n",
    "    - with open(file_name,mode) as f/file/text_file/file1:\n",
    "- With statement is used to avoid close function\n",
    "- It will automatically close all the files"
   ]
  },
  {
   "cell_type": "code",
   "execution_count": 47,
   "id": "fcf69239",
   "metadata": {},
   "outputs": [],
   "source": [
    "text = \"\"\" This is the 1 line \n",
    "This is the 2 line\n",
    "This is the 3 line\n",
    "This is the 4 line\n",
    "This is the 5 line\n",
    "\"\"\"\n",
    "\n",
    "with open(\"sampleFileWith.txt\",\"w\") as f:\n",
    "    f.write(text)"
   ]
  },
  {
   "cell_type": "code",
   "execution_count": 48,
   "id": "8baac6e2",
   "metadata": {},
   "outputs": [],
   "source": [
    "text = \"\"\"Machine learning (ML) is a type of artificial intelligence (AI) that allows software \n",
    "applications to become more accurate at predicting outcomes without being explicitly programmed \n",
    "to do so. Machine learning algorithms use historical data as input to predict new output values.\n",
    "\"\"\"\n",
    "\n",
    "with open(\"ML_IntroWith.txt\",\"a\") as file:\n",
    "    file.write(text)"
   ]
  },
  {
   "cell_type": "code",
   "execution_count": 49,
   "id": "d4a2a4bc",
   "metadata": {},
   "outputs": [
    {
     "name": "stdout",
     "output_type": "stream",
     "text": [
      "Machine learning (ML) is a type of artificial intelligence (AI) that allows software \n",
      "applications to become more accurate at predicting outcomes without being explicitly programmed \n",
      "to do so. Machine learning algorithms use historical data as input to predict new output values.\n",
      "\n"
     ]
    }
   ],
   "source": [
    "with open(\"ML_IntroWith.txt\",\"r\") as f_r:\n",
    "    print(f_r.read())"
   ]
  },
  {
   "cell_type": "code",
   "execution_count": 50,
   "id": "4ebc4de0",
   "metadata": {},
   "outputs": [
    {
     "data": {
      "text/plain": [
       "'sample1.txt'"
      ]
     },
     "execution_count": 50,
     "metadata": {},
     "output_type": "execute_result"
    }
   ],
   "source": [
    "f\"sample{1}.txt\""
   ]
  },
  {
   "cell_type": "code",
   "execution_count": 53,
   "id": "168bd579",
   "metadata": {},
   "outputs": [],
   "source": [
    "for i in range(1,11):\n",
    "    with open(f\"WithSample{i}.txt\",\"w\") as f:\n",
    "        f.write(f\"This is file number{i}\")"
   ]
  }
 ],
 "metadata": {
  "kernelspec": {
   "display_name": "Python 3 (ipykernel)",
   "language": "python",
   "name": "python3"
  },
  "language_info": {
   "codemirror_mode": {
    "name": "ipython",
    "version": 3
   },
   "file_extension": ".py",
   "mimetype": "text/x-python",
   "name": "python",
   "nbconvert_exporter": "python",
   "pygments_lexer": "ipython3",
   "version": "3.12.4"
  }
 },
 "nbformat": 4,
 "nbformat_minor": 5
}
