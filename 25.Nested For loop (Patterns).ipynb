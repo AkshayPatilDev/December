{
 "cells": [
  {
   "cell_type": "markdown",
   "id": "778c15de",
   "metadata": {},
   "source": [
    "# Nested For loop\n",
    "- for loop inside a for loop"
   ]
  },
  {
   "cell_type": "raw",
   "id": "dd11b418",
   "metadata": {},
   "source": [
    "for variable_name1 in sequence1:\n",
    "    statement 1\n",
    "    statement 2\n",
    "    statement 3\n",
    "         .\n",
    "         .\n",
    "    statement n\n",
    "    \n",
    "    for variable_name2 in sequence2:\n",
    "        statement 1\n",
    "        statement 2\n",
    "        statement 3\n",
    "             .\n",
    "             .\n",
    "        statement n\n",
    "     \n",
    "     for variable_name in sequence:\n",
    "        statement 1\n",
    "        statement 2\n",
    "        statement 3\n",
    "             .\n",
    "             .\n",
    "        statement n"
   ]
  },
  {
   "cell_type": "code",
   "execution_count": 1,
   "id": "8ba03e87",
   "metadata": {},
   "outputs": [
    {
     "name": "stdout",
     "output_type": "stream",
     "text": [
      "i-----> 0\n",
      "i-----> 1\n",
      "i-----> 2\n",
      "i-----> 3\n",
      "i-----> 4\n"
     ]
    }
   ],
   "source": [
    "for i in range(5):\n",
    "    print(\"i----->\",i)"
   ]
  },
  {
   "cell_type": "code",
   "execution_count": 1,
   "id": "093d5138",
   "metadata": {
    "scrolled": true
   },
   "outputs": [
    {
     "name": "stdout",
     "output_type": "stream",
     "text": [
      "i----> 0\n",
      "DS\n",
      "DS\n",
      "DS\n",
      "DS\n",
      "DS\n",
      "i----> 1\n",
      "DS\n",
      "DS\n",
      "DS\n",
      "DS\n",
      "DS\n",
      "i----> 2\n",
      "DS\n",
      "DS\n",
      "DS\n",
      "DS\n",
      "DS\n",
      "i----> 3\n",
      "DS\n",
      "DS\n",
      "DS\n",
      "DS\n",
      "DS\n",
      "i----> 4\n",
      "DS\n",
      "DS\n",
      "DS\n",
      "DS\n",
      "DS\n"
     ]
    }
   ],
   "source": [
    "for i in range(5):\n",
    "    print(\"i---->\",i)\n",
    "    for j in range(5):\n",
    "        print(\"DS\")"
   ]
  },
  {
   "cell_type": "code",
   "execution_count": 8,
   "id": "dd6785e5",
   "metadata": {},
   "outputs": [
    {
     "name": "stdout",
     "output_type": "stream",
     "text": [
      "Outer statement i---> 0\n",
      "\n",
      "Inner statement j---> 0\n",
      "Inner statement j---> 1\n",
      "Inner statement j---> 2\n",
      "Inner statement j---> 3\n",
      "Inner statement j---> 4\n",
      "\n",
      "\n",
      "Outer statement i---> 1\n",
      "\n",
      "Inner statement j---> 0\n",
      "Inner statement j---> 1\n",
      "Inner statement j---> 2\n",
      "Inner statement j---> 3\n",
      "Inner statement j---> 4\n",
      "\n",
      "\n",
      "Outer statement i---> 2\n",
      "\n",
      "Inner statement j---> 0\n",
      "Inner statement j---> 1\n",
      "Inner statement j---> 2\n",
      "Inner statement j---> 3\n",
      "Inner statement j---> 4\n",
      "\n",
      "\n",
      "Outer statement i---> 3\n",
      "\n",
      "Inner statement j---> 0\n",
      "Inner statement j---> 1\n",
      "Inner statement j---> 2\n",
      "Inner statement j---> 3\n",
      "Inner statement j---> 4\n",
      "\n",
      "\n",
      "Outer statement i---> 4\n",
      "\n",
      "Inner statement j---> 0\n",
      "Inner statement j---> 1\n",
      "Inner statement j---> 2\n",
      "Inner statement j---> 3\n",
      "Inner statement j---> 4\n",
      "\n",
      "\n"
     ]
    }
   ],
   "source": [
    "for i in range(5):\n",
    "    print(\"Outer statement i--->\",i)\n",
    "    print()\n",
    "    for j in range(5):\n",
    "        print(\"Inner statement j--->\",j)\n",
    "    print()\n",
    "    print()"
   ]
  },
  {
   "cell_type": "code",
   "execution_count": 9,
   "id": "137cb06f",
   "metadata": {
    "scrolled": true
   },
   "outputs": [
    {
     "name": "stdout",
     "output_type": "stream",
     "text": [
      "Outer statement i---> 0\n",
      "\n",
      "Inner statement j---> 0\n",
      "Inner statement j---> 1\n",
      "Inner statement j---> 2\n",
      "Inner statement j---> 3\n",
      "Inner statement j---> 4\n",
      "\n",
      "\n",
      "Outer statement i---> 1\n",
      "\n",
      "Inner statement j---> 0\n",
      "Inner statement j---> 1\n",
      "Inner statement j---> 2\n",
      "Inner statement j---> 3\n",
      "Inner statement j---> 4\n",
      "\n",
      "\n"
     ]
    }
   ],
   "source": [
    "for i in range(2):\n",
    "    print(\"Outer statement i--->\",i)\n",
    "    print()\n",
    "    for j in range(5):\n",
    "        print(\"Inner statement j--->\",j)\n",
    "    print()\n",
    "    print()"
   ]
  },
  {
   "cell_type": "code",
   "execution_count": 10,
   "id": "a3dc2ebd",
   "metadata": {},
   "outputs": [
    {
     "name": "stdout",
     "output_type": "stream",
     "text": [
      "Outer statement i---> 0\n",
      "\n",
      "Inner statement j---> 0\n",
      "Inner statement j---> 1\n",
      "\n",
      "\n",
      "Outer statement i---> 1\n",
      "\n",
      "Inner statement j---> 0\n",
      "Inner statement j---> 1\n",
      "\n",
      "\n",
      "Outer statement i---> 2\n",
      "\n",
      "Inner statement j---> 0\n",
      "Inner statement j---> 1\n",
      "\n",
      "\n",
      "Outer statement i---> 3\n",
      "\n",
      "Inner statement j---> 0\n",
      "Inner statement j---> 1\n",
      "\n",
      "\n",
      "Outer statement i---> 4\n",
      "\n",
      "Inner statement j---> 0\n",
      "Inner statement j---> 1\n",
      "\n",
      "\n"
     ]
    }
   ],
   "source": [
    "for i in range(5):\n",
    "    print(\"Outer statement i--->\",i)\n",
    "    print()\n",
    "    for j in range(2):\n",
    "        print(\"Inner statement j--->\",j)\n",
    "    print()\n",
    "    print()"
   ]
  },
  {
   "cell_type": "code",
   "execution_count": 15,
   "id": "eaf01990",
   "metadata": {},
   "outputs": [
    {
     "name": "stdout",
     "output_type": "stream",
     "text": [
      "Outer statement i---> 0\n",
      "\n",
      "Inner statement 1 = j---> 0\n",
      "Inner statement 1 = j---> 1\n",
      "\n",
      "Inner statement 2 = k---> 0\n",
      "Inner statement 2 = k---> 1\n",
      "\n",
      "\n",
      "Outer statement i---> 1\n",
      "\n",
      "Inner statement 1 = j---> 0\n",
      "Inner statement 1 = j---> 1\n",
      "\n",
      "Inner statement 2 = k---> 0\n",
      "Inner statement 2 = k---> 1\n",
      "\n",
      "\n",
      "Outer statement i---> 2\n",
      "\n",
      "Inner statement 1 = j---> 0\n",
      "Inner statement 1 = j---> 1\n",
      "\n",
      "Inner statement 2 = k---> 0\n",
      "Inner statement 2 = k---> 1\n",
      "\n",
      "\n",
      "Outer statement i---> 3\n",
      "\n",
      "Inner statement 1 = j---> 0\n",
      "Inner statement 1 = j---> 1\n",
      "\n",
      "Inner statement 2 = k---> 0\n",
      "Inner statement 2 = k---> 1\n",
      "\n",
      "\n",
      "Outer statement i---> 4\n",
      "\n",
      "Inner statement 1 = j---> 0\n",
      "Inner statement 1 = j---> 1\n",
      "\n",
      "Inner statement 2 = k---> 0\n",
      "Inner statement 2 = k---> 1\n",
      "\n",
      "\n"
     ]
    }
   ],
   "source": [
    "for i in range(5):\n",
    "    print(\"Outer statement i--->\",i)\n",
    "    print()\n",
    "    for j in range(2):\n",
    "        print(\"Inner statement 1 = j--->\",j)\n",
    "    print()\n",
    "    \n",
    "    for k in range(2):\n",
    "        print(\"Inner statement 2 = k--->\",k)\n",
    "    print()\n",
    "    print()"
   ]
  },
  {
   "cell_type": "code",
   "execution_count": 19,
   "id": "2932743b",
   "metadata": {},
   "outputs": [
    {
     "name": "stdout",
     "output_type": "stream",
     "text": [
      "Outer statement i---> 0\n",
      "\n",
      "Inner statement 1 = j---> 0\n",
      "Inner-Inner statement 2 = k---> 0\n",
      "Inner-Inner statement 2 = k---> 1\n",
      "Inner statement 1 = j---> 1\n",
      "Inner-Inner statement 2 = k---> 0\n",
      "Inner-Inner statement 2 = k---> 1\n",
      "\n",
      "Outer statement i---> 1\n",
      "\n",
      "Inner statement 1 = j---> 0\n",
      "Inner-Inner statement 2 = k---> 0\n",
      "Inner-Inner statement 2 = k---> 1\n",
      "Inner statement 1 = j---> 1\n",
      "Inner-Inner statement 2 = k---> 0\n",
      "Inner-Inner statement 2 = k---> 1\n",
      "\n",
      "Outer statement i---> 2\n",
      "\n",
      "Inner statement 1 = j---> 0\n",
      "Inner-Inner statement 2 = k---> 0\n",
      "Inner-Inner statement 2 = k---> 1\n",
      "Inner statement 1 = j---> 1\n",
      "Inner-Inner statement 2 = k---> 0\n",
      "Inner-Inner statement 2 = k---> 1\n",
      "\n",
      "Outer statement i---> 3\n",
      "\n",
      "Inner statement 1 = j---> 0\n",
      "Inner-Inner statement 2 = k---> 0\n",
      "Inner-Inner statement 2 = k---> 1\n",
      "Inner statement 1 = j---> 1\n",
      "Inner-Inner statement 2 = k---> 0\n",
      "Inner-Inner statement 2 = k---> 1\n",
      "\n",
      "Outer statement i---> 4\n",
      "\n",
      "Inner statement 1 = j---> 0\n",
      "Inner-Inner statement 2 = k---> 0\n",
      "Inner-Inner statement 2 = k---> 1\n",
      "Inner statement 1 = j---> 1\n",
      "Inner-Inner statement 2 = k---> 0\n",
      "Inner-Inner statement 2 = k---> 1\n",
      "\n"
     ]
    }
   ],
   "source": [
    "for i in range(5):\n",
    "    print(\"Outer statement i--->\",i)\n",
    "    print()\n",
    "    for j in range(2):\n",
    "        print(\"Inner statement 1 = j--->\",j)\n",
    "        for k in range(2):\n",
    "            print(\"Inner-Inner statement 2 = k--->\",k)\n",
    "    print()"
   ]
  },
  {
   "cell_type": "code",
   "execution_count": 23,
   "id": "9bd163e6",
   "metadata": {},
   "outputs": [
    {
     "name": "stdout",
     "output_type": "stream",
     "text": [
      "10\n",
      "20\n",
      "30\n",
      "40\n",
      "50\n",
      "\n",
      "10\n",
      "20\n",
      "30\n",
      "40\n",
      "50\n",
      "\n",
      "10\n",
      "20\n",
      "30\n",
      "40\n",
      "50\n",
      "\n",
      "10\n",
      "20\n",
      "30\n",
      "40\n",
      "50\n",
      "\n",
      "10\n",
      "20\n",
      "30\n",
      "40\n",
      "50\n",
      "\n"
     ]
    }
   ],
   "source": [
    "for i in range(5):\n",
    "    for j in [10,20,30,40,50]:\n",
    "        print(j)\n",
    "    print()"
   ]
  },
  {
   "cell_type": "code",
   "execution_count": 27,
   "id": "89d0d128",
   "metadata": {},
   "outputs": [
    {
     "name": "stdout",
     "output_type": "stream",
     "text": [
      "P y t h o n \n",
      "P y t h o n \n",
      "P y t h o n \n",
      "P y t h o n \n",
      "P y t h o n \n"
     ]
    }
   ],
   "source": [
    "str1 =\"Python\"\n",
    "for i in range(5):\n",
    "    for j in str1:\n",
    "        print(j,end =' ')\n",
    "    print()\n",
    "    "
   ]
  },
  {
   "cell_type": "code",
   "execution_count": 32,
   "id": "f10ed0e7",
   "metadata": {},
   "outputs": [
    {
     "name": "stdout",
     "output_type": "stream",
     "text": [
      "i---> 1\n",
      "*\n",
      "*\n",
      "*\n",
      "*\n",
      "*\n",
      "i---> 1\n",
      "*\n",
      "*\n",
      "*\n",
      "*\n",
      "*\n",
      "i---> 1\n",
      "*\n",
      "*\n",
      "*\n",
      "*\n",
      "*\n",
      "i---> 1\n",
      "*\n",
      "*\n",
      "*\n",
      "*\n",
      "*\n",
      "i---> 1\n",
      "*\n",
      "*\n",
      "*\n",
      "*\n",
      "*\n"
     ]
    }
   ],
   "source": [
    "for i in range(5):\n",
    "    print(\"i---> 1\")\n",
    "    for j in range(5):\n",
    "        print(\"*\")"
   ]
  },
  {
   "cell_type": "raw",
   "id": "498b60f9",
   "metadata": {},
   "source": [
    "**********\n",
    "**********\n",
    "**********\n",
    "**********\n",
    "**********"
   ]
  },
  {
   "cell_type": "code",
   "execution_count": 34,
   "id": "f1ca5f39",
   "metadata": {},
   "outputs": [
    {
     "name": "stdout",
     "output_type": "stream",
     "text": [
      "**********\n",
      "**********\n",
      "**********\n",
      "**********\n",
      "**********\n"
     ]
    }
   ],
   "source": [
    "print('**********')\n",
    "print('**********')\n",
    "print('**********')\n",
    "print('**********')\n",
    "print('**********')"
   ]
  },
  {
   "cell_type": "code",
   "execution_count": 35,
   "id": "a4c4bf45",
   "metadata": {},
   "outputs": [
    {
     "name": "stdout",
     "output_type": "stream",
     "text": [
      "**********\n",
      "**********\n",
      "**********\n",
      "**********\n",
      "**********\n"
     ]
    }
   ],
   "source": [
    "for i in range(5):\n",
    "    print('**********')"
   ]
  },
  {
   "cell_type": "code",
   "execution_count": 37,
   "id": "7417f72e",
   "metadata": {},
   "outputs": [
    {
     "name": "stdout",
     "output_type": "stream",
     "text": [
      "j-----> 0\n",
      "**********\n",
      "**********\n",
      "**********\n",
      "**********\n",
      "**********\n",
      "j-----> 1\n",
      "**********\n",
      "**********\n",
      "**********\n",
      "**********\n",
      "**********\n",
      "j-----> 2\n",
      "**********\n",
      "**********\n",
      "**********\n",
      "**********\n",
      "**********\n",
      "j-----> 3\n",
      "**********\n",
      "**********\n",
      "**********\n",
      "**********\n",
      "**********\n",
      "j-----> 4\n",
      "**********\n",
      "**********\n",
      "**********\n",
      "**********\n",
      "**********\n"
     ]
    }
   ],
   "source": [
    "for j in range(5):\n",
    "    print(\"j----->\",j)\n",
    "    for i in range(5):\n",
    "        print(\"**********\")"
   ]
  },
  {
   "cell_type": "code",
   "execution_count": 39,
   "id": "0ca31ed4",
   "metadata": {},
   "outputs": [
    {
     "name": "stdout",
     "output_type": "stream",
     "text": [
      "*\n",
      "*\n",
      "*\n",
      "*\n",
      "*\n",
      "\n",
      "*\n",
      "*\n",
      "*\n",
      "*\n",
      "*\n",
      "\n",
      "*\n",
      "*\n",
      "*\n",
      "*\n",
      "*\n",
      "\n",
      "*\n",
      "*\n",
      "*\n",
      "*\n",
      "*\n",
      "\n",
      "*\n",
      "*\n",
      "*\n",
      "*\n",
      "*\n",
      "\n"
     ]
    }
   ],
   "source": [
    "for i in range(5):\n",
    "    for j in range(5):\n",
    "        print('*')\n",
    "    print()"
   ]
  },
  {
   "cell_type": "code",
   "execution_count": 41,
   "id": "81ced908",
   "metadata": {},
   "outputs": [
    {
     "name": "stdout",
     "output_type": "stream",
     "text": [
      "* * * * * \n",
      "* * * * * \n",
      "* * * * * \n",
      "* * * * * \n",
      "* * * * * \n"
     ]
    }
   ],
   "source": [
    "for i in range(5):\n",
    "    for j in range(5):\n",
    "        print('*',end = \" \")\n",
    "    print()"
   ]
  },
  {
   "cell_type": "code",
   "execution_count": 44,
   "id": "2a857d7d",
   "metadata": {},
   "outputs": [
    {
     "name": "stdout",
     "output_type": "stream",
     "text": [
      "* * * \n",
      "* * * \n",
      "* * * \n"
     ]
    }
   ],
   "source": [
    "for i in range(3):\n",
    "    for j in range(3):\n",
    "        print(\"*\",end = \" \")\n",
    "    print()"
   ]
  },
  {
   "cell_type": "code",
   "execution_count": 45,
   "id": "45454e54",
   "metadata": {},
   "outputs": [
    {
     "name": "stdout",
     "output_type": "stream",
     "text": [
      "* * * * * \n",
      "* * * * * \n",
      "* * * * * \n"
     ]
    }
   ],
   "source": [
    "for i in range(3):\n",
    "    for j in range(5):\n",
    "        print(\"*\",end= \" \")\n",
    "    print()"
   ]
  },
  {
   "cell_type": "code",
   "execution_count": 46,
   "id": "c4754104",
   "metadata": {},
   "outputs": [
    {
     "name": "stdout",
     "output_type": "stream",
     "text": [
      "* * * \n",
      "* * * \n",
      "* * * \n",
      "* * * \n",
      "* * * \n"
     ]
    }
   ],
   "source": [
    "for i in range(5):\n",
    "    for j in range(3):\n",
    "        print(\"*\",end= \" \")\n",
    "    print()"
   ]
  },
  {
   "cell_type": "code",
   "execution_count": 51,
   "id": "9e64c6e7",
   "metadata": {},
   "outputs": [
    {
     "name": "stdout",
     "output_type": "stream",
     "text": [
      "\n",
      "* \n",
      "* * \n",
      "* * * \n",
      "* * * * \n"
     ]
    }
   ],
   "source": [
    "for i in range(5):\n",
    "    for j in range(i):\n",
    "        print(\"*\",end = \" \")\n",
    "    print()"
   ]
  },
  {
   "cell_type": "code",
   "execution_count": 53,
   "id": "d0658976",
   "metadata": {},
   "outputs": [
    {
     "name": "stdout",
     "output_type": "stream",
     "text": [
      "* \n",
      "* * \n",
      "* * * \n",
      "* * * * \n",
      "* * * * * \n"
     ]
    }
   ],
   "source": [
    "for i in range(1,6):\n",
    "    for j in range(i):\n",
    "        print(\"*\",end = \" \")\n",
    "    print()"
   ]
  },
  {
   "cell_type": "code",
   "execution_count": 55,
   "id": "ad418a8c",
   "metadata": {},
   "outputs": [
    {
     "name": "stdout",
     "output_type": "stream",
     "text": [
      " *\n",
      " * *\n",
      " * * *\n",
      " * * * *\n",
      " * * * * *\n",
      " * * * * * *\n",
      " * * * * * * *\n",
      " * * * * * * * *\n",
      " * * * * * * * * *\n"
     ]
    }
   ],
   "source": [
    "for i in range(1,10):\n",
    "    for j in range(i):\n",
    "        print(\" \",end = \"*\")\n",
    "    print()"
   ]
  },
  {
   "cell_type": "code",
   "execution_count": 56,
   "id": "314891d7",
   "metadata": {},
   "outputs": [
    {
     "name": "stdout",
     "output_type": "stream",
     "text": [
      "* * * * * * \n",
      "* * * * * \n",
      "* * * * \n",
      "* * * \n",
      "* * \n",
      "* \n"
     ]
    }
   ],
   "source": [
    "for i in range(6,0,-1):\n",
    "    for j in range(i):\n",
    "        print(\"*\",end = \" \")\n",
    "    print()"
   ]
  },
  {
   "cell_type": "raw",
   "id": "684e6428",
   "metadata": {},
   "source": [
    "1 1 1 1 1\n",
    "1 1 1 1 1\n",
    "1 1 1 1 1\n",
    "1 1 1 1 1\n",
    "1 1 1 1 1"
   ]
  },
  {
   "cell_type": "code",
   "execution_count": 61,
   "id": "971fb532",
   "metadata": {
    "scrolled": true
   },
   "outputs": [
    {
     "name": "stdout",
     "output_type": "stream",
     "text": [
      "1 1 1 1 1 \n",
      "1 1 1 1 1 \n",
      "1 1 1 1 1 \n",
      "1 1 1 1 1 \n",
      "1 1 1 1 1 \n"
     ]
    }
   ],
   "source": [
    "for i in range(5):\n",
    "    for j in range(5):\n",
    "        print(\"1\",end = \" \")\n",
    "    print()"
   ]
  },
  {
   "cell_type": "code",
   "execution_count": 62,
   "id": "e48ad44c",
   "metadata": {},
   "outputs": [
    {
     "name": "stdout",
     "output_type": "stream",
     "text": [
      "1 1 1 1 1 \n",
      "1 1 1 1 1 \n",
      "1 1 1 1 1 \n",
      "1 1 1 1 1 \n",
      "1 1 1 1 1 \n"
     ]
    }
   ],
   "source": [
    "num = 1\n",
    "for i in range(5):\n",
    "    for j in range(5):\n",
    "        print(num,end = \" \")\n",
    "    print()"
   ]
  },
  {
   "cell_type": "code",
   "execution_count": 63,
   "id": "0194bdb4",
   "metadata": {},
   "outputs": [
    {
     "name": "stdout",
     "output_type": "stream",
     "text": [
      "5 5 5 5 5 \n",
      "5 5 5 5 5 \n",
      "5 5 5 5 5 \n",
      "5 5 5 5 5 \n",
      "5 5 5 5 5 \n"
     ]
    }
   ],
   "source": [
    "num = 5\n",
    "for i in range(5):\n",
    "    for j in range(5):\n",
    "        print(num,end = \" \")\n",
    "    print()"
   ]
  },
  {
   "cell_type": "code",
   "execution_count": 3,
   "id": "ab5b6bf8",
   "metadata": {},
   "outputs": [
    {
     "name": "stdout",
     "output_type": "stream",
     "text": [
      "1 1 1 1 1 \n",
      "2 2 2 2 2 \n",
      "3 3 3 3 3 \n",
      "4 4 4 4 4 \n",
      "5 5 5 5 5 \n"
     ]
    }
   ],
   "source": [
    "for i in range(1,6):\n",
    "    for j in range(1,6):\n",
    "        print(i,end =' ')\n",
    "    print()"
   ]
  },
  {
   "cell_type": "code",
   "execution_count": 71,
   "id": "f64f7156",
   "metadata": {},
   "outputs": [
    {
     "name": "stdout",
     "output_type": "stream",
     "text": [
      "1 2 3 4 5 \n",
      "1 2 3 4 5 \n",
      "1 2 3 4 5 \n",
      "1 2 3 4 5 \n",
      "1 2 3 4 5 \n"
     ]
    }
   ],
   "source": [
    "for i in range(1,6):\n",
    "    for j in range(1,6):\n",
    "        print(j,end =' ')\n",
    "    print()"
   ]
  },
  {
   "cell_type": "code",
   "execution_count": 73,
   "id": "920b973a",
   "metadata": {},
   "outputs": [
    {
     "name": "stdout",
     "output_type": "stream",
     "text": [
      "0 1 2 3 4 5 \n",
      "0 1 2 3 4 5 \n",
      "0 1 2 3 4 5 \n",
      "0 1 2 3 4 5 \n",
      "0 1 2 3 4 5 \n",
      "0 1 2 3 4 5 \n"
     ]
    }
   ],
   "source": [
    "for i in range(6):\n",
    "    for j in range(6):\n",
    "        print(j,end =' ')\n",
    "    print()"
   ]
  },
  {
   "cell_type": "code",
   "execution_count": 74,
   "id": "7548eb2e",
   "metadata": {},
   "outputs": [
    {
     "name": "stdout",
     "output_type": "stream",
     "text": [
      "0 0 0 0 0 0 \n",
      "1 1 1 1 1 1 \n",
      "2 2 2 2 2 2 \n",
      "3 3 3 3 3 3 \n",
      "4 4 4 4 4 4 \n",
      "5 5 5 5 5 5 \n"
     ]
    }
   ],
   "source": [
    "for i in range(6):\n",
    "    for j in range(6):\n",
    "        print(i,end =' ')\n",
    "    print()"
   ]
  },
  {
   "cell_type": "raw",
   "id": "b2c7759f",
   "metadata": {},
   "source": [
    "1\n",
    "1 2\n",
    "1 2 3\n",
    "1 2 3 4\n",
    "1 2 3 4 5"
   ]
  },
  {
   "cell_type": "code",
   "execution_count": 1,
   "id": "be544dfa",
   "metadata": {},
   "outputs": [
    {
     "name": "stdout",
     "output_type": "stream",
     "text": [
      "1 \n",
      "2 2 \n",
      "3 3 3 \n",
      "4 4 4 4 \n",
      "5 5 5 5 5 \n"
     ]
    }
   ],
   "source": [
    "for i in range(1,6):\n",
    "    for j in range(i):\n",
    "        print(i,end = \" \")\n",
    "    print()"
   ]
  },
  {
   "cell_type": "code",
   "execution_count": 82,
   "id": "2c0e11e1",
   "metadata": {},
   "outputs": [
    {
     "name": "stdout",
     "output_type": "stream",
     "text": [
      "A A A A A \n",
      "A A A A A \n",
      "A A A A A \n",
      "A A A A A \n",
      "A A A A A \n"
     ]
    }
   ],
   "source": [
    "for i in range(1,6):\n",
    "    for j in range(1,6):\n",
    "        print(\"A\",end = \" \")\n",
    "    print()"
   ]
  },
  {
   "cell_type": "code",
   "execution_count": 83,
   "id": "35e9ccc0",
   "metadata": {},
   "outputs": [
    {
     "data": {
      "text/plain": [
       "'A'"
      ]
     },
     "execution_count": 83,
     "metadata": {},
     "output_type": "execute_result"
    }
   ],
   "source": [
    "chr(65)"
   ]
  },
  {
   "cell_type": "code",
   "execution_count": 84,
   "id": "a125d7c8",
   "metadata": {},
   "outputs": [
    {
     "data": {
      "text/plain": [
       "'a'"
      ]
     },
     "execution_count": 84,
     "metadata": {},
     "output_type": "execute_result"
    }
   ],
   "source": [
    "chr(97)"
   ]
  },
  {
   "cell_type": "code",
   "execution_count": 88,
   "id": "8e3e54ee",
   "metadata": {},
   "outputs": [
    {
     "data": {
      "text/plain": [
       "'Z'"
      ]
     },
     "execution_count": 88,
     "metadata": {},
     "output_type": "execute_result"
    }
   ],
   "source": [
    "chr(90)"
   ]
  },
  {
   "cell_type": "code",
   "execution_count": 90,
   "id": "d4f6f86f",
   "metadata": {},
   "outputs": [
    {
     "data": {
      "text/plain": [
       "'z'"
      ]
     },
     "execution_count": 90,
     "metadata": {},
     "output_type": "execute_result"
    }
   ],
   "source": [
    "chr(122)"
   ]
  },
  {
   "cell_type": "code",
   "execution_count": 91,
   "id": "a654eee7",
   "metadata": {},
   "outputs": [
    {
     "name": "stdout",
     "output_type": "stream",
     "text": [
      "A A A A A \n",
      "A A A A A \n",
      "A A A A A \n",
      "A A A A A \n",
      "A A A A A \n"
     ]
    }
   ],
   "source": [
    "for i in range(1,6):\n",
    "    for j in range(1,6):\n",
    "        print(chr(65),end = \" \")\n",
    "    print()"
   ]
  },
  {
   "cell_type": "code",
   "execution_count": 92,
   "id": "fdf20403",
   "metadata": {},
   "outputs": [
    {
     "name": "stdout",
     "output_type": "stream",
     "text": [
      "A A A A A \n",
      "A A A A A \n",
      "A A A A A \n",
      "A A A A A \n",
      "A A A A A \n"
     ]
    }
   ],
   "source": [
    "num = 65\n",
    "for i in range(1,6):\n",
    "    for j in range(1,6):\n",
    "        print(chr(num),end = \" \")\n",
    "    print()"
   ]
  },
  {
   "cell_type": "code",
   "execution_count": 94,
   "id": "da33143f",
   "metadata": {},
   "outputs": [
    {
     "name": "stdout",
     "output_type": "stream",
     "text": [
      "A A A A A \n",
      "B B B B B \n",
      "C C C C C \n",
      "D D D D D \n",
      "E E E E E \n"
     ]
    }
   ],
   "source": [
    "num = 65\n",
    "for i in range(1,6):\n",
    "    for j in range(1,6):\n",
    "        print(chr(num),end = \" \")\n",
    "    num+=1\n",
    "    print()"
   ]
  },
  {
   "cell_type": "code",
   "execution_count": 95,
   "id": "20cccf7a",
   "metadata": {},
   "outputs": [
    {
     "name": "stdout",
     "output_type": "stream",
     "text": [
      "A B C D E \n",
      "F G H I J \n",
      "K L M N O \n",
      "P Q R S T \n",
      "U V W X Y \n"
     ]
    }
   ],
   "source": [
    "num = 65\n",
    "for i in range(1,6):\n",
    "    for j in range(1,6):\n",
    "        print(chr(num),end = \" \")\n",
    "        num+=1\n",
    "    print()"
   ]
  },
  {
   "cell_type": "code",
   "execution_count": 101,
   "id": "b29db78a",
   "metadata": {},
   "outputs": [
    {
     "name": "stdout",
     "output_type": "stream",
     "text": [
      "A B C D E \n",
      "A B C D E \n",
      "A B C D E \n",
      "A B C D E \n",
      "A B C D E \n"
     ]
    }
   ],
   "source": [
    "num = 65\n",
    "for i in range(1,6):\n",
    "    num = 65\n",
    "    for j in range(1,6):\n",
    "        print(chr(num),end = \" \")\n",
    "        num+=1 \n",
    "    print()"
   ]
  },
  {
   "cell_type": "raw",
   "id": "5227af16",
   "metadata": {},
   "source": [
    "A \n",
    "A B \n",
    "A B C \n",
    "A B C D \n",
    "A B C D E "
   ]
  },
  {
   "cell_type": "code",
   "execution_count": 104,
   "id": "c3c95f5a",
   "metadata": {},
   "outputs": [
    {
     "name": "stdout",
     "output_type": "stream",
     "text": [
      "A \n",
      "A B \n",
      "A B C \n",
      "A B C D \n",
      "A B C D E \n"
     ]
    }
   ],
   "source": [
    "for i in range(1,6):\n",
    "    num = 65\n",
    "    for j in range(i):\n",
    "        print(chr(num),end = \" \")\n",
    "        num+=1\n",
    "    print()"
   ]
  },
  {
   "cell_type": "code",
   "execution_count": 105,
   "id": "d1135f47",
   "metadata": {},
   "outputs": [
    {
     "name": "stdout",
     "output_type": "stream",
     "text": [
      "a \n",
      "a b \n",
      "a b c \n",
      "a b c d \n",
      "a b c d e \n"
     ]
    }
   ],
   "source": [
    "for i in range(1,6):\n",
    "    num = 97\n",
    "    for j in range(i):\n",
    "        print(chr(num),end=\" \")\n",
    "        num+=1\n",
    "    print()"
   ]
  },
  {
   "cell_type": "code",
   "execution_count": 108,
   "id": "7a24e486",
   "metadata": {},
   "outputs": [
    {
     "name": "stdout",
     "output_type": "stream",
     "text": [
      "a \n",
      "b b \n",
      "c c c \n",
      "d d d d \n",
      "e e e e e \n"
     ]
    }
   ],
   "source": [
    "num = 97\n",
    "for i in range(1,6):\n",
    "    for j in range(i):\n",
    "        print(chr(num),end=\" \")\n",
    "    num+=1\n",
    "    print()"
   ]
  },
  {
   "cell_type": "code",
   "execution_count": 111,
   "id": "fceb9991",
   "metadata": {},
   "outputs": [
    {
     "name": "stdout",
     "output_type": "stream",
     "text": [
      "a \n",
      "b c \n",
      "d e f \n",
      "g h i j \n",
      "k l m n o \n"
     ]
    }
   ],
   "source": [
    "num = 97\n",
    "for i in range(1,6):\n",
    "    for j in range(i):\n",
    "        print(chr(num),end=\" \")\n",
    "        num+=1\n",
    "    print()"
   ]
  },
  {
   "cell_type": "raw",
   "id": "79fdd634",
   "metadata": {},
   "source": [
    "*\n",
    "* *\n",
    "* * *\n",
    "* * * * \n",
    "* * * * *"
   ]
  },
  {
   "cell_type": "code",
   "execution_count": 114,
   "id": "28b0b611",
   "metadata": {},
   "outputs": [
    {
     "name": "stdout",
     "output_type": "stream",
     "text": [
      "*\n",
      "**\n",
      "***\n",
      "****\n",
      "*****\n"
     ]
    }
   ],
   "source": [
    "for i in range(1,6):\n",
    "    for j in range(i):\n",
    "        print('*',end = \"\")\n",
    "    print()"
   ]
  },
  {
   "cell_type": "code",
   "execution_count": 3,
   "id": "445add5f",
   "metadata": {},
   "outputs": [
    {
     "name": "stdout",
     "output_type": "stream",
     "text": [
      "*    \n",
      "**   \n",
      "***  \n",
      "**** \n",
      "*****\n"
     ]
    }
   ],
   "source": [
    "n = 5\n",
    "for i in range(1,n+1):\n",
    "    print(\"*\"*i+\" \"*(n-i))"
   ]
  },
  {
   "cell_type": "code",
   "execution_count": 4,
   "id": "88d6dcbc",
   "metadata": {},
   "outputs": [
    {
     "name": "stdout",
     "output_type": "stream",
     "text": [
      "    *\n",
      "   **\n",
      "  ***\n",
      " ****\n",
      "*****\n"
     ]
    }
   ],
   "source": [
    "n = 5\n",
    "for i in range(1,n+1):\n",
    "    print(\" \"*(n-i)+\"*\"*i)"
   ]
  },
  {
   "cell_type": "code",
   "execution_count": 21,
   "id": "2f3da536",
   "metadata": {},
   "outputs": [
    {
     "name": "stdout",
     "output_type": "stream",
     "text": [
      "     *\n",
      "    * *\n",
      "   * * *\n",
      "  * * * *\n",
      " * * * * *\n"
     ]
    }
   ],
   "source": [
    "n =5\n",
    "for i in range(1,n+1):\n",
    "    print(\" \"*(n-i)+\" *\"*i)"
   ]
  },
  {
   "cell_type": "code",
   "execution_count": 23,
   "id": "7f49dd0e",
   "metadata": {},
   "outputs": [
    {
     "name": "stdout",
     "output_type": "stream",
     "text": [
      "    * \n",
      "   * * \n",
      "  * * * \n",
      " * * * * \n",
      "* * * * * \n"
     ]
    }
   ],
   "source": [
    "n =5\n",
    "for i in range(1,n+1):\n",
    "    print(\" \"*(n-i)+\"* \"*i)"
   ]
  },
  {
   "cell_type": "code",
   "execution_count": 27,
   "id": "4bdad67b",
   "metadata": {},
   "outputs": [
    {
     "name": "stdout",
     "output_type": "stream",
     "text": [
      "     *\n",
      "    * *\n",
      "   * * *\n",
      "  * * * *\n",
      " * * * * *\n",
      "  * * * *\n",
      "   * * *\n",
      "    * *\n",
      "     *\n"
     ]
    }
   ],
   "source": [
    "n = 5\n",
    "for i in range(1,n+1):\n",
    "    print(\" \"*(n-i)+\" *\"*i)\n",
    "    \n",
    "for i in range(n-1,0,-1):\n",
    "    print(\" \"*(n-i)+\" *\"*i)"
   ]
  },
  {
   "cell_type": "code",
   "execution_count": 36,
   "id": "b9198ed2",
   "metadata": {},
   "outputs": [
    {
     "name": "stdout",
     "output_type": "stream",
     "text": [
      "    *\n",
      "   **\n",
      "  ***\n",
      " ****\n",
      "*****\n",
      " ****\n",
      "  ***\n",
      "   **\n",
      "    *\n"
     ]
    }
   ],
   "source": [
    "n = 5\n",
    "for i in range(1,n+1):\n",
    "    print(\" \"*(n-i) + \"*\"*i) #sigle space\n",
    "    \n",
    "for i in range(n-1,0,-1):\n",
    "    print(\" \"*(n-i) + \"*\"*i)"
   ]
  },
  {
   "cell_type": "code",
   "execution_count": 39,
   "id": "89798bc1",
   "metadata": {},
   "outputs": [
    {
     "name": "stdout",
     "output_type": "stream",
     "text": [
      "        *\n",
      "      **\n",
      "    ***\n",
      "  ****\n",
      "*****\n",
      "  ****\n",
      "    ***\n",
      "      **\n",
      "        *\n"
     ]
    }
   ],
   "source": [
    "n = 5\n",
    "for i in range(1,n+1):\n",
    "    print(\"  \"*(n-i) + \"*\"*i) #2 spaces\n",
    "\n",
    "for i in range(n-1,0,-1):\n",
    "    print(\"  \"*(n-i) + \"*\"*i)"
   ]
  },
  {
   "cell_type": "code",
   "execution_count": 42,
   "id": "b7f6e3c0",
   "metadata": {},
   "outputs": [
    {
     "name": "stdout",
     "output_type": "stream",
     "text": [
      "     *\n",
      "    * *\n",
      "   * * *\n",
      "  * * * *\n",
      " * * * * *\n",
      "  * * * *\n",
      "   * * *\n",
      "    * *\n",
      "     *\n"
     ]
    }
   ],
   "source": [
    "n = 5\n",
    "for i in range(1,n+1):\n",
    "    print(\" \"*(n-i) + \" *\"*i) #2 spaces\n",
    "\n",
    "for i in range(n-1,0,-1):\n",
    "    print(\" \"*(n-i) + \" *\"*i)"
   ]
  },
  {
   "cell_type": "code",
   "execution_count": 46,
   "id": "ccd501d2",
   "metadata": {},
   "outputs": [
    {
     "name": "stdout",
     "output_type": "stream",
     "text": [
      " *\n",
      " * *\n",
      " * * *\n",
      " * * * *\n",
      " * * * * *\n",
      " * * * *\n",
      " * * *\n",
      " * *\n",
      " *\n"
     ]
    }
   ],
   "source": [
    "n = 5\n",
    "for i in range(1,n+1):\n",
    "    print(\"\"*(n-i) + \" *\"*i)\n",
    "    \n",
    "for i in range(n-1,0,-1):\n",
    "    print(\"\"*(n-i) + \" *\"*i)"
   ]
  },
  {
   "cell_type": "code",
   "execution_count": 54,
   "id": "0e38369c",
   "metadata": {},
   "outputs": [
    {
     "name": "stdout",
     "output_type": "stream",
     "text": [
      " *\n",
      " * *\n",
      " * * *\n",
      " * * * *\n",
      " * * * * *\n",
      " * * * *\n",
      " * * *\n",
      " * *\n",
      " *\n"
     ]
    }
   ],
   "source": [
    "n = 5\n",
    "for i in range(1,n+1):\n",
    "    print(\"\"*(n-i) + \" *\"*i)\n",
    "    \n",
    "for i in range(n-1,0,-1):\n",
    "    print(\"\"*(n-i) + \" *\"*i)\n"
   ]
  },
  {
   "cell_type": "code",
   "execution_count": 56,
   "id": "148722f7",
   "metadata": {},
   "outputs": [
    {
     "name": "stdout",
     "output_type": "stream",
     "text": [
      "        * \n",
      "      * * \n",
      "    * * * \n",
      "  * * * * \n",
      "* * * * * \n",
      "  * * * * \n",
      "    * * * \n",
      "      * * \n",
      "        * \n"
     ]
    }
   ],
   "source": [
    "n = 5\n",
    "for i in range(1,n+1):\n",
    "    print(\"  \"*(n-i) + \"* \"*i)\n",
    "    \n",
    "for i in range(n-1,0,-1):\n",
    "    print(\"  \"*(n-i) + \"* \"*i)"
   ]
  },
  {
   "cell_type": "code",
   "execution_count": 64,
   "id": "eb5db8be",
   "metadata": {},
   "outputs": [
    {
     "name": "stdout",
     "output_type": "stream",
     "text": [
      "        *   *\n",
      "      * *   * *\n",
      "    * * *   * * *\n",
      "  * * * *   * * * *\n",
      "* * * * *   * * * * *\n",
      "  * * * *   * * * *\n",
      "    * * *   * * *\n",
      "      * *   * *\n",
      "        *   *\n"
     ]
    }
   ],
   "source": [
    "n = 5\n",
    "for i in range(1,n+1):\n",
    "    print(\"  \"*(n-i) + \"* \"*i,\"\"*(n-i) + \" *\"*i)\n",
    "    \n",
    "for i in range(n-1,0,-1):\n",
    "    print(\"  \"*(n-i) + \"* \"*i,\"\"*(n-i) + \" *\"*i)\n",
    "    "
   ]
  },
  {
   "cell_type": "code",
   "execution_count": 70,
   "id": "481a02cb",
   "metadata": {},
   "outputs": [
    {
     "name": "stdout",
     "output_type": "stream",
     "text": [
      "* \n",
      "* * \n",
      "* * * \n",
      "* * * * \n",
      "* * * * * \n",
      "* * * * \n",
      "* * * \n",
      "* * \n",
      "* \n"
     ]
    }
   ],
   "source": [
    "n = 5\n",
    "for i in range(1,n+1):\n",
    "    for j in range(i):\n",
    "        print(\"*\",end=' ')\n",
    "    print()\n",
    "for i in range(n-1,0,-1):\n",
    "    for j in range(i):\n",
    "        print(\"*\",end=' ')\n",
    "    print()"
   ]
  },
  {
   "cell_type": "code",
   "execution_count": 71,
   "id": "a2c91046",
   "metadata": {},
   "outputs": [
    {
     "data": {
      "text/plain": [
       "1"
      ]
     },
     "execution_count": 71,
     "metadata": {},
     "output_type": "execute_result"
    }
   ],
   "source": [
    "1 > 1\n",
    "2 > 3\n",
    "3 > 5\n",
    "4 > 7\n",
    "5 > 9\n",
    "\n",
    "\n",
    "(i*2 - 1)"
   ]
  },
  {
   "cell_type": "code",
   "execution_count": 81,
   "id": "ebdf0f70",
   "metadata": {},
   "outputs": [
    {
     "name": "stdout",
     "output_type": "stream",
     "text": [
      "    *\n",
      "   ***\n",
      "  *****\n",
      " *******\n",
      "*********\n"
     ]
    }
   ],
   "source": [
    "n = 5\n",
    "for i in range(1,n+1):\n",
    "    print(' '*(n-i)+'*'*(i*2-1))"
   ]
  },
  {
   "cell_type": "code",
   "execution_count": 87,
   "id": "49c275a4",
   "metadata": {},
   "outputs": [
    {
     "name": "stdout",
     "output_type": "stream",
     "text": [
      "        *\n",
      "      ***\n",
      "    *****\n",
      "  *******\n",
      "*********\n"
     ]
    }
   ],
   "source": [
    "n = 5\n",
    "for i in range(1,n+1):\n",
    "    print('  '*(n-i)+'*'*(i*2-1))"
   ]
  },
  {
   "cell_type": "code",
   "execution_count": 88,
   "id": "36a3b2ae",
   "metadata": {},
   "outputs": [
    {
     "name": "stdout",
     "output_type": "stream",
     "text": [
      "*\n",
      "***\n",
      "*****\n",
      "*******\n",
      "*********\n"
     ]
    }
   ],
   "source": [
    "n = 5\n",
    "for i in range(1,n+1):\n",
    "    print(''*(n-i)+'*'*(i*2-1))"
   ]
  },
  {
   "cell_type": "code",
   "execution_count": 89,
   "id": "b404539d",
   "metadata": {},
   "outputs": [
    {
     "data": {
      "text/plain": [
       "[1, 2, 3, [11, 22, 33], 5, 6, 7, [111, 222, 333], 232, [223, 323]]"
      ]
     },
     "execution_count": 89,
     "metadata": {},
     "output_type": "execute_result"
    }
   ],
   "source": [
    "li = [1,2,3,[11,22,33],5,6,7,[111,222,333],232,[223,323]]\n",
    "li"
   ]
  },
  {
   "cell_type": "code",
   "execution_count": 92,
   "id": "7cea5a86",
   "metadata": {},
   "outputs": [
    {
     "ename": "TypeError",
     "evalue": "'int' object is not iterable",
     "output_type": "error",
     "traceback": [
      "\u001b[1;31m---------------------------------------------------------------------------\u001b[0m",
      "\u001b[1;31mTypeError\u001b[0m                                 Traceback (most recent call last)",
      "\u001b[1;32m~\\AppData\\Local\\Temp/ipykernel_4288/1417821519.py\u001b[0m in \u001b[0;36m<module>\u001b[1;34m\u001b[0m\n\u001b[0;32m      2\u001b[0m \u001b[1;32mfor\u001b[0m \u001b[0mi\u001b[0m \u001b[1;32min\u001b[0m \u001b[0mli\u001b[0m\u001b[1;33m:\u001b[0m\u001b[1;33m\u001b[0m\u001b[1;33m\u001b[0m\u001b[0m\n\u001b[0;32m      3\u001b[0m \u001b[1;33m\u001b[0m\u001b[0m\n\u001b[1;32m----> 4\u001b[1;33m     \u001b[1;32mfor\u001b[0m \u001b[0mj\u001b[0m \u001b[1;32min\u001b[0m \u001b[0mi\u001b[0m\u001b[1;33m:\u001b[0m\u001b[1;33m\u001b[0m\u001b[1;33m\u001b[0m\u001b[0m\n\u001b[0m\u001b[0;32m      5\u001b[0m         \u001b[0mflatten_list\u001b[0m\u001b[1;33m.\u001b[0m\u001b[0mappend\u001b[0m\u001b[1;33m(\u001b[0m\u001b[0mj\u001b[0m\u001b[1;33m)\u001b[0m\u001b[1;33m\u001b[0m\u001b[1;33m\u001b[0m\u001b[0m\n",
      "\u001b[1;31mTypeError\u001b[0m: 'int' object is not iterable"
     ]
    }
   ],
   "source": [
    "flatten_list = []\n",
    "for i in li:\n",
    "    \n",
    "    for j in i:\n",
    "        flatten_list.append(j)"
   ]
  },
  {
   "cell_type": "code",
   "execution_count": 98,
   "id": "f77e3738",
   "metadata": {},
   "outputs": [
    {
     "data": {
      "text/plain": [
       "[1, 2, 3, 11, 22, 33, 5, 6, 7, 111, 222, 333, 232, 223, 323]"
      ]
     },
     "execution_count": 98,
     "metadata": {},
     "output_type": "execute_result"
    }
   ],
   "source": [
    "flatten_list = []\n",
    "li = [1,2,3,[11,22,33],5,6,7,[111,222,333],232,[223,323]]\n",
    "for i in li:\n",
    "    if type(i) == int:\n",
    "        flatten_list.append(i)\n",
    "    else:\n",
    "        for j in i:\n",
    "            flatten_list.append(j)\n",
    "flatten_list"
   ]
  },
  {
   "cell_type": "code",
   "execution_count": 99,
   "id": "81318848",
   "metadata": {},
   "outputs": [
    {
     "data": {
      "text/plain": [
       "[1, 2, 3, 11, [22, 33], 5, 6, 7, 111, [222, 333], 232, 223, 323]"
      ]
     },
     "execution_count": 99,
     "metadata": {},
     "output_type": "execute_result"
    }
   ],
   "source": [
    "flatten_list = []\n",
    "li = [1,2,3,[11,[22,33]],5,6,7,[111,[222,333]],232,[223,323]]\n",
    "for i in li:\n",
    "    if type(i) == int:\n",
    "        flatten_list.append(i)\n",
    "    else:\n",
    "        for j in i:\n",
    "            flatten_list.append(j)\n",
    "flatten_list"
   ]
  },
  {
   "cell_type": "code",
   "execution_count": 5,
   "id": "ef5a8481",
   "metadata": {},
   "outputs": [
    {
     "data": {
      "text/plain": [
       "[1, 2, 3, 11, 22, 33, 5, 6, 7, 111, 222, 333, 232, 223, 323]"
      ]
     },
     "execution_count": 5,
     "metadata": {},
     "output_type": "execute_result"
    }
   ],
   "source": [
    "flatten_list = []\n",
    "li = [1,2,3,[11,[22,33]],5,6,7,[111,[222,333]],232,[223,323]]\n",
    "\n",
    "\n",
    "def removenesting(li):\n",
    "    for i in li:\n",
    "        if type(i)==list:\n",
    "            removenesting(i)\n",
    "        else:\n",
    "            flatten_list.append(i)\n",
    "        \n",
    "        \n",
    "removenesting(li)        \n",
    "flatten_list"
   ]
  }
 ],
 "metadata": {
  "kernelspec": {
   "display_name": "Python 3 (ipykernel)",
   "language": "python",
   "name": "python3"
  },
  "language_info": {
   "codemirror_mode": {
    "name": "ipython",
    "version": 3
   },
   "file_extension": ".py",
   "mimetype": "text/x-python",
   "name": "python",
   "nbconvert_exporter": "python",
   "pygments_lexer": "ipython3",
   "version": "3.12.4"
  }
 },
 "nbformat": 4,
 "nbformat_minor": 5
}
