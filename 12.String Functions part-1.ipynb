{
 "cells": [
  {
   "cell_type": "markdown",
   "id": "f261fcf1",
   "metadata": {},
   "source": [
    "# Strings functions\n",
    "- Strings are immutable that means we cannot change or modify a string once created"
   ]
  },
  {
   "cell_type": "code",
   "execution_count": 3,
   "id": "d433a996",
   "metadata": {},
   "outputs": [
    {
     "data": {
      "text/plain": [
       "'Python'"
      ]
     },
     "execution_count": 3,
     "metadata": {},
     "output_type": "execute_result"
    }
   ],
   "source": [
    "str1 = \"Python\"\n",
    "str1"
   ]
  },
  {
   "cell_type": "code",
   "execution_count": 4,
   "id": "2462282e",
   "metadata": {},
   "outputs": [
    {
     "data": {
      "text/plain": [
       "'P'"
      ]
     },
     "execution_count": 4,
     "metadata": {},
     "output_type": "execute_result"
    }
   ],
   "source": [
    "str1[0]"
   ]
  },
  {
   "cell_type": "code",
   "execution_count": 5,
   "id": "b767bea8",
   "metadata": {},
   "outputs": [],
   "source": [
    "str2 = \"Data Science\"\n"
   ]
  },
  {
   "cell_type": "code",
   "execution_count": 6,
   "id": "a4003030",
   "metadata": {},
   "outputs": [
    {
     "data": {
      "text/plain": [
       "'Python'"
      ]
     },
     "execution_count": 6,
     "metadata": {},
     "output_type": "execute_result"
    }
   ],
   "source": [
    "str1"
   ]
  },
  {
   "cell_type": "code",
   "execution_count": 7,
   "id": "b0880c17",
   "metadata": {},
   "outputs": [
    {
     "data": {
      "text/plain": [
       "'Data Science'"
      ]
     },
     "execution_count": 7,
     "metadata": {},
     "output_type": "execute_result"
    }
   ],
   "source": [
    "str2"
   ]
  },
  {
   "cell_type": "code",
   "execution_count": 12,
   "id": "ce99bcc3",
   "metadata": {},
   "outputs": [
    {
     "name": "stdout",
     "output_type": "stream",
     "text": [
      "str1 = Python\n",
      "str2 = Data Science\n",
      "str3 = PythonData Science\n"
     ]
    }
   ],
   "source": [
    "print(f\"str1 = {str1}\")\n",
    "print(f\"str2 = {str2}\")\n",
    "str3 = str1 +  str2\n",
    "print(f\"str3 = {str3}\")"
   ]
  },
  {
   "cell_type": "code",
   "execution_count": 13,
   "id": "06a4a8ab",
   "metadata": {},
   "outputs": [
    {
     "name": "stdout",
     "output_type": "stream",
     "text": [
      "str1 = Python\n",
      "str2 = Data Science\n",
      "str3 = Python Data Science\n"
     ]
    }
   ],
   "source": [
    "print(f\"str1 = {str1}\")\n",
    "print(f\"str2 = {str2}\")\n",
    "str3 = str1 + \" \"  + str2\n",
    "print(f\"str3 = {str3}\")"
   ]
  },
  {
   "cell_type": "code",
   "execution_count": 15,
   "id": "dc3b14e6",
   "metadata": {},
   "outputs": [
    {
     "name": "stdout",
     "output_type": "stream",
     "text": [
      "str1 = Python\n",
      "str2 = Data Science\n",
      "str3 = Python & Data Science\n"
     ]
    }
   ],
   "source": [
    "print(f\"str1 = {str1}\")\n",
    "print(f\"str2 = {str2}\")\n",
    "str3 = str1 + \" \" +\"&\" + \" \"  + str2\n",
    "print(f\"str3 = {str3}\")"
   ]
  },
  {
   "cell_type": "code",
   "execution_count": 17,
   "id": "145d5e54",
   "metadata": {},
   "outputs": [
    {
     "name": "stdout",
     "output_type": "stream",
     "text": [
      "str1 = 10\n",
      "str2 = 20\n",
      "str3 = 1020\n"
     ]
    }
   ],
   "source": [
    "str1 = \"10\"\n",
    "str2 = \"20\"\n",
    "print(f\"str1 = {str1}\")\n",
    "print(f\"str2 = {str2}\")\n",
    "str3 = str1 + str2\n",
    "print(f\"str3 = {str3}\")"
   ]
  },
  {
   "cell_type": "code",
   "execution_count": 18,
   "id": "3e23fb8a",
   "metadata": {},
   "outputs": [
    {
     "name": "stdout",
     "output_type": "stream",
     "text": [
      "str1 = 10\n",
      "str2 = 20\n",
      "str3 = 30\n"
     ]
    }
   ],
   "source": [
    "str1 = \"10\"\n",
    "str2 = \"20\"\n",
    "print(f\"str1 = {str1}\")\n",
    "print(f\"str2 = {str2}\")\n",
    "str3 = int(str1) + int(str2)\n",
    "print(f\"str3 = {str3}\")"
   ]
  },
  {
   "cell_type": "code",
   "execution_count": 19,
   "id": "9a1a04af",
   "metadata": {},
   "outputs": [
    {
     "data": {
      "text/plain": [
       "40"
      ]
     },
     "execution_count": 19,
     "metadata": {},
     "output_type": "execute_result"
    }
   ],
   "source": [
    "str3 + 10"
   ]
  },
  {
   "cell_type": "code",
   "execution_count": 20,
   "id": "81a9fe42",
   "metadata": {},
   "outputs": [
    {
     "data": {
      "text/plain": [
       "'Python'"
      ]
     },
     "execution_count": 20,
     "metadata": {},
     "output_type": "execute_result"
    }
   ],
   "source": [
    "str1 = \"Python\"\n",
    "str1"
   ]
  },
  {
   "cell_type": "code",
   "execution_count": 21,
   "id": "fb3f2b5e",
   "metadata": {},
   "outputs": [
    {
     "data": {
      "text/plain": [
       "'PythonPythonPython'"
      ]
     },
     "execution_count": 21,
     "metadata": {},
     "output_type": "execute_result"
    }
   ],
   "source": [
    "str1 + str1 + str1"
   ]
  },
  {
   "cell_type": "code",
   "execution_count": 1,
   "id": "6851ecae",
   "metadata": {},
   "outputs": [],
   "source": [
    "folder_path = r\"C:\\Users\\Mohit\\Desktop\\VELOCITY\\31st july python and data science\\01_Aug_Introduction\""
   ]
  },
  {
   "cell_type": "code",
   "execution_count": 2,
   "id": "43a23423",
   "metadata": {},
   "outputs": [
    {
     "data": {
      "text/plain": [
       "'C:\\\\Users\\\\Mohit\\\\Desktop\\\\VELOCITY\\\\31st july python and data science\\\\01_Aug_Introduction'"
      ]
     },
     "execution_count": 2,
     "metadata": {},
     "output_type": "execute_result"
    }
   ],
   "source": [
    "folder_path\n"
   ]
  },
  {
   "cell_type": "code",
   "execution_count": 24,
   "id": "e611c0d4",
   "metadata": {},
   "outputs": [
    {
     "data": {
      "text/plain": [
       "'String Functions.ipynb'"
      ]
     },
     "execution_count": 24,
     "metadata": {},
     "output_type": "execute_result"
    }
   ],
   "source": [
    "file_name = \"String Functions.ipynb\"\n",
    "file_name"
   ]
  },
  {
   "cell_type": "code",
   "execution_count": 29,
   "id": "069b5096",
   "metadata": {},
   "outputs": [
    {
     "data": {
      "text/plain": [
       "'C:\\\\Users\\\\Mohit\\\\Desktop\\\\VELOCITY\\\\31st july python and data science\\\\01_Aug_IntroductionString Functions.ipynb'"
      ]
     },
     "execution_count": 29,
     "metadata": {},
     "output_type": "execute_result"
    }
   ],
   "source": [
    "folder_path + file_name"
   ]
  },
  {
   "cell_type": "code",
   "execution_count": 31,
   "id": "beb5b526",
   "metadata": {},
   "outputs": [
    {
     "data": {
      "text/plain": [
       "'C:\\\\Users\\\\Mohit\\\\Desktop\\\\VELOCITY\\\\31st july python and data science\\\\01_Aug_Introduction\\\\String Functions.ipynb'"
      ]
     },
     "execution_count": 31,
     "metadata": {},
     "output_type": "execute_result"
    }
   ],
   "source": [
    "folder_path + \"\\\\\" + file_name"
   ]
  },
  {
   "cell_type": "markdown",
   "id": "8970d3dd",
   "metadata": {},
   "source": [
    "## String functions\n",
    "\n",
    "### 1.Captalize()\n",
    "- It will capitalize only first character of string (zero indexed char)\n",
    "- Syntax:-\n",
    "    - strin_name.capitalze()"
   ]
  },
  {
   "cell_type": "code",
   "execution_count": 32,
   "id": "42e361a9",
   "metadata": {},
   "outputs": [
    {
     "data": {
      "text/plain": [
       "'Python and data science'"
      ]
     },
     "execution_count": 32,
     "metadata": {},
     "output_type": "execute_result"
    }
   ],
   "source": [
    "str1 = \"python and data science\"\n",
    "str1.capitalize()"
   ]
  },
  {
   "cell_type": "code",
   "execution_count": 34,
   "id": "e80b7516",
   "metadata": {},
   "outputs": [
    {
     "name": "stdout",
     "output_type": "stream",
     "text": [
      "str1 = python and data science\n",
      "str2 = Python and data science\n"
     ]
    }
   ],
   "source": [
    "str1 = \"python and data science\"\n",
    "print(f\"str1 = {str1}\")\n",
    "str2 = str1.capitalize()\n",
    "print(f\"str2 = {str2}\")"
   ]
  },
  {
   "cell_type": "code",
   "execution_count": 35,
   "id": "75159658",
   "metadata": {},
   "outputs": [
    {
     "data": {
      "text/plain": [
       "'Python'"
      ]
     },
     "execution_count": 35,
     "metadata": {},
     "output_type": "execute_result"
    }
   ],
   "source": [
    "str1 = \"Python\"\n",
    "str1.capitalize()"
   ]
  },
  {
   "cell_type": "code",
   "execution_count": 36,
   "id": "116e7701",
   "metadata": {},
   "outputs": [
    {
     "data": {
      "text/plain": [
       "'Machine learning'"
      ]
     },
     "execution_count": 36,
     "metadata": {},
     "output_type": "execute_result"
    }
   ],
   "source": [
    "x = \"machine learning\"\n",
    "x.capitalize()"
   ]
  },
  {
   "cell_type": "markdown",
   "id": "cfb346c7",
   "metadata": {},
   "source": [
    "### 2. Upper()\n",
    "- It will change all lower case char to upper case char\n",
    "- Syntax:-\n",
    "    - String_name.upper()"
   ]
  },
  {
   "cell_type": "code",
   "execution_count": 37,
   "id": "e59bd15a",
   "metadata": {},
   "outputs": [
    {
     "data": {
      "text/plain": [
       "'Python'"
      ]
     },
     "execution_count": 37,
     "metadata": {},
     "output_type": "execute_result"
    }
   ],
   "source": [
    "str1"
   ]
  },
  {
   "cell_type": "code",
   "execution_count": 38,
   "id": "0ffab57d",
   "metadata": {},
   "outputs": [
    {
     "data": {
      "text/plain": [
       "'PYTHON'"
      ]
     },
     "execution_count": 38,
     "metadata": {},
     "output_type": "execute_result"
    }
   ],
   "source": [
    "str1.upper()"
   ]
  },
  {
   "cell_type": "code",
   "execution_count": 39,
   "id": "038cd624",
   "metadata": {},
   "outputs": [
    {
     "name": "stdout",
     "output_type": "stream",
     "text": [
      "str1 = python and data science\n",
      "str2 = PYTHON AND DATA SCIENCE\n"
     ]
    }
   ],
   "source": [
    "str1 = \"python and data science\"\n",
    "print(f\"str1 = {str1}\")\n",
    "str2 = str1.upper()\n",
    "print(f\"str2 = {str2}\")"
   ]
  },
  {
   "cell_type": "code",
   "execution_count": 40,
   "id": "d247eb82",
   "metadata": {},
   "outputs": [
    {
     "data": {
      "text/plain": [
       "'MACHINE LEARNING AND DEEP LEARNING 123'"
      ]
     },
     "execution_count": 40,
     "metadata": {},
     "output_type": "execute_result"
    }
   ],
   "source": [
    "a = \"machine learning and deep learning 123\"\n",
    "a.upper()"
   ]
  },
  {
   "cell_type": "markdown",
   "id": "1e25cf47",
   "metadata": {},
   "source": [
    "### 3. Lower()\n",
    "- It will convert string into lower case\n",
    "- syntax:-\n",
    "     - string_name.lower()"
   ]
  },
  {
   "cell_type": "code",
   "execution_count": 41,
   "id": "1c24aa4e",
   "metadata": {},
   "outputs": [
    {
     "data": {
      "text/plain": [
       "'python and data science'"
      ]
     },
     "execution_count": 41,
     "metadata": {},
     "output_type": "execute_result"
    }
   ],
   "source": [
    "str1"
   ]
  },
  {
   "cell_type": "code",
   "execution_count": 42,
   "id": "ba308781",
   "metadata": {},
   "outputs": [
    {
     "data": {
      "text/plain": [
       "'python and data science'"
      ]
     },
     "execution_count": 42,
     "metadata": {},
     "output_type": "execute_result"
    }
   ],
   "source": [
    "str1.lower()"
   ]
  },
  {
   "cell_type": "code",
   "execution_count": 43,
   "id": "c1d0d4b8",
   "metadata": {},
   "outputs": [
    {
     "name": "stdout",
     "output_type": "stream",
     "text": [
      "str1 = python and data science\n",
      "str2 = python and data science\n"
     ]
    }
   ],
   "source": [
    "str1 = \"python and data science\"\n",
    "print(f\"str1 = {str1}\")\n",
    "str2 = str1.lower()\n",
    "print(f\"str2 = {str2}\")"
   ]
  },
  {
   "cell_type": "code",
   "execution_count": 44,
   "id": "9102eb8c",
   "metadata": {},
   "outputs": [
    {
     "data": {
      "text/plain": [
       "'machine learning and deep learning 123'"
      ]
     },
     "execution_count": 44,
     "metadata": {},
     "output_type": "execute_result"
    }
   ],
   "source": [
    "a = \"machine learning and deep learning 123\"\n",
    "a.lower()"
   ]
  },
  {
   "cell_type": "code",
   "execution_count": 45,
   "id": "40fdda3a",
   "metadata": {},
   "outputs": [],
   "source": [
    "adhar_name = \"Mohit avtade\"\n",
    "pan_name   = \"MOHIT AVTADE\"\n"
   ]
  },
  {
   "cell_type": "code",
   "execution_count": 46,
   "id": "1002a618",
   "metadata": {},
   "outputs": [
    {
     "data": {
      "text/plain": [
       "False"
      ]
     },
     "execution_count": 46,
     "metadata": {},
     "output_type": "execute_result"
    }
   ],
   "source": [
    "adhar_name == pan_name"
   ]
  },
  {
   "cell_type": "code",
   "execution_count": 50,
   "id": "1a831dc2",
   "metadata": {},
   "outputs": [
    {
     "data": {
      "text/plain": [
       "True"
      ]
     },
     "execution_count": 50,
     "metadata": {},
     "output_type": "execute_result"
    }
   ],
   "source": [
    "adhar_name = adhar_name.upper()\n",
    "adhar_name == pan_name"
   ]
  },
  {
   "cell_type": "code",
   "execution_count": 51,
   "id": "9522ce07",
   "metadata": {},
   "outputs": [
    {
     "data": {
      "text/plain": [
       "True"
      ]
     },
     "execution_count": 51,
     "metadata": {},
     "output_type": "execute_result"
    }
   ],
   "source": [
    "adhar_name.upper() == pan_name"
   ]
  },
  {
   "cell_type": "code",
   "execution_count": 53,
   "id": "b500c0f0",
   "metadata": {},
   "outputs": [
    {
     "data": {
      "text/plain": [
       "True"
      ]
     },
     "execution_count": 53,
     "metadata": {},
     "output_type": "execute_result"
    }
   ],
   "source": [
    "adhar_name.lower() == pan_name.lower()"
   ]
  },
  {
   "cell_type": "markdown",
   "id": "850bb7db",
   "metadata": {},
   "source": [
    "### 4.Title()\n",
    "- It captitalize each 1st char of each word in string\n",
    "- Syntax:-\n",
    "    - string_name.title()"
   ]
  },
  {
   "cell_type": "code",
   "execution_count": 54,
   "id": "21a0d442",
   "metadata": {},
   "outputs": [
    {
     "data": {
      "text/plain": [
       "'python and data science'"
      ]
     },
     "execution_count": 54,
     "metadata": {},
     "output_type": "execute_result"
    }
   ],
   "source": [
    "str1"
   ]
  },
  {
   "cell_type": "code",
   "execution_count": 55,
   "id": "10640bce",
   "metadata": {},
   "outputs": [
    {
     "data": {
      "text/plain": [
       "'Python And Data Science'"
      ]
     },
     "execution_count": 55,
     "metadata": {},
     "output_type": "execute_result"
    }
   ],
   "source": [
    "str1.title()"
   ]
  },
  {
   "cell_type": "code",
   "execution_count": 57,
   "id": "3a4da6e7",
   "metadata": {},
   "outputs": [
    {
     "data": {
      "text/plain": [
       "'Machine Learning'"
      ]
     },
     "execution_count": 57,
     "metadata": {},
     "output_type": "execute_result"
    }
   ],
   "source": [
    "str2 = \"machine learning\"\n",
    "str2.title()"
   ]
  }
 ],
 "metadata": {
  "kernelspec": {
   "display_name": "Python 3 (ipykernel)",
   "language": "python",
   "name": "python3"
  },
  "language_info": {
   "codemirror_mode": {
    "name": "ipython",
    "version": 3
   },
   "file_extension": ".py",
   "mimetype": "text/x-python",
   "name": "python",
   "nbconvert_exporter": "python",
   "pygments_lexer": "ipython3",
   "version": "3.12.4"
  }
 },
 "nbformat": 4,
 "nbformat_minor": 5
}
