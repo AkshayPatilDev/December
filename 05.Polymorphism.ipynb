{
 "cells": [
  {
   "cell_type": "markdown",
   "id": "078191b6",
   "metadata": {},
   "source": [
    "# Polymorphism\n",
    "- Poly --> Many\n",
    "- Morphism --> Forms\n",
    "- Polymorphism --> Many Forms"
   ]
  },
  {
   "cell_type": "code",
   "execution_count": 2,
   "id": "70377dd6",
   "metadata": {},
   "outputs": [
    {
     "name": "stdout",
     "output_type": "stream",
     "text": [
      "Dum2\n"
     ]
    }
   ],
   "source": [
    "def dumb():\n",
    "    print(\"Dum1\")\n",
    "def dumb():\n",
    "    print(\"Dum2\")\n",
    "    \n",
    "dumb()"
   ]
  },
  {
   "cell_type": "code",
   "execution_count": 4,
   "id": "e9169c72",
   "metadata": {},
   "outputs": [
    {
     "name": "stdout",
     "output_type": "stream",
     "text": [
      "3\n",
      "4\n",
      "6\n",
      "5\n"
     ]
    }
   ],
   "source": [
    "li = [1,2,3]\n",
    "tu = (1,2,3,4)\n",
    "str1 = \"Python\"\n",
    "dict1 = {1:1,2:2,3:3,4:4,5:5}\n",
    "print(len(li))\n",
    "print(len(tu))\n",
    "print(len(str1))\n",
    "print(len(dict1))"
   ]
  },
  {
   "cell_type": "code",
   "execution_count": 5,
   "id": "e1561eb4",
   "metadata": {},
   "outputs": [
    {
     "name": "stdout",
     "output_type": "stream",
     "text": [
      "1\n",
      "1\n",
      "P\n",
      "1\n"
     ]
    }
   ],
   "source": [
    "print(min(li))\n",
    "print(min(tu))\n",
    "print(min(str1))\n",
    "print(min(dict1))"
   ]
  },
  {
   "cell_type": "code",
   "execution_count": 6,
   "id": "dfe5d3c9",
   "metadata": {},
   "outputs": [],
   "source": [
    "class Circle():\n",
    "    def area(self):\n",
    "        print(\"Area of Circle\")\n",
    "\n",
    "class Square():        \n",
    "    def area(self):\n",
    "        print(\"Area of Square\")\n",
    "         \n",
    "class Rectangle():        \n",
    "    def area(self):\n",
    "        print(\"Area of Rectangle\")\n",
    "                            "
   ]
  },
  {
   "cell_type": "code",
   "execution_count": 7,
   "id": "786fb077",
   "metadata": {},
   "outputs": [],
   "source": [
    "c1 = Circle()\n",
    "s1 = Square()\n",
    "r1 = Rectangle()"
   ]
  },
  {
   "cell_type": "code",
   "execution_count": 8,
   "id": "e52971a0",
   "metadata": {},
   "outputs": [
    {
     "name": "stdout",
     "output_type": "stream",
     "text": [
      "Area of Circle\n",
      "Area of Square\n",
      "Area of Rectangle\n"
     ]
    }
   ],
   "source": [
    "c1.area()\n",
    "s1.area()\n",
    "r1.area()"
   ]
  },
  {
   "cell_type": "code",
   "execution_count": 10,
   "id": "7b929640",
   "metadata": {},
   "outputs": [
    {
     "name": "stdout",
     "output_type": "stream",
     "text": [
      "Area of Circle\n",
      "Area of Square\n",
      "Area of Rectangle\n"
     ]
    }
   ],
   "source": [
    "for obj in [c1,s1,r1]:\n",
    "    obj.area()"
   ]
  },
  {
   "cell_type": "code",
   "execution_count": 11,
   "id": "18d94446",
   "metadata": {},
   "outputs": [],
   "source": [
    "import math"
   ]
  },
  {
   "cell_type": "code",
   "execution_count": 12,
   "id": "31837c86",
   "metadata": {},
   "outputs": [],
   "source": [
    "class Circle():\n",
    "    def __init__(self,radius):\n",
    "        self.radius = radius\n",
    "        \n",
    "    def area(self):\n",
    "        c_area = math.pi * self.radius ** 2\n",
    "        print(f\"Area of Circle with Radius {self.radius} = {c_area}\")\n",
    "\n",
    "class Square():        \n",
    "    def __init__(self,side):\n",
    "        self.side = side\n",
    "        \n",
    "    def area(self):\n",
    "        print(f\"Area of Square with Side {self.side} = {self.side ** 2}\")\n",
    "         \n",
    "class Rectangle():    \n",
    "    def __init__(self,l,b):\n",
    "        self.len = l\n",
    "        self.bre = b\n",
    "        \n",
    "    def area(self):\n",
    "        print(f\"Area of Rectangle with Length {self.len} and Breadth {self.bre}= {self.len * self.bre}\")\n",
    "                            "
   ]
  },
  {
   "cell_type": "code",
   "execution_count": 14,
   "id": "7384c7a6",
   "metadata": {},
   "outputs": [
    {
     "name": "stdout",
     "output_type": "stream",
     "text": [
      "Area of Circle with Radius 5 = 78.53981633974483\n"
     ]
    }
   ],
   "source": [
    "c1 = Circle(5)\n",
    "c1.area()"
   ]
  },
  {
   "cell_type": "code",
   "execution_count": 15,
   "id": "81657087",
   "metadata": {},
   "outputs": [
    {
     "name": "stdout",
     "output_type": "stream",
     "text": [
      "Area of Square with Side 5 = 25\n"
     ]
    }
   ],
   "source": [
    "s1 = Square(5)\n",
    "s1.area()"
   ]
  },
  {
   "cell_type": "code",
   "execution_count": 16,
   "id": "66a15613",
   "metadata": {},
   "outputs": [
    {
     "name": "stdout",
     "output_type": "stream",
     "text": [
      "Area of Rectangle with Length 5 and Breadth 6= 30\n"
     ]
    }
   ],
   "source": [
    "r1 = Rectangle(5,6)\n",
    "r1.area()"
   ]
  },
  {
   "cell_type": "code",
   "execution_count": 17,
   "id": "e038f3b9",
   "metadata": {},
   "outputs": [],
   "source": [
    "def exe_func():\n",
    "    c1 = Circle(5)\n",
    "    s1 = Square(5)\n",
    "    r1 = Rectangle(5,6)\n",
    "    for obj in [c1,s1,r1]:\n",
    "        obj.area()"
   ]
  },
  {
   "cell_type": "code",
   "execution_count": 18,
   "id": "a00a0ff5",
   "metadata": {},
   "outputs": [
    {
     "name": "stdout",
     "output_type": "stream",
     "text": [
      "Area of Circle with Radius 5 = 78.53981633974483\n",
      "Area of Square with Side 5 = 25\n",
      "Area of Rectangle with Length 5 and Breadth 6= 30\n"
     ]
    }
   ],
   "source": [
    "exe_func()"
   ]
  }
 ],
 "metadata": {
  "kernelspec": {
   "display_name": "Python 3 (ipykernel)",
   "language": "python",
   "name": "python3"
  },
  "language_info": {
   "codemirror_mode": {
    "name": "ipython",
    "version": 3
   },
   "file_extension": ".py",
   "mimetype": "text/x-python",
   "name": "python",
   "nbconvert_exporter": "python",
   "pygments_lexer": "ipython3",
   "version": "3.12.4"
  }
 },
 "nbformat": 4,
 "nbformat_minor": 5
}
