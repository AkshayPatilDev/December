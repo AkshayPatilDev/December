{
 "cells": [
  {
   "cell_type": "markdown",
   "id": "a878d7d8",
   "metadata": {},
   "source": [
    "# Exception Handling"
   ]
  },
  {
   "cell_type": "markdown",
   "id": "db03f216",
   "metadata": {},
   "source": [
    "## Errors\n",
    "- Attribute Error\n",
    "- Name Error\n",
    "- Key Error\n",
    "- Value Error\n",
    "- Indentation Error\n",
    "- File Exist Error\n",
    "- File Not found Error\n",
    "- ZeroDivision Error\n",
    "- Type Error\n",
    "- Syntax Error"
   ]
  },
  {
   "cell_type": "code",
   "execution_count": 1,
   "id": "45927859",
   "metadata": {},
   "outputs": [
    {
     "ename": "IndexError",
     "evalue": "list index out of range",
     "output_type": "error",
     "traceback": [
      "\u001b[1;31m---------------------------------------------------------------------------\u001b[0m",
      "\u001b[1;31mIndexError\u001b[0m                                Traceback (most recent call last)",
      "\u001b[1;32m~\\AppData\\Local\\Temp/ipykernel_14212/1326087977.py\u001b[0m in \u001b[0;36m<module>\u001b[1;34m\u001b[0m\n\u001b[0;32m      1\u001b[0m \u001b[0mli\u001b[0m \u001b[1;33m=\u001b[0m \u001b[1;33m[\u001b[0m\u001b[1;36m1\u001b[0m\u001b[1;33m,\u001b[0m\u001b[1;36m2\u001b[0m\u001b[1;33m,\u001b[0m\u001b[1;36m3\u001b[0m\u001b[1;33m]\u001b[0m\u001b[1;33m\u001b[0m\u001b[1;33m\u001b[0m\u001b[0m\n\u001b[1;32m----> 2\u001b[1;33m \u001b[0mli\u001b[0m\u001b[1;33m[\u001b[0m\u001b[1;36m5\u001b[0m\u001b[1;33m]\u001b[0m\u001b[1;33m\u001b[0m\u001b[1;33m\u001b[0m\u001b[0m\n\u001b[0m",
      "\u001b[1;31mIndexError\u001b[0m: list index out of range"
     ]
    }
   ],
   "source": [
    "li = [1,2,3]\n",
    "li[5]"
   ]
  },
  {
   "cell_type": "code",
   "execution_count": 2,
   "id": "9492f64e",
   "metadata": {
    "scrolled": true
   },
   "outputs": [
    {
     "ename": "AttributeError",
     "evalue": "'tuple' object has no attribute 'append'",
     "output_type": "error",
     "traceback": [
      "\u001b[1;31m---------------------------------------------------------------------------\u001b[0m",
      "\u001b[1;31mAttributeError\u001b[0m                            Traceback (most recent call last)",
      "\u001b[1;32m~\\AppData\\Local\\Temp/ipykernel_14212/572733364.py\u001b[0m in \u001b[0;36m<module>\u001b[1;34m\u001b[0m\n\u001b[0;32m      1\u001b[0m \u001b[0mtu\u001b[0m \u001b[1;33m=\u001b[0m \u001b[1;33m(\u001b[0m\u001b[1;33m)\u001b[0m\u001b[1;33m\u001b[0m\u001b[1;33m\u001b[0m\u001b[0m\n\u001b[1;32m----> 2\u001b[1;33m \u001b[0mtu\u001b[0m\u001b[1;33m.\u001b[0m\u001b[0mappend\u001b[0m\u001b[1;33m(\u001b[0m\u001b[1;36m100\u001b[0m\u001b[1;33m)\u001b[0m\u001b[1;33m\u001b[0m\u001b[1;33m\u001b[0m\u001b[0m\n\u001b[0m",
      "\u001b[1;31mAttributeError\u001b[0m: 'tuple' object has no attribute 'append'"
     ]
    }
   ],
   "source": [
    "tu = ()\n",
    "tu.append(100)"
   ]
  },
  {
   "cell_type": "code",
   "execution_count": 4,
   "id": "6de61a0d",
   "metadata": {},
   "outputs": [
    {
     "ename": "IndentationError",
     "evalue": "expected an indented block (Temp/ipykernel_14212/3695896917.py, line 2)",
     "output_type": "error",
     "traceback": [
      "\u001b[1;36m  File \u001b[1;32m\"C:\\Users\\Mohit\\AppData\\Local\\Temp/ipykernel_14212/3695896917.py\"\u001b[1;36m, line \u001b[1;32m2\u001b[0m\n\u001b[1;33m    print(i)\u001b[0m\n\u001b[1;37m    ^\u001b[0m\n\u001b[1;31mIndentationError\u001b[0m\u001b[1;31m:\u001b[0m expected an indented block\n"
     ]
    }
   ],
   "source": [
    "for i in range(5):\n",
    "print(i)"
   ]
  },
  {
   "cell_type": "code",
   "execution_count": 5,
   "id": "202a89a5",
   "metadata": {},
   "outputs": [
    {
     "ename": "ZeroDivisionError",
     "evalue": "division by zero",
     "output_type": "error",
     "traceback": [
      "\u001b[1;31m---------------------------------------------------------------------------\u001b[0m",
      "\u001b[1;31mZeroDivisionError\u001b[0m                         Traceback (most recent call last)",
      "\u001b[1;32m~\\AppData\\Local\\Temp/ipykernel_14212/1725448531.py\u001b[0m in \u001b[0;36m<module>\u001b[1;34m\u001b[0m\n\u001b[1;32m----> 1\u001b[1;33m \u001b[1;36m10\u001b[0m \u001b[1;33m/\u001b[0m \u001b[1;36m0\u001b[0m\u001b[1;33m\u001b[0m\u001b[1;33m\u001b[0m\u001b[0m\n\u001b[0m",
      "\u001b[1;31mZeroDivisionError\u001b[0m: division by zero"
     ]
    }
   ],
   "source": [
    "10 / 0"
   ]
  },
  {
   "cell_type": "code",
   "execution_count": 6,
   "id": "69a3d472",
   "metadata": {
    "scrolled": true
   },
   "outputs": [
    {
     "ename": "FileNotFoundError",
     "evalue": "[Errno 2] No such file or directory: 'New_File.txt'",
     "output_type": "error",
     "traceback": [
      "\u001b[1;31m---------------------------------------------------------------------------\u001b[0m",
      "\u001b[1;31mFileNotFoundError\u001b[0m                         Traceback (most recent call last)",
      "\u001b[1;32m~\\AppData\\Local\\Temp/ipykernel_14212/808155694.py\u001b[0m in \u001b[0;36m<module>\u001b[1;34m\u001b[0m\n\u001b[1;32m----> 1\u001b[1;33m \u001b[1;32mwith\u001b[0m \u001b[0mopen\u001b[0m\u001b[1;33m(\u001b[0m\u001b[1;34m\"New_File.txt\"\u001b[0m\u001b[1;33m,\u001b[0m\u001b[1;34m\"r\"\u001b[0m\u001b[1;33m)\u001b[0m \u001b[1;32mas\u001b[0m \u001b[0mf\u001b[0m\u001b[1;33m:\u001b[0m\u001b[1;33m\u001b[0m\u001b[1;33m\u001b[0m\u001b[0m\n\u001b[0m\u001b[0;32m      2\u001b[0m     \u001b[0mprint\u001b[0m\u001b[1;33m(\u001b[0m\u001b[0mf\u001b[0m\u001b[1;33m.\u001b[0m\u001b[0mread\u001b[0m\u001b[1;33m(\u001b[0m\u001b[1;33m)\u001b[0m\u001b[1;33m)\u001b[0m\u001b[1;33m\u001b[0m\u001b[1;33m\u001b[0m\u001b[0m\n",
      "\u001b[1;31mFileNotFoundError\u001b[0m: [Errno 2] No such file or directory: 'New_File.txt'"
     ]
    }
   ],
   "source": [
    "with open(\"New_File.txt\",\"r\") as f:\n",
    "    print(f.read())"
   ]
  },
  {
   "cell_type": "code",
   "execution_count": 1,
   "id": "9d5a4c2f",
   "metadata": {},
   "outputs": [
    {
     "ename": "TypeError",
     "evalue": "list.append() takes exactly one argument (2 given)",
     "output_type": "error",
     "traceback": [
      "\u001b[1;31m---------------------------------------------------------------------------\u001b[0m",
      "\u001b[1;31mTypeError\u001b[0m                                 Traceback (most recent call last)",
      "\u001b[1;32m~\\AppData\\Local\\Temp\\ipykernel_3968\\3767699604.py\u001b[0m in \u001b[0;36m<module>\u001b[1;34m\u001b[0m\n\u001b[0;32m      1\u001b[0m \u001b[0mli\u001b[0m\u001b[1;33m=\u001b[0m\u001b[1;33m[\u001b[0m\u001b[1;36m1\u001b[0m\u001b[1;33m,\u001b[0m\u001b[1;36m2\u001b[0m\u001b[1;33m,\u001b[0m\u001b[1;36m3\u001b[0m\u001b[1;33m]\u001b[0m\u001b[1;33m\u001b[0m\u001b[1;33m\u001b[0m\u001b[0m\n\u001b[1;32m----> 2\u001b[1;33m \u001b[0mli\u001b[0m\u001b[1;33m.\u001b[0m\u001b[0mappend\u001b[0m\u001b[1;33m(\u001b[0m\u001b[1;36m1\u001b[0m\u001b[1;33m,\u001b[0m\u001b[1;36m2\u001b[0m\u001b[1;33m)\u001b[0m\u001b[1;33m\u001b[0m\u001b[1;33m\u001b[0m\u001b[0m\n\u001b[0m",
      "\u001b[1;31mTypeError\u001b[0m: list.append() takes exactly one argument (2 given)"
     ]
    }
   ],
   "source": [
    "li=[1,2,3]\n",
    "li.append(1,2)"
   ]
  },
  {
   "cell_type": "code",
   "execution_count": 2,
   "id": "4d4286c0",
   "metadata": {
    "scrolled": true
   },
   "outputs": [
    {
     "ename": "ValueError",
     "evalue": "list.remove(x): x not in list",
     "output_type": "error",
     "traceback": [
      "\u001b[1;31m---------------------------------------------------------------------------\u001b[0m",
      "\u001b[1;31mValueError\u001b[0m                                Traceback (most recent call last)",
      "\u001b[1;32m~\\AppData\\Local\\Temp\\ipykernel_3968\\1437753828.py\u001b[0m in \u001b[0;36m<module>\u001b[1;34m\u001b[0m\n\u001b[1;32m----> 1\u001b[1;33m \u001b[0mli\u001b[0m\u001b[1;33m.\u001b[0m\u001b[0mremove\u001b[0m\u001b[1;33m(\u001b[0m\u001b[1;36m5\u001b[0m\u001b[1;33m)\u001b[0m\u001b[1;33m\u001b[0m\u001b[1;33m\u001b[0m\u001b[0m\n\u001b[0m",
      "\u001b[1;31mValueError\u001b[0m: list.remove(x): x not in list"
     ]
    }
   ],
   "source": [
    "li.remove(5)"
   ]
  },
  {
   "cell_type": "code",
   "execution_count": null,
   "id": "c8c576e7",
   "metadata": {},
   "outputs": [],
   "source": []
  },
  {
   "cell_type": "markdown",
   "id": "f89c0340",
   "metadata": {},
   "source": [
    "# try-except "
   ]
  },
  {
   "cell_type": "raw",
   "id": "e2b65cf4",
   "metadata": {},
   "source": [
    "try:\n",
    "    statement-1\n",
    "    statement-2\n",
    "    statement-3\n",
    "        .\n",
    "    statement-n\n",
    "except:\n",
    "    statement-1\n",
    "    statement-2\n",
    "        .\n",
    "    statement-n"
   ]
  },
  {
   "cell_type": "code",
   "execution_count": 7,
   "id": "0ade6737",
   "metadata": {},
   "outputs": [
    {
     "name": "stdout",
     "output_type": "stream",
     "text": [
      "We are in the try block\n"
     ]
    }
   ],
   "source": [
    "try:\n",
    "    print(\"We are in the try block\")\n",
    "except:\n",
    "    print(\"We are in the except block\")"
   ]
  },
  {
   "cell_type": "code",
   "execution_count": 8,
   "id": "f5f8e768",
   "metadata": {},
   "outputs": [
    {
     "name": "stdout",
     "output_type": "stream",
     "text": [
      "We are in the except block\n"
     ]
    }
   ],
   "source": [
    "try:\n",
    "    print(a)\n",
    "    print(\"We are in the try block\")\n",
    "except:\n",
    "    print(\"We are in the except block\")"
   ]
  },
  {
   "cell_type": "code",
   "execution_count": 9,
   "id": "9f581261",
   "metadata": {},
   "outputs": [
    {
     "name": "stdout",
     "output_type": "stream",
     "text": [
      "We are in the try block\n",
      "We are in the try block\n",
      "We are in the try block\n",
      "We are in the try block\n",
      "We are in the try block__________\n",
      "We are in the except block\n"
     ]
    }
   ],
   "source": [
    "try:\n",
    "    print(\"We are in the try block\")\n",
    "    print(\"We are in the try block\")\n",
    "    print(\"We are in the try block\")\n",
    "    print(\"We are in the try block\")\n",
    "    print(\"We are in the try block__________\")\n",
    "    print(a)\n",
    "except:\n",
    "    print(\"We are in the except block\")"
   ]
  },
  {
   "cell_type": "code",
   "execution_count": 10,
   "id": "69a635bf",
   "metadata": {},
   "outputs": [
    {
     "name": "stdout",
     "output_type": "stream",
     "text": [
      "We are in the try block\n",
      "Try block looks good\n",
      "There is no error\n"
     ]
    }
   ],
   "source": [
    "try:\n",
    "    print(\"We are in the try block\")\n",
    "    print(\"Try block looks good\")\n",
    "    print(\"There is no error\")\n",
    "except:\n",
    "    print(\"We got some error\")"
   ]
  },
  {
   "cell_type": "code",
   "execution_count": 11,
   "id": "2af20ad2",
   "metadata": {},
   "outputs": [
    {
     "name": "stdout",
     "output_type": "stream",
     "text": [
      "We got some error\n"
     ]
    }
   ],
   "source": [
    "try:\n",
    "    print(f\"We are in the try block {var}\")\n",
    "    print(\"Try block looks good\")\n",
    "    print(\"There is no error\")\n",
    "except:\n",
    "    print(\"We got some error\")"
   ]
  },
  {
   "cell_type": "code",
   "execution_count": 13,
   "id": "4fba96f5",
   "metadata": {},
   "outputs": [
    {
     "name": "stdout",
     "output_type": "stream",
     "text": [
      "Try block looks good\n",
      "We got some error\n"
     ]
    }
   ],
   "source": [
    "try:\n",
    "#     print(f\"We are in the try block {var}\")\n",
    "    print(\"Try block looks good\")\n",
    "    print(f\"We are in the try block {var}\")\n",
    "    print(\"There is no error\")\n",
    "except:\n",
    "    print(\"We got some error\")"
   ]
  },
  {
   "cell_type": "code",
   "execution_count": 14,
   "id": "a03368be",
   "metadata": {},
   "outputs": [
    {
     "name": "stdout",
     "output_type": "stream",
     "text": [
      "Try block looks good\n",
      "There is no error\n",
      "We got some error\n"
     ]
    }
   ],
   "source": [
    "try:\n",
    "#     print(f\"We are in the try block {var}\")\n",
    "    print(\"Try block looks good\")\n",
    "#     print(f\"We are in the try block {var}\")\n",
    "    print(\"There is no error\")\n",
    "    print(f\"We are in the try block {var}\")\n",
    "except:\n",
    "    print(\"We got some error\")"
   ]
  },
  {
   "cell_type": "code",
   "execution_count": 18,
   "id": "4e1f064b",
   "metadata": {},
   "outputs": [
    {
     "name": "stdout",
     "output_type": "stream",
     "text": [
      "4\n"
     ]
    }
   ],
   "source": [
    "try:\n",
    "    val = 5\n",
    "    list1 = [1,2,3,4,5]\n",
    "    print(list1.index(val))\n",
    "except:\n",
    "    print(\"The given value is not present in the list\")"
   ]
  },
  {
   "cell_type": "code",
   "execution_count": 5,
   "id": "1b68b4f9",
   "metadata": {},
   "outputs": [
    {
     "ename": "SyntaxError",
     "evalue": "unexpected EOF while parsing (2026549180.py, line 6)",
     "output_type": "error",
     "traceback": [
      "\u001b[1;36m  File \u001b[1;32m\"C:\\Users\\Akshay\\AppData\\Local\\Temp\\ipykernel_3968\\2026549180.py\"\u001b[1;36m, line \u001b[1;32m6\u001b[0m\n\u001b[1;33m    #     print(\"The given value is not present in the list\")\u001b[0m\n\u001b[1;37m                                                             ^\u001b[0m\n\u001b[1;31mSyntaxError\u001b[0m\u001b[1;31m:\u001b[0m unexpected EOF while parsing\n"
     ]
    }
   ],
   "source": [
    "try:\n",
    "    val = 500\n",
    "    list1 = [1,2,3,4,5]\n",
    "    print(list1.index(val))\n",
    "except:\n",
    "    print(\"The given value is not present in the list\")"
   ]
  },
  {
   "cell_type": "code",
   "execution_count": 21,
   "id": "834eff55",
   "metadata": {},
   "outputs": [
    {
     "ename": "ValueError",
     "evalue": "500 is not in list",
     "output_type": "error",
     "traceback": [
      "\u001b[1;31m---------------------------------------------------------------------------\u001b[0m",
      "\u001b[1;31mValueError\u001b[0m                                Traceback (most recent call last)",
      "\u001b[1;32m~\\AppData\\Local\\Temp/ipykernel_14212/1603497372.py\u001b[0m in \u001b[0;36m<module>\u001b[1;34m\u001b[0m\n\u001b[0;32m      1\u001b[0m \u001b[0mval\u001b[0m \u001b[1;33m=\u001b[0m \u001b[1;36m500\u001b[0m\u001b[1;33m\u001b[0m\u001b[1;33m\u001b[0m\u001b[0m\n\u001b[0;32m      2\u001b[0m \u001b[0mlist1\u001b[0m \u001b[1;33m=\u001b[0m \u001b[1;33m[\u001b[0m\u001b[1;36m1\u001b[0m\u001b[1;33m,\u001b[0m\u001b[1;36m2\u001b[0m\u001b[1;33m,\u001b[0m\u001b[1;36m3\u001b[0m\u001b[1;33m,\u001b[0m\u001b[1;36m4\u001b[0m\u001b[1;33m,\u001b[0m\u001b[1;36m5\u001b[0m\u001b[1;33m]\u001b[0m\u001b[1;33m\u001b[0m\u001b[1;33m\u001b[0m\u001b[0m\n\u001b[1;32m----> 3\u001b[1;33m \u001b[0mprint\u001b[0m\u001b[1;33m(\u001b[0m\u001b[0mlist1\u001b[0m\u001b[1;33m.\u001b[0m\u001b[0mindex\u001b[0m\u001b[1;33m(\u001b[0m\u001b[0mval\u001b[0m\u001b[1;33m)\u001b[0m\u001b[1;33m)\u001b[0m\u001b[1;33m\u001b[0m\u001b[1;33m\u001b[0m\u001b[0m\n\u001b[0m",
      "\u001b[1;31mValueError\u001b[0m: 500 is not in list"
     ]
    }
   ],
   "source": [
    "val = 500\n",
    "list1 = [1,2,3,4,5]\n",
    "print(list1.index(val))"
   ]
  },
  {
   "cell_type": "code",
   "execution_count": 25,
   "id": "fbb63eb0",
   "metadata": {},
   "outputs": [
    {
     "name": "stdout",
     "output_type": "stream",
     "text": [
      "Enter ypur MOB No:- 1234567890\n",
      "Valid\n"
     ]
    }
   ],
   "source": [
    "try:\n",
    "    mob_no = input(\"Enter ypur MOB No:- \")\n",
    "    if len(mob_no) == 10:\n",
    "        print(\"Valid\")\n",
    "    else:\n",
    "        print(\"Invalid\")\n",
    "except:\n",
    "    print(\"Length is not equal to 10\")"
   ]
  },
  {
   "cell_type": "code",
   "execution_count": 26,
   "id": "97f6abab",
   "metadata": {},
   "outputs": [
    {
     "name": "stdout",
     "output_type": "stream",
     "text": [
      "Enter ypur MOB No:- 123456\n",
      "Invalid\n"
     ]
    }
   ],
   "source": [
    "try:\n",
    "    mob_no = input(\"Enter ypur MOB No:- \")\n",
    "    if len(mob_no) == 10:\n",
    "        print(\"Valid\")\n",
    "    else:\n",
    "        print(\"Invalid\")\n",
    "except:\n",
    "    print(\"Length is not equal to 10\")"
   ]
  },
  {
   "cell_type": "code",
   "execution_count": 27,
   "id": "7ebaa414",
   "metadata": {},
   "outputs": [
    {
     "name": "stdout",
     "output_type": "stream",
     "text": [
      "Enter ypur MOB No:- 123456\n",
      "Invalid\n",
      "Length is not equal to 10\n"
     ]
    }
   ],
   "source": [
    "try:\n",
    "    mob_no = input(\"Enter ypur MOB No:- \")\n",
    "    if len(mob_no) == 10:\n",
    "        print(\"Valid\")\n",
    "    else:\n",
    "        print(\"Invalid\")\n",
    "        print(var)\n",
    "except:\n",
    "    print(\"Length is not equal to 10\")"
   ]
  },
  {
   "cell_type": "code",
   "execution_count": 28,
   "id": "e44c143d",
   "metadata": {},
   "outputs": [
    {
     "ename": "SyntaxError",
     "evalue": "EOL while scanning string literal (Temp/ipykernel_14212/15321224.py, line 1)",
     "output_type": "error",
     "traceback": [
      "\u001b[1;36m  File \u001b[1;32m\"C:\\Users\\Mohit\\AppData\\Local\\Temp/ipykernel_14212/15321224.py\"\u001b[1;36m, line \u001b[1;32m1\u001b[0m\n\u001b[1;33m    print(f\"hi)\u001b[0m\n\u001b[1;37m               ^\u001b[0m\n\u001b[1;31mSyntaxError\u001b[0m\u001b[1;31m:\u001b[0m EOL while scanning string literal\n"
     ]
    }
   ],
   "source": [
    "print(f\"hi)"
   ]
  },
  {
   "cell_type": "code",
   "execution_count": 30,
   "id": "ece231c5",
   "metadata": {},
   "outputs": [],
   "source": [
    "with open(\"New_text.txt\",\"w\") as f:\n",
    "    f.write(\"This is new file in the directory\")"
   ]
  },
  {
   "cell_type": "code",
   "execution_count": 32,
   "id": "f261a35e",
   "metadata": {},
   "outputs": [],
   "source": [
    "with open(\"New_text1.txt\",\"x\") as f:\n",
    "    f.write(\"This is new file1 in the directory\")"
   ]
  },
  {
   "cell_type": "code",
   "execution_count": 33,
   "id": "84cf2070",
   "metadata": {},
   "outputs": [
    {
     "ename": "FileExistsError",
     "evalue": "[Errno 17] File exists: 'New_text1.txt'",
     "output_type": "error",
     "traceback": [
      "\u001b[1;31m---------------------------------------------------------------------------\u001b[0m",
      "\u001b[1;31mFileExistsError\u001b[0m                           Traceback (most recent call last)",
      "\u001b[1;32m~\\AppData\\Local\\Temp/ipykernel_14212/304557974.py\u001b[0m in \u001b[0;36m<module>\u001b[1;34m\u001b[0m\n\u001b[1;32m----> 1\u001b[1;33m \u001b[1;32mwith\u001b[0m \u001b[0mopen\u001b[0m\u001b[1;33m(\u001b[0m\u001b[1;34m\"New_text1.txt\"\u001b[0m\u001b[1;33m,\u001b[0m\u001b[1;34m\"x\"\u001b[0m\u001b[1;33m)\u001b[0m\u001b[1;32mas\u001b[0m \u001b[0mf\u001b[0m\u001b[1;33m:\u001b[0m\u001b[1;33m\u001b[0m\u001b[1;33m\u001b[0m\u001b[0m\n\u001b[0m\u001b[0;32m      2\u001b[0m     \u001b[0mf\u001b[0m\u001b[1;33m.\u001b[0m\u001b[0mwrite\u001b[0m\u001b[1;33m(\u001b[0m\u001b[1;34m\"This is new file1 in the directory but 2nd time\"\u001b[0m\u001b[1;33m)\u001b[0m\u001b[1;33m\u001b[0m\u001b[1;33m\u001b[0m\u001b[0m\n",
      "\u001b[1;31mFileExistsError\u001b[0m: [Errno 17] File exists: 'New_text1.txt'"
     ]
    }
   ],
   "source": [
    "with open(\"New_text1.txt\",\"x\")as f:\n",
    "    f.write(\"This is new file1 in the directory but 2nd time\")"
   ]
  },
  {
   "cell_type": "code",
   "execution_count": 34,
   "id": "7c6b511d",
   "metadata": {},
   "outputs": [],
   "source": [
    "try:\n",
    "    with open(\"New_text1.txt\",\"x\") as f:\n",
    "        f.write(\"New msg\")\n",
    "except:\n",
    "    with open(\"New_text1.txt\",\"a\") as f:\n",
    "        f.write(\"New msg\")"
   ]
  },
  {
   "cell_type": "code",
   "execution_count": 35,
   "id": "13fed8a2",
   "metadata": {},
   "outputs": [],
   "source": [
    "import traceback"
   ]
  },
  {
   "cell_type": "code",
   "execution_count": 36,
   "id": "1baf3b4e",
   "metadata": {},
   "outputs": [
    {
     "name": "stdout",
     "output_type": "stream",
     "text": [
      "None\n"
     ]
    },
    {
     "name": "stderr",
     "output_type": "stream",
     "text": [
      "Traceback (most recent call last):\n",
      "  File \"C:\\Users\\Mohit\\AppData\\Local\\Temp/ipykernel_14212/3777646046.py\", line 2, in <module>\n",
      "    print(var)\n",
      "NameError: name 'var' is not defined\n"
     ]
    }
   ],
   "source": [
    "try:\n",
    "    print(var)\n",
    "except:\n",
    "    print(traceback.print_exc())"
   ]
  },
  {
   "cell_type": "code",
   "execution_count": 37,
   "id": "7d11616e",
   "metadata": {},
   "outputs": [
    {
     "ename": "NameError",
     "evalue": "name 'var' is not defined",
     "output_type": "error",
     "traceback": [
      "\u001b[1;31m---------------------------------------------------------------------------\u001b[0m",
      "\u001b[1;31mNameError\u001b[0m                                 Traceback (most recent call last)",
      "\u001b[1;32m~\\AppData\\Local\\Temp/ipykernel_14212/2734745701.py\u001b[0m in \u001b[0;36m<module>\u001b[1;34m\u001b[0m\n\u001b[1;32m----> 1\u001b[1;33m \u001b[0mprint\u001b[0m\u001b[1;33m(\u001b[0m\u001b[0mvar\u001b[0m\u001b[1;33m)\u001b[0m\u001b[1;33m\u001b[0m\u001b[1;33m\u001b[0m\u001b[0m\n\u001b[0m",
      "\u001b[1;31mNameError\u001b[0m: name 'var' is not defined"
     ]
    }
   ],
   "source": [
    "print(var)"
   ]
  },
  {
   "cell_type": "code",
   "execution_count": 45,
   "id": "07914cd6",
   "metadata": {},
   "outputs": [
    {
     "name": "stdout",
     "output_type": "stream",
     "text": [
      "Except block\n",
      "None\n"
     ]
    },
    {
     "name": "stderr",
     "output_type": "stream",
     "text": [
      "Traceback (most recent call last):\n",
      "  File \"C:\\Users\\Mohit\\AppData\\Local\\Temp/ipykernel_14212/1366851662.py\", line 4, in <module>\n",
      "    a/b\n",
      "ZeroDivisionError: division by zero\n"
     ]
    }
   ],
   "source": [
    "try:\n",
    "    a = 10\n",
    "    b = 0\n",
    "    a/b\n",
    "except:\n",
    "    print(\"Except block\")\n",
    "    print(traceback.print_exc())"
   ]
  },
  {
   "cell_type": "code",
   "execution_count": null,
   "id": "754b5b0e",
   "metadata": {},
   "outputs": [],
   "source": [
    "data = \"\"\"Machine learning (ML) is the study of computer algorithms that can improve automatically \n",
    "through experience and by the use of data.[1] It is seen as a part of artificial intelligence.\"\"\""
   ]
  },
  {
   "cell_type": "code",
   "execution_count": 49,
   "id": "196f84e2",
   "metadata": {},
   "outputs": [
    {
     "name": "stdout",
     "output_type": "stream",
     "text": [
      "Except Block\n"
     ]
    },
    {
     "name": "stderr",
     "output_type": "stream",
     "text": [
      "Traceback (most recent call last):\n",
      "  File \"C:\\Users\\Mohit\\AppData\\Local\\Temp/ipykernel_14212/1301343883.py\", line 3, in <module>\n",
      "    f.write(data) #\n",
      "NameError: name 'data' is not defined\n"
     ]
    }
   ],
   "source": [
    "try:\n",
    "    f = open(\"ML_Intro.txt\",\"x\")\n",
    "    f.write(data)  \n",
    "    f.close()\n",
    "except:\n",
    "    print(\"Except Block\")\n",
    "    traceback.print_exc()"
   ]
  },
  {
   "cell_type": "code",
   "execution_count": 50,
   "id": "765dd665",
   "metadata": {},
   "outputs": [
    {
     "name": "stdout",
     "output_type": "stream",
     "text": [
      "Except Block\n"
     ]
    },
    {
     "name": "stderr",
     "output_type": "stream",
     "text": [
      "Traceback (most recent call last):\n",
      "  File \"C:\\Users\\Mohit\\AppData\\Local\\Temp/ipykernel_14212/677737795.py\", line 4, in <module>\n",
      "    f = open(\"ML_Intro.txt\",\"x\")\n",
      "FileExistsError: [Errno 17] File exists: 'ML_Intro.txt'\n"
     ]
    }
   ],
   "source": [
    "data = \"\"\"Machine learning (ML) is the study of computer algorithms that can improve automatically \n",
    "through experience and by the use of data.[1] It is seen as a part of artificial intelligence.\"\"\"\n",
    "try:\n",
    "    f = open(\"ML_Intro.txt\",\"x\")\n",
    "    f.write(data)  \n",
    "    f.close()\n",
    "except:\n",
    "    print(\"Except Block\")\n",
    "    traceback.print_exc()"
   ]
  },
  {
   "cell_type": "code",
   "execution_count": 52,
   "id": "445b4aa8",
   "metadata": {},
   "outputs": [
    {
     "name": "stderr",
     "output_type": "stream",
     "text": [
      "Traceback (most recent call last):\n",
      "  File \"C:\\Users\\Mohit\\AppData\\Local\\Temp/ipykernel_14212/1790014986.py\", line 4, in <module>\n",
      "    a / b\n",
      "ZeroDivisionError: division by zero\n"
     ]
    }
   ],
   "source": [
    "try:\n",
    "    a = 1000\n",
    "    b = 0\n",
    "    a / b\n",
    "except:\n",
    "    traceback.print_exc()"
   ]
  },
  {
   "cell_type": "code",
   "execution_count": 53,
   "id": "bbdfafa6",
   "metadata": {},
   "outputs": [
    {
     "name": "stdout",
     "output_type": "stream",
     "text": [
      "division by zero\n"
     ]
    }
   ],
   "source": [
    "try:\n",
    "    a = 1000\n",
    "    b = 0\n",
    "    print(a / b)\n",
    "except ZeroDivisionError as error:\n",
    "    print(error)"
   ]
  },
  {
   "cell_type": "code",
   "execution_count": 54,
   "id": "47e8dd6a",
   "metadata": {},
   "outputs": [
    {
     "name": "stdout",
     "output_type": "stream",
     "text": [
      "200.0\n"
     ]
    },
    {
     "ename": "NameError",
     "evalue": "name 'lname' is not defined",
     "output_type": "error",
     "traceback": [
      "\u001b[1;31m---------------------------------------------------------------------------\u001b[0m",
      "\u001b[1;31mNameError\u001b[0m                                 Traceback (most recent call last)",
      "\u001b[1;32m~\\AppData\\Local\\Temp/ipykernel_14212/3732774734.py\u001b[0m in \u001b[0;36m<module>\u001b[1;34m\u001b[0m\n\u001b[0;32m      3\u001b[0m     \u001b[0mb\u001b[0m \u001b[1;33m=\u001b[0m \u001b[1;36m5\u001b[0m\u001b[1;33m\u001b[0m\u001b[1;33m\u001b[0m\u001b[0m\n\u001b[0;32m      4\u001b[0m     \u001b[0mprint\u001b[0m\u001b[1;33m(\u001b[0m\u001b[0ma\u001b[0m \u001b[1;33m/\u001b[0m \u001b[0mb\u001b[0m\u001b[1;33m)\u001b[0m\u001b[1;33m\u001b[0m\u001b[1;33m\u001b[0m\u001b[0m\n\u001b[1;32m----> 5\u001b[1;33m     \u001b[0mprint\u001b[0m\u001b[1;33m(\u001b[0m\u001b[0mlname\u001b[0m\u001b[1;33m)\u001b[0m\u001b[1;33m\u001b[0m\u001b[1;33m\u001b[0m\u001b[0m\n\u001b[0m\u001b[0;32m      6\u001b[0m \u001b[1;33m\u001b[0m\u001b[0m\n\u001b[0;32m      7\u001b[0m \u001b[1;32mexcept\u001b[0m \u001b[0mZeroDivisionError\u001b[0m \u001b[1;32mas\u001b[0m \u001b[0merror\u001b[0m\u001b[1;33m:\u001b[0m\u001b[1;33m\u001b[0m\u001b[1;33m\u001b[0m\u001b[0m\n",
      "\u001b[1;31mNameError\u001b[0m: name 'lname' is not defined"
     ]
    }
   ],
   "source": [
    "try:\n",
    "    a = 1000\n",
    "    b = 5\n",
    "    print(a / b)\n",
    "    print(lname)\n",
    "    \n",
    "except ZeroDivisionError as error:\n",
    "    print(error)"
   ]
  },
  {
   "cell_type": "code",
   "execution_count": 58,
   "id": "ca67d48f",
   "metadata": {},
   "outputs": [
    {
     "name": "stdout",
     "output_type": "stream",
     "text": [
      "111.11111111111111\n",
      "name 'lname' is not defined\n"
     ]
    }
   ],
   "source": [
    "try:\n",
    "    a = 1000\n",
    "    b = 9\n",
    "    print(a / b)\n",
    "    print(lname)\n",
    "    \n",
    "except ZeroDivisionError as error:\n",
    "    print(error)\n",
    "    \n",
    "except NameError as error1:\n",
    "    print(error1)"
   ]
  },
  {
   "cell_type": "code",
   "execution_count": 59,
   "id": "15503bb2",
   "metadata": {},
   "outputs": [
    {
     "name": "stdout",
     "output_type": "stream",
     "text": [
      "division by zero\n"
     ]
    }
   ],
   "source": [
    "try:\n",
    "    a = 1000\n",
    "    b = 0\n",
    "    print(a / b)\n",
    "    print(lname)\n",
    "    \n",
    "except ZeroDivisionError as error:\n",
    "    print(error)\n",
    "    \n",
    "except NameError as error1:\n",
    "    print(error1)"
   ]
  },
  {
   "cell_type": "code",
   "execution_count": 60,
   "id": "2b39afd6",
   "metadata": {},
   "outputs": [
    {
     "name": "stdout",
     "output_type": "stream",
     "text": [
      "111.11111111111111\n",
      "name 'lname' is not defined\n"
     ]
    }
   ],
   "source": [
    "text = \"\"\"Machine learning (ML) is the study of computer algorithms that can improve automatically \n",
    "through experience and by the use of data.[1] It is seen as a part of artificial intelligence.\"\"\"\n",
    "try:\n",
    "    a = 1000\n",
    "    b = 9\n",
    "    print(a/b)\n",
    "    \n",
    "    print(lname)\n",
    "    f = open(\"ML_Intro.txt\",\"x\")\n",
    "    f.write(text)\n",
    "    f.close()\n",
    "    \n",
    "except ZeroDivisionError as error:\n",
    "    print(error)\n",
    "    \n",
    "except NameError as error1:\n",
    "    print(error1)\n",
    "    \n",
    "except:\n",
    "    traceback.print_exc()\n",
    "    "
   ]
  },
  {
   "cell_type": "code",
   "execution_count": 61,
   "id": "ed692d4e",
   "metadata": {},
   "outputs": [
    {
     "name": "stdout",
     "output_type": "stream",
     "text": [
      "111.11111111111111\n",
      "Lname\n"
     ]
    },
    {
     "name": "stderr",
     "output_type": "stream",
     "text": [
      "Traceback (most recent call last):\n",
      "  File \"C:\\Users\\Mohit\\AppData\\Local\\Temp/ipykernel_14212/363509787.py\", line 9, in <module>\n",
      "    f = open(\"ML_Intro.txt\",\"x\")\n",
      "FileExistsError: [Errno 17] File exists: 'ML_Intro.txt'\n"
     ]
    }
   ],
   "source": [
    "text = \"\"\"Machine learning (ML) is the study of computer algorithms that can improve automatically \n",
    "through experience and by the use of data.[1] It is seen as a part of artificial intelligence.\"\"\"\n",
    "try:\n",
    "    a = 1000\n",
    "    b = 9\n",
    "    print(a/b)\n",
    "    \n",
    "    print(\"Lname\")\n",
    "    f = open(\"ML_Intro.txt\",\"x\")\n",
    "    f.write(text)\n",
    "    f.close()\n",
    "    \n",
    "except ZeroDivisionError as error:\n",
    "    print(error)\n",
    "    \n",
    "except NameError as error1:\n",
    "    print(error1)\n",
    "    \n",
    "except:\n",
    "    traceback.print_exc()\n",
    "    "
   ]
  },
  {
   "cell_type": "code",
   "execution_count": 62,
   "id": "5a77e94a",
   "metadata": {},
   "outputs": [
    {
     "name": "stdout",
     "output_type": "stream",
     "text": [
      "111.11111111111111\n",
      "Lname\n",
      "[Errno 17] File exists: 'ML_Intro.txt'\n"
     ]
    }
   ],
   "source": [
    "text = \"\"\"Machine learning (ML) is the study of computer algorithms that can improve automatically \n",
    "through experience and by the use of data.[1] It is seen as a part of artificial intelligence.\"\"\"\n",
    "try:\n",
    "    a = 1000\n",
    "    b = 9\n",
    "    print(a/b)\n",
    "    \n",
    "    print(\"Lname\")\n",
    "    f = open(\"ML_Intro.txt\",\"x\")\n",
    "    f.write(text)\n",
    "    f.close()\n",
    "    \n",
    "except ZeroDivisionError as error:\n",
    "    print(error)\n",
    "    \n",
    "except NameError as error1:\n",
    "    print(error1)\n",
    "    \n",
    "except FileExistsError as error2:\n",
    "    print(error2)\n",
    "    "
   ]
  },
  {
   "cell_type": "code",
   "execution_count": 65,
   "id": "ec469265",
   "metadata": {},
   "outputs": [
    {
     "name": "stdout",
     "output_type": "stream",
     "text": [
      "111.11111111111111\n",
      "Lname\n"
     ]
    },
    {
     "name": "stderr",
     "output_type": "stream",
     "text": [
      "Traceback (most recent call last):\n",
      "  File \"C:\\Users\\Mohit\\AppData\\Local\\Temp/ipykernel_14212/2414611162.py\", line 14, in <module>\n",
      "    f = open(\"Machine_Learning.txt\")\n",
      "FileNotFoundError: [Errno 2] No such file or directory: 'Machine_Learning.txt'\n"
     ]
    }
   ],
   "source": [
    "text = \"\"\"Machine learning (ML) is the study of computer algorithms that can improve automatically \n",
    "through experience and by the use of data.[1] It is seen as a part of artificial intelligence.\"\"\"\n",
    "try:\n",
    "    a = 1000\n",
    "    b = 9\n",
    "    print(a/b)\n",
    "    \n",
    "    print(\"Lname\")\n",
    "    \n",
    "    f = open(\"ML_Intro.txt\",\"w\")\n",
    "    f.write(text)\n",
    "    f.close()\n",
    "    \n",
    "    f = open(\"Machine_Learning.txt\")\n",
    "    f.read()\n",
    "    f.close()\n",
    "    \n",
    "except ZeroDivisionError as error:\n",
    "    print(error)\n",
    "    \n",
    "except NameError as error1:\n",
    "    print(error1)\n",
    "    \n",
    "except FileExistsError as error2:\n",
    "    print(error2)\n",
    "\n",
    "except:\n",
    "    traceback.print_exc()"
   ]
  },
  {
   "cell_type": "code",
   "execution_count": 66,
   "id": "bcd882a8",
   "metadata": {},
   "outputs": [
    {
     "name": "stdout",
     "output_type": "stream",
     "text": [
      "111.11111111111111\n",
      "Lname\n",
      "File Not present\n"
     ]
    }
   ],
   "source": [
    "text = \"\"\"Machine learning (ML) is the study of computer algorithms that can improve automatically \n",
    "through experience and by the use of data.[1] It is seen as a part of artificial intelligence.\"\"\"\n",
    "try:\n",
    "    a = 1000\n",
    "    b = 9\n",
    "    print(a/b)\n",
    "    \n",
    "    print(\"Lname\")\n",
    "    \n",
    "    f = open(\"ML_Intro.txt\",\"w\")\n",
    "    f.write(text)\n",
    "    f.close()\n",
    "    \n",
    "    f = open(\"Machine_Learning.txt\")\n",
    "    f.read()\n",
    "    f.close()\n",
    "    \n",
    "except ZeroDivisionError as error:\n",
    "    print(error)\n",
    "    \n",
    "except NameError as error1:\n",
    "    print(error1)\n",
    "    \n",
    "except FileExistsError as error2:\n",
    "    print(error2)\n",
    "\n",
    "except FileNotFoundError as error3:\n",
    "    print(\"File Not present\")"
   ]
  },
  {
   "cell_type": "code",
   "execution_count": 67,
   "id": "51175e0f",
   "metadata": {},
   "outputs": [
    {
     "name": "stdout",
     "output_type": "stream",
     "text": [
      "111.11111111111111\n",
      "Lname\n",
      "[Errno 17] File exists: 'ML_Intro.txt'\n"
     ]
    }
   ],
   "source": [
    "text = \"\"\"Machine learning (ML) is the study of computer algorithms that can improve automatically \n",
    "through experience and by the use of data.[1] It is seen as a part of artificial intelligence.\"\"\"\n",
    "try:\n",
    "    a = 1000\n",
    "    b = 9\n",
    "    print(a/b)\n",
    "    \n",
    "    print(\"Lname\")\n",
    "    \n",
    "    f = open(\"ML_Intro.txt\",\"x\")\n",
    "    f.write(text)\n",
    "    f.close()\n",
    "    \n",
    "    f = open(\"Machine_Learning.txt\")\n",
    "    f.read()\n",
    "    f.close()\n",
    "    \n",
    "except ZeroDivisionError as error:\n",
    "    print(error)\n",
    "    \n",
    "except NameError as error1:\n",
    "    print(error1)\n",
    "    \n",
    "except FileExistsError as error2:\n",
    "    print(error2)\n",
    "\n",
    "except FileNotFoundError as error3:\n",
    "    print(\"File Not present\")"
   ]
  },
  {
   "cell_type": "markdown",
   "id": "ec232e8c",
   "metadata": {},
   "source": [
    "# try-except-else"
   ]
  },
  {
   "cell_type": "code",
   "execution_count": 68,
   "id": "b02de0d9",
   "metadata": {},
   "outputs": [
    {
     "name": "stdout",
     "output_type": "stream",
     "text": [
      "In the try block\n",
      "In the else block\n"
     ]
    }
   ],
   "source": [
    "try:\n",
    "    print(\"In the try block\")\n",
    "except:\n",
    "    print(\"In the except block\")\n",
    "else:\n",
    "    print(\"In the else block\")"
   ]
  },
  {
   "cell_type": "code",
   "execution_count": 69,
   "id": "9b84893d",
   "metadata": {},
   "outputs": [
    {
     "name": "stdout",
     "output_type": "stream",
     "text": [
      "0\n",
      "1\n",
      "2\n",
      "3\n",
      "4\n",
      "Loop Executed\n"
     ]
    }
   ],
   "source": [
    "for i in range(5):\n",
    "    print(i)\n",
    "else:\n",
    "    print(\"Loop Executed\")"
   ]
  },
  {
   "cell_type": "code",
   "execution_count": 79,
   "id": "dd803206",
   "metadata": {},
   "outputs": [
    {
     "name": "stdout",
     "output_type": "stream",
     "text": [
      "0\n",
      "1\n",
      "2\n"
     ]
    }
   ],
   "source": [
    "for i in range(5):\n",
    "    if i == 3:\n",
    "        break\n",
    "    print(i)\n",
    "        \n",
    "else:\n",
    "    print(\"Loop Executed\")\n",
    "    \n",
    "    \n",
    "# A \"break\" statement executed in the first suite terminates the loop without executing the \"else\" clause’s suite."
   ]
  },
  {
   "cell_type": "code",
   "execution_count": 78,
   "id": "f366b61c",
   "metadata": {},
   "outputs": [
    {
     "name": "stdout",
     "output_type": "stream",
     "text": [
      "The \"for\" statement\n",
      "*******************\n",
      "\n",
      "The \"for\" statement is used to iterate over the elements of a sequence\n",
      "(such as a string, tuple or list) or other iterable object:\n",
      "\n",
      "   for_stmt ::= \"for\" target_list \"in\" expression_list \":\" suite\n",
      "                [\"else\" \":\" suite]\n",
      "\n",
      "The expression list is evaluated once; it should yield an iterable\n",
      "object.  An iterator is created for the result of the\n",
      "\"expression_list\".  The suite is then executed once for each item\n",
      "provided by the iterator, in the order returned by the iterator.  Each\n",
      "item in turn is assigned to the target list using the standard rules\n",
      "for assignments (see Assignment statements), and then the suite is\n",
      "executed.  When the items are exhausted (which is immediately when the\n",
      "sequence is empty or an iterator raises a \"StopIteration\" exception),\n",
      "the suite in the \"else\" clause, if present, is executed, and the loop\n",
      "terminates.\n",
      "\n",
      "A \"break\" statement executed in the first suite terminates the loop\n",
      "without executing the \"else\" clause’s suite.  A \"continue\" statement\n",
      "executed in the first suite skips the rest of the suite and continues\n",
      "with the next item, or with the \"else\" clause if there is no next\n",
      "item.\n",
      "\n",
      "The for-loop makes assignments to the variables in the target list.\n",
      "This overwrites all previous assignments to those variables including\n",
      "those made in the suite of the for-loop:\n",
      "\n",
      "   for i in range(10):\n",
      "       print(i)\n",
      "       i = 5             # this will not affect the for-loop\n",
      "                         # because i will be overwritten with the next\n",
      "                         # index in the range\n",
      "\n",
      "Names in the target list are not deleted when the loop is finished,\n",
      "but if the sequence is empty, they will not have been assigned to at\n",
      "all by the loop.  Hint: the built-in function \"range()\" returns an\n",
      "iterator of integers suitable to emulate the effect of Pascal’s \"for i\n",
      ":= a to b do\"; e.g., \"list(range(3))\" returns the list \"[0, 1, 2]\".\n",
      "\n",
      "Note:\n",
      "\n",
      "  There is a subtlety when the sequence is being modified by the loop\n",
      "  (this can only occur for mutable sequences, e.g. lists).  An\n",
      "  internal counter is used to keep track of which item is used next,\n",
      "  and this is incremented on each iteration.  When this counter has\n",
      "  reached the length of the sequence the loop terminates.  This means\n",
      "  that if the suite deletes the current (or a previous) item from the\n",
      "  sequence, the next item will be skipped (since it gets the index of\n",
      "  the current item which has already been treated).  Likewise, if the\n",
      "  suite inserts an item in the sequence before the current item, the\n",
      "  current item will be treated again the next time through the loop.\n",
      "  This can lead to nasty bugs that can be avoided by making a\n",
      "  temporary copy using a slice of the whole sequence, e.g.,\n",
      "\n",
      "     for x in a[:]:\n",
      "         if x < 0: a.remove(x)\n",
      "\n",
      "Related help topics: break, continue, while\n",
      "\n"
     ]
    }
   ],
   "source": [
    "help(\"for\")"
   ]
  },
  {
   "cell_type": "code",
   "execution_count": 80,
   "id": "4b1c65ae",
   "metadata": {},
   "outputs": [
    {
     "name": "stdout",
     "output_type": "stream",
     "text": [
      "In the try block\n",
      "In the except block\n"
     ]
    }
   ],
   "source": [
    "try:\n",
    "    print(\"In the try block\")\n",
    "    print(hi)\n",
    "except:\n",
    "    print(\"In the except block\")\n",
    "else:\n",
    "    print(\"In the else block\")"
   ]
  },
  {
   "cell_type": "code",
   "execution_count": 82,
   "id": "481eaf68",
   "metadata": {},
   "outputs": [
    {
     "name": "stdout",
     "output_type": "stream",
     "text": [
      "In the try block\n",
      "can only concatenate str (not \"int\") to str\n",
      "In the except block\n"
     ]
    }
   ],
   "source": [
    "try:\n",
    "    print(\"In the try block\")\n",
    "    \"Python\" + 123\n",
    "except TypeError as e:\n",
    "    print(e)\n",
    "    print(\"In the except block\")\n",
    "else:\n",
    "    print(\"In the else block\")"
   ]
  },
  {
   "cell_type": "code",
   "execution_count": 84,
   "id": "528fce4c",
   "metadata": {},
   "outputs": [
    {
     "name": "stdout",
     "output_type": "stream",
     "text": [
      "In the try block\n",
      "Python123\n",
      "In the else block\n"
     ]
    }
   ],
   "source": [
    "try:\n",
    "    print(\"In the try block\")\n",
    "    \"Python\" + \"123\"\n",
    "except:\n",
    "    print(\"In the except block\")\n",
    "else:\n",
    "    print(\"In the else block\")"
   ]
  },
  {
   "cell_type": "markdown",
   "id": "c7ee44aa",
   "metadata": {},
   "source": [
    "# try-except-finally"
   ]
  },
  {
   "cell_type": "code",
   "execution_count": 85,
   "id": "57c64091",
   "metadata": {},
   "outputs": [
    {
     "name": "stdout",
     "output_type": "stream",
     "text": [
      "In the try block\n",
      "In the finally block\n"
     ]
    }
   ],
   "source": [
    "try:\n",
    "    print(\"In the try block\")\n",
    "except:\n",
    "    print(\"In the except block\")\n",
    "finally:\n",
    "    print(\"In the finally block\")"
   ]
  },
  {
   "cell_type": "code",
   "execution_count": 86,
   "id": "1d596de7",
   "metadata": {},
   "outputs": [
    {
     "name": "stdout",
     "output_type": "stream",
     "text": [
      "In the try block\n",
      "In the except block\n",
      "In the finally block\n"
     ]
    }
   ],
   "source": [
    "try:\n",
    "    print(\"In the try block\")\n",
    "    print(lname)\n",
    "except:\n",
    "    print(\"In the except block\")\n",
    "finally:\n",
    "    print(\"In the finally block\")"
   ]
  },
  {
   "cell_type": "code",
   "execution_count": 89,
   "id": "7e7cc213",
   "metadata": {},
   "outputs": [
    {
     "ename": "TypeError",
     "evalue": "can only concatenate str (not \"int\") to str",
     "output_type": "error",
     "traceback": [
      "\u001b[1;31m---------------------------------------------------------------------------\u001b[0m",
      "\u001b[1;31mTypeError\u001b[0m                                 Traceback (most recent call last)",
      "\u001b[1;32m~\\AppData\\Local\\Temp/ipykernel_14212/1437594093.py\u001b[0m in \u001b[0;36m<module>\u001b[1;34m\u001b[0m\n\u001b[1;32m----> 1\u001b[1;33m \u001b[1;34m\"Python\"\u001b[0m \u001b[1;33m+\u001b[0m \u001b[1;36m123\u001b[0m\u001b[1;33m\u001b[0m\u001b[1;33m\u001b[0m\u001b[0m\n\u001b[0m",
      "\u001b[1;31mTypeError\u001b[0m: can only concatenate str (not \"int\") to str"
     ]
    }
   ],
   "source": [
    "\"Python\" + 123"
   ]
  },
  {
   "cell_type": "code",
   "execution_count": 90,
   "id": "a7c35ec0",
   "metadata": {},
   "outputs": [
    {
     "name": "stdout",
     "output_type": "stream",
     "text": [
      "In the try block\n",
      "can only concatenate str (not \"int\") to str\n",
      "In the except block\n",
      "Both values should be of same data type\n"
     ]
    }
   ],
   "source": [
    "try:\n",
    "    print(\"In the try block\")\n",
    "    \"python\" + 123\n",
    "except TypeError as e:\n",
    "    print(e)\n",
    "    print(\"In the except block\")\n",
    "finally:\n",
    "    print(\"Both values should be of same data type\")"
   ]
  },
  {
   "cell_type": "code",
   "execution_count": 91,
   "id": "2317fba4",
   "metadata": {},
   "outputs": [
    {
     "name": "stdout",
     "output_type": "stream",
     "text": [
      "In the try block\n",
      "Both values should be of same data type\n"
     ]
    }
   ],
   "source": [
    "try:\n",
    "    print(\"In the try block\")\n",
    "    \"python\" + \"123\"\n",
    "except TypeError as e:\n",
    "    print(e)\n",
    "    print(\"In the except block\")\n",
    "finally:\n",
    "    print(\"Both values should be of same data type\")"
   ]
  },
  {
   "cell_type": "code",
   "execution_count": 92,
   "id": "c060459a",
   "metadata": {},
   "outputs": [
    {
     "name": "stdout",
     "output_type": "stream",
     "text": [
      "In the try block\n",
      "In the except block\n",
      "I'm running irrespective of try and except\n"
     ]
    },
    {
     "name": "stderr",
     "output_type": "stream",
     "text": [
      "Traceback (most recent call last):\n",
      "  File \"C:\\Users\\Mohit\\AppData\\Local\\Temp/ipykernel_14212/3322587953.py\", line 4, in <module>\n",
      "    print(num[10])\n",
      "IndexError: list index out of range\n"
     ]
    }
   ],
   "source": [
    "try:\n",
    "    print(\"In the try block\")\n",
    "    num = [1,2,3,4,5]\n",
    "    print(num[10])\n",
    "except:\n",
    "    traceback.print_exc()\n",
    "    print(\"In the except block\")\n",
    "finally:\n",
    "    print(\"I'm running irrespective of try and except\")"
   ]
  },
  {
   "cell_type": "code",
   "execution_count": 93,
   "id": "45bc5dac",
   "metadata": {},
   "outputs": [
    {
     "name": "stdout",
     "output_type": "stream",
     "text": [
      "In the try block\n",
      "2\n",
      "I'm running irrespective of try and except\n"
     ]
    }
   ],
   "source": [
    "try:\n",
    "    print(\"In the try block\")\n",
    "    num = [1,2,3,4,5]\n",
    "    print(num[1])\n",
    "except:\n",
    "    traceback.print_exc()\n",
    "    print(\"In the except block\")\n",
    "finally:\n",
    "    print(\"I'm running irrespective of try and except\")"
   ]
  },
  {
   "cell_type": "markdown",
   "id": "0c1c56a8",
   "metadata": {},
   "source": [
    "# try-except-else-finally"
   ]
  },
  {
   "cell_type": "code",
   "execution_count": 94,
   "id": "d461a824",
   "metadata": {},
   "outputs": [
    {
     "name": "stdout",
     "output_type": "stream",
     "text": [
      "In the try block\n",
      "In the else block\n",
      "In the finally block\n"
     ]
    }
   ],
   "source": [
    "try:\n",
    "    print(\"In the try block\")\n",
    "    \n",
    "except:\n",
    "    print(\"In the except block\")\n",
    "    \n",
    "else:\n",
    "    print(\"In the else block\")\n",
    "    \n",
    "finally:\n",
    "    print(\"In the finally block\")"
   ]
  },
  {
   "cell_type": "code",
   "execution_count": 95,
   "id": "7baea78a",
   "metadata": {},
   "outputs": [
    {
     "name": "stdout",
     "output_type": "stream",
     "text": [
      "In the try block\n",
      "In the except block\n",
      "In the finally block\n"
     ]
    }
   ],
   "source": [
    "try:\n",
    "    print(\"In the try block\")\n",
    "    print(lname)\n",
    "    \n",
    "except:\n",
    "    print(\"In the except block\")\n",
    "    \n",
    "else:\n",
    "    print(\"In the else block\")\n",
    "    \n",
    "finally:\n",
    "    print(\"In the finally block\")"
   ]
  }
 ],
 "metadata": {
  "kernelspec": {
   "display_name": "Python 3 (ipykernel)",
   "language": "python",
   "name": "python3"
  },
  "language_info": {
   "codemirror_mode": {
    "name": "ipython",
    "version": 3
   },
   "file_extension": ".py",
   "mimetype": "text/x-python",
   "name": "python",
   "nbconvert_exporter": "python",
   "pygments_lexer": "ipython3",
   "version": "3.12.4"
  }
 },
 "nbformat": 4,
 "nbformat_minor": 5
}
