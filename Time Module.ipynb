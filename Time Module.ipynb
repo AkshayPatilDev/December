{
 "cells": [
  {
   "cell_type": "code",
   "execution_count": 1,
   "id": "f6d27964",
   "metadata": {},
   "outputs": [],
   "source": [
    "import time"
   ]
  },
  {
   "cell_type": "code",
   "execution_count": 7,
   "id": "99c14bb9",
   "metadata": {},
   "outputs": [
    {
     "name": "stdout",
     "output_type": "stream",
     "text": [
      "CPU times: total: 15.6 ms\n",
      "Wall time: 5.23 ms\n"
     ]
    }
   ],
   "source": [
    "%%time\n",
    "for i in range(100000):\n",
    "    pass"
   ]
  },
  {
   "cell_type": "code",
   "execution_count": 10,
   "id": "a0edf444",
   "metadata": {},
   "outputs": [
    {
     "data": {
      "text/plain": [
       "1664286015.9876044"
      ]
     },
     "execution_count": 10,
     "metadata": {},
     "output_type": "execute_result"
    }
   ],
   "source": [
    "time.time()"
   ]
  },
  {
   "cell_type": "code",
   "execution_count": 11,
   "id": "04606dad",
   "metadata": {},
   "outputs": [
    {
     "data": {
      "text/plain": [
       "1664286022.077201"
      ]
     },
     "execution_count": 11,
     "metadata": {},
     "output_type": "execute_result"
    }
   ],
   "source": [
    "time.time()"
   ]
  },
  {
   "cell_type": "code",
   "execution_count": 13,
   "id": "daecdb3f",
   "metadata": {},
   "outputs": [
    {
     "data": {
      "text/plain": [
       "time.struct_time(tm_year=2022, tm_mon=9, tm_mday=27, tm_hour=13, tm_min=40, tm_sec=49, tm_wday=1, tm_yday=270, tm_isdst=0)"
      ]
     },
     "execution_count": 13,
     "metadata": {},
     "output_type": "execute_result"
    }
   ],
   "source": [
    "time.gmtime()"
   ]
  },
  {
   "cell_type": "code",
   "execution_count": 14,
   "id": "b1ffd50c",
   "metadata": {},
   "outputs": [
    {
     "data": {
      "text/plain": [
       "'Tue Sep 27 19:10:15 2022'"
      ]
     },
     "execution_count": 14,
     "metadata": {},
     "output_type": "execute_result"
    }
   ],
   "source": [
    "time.ctime(1664286015.9876044)"
   ]
  },
  {
   "cell_type": "code",
   "execution_count": 15,
   "id": "44068e09",
   "metadata": {},
   "outputs": [
    {
     "data": {
      "text/plain": [
       "'Tue Sep 27 19:10:22 2022'"
      ]
     },
     "execution_count": 15,
     "metadata": {},
     "output_type": "execute_result"
    }
   ],
   "source": [
    "time.ctime(1664286022.077201)"
   ]
  },
  {
   "cell_type": "code",
   "execution_count": 16,
   "id": "701758cc",
   "metadata": {},
   "outputs": [
    {
     "data": {
      "text/plain": [
       "'Tue Sep 27 19:11:43 2022'"
      ]
     },
     "execution_count": 16,
     "metadata": {},
     "output_type": "execute_result"
    }
   ],
   "source": [
    "time.ctime(time.time())"
   ]
  },
  {
   "cell_type": "code",
   "execution_count": 2,
   "id": "937d823f",
   "metadata": {},
   "outputs": [
    {
     "data": {
      "text/plain": [
       "'Sat Apr  6 23:04:48 2497'"
      ]
     },
     "execution_count": 2,
     "metadata": {},
     "output_type": "execute_result"
    }
   ],
   "source": [
    "time.ctime(16638888888)"
   ]
  },
  {
   "cell_type": "code",
   "execution_count": 3,
   "id": "18e9591e",
   "metadata": {},
   "outputs": [
    {
     "name": "stdout",
     "output_type": "stream",
     "text": [
      "1664286205.5341604\n",
      "1664286205.5341604\n"
     ]
    }
   ],
   "source": [
    "start_time = time.time()\n",
    "print(start_time)\n",
    "end_time = time.time()\n",
    "print(end_time)"
   ]
  },
  {
   "cell_type": "code",
   "execution_count": 5,
   "id": "50c9963e",
   "metadata": {},
   "outputs": [
    {
     "name": "stdout",
     "output_type": "stream",
     "text": [
      "Start time = 1664286298.7276156\n",
      "End time = 1664286298.7286184\n",
      "Total time taken = 0.0010027885437011719\n"
     ]
    }
   ],
   "source": [
    "start_time = time.time()\n",
    "print(f\"Start time = {start_time}\")\n",
    "\n",
    "for i in range(10):\n",
    "    pass\n",
    "\n",
    "\n",
    "end_time = time.time()\n",
    "print(f\"End time = {end_time}\")\n",
    "print(f\"Total time taken = {end_time - start_time}\")"
   ]
  },
  {
   "cell_type": "code",
   "execution_count": 6,
   "id": "d70dca08",
   "metadata": {},
   "outputs": [
    {
     "name": "stdout",
     "output_type": "stream",
     "text": [
      "Start time = 1664286310.708589\n",
      "End time = 1664286310.708589\n",
      "Total time taken = 0.0\n"
     ]
    }
   ],
   "source": [
    "start_time = time.time()\n",
    "print(f\"Start time = {start_time}\")\n",
    "\n",
    "for i in range(10):\n",
    "    pass\n",
    "\n",
    "\n",
    "end_time = time.time()\n",
    "print(f\"End time = {end_time}\")\n",
    "print(f\"Total time taken = {end_time - start_time}\")"
   ]
  },
  {
   "cell_type": "code",
   "execution_count": 7,
   "id": "fecf6831",
   "metadata": {},
   "outputs": [
    {
     "name": "stdout",
     "output_type": "stream",
     "text": [
      "Start time = 1664286328.451948\n",
      "End time = 1664286328.793065\n",
      "Total time taken = 0.34111714363098145\n"
     ]
    }
   ],
   "source": [
    "start_time = time.time()\n",
    "print(f\"Start time = {start_time}\")\n",
    "\n",
    "for i in range(10000000):\n",
    "    pass\n",
    "\n",
    "\n",
    "end_time = time.time()\n",
    "print(f\"End time = {end_time}\")\n",
    "print(f\"Total time taken = {end_time - start_time}\")"
   ]
  },
  {
   "cell_type": "code",
   "execution_count": 3,
   "id": "c0510dc9",
   "metadata": {},
   "outputs": [
    {
     "name": "stdout",
     "output_type": "stream",
     "text": [
      "Start time = 1664286397.6232064\n",
      "End time = 1664286400.4885788\n",
      "Total time taken = 2.8653724193573\n"
     ]
    }
   ],
   "source": [
    "start_time = time.time()\n",
    "print(f\"Start time = {start_time}\")\n",
    "\n",
    "for i in range(100000000):\n",
    "    pass\n",
    "\n",
    "\n",
    "end_time = time.time()\n",
    "print(f\"End time = {end_time}\")\n",
    "print(f\"Total time taken = {end_time - start_time}\")"
   ]
  },
  {
   "cell_type": "code",
   "execution_count": 4,
   "id": "2888a481",
   "metadata": {},
   "outputs": [
    {
     "name": "stdout",
     "output_type": "stream",
     "text": [
      "CPU times: total: 2.72 s\n",
      "Wall time: 2.73 s\n"
     ]
    }
   ],
   "source": [
    "%%time\n",
    "for i in range(100000000):\n",
    "    pass"
   ]
  },
  {
   "cell_type": "code",
   "execution_count": 15,
   "id": "9f24dac8",
   "metadata": {},
   "outputs": [
    {
     "data": {
      "text/plain": [
       "'Thu Jan  1 05:30:01 1970'"
      ]
     },
     "execution_count": 15,
     "metadata": {},
     "output_type": "execute_result"
    }
   ],
   "source": [
    "time.ctime(1)"
   ]
  },
  {
   "cell_type": "code",
   "execution_count": null,
   "id": "a8997719",
   "metadata": {},
   "outputs": [],
   "source": []
  }
 ],
 "metadata": {
  "kernelspec": {
   "display_name": "Python 3 (ipykernel)",
   "language": "python",
   "name": "python3"
  },
  "language_info": {
   "codemirror_mode": {
    "name": "ipython",
    "version": 3
   },
   "file_extension": ".py",
   "mimetype": "text/x-python",
   "name": "python",
   "nbconvert_exporter": "python",
   "pygments_lexer": "ipython3",
   "version": "3.9.13"
  }
 },
 "nbformat": 4,
 "nbformat_minor": 5
}
