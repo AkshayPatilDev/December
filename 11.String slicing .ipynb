{
 "cells": [
  {
   "cell_type": "markdown",
   "id": "b8033f01",
   "metadata": {},
   "source": [
    "# String"
   ]
  },
  {
   "cell_type": "code",
   "execution_count": 1,
   "id": "eb44eddd",
   "metadata": {},
   "outputs": [],
   "source": [
    "str1 = \"Python\""
   ]
  },
  {
   "cell_type": "raw",
   "id": "415b20ff",
   "metadata": {},
   "source": [
    " P  y  t  h  o  n\n",
    " 0  1  2  3  4  5\n",
    "-6 -5 -4 -3 -2 -1"
   ]
  },
  {
   "cell_type": "code",
   "execution_count": 4,
   "id": "8e276660",
   "metadata": {},
   "outputs": [
    {
     "data": {
      "text/plain": [
       "'P'"
      ]
     },
     "execution_count": 4,
     "metadata": {},
     "output_type": "execute_result"
    }
   ],
   "source": [
    "str1[0]"
   ]
  },
  {
   "cell_type": "code",
   "execution_count": 5,
   "id": "7b0aa970",
   "metadata": {},
   "outputs": [
    {
     "data": {
      "text/plain": [
       "'n'"
      ]
     },
     "execution_count": 5,
     "metadata": {},
     "output_type": "execute_result"
    }
   ],
   "source": [
    "str1[-1]"
   ]
  },
  {
   "cell_type": "code",
   "execution_count": 6,
   "id": "d5ec147a",
   "metadata": {},
   "outputs": [
    {
     "data": {
      "text/plain": [
       "'t'"
      ]
     },
     "execution_count": 6,
     "metadata": {},
     "output_type": "execute_result"
    }
   ],
   "source": [
    "str1[-4]"
   ]
  },
  {
   "cell_type": "markdown",
   "id": "7ced3775",
   "metadata": {},
   "source": [
    "## String Slicing"
   ]
  },
  {
   "cell_type": "raw",
   "id": "f9667728",
   "metadata": {},
   "source": [
    "Syntax = string[start_index:end _index]"
   ]
  },
  {
   "cell_type": "code",
   "execution_count": 7,
   "id": "37b5be41",
   "metadata": {},
   "outputs": [
    {
     "data": {
      "text/plain": [
       "'Python and Data science'"
      ]
     },
     "execution_count": 7,
     "metadata": {},
     "output_type": "execute_result"
    }
   ],
   "source": [
    "str1 = \"Python and Data science\"\n",
    "str1[:]"
   ]
  },
  {
   "cell_type": "code",
   "execution_count": 8,
   "id": "3a43567e",
   "metadata": {},
   "outputs": [
    {
     "data": {
      "text/plain": [
       "'n and Data science'"
      ]
     },
     "execution_count": 8,
     "metadata": {},
     "output_type": "execute_result"
    }
   ],
   "source": [
    "str1[5:]"
   ]
  },
  {
   "cell_type": "code",
   "execution_count": 10,
   "id": "27f67ad8",
   "metadata": {},
   "outputs": [
    {
     "data": {
      "text/plain": [
       "'Python a'"
      ]
     },
     "execution_count": 10,
     "metadata": {},
     "output_type": "execute_result"
    }
   ],
   "source": [
    "str1[:8]"
   ]
  },
  {
   "cell_type": "code",
   "execution_count": 13,
   "id": "68ed2115",
   "metadata": {},
   "outputs": [
    {
     "data": {
      "text/plain": [
       "'and Data sc'"
      ]
     },
     "execution_count": 13,
     "metadata": {},
     "output_type": "execute_result"
    }
   ],
   "source": [
    "str1[7:18]"
   ]
  },
  {
   "cell_type": "markdown",
   "id": "30af6127",
   "metadata": {},
   "source": [
    "## Negative slicing"
   ]
  },
  {
   "cell_type": "raw",
   "id": "dede4eb9",
   "metadata": {},
   "source": [
    " P  y  t  h  o  n\n",
    " 0  1  2  3  4  5\n",
    "-6 -5 -4 -3 -2 -1"
   ]
  },
  {
   "cell_type": "code",
   "execution_count": 14,
   "id": "91ad3d20",
   "metadata": {},
   "outputs": [
    {
     "data": {
      "text/plain": [
       "'Python and Data science'"
      ]
     },
     "execution_count": 14,
     "metadata": {},
     "output_type": "execute_result"
    }
   ],
   "source": [
    "str1"
   ]
  },
  {
   "cell_type": "code",
   "execution_count": 15,
   "id": "cf696091",
   "metadata": {},
   "outputs": [
    {
     "data": {
      "text/plain": [
       "' science'"
      ]
     },
     "execution_count": 15,
     "metadata": {},
     "output_type": "execute_result"
    }
   ],
   "source": [
    "str1[-8:]"
   ]
  },
  {
   "cell_type": "code",
   "execution_count": 16,
   "id": "692a3e0e",
   "metadata": {},
   "outputs": [
    {
     "data": {
      "text/plain": [
       "'Python a'"
      ]
     },
     "execution_count": 16,
     "metadata": {},
     "output_type": "execute_result"
    }
   ],
   "source": [
    "str1[:-15]"
   ]
  },
  {
   "cell_type": "code",
   "execution_count": 19,
   "id": "d7f8d8d5",
   "metadata": {},
   "outputs": [
    {
     "data": {
      "text/plain": [
       "'scienc'"
      ]
     },
     "execution_count": 19,
     "metadata": {},
     "output_type": "execute_result"
    }
   ],
   "source": [
    "str1[-7:-1]"
   ]
  },
  {
   "cell_type": "markdown",
   "id": "9d844a57",
   "metadata": {},
   "source": [
    "# Step size\n",
    "- Syntax = string[start_index:end_index:step_size]"
   ]
  },
  {
   "cell_type": "code",
   "execution_count": 20,
   "id": "ceb3acf4",
   "metadata": {},
   "outputs": [
    {
     "data": {
      "text/plain": [
       "'Python and Data science'"
      ]
     },
     "execution_count": 20,
     "metadata": {},
     "output_type": "execute_result"
    }
   ],
   "source": [
    "str1"
   ]
  },
  {
   "cell_type": "code",
   "execution_count": 21,
   "id": "62b0614a",
   "metadata": {},
   "outputs": [
    {
     "data": {
      "text/plain": [
       "'Python'"
      ]
     },
     "execution_count": 21,
     "metadata": {},
     "output_type": "execute_result"
    }
   ],
   "source": [
    "str1[0:6]"
   ]
  },
  {
   "cell_type": "code",
   "execution_count": 22,
   "id": "3122f0d7",
   "metadata": {},
   "outputs": [
    {
     "data": {
      "text/plain": [
       "'Python and Data'"
      ]
     },
     "execution_count": 22,
     "metadata": {},
     "output_type": "execute_result"
    }
   ],
   "source": [
    "str1[0:15:1]"
   ]
  },
  {
   "cell_type": "code",
   "execution_count": 24,
   "id": "6faa8829",
   "metadata": {},
   "outputs": [
    {
     "data": {
      "text/plain": [
       "'Pto n aa'"
      ]
     },
     "execution_count": 24,
     "metadata": {},
     "output_type": "execute_result"
    }
   ],
   "source": [
    "str1[0:15:2]     #It adds 2 in current index and goes on"
   ]
  },
  {
   "cell_type": "code",
   "execution_count": 26,
   "id": "0b67a117",
   "metadata": {},
   "outputs": [
    {
     "data": {
      "text/plain": [
       "'Ph da i'"
      ]
     },
     "execution_count": 26,
     "metadata": {},
     "output_type": "execute_result"
    }
   ],
   "source": [
    "str1[0:20:3]"
   ]
  },
  {
   "cell_type": "code",
   "execution_count": 27,
   "id": "a103953d",
   "metadata": {
    "scrolled": true
   },
   "outputs": [
    {
     "data": {
      "text/plain": [
       "'Pto n aasine'"
      ]
     },
     "execution_count": 27,
     "metadata": {},
     "output_type": "execute_result"
    }
   ],
   "source": [
    "str1[::2]"
   ]
  },
  {
   "cell_type": "code",
   "execution_count": 45,
   "id": "751a4023",
   "metadata": {},
   "outputs": [
    {
     "data": {
      "text/plain": [
       "''"
      ]
     },
     "execution_count": 45,
     "metadata": {},
     "output_type": "execute_result"
    }
   ],
   "source": [
    "str1[-1:-15]"
   ]
  },
  {
   "cell_type": "code",
   "execution_count": 47,
   "id": "0b0d2a32",
   "metadata": {},
   "outputs": [
    {
     "data": {
      "text/plain": [
       "'nd Data scienc'"
      ]
     },
     "execution_count": 47,
     "metadata": {},
     "output_type": "execute_result"
    }
   ],
   "source": [
    "str1[-15:-1]"
   ]
  },
  {
   "cell_type": "code",
   "execution_count": 48,
   "id": "57825911",
   "metadata": {},
   "outputs": [
    {
     "data": {
      "text/plain": [
       "'n aasin'"
      ]
     },
     "execution_count": 48,
     "metadata": {},
     "output_type": "execute_result"
    }
   ],
   "source": [
    "str1[-15:-1:2]"
   ]
  },
  {
   "cell_type": "markdown",
   "id": "adb844ac",
   "metadata": {},
   "source": [
    "## Reversed string\n",
    "- It used to reverse the whole string"
   ]
  },
  {
   "cell_type": "code",
   "execution_count": 49,
   "id": "5b60ad88",
   "metadata": {},
   "outputs": [
    {
     "data": {
      "text/plain": [
       "'Python and Data science'"
      ]
     },
     "execution_count": 49,
     "metadata": {},
     "output_type": "execute_result"
    }
   ],
   "source": [
    "str1"
   ]
  },
  {
   "cell_type": "code",
   "execution_count": 50,
   "id": "91e19749",
   "metadata": {},
   "outputs": [
    {
     "data": {
      "text/plain": [
       "'ecneics ataD dna nohtyP'"
      ]
     },
     "execution_count": 50,
     "metadata": {},
     "output_type": "execute_result"
    }
   ],
   "source": [
    "str1[::-1]"
   ]
  },
  {
   "cell_type": "code",
   "execution_count": 55,
   "id": "ab99e4bc",
   "metadata": {},
   "outputs": [
    {
     "data": {
      "text/plain": [
       "'tDdanhy'"
      ]
     },
     "execution_count": 55,
     "metadata": {},
     "output_type": "execute_result"
    }
   ],
   "source": [
    "str1[-10::-2]"
   ]
  },
  {
   "cell_type": "code",
   "execution_count": 57,
   "id": "9363d191",
   "metadata": {},
   "outputs": [
    {
     "data": {
      "text/plain": [
       "'aD dna nohty'"
      ]
     },
     "execution_count": 57,
     "metadata": {},
     "output_type": "execute_result"
    }
   ],
   "source": [
    "str1[12:0:-1]"
   ]
  },
  {
   "cell_type": "markdown",
   "id": "169f0bc0",
   "metadata": {},
   "source": [
    "# Access char by using for loop"
   ]
  },
  {
   "cell_type": "raw",
   "id": "c33d882b",
   "metadata": {},
   "source": [
    "Syntax:-\n",
    "        \n",
    "for var_name in sequence:\n",
    "     statement 1\n",
    "     statement 2\n",
    "     statement 3\n",
    "     statement 4\n",
    "          .\n",
    "          .\n",
    "     statement n"
   ]
  },
  {
   "cell_type": "code",
   "execution_count": 58,
   "id": "e2eabe71",
   "metadata": {},
   "outputs": [
    {
     "data": {
      "text/plain": [
       "'Python'"
      ]
     },
     "execution_count": 58,
     "metadata": {},
     "output_type": "execute_result"
    }
   ],
   "source": [
    "str1 = \"Python\"\n",
    "str1"
   ]
  },
  {
   "cell_type": "code",
   "execution_count": 59,
   "id": "98ca587e",
   "metadata": {},
   "outputs": [
    {
     "data": {
      "text/plain": [
       "6"
      ]
     },
     "execution_count": 59,
     "metadata": {},
     "output_type": "execute_result"
    }
   ],
   "source": [
    "len(str1)"
   ]
  },
  {
   "cell_type": "code",
   "execution_count": 60,
   "id": "8c8e1dee",
   "metadata": {},
   "outputs": [
    {
     "name": "stdout",
     "output_type": "stream",
     "text": [
      "This is string\n",
      "This is string\n",
      "This is string\n",
      "This is string\n",
      "This is string\n",
      "This is string\n"
     ]
    }
   ],
   "source": [
    "for char in str1:\n",
    "    print(\"This is string\")"
   ]
  },
  {
   "cell_type": "code",
   "execution_count": 62,
   "id": "dcc23902",
   "metadata": {
    "scrolled": true
   },
   "outputs": [
    {
     "name": "stdout",
     "output_type": "stream",
     "text": [
      "P\n",
      "y\n",
      "t\n",
      "h\n",
      "o\n",
      "n\n"
     ]
    }
   ],
   "source": [
    "for char in str1:\n",
    "    print(char)"
   ]
  },
  {
   "cell_type": "code",
   "execution_count": 63,
   "id": "3aa6c61b",
   "metadata": {},
   "outputs": [
    {
     "name": "stdout",
     "output_type": "stream",
     "text": [
      "The char is = P\n",
      "The char is = y\n",
      "The char is = t\n",
      "The char is = h\n",
      "The char is = o\n",
      "The char is = n\n"
     ]
    }
   ],
   "source": [
    "for char in str1:\n",
    "    print(f\"The char is = {char}\")"
   ]
  },
  {
   "cell_type": "code",
   "execution_count": 65,
   "id": "c56f64e8",
   "metadata": {},
   "outputs": [
    {
     "name": "stdout",
     "output_type": "stream",
     "text": [
      "The char is = P\n",
      "--------------------\n",
      "The char is = y\n",
      "--------------------\n",
      "The char is = t\n",
      "--------------------\n",
      "The char is = h\n",
      "--------------------\n",
      "The char is = o\n",
      "--------------------\n",
      "The char is = n\n",
      "--------------------\n"
     ]
    }
   ],
   "source": [
    "for char in str1:\n",
    "    print(f\"The char is = {char}\")\n",
    "    print(\"-\"*20)"
   ]
  },
  {
   "cell_type": "code",
   "execution_count": 71,
   "id": "45f409b2",
   "metadata": {
    "scrolled": true
   },
   "outputs": [
    {
     "name": "stdout",
     "output_type": "stream",
     "text": [
      "The index no = 3 and The char is = h\n",
      "--------------------\n",
      "The index no = 3 and The char is = h\n",
      "--------------------\n",
      "The index no = 3 and The char is = h\n",
      "--------------------\n",
      "The index no = 3 and The char is = h\n",
      "--------------------\n",
      "The index no = 3 and The char is = h\n",
      "--------------------\n",
      "The index no = 3 and The char is = h\n",
      "--------------------\n"
     ]
    }
   ],
   "source": [
    "index_number = 3\n",
    "for char in str1:\n",
    "    print(f\"The index no = {index_number} and The char is = {str1[index_number]}\")\n",
    "    print(\"-\"*20)"
   ]
  },
  {
   "cell_type": "code",
   "execution_count": 72,
   "id": "208a05a2",
   "metadata": {},
   "outputs": [
    {
     "name": "stdout",
     "output_type": "stream",
     "text": [
      "The index no = 1 and The char is = y\n",
      "--------------------\n",
      "The index no = 1 and The char is = y\n",
      "--------------------\n",
      "The index no = 1 and The char is = y\n",
      "--------------------\n",
      "The index no = 1 and The char is = y\n",
      "--------------------\n",
      "The index no = 1 and The char is = y\n",
      "--------------------\n",
      "The index no = 1 and The char is = y\n",
      "--------------------\n"
     ]
    }
   ],
   "source": [
    "index_number = 1\n",
    "for char in str1:\n",
    "    print(f\"The index no = {index_number} and The char is = {str1[index_number]}\")\n",
    "    print(\"-\"*20)"
   ]
  },
  {
   "cell_type": "code",
   "execution_count": 76,
   "id": "ecdc3ad3",
   "metadata": {},
   "outputs": [
    {
     "name": "stdout",
     "output_type": "stream",
     "text": [
      "P\n",
      "y\n",
      "t\n",
      "h\n",
      "o\n",
      "n\n"
     ]
    }
   ],
   "source": [
    "index_number = 0\n",
    "print(str1[index_number])\n",
    "index_number = 0 + 1\n",
    "print(str1[index_number])\n",
    "index_number = 0 + 2\n",
    "print(str1[index_number])\n",
    "index_number = 0 + 3\n",
    "print(str1[index_number])\n",
    "index_number = 0 + 4\n",
    "print(str1[index_number])\n",
    "index_number = 0 + 5\n",
    "print(str1[index_number])"
   ]
  },
  {
   "cell_type": "code",
   "execution_count": 82,
   "id": "9dc852bf",
   "metadata": {},
   "outputs": [
    {
     "name": "stdout",
     "output_type": "stream",
     "text": [
      "The index no = 0\n",
      "The char is = P\n",
      "--------------------\n",
      "The index no = 1\n",
      "The char is = y\n",
      "--------------------\n",
      "The index no = 2\n",
      "The char is = t\n",
      "--------------------\n",
      "The index no = 3\n",
      "The char is = h\n",
      "--------------------\n",
      "The index no = 4\n",
      "The char is = o\n",
      "--------------------\n",
      "The index no = 5\n",
      "The char is = n\n",
      "--------------------\n"
     ]
    }
   ],
   "source": [
    "index_number = 0\n",
    "for char in str1:\n",
    "    print(f\"The index no = {index_number}\")\n",
    "    print(f\"The char is = {char}\")\n",
    "    print(\"-\"*20)\n",
    "    index_number = index_number + 1"
   ]
  },
  {
   "cell_type": "code",
   "execution_count": 86,
   "id": "2f366e0f",
   "metadata": {},
   "outputs": [
    {
     "name": "stdout",
     "output_type": "stream",
     "text": [
      "The index = 0\n",
      "The char = M\n",
      "<><><><><><><><><><>\n",
      "The index = 1\n",
      "The char = a\n",
      "<><><><><><><><><><>\n",
      "The index = 2\n",
      "The char = c\n",
      "<><><><><><><><><><>\n",
      "The index = 3\n",
      "The char = h\n",
      "<><><><><><><><><><>\n",
      "The index = 4\n",
      "The char = i\n",
      "<><><><><><><><><><>\n",
      "The index = 5\n",
      "The char = n\n",
      "<><><><><><><><><><>\n",
      "The index = 6\n",
      "The char = e\n",
      "<><><><><><><><><><>\n",
      "The index = 7\n",
      "The char =  \n",
      "<><><><><><><><><><>\n",
      "The index = 8\n",
      "The char = L\n",
      "<><><><><><><><><><>\n",
      "The index = 9\n",
      "The char = e\n",
      "<><><><><><><><><><>\n",
      "The index = 10\n",
      "The char = a\n",
      "<><><><><><><><><><>\n",
      "The index = 11\n",
      "The char = r\n",
      "<><><><><><><><><><>\n",
      "The index = 12\n",
      "The char = n\n",
      "<><><><><><><><><><>\n",
      "The index = 13\n",
      "The char = i\n",
      "<><><><><><><><><><>\n",
      "The index = 14\n",
      "The char = n\n",
      "<><><><><><><><><><>\n",
      "The index = 15\n",
      "The char = g\n",
      "<><><><><><><><><><>\n"
     ]
    }
   ],
   "source": [
    "abc = \"Machine Learning\"\n",
    "\n",
    "index_number = 0\n",
    "for char in abc:\n",
    "    print(f\"The index = {index_number}\")\n",
    "    print(f\"The char = {char}\")\n",
    "    print(\"<>\"*10)\n",
    "    index_number = index_number + 1"
   ]
  },
  {
   "cell_type": "markdown",
   "id": "5a3cf944",
   "metadata": {},
   "source": [
    "# enumerate ()"
   ]
  },
  {
   "cell_type": "code",
   "execution_count": 87,
   "id": "fe93c446",
   "metadata": {},
   "outputs": [
    {
     "data": {
      "text/plain": [
       "'Python'"
      ]
     },
     "execution_count": 87,
     "metadata": {},
     "output_type": "execute_result"
    }
   ],
   "source": [
    "str1"
   ]
  },
  {
   "cell_type": "raw",
   "id": "2366f9bd",
   "metadata": {},
   "source": [
    " P  y  t  h  o  n\n",
    " 0  1  2  3  4  5\n",
    "-6 -5 -4 -3 -2 -1"
   ]
  },
  {
   "cell_type": "code",
   "execution_count": 90,
   "id": "05a7f546",
   "metadata": {},
   "outputs": [
    {
     "name": "stdout",
     "output_type": "stream",
     "text": [
      "The index number = 0 and The char = P\n",
      "The index number = 1 and The char = y\n",
      "The index number = 2 and The char = t\n",
      "The index number = 3 and The char = h\n",
      "The index number = 4 and The char = o\n",
      "The index number = 5 and The char = n\n"
     ]
    }
   ],
   "source": [
    "for index, char in enumerate(str1):\n",
    "    print(f\"The index number = {index} and The char = {char}\")"
   ]
  },
  {
   "cell_type": "code",
   "execution_count": 2,
   "id": "7b60e373",
   "metadata": {},
   "outputs": [],
   "source": [
    "abc='Machine Learning'"
   ]
  },
  {
   "cell_type": "code",
   "execution_count": 3,
   "id": "d5a34881",
   "metadata": {
    "scrolled": true
   },
   "outputs": [
    {
     "name": "stdout",
     "output_type": "stream",
     "text": [
      "The index = 2 and The char = M\n",
      "The index = 3 and The char = a\n",
      "The index = 4 and The char = c\n",
      "The index = 5 and The char = h\n",
      "The index = 6 and The char = i\n",
      "The index = 7 and The char = n\n",
      "The index = 8 and The char = e\n",
      "The index = 9 and The char =  \n",
      "The index = 10 and The char = L\n",
      "The index = 11 and The char = e\n",
      "The index = 12 and The char = a\n",
      "The index = 13 and The char = r\n",
      "The index = 14 and The char = n\n",
      "The index = 15 and The char = i\n",
      "The index = 16 and The char = n\n",
      "The index = 17 and The char = g\n"
     ]
    }
   ],
   "source": [
    "for index, char in enumerate(abc,2):\n",
    "    print(f\"The index = {index} and The char = {char}\")"
   ]
  },
  {
   "cell_type": "code",
   "execution_count": 97,
   "id": "6019c335",
   "metadata": {},
   "outputs": [
    {
     "name": "stdout",
     "output_type": "stream",
     "text": [
      "p\n",
      "y\n",
      "t\n",
      "h\n",
      "o\n",
      "n\n"
     ]
    }
   ],
   "source": [
    "for char in \"python\":\n",
    "    print(char)"
   ]
  },
  {
   "cell_type": "raw",
   "id": "9477bf24",
   "metadata": {},
   "source": [
    "for char in \"Python\":\n",
    "    print(char)         \n",
    "    \n",
    "1 iteration grab 0 indexed_value = P\n",
    "2 iteration grab 1 indexed_value = y\n",
    "3 iteration grab 2 indexed_value = t\n",
    "4 iteration grab 3 indexed_value = h\n",
    "5 iteration grab 4 indexed_value = o\n",
    "6 iteration grab 5 indexed_value = n"
   ]
  }
 ],
 "metadata": {
  "kernelspec": {
   "display_name": "Python 3 (ipykernel)",
   "language": "python",
   "name": "python3"
  },
  "language_info": {
   "codemirror_mode": {
    "name": "ipython",
    "version": 3
   },
   "file_extension": ".py",
   "mimetype": "text/x-python",
   "name": "python",
   "nbconvert_exporter": "python",
   "pygments_lexer": "ipython3",
   "version": "3.12.4"
  }
 },
 "nbformat": 4,
 "nbformat_minor": 5
}
