{
 "cells": [
  {
   "cell_type": "markdown",
   "id": "7f366cd7",
   "metadata": {},
   "source": [
    "# While Loop"
   ]
  },
  {
   "cell_type": "raw",
   "id": "3702ea91",
   "metadata": {},
   "source": [
    "while codition:\n",
    "    statement 1\n",
    "    statement 2\n",
    "    statement 3\n",
    "        .\n",
    "    statement n"
   ]
  },
  {
   "cell_type": "code",
   "execution_count": 1,
   "id": "c4d3a107",
   "metadata": {},
   "outputs": [
    {
     "name": "stdout",
     "output_type": "stream",
     "text": [
      "0\n",
      "1\n",
      "2\n",
      "3\n",
      "4\n"
     ]
    }
   ],
   "source": [
    "for i in range(5):\n",
    "    print(i)"
   ]
  },
  {
   "cell_type": "code",
   "execution_count": 3,
   "id": "30cd6509",
   "metadata": {},
   "outputs": [
    {
     "name": "stdout",
     "output_type": "stream",
     "text": [
      "0\n",
      "1\n",
      "2\n",
      "3\n",
      "4\n"
     ]
    }
   ],
   "source": [
    "i = 0\n",
    "while i < 5:\n",
    "    print(i)\n",
    "    i+=1"
   ]
  },
  {
   "cell_type": "code",
   "execution_count": 5,
   "id": "8ed03e8e",
   "metadata": {},
   "outputs": [
    {
     "name": "stdout",
     "output_type": "stream",
     "text": [
      "This is while loop 0\n",
      "This is while loop 1\n",
      "This is while loop 2\n",
      "This is while loop 3\n",
      "This is while loop 4\n"
     ]
    }
   ],
   "source": [
    "i = 0\n",
    "while i < 5:\n",
    "    print(\"This is while loop\",i)\n",
    "    i+=1"
   ]
  },
  {
   "cell_type": "code",
   "execution_count": 6,
   "id": "fbca8150",
   "metadata": {},
   "outputs": [
    {
     "name": "stdout",
     "output_type": "stream",
     "text": [
      "This is while loop 0\n",
      "This is while loop 2\n",
      "This is while loop 4\n"
     ]
    }
   ],
   "source": [
    "i = 0\n",
    "while i < 5:\n",
    "    print(\"This is while loop\",i)\n",
    "    i+=2"
   ]
  },
  {
   "cell_type": "code",
   "execution_count": 12,
   "id": "3b69ee7c",
   "metadata": {},
   "outputs": [
    {
     "name": "stdout",
     "output_type": "stream",
     "text": [
      "This is while loop 1\n",
      "This is while loop 3\n"
     ]
    }
   ],
   "source": [
    "i = 1\n",
    "while i < 5:\n",
    "    print(\"This is while loop\",i)\n",
    "    i+=2"
   ]
  },
  {
   "cell_type": "code",
   "execution_count": 16,
   "id": "7d41f24d",
   "metadata": {},
   "outputs": [
    {
     "name": "stdout",
     "output_type": "stream",
     "text": [
      "Mutiplication of first 5 numbers is 120\n"
     ]
    }
   ],
   "source": [
    "n = 5\n",
    "multiplication = 1\n",
    "for i in range(1,n+1):\n",
    "    multiplication *= i\n",
    "print(f\"Mutiplication of first {n} numbers is {multiplication}\")"
   ]
  },
  {
   "cell_type": "code",
   "execution_count": 24,
   "id": "3554991e",
   "metadata": {},
   "outputs": [
    {
     "name": "stdout",
     "output_type": "stream",
     "text": [
      "Addition of first 10 numbers is 55\n"
     ]
    }
   ],
   "source": [
    "n = 10\n",
    "addition = 0\n",
    "for i in range(n+1):\n",
    "    addition += i\n",
    "print(f\"Addition of first {n} numbers is {addition}\")"
   ]
  },
  {
   "cell_type": "code",
   "execution_count": 30,
   "id": "792740ac",
   "metadata": {},
   "outputs": [
    {
     "name": "stdout",
     "output_type": "stream",
     "text": [
      "Addition at each iteration 0\n",
      "Addition at each iteration 1\n",
      "Addition at each iteration 3\n",
      "Addition at each iteration 6\n",
      "Addition at each iteration 10\n",
      "Addition at each iteration 15\n",
      "Addition at each iteration 21\n",
      "Addition at each iteration 28\n",
      "Addition at each iteration 36\n",
      "Addition at each iteration 45\n",
      "Addition at each iteration 55\n",
      "\n",
      "The Addition of first 10 numbers is 55\n"
     ]
    }
   ],
   "source": [
    "i = 0\n",
    "n = 10\n",
    "addition = 0\n",
    "while i <= n:\n",
    "    addition += i\n",
    "    i += 1\n",
    "    print(f\"Addition at each iteration {addition}\")\n",
    "print()\n",
    "print(f\"The Addition of first {n} numbers is {addition}\")"
   ]
  },
  {
   "cell_type": "code",
   "execution_count": 37,
   "id": "9f34959e",
   "metadata": {},
   "outputs": [
    {
     "name": "stdout",
     "output_type": "stream",
     "text": [
      "Multiplication at each iteration 1 * 2\n",
      "Multiplication at each iteration 2 * 3\n",
      "Multiplication at each iteration 6 * 4\n",
      "Multiplication at each iteration 24 * 5\n",
      "Multiplication at each iteration 120 * 6\n",
      "----------------------------------------\n",
      "Multiplication of first 5 numbers is 120\n"
     ]
    }
   ],
   "source": [
    "i = 1\n",
    "n = 5\n",
    "multiplication = 1\n",
    "while i <= n:\n",
    "    multiplication *= i\n",
    "    i += 1\n",
    "    print(f\"Multiplication at each iteration {multiplication}\")\n",
    "print('-'*40)\n",
    "print(f\"Multiplication of first {n} numbers is {multiplication}\")"
   ]
  },
  {
   "cell_type": "code",
   "execution_count": 38,
   "id": "985153b2",
   "metadata": {},
   "outputs": [
    {
     "name": "stdout",
     "output_type": "stream",
     "text": [
      "Enter Number =10\n",
      "Multiplication = 1\n",
      "Multiplication = 2\n",
      "Multiplication = 6\n",
      "Multiplication = 24\n",
      "Multiplication = 120\n",
      "Multiplication = 720\n",
      "Multiplication = 5040\n",
      "Multiplication = 40320\n",
      "Multiplication = 362880\n",
      "Multiplication = 3628800\n",
      "****************************************\n",
      "Multiplication of first 10 numbers is 3628800\n"
     ]
    }
   ],
   "source": [
    "i = 1\n",
    "n = int(input(\"Enter Number =\"))\n",
    "multiplication = 1\n",
    "while i <= n:\n",
    "    multiplication *= i\n",
    "    i += 1\n",
    "    print(f\"Multiplication = {multiplication}\")\n",
    "print('*'*40)\n",
    "print(f\"Multiplication of first {n} numbers is {multiplication}\")"
   ]
  },
  {
   "cell_type": "code",
   "execution_count": 45,
   "id": "a00e8995",
   "metadata": {},
   "outputs": [
    {
     "name": "stdout",
     "output_type": "stream",
     "text": [
      "11\n",
      "22\n",
      "33\n",
      "44\n",
      "55\n"
     ]
    }
   ],
   "source": [
    "li = [11,22,33,44,55]\n",
    "i = 0\n",
    "while i < len(li):\n",
    "    print(li[i])\n",
    "    i += 1"
   ]
  },
  {
   "cell_type": "code",
   "execution_count": 48,
   "id": "b94d58b6",
   "metadata": {},
   "outputs": [
    {
     "name": "stdout",
     "output_type": "stream",
     "text": [
      "At index 0 value is 11\n",
      "At index 1 value is 22\n",
      "At index 2 value is 33\n",
      "At index 3 value is 44\n",
      "At index 4 value is 55\n"
     ]
    }
   ],
   "source": [
    "li = [11,22,33,44,55]\n",
    "i = 0\n",
    "while i < len(li):\n",
    "    print(f\"At index {i} value is {li[i]}\")\n",
    "    i += 1"
   ]
  },
  {
   "cell_type": "code",
   "execution_count": 50,
   "id": "366f046e",
   "metadata": {},
   "outputs": [
    {
     "name": "stdout",
     "output_type": "stream",
     "text": [
      "At index 0 character is P\n",
      "At index 1 character is y\n",
      "At index 2 character is t\n",
      "At index 3 character is h\n",
      "At index 4 character is o\n",
      "At index 5 character is n\n"
     ]
    }
   ],
   "source": [
    "str1 = \"Python\"\n",
    "i = 0\n",
    "while i < len(str1):\n",
    "    print(f\"At index {i} character is {str1[i]}\")\n",
    "    i+=1"
   ]
  },
  {
   "cell_type": "markdown",
   "id": "078351be",
   "metadata": {},
   "source": [
    "## Loop control statement\n",
    "- 1.break\n",
    "- 2.continue"
   ]
  },
  {
   "cell_type": "markdown",
   "id": "478c5758",
   "metadata": {},
   "source": [
    "## 1. break"
   ]
  },
  {
   "cell_type": "code",
   "execution_count": 54,
   "id": "267dbc5d",
   "metadata": {},
   "outputs": [
    {
     "name": "stdout",
     "output_type": "stream",
     "text": [
      "0\n",
      "1\n",
      "2\n"
     ]
    }
   ],
   "source": [
    "for i in range(5):\n",
    "    if i == 3:\n",
    "        break\n",
    "    print(i)"
   ]
  },
  {
   "cell_type": "code",
   "execution_count": 56,
   "id": "664b3064",
   "metadata": {},
   "outputs": [
    {
     "name": "stdout",
     "output_type": "stream",
     "text": [
      "0\n",
      "1\n",
      "2\n",
      "Number Found\n"
     ]
    }
   ],
   "source": [
    "i = 0\n",
    "while i <=5:\n",
    "    if i ==3:\n",
    "        print(\"Number Found\")\n",
    "        break\n",
    "    print(i)\n",
    "    i+=1"
   ]
  },
  {
   "cell_type": "code",
   "execution_count": 60,
   "id": "95d4207a",
   "metadata": {},
   "outputs": [
    {
     "name": "stdout",
     "output_type": "stream",
     "text": [
      "Welcome to PVR !\n",
      "How many tickets you want 10\n",
      "Congrtulation! Your ticket Number is 1,is confirmed...\n",
      "Congrtulation! Your ticket Number is 2,is confirmed...\n",
      "Congrtulation! Your ticket Number is 3,is confirmed...\n",
      "Congrtulation! Your ticket Number is 4,is confirmed...\n",
      "Congrtulation! Your ticket Number is 5,is confirmed...\n",
      "Congrtulation! Your ticket Number is 6,is confirmed...\n",
      "Congrtulation! Your ticket Number is 7,is confirmed...\n",
      "Congrtulation! Your ticket Number is 8,is confirmed...\n",
      "Congrtulation! Your ticket Number is 9,is confirmed...\n",
      "Congrtulation! Your ticket Number is 10,is confirmed...\n",
      "Enjoy Your Movie\n"
     ]
    }
   ],
   "source": [
    "print(\"Welcome to PVR !\")\n",
    "order_qty = int(input(\"How many tickets you want \"))\n",
    "i = 1\n",
    "while i <= order_qty:\n",
    "    print(f\"Congrtulation! Your ticket Number is {i},is confirmed...\")\n",
    "    i+=1\n",
    "print(\"Enjoy Your Movie\")"
   ]
  },
  {
   "cell_type": "code",
   "execution_count": 63,
   "id": "26fb3da4",
   "metadata": {},
   "outputs": [
    {
     "name": "stdout",
     "output_type": "stream",
     "text": [
      "Welcome to PVR !\n",
      "How many tickets you want 10\n",
      "Congrtulation! Your ticket Number is 1,is confirmed...\n",
      "Congrtulation! Your ticket Number is 2,is confirmed...\n",
      "Congrtulation! Your ticket Number is 3,is confirmed...\n",
      "Congrtulation! Your ticket Number is 4,is confirmed...\n",
      "Congrtulation! Your ticket Number is 5,is confirmed...\n",
      "Sorry! We are out of stock\n",
      "Enjoy Your Movie\n"
     ]
    }
   ],
   "source": [
    "print(\"Welcome to PVR !\")\n",
    "order_qty = int(input(\"How many tickets you want \"))\n",
    "stock = 5\n",
    "i = 1\n",
    "while i <= order_qty:\n",
    "    print(f\"Congrtulation! Your ticket Number is {i},is confirmed...\")\n",
    "    if i == stock:\n",
    "        print(\"Sorry! We are out of stock\")\n",
    "        break\n",
    "    i+=1\n",
    "print(\"Enjoy Your Movie\")"
   ]
  },
  {
   "cell_type": "code",
   "execution_count": 66,
   "id": "2fb0d3cd",
   "metadata": {},
   "outputs": [
    {
     "name": "stdout",
     "output_type": "stream",
     "text": [
      "🤣🤣🤣🤣🤣\n",
      "🤣🤣🤣🤣🤣\n",
      "🤣🤣🤣🤣🤣\n",
      "🤣🤣🤣🤣🤣\n",
      "🤣🤣🤣🤣🤣\n"
     ]
    }
   ],
   "source": [
    "for i in range(5):\n",
    "    print(\"🤣🤣🤣🤣🤣\")"
   ]
  },
  {
   "cell_type": "code",
   "execution_count": 78,
   "id": "808ab034",
   "metadata": {},
   "outputs": [
    {
     "name": "stdout",
     "output_type": "stream",
     "text": [
      "* \n",
      "* * \n",
      "* * * \n",
      "* * * * \n",
      "* * * * * \n",
      "* * * * \n",
      "* * * \n",
      "* * \n",
      "* \n"
     ]
    }
   ],
   "source": [
    "n = 5\n",
    "for i in range(1,n+1):\n",
    "    print(\"\"*(n-i) + \"* \"*i)\n",
    "\n",
    "for i in range(n-1,0,-1):\n",
    "    print(\"\"*(n-i) + \"* \"*i)"
   ]
  },
  {
   "cell_type": "code",
   "execution_count": 83,
   "id": "0016abd6",
   "metadata": {},
   "outputs": [
    {
     "name": "stdout",
     "output_type": "stream",
     "text": [
      "* \n",
      "* * \n",
      "* * * \n",
      "* * * * \n",
      "* * * * * \n",
      "* * * * * \n",
      "* * * * \n",
      "* * * \n",
      "* * \n",
      "* \n"
     ]
    }
   ],
   "source": [
    "n = 5\n",
    "i = 1\n",
    "while i <= n:\n",
    "    print(\"\"*(n-i) + \"* \"*i)\n",
    "    i+=1\n",
    "    \n",
    "i = 5\n",
    "while i >= 1:\n",
    "    print(\"\"*(n-i) + \"* \"*i)\n",
    "    i-=1"
   ]
  },
  {
   "cell_type": "markdown",
   "id": "f06be54d",
   "metadata": {},
   "source": [
    "## 2. continue"
   ]
  },
  {
   "cell_type": "code",
   "execution_count": 89,
   "id": "1117fbd3",
   "metadata": {},
   "outputs": [
    {
     "name": "stdout",
     "output_type": "stream",
     "text": [
      "i---> 5\n",
      "i---> 6\n",
      "Number found\n",
      "i---> 7\n",
      "i---> 8\n",
      "i---> 9\n",
      "i---> 10\n"
     ]
    }
   ],
   "source": [
    "i = 5\n",
    "while i <= 10:\n",
    "    print(f\"i---> {i}\")\n",
    "    i+=1\n",
    "    if i == 7:\n",
    "        print(\"Number found\")\n",
    "        continue"
   ]
  },
  {
   "cell_type": "code",
   "execution_count": 91,
   "id": "95267633",
   "metadata": {},
   "outputs": [
    {
     "name": "stdout",
     "output_type": "stream",
     "text": [
      "i---> 5\n",
      "i---> 6\n",
      "i---> 7\n",
      "i---> 8\n",
      "i---> 9\n",
      "i---> 10\n"
     ]
    }
   ],
   "source": [
    "i = 5\n",
    "while i <= 10:\n",
    "    print(f\"i---> {i}\")\n",
    "    i+=1\n",
    "    if i == 7:\n",
    "        continue\n",
    "        print(\"Number found\")\n",
    "        "
   ]
  },
  {
   "cell_type": "code",
   "execution_count": 96,
   "id": "37b515a3",
   "metadata": {},
   "outputs": [
    {
     "name": "stdout",
     "output_type": "stream",
     "text": [
      "Factorail for 5 is 120\n"
     ]
    }
   ],
   "source": [
    "fact = 1\n",
    "n = 5\n",
    "for i in range(1,n+1):\n",
    "    fact *= i\n",
    "print(f\"Factorail for {n} is {fact}\")"
   ]
  },
  {
   "cell_type": "code",
   "execution_count": 99,
   "id": "b0f60283",
   "metadata": {},
   "outputs": [
    {
     "name": "stdout",
     "output_type": "stream",
     "text": [
      "Factorial of 5 == 120\n"
     ]
    }
   ],
   "source": [
    "fact = 1\n",
    "n = i = 5\n",
    "while i >= 1:\n",
    "    fact *= i\n",
    "    i-=1\n",
    "print(f\"Factorial of {n} == {fact}\")"
   ]
  },
  {
   "cell_type": "raw",
   "id": "8538af42",
   "metadata": {},
   "source": [
    "n = 5\n",
    "5*1 = 5\n",
    "5*2 = 10\n",
    "5*3 = 15"
   ]
  },
  {
   "cell_type": "code",
   "execution_count": 102,
   "id": "ebe82e63",
   "metadata": {},
   "outputs": [
    {
     "name": "stdout",
     "output_type": "stream",
     "text": [
      "5*1 = 5\n",
      "5*2 = 10\n",
      "5*3 = 15\n",
      "5*4 = 20\n",
      "5*5 = 25\n",
      "5*6 = 30\n",
      "5*7 = 35\n",
      "5*8 = 40\n",
      "5*9 = 45\n",
      "5*10 = 50\n"
     ]
    }
   ],
   "source": [
    "n = 5\n",
    "i = 1\n",
    "while i <= 10:\n",
    "    print(f\"{n}*{i} = {n * i}\")\n",
    "    i +=1"
   ]
  },
  {
   "cell_type": "code",
   "execution_count": 104,
   "id": "5fb9d4f2",
   "metadata": {},
   "outputs": [
    {
     "name": "stdout",
     "output_type": "stream",
     "text": [
      "9 * 1 = 9\n",
      "9 * 2 = 18\n",
      "9 * 3 = 27\n",
      "9 * 4 = 36\n",
      "9 * 5 = 45\n",
      "9 * 6 = 54\n",
      "9 * 7 = 63\n",
      "9 * 8 = 72\n",
      "9 * 9 = 81\n",
      "9 * 10 = 90\n"
     ]
    }
   ],
   "source": [
    "n = 9\n",
    "i = 1\n",
    "while i <= 10:\n",
    "    print(f\"{n} * {i} = {n *i}\")\n",
    "    i +=1"
   ]
  },
  {
   "cell_type": "markdown",
   "id": "1aa1a641",
   "metadata": {},
   "source": [
    "## While else"
   ]
  },
  {
   "cell_type": "code",
   "execution_count": 105,
   "id": "3a53da20",
   "metadata": {},
   "outputs": [
    {
     "name": "stdout",
     "output_type": "stream",
     "text": [
      "0\n",
      "1\n",
      "2\n",
      "3\n",
      "4\n",
      "Loop completed\n",
      "Outside the loop\n"
     ]
    }
   ],
   "source": [
    "for i in range(5):\n",
    "    print(i)\n",
    "else:\n",
    "    print(\"Loop completed\")\n",
    "\n",
    "    print(\"Outside the loop\")"
   ]
  },
  {
   "cell_type": "code",
   "execution_count": 108,
   "id": "bc0e5efc",
   "metadata": {},
   "outputs": [
    {
     "name": "stdout",
     "output_type": "stream",
     "text": [
      "0\n",
      "1\n",
      "2\n",
      "3\n",
      "4\n",
      "Loop completed\n",
      "Outside the loop\n"
     ]
    }
   ],
   "source": [
    "i = 0\n",
    "while i < 5:\n",
    "    print(i)\n",
    "    i+=1\n",
    "else:\n",
    "    print(\"Loop completed\")\n",
    "    \n",
    "print(\"Outside the loop\")"
   ]
  },
  {
   "cell_type": "code",
   "execution_count": 112,
   "id": "a7c8aae0",
   "metadata": {},
   "outputs": [
    {
     "name": "stdout",
     "output_type": "stream",
     "text": [
      "0\n",
      "1\n",
      "2\n",
      "Outside the loop\n"
     ]
    }
   ],
   "source": [
    "for i in range(5):\n",
    "    if i == 3:\n",
    "        break\n",
    "    print(i)\n",
    "else:\n",
    "    print(\"Loop completed\")\n",
    "    \n",
    "print(\"Outside the loop\")"
   ]
  },
  {
   "cell_type": "code",
   "execution_count": 115,
   "id": "ae4fd4f3",
   "metadata": {},
   "outputs": [
    {
     "name": "stdout",
     "output_type": "stream",
     "text": [
      "0\n",
      "1\n",
      "2\n",
      "Outside the loop\n"
     ]
    }
   ],
   "source": [
    "i = 0\n",
    "while i < 5:\n",
    "    if i ==3:\n",
    "        break\n",
    "    print(i)\n",
    "    i+=1\n",
    "else:\n",
    "    print(\"Loop completed\")\n",
    "print(\"Outside the loop\")"
   ]
  },
  {
   "cell_type": "code",
   "execution_count": 116,
   "id": "6f3e1dae",
   "metadata": {},
   "outputs": [
    {
     "name": "stdout",
     "output_type": "stream",
     "text": [
      "Enter the age 20\n",
      "Good to go for Voting\n",
      "Enter the age 22\n",
      "Good to go for Voting\n",
      "Enter the age 25\n",
      "Good to go for Voting\n",
      "Enter the age 26\n",
      "Good to go for Voting\n",
      "Enter the age 28\n",
      "Good to go for Voting\n",
      "Enter the age 29\n",
      "Good to go for Voting\n",
      "Enter the age 18\n",
      "Good to go for Voting\n",
      "Enter the age 15\n"
     ]
    }
   ],
   "source": [
    "while True:\n",
    "    age = int(input(\"Enter the age \"))\n",
    "    if age < 18:\n",
    "        break\n",
    "    else:\n",
    "        print(\"Good to go for Voting\")"
   ]
  },
  {
   "cell_type": "code",
   "execution_count": 117,
   "id": "661bbc90",
   "metadata": {},
   "outputs": [
    {
     "name": "stdout",
     "output_type": "stream",
     "text": [
      "Enter name Mohit\n",
      "Mohit\n",
      "Enter name Python\n",
      "Python\n",
      "Enter name Machine\n",
      "Machine\n",
      "Enter name Stop\n"
     ]
    }
   ],
   "source": [
    "while True:\n",
    "    name = input(\"Enter name \")\n",
    "    if name == \"Stop\":\n",
    "        break\n",
    "    else:\n",
    "        print(name)"
   ]
  }
 ],
 "metadata": {
  "kernelspec": {
   "display_name": "Python 3 (ipykernel)",
   "language": "python",
   "name": "python3"
  },
  "language_info": {
   "codemirror_mode": {
    "name": "ipython",
    "version": 3
   },
   "file_extension": ".py",
   "mimetype": "text/x-python",
   "name": "python",
   "nbconvert_exporter": "python",
   "pygments_lexer": "ipython3",
   "version": "3.12.4"
  }
 },
 "nbformat": 4,
 "nbformat_minor": 5
}
