{
 "cells": [
  {
   "cell_type": "markdown",
   "id": "1d0c1c9a",
   "metadata": {},
   "source": [
    "# Loop in python\n",
    "- we have 2 types of loop in python\n",
    "- 1.For loop\n",
    "- 2.While loop"
   ]
  },
  {
   "cell_type": "markdown",
   "id": "75b078b5",
   "metadata": {},
   "source": [
    "## For loop\n",
    "- for loop works like an iterator(It is an object used to traverse on iterables)\n",
    "- Sequence-->String,list,tuple,set,dict,arrays,range,dataframes\n",
    "- Syntax:-"
   ]
  },
  {
   "cell_type": "raw",
   "id": "8412dd41",
   "metadata": {},
   "source": [
    "for variable_name in sequence:\n",
    "    statement 1\n",
    "    statement 2\n",
    "    statement 3\n",
    "        .\n",
    "        .\n",
    "    statement n-1\n",
    "    statement n\n",
    "    \n",
    " for index,item in enumerate(sequence):\n",
    "    statement 1\n",
    "    statement 2\n",
    "    statement 3\n",
    "        .\n",
    "        .\n",
    "    statement n-1\n",
    "    statement n"
   ]
  },
  {
   "cell_type": "code",
   "execution_count": 2,
   "id": "dd200cf9",
   "metadata": {},
   "outputs": [
    {
     "name": "stdout",
     "output_type": "stream",
     "text": [
      "Python and Data Science\n",
      "Python and Data Science\n",
      "Python and Data Science\n",
      "Python and Data Science\n",
      "Python and Data Science\n"
     ]
    }
   ],
   "source": [
    "# Want to print the statement for 5 times\n",
    "print(\"Python and Data Science\")\n",
    "print(\"Python and Data Science\")\n",
    "print(\"Python and Data Science\")\n",
    "print(\"Python and Data Science\")\n",
    "print(\"Python and Data Science\")"
   ]
  },
  {
   "cell_type": "code",
   "execution_count": 3,
   "id": "261b3c72",
   "metadata": {},
   "outputs": [
    {
     "name": "stdout",
     "output_type": "stream",
     "text": [
      "Python and Data Science\n",
      "Python and Data Science\n",
      "Python and Data Science\n",
      "Python and Data Science\n",
      "Python and Data Science\n",
      "Python and Data Science\n",
      "Python and Data Science\n",
      "Python and Data Science\n",
      "Python and Data Science\n",
      "Python and Data Science\n"
     ]
    }
   ],
   "source": [
    "# Want to print the statement for 10 times\n",
    "print(\"Python and Data Science\")\n",
    "print(\"Python and Data Science\")\n",
    "print(\"Python and Data Science\")\n",
    "print(\"Python and Data Science\")\n",
    "print(\"Python and Data Science\")\n",
    "print(\"Python and Data Science\")\n",
    "print(\"Python and Data Science\")\n",
    "print(\"Python and Data Science\")\n",
    "print(\"Python and Data Science\")\n",
    "print(\"Python and Data Science\")"
   ]
  },
  {
   "cell_type": "code",
   "execution_count": 6,
   "id": "a399646b",
   "metadata": {},
   "outputs": [
    {
     "name": "stdout",
     "output_type": "stream",
     "text": [
      "0\n",
      "1\n",
      "2\n",
      "3\n",
      "4\n"
     ]
    }
   ],
   "source": [
    "for i in range(5):\n",
    "    print(i)"
   ]
  },
  {
   "cell_type": "code",
   "execution_count": 7,
   "id": "4c55edd2",
   "metadata": {},
   "outputs": [
    {
     "name": "stdout",
     "output_type": "stream",
     "text": [
      "0\n",
      "1\n",
      "2\n",
      "3\n",
      "4\n"
     ]
    }
   ],
   "source": [
    "print(0)\n",
    "print(1)\n",
    "print(2)\n",
    "print(3)\n",
    "print(4)"
   ]
  },
  {
   "cell_type": "code",
   "execution_count": 8,
   "id": "8d2b53bc",
   "metadata": {},
   "outputs": [
    {
     "name": "stdout",
     "output_type": "stream",
     "text": [
      "Python and Data Science\n",
      "Python and Data Science\n",
      "Python and Data Science\n",
      "Python and Data Science\n",
      "Python and Data Science\n"
     ]
    }
   ],
   "source": [
    "for i in range(5):\n",
    "    print(\"Python and Data Science\")"
   ]
  },
  {
   "cell_type": "code",
   "execution_count": 9,
   "id": "e9896619",
   "metadata": {
    "scrolled": true
   },
   "outputs": [
    {
     "name": "stdout",
     "output_type": "stream",
     "text": [
      "Python and Data Science\n",
      "Python and Data Science\n",
      "Python and Data Science\n",
      "Python and Data Science\n",
      "Python and Data Science\n",
      "Python and Data Science\n",
      "Python and Data Science\n",
      "Python and Data Science\n",
      "Python and Data Science\n",
      "Python and Data Science\n"
     ]
    }
   ],
   "source": [
    "for i in range(10):\n",
    "    print(\"Python and Data Science\")"
   ]
  },
  {
   "cell_type": "markdown",
   "id": "89f957da",
   "metadata": {},
   "source": [
    "## For loop on string"
   ]
  },
  {
   "cell_type": "code",
   "execution_count": 10,
   "id": "82cb71ea",
   "metadata": {},
   "outputs": [
    {
     "name": "stdout",
     "output_type": "stream",
     "text": [
      "D\n",
      "a\n",
      "t\n",
      "a\n",
      " \n",
      "S\n",
      "c\n",
      "i\n",
      "e\n",
      "n\n",
      "c\n",
      "e\n"
     ]
    }
   ],
   "source": [
    "str1 = \"Data Science\"\n",
    "for char in str1:\n",
    "    print(char)"
   ]
  },
  {
   "cell_type": "code",
   "execution_count": 13,
   "id": "8f4e5e3d",
   "metadata": {
    "scrolled": true
   },
   "outputs": [
    {
     "name": "stdout",
     "output_type": "stream",
     "text": [
      "0\n",
      "1\n",
      "2\n",
      "3\n",
      "4\n",
      "5\n",
      "6\n",
      "7\n",
      "8\n",
      "9\n",
      "10\n",
      "11\n"
     ]
    }
   ],
   "source": [
    "str1 = \"Data Science\"\n",
    "for char in range(len(str1)):\n",
    "    print(char)"
   ]
  },
  {
   "cell_type": "code",
   "execution_count": 16,
   "id": "225e1724",
   "metadata": {
    "scrolled": true
   },
   "outputs": [
    {
     "name": "stdout",
     "output_type": "stream",
     "text": [
      "D\n",
      "a\n",
      "t\n",
      "a\n",
      " \n",
      "S\n",
      "c\n",
      "i\n",
      "e\n",
      "n\n",
      "c\n",
      "e\n"
     ]
    }
   ],
   "source": [
    "str1 = \"Data Science\"\n",
    "for char in range(len(str1)):\n",
    "    print(str1[char])"
   ]
  },
  {
   "cell_type": "code",
   "execution_count": 2,
   "id": "514a8f4c",
   "metadata": {},
   "outputs": [
    {
     "name": "stdout",
     "output_type": "stream",
     "text": [
      "5 P\n",
      "6 y\n",
      "7 t\n",
      "8 h\n",
      "9 o\n",
      "10 n\n"
     ]
    }
   ],
   "source": [
    "string = \"Python\"\n",
    "for index,item in enumerate(string,5):\n",
    "    print(index,item)"
   ]
  },
  {
   "cell_type": "code",
   "execution_count": 19,
   "id": "2b027846",
   "metadata": {},
   "outputs": [
    {
     "name": "stdout",
     "output_type": "stream",
     "text": [
      "Index = 0 and Char = P\n",
      "Index = 1 and Char = y\n",
      "Index = 2 and Char = t\n",
      "Index = 3 and Char = h\n",
      "Index = 4 and Char = o\n",
      "Index = 5 and Char = n\n"
     ]
    }
   ],
   "source": [
    "string = \"Python\"\n",
    "for index,char in enumerate(string):\n",
    "    print(f\"Index = {index} and Char = {char}\")"
   ]
  },
  {
   "cell_type": "code",
   "execution_count": 20,
   "id": "87a9cb54",
   "metadata": {},
   "outputs": [
    {
     "data": {
      "text/plain": [
       "5"
      ]
     },
     "execution_count": 20,
     "metadata": {},
     "output_type": "execute_result"
    }
   ],
   "source": [
    "index"
   ]
  },
  {
   "cell_type": "code",
   "execution_count": 21,
   "id": "803184d4",
   "metadata": {},
   "outputs": [
    {
     "data": {
      "text/plain": [
       "'n'"
      ]
     },
     "execution_count": 21,
     "metadata": {},
     "output_type": "execute_result"
    }
   ],
   "source": [
    "char"
   ]
  },
  {
   "cell_type": "markdown",
   "id": "034733bb",
   "metadata": {},
   "source": [
    "## For loop on list"
   ]
  },
  {
   "cell_type": "code",
   "execution_count": 24,
   "id": "17d765bf",
   "metadata": {},
   "outputs": [
    {
     "name": "stdout",
     "output_type": "stream",
     "text": [
      "11\n",
      "22\n",
      "33\n",
      "44\n",
      "55\n"
     ]
    }
   ],
   "source": [
    "li = [11,22,33,44,55]\n",
    "for i in li:\n",
    "    print(i)"
   ]
  },
  {
   "cell_type": "code",
   "execution_count": 25,
   "id": "d8a13941",
   "metadata": {},
   "outputs": [
    {
     "name": "stdout",
     "output_type": "stream",
     "text": [
      "0\n",
      "1\n",
      "2\n",
      "3\n",
      "4\n"
     ]
    }
   ],
   "source": [
    "for item in range(len(li)):\n",
    "    print(item)"
   ]
  },
  {
   "cell_type": "code",
   "execution_count": 26,
   "id": "37672b61",
   "metadata": {},
   "outputs": [
    {
     "data": {
      "text/plain": [
       "11"
      ]
     },
     "execution_count": 26,
     "metadata": {},
     "output_type": "execute_result"
    }
   ],
   "source": [
    "li[0]"
   ]
  },
  {
   "cell_type": "code",
   "execution_count": 27,
   "id": "c35ec847",
   "metadata": {},
   "outputs": [
    {
     "name": "stdout",
     "output_type": "stream",
     "text": [
      "11\n",
      "22\n",
      "33\n",
      "44\n",
      "55\n"
     ]
    }
   ],
   "source": [
    "li = [11,22,33,44,55]\n",
    "for item in range(len(li)):\n",
    "    print(li[item])"
   ]
  },
  {
   "cell_type": "code",
   "execution_count": 28,
   "id": "a58acbe6",
   "metadata": {},
   "outputs": [
    {
     "name": "stdout",
     "output_type": "stream",
     "text": [
      "0 11\n",
      "1 22\n",
      "2 33\n",
      "3 44\n",
      "4 55\n"
     ]
    }
   ],
   "source": [
    "for index,item in enumerate(li):\n",
    "    print(index,item)"
   ]
  },
  {
   "cell_type": "code",
   "execution_count": 29,
   "id": "5ac7f237",
   "metadata": {},
   "outputs": [
    {
     "name": "stdout",
     "output_type": "stream",
     "text": [
      "0 11 11\n",
      "1 22 22\n",
      "2 33 33\n",
      "3 44 44\n",
      "4 55 55\n"
     ]
    }
   ],
   "source": [
    "for index,item in enumerate(li):\n",
    "    print(index,item,li[index])"
   ]
  },
  {
   "cell_type": "code",
   "execution_count": 31,
   "id": "6bfaf102",
   "metadata": {},
   "outputs": [
    {
     "name": "stdout",
     "output_type": "stream",
     "text": [
      "The item on index 0 is 11\n",
      "The item on index 1 is 22\n",
      "The item on index 2 is 33\n",
      "The item on index 3 is 44\n",
      "The item on index 4 is 55\n"
     ]
    }
   ],
   "source": [
    "for index,item in enumerate(li):\n",
    "    print(f\"The item on index {index} is {item}\")"
   ]
  },
  {
   "cell_type": "code",
   "execution_count": 32,
   "id": "ea94c6b8",
   "metadata": {},
   "outputs": [
    {
     "name": "stdout",
     "output_type": "stream",
     "text": [
      "1\n",
      "2\n",
      "3\n",
      "4\n",
      "5\n"
     ]
    }
   ],
   "source": [
    "li = [1,2,3,4,5,2.3,4.5,4.6,\"Python\",\"DS\",9.9,\"ML\"]\n",
    "for i in li:\n",
    "    if type(i) == int:\n",
    "        print(i)"
   ]
  },
  {
   "cell_type": "code",
   "execution_count": 33,
   "id": "207626a2",
   "metadata": {},
   "outputs": [
    {
     "name": "stdout",
     "output_type": "stream",
     "text": [
      "The value (1) is of int type\n",
      "The value (2) is of int type\n",
      "The value (3) is of int type\n",
      "The value (4) is of int type\n",
      "The value (5) is of int type\n"
     ]
    }
   ],
   "source": [
    "li = [1,2,3,4,5,2.3,4.5,4.6,\"Python\",\"DS\",9.9,\"ML\"]\n",
    "for i in li:\n",
    "    if type(i) == int:\n",
    "        print(f\"The value ({i}) is of int type\")"
   ]
  },
  {
   "cell_type": "code",
   "execution_count": 35,
   "id": "176fb214",
   "metadata": {},
   "outputs": [
    {
     "name": "stdout",
     "output_type": "stream",
     "text": [
      "The value (1) is of int type\n",
      "The value (2) is of int type\n",
      "The value (3) is of int type\n",
      "The value (4) is of int type\n",
      "The value (5) is of int type\n",
      "The value (2.3) is of float type\n",
      "The value (4.5) is of float type\n",
      "The value (4.6) is of float type\n",
      "The value (Python) is of string type\n",
      "The value (DS) is of string type\n",
      "The value (9.9) is of float type\n",
      "The value (ML) is of string type\n"
     ]
    }
   ],
   "source": [
    "li = [1,2,3,4,5,2.3,4.5,4.6,\"Python\",\"DS\",9.9,\"ML\"]\n",
    "for i in li:\n",
    "    if type(i) == int:\n",
    "        print(f\"The value ({i}) is of int type\")\n",
    "    elif type(i) == float:\n",
    "        print(f\"The value ({i}) is of float type\")\n",
    "    else:\n",
    "        print(f\"The value ({i}) is of string type\")"
   ]
  },
  {
   "cell_type": "code",
   "execution_count": 3,
   "id": "670667e1",
   "metadata": {},
   "outputs": [
    {
     "name": "stdout",
     "output_type": "stream",
     "text": [
      "Int list = [1, 2, 3, 4, 5]\n",
      "Float list = [2.3, 4.5, 4.6, 9.9]\n",
      "String list = ['Python', 'DS', 'ML']\n"
     ]
    }
   ],
   "source": [
    "li = [1,2,3,4,5,2.3,4.5,4.6,\"Python\",\"DS\",9.9,\"ML\"]\n",
    "int_li = []\n",
    "float_li = []\n",
    "string_li = []\n",
    "for i in li:\n",
    "    if type(i) == int:\n",
    "        int_li.append(i)\n",
    "    elif type(i) == float:\n",
    "        float_li.append(i)\n",
    "    else:\n",
    "        string_li.append(i)\n",
    "        \n",
    "print(f\"Int list = {int_li}\")\n",
    "print(f\"Float list = {float_li}\")\n",
    "print(f\"String list = {string_li}\")"
   ]
  },
  {
   "cell_type": "code",
   "execution_count": 5,
   "id": "8b6b7a10",
   "metadata": {},
   "outputs": [
    {
     "name": "stdout",
     "output_type": "stream",
     "text": [
      "Int list    = [1, 2, 3, 4, 5]\n",
      "Float list  = [2.3, 4.5, 4.6, 9.9]\n",
      "String list = ['python', 'ds', 'ml']\n"
     ]
    }
   ],
   "source": [
    "li = [1,2,3,4,5,2.3,4.5,4.6,\"Python\",\"DS\",9.9,\"ML\"]\n",
    "int_li = []\n",
    "float_li = []\n",
    "string_li = []\n",
    "for i in li:\n",
    "    if type(i) == int:\n",
    "        int_li.append(i)\n",
    "    elif type(i) == float:\n",
    "        float_li.append(i)\n",
    "    else:\n",
    "        string_li.append(i)\n",
    "        \n",
    "print(f\"Int list = {int_li}\")\n",
    "print(f\"Float list = {float_li}\")\n",
    "print(f\"String list = {string_li}\")"
   ]
  },
  {
   "cell_type": "code",
   "execution_count": 7,
   "id": "03a0840d",
   "metadata": {},
   "outputs": [
    {
     "name": "stdout",
     "output_type": "stream",
     "text": [
      "Int list = [1, 2, 3, 4, 5]\n",
      "Float list = [2.3, 4.5, 4.6, 9.9]\n",
      "String list = ['python', 'ds', 'ml']\n"
     ]
    }
   ],
   "source": [
    "li = [1,2,3,4,5,2.3,4.5,4.6,\"Python\",\"DS\",9.9,\"ML\"]\n",
    "int_li = []\n",
    "float_li = []\n",
    "string_li = []\n",
    "for i in li:\n",
    "    if type(i) == int:\n",
    "        int_li.append(i)\n",
    "    elif type(i) == float:\n",
    "        float_li.append(i)\n",
    "    else:\n",
    "        lower = i.lower()\n",
    "        string_li.append(lower)\n",
    "        \n",
    "print(f\"Int list = {int_li}\")\n",
    "print(f\"Float list = {float_li}\")\n",
    "print(f\"String list = {string_li}\")"
   ]
  },
  {
   "cell_type": "code",
   "execution_count": 8,
   "id": "c0e8c4e3",
   "metadata": {},
   "outputs": [
    {
     "name": "stdout",
     "output_type": "stream",
     "text": [
      "Int list = [1, 2, 3, 4, 5],5\n",
      "Float list = [2.3, 4.5, 4.6, 9.9]\n",
      "String list = ['Python', 'DS', 'ML']\n"
     ]
    }
   ],
   "source": [
    "li = [1,2,3,4,5,2.3,4.5,4.6,\"Python\",\"DS\",9.9,\"ML\"]\n",
    "int_li = []\n",
    "float_li = []\n",
    "string_li = []\n",
    "cnt = 0\n",
    "for i in li:\n",
    "    if type(i) == int:\n",
    "        int_li.append(i)\n",
    "        cnt+=1\n",
    "    elif type(i) == float:\n",
    "        float_li.append(i)\n",
    "    else:\n",
    "        string_li.append(i)\n",
    "        \n",
    "print(f\"Int list = {int_li},{cnt}\")\n",
    "print(f\"Float list = {float_li}\")\n",
    "print(f\"String list = {string_li}\")"
   ]
  },
  {
   "cell_type": "code",
   "execution_count": 9,
   "id": "d08798f1",
   "metadata": {},
   "outputs": [
    {
     "name": "stdout",
     "output_type": "stream",
     "text": [
      "Int list = [1, 2, 3, 4, 5]5\n",
      "Float list = [2.3, 4.5, 4.6, 9.9]\n",
      "String list = ['Python', 'DS', 'ML']\n"
     ]
    }
   ],
   "source": [
    "li = [1,2,3,4,5,2.3,4.5,4.6,\"Python\",\"DS\",9.9,\"ML\"]\n",
    "int_li = []\n",
    "float_li = []\n",
    "string_li = []\n",
    "for i in li:\n",
    "    if type(i) == int:\n",
    "        int_li.append(i)\n",
    "    elif type(i) == float:\n",
    "        float_li.append(i)\n",
    "    else:\n",
    "        string_li.append(i)\n",
    "        \n",
    "print(f\"Int list = {int_li}{len(int_li)}\")\n",
    "print(f\"Float list = {float_li}\")\n",
    "print(f\"String list = {string_li}\")"
   ]
  },
  {
   "cell_type": "markdown",
   "id": "7652447d",
   "metadata": {},
   "source": [
    "## Loop control statement\n",
    "- Used for controlling of loop\n",
    "1. break\n",
    "2. continue\n",
    "3. pass"
   ]
  },
  {
   "cell_type": "markdown",
   "id": "07da1160",
   "metadata": {},
   "source": [
    "### 1.break\n",
    "- used to exit the for loop"
   ]
  },
  {
   "cell_type": "code",
   "execution_count": 1,
   "id": "7638a4f9",
   "metadata": {},
   "outputs": [
    {
     "name": "stdout",
     "output_type": "stream",
     "text": [
      "0\n",
      "1\n",
      "2\n",
      "3\n",
      "4\n"
     ]
    }
   ],
   "source": [
    "for i in range(5):\n",
    "    print(i)"
   ]
  },
  {
   "cell_type": "code",
   "execution_count": 5,
   "id": "1d8425b8",
   "metadata": {},
   "outputs": [
    {
     "name": "stdout",
     "output_type": "stream",
     "text": [
      "0\n",
      "1\n",
      "2\n"
     ]
    }
   ],
   "source": [
    "for i in range(5):\n",
    "    if i == 3:\n",
    "        break\n",
    "    print(i)\n",
    "    "
   ]
  },
  {
   "cell_type": "code",
   "execution_count": 6,
   "id": "61d959c3",
   "metadata": {},
   "outputs": [
    {
     "name": "stdout",
     "output_type": "stream",
     "text": [
      "i------> 0\n",
      "i------> 1\n",
      "i------> 2\n",
      "i------> 3\n",
      "i------> 4\n",
      "i------> 5\n",
      "i------> 6\n",
      "i------> 7\n",
      "i------> 8\n",
      "i------> 9\n"
     ]
    }
   ],
   "source": [
    "for i in range(50):\n",
    "    if i == 10:\n",
    "        break\n",
    "    print(f\"i------> {i}\")\n",
    "    "
   ]
  },
  {
   "cell_type": "code",
   "execution_count": 10,
   "id": "c2b0e179",
   "metadata": {},
   "outputs": [
    {
     "name": "stdout",
     "output_type": "stream",
     "text": [
      "i-----> 0\n",
      "i-----> 1\n",
      "i-----> 2\n",
      "i-----> 3\n",
      "i-----> 4\n",
      "i-----> 5\n",
      "i-----> 6\n",
      "i-----> 7\n",
      "i-----> 8\n",
      "i-----> 9\n",
      "i-----> 10\n"
     ]
    }
   ],
   "source": [
    "for i in range(50):\n",
    "    print(f\"i-----> {i}\")\n",
    "    if i == 10:\n",
    "        break\n",
    "   \n",
    "    "
   ]
  },
  {
   "cell_type": "code",
   "execution_count": 11,
   "id": "b0c43d44",
   "metadata": {},
   "outputs": [
    {
     "name": "stdout",
     "output_type": "stream",
     "text": [
      "Welcome to PVR\n",
      "How many tickets You want?10\n",
      "Congratulations!. Your order no.1 ,is confirmed......\n",
      "Congratulations!. Your order no.2 ,is confirmed......\n",
      "Congratulations!. Your order no.3 ,is confirmed......\n",
      "Congratulations!. Your order no.4 ,is confirmed......\n",
      "Congratulations!. Your order no.5 ,is confirmed......\n",
      "Congratulations!. Your order no.6 ,is confirmed......\n",
      "Congratulations!. Your order no.7 ,is confirmed......\n",
      "Congratulations!. Your order no.8 ,is confirmed......\n",
      "Congratulations!. Your order no.9 ,is confirmed......\n",
      "Congratulations!. Your order no.10 ,is confirmed......\n",
      "Enjoy your movie\n"
     ]
    }
   ],
   "source": [
    "print(\"Welcome to PVR\")\n",
    "order_qty = int(input(\"How many tickets You want?\"))\n",
    "for i in range(1,order_qty+1):\n",
    "    print(f\"Congratulations!. Your order no.{i} ,is confirmed......\")\n",
    "    \n",
    "print(\"Enjoy your movie\")"
   ]
  },
  {
   "cell_type": "code",
   "execution_count": 12,
   "id": "1104b1d9",
   "metadata": {},
   "outputs": [
    {
     "name": "stdout",
     "output_type": "stream",
     "text": [
      "Welcome to PVR\n",
      "How many tickets You want?5\n",
      "Congratulations!. Your order no.1 ,is confirmed......\n",
      "Congratulations!. Your order no.2 ,is confirmed......\n",
      "Congratulations!. Your order no.3 ,is confirmed......\n",
      "Congratulations!. Your order no.4 ,is confirmed......\n",
      "Congratulations!. Your order no.5 ,is confirmed......\n",
      "Enjoy your movie\n"
     ]
    }
   ],
   "source": [
    "print(\"Welcome to PVR\")\n",
    "order_qty = int(input(\"How many tickets You want?\"))\n",
    "for i in range(1,order_qty+1):\n",
    "    print(f\"Congratulations!. Your order no.{i} ,is confirmed......\")\n",
    "    \n",
    "print(\"Enjoy your movie\")"
   ]
  },
  {
   "cell_type": "code",
   "execution_count": 13,
   "id": "529e116a",
   "metadata": {},
   "outputs": [
    {
     "name": "stdout",
     "output_type": "stream",
     "text": [
      "Welcome to PVR\n",
      "How many tickets You want?50\n",
      "Congratulations!. Your order no.1 ,is confirmed......\n",
      "Congratulations!. Your order no.2 ,is confirmed......\n",
      "Congratulations!. Your order no.3 ,is confirmed......\n",
      "Congratulations!. Your order no.4 ,is confirmed......\n",
      "Congratulations!. Your order no.5 ,is confirmed......\n",
      "Congratulations!. Your order no.6 ,is confirmed......\n",
      "Congratulations!. Your order no.7 ,is confirmed......\n",
      "Congratulations!. Your order no.8 ,is confirmed......\n",
      "Congratulations!. Your order no.9 ,is confirmed......\n",
      "Congratulations!. Your order no.10 ,is confirmed......\n",
      "Congratulations!. Your order no.11 ,is confirmed......\n",
      "Congratulations!. Your order no.12 ,is confirmed......\n",
      "Congratulations!. Your order no.13 ,is confirmed......\n",
      "Congratulations!. Your order no.14 ,is confirmed......\n",
      "Congratulations!. Your order no.15 ,is confirmed......\n",
      "Congratulations!. Your order no.16 ,is confirmed......\n",
      "Congratulations!. Your order no.17 ,is confirmed......\n",
      "Congratulations!. Your order no.18 ,is confirmed......\n",
      "Congratulations!. Your order no.19 ,is confirmed......\n",
      "Congratulations!. Your order no.20 ,is confirmed......\n",
      "Congratulations!. Your order no.21 ,is confirmed......\n",
      "Congratulations!. Your order no.22 ,is confirmed......\n",
      "Congratulations!. Your order no.23 ,is confirmed......\n",
      "Congratulations!. Your order no.24 ,is confirmed......\n",
      "Congratulations!. Your order no.25 ,is confirmed......\n",
      "Congratulations!. Your order no.26 ,is confirmed......\n",
      "Congratulations!. Your order no.27 ,is confirmed......\n",
      "Congratulations!. Your order no.28 ,is confirmed......\n",
      "Congratulations!. Your order no.29 ,is confirmed......\n",
      "Congratulations!. Your order no.30 ,is confirmed......\n",
      "Congratulations!. Your order no.31 ,is confirmed......\n",
      "Congratulations!. Your order no.32 ,is confirmed......\n",
      "Congratulations!. Your order no.33 ,is confirmed......\n",
      "Congratulations!. Your order no.34 ,is confirmed......\n",
      "Congratulations!. Your order no.35 ,is confirmed......\n",
      "Congratulations!. Your order no.36 ,is confirmed......\n",
      "Congratulations!. Your order no.37 ,is confirmed......\n",
      "Congratulations!. Your order no.38 ,is confirmed......\n",
      "Congratulations!. Your order no.39 ,is confirmed......\n",
      "Congratulations!. Your order no.40 ,is confirmed......\n",
      "Congratulations!. Your order no.41 ,is confirmed......\n",
      "Congratulations!. Your order no.42 ,is confirmed......\n",
      "Congratulations!. Your order no.43 ,is confirmed......\n",
      "Congratulations!. Your order no.44 ,is confirmed......\n",
      "Congratulations!. Your order no.45 ,is confirmed......\n",
      "Congratulations!. Your order no.46 ,is confirmed......\n",
      "Congratulations!. Your order no.47 ,is confirmed......\n",
      "Congratulations!. Your order no.48 ,is confirmed......\n",
      "Congratulations!. Your order no.49 ,is confirmed......\n",
      "Congratulations!. Your order no.50 ,is confirmed......\n",
      "Enjoy your movie\n"
     ]
    }
   ],
   "source": [
    "print(\"Welcome to PVR\")\n",
    "order_qty = int(input(\"How many tickets You want?\"))\n",
    "for i in range(1,order_qty+1):\n",
    "    print(f\"Congratulations!. Your order no.{i} ,is confirmed......\")\n",
    "    \n",
    "print(\"Enjoy your movie\")"
   ]
  },
  {
   "cell_type": "code",
   "execution_count": 15,
   "id": "86e09b7f",
   "metadata": {},
   "outputs": [
    {
     "name": "stdout",
     "output_type": "stream",
     "text": [
      "Welcome to PVR\n",
      "How many tickets You want?10\n",
      "Congratulations!. Your order no.1 ,is confirmed......\n",
      "Congratulations!. Your order no.2 ,is confirmed......\n",
      "Congratulations!. Your order no.3 ,is confirmed......\n",
      "Congratulations!. Your order no.4 ,is confirmed......\n",
      "Congratulations!. Your order no.5 ,is confirmed......\n",
      "Enjoy your movie\n"
     ]
    }
   ],
   "source": [
    "print(\"Welcome to PVR\")\n",
    "order_qty = int(input(\"How many tickets You want?\"))\n",
    "stock = 5\n",
    "for i in range(1,order_qty+1):\n",
    "    print(f\"Congratulations!. Your order no.{i} ,is confirmed......\")\n",
    "    if i == 5:\n",
    "        break\n",
    "    \n",
    "print(\"Enjoy your movie\")"
   ]
  },
  {
   "cell_type": "code",
   "execution_count": 17,
   "id": "63c5960d",
   "metadata": {},
   "outputs": [
    {
     "name": "stdout",
     "output_type": "stream",
     "text": [
      "Welcome to PVR\n",
      "How many tickets You want?10\n",
      "Congratulations!. Your order no.1 ,is confirmed......\n",
      "Congratulations!. Your order no.2 ,is confirmed......\n",
      "Congratulations!. Your order no.3 ,is confirmed......\n",
      "Congratulations!. Your order no.4 ,is confirmed......\n",
      "Congratulations!. Your order no.5 ,is confirmed......\n",
      "Sorry! Out of stock\n",
      "Enjoy your movie\n"
     ]
    }
   ],
   "source": [
    "print(\"Welcome to PVR\")\n",
    "order_qty = int(input(\"How many tickets You want?\"))\n",
    "stock = 5\n",
    "for i in range(1,order_qty+1):\n",
    "    print(f\"Congratulations!. Your order no.{i} ,is confirmed......\")\n",
    "    if i == 5:\n",
    "        print(\"Sorry! Out of stock\")\n",
    "        break\n",
    "        \n",
    "    \n",
    "print(\"Enjoy your movie\")"
   ]
  },
  {
   "cell_type": "code",
   "execution_count": 18,
   "id": "39e9aa79",
   "metadata": {},
   "outputs": [
    {
     "name": "stdout",
     "output_type": "stream",
     "text": [
      "Welcome to PVR\n",
      "How many tickets you want?50\n",
      "Congratulations!.Your order 1 is confirmed\n",
      "Congratulations!.Your order 2 is confirmed\n",
      "Congratulations!.Your order 3 is confirmed\n",
      "Congratulations!.Your order 4 is confirmed\n",
      "Congratulations!.Your order 5 is confirmed\n",
      "Congratulations!.Your order 6 is confirmed\n",
      "Congratulations!.Your order 7 is confirmed\n",
      "Congratulations!.Your order 8 is confirmed\n",
      "Congratulations!.Your order 9 is confirmed\n",
      "Congratulations!.Your order 10 is confirmed\n",
      "Sorry.Out of stock\n",
      "Enjoy your movie\n"
     ]
    }
   ],
   "source": [
    "print(\"Welcome to PVR\")\n",
    "order = int(input(\"How many tickets you want?\"))\n",
    "stock = 10\n",
    "for i in range(1,order+1):\n",
    "    print(f\"Congratulations!.Your order {i} is confirmed\")\n",
    "    if i == stock:\n",
    "        print(\"Sorry.Out of stock\")\n",
    "        break\n",
    "        \n",
    "print(\"Enjoy your movie\")"
   ]
  },
  {
   "cell_type": "code",
   "execution_count": 20,
   "id": "eca71a0a",
   "metadata": {},
   "outputs": [
    {
     "name": "stdout",
     "output_type": "stream",
     "text": [
      "The value (1) is of Int type\n",
      "The value (2) is of Int type\n",
      "The value (3) is of Int type\n",
      "The value (4) is of Int type\n",
      "The value (5) is of Int type\n",
      "The value (2.3) is of Float type\n",
      "The value (4.5) is of Float type\n",
      "The value (4.6) is of Float type\n",
      "The value (Python) is of String type\n",
      "The value (DS) is of String type\n",
      "The value (9.9) is of Float type\n",
      "The value (ML) is of String type\n"
     ]
    }
   ],
   "source": [
    "li = [1,2,3,4,5,2.3,4.5,4.6,\"Python\",\"DS\",9.9,\"ML\"]\n",
    "for item in li:\n",
    "    if type(item) == int:\n",
    "        print(f\"The value ({item}) is of Int type\")\n",
    "    elif type(item) == float:\n",
    "        print(f\"The value ({item}) is of Float type\")\n",
    "    else:\n",
    "        print(f\"The value ({item}) is of String type\")"
   ]
  },
  {
   "cell_type": "code",
   "execution_count": 21,
   "id": "bcd7c497",
   "metadata": {},
   "outputs": [
    {
     "name": "stdout",
     "output_type": "stream",
     "text": [
      "The value (1) is of Int type\n",
      "The value (2) is of Int type\n",
      "The value (3) is of Int type\n",
      "The value (4) is of Int type\n",
      "The value (5) is of Int type\n"
     ]
    }
   ],
   "source": [
    "li = [1,2,3,4,5,2.3,4.5,4.6,\"Python\",\"DS\",9.9,\"ML\"]\n",
    "for item in li:\n",
    "    if type(item) == int:\n",
    "        print(f\"The value ({item}) is of Int type\")\n",
    "    elif type(item) == float:\n",
    "        break\n",
    "        \n",
    "    else:\n",
    "        print(f\"The value ({item}) is of String type\")"
   ]
  },
  {
   "cell_type": "code",
   "execution_count": 23,
   "id": "8440eae3",
   "metadata": {},
   "outputs": [
    {
     "name": "stdout",
     "output_type": "stream",
     "text": [
      "1\n",
      "2\n",
      "6\n",
      "9\n",
      "6\n",
      "90\n",
      "8\n",
      "7\n",
      "9\n",
      "6\n",
      "77\n"
     ]
    }
   ],
   "source": [
    "number_li = [1,2,6,9,6,90,8,7,9,6,77,443,5,6,78,56,4]\n",
    "for i in number_li:\n",
    "    if i >100:\n",
    "        break\n",
    "    print(i)"
   ]
  },
  {
   "cell_type": "markdown",
   "id": "315a33ff",
   "metadata": {},
   "source": [
    "### 2.coninue\n",
    "- Used to stop/skip the current iteration only\n",
    "- Continues with next statements"
   ]
  },
  {
   "cell_type": "code",
   "execution_count": 24,
   "id": "62bf9256",
   "metadata": {},
   "outputs": [
    {
     "name": "stdout",
     "output_type": "stream",
     "text": [
      "1\n",
      "2\n",
      "6\n",
      "9\n",
      "6\n"
     ]
    }
   ],
   "source": [
    "number_li = [1,2,6,9,6,90,8,7,9,6,77,443,5,6,78,56,4]\n",
    "for number in number_li:\n",
    "    if number > 75:\n",
    "        break\n",
    "    print(number)"
   ]
  },
  {
   "cell_type": "code",
   "execution_count": 25,
   "id": "169e1f36",
   "metadata": {},
   "outputs": [
    {
     "name": "stdout",
     "output_type": "stream",
     "text": [
      "1\n",
      "2\n",
      "6\n",
      "9\n",
      "6\n",
      "8\n",
      "7\n",
      "9\n",
      "6\n",
      "5\n",
      "6\n",
      "56\n",
      "4\n"
     ]
    }
   ],
   "source": [
    "number_li = [1,2,6,9,6,90,8,7,9,6,77,443,5,6,78,56,4]\n",
    "for number in number_li:\n",
    "    if number > 75:\n",
    "        continue\n",
    "    print(number)"
   ]
  },
  {
   "cell_type": "code",
   "execution_count": 2,
   "id": "cb1385d4",
   "metadata": {},
   "outputs": [
    {
     "name": "stdout",
     "output_type": "stream",
     "text": [
      "The value (3) is of Int type\n",
      "The value (4) is of Int type\n",
      "The value (5) is of Int type\n",
      "The value (Python) is of String type\n",
      "The value (DS) is of String type\n",
      "The value (ML) is of String type\n"
     ]
    }
   ],
   "source": [
    "li = [1.1,2.2,3,4,5,2.3,4.5,4.6,\"Python\",\"DS\",9.9,\"ML\"]\n",
    "for i in li:\n",
    "    if type(i) == int:\n",
    "        print(f\"The value ({i}) is of Int type\")\n",
    "    elif type(i) == float:\n",
    "        continue\n",
    "        \n",
    "    else:\n",
    "        print(f\"The value ({i}) is of String type\")"
   ]
  },
  {
   "cell_type": "code",
   "execution_count": 3,
   "id": "9e1147cd",
   "metadata": {},
   "outputs": [
    {
     "name": "stdout",
     "output_type": "stream",
     "text": [
      "The value (3) is of Int type\n",
      "The value (4) is of Int type\n",
      "The value (5) is of Int type\n"
     ]
    }
   ],
   "source": [
    "li = [1.1,2.2,3,4,5,2.3,4.5,4.6,\"Python\",\"DS\",9.9,\"ML\"]\n",
    "for i in li:\n",
    "    if type(i) == int:\n",
    "        print(f\"The value ({i}) is of Int type\")\n",
    "    else:\n",
    "        continue"
   ]
  },
  {
   "cell_type": "code",
   "execution_count": 5,
   "id": "4b22b2c2",
   "metadata": {},
   "outputs": [
    {
     "name": "stdout",
     "output_type": "stream",
     "text": [
      "0\n",
      "1\n",
      "2\n",
      "4\n"
     ]
    }
   ],
   "source": [
    "for i in range(5):\n",
    "    if i == 3:\n",
    "        continue\n",
    "    print(i)\n",
    "        "
   ]
  },
  {
   "cell_type": "code",
   "execution_count": 6,
   "id": "71e581cd",
   "metadata": {},
   "outputs": [
    {
     "name": "stdout",
     "output_type": "stream",
     "text": [
      "Welome to PVR!\n",
      "How many tickets u want ?10\n",
      "Congratulation!. Your order number = 1, is confirmed...\n",
      "Congratulation!. Your order number = 2, is confirmed...\n",
      "Congratulations. You are the lucky customer today\n",
      "Congratulation!. Your order number = 4, is confirmed...\n",
      "Congratulation!. Your order number = 5, is confirmed...\n",
      "Congratulation!. Your order number = 6, is confirmed...\n",
      "Congratulation!. Your order number = 7, is confirmed...\n",
      "Congratulation!. Your order number = 8, is confirmed...\n",
      "Congratulation!. Your order number = 9, is confirmed...\n",
      "Congratulation!. Your order number = 10, is confirmed...\n",
      "Enjoy your movie....\n"
     ]
    }
   ],
   "source": [
    "print(\"Welome to PVR!\")\n",
    "order_qty = int(input(\"How many tickets u want ?\"))\n",
    "lucky_number = 3\n",
    "for i in range(1,order_qty+1):\n",
    "    if i == lucky_number:\n",
    "        print(\"Congratulations. You are the lucky customer today\")\n",
    "        continue\n",
    "    print(f\"Congratulation!. Your order number = {i}, is confirmed...\")\n",
    "    \n",
    "print(\"Enjoy your movie....\")"
   ]
  },
  {
   "cell_type": "markdown",
   "id": "fed63dd0",
   "metadata": {},
   "source": [
    "### 3.pass\n",
    "- Placeholder"
   ]
  },
  {
   "cell_type": "code",
   "execution_count": 7,
   "id": "68fe62a1",
   "metadata": {},
   "outputs": [
    {
     "name": "stdout",
     "output_type": "stream",
     "text": [
      "0\n",
      "1\n",
      "2\n",
      "3\n",
      "4\n"
     ]
    }
   ],
   "source": [
    "for i in range(5):\n",
    "    print(i)\n",
    "    pass"
   ]
  },
  {
   "cell_type": "code",
   "execution_count": 8,
   "id": "093269c8",
   "metadata": {},
   "outputs": [
    {
     "name": "stdout",
     "output_type": "stream",
     "text": [
      "0\n",
      "1\n",
      "2\n",
      "3\n",
      "4\n"
     ]
    }
   ],
   "source": [
    "for i in range(5):\n",
    "    pass\n",
    "    print(i)\n",
    "    pass"
   ]
  },
  {
   "cell_type": "code",
   "execution_count": 10,
   "id": "84df4184",
   "metadata": {},
   "outputs": [
    {
     "name": "stdout",
     "output_type": "stream",
     "text": [
      "Welcome to DS\n",
      "0\n",
      "Welcome to DS\n",
      "1\n",
      "Welcome to DS\n",
      "2\n",
      "Welcome to DS\n",
      "3\n",
      "Welcome to DS\n",
      "4\n"
     ]
    }
   ],
   "source": [
    "for i in range(5):\n",
    "    print(\"Welcome to DS\")\n",
    "    print(i)\n",
    "    pass"
   ]
  },
  {
   "cell_type": "code",
   "execution_count": 13,
   "id": "60d2e689",
   "metadata": {},
   "outputs": [
    {
     "name": "stdout",
     "output_type": "stream",
     "text": [
      "Welcome to DS\n",
      "0\n",
      "Hi\n",
      "Welcome to DS\n",
      "1\n",
      "Hi\n",
      "Welcome to DS\n",
      "2\n",
      "Hi\n",
      "Welcome to DS\n",
      "3\n",
      "Hi\n",
      "Welcome to DS\n",
      "4\n",
      "Hi\n"
     ]
    }
   ],
   "source": [
    "for i in range(5):\n",
    "    print(\"Welcome to DS\")\n",
    "    print(i)\n",
    "    print(\"Hi\")\n",
    "    pass"
   ]
  },
  {
   "cell_type": "code",
   "execution_count": 15,
   "id": "bf37baf9",
   "metadata": {},
   "outputs": [
    {
     "name": "stdout",
     "output_type": "stream",
     "text": [
      "0\n",
      "1\n",
      "2\n",
      "4\n"
     ]
    }
   ],
   "source": [
    "for i in range(5):\n",
    "    if i !=3:\n",
    "        print(i)\n",
    "        pass"
   ]
  },
  {
   "cell_type": "code",
   "execution_count": 16,
   "id": "b687c3f8",
   "metadata": {},
   "outputs": [
    {
     "ename": "IndentationError",
     "evalue": "expected an indented block (Temp/ipykernel_25084/2827001758.py, line 6)",
     "output_type": "error",
     "traceback": [
      "\u001b[1;36m  File \u001b[1;32m\"C:\\Users\\Mohit\\AppData\\Local\\Temp/ipykernel_25084/2827001758.py\"\u001b[1;36m, line \u001b[1;32m6\u001b[0m\n\u001b[1;33m    \u001b[0m\n\u001b[1;37m    ^\u001b[0m\n\u001b[1;31mIndentationError\u001b[0m\u001b[1;31m:\u001b[0m expected an indented block\n"
     ]
    }
   ],
   "source": [
    "for i in range(5):\n",
    "    if i !=3:\n",
    "        print(i)\n",
    "        pass\n",
    "    else:\n",
    "        "
   ]
  },
  {
   "cell_type": "code",
   "execution_count": 17,
   "id": "4f55a353",
   "metadata": {},
   "outputs": [
    {
     "name": "stdout",
     "output_type": "stream",
     "text": [
      "0\n",
      "1\n",
      "2\n",
      "4\n"
     ]
    }
   ],
   "source": [
    "for i in range(5):\n",
    "    if i !=3:\n",
    "        print(i)\n",
    "        pass\n",
    "    else:\n",
    "        pass"
   ]
  },
  {
   "cell_type": "code",
   "execution_count": 18,
   "id": "c82fb06e",
   "metadata": {},
   "outputs": [
    {
     "ename": "IndentationError",
     "evalue": "expected an indented block (Temp/ipykernel_25084/1867518065.py, line 5)",
     "output_type": "error",
     "traceback": [
      "\u001b[1;36m  File \u001b[1;32m\"C:\\Users\\Mohit\\AppData\\Local\\Temp/ipykernel_25084/1867518065.py\"\u001b[1;36m, line \u001b[1;32m5\u001b[0m\n\u001b[1;33m    def login_page(self):\u001b[0m\n\u001b[1;37m    ^\u001b[0m\n\u001b[1;31mIndentationError\u001b[0m\u001b[1;31m:\u001b[0m expected an indented block\n"
     ]
    }
   ],
   "source": [
    "class Product1:\n",
    "    def welcome_page(self):\n",
    "        \n",
    "    \n",
    "    def login_page(self):\n",
    "        pass\n",
    "    \n",
    "    def get_loginID(self):\n",
    "        pass\n",
    "    \n",
    "    def get_password(self):\n",
    "        pass"
   ]
  },
  {
   "cell_type": "code",
   "execution_count": 19,
   "id": "3f04ee68",
   "metadata": {},
   "outputs": [],
   "source": [
    "class Product1:\n",
    "    def welcome_page(self):\n",
    "        pass\n",
    "    \n",
    "    def login_page(self):\n",
    "        pass\n",
    "    \n",
    "    def get_loginID(self):\n",
    "        pass\n",
    "    \n",
    "    def get_password(self):\n",
    "        pass"
   ]
  },
  {
   "cell_type": "code",
   "execution_count": 20,
   "id": "4ca3588c",
   "metadata": {},
   "outputs": [],
   "source": [
    "p1 = Product1()"
   ]
  },
  {
   "cell_type": "code",
   "execution_count": 22,
   "id": "78e32c04",
   "metadata": {},
   "outputs": [],
   "source": [
    "p1.welcome_page()\n",
    "p1.login_page()\n",
    "p1.get_loginID()\n",
    "p1.get_password()"
   ]
  },
  {
   "cell_type": "markdown",
   "id": "8a3289de",
   "metadata": {},
   "source": [
    "## for else\n",
    "- Else block will execute only when the loop completes its all iterations."
   ]
  },
  {
   "cell_type": "code",
   "execution_count": 24,
   "id": "b1b70e0b",
   "metadata": {},
   "outputs": [
    {
     "name": "stdout",
     "output_type": "stream",
     "text": [
      "0\n",
      "1\n",
      "2\n",
      "3\n",
      "4\n",
      "All values printed\n"
     ]
    }
   ],
   "source": [
    "for i in range(5):\n",
    "    print(i)\n",
    "print(\"All values printed\")"
   ]
  },
  {
   "cell_type": "code",
   "execution_count": 26,
   "id": "a37dc66c",
   "metadata": {},
   "outputs": [
    {
     "name": "stdout",
     "output_type": "stream",
     "text": [
      "0\n",
      "1\n",
      "2\n"
     ]
    }
   ],
   "source": [
    "for i in range(5):\n",
    "    if i == 3:\n",
    "        break\n",
    "    print(i)"
   ]
  },
  {
   "cell_type": "code",
   "execution_count": 27,
   "id": "1b8bf36e",
   "metadata": {},
   "outputs": [
    {
     "name": "stdout",
     "output_type": "stream",
     "text": [
      "0\n",
      "1\n",
      "2\n"
     ]
    }
   ],
   "source": [
    "for i in range(5):\n",
    "    if i == 3:\n",
    "        break\n",
    "    print(i)\n",
    "else:\n",
    "    print(\"All values are printed\")"
   ]
  },
  {
   "cell_type": "code",
   "execution_count": 28,
   "id": "b1c1d31f",
   "metadata": {},
   "outputs": [
    {
     "name": "stdout",
     "output_type": "stream",
     "text": [
      "element 1 = index 0\n",
      "element 2 = index 1\n",
      "element 3 = index 2\n",
      "element 5 = index 4\n",
      "element 6 = index 6\n"
     ]
    }
   ],
   "source": [
    "List=[1,2,3,7,5,7,6,7]\n",
    "for i in List:\n",
    "    if i==7: continue\n",
    "    print(f\"element {i} = index {List.index(i)}\")"
   ]
  }
 ],
 "metadata": {
  "kernelspec": {
   "display_name": "Python 3 (ipykernel)",
   "language": "python",
   "name": "python3"
  },
  "language_info": {
   "codemirror_mode": {
    "name": "ipython",
    "version": 3
   },
   "file_extension": ".py",
   "mimetype": "text/x-python",
   "name": "python",
   "nbconvert_exporter": "python",
   "pygments_lexer": "ipython3",
   "version": "3.12.4"
  }
 },
 "nbformat": 4,
 "nbformat_minor": 5
}
