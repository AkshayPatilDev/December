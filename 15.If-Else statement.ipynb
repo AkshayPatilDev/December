{
 "cells": [
  {
   "cell_type": "markdown",
   "id": "54d17ae4",
   "metadata": {},
   "source": [
    "# If Else statement\n",
    "- It is a decision making statement"
   ]
  },
  {
   "cell_type": "raw",
   "id": "0a3c020f",
   "metadata": {},
   "source": [
    "if condition1:  (True/False)\n",
    "    statement 1\n",
    "    statement 2\n",
    "        .\n",
    "        .\n",
    "    statement n\n",
    "    \n",
    "elif condition2:  (True/False)\n",
    "    statement 1\n",
    "    statement 2\n",
    "        .\n",
    "        .\n",
    "    statement n\n",
    "    \n",
    "elif condition3:  (True/False)\n",
    "    statement 1\n",
    "    statement 2\n",
    "        .\n",
    "        .\n",
    "    statement n\n",
    "    \n",
    "else:\n",
    "    statement 1\n",
    "    statement 2\n",
    "        .\n",
    "        .\n",
    "    statement n"
   ]
  },
  {
   "cell_type": "code",
   "execution_count": 1,
   "id": "f4d6ad86",
   "metadata": {},
   "outputs": [
    {
     "name": "stdout",
     "output_type": "stream",
     "text": [
      "Hello\n"
     ]
    }
   ],
   "source": [
    "if True:\n",
    "    print(\"Hello\")"
   ]
  },
  {
   "cell_type": "code",
   "execution_count": 2,
   "id": "182eb19c",
   "metadata": {},
   "outputs": [
    {
     "name": "stdout",
     "output_type": "stream",
     "text": [
      "Bye\n"
     ]
    }
   ],
   "source": [
    "if False:\n",
    "    print(\"Hello1\")\n",
    "\n",
    "elif False:\n",
    "    print(\"Hello2\")\n",
    "    \n",
    "elif False:\n",
    "    print(\"Hello3\")\n",
    "    \n",
    "else:\n",
    "    print(\"Bye\")"
   ]
  },
  {
   "cell_type": "markdown",
   "id": "783f84ea",
   "metadata": {},
   "source": [
    "# Valid syntax for if-else statement\n",
    "- if\n",
    "- if -> else\n",
    "- if -> elif\n",
    "- if -> elif -> else\n",
    "- if -> elif -> elif\n",
    "- if -> elif -> elif -> else\n"
   ]
  },
  {
   "cell_type": "code",
   "execution_count": 3,
   "id": "af5afb1e",
   "metadata": {},
   "outputs": [
    {
     "name": "stdout",
     "output_type": "stream",
     "text": [
      "This is an upper string\n"
     ]
    }
   ],
   "source": [
    "string = \"PYTHON\"\n",
    "if string.isupper():  #True\n",
    "    print(\"This is an upper string\")"
   ]
  },
  {
   "cell_type": "code",
   "execution_count": 4,
   "id": "18b42369",
   "metadata": {},
   "outputs": [],
   "source": [
    "string = \"PYTHOn\"\n",
    "if string.isupper():  #False\n",
    "    print(\"This is an upper string\")"
   ]
  },
  {
   "cell_type": "code",
   "execution_count": 6,
   "id": "3f09ec7c",
   "metadata": {},
   "outputs": [
    {
     "name": "stdout",
     "output_type": "stream",
     "text": [
      "This is not an upper string\n"
     ]
    }
   ],
   "source": [
    "string = \"PYTHOn\"\n",
    "if string.isupper():  #False\n",
    "    print(\"This is an upper string\")\n",
    "else:\n",
    "    print(\"This is not an upper string\")"
   ]
  },
  {
   "cell_type": "code",
   "execution_count": 7,
   "id": "9a54339d",
   "metadata": {},
   "outputs": [
    {
     "name": "stdout",
     "output_type": "stream",
     "text": [
      "a is in Title case\n"
     ]
    }
   ],
   "source": [
    "a = \"Python And Data Science\"\n",
    "if a.istitle():\n",
    "    print(\"a is in Title case\")\n",
    "else:\n",
    "    print(\"a is not in Title case\")"
   ]
  },
  {
   "cell_type": "code",
   "execution_count": 10,
   "id": "f4dd37f4",
   "metadata": {},
   "outputs": [
    {
     "name": "stdout",
     "output_type": "stream",
     "text": [
      "hi\n"
     ]
    }
   ],
   "source": [
    "if 1:\n",
    "    print(\"hi\")"
   ]
  },
  {
   "cell_type": "code",
   "execution_count": 15,
   "id": "f1082640",
   "metadata": {},
   "outputs": [],
   "source": [
    "string = \"\""
   ]
  },
  {
   "cell_type": "code",
   "execution_count": 16,
   "id": "318f2492",
   "metadata": {},
   "outputs": [
    {
     "name": "stdout",
     "output_type": "stream",
     "text": [
      "The string is an empty string\n"
     ]
    }
   ],
   "source": [
    "if string:\n",
    "    print(\"The string not an empty string\")\n",
    "else:\n",
    "    print(\"The string is an empty string\")"
   ]
  },
  {
   "cell_type": "code",
   "execution_count": 17,
   "id": "868df246",
   "metadata": {},
   "outputs": [
    {
     "name": "stdout",
     "output_type": "stream",
     "text": [
      "The string not an empty string\n"
     ]
    }
   ],
   "source": [
    "string = \"string\"\n",
    "if string:\n",
    "    print(\"The string not an empty string\")\n",
    "else:\n",
    "    print(\"The string is an empty string\")"
   ]
  },
  {
   "cell_type": "code",
   "execution_count": 18,
   "id": "93a7317e",
   "metadata": {},
   "outputs": [
    {
     "name": "stdout",
     "output_type": "stream",
     "text": [
      "Empty\n"
     ]
    }
   ],
   "source": [
    "list1 = []\n",
    "if list1:\n",
    "    print(\"Not empty\")\n",
    "else:\n",
    "    print(\"Empty\")"
   ]
  },
  {
   "cell_type": "code",
   "execution_count": 19,
   "id": "24d26d8d",
   "metadata": {},
   "outputs": [
    {
     "name": "stdout",
     "output_type": "stream",
     "text": [
      "Not empty\n"
     ]
    }
   ],
   "source": [
    "list1 = [1,2]\n",
    "if list1:\n",
    "    print(\"Not empty\")\n",
    "else:\n",
    "    print(\"Empty\")"
   ]
  },
  {
   "cell_type": "code",
   "execution_count": 20,
   "id": "c2fad941",
   "metadata": {},
   "outputs": [
    {
     "name": "stdout",
     "output_type": "stream",
     "text": [
      "The set is empty\n"
     ]
    }
   ],
   "source": [
    "set1 = {}\n",
    "if set1:\n",
    "    print(\"The set is not empty\")\n",
    "else:\n",
    "    print(\"The set is empty\")"
   ]
  },
  {
   "cell_type": "code",
   "execution_count": 21,
   "id": "53b236dd",
   "metadata": {},
   "outputs": [
    {
     "name": "stdout",
     "output_type": "stream",
     "text": [
      "The set is not empty\n"
     ]
    }
   ],
   "source": [
    "set1 = {10,20,30}\n",
    "if set1:\n",
    "    print(\"The set is not empty\")\n",
    "else:\n",
    "    print(\"The set is empty\")"
   ]
  }
 ],
 "metadata": {
  "kernelspec": {
   "display_name": "Python 3 (ipykernel)",
   "language": "python",
   "name": "python3"
  },
  "language_info": {
   "codemirror_mode": {
    "name": "ipython",
    "version": 3
   },
   "file_extension": ".py",
   "mimetype": "text/x-python",
   "name": "python",
   "nbconvert_exporter": "python",
   "pygments_lexer": "ipython3",
   "version": "3.12.4"
  }
 },
 "nbformat": 4,
 "nbformat_minor": 5
}
