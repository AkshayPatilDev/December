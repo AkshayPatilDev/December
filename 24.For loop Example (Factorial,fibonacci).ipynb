{
 "cells": [
  {
   "cell_type": "markdown",
   "id": "e9e7b1cf",
   "metadata": {},
   "source": [
    "# Examples\n",
    "\n",
    "### Factorial"
   ]
  },
  {
   "cell_type": "raw",
   "id": "8953aa5a",
   "metadata": {},
   "source": [
    "3! -----> 3*2*1     = 6\n",
    "4! -----> 4*3*2*1   = 24\n",
    "5! -----> 5*4*3*2*1 = 120"
   ]
  },
  {
   "cell_type": "code",
   "execution_count": 2,
   "id": "1b5e17c0",
   "metadata": {},
   "outputs": [
    {
     "name": "stdout",
     "output_type": "stream",
     "text": [
      "At the iteration 1 factorial is 1\n",
      "At the iteration 2 factorial is 2\n",
      "At the iteration 3 factorial is 6\n"
     ]
    },
    {
     "data": {
      "text/plain": [
       "6"
      ]
     },
     "execution_count": 2,
     "metadata": {},
     "output_type": "execute_result"
    }
   ],
   "source": [
    "n = 3\n",
    "factorial = 1\n",
    "for i in range(1, n+1):\n",
    "    factorial = factorial*i\n",
    "    print(f\"At the iteration {i} factorial is {factorial}\")\n",
    "factorial"
   ]
  },
  {
   "cell_type": "code",
   "execution_count": 3,
   "id": "8ca2d76c",
   "metadata": {},
   "outputs": [
    {
     "name": "stdout",
     "output_type": "stream",
     "text": [
      "At the iteration 1 factorial is 1\n",
      "At the iteration 2 factorial is 2\n",
      "At the iteration 3 factorial is 6\n",
      "At the iteration 4 factorial is 24\n"
     ]
    },
    {
     "data": {
      "text/plain": [
       "24"
      ]
     },
     "execution_count": 3,
     "metadata": {},
     "output_type": "execute_result"
    }
   ],
   "source": [
    "n = 4\n",
    "factorial = 1\n",
    "for i in range(1, n+1):\n",
    "    factorial = factorial * i\n",
    "    print(f\"At the iteration {i} factorial is {factorial}\")\n",
    "factorial"
   ]
  },
  {
   "cell_type": "code",
   "execution_count": 4,
   "id": "75aa641f",
   "metadata": {},
   "outputs": [
    {
     "name": "stdout",
     "output_type": "stream",
     "text": [
      "At the iteration 1 factorial is 1\n",
      "At the iteration 2 factorial is 2\n",
      "At the iteration 3 factorial is 6\n",
      "At the iteration 4 factorial is 24\n",
      "At the iteration 5 factorial is 120\n"
     ]
    },
    {
     "data": {
      "text/plain": [
       "120"
      ]
     },
     "execution_count": 4,
     "metadata": {},
     "output_type": "execute_result"
    }
   ],
   "source": [
    "n = 5\n",
    "factorial = 1\n",
    "for i in range(1, n+1):\n",
    "    factorial = factorial * i\n",
    "    print(f\"At the iteration {i} factorial is {factorial}\")\n",
    "factorial"
   ]
  },
  {
   "cell_type": "code",
   "execution_count": 7,
   "id": "9028d15c",
   "metadata": {},
   "outputs": [
    {
     "name": "stdout",
     "output_type": "stream",
     "text": [
      "Factorial of 7\n",
      "At the iteration 1 factorial is 1\n",
      "At the iteration 2 factorial is 2\n",
      "At the iteration 3 factorial is 6\n",
      "At the iteration 4 factorial is 24\n",
      "At the iteration 5 factorial is 120\n",
      "At the iteration 6 factorial is 720\n",
      "At the iteration 7 factorial is 5040\n"
     ]
    },
    {
     "data": {
      "text/plain": [
       "5040"
      ]
     },
     "execution_count": 7,
     "metadata": {},
     "output_type": "execute_result"
    }
   ],
   "source": [
    "n = int(input(\"Factorial of \"))\n",
    "factorial = 1\n",
    "for i in range(1, n+1):\n",
    "    factorial = factorial * i\n",
    "    print(f\"At the iteration {i} factorial is {factorial}\")\n",
    "factorial"
   ]
  },
  {
   "cell_type": "code",
   "execution_count": 1,
   "id": "f88bb188",
   "metadata": {},
   "outputs": [
    {
     "name": "stdout",
     "output_type": "stream",
     "text": [
      "Factorial of -6\n",
      "Factorail does not exist\n"
     ]
    }
   ],
   "source": [
    "n = int(input(\"Factorial of \"))\n",
    "factorial = 1\n",
    "\n",
    "if n < 0:\n",
    "    print(\"Factorail does not exist\")\n",
    "else:\n",
    "    for i in range(1, n+1):\n",
    "        factorial = factorial * i\n",
    "        print(f\"At the iteration {n} factorial is {factorial}\")"
   ]
  },
  {
   "cell_type": "code",
   "execution_count": 3,
   "id": "3e0c62f0",
   "metadata": {},
   "outputs": [
    {
     "name": "stdout",
     "output_type": "stream",
     "text": [
      "Factorial of 5\n",
      "At the iteration 5 factorial is 120\n"
     ]
    }
   ],
   "source": [
    "n = int(input(\"Factorial of \"))\n",
    "factorial = 1\n",
    "\n",
    "if n < 0:\n",
    "    print(\"Factorail does not exist\")\n",
    "else:\n",
    "    for i in range(1, n+1):\n",
    "        factorial = factorial * i\n",
    "    print(f\"At the iteration {n} factorial is {factorial}\")"
   ]
  },
  {
   "cell_type": "markdown",
   "id": "5ab2cb48",
   "metadata": {},
   "source": [
    "###  Fibonacci series"
   ]
  },
  {
   "cell_type": "raw",
   "id": "329bbe9f",
   "metadata": {},
   "source": [
    "n = 5\n",
    "0 1 1 2 3\n",
    "f+s=n\n",
    "n = 8\n",
    "0 1 1 2 3 5 8 13\n",
    "\n",
    "n = 10\n",
    "0 1 1 2 3 5 8 13 21 34"
   ]
  },
  {
   "cell_type": "code",
   "execution_count": 7,
   "id": "12430604",
   "metadata": {},
   "outputs": [
    {
     "name": "stdout",
     "output_type": "stream",
     "text": [
      "0\n",
      "1\n",
      "1\n",
      "2\n",
      "3\n"
     ]
    }
   ],
   "source": [
    "n = 5\n",
    "first = 0\n",
    "second = 1\n",
    "print(first)\n",
    "print(second)\n",
    "for i in range(2,n):\n",
    "    new = first + second\n",
    "    first = second\n",
    "    second = new\n",
    "    print(new)"
   ]
  },
  {
   "cell_type": "code",
   "execution_count": 10,
   "id": "289b3d1b",
   "metadata": {},
   "outputs": [
    {
     "name": "stdout",
     "output_type": "stream",
     "text": [
      "0\n",
      "1\n",
      "1\n",
      "2\n",
      "3\n",
      "5\n",
      "8\n",
      "13\n"
     ]
    }
   ],
   "source": [
    "n = 8\n",
    "first = 0\n",
    "second = 1\n",
    "print(first)\n",
    "print(second)\n",
    "for i in range(2,n):\n",
    "    new = first + second\n",
    "    first = second\n",
    "    second = new\n",
    "    print(f\"{new}\")\n",
    "    "
   ]
  },
  {
   "cell_type": "code",
   "execution_count": 12,
   "id": "24f62c71",
   "metadata": {},
   "outputs": [
    {
     "name": "stdout",
     "output_type": "stream",
     "text": [
      "Python DS "
     ]
    }
   ],
   "source": [
    "print(\"Python\",end = \" \")\n",
    "print(\"DS\",end = \" \")\n"
   ]
  },
  {
   "cell_type": "code",
   "execution_count": 14,
   "id": "e1dc2497",
   "metadata": {},
   "outputs": [
    {
     "name": "stdout",
     "output_type": "stream",
     "text": [
      "Python\n",
      "DS "
     ]
    }
   ],
   "source": [
    "print(\"Python\",end = \"\\n\")\n",
    "print(\"DS\",end = \" \")\n"
   ]
  },
  {
   "cell_type": "code",
   "execution_count": 19,
   "id": "62b78954",
   "metadata": {},
   "outputs": [
    {
     "name": "stdout",
     "output_type": "stream",
     "text": [
      "Python\n",
      "DS\n",
      "Python-DS\n",
      "Python*DS\n",
      "Python+DS\n"
     ]
    }
   ],
   "source": [
    "print(\"Python\",end = \"\\n\")\n",
    "print(\"DS\",end = \"\\n\")\n",
    "print(\"Python\",end = \"-\")\n",
    "print(\"DS\")\n",
    "print(\"Python\",end = \"*\")\n",
    "print(\"DS\")\n",
    "print(\"Python\",end = \"+\")\n",
    "print(\"DS\")\n"
   ]
  },
  {
   "cell_type": "code",
   "execution_count": 28,
   "id": "e4c19f01",
   "metadata": {},
   "outputs": [
    {
     "name": "stdout",
     "output_type": "stream",
     "text": [
      "Fibonacci series for 8 = 0 1 1 2 3 5 8 13 "
     ]
    }
   ],
   "source": [
    "n = 8\n",
    "first = 0\n",
    "second = 1\n",
    "print(f\"Fibonacci series for {n} =\",end = \" \")\n",
    "print(first,end =\" \")\n",
    "print(second,end = \" \")\n",
    "\n",
    "for i in range(2,n):\n",
    "    new = first + second\n",
    "    first = second\n",
    "    second = new\n",
    "    print(new,end = \" \")"
   ]
  }
 ],
 "metadata": {
  "kernelspec": {
   "display_name": "Python 3 (ipykernel)",
   "language": "python",
   "name": "python3"
  },
  "language_info": {
   "codemirror_mode": {
    "name": "ipython",
    "version": 3
   },
   "file_extension": ".py",
   "mimetype": "text/x-python",
   "name": "python",
   "nbconvert_exporter": "python",
   "pygments_lexer": "ipython3",
   "version": "3.12.4"
  }
 },
 "nbformat": 4,
 "nbformat_minor": 5
}
