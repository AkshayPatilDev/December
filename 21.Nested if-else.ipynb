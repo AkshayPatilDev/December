{
 "cells": [
  {
   "cell_type": "markdown",
   "id": "0cd07801",
   "metadata": {},
   "source": [
    "# Nested if-else\n",
    "- if statement inside if"
   ]
  },
  {
   "cell_type": "code",
   "execution_count": 1,
   "id": "58b7cee7",
   "metadata": {},
   "outputs": [
    {
     "name": "stdout",
     "output_type": "stream",
     "text": [
      "Title case\n"
     ]
    }
   ],
   "source": [
    "str1 = \"Python\"\n",
    "if str1.istitle():\n",
    "    print(f\"Title case\")\n",
    "else:\n",
    "    print(f\"Not a Title case\")"
   ]
  },
  {
   "cell_type": "code",
   "execution_count": 2,
   "id": "11684782",
   "metadata": {},
   "outputs": [
    {
     "name": "stdout",
     "output_type": "stream",
     "text": [
      "Not a Title case\n"
     ]
    }
   ],
   "source": [
    "str1 = \"python\"\n",
    "if str1.istitle():\n",
    "    print(f\"Title case\")\n",
    "else:\n",
    "    print(f\"Not a Title case\")"
   ]
  },
  {
   "cell_type": "code",
   "execution_count": 3,
   "id": "3cb64afc",
   "metadata": {},
   "outputs": [
    {
     "name": "stdout",
     "output_type": "stream",
     "text": [
      "Length is Greater than 5\n",
      "Not a Title case\n"
     ]
    }
   ],
   "source": [
    "str1 = \"PYthon\"\n",
    "if len(str1) > 5:\n",
    "    print(f\"Length is Greater than 5\")\n",
    "    \n",
    "    if str1.istitle():\n",
    "        print(f\"Title case\")\n",
    "    else:\n",
    "        print(f\"Not a Title case\")\n",
    "else:\n",
    "    print(f\"Length is less than 5\")"
   ]
  },
  {
   "cell_type": "code",
   "execution_count": 4,
   "id": "65c5b084",
   "metadata": {},
   "outputs": [
    {
     "name": "stdout",
     "output_type": "stream",
     "text": [
      "Length is Greater than 5\n",
      "Title case\n"
     ]
    }
   ],
   "source": [
    "str1 = \"Python\"\n",
    "if len(str1) > 5:\n",
    "    print(f\"Length is Greater than 5\")\n",
    "    \n",
    "    if str1.istitle():\n",
    "        print(f\"Title case\")\n",
    "    else:\n",
    "        print(f\"Not a Title case\")\n",
    "else:\n",
    "    print(f\"Length is less than 5\")"
   ]
  },
  {
   "cell_type": "code",
   "execution_count": 7,
   "id": "e1cb3431",
   "metadata": {},
   "outputs": [
    {
     "name": "stdout",
     "output_type": "stream",
     "text": [
      "Length is less than 5\n"
     ]
    }
   ],
   "source": [
    "str1 = \"PYth\"\n",
    "if len(str1) > 5:\n",
    "    print(f\"Length is Greater than 5\")\n",
    "    \n",
    "    if str1.startswith(\"P\"):\n",
    "        print(f\"Starts with P\")\n",
    "    else:\n",
    "        print(f\"Starts with P\")\n",
    "else:\n",
    "    print(f\"Length is less than 5\")"
   ]
  },
  {
   "cell_type": "code",
   "execution_count": 9,
   "id": "7a865926",
   "metadata": {},
   "outputs": [
    {
     "name": "stdout",
     "output_type": "stream",
     "text": [
      "Length is Greater than 5\n",
      "Starts with P\n",
      "Title case\n"
     ]
    }
   ],
   "source": [
    "str1 = \"Python\"\n",
    "if len(str1) > 5:\n",
    "    print(f\"Length is Greater than 5\")\n",
    "    \n",
    "    if str1.startswith(\"P\"):\n",
    "        print(f\"Starts with P\")\n",
    "        \n",
    "        if str1.istitle():\n",
    "            print(f\"Title case\")\n",
    "        \n",
    "        else:\n",
    "            print(f\"Not starts with P\")\n",
    "    else:\n",
    "        print(f\"Not a Title case\")\n",
    "else:\n",
    "    print(f\"Length is less than 5\")"
   ]
  },
  {
   "cell_type": "code",
   "execution_count": 12,
   "id": "5d124702",
   "metadata": {},
   "outputs": [
    {
     "name": "stdout",
     "output_type": "stream",
     "text": [
      "Length is Greater than 5\n",
      "Starts with P\n",
      "Not starts with P\n"
     ]
    }
   ],
   "source": [
    "str1 = \"PyThon\"\n",
    "if len(str1) > 5:\n",
    "    print(f\"Length is Greater than 5\")\n",
    "    \n",
    "    if str1.startswith(\"P\"):\n",
    "        print(f\"Starts with P\")\n",
    "        \n",
    "        if str1.istitle():\n",
    "            print(f\"Title case\")\n",
    "        \n",
    "        else:\n",
    "            print(f\"Not starts with P\")\n",
    "    else:\n",
    "        print(f\"Not a Title case\")\n",
    "else:\n",
    "    print(f\"Length is less than 5\")"
   ]
  },
  {
   "cell_type": "code",
   "execution_count": 13,
   "id": "463ce9ae",
   "metadata": {},
   "outputs": [
    {
     "name": "stdout",
     "output_type": "stream",
     "text": [
      "Length is Greater than 5\n",
      "Not a Title case\n"
     ]
    }
   ],
   "source": [
    "str1 = \"CyThon\"\n",
    "if len(str1) > 5:\n",
    "    print(f\"Length is Greater than 5\")\n",
    "    \n",
    "    if str1.startswith(\"P\"):\n",
    "        print(f\"Starts with P\")\n",
    "        \n",
    "        if str1.istitle():\n",
    "            print(f\"Title case\")\n",
    "        \n",
    "        else:\n",
    "            print(f\"Not starts with P\")\n",
    "    else:\n",
    "        print(f\"Not a Title case\")\n",
    "else:\n",
    "    print(f\"Length is less than 5\")"
   ]
  },
  {
   "cell_type": "code",
   "execution_count": 16,
   "id": "d20fddca",
   "metadata": {},
   "outputs": [
    {
     "name": "stdout",
     "output_type": "stream",
     "text": [
      "Num is Greater than 100\n",
      "Num is Greater than 120\n"
     ]
    }
   ],
   "source": [
    "num = 130\n",
    "if num > 100 :\n",
    "    print(\"Num is Greater than 100\")\n",
    "    \n",
    "    if num > 150:\n",
    "        print(\"Num is greater than 150\")\n",
    "    else:\n",
    "        if num > 120:\n",
    "            print(\"Num is Greater than 120\")\n",
    "        \n",
    "        else:\n",
    "            print(\"Num is less than 120\")\n",
    "else:\n",
    "    print(\"Num is less than 100\")\n",
    "        "
   ]
  },
  {
   "cell_type": "code",
   "execution_count": 17,
   "id": "88e4d6cb",
   "metadata": {},
   "outputs": [
    {
     "name": "stdout",
     "output_type": "stream",
     "text": [
      "Num is Greater than 100\n",
      "Num is less than 120\n"
     ]
    }
   ],
   "source": [
    "num = 115\n",
    "if num > 100 :\n",
    "    print(\"Num is Greater than 100\")\n",
    "    \n",
    "    if num > 150:\n",
    "        print(\"Num is greater than 150\")\n",
    "    else:\n",
    "        if num > 120:\n",
    "            print(\"Num is Greater than 120\")\n",
    "        \n",
    "        else:\n",
    "            print(\"Num is less than 120\")\n",
    "else:\n",
    "    print(\"Num is less than 100\")\n",
    "        "
   ]
  },
  {
   "cell_type": "code",
   "execution_count": 21,
   "id": "052504cf",
   "metadata": {},
   "outputs": [
    {
     "name": "stdout",
     "output_type": "stream",
     "text": [
      "Cibil score is Greater than 750\n",
      "Age in range\n",
      "Salary is Greater than 45000\n",
      "*************************\n",
      "Loan Approved\n",
      "*************************\n"
     ]
    }
   ],
   "source": [
    "cibil_score = 800\n",
    "age = 35\n",
    "salary = 75000\n",
    "if cibil_score > 750:\n",
    "    print(\"Cibil score is Greater than 750\")\n",
    "    if age >24 and age < 60:\n",
    "        print(\"Age in range\")\n",
    "        if salary > 45000:\n",
    "            print(\"Salary is Greater than 45000\")\n",
    "            print(\"*\"*25)\n",
    "            print(\"Loan Approved\")\n",
    "            print(\"*\"*25)"
   ]
  },
  {
   "cell_type": "code",
   "execution_count": 2,
   "id": "785e58f0",
   "metadata": {},
   "outputs": [
    {
     "name": "stdout",
     "output_type": "stream",
     "text": [
      "Declined by cibil score\n"
     ]
    }
   ],
   "source": [
    "cibil_score = 500\n",
    "age = 23\n",
    "salary = 85000\n",
    "if cibil_score > 750:\n",
    "    print(\"Cibil score is Greater than 750\")\n",
    "    if age >24 and age < 60:\n",
    "        print(\"Age in range\")\n",
    "        if salary > 45000:\n",
    "            print(\"Salary is Greater than 45000\")\n",
    "            print(\"*\"*25)\n",
    "            print(\"Loan Approved\")\n",
    "            print(\"*\"*25)\n",
    "        else:\n",
    "            print(\"Declined by Salary\")\n",
    "    else:\n",
    "        print(\"Declined by age\")\n",
    "else:\n",
    "    print(\"Declined by cibil score\")\n",
    "    "
   ]
  },
  {
   "cell_type": "code",
   "execution_count": 3,
   "id": "3827e5c8",
   "metadata": {},
   "outputs": [
    {
     "name": "stdout",
     "output_type": "stream",
     "text": [
      "Cibil score is Greater than 750\n",
      "Declined by age\n"
     ]
    }
   ],
   "source": [
    "cibil_score = 900\n",
    "age = 23\n",
    "salary = 85000\n",
    "if cibil_score > 750:\n",
    "    print(\"Cibil score is Greater than 750\")\n",
    "    if age >24 and age < 60:\n",
    "        print(\"Age in range\")\n",
    "        if salary > 45000:\n",
    "            print(\"Salary is Greater than 45000\")\n",
    "            print(\"*\"*25)\n",
    "            print(\"Loan Approved\")\n",
    "            print(\"*\"*25)\n",
    "        else:\n",
    "            print(\"Declined by Salary\")\n",
    "    else:\n",
    "        print(\"Declined by age\")\n",
    "else:\n",
    "    print(\"Declined by cibil score\")\n",
    "    "
   ]
  },
  {
   "cell_type": "code",
   "execution_count": 5,
   "id": "db078e9b",
   "metadata": {},
   "outputs": [
    {
     "name": "stdout",
     "output_type": "stream",
     "text": [
      "Cibil score is Greater than 750\n",
      "Age in range\n",
      "Salary is Greater than 45000\n",
      "*************************\n",
      "Loan Approved\n",
      "*************************\n"
     ]
    }
   ],
   "source": [
    "cibil_score = 900\n",
    "age = 28\n",
    "salary = 85000\n",
    "if cibil_score > 750:\n",
    "    print(\"Cibil score is Greater than 750\")\n",
    "    if age >24 and age < 60:\n",
    "        print(\"Age in range\")\n",
    "        if salary > 45000:\n",
    "            print(\"Salary is Greater than 45000\")\n",
    "            print(\"*\"*25)\n",
    "            print(\"Loan Approved\")\n",
    "            print(\"*\"*25)\n",
    "        else:\n",
    "            print(\"Declined by Salary\")\n",
    "    else:\n",
    "        print(\"Declined by age\")\n",
    "else:\n",
    "    print(\"Declined by cibil score\")\n",
    "    "
   ]
  },
  {
   "cell_type": "markdown",
   "id": "966fce21",
   "metadata": {},
   "source": [
    "# Short hand if"
   ]
  },
  {
   "cell_type": "code",
   "execution_count": 8,
   "id": "4043e442",
   "metadata": {},
   "outputs": [
    {
     "name": "stdout",
     "output_type": "stream",
     "text": [
      "100 is Greater than 50\n"
     ]
    }
   ],
   "source": [
    "num1 = 100\n",
    "num2 = 50\n",
    "if num1 > num2:\n",
    "    print(f\"{num1} is Greater than {num2}\")"
   ]
  },
  {
   "cell_type": "code",
   "execution_count": 10,
   "id": "d7adcdf3",
   "metadata": {},
   "outputs": [
    {
     "name": "stdout",
     "output_type": "stream",
     "text": [
      "100 is Greater than 50\n"
     ]
    }
   ],
   "source": [
    "if num1 > num2: print(f\"{num1} is Greater than {num2}\")"
   ]
  },
  {
   "cell_type": "code",
   "execution_count": 13,
   "id": "23f789d6",
   "metadata": {},
   "outputs": [
    {
     "name": "stdout",
     "output_type": "stream",
     "text": [
      "7\n",
      "55\n",
      "88\n",
      "9\n",
      "78\n",
      "54\n",
      "76\n",
      "98\n"
     ]
    }
   ],
   "source": [
    "for i in [7,3,55,2,4,88,9,78,54,2,4,76,98]:\n",
    "    if i > 5: print(i)"
   ]
  },
  {
   "cell_type": "markdown",
   "id": "f0c4654f",
   "metadata": {},
   "source": [
    "# Short hand if-else"
   ]
  },
  {
   "cell_type": "code",
   "execution_count": 15,
   "id": "93dca9e5",
   "metadata": {},
   "outputs": [
    {
     "name": "stdout",
     "output_type": "stream",
     "text": [
      "500 is Greater than 100\n"
     ]
    }
   ],
   "source": [
    "num1 = 100\n",
    "num2 = 500\n",
    "if num1 > num2:\n",
    "    print(f\"{num1} is Greater than {num2}\")\n",
    "else:\n",
    "    print(f\"{num2} is Greater than {num1}\")"
   ]
  },
  {
   "cell_type": "code",
   "execution_count": 20,
   "id": "c3eaf4db",
   "metadata": {},
   "outputs": [
    {
     "name": "stdout",
     "output_type": "stream",
     "text": [
      "500 is Greater than 100\n"
     ]
    }
   ],
   "source": [
    "print(f\"{num1} is Greater than {num2}\") if num1 > num2 else print(f\"{num2} is Greater than {num1}\")"
   ]
  },
  {
   "cell_type": "code",
   "execution_count": 22,
   "id": "13b6aa07",
   "metadata": {},
   "outputs": [
    {
     "name": "stdout",
     "output_type": "stream",
     "text": [
      "100 is Greater than 50\n"
     ]
    }
   ],
   "source": [
    "num1 = 100\n",
    "num2 = 50\n",
    "print(f\"{num1} is Greater than {num2}\") if num1 > num2 else print(f\"{num2} is Greater than {num1}\")"
   ]
  },
  {
   "cell_type": "code",
   "execution_count": 24,
   "id": "aaac903f",
   "metadata": {},
   "outputs": [
    {
     "name": "stdout",
     "output_type": "stream",
     "text": [
      "Num is small\n",
      "56\n",
      "7\n",
      "8\n",
      "9\n",
      "Num is small\n",
      "Num is small\n",
      "23\n",
      "15\n"
     ]
    }
   ],
   "source": [
    "for i in [1,56,7,8,9,4,5,23,15]:\n",
    "    print(i) if i > 5 else print(\"Num is small\")"
   ]
  },
  {
   "cell_type": "code",
   "execution_count": 27,
   "id": "b04cf0c0",
   "metadata": {},
   "outputs": [
    {
     "data": {
      "text/plain": [
       "['Num is small', 7, 'Num is small', 8, 'Num is small', 9]"
      ]
     },
     "execution_count": 27,
     "metadata": {},
     "output_type": "execute_result"
    }
   ],
   "source": [
    "[i if i > 5 else \"Num is small\" for i in [1,7,3,8,4,9]]"
   ]
  },
  {
   "cell_type": "code",
   "execution_count": 29,
   "id": "fd60dcb9",
   "metadata": {},
   "outputs": [
    {
     "ename": "SyntaxError",
     "evalue": "invalid syntax (Temp/ipykernel_21812/831370425.py, line 1)",
     "output_type": "error",
     "traceback": [
      "\u001b[1;36m  File \u001b[1;32m\"C:\\Users\\Mohit\\AppData\\Local\\Temp/ipykernel_21812/831370425.py\"\u001b[1;36m, line \u001b[1;32m1\u001b[0m\n\u001b[1;33m    [i if i > 5 for i in [1,7,3,8,4,9]]\u001b[0m\n\u001b[1;37m                ^\u001b[0m\n\u001b[1;31mSyntaxError\u001b[0m\u001b[1;31m:\u001b[0m invalid syntax\n"
     ]
    }
   ],
   "source": [
    "[i if i > 5 for i in [1,7,3,8,4,9]]"
   ]
  },
  {
   "cell_type": "code",
   "execution_count": 30,
   "id": "548eb2b5",
   "metadata": {},
   "outputs": [
    {
     "data": {
      "text/plain": [
       "[7, 8, 9]"
      ]
     },
     "execution_count": 30,
     "metadata": {},
     "output_type": "execute_result"
    }
   ],
   "source": [
    "[i for i in [1,7,3,8,4,9] if i > 5]"
   ]
  }
 ],
 "metadata": {
  "kernelspec": {
   "display_name": "Python 3 (ipykernel)",
   "language": "python",
   "name": "python3"
  },
  "language_info": {
   "codemirror_mode": {
    "name": "ipython",
    "version": 3
   },
   "file_extension": ".py",
   "mimetype": "text/x-python",
   "name": "python",
   "nbconvert_exporter": "python",
   "pygments_lexer": "ipython3",
   "version": "3.12.4"
  }
 },
 "nbformat": 4,
 "nbformat_minor": 5
}
