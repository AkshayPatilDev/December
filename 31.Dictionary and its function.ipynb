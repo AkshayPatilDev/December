{
 "cells": [
  {
   "cell_type": "markdown",
   "id": "5e24390d",
   "metadata": {},
   "source": [
    "# Data types"
   ]
  },
  {
   "cell_type": "raw",
   "id": "dc6ebe9c",
   "metadata": {},
   "source": [
    "str    - ordered   ,immutable ,allowed duplicate items    ,\"\"\n",
    "list   - ordered   ,mutable   ,allowed duplicate items    ,[]\n",
    "tuple  - ordered   ,immutable ,allowed duplicate items    ,()\n",
    "set    - unordered ,mutable   ,duplicates are not allowed ,set()\n",
    "dict   - ordered(python >=3.7),Mutable , Duplicate keys not allowed , { } , dict()"
   ]
  },
  {
   "cell_type": "markdown",
   "id": "6addef7a",
   "metadata": {},
   "source": [
    "# Dictionary"
   ]
  },
  {
   "cell_type": "raw",
   "id": "ed68f042",
   "metadata": {},
   "source": [
    "dict1 = {key1 : val1 , key2 : val2}\n",
    "1.It is a collection of key and value pair\n",
    "2.We cannot access items by using index\n",
    "3.Duplicates keys are not allowed but values can be duplicate\n",
    "4.Dictionaries are comma separated\n",
    "5.dict can be defined by {}\n",
    "\n",
    "ordered   ---> python version >=3.7\n",
    "unordered ---> python version < 3.7\n",
    "\n",
    "key   ---> Immutable data type(int,float,string,tuple,frozenset)\n",
    "value ---> All data type (int,float,string,list,tuple,set,frozenset,dict,etc....)"
   ]
  },
  {
   "cell_type": "code",
   "execution_count": 1,
   "id": "17bd2a8e",
   "metadata": {},
   "outputs": [],
   "source": [
    "# defining a dictionary"
   ]
  },
  {
   "cell_type": "code",
   "execution_count": 2,
   "id": "44c912f3",
   "metadata": {
    "scrolled": true
   },
   "outputs": [
    {
     "data": {
      "text/plain": [
       "dict"
      ]
     },
     "execution_count": 2,
     "metadata": {},
     "output_type": "execute_result"
    }
   ],
   "source": [
    "di1 = {}\n",
    "type(di1)"
   ]
  },
  {
   "cell_type": "code",
   "execution_count": 3,
   "id": "42a722fa",
   "metadata": {},
   "outputs": [
    {
     "data": {
      "text/plain": [
       "dict"
      ]
     },
     "execution_count": 3,
     "metadata": {},
     "output_type": "execute_result"
    }
   ],
   "source": [
    "di2 = dict()\n",
    "type(di2)"
   ]
  },
  {
   "cell_type": "code",
   "execution_count": 4,
   "id": "f67a17d4",
   "metadata": {},
   "outputs": [
    {
     "name": "stdout",
     "output_type": "stream",
     "text": [
      "{'key1': 'val1', 'key2': 'val2', 'key3': 'val3'}\n"
     ]
    }
   ],
   "source": [
    "di1 = {\"key1\" : \"val1\" , \"key2\" : \"val2\" , \"key3\" : \"val3\"}\n",
    "print(di1)"
   ]
  },
  {
   "cell_type": "raw",
   "id": "eb0074e0",
   "metadata": {},
   "source": [
    "int,float,string,tuple,frozenset ---> keys"
   ]
  },
  {
   "cell_type": "code",
   "execution_count": 5,
   "id": "c62bbbf7",
   "metadata": {},
   "outputs": [
    {
     "data": {
      "text/plain": [
       "{1: 'One', 1.5: 'One Point Five'}"
      ]
     },
     "execution_count": 5,
     "metadata": {},
     "output_type": "execute_result"
    }
   ],
   "source": [
    "di1 = {1 : \"One\" , 1.5 : \"One Point Five\"}\n",
    "di1"
   ]
  },
  {
   "cell_type": "code",
   "execution_count": 6,
   "id": "126d845d",
   "metadata": {},
   "outputs": [
    {
     "data": {
      "text/plain": [
       "{1: 'One', 1.5: 'One Point Five', 3: 'Three', (1, 2, 3): 'Its a tuple'}"
      ]
     },
     "execution_count": 6,
     "metadata": {},
     "output_type": "execute_result"
    }
   ],
   "source": [
    "di1 = {1 : \"One\" , 1.5 : \"One Point Five\", 3 : \"Three\" ,(1,2,3) : \"Its a tuple\"}\n",
    "di1"
   ]
  },
  {
   "cell_type": "code",
   "execution_count": 12,
   "id": "1118623e",
   "metadata": {},
   "outputs": [
    {
     "name": "stdout",
     "output_type": "stream",
     "text": [
      "{1: 'One', 1.5: 'One Point Five', 3: 'Three', (1, 2, 3): 'Its a tuple', frozenset({1, 2, 3}): 'It is a frozen set'}\n"
     ]
    }
   ],
   "source": [
    "di1 = {\n",
    "    1 : \"One\" ,\n",
    "    1.5 : \"One Point Five\",\n",
    "    3 : \"Three\" ,\n",
    "    (1,2,3) : \"Its a tuple\",\n",
    "    frozenset({1,2,3}) : \"It is a frozen set\"\n",
    "}\n",
    "print(di1)"
   ]
  },
  {
   "cell_type": "code",
   "execution_count": 13,
   "id": "f33e0138",
   "metadata": {},
   "outputs": [
    {
     "ename": "TypeError",
     "evalue": "unhashable type: 'list'",
     "output_type": "error",
     "traceback": [
      "\u001b[1;31m---------------------------------------------------------------------------\u001b[0m",
      "\u001b[1;31mTypeError\u001b[0m                                 Traceback (most recent call last)",
      "\u001b[1;32m~\\AppData\\Local\\Temp/ipykernel_11552/2969250644.py\u001b[0m in \u001b[0;36m<module>\u001b[1;34m\u001b[0m\n\u001b[1;32m----> 1\u001b[1;33m di1 = {\n\u001b[0m\u001b[0;32m      2\u001b[0m     \u001b[1;36m1\u001b[0m \u001b[1;33m:\u001b[0m \u001b[1;34m\"One\"\u001b[0m \u001b[1;33m,\u001b[0m\u001b[1;33m\u001b[0m\u001b[1;33m\u001b[0m\u001b[0m\n\u001b[0;32m      3\u001b[0m     \u001b[1;36m1.5\u001b[0m \u001b[1;33m:\u001b[0m \u001b[1;34m\"One Point Five\"\u001b[0m\u001b[1;33m,\u001b[0m\u001b[1;33m\u001b[0m\u001b[1;33m\u001b[0m\u001b[0m\n\u001b[0;32m      4\u001b[0m     \u001b[1;36m3\u001b[0m \u001b[1;33m:\u001b[0m \u001b[1;34m\"Three\"\u001b[0m \u001b[1;33m,\u001b[0m\u001b[1;33m\u001b[0m\u001b[1;33m\u001b[0m\u001b[0m\n\u001b[0;32m      5\u001b[0m     \u001b[1;33m[\u001b[0m\u001b[1;36m1\u001b[0m\u001b[1;33m,\u001b[0m\u001b[1;36m2\u001b[0m\u001b[1;33m,\u001b[0m\u001b[1;36m3\u001b[0m\u001b[1;33m]\u001b[0m \u001b[1;33m:\u001b[0m \u001b[1;34m\"It is a list\"\u001b[0m\u001b[1;33m,\u001b[0m\u001b[1;33m\u001b[0m\u001b[1;33m\u001b[0m\u001b[0m\n",
      "\u001b[1;31mTypeError\u001b[0m: unhashable type: 'list'"
     ]
    }
   ],
   "source": [
    "di1 = {\n",
    "    1 : \"One\" ,\n",
    "    1.5 : \"One Point Five\",\n",
    "    3 : \"Three\" ,\n",
    "    [1,2,3] : \"It is a list\",\n",
    "    frozenset({1,2,3}) : \"It is a frozen set\"\n",
    "}\n",
    "print(di1)"
   ]
  },
  {
   "cell_type": "code",
   "execution_count": 14,
   "id": "fbc93ee3",
   "metadata": {},
   "outputs": [
    {
     "ename": "TypeError",
     "evalue": "unhashable type: 'set'",
     "output_type": "error",
     "traceback": [
      "\u001b[1;31m---------------------------------------------------------------------------\u001b[0m",
      "\u001b[1;31mTypeError\u001b[0m                                 Traceback (most recent call last)",
      "\u001b[1;32m~\\AppData\\Local\\Temp/ipykernel_11552/2329336652.py\u001b[0m in \u001b[0;36m<module>\u001b[1;34m\u001b[0m\n\u001b[1;32m----> 1\u001b[1;33m di1 = {\n\u001b[0m\u001b[0;32m      2\u001b[0m     \u001b[1;36m1\u001b[0m \u001b[1;33m:\u001b[0m \u001b[1;34m\"One\"\u001b[0m \u001b[1;33m,\u001b[0m\u001b[1;33m\u001b[0m\u001b[1;33m\u001b[0m\u001b[0m\n\u001b[0;32m      3\u001b[0m     \u001b[1;36m1.5\u001b[0m \u001b[1;33m:\u001b[0m \u001b[1;34m\"One Point Five\"\u001b[0m\u001b[1;33m,\u001b[0m\u001b[1;33m\u001b[0m\u001b[1;33m\u001b[0m\u001b[0m\n\u001b[0;32m      4\u001b[0m     \u001b[1;36m3\u001b[0m \u001b[1;33m:\u001b[0m \u001b[1;34m\"Three\"\u001b[0m \u001b[1;33m,\u001b[0m\u001b[1;33m\u001b[0m\u001b[1;33m\u001b[0m\u001b[0m\n\u001b[0;32m      5\u001b[0m     \u001b[1;33m(\u001b[0m\u001b[1;36m1\u001b[0m\u001b[1;33m,\u001b[0m\u001b[1;36m2\u001b[0m\u001b[1;33m,\u001b[0m\u001b[1;36m3\u001b[0m\u001b[1;33m)\u001b[0m \u001b[1;33m:\u001b[0m \u001b[1;34m\"Its a tuple\"\u001b[0m\u001b[1;33m,\u001b[0m\u001b[1;33m\u001b[0m\u001b[1;33m\u001b[0m\u001b[0m\n",
      "\u001b[1;31mTypeError\u001b[0m: unhashable type: 'set'"
     ]
    }
   ],
   "source": [
    "di1 = {\n",
    "    1 : \"One\" ,\n",
    "    1.5 : \"One Point Five\",\n",
    "    3 : \"Three\" ,\n",
    "    (1,2,3) : \"Its a tuple\",\n",
    "    {1,2,3} : \"It is a set\"\n",
    "}\n",
    "print(di1)"
   ]
  },
  {
   "cell_type": "code",
   "execution_count": 16,
   "id": "94c626f5",
   "metadata": {},
   "outputs": [
    {
     "ename": "TypeError",
     "evalue": "unhashable type: 'dict'",
     "output_type": "error",
     "traceback": [
      "\u001b[1;31m---------------------------------------------------------------------------\u001b[0m",
      "\u001b[1;31mTypeError\u001b[0m                                 Traceback (most recent call last)",
      "\u001b[1;32m~\\AppData\\Local\\Temp/ipykernel_11552/2845413378.py\u001b[0m in \u001b[0;36m<module>\u001b[1;34m\u001b[0m\n\u001b[1;32m----> 1\u001b[1;33m di1 = {\n\u001b[0m\u001b[0;32m      2\u001b[0m     \u001b[1;36m1\u001b[0m \u001b[1;33m:\u001b[0m \u001b[1;34m\"One\"\u001b[0m \u001b[1;33m,\u001b[0m\u001b[1;33m\u001b[0m\u001b[1;33m\u001b[0m\u001b[0m\n\u001b[0;32m      3\u001b[0m     \u001b[1;36m1.5\u001b[0m \u001b[1;33m:\u001b[0m \u001b[1;34m\"One Point Five\"\u001b[0m\u001b[1;33m,\u001b[0m\u001b[1;33m\u001b[0m\u001b[1;33m\u001b[0m\u001b[0m\n\u001b[0;32m      4\u001b[0m     \u001b[1;36m3\u001b[0m \u001b[1;33m:\u001b[0m \u001b[1;34m\"Three\"\u001b[0m \u001b[1;33m,\u001b[0m\u001b[1;33m\u001b[0m\u001b[1;33m\u001b[0m\u001b[0m\n\u001b[0;32m      5\u001b[0m     \u001b[1;33m(\u001b[0m\u001b[1;36m1\u001b[0m\u001b[1;33m,\u001b[0m\u001b[1;36m2\u001b[0m\u001b[1;33m,\u001b[0m\u001b[1;36m3\u001b[0m\u001b[1;33m)\u001b[0m \u001b[1;33m:\u001b[0m \u001b[1;34m\"Its a tuple\"\u001b[0m\u001b[1;33m,\u001b[0m\u001b[1;33m\u001b[0m\u001b[1;33m\u001b[0m\u001b[0m\n",
      "\u001b[1;31mTypeError\u001b[0m: unhashable type: 'dict'"
     ]
    }
   ],
   "source": [
    "di1 = {\n",
    "    1 : \"One\" ,\n",
    "    1.5 : \"One Point Five\",\n",
    "    3 : \"Three\" ,\n",
    "    (1,2,3) : \"Its a tuple\",\n",
    "    frozenset({1,2,3}) : \"It is a frozen set\",\n",
    "    {1:10,2:20,3:30} : \"It is a dictionary\"\n",
    "}\n",
    "print(di1)"
   ]
  },
  {
   "cell_type": "raw",
   "id": "46dda060",
   "metadata": {},
   "source": [
    "int,float,str,list,tuple,set,frozenset,dict ---> Values"
   ]
  },
  {
   "cell_type": "code",
   "execution_count": 17,
   "id": "30242a14",
   "metadata": {},
   "outputs": [
    {
     "data": {
      "text/plain": [
       "{1: 1, 2: 2, 3: 3.3}"
      ]
     },
     "execution_count": 17,
     "metadata": {},
     "output_type": "execute_result"
    }
   ],
   "source": [
    "di1 = {1:1,2:2,3:3.3}\n",
    "di1"
   ]
  },
  {
   "cell_type": "code",
   "execution_count": 18,
   "id": "ce702d91",
   "metadata": {},
   "outputs": [
    {
     "data": {
      "text/plain": [
       "{1: 1, 2: 2.2, 'List': [1, 2, 3]}"
      ]
     },
     "execution_count": 18,
     "metadata": {},
     "output_type": "execute_result"
    }
   ],
   "source": [
    "di1 = {\n",
    "    1:1,\n",
    "    2:2.2,\n",
    "    \"List\" : [1,2,3]\n",
    "}\n",
    "di1"
   ]
  },
  {
   "cell_type": "code",
   "execution_count": 23,
   "id": "cf83cdeb",
   "metadata": {},
   "outputs": [
    {
     "data": {
      "text/plain": [
       "{1: 1,\n",
       " 2: 2.2,\n",
       " 'List': [1, 2, 3],\n",
       " 'Set': {1, 2, 3},\n",
       " 'dict': {1: 1, 2: 2, 5: 5},\n",
       " 'String': 'Python',\n",
       " 'frozenset': frozenset({1, 2, 3})}"
      ]
     },
     "execution_count": 23,
     "metadata": {},
     "output_type": "execute_result"
    }
   ],
   "source": [
    "di1 = {\n",
    "    1:1,\n",
    "    2:2.2,\n",
    "    \"List\" : [1,2,3],\n",
    "    \"Set\" : {1,2,3},\n",
    "    \"dict\" : {1:1,2:2,5:5},\n",
    "    \"String\" : \"Python\",\n",
    "    \"frozenset\" : frozenset([1,2,3])\n",
    "}\n",
    "di1"
   ]
  },
  {
   "cell_type": "code",
   "execution_count": 24,
   "id": "a3e828f1",
   "metadata": {},
   "outputs": [
    {
     "data": {
      "text/plain": [
       "{'F_name': 'Rakesh',\n",
       " 'L_name': 'Sharma',\n",
       " 'Age': 24,\n",
       " 'Marks': 96,\n",
       " 'Place': 'Mahrashtra'}"
      ]
     },
     "execution_count": 24,
     "metadata": {},
     "output_type": "execute_result"
    }
   ],
   "source": [
    "student_info = {\n",
    "    \"F_name\" : \"Rakesh\",\n",
    "    \"L_name\" : \"Sharma\",\n",
    "    \"Age\"    : 24,\n",
    "    \"Marks\"  : 96,\n",
    "    \"Place\"  : \"Mahrashtra\"\n",
    "}\n",
    "student_info"
   ]
  },
  {
   "cell_type": "code",
   "execution_count": 25,
   "id": "41f297e8",
   "metadata": {},
   "outputs": [
    {
     "data": {
      "text/plain": [
       "{'F_name': 'Sukesh',\n",
       " 'L_name': 'Sharma',\n",
       " 'Age': 24,\n",
       " 'Marks': 96,\n",
       " 'Place': 'Mahrashtra'}"
      ]
     },
     "execution_count": 25,
     "metadata": {},
     "output_type": "execute_result"
    }
   ],
   "source": [
    "student_info = {\n",
    "    \"F_name\" : \"Rakesh\",   # vanished\n",
    "    \"L_name\" : \"Sharma\",\n",
    "    \"Age\"    : 24,\n",
    "    \"Marks\"  : 96,\n",
    "    \"Place\"  : \"Mahrashtra\",\n",
    "    \"F_name\" : \"Sukesh\"\n",
    "}\n",
    "student_info"
   ]
  },
  {
   "cell_type": "markdown",
   "id": "77c9c5c9",
   "metadata": {},
   "source": [
    "## Access dictionary items\n",
    "- dict_name[Key_name]"
   ]
  },
  {
   "cell_type": "code",
   "execution_count": 26,
   "id": "2cc5a92a",
   "metadata": {},
   "outputs": [
    {
     "data": {
      "text/plain": [
       "{'F_name': 'Sukesh',\n",
       " 'L_name': 'Sharma',\n",
       " 'Age': 24,\n",
       " 'Marks': 96,\n",
       " 'Place': 'Mahrashtra'}"
      ]
     },
     "execution_count": 26,
     "metadata": {},
     "output_type": "execute_result"
    }
   ],
   "source": [
    "student_info"
   ]
  },
  {
   "cell_type": "code",
   "execution_count": 28,
   "id": "33f87b6d",
   "metadata": {},
   "outputs": [
    {
     "data": {
      "text/plain": [
       "'Sukesh'"
      ]
     },
     "execution_count": 28,
     "metadata": {},
     "output_type": "execute_result"
    }
   ],
   "source": [
    "student_info[\"F_name\"]"
   ]
  },
  {
   "cell_type": "code",
   "execution_count": 29,
   "id": "62756a57",
   "metadata": {},
   "outputs": [
    {
     "data": {
      "text/plain": [
       "'Sharma'"
      ]
     },
     "execution_count": 29,
     "metadata": {},
     "output_type": "execute_result"
    }
   ],
   "source": [
    "student_info[\"L_name\"]"
   ]
  },
  {
   "cell_type": "code",
   "execution_count": 30,
   "id": "7bd76a8e",
   "metadata": {},
   "outputs": [
    {
     "data": {
      "text/plain": [
       "24"
      ]
     },
     "execution_count": 30,
     "metadata": {},
     "output_type": "execute_result"
    }
   ],
   "source": [
    "student_info[\"Age\"]"
   ]
  },
  {
   "cell_type": "code",
   "execution_count": 31,
   "id": "231cd8e0",
   "metadata": {},
   "outputs": [
    {
     "data": {
      "text/plain": [
       "96"
      ]
     },
     "execution_count": 31,
     "metadata": {},
     "output_type": "execute_result"
    }
   ],
   "source": [
    "student_info[\"Marks\"]"
   ]
  },
  {
   "cell_type": "code",
   "execution_count": 32,
   "id": "9fea0343",
   "metadata": {},
   "outputs": [
    {
     "data": {
      "text/plain": [
       "'Mahrashtra'"
      ]
     },
     "execution_count": 32,
     "metadata": {},
     "output_type": "execute_result"
    }
   ],
   "source": [
    "student_info[\"Place\"]"
   ]
  },
  {
   "cell_type": "code",
   "execution_count": 33,
   "id": "3115d95e",
   "metadata": {},
   "outputs": [
    {
     "ename": "KeyError",
     "evalue": "'Name'",
     "output_type": "error",
     "traceback": [
      "\u001b[1;31m---------------------------------------------------------------------------\u001b[0m",
      "\u001b[1;31mKeyError\u001b[0m                                  Traceback (most recent call last)",
      "\u001b[1;32m~\\AppData\\Local\\Temp/ipykernel_11552/4087241836.py\u001b[0m in \u001b[0;36m<module>\u001b[1;34m\u001b[0m\n\u001b[1;32m----> 1\u001b[1;33m \u001b[0mstudent_info\u001b[0m\u001b[1;33m[\u001b[0m\u001b[1;34m\"Name\"\u001b[0m\u001b[1;33m]\u001b[0m\u001b[1;33m\u001b[0m\u001b[1;33m\u001b[0m\u001b[0m\n\u001b[0m",
      "\u001b[1;31mKeyError\u001b[0m: 'Name'"
     ]
    }
   ],
   "source": [
    "student_info[\"Name\"]"
   ]
  },
  {
   "cell_type": "markdown",
   "id": "ccd05114",
   "metadata": {},
   "source": [
    "# 1.get()"
   ]
  },
  {
   "cell_type": "code",
   "execution_count": 34,
   "id": "a9a4f907",
   "metadata": {
    "scrolled": true
   },
   "outputs": [
    {
     "data": {
      "text/plain": [
       "{'F_name': 'Sukesh',\n",
       " 'L_name': 'Sharma',\n",
       " 'Age': 24,\n",
       " 'Marks': 96,\n",
       " 'Place': 'Mahrashtra'}"
      ]
     },
     "execution_count": 34,
     "metadata": {},
     "output_type": "execute_result"
    }
   ],
   "source": [
    "student_info"
   ]
  },
  {
   "cell_type": "code",
   "execution_count": 35,
   "id": "5924019e",
   "metadata": {},
   "outputs": [
    {
     "data": {
      "text/plain": [
       "'Sukesh'"
      ]
     },
     "execution_count": 35,
     "metadata": {},
     "output_type": "execute_result"
    }
   ],
   "source": [
    "student_info.get(\"F_name\")"
   ]
  },
  {
   "cell_type": "code",
   "execution_count": 36,
   "id": "ecc26a46",
   "metadata": {},
   "outputs": [],
   "source": [
    "student_info.get(\"L_NAME\")  # L_NAME is not present in dict ----> no error"
   ]
  },
  {
   "cell_type": "code",
   "execution_count": 37,
   "id": "2d6c27de",
   "metadata": {},
   "outputs": [
    {
     "data": {
      "text/plain": [
       "'Mahrashtra'"
      ]
     },
     "execution_count": 37,
     "metadata": {},
     "output_type": "execute_result"
    }
   ],
   "source": [
    "student_info.get(\"Place\")"
   ]
  },
  {
   "cell_type": "markdown",
   "id": "246a22a1",
   "metadata": {},
   "source": [
    "# Accessing items by using loop"
   ]
  },
  {
   "cell_type": "code",
   "execution_count": 38,
   "id": "99365c41",
   "metadata": {},
   "outputs": [
    {
     "data": {
      "text/plain": [
       "{'F_name': 'Sukesh',\n",
       " 'L_name': 'Sharma',\n",
       " 'Age': 24,\n",
       " 'Marks': 96,\n",
       " 'Place': 'Mahrashtra'}"
      ]
     },
     "execution_count": 38,
     "metadata": {},
     "output_type": "execute_result"
    }
   ],
   "source": [
    "student_info"
   ]
  },
  {
   "cell_type": "code",
   "execution_count": 39,
   "id": "6121fac2",
   "metadata": {},
   "outputs": [
    {
     "data": {
      "text/plain": [
       "dict_keys(['F_name', 'L_name', 'Age', 'Marks', 'Place'])"
      ]
     },
     "execution_count": 39,
     "metadata": {},
     "output_type": "execute_result"
    }
   ],
   "source": [
    "student_info.keys()"
   ]
  },
  {
   "cell_type": "code",
   "execution_count": 40,
   "id": "5096f803",
   "metadata": {},
   "outputs": [
    {
     "data": {
      "text/plain": [
       "dict_values(['Sukesh', 'Sharma', 24, 96, 'Mahrashtra'])"
      ]
     },
     "execution_count": 40,
     "metadata": {},
     "output_type": "execute_result"
    }
   ],
   "source": [
    "student_info.values()"
   ]
  },
  {
   "cell_type": "code",
   "execution_count": 41,
   "id": "1625d0ad",
   "metadata": {},
   "outputs": [
    {
     "data": {
      "text/plain": [
       "dict_values"
      ]
     },
     "execution_count": 41,
     "metadata": {},
     "output_type": "execute_result"
    }
   ],
   "source": [
    "type(student_info.values())"
   ]
  },
  {
   "cell_type": "code",
   "execution_count": 43,
   "id": "1716171b",
   "metadata": {},
   "outputs": [
    {
     "data": {
      "text/plain": [
       "dict_items([('F_name', 'Sukesh'), ('L_name', 'Sharma'), ('Age', 24), ('Marks', 96), ('Place', 'Mahrashtra')])"
      ]
     },
     "execution_count": 43,
     "metadata": {},
     "output_type": "execute_result"
    }
   ],
   "source": [
    "student_info.items()"
   ]
  },
  {
   "cell_type": "code",
   "execution_count": 44,
   "id": "f82ab1de",
   "metadata": {},
   "outputs": [
    {
     "data": {
      "text/plain": [
       "dict_items"
      ]
     },
     "execution_count": 44,
     "metadata": {},
     "output_type": "execute_result"
    }
   ],
   "source": [
    "type(student_info.items())"
   ]
  },
  {
   "cell_type": "code",
   "execution_count": 45,
   "id": "2d8852e7",
   "metadata": {},
   "outputs": [
    {
     "data": {
      "text/plain": [
       "[(0, 'P'), (1, 't'), (2, 'h'), (3, 'o'), (4, 'n')]"
      ]
     },
     "execution_count": 45,
     "metadata": {},
     "output_type": "execute_result"
    }
   ],
   "source": [
    "list(enumerate(\"Pthon\"))"
   ]
  },
  {
   "cell_type": "code",
   "execution_count": 48,
   "id": "2469c8d7",
   "metadata": {},
   "outputs": [
    {
     "data": {
      "text/plain": [
       "[('F_name', 'Sukesh'),\n",
       " ('L_name', 'Sharma'),\n",
       " ('Age', 24),\n",
       " ('Marks', 96),\n",
       " ('Place', 'Mahrashtra')]"
      ]
     },
     "execution_count": 48,
     "metadata": {},
     "output_type": "execute_result"
    }
   ],
   "source": [
    "stud_list = [('F_name', 'Sukesh'),('L_name', 'Sharma'), ('Age', 24),('Marks', 96), ('Place', 'Mahrashtra')]\n",
    "stud_list"
   ]
  },
  {
   "cell_type": "code",
   "execution_count": 50,
   "id": "bd5494cf",
   "metadata": {},
   "outputs": [
    {
     "name": "stdout",
     "output_type": "stream",
     "text": [
      "('F_name', 'Sukesh') <class 'tuple'>\n",
      "('L_name', 'Sharma') <class 'tuple'>\n",
      "('Age', 24) <class 'tuple'>\n",
      "('Marks', 96) <class 'tuple'>\n",
      "('Place', 'Mahrashtra') <class 'tuple'>\n"
     ]
    }
   ],
   "source": [
    "for items in stud_list:\n",
    "    print(items,type(items))"
   ]
  },
  {
   "cell_type": "code",
   "execution_count": 53,
   "id": "68c47afa",
   "metadata": {},
   "outputs": [
    {
     "data": {
      "text/plain": [
       "10"
      ]
     },
     "execution_count": 53,
     "metadata": {},
     "output_type": "execute_result"
    }
   ],
   "source": [
    "a,b = 10,20\n",
    "a"
   ]
  },
  {
   "cell_type": "code",
   "execution_count": 54,
   "id": "2147b1ca",
   "metadata": {},
   "outputs": [
    {
     "data": {
      "text/plain": [
       "20"
      ]
     },
     "execution_count": 54,
     "metadata": {},
     "output_type": "execute_result"
    }
   ],
   "source": [
    "b"
   ]
  },
  {
   "cell_type": "code",
   "execution_count": 55,
   "id": "23ed05ea",
   "metadata": {},
   "outputs": [
    {
     "name": "stdout",
     "output_type": "stream",
     "text": [
      "F_name Sukesh\n",
      "L_name Sharma\n",
      "Age 24\n",
      "Marks 96\n",
      "Place Mahrashtra\n"
     ]
    }
   ],
   "source": [
    "for a,b in stud_list:\n",
    "    print(a,b)"
   ]
  },
  {
   "cell_type": "code",
   "execution_count": 56,
   "id": "d3142243",
   "metadata": {},
   "outputs": [
    {
     "name": "stdout",
     "output_type": "stream",
     "text": [
      "Key ----> F_name ::::: Value ----> Sukesh\n",
      "Key ----> L_name ::::: Value ----> Sharma\n",
      "Key ----> Age ::::: Value ----> 24\n",
      "Key ----> Marks ::::: Value ----> 96\n",
      "Key ----> Place ::::: Value ----> Mahrashtra\n"
     ]
    }
   ],
   "source": [
    "for key,value in stud_list:\n",
    "    print(f\"Key ----> {key} ::::: Value ----> {value}\")"
   ]
  },
  {
   "cell_type": "markdown",
   "id": "a7d900f5",
   "metadata": {},
   "source": [
    "# Access keys and values from dict"
   ]
  },
  {
   "cell_type": "code",
   "execution_count": 57,
   "id": "a487d910",
   "metadata": {
    "scrolled": true
   },
   "outputs": [
    {
     "name": "stdout",
     "output_type": "stream",
     "text": [
      "Key ----> F_name ::::: Value ----> Sukesh\n",
      "Key ----> L_name ::::: Value ----> Sharma\n",
      "Key ----> Age ::::: Value ----> 24\n",
      "Key ----> Marks ::::: Value ----> 96\n",
      "Key ----> Place ::::: Value ----> Mahrashtra\n"
     ]
    }
   ],
   "source": [
    "for key,val in student_info.items():\n",
    "    print(f\"Key ----> {key} ::::: Value ----> {val}\")"
   ]
  },
  {
   "cell_type": "markdown",
   "id": "065c4ffc",
   "metadata": {},
   "source": [
    "# Access keys from dict"
   ]
  },
  {
   "cell_type": "code",
   "execution_count": 59,
   "id": "bad8bebd",
   "metadata": {},
   "outputs": [
    {
     "name": "stdout",
     "output_type": "stream",
     "text": [
      "Key ----> F_name\n",
      "Key ----> L_name\n",
      "Key ----> Age\n",
      "Key ----> Marks\n",
      "Key ----> Place\n"
     ]
    }
   ],
   "source": [
    "for key in student_info.keys():\n",
    "    print(f\"Key ----> {key}\")"
   ]
  },
  {
   "cell_type": "code",
   "execution_count": 60,
   "id": "9521b5aa",
   "metadata": {},
   "outputs": [
    {
     "name": "stdout",
     "output_type": "stream",
     "text": [
      "F_name\n",
      "L_name\n",
      "Age\n",
      "Marks\n",
      "Place\n"
     ]
    }
   ],
   "source": [
    "for i in student_info:\n",
    "    print(i)"
   ]
  },
  {
   "cell_type": "markdown",
   "id": "5facc025",
   "metadata": {},
   "source": [
    "# Access values from a dict"
   ]
  },
  {
   "cell_type": "code",
   "execution_count": 61,
   "id": "a45e7b93",
   "metadata": {
    "scrolled": true
   },
   "outputs": [
    {
     "name": "stdout",
     "output_type": "stream",
     "text": [
      "Value ----> Sukesh\n",
      "Value ----> Sharma\n",
      "Value ----> 24\n",
      "Value ----> 96\n",
      "Value ----> Mahrashtra\n"
     ]
    }
   ],
   "source": [
    "for val in student_info.values():\n",
    "    print(f\"Value ----> {val}\")"
   ]
  },
  {
   "cell_type": "markdown",
   "id": "289ce390",
   "metadata": {},
   "source": [
    "# Adding items to dict"
   ]
  },
  {
   "cell_type": "code",
   "execution_count": 62,
   "id": "dd130164",
   "metadata": {},
   "outputs": [
    {
     "data": {
      "text/plain": [
       "{'F_name': 'Sukesh',\n",
       " 'L_name': 'Sharma',\n",
       " 'Age': 24,\n",
       " 'Marks': 96,\n",
       " 'Place': 'Mahrashtra'}"
      ]
     },
     "execution_count": 62,
     "metadata": {},
     "output_type": "execute_result"
    }
   ],
   "source": [
    "student_info"
   ]
  },
  {
   "cell_type": "code",
   "execution_count": 63,
   "id": "31f0601d",
   "metadata": {},
   "outputs": [],
   "source": [
    "student_info[\"Sub_list\"] = [\"Phy\",\"Math\",\"Chem\"]"
   ]
  },
  {
   "cell_type": "code",
   "execution_count": 64,
   "id": "ede9dbd9",
   "metadata": {},
   "outputs": [
    {
     "data": {
      "text/plain": [
       "{'F_name': 'Sukesh',\n",
       " 'L_name': 'Sharma',\n",
       " 'Age': 24,\n",
       " 'Marks': 96,\n",
       " 'Place': 'Mahrashtra',\n",
       " 'Sub_list': ['Phy', 'Math', 'Chem']}"
      ]
     },
     "execution_count": 64,
     "metadata": {},
     "output_type": "execute_result"
    }
   ],
   "source": [
    "student_info"
   ]
  },
  {
   "cell_type": "code",
   "execution_count": 65,
   "id": "ab2ed7bb",
   "metadata": {},
   "outputs": [],
   "source": [
    "student_info[\"Placement\"] = \"Not placed yet\"\n",
    "student_info[\"Status\"] = \"Not Married\"\n",
    "student_info[\"Siblings\"] = \"Yes\""
   ]
  },
  {
   "cell_type": "code",
   "execution_count": 66,
   "id": "33ece16c",
   "metadata": {
    "scrolled": true
   },
   "outputs": [
    {
     "data": {
      "text/plain": [
       "{'F_name': 'Sukesh',\n",
       " 'L_name': 'Sharma',\n",
       " 'Age': 24,\n",
       " 'Marks': 96,\n",
       " 'Place': 'Mahrashtra',\n",
       " 'Sub_list': ['Phy', 'Math', 'Chem'],\n",
       " 'Placement': 'Not placed yet',\n",
       " 'Status': 'Not Married',\n",
       " 'Siblings': 'Yes'}"
      ]
     },
     "execution_count": 66,
     "metadata": {},
     "output_type": "execute_result"
    }
   ],
   "source": [
    "student_info"
   ]
  },
  {
   "cell_type": "code",
   "execution_count": 67,
   "id": "88bcb2a5",
   "metadata": {},
   "outputs": [],
   "source": [
    "student_info[\"F_name\"] = \"Rakesh\""
   ]
  },
  {
   "cell_type": "code",
   "execution_count": 68,
   "id": "fc5a5986",
   "metadata": {},
   "outputs": [
    {
     "data": {
      "text/plain": [
       "{'F_name': 'Rakesh',\n",
       " 'L_name': 'Sharma',\n",
       " 'Age': 24,\n",
       " 'Marks': 96,\n",
       " 'Place': 'Mahrashtra',\n",
       " 'Sub_list': ['Phy', 'Math', 'Chem'],\n",
       " 'Placement': 'Not placed yet',\n",
       " 'Status': 'Not Married',\n",
       " 'Siblings': 'Yes'}"
      ]
     },
     "execution_count": 68,
     "metadata": {},
     "output_type": "execute_result"
    }
   ],
   "source": [
    "student_info"
   ]
  },
  {
   "cell_type": "code",
   "execution_count": 72,
   "id": "690c619f",
   "metadata": {},
   "outputs": [
    {
     "data": {
      "text/plain": [
       "{'Nothing': [501, 502, 503, 504, 505]}"
      ]
     },
     "execution_count": 72,
     "metadata": {},
     "output_type": "execute_result"
    }
   ],
   "source": [
    "def demo(li):\n",
    "    new_li = [i+500 for i in li]\n",
    "    return new_li\n",
    "li = [1,2,3,4,5]\n",
    "di = {\"Nothing\" : demo(li)}\n",
    "di"
   ]
  },
  {
   "cell_type": "markdown",
   "id": "29c73911",
   "metadata": {},
   "source": [
    "# update()"
   ]
  },
  {
   "cell_type": "code",
   "execution_count": 74,
   "id": "24fac168",
   "metadata": {},
   "outputs": [
    {
     "data": {
      "text/plain": [
       "{'F_name': 'Rakesh',\n",
       " 'L_name': 'Sharma',\n",
       " 'Age': 24,\n",
       " 'Marks': 96,\n",
       " 'Place': 'Mahrashtra'}"
      ]
     },
     "execution_count": 74,
     "metadata": {},
     "output_type": "execute_result"
    }
   ],
   "source": [
    "student_info = {\n",
    "    'F_name': 'Rakesh',\n",
    "    'L_name': 'Sharma',\n",
    "    'Age': 24,\n",
    "    'Marks': 96,\n",
    "    'Place': 'Mahrashtra'\n",
    "}\n",
    "student_info"
   ]
  },
  {
   "cell_type": "code",
   "execution_count": 75,
   "id": "a157bcbd",
   "metadata": {},
   "outputs": [],
   "source": [
    "new_info = {\n",
    "    \"Placement_status\" : \"Placement_status\",\n",
    "    \"Status\" : \"Not Married\",\n",
    "    \"Siblings\" : \"Yes\",\n",
    "    \"Ready to relocate ?\" : \"Pune\"\n",
    "}"
   ]
  },
  {
   "cell_type": "code",
   "execution_count": 76,
   "id": "0e4578ce",
   "metadata": {},
   "outputs": [],
   "source": [
    "student_info.update(new_info)"
   ]
  },
  {
   "cell_type": "code",
   "execution_count": 77,
   "id": "2da5bb5b",
   "metadata": {},
   "outputs": [
    {
     "data": {
      "text/plain": [
       "{'F_name': 'Rakesh',\n",
       " 'L_name': 'Sharma',\n",
       " 'Age': 24,\n",
       " 'Marks': 96,\n",
       " 'Place': 'Mahrashtra',\n",
       " 'Placement_status': 'Placement_status',\n",
       " 'Status': 'Not Married',\n",
       " 'Siblings': 'Yes',\n",
       " 'Ready to relocate ?': 'Pune'}"
      ]
     },
     "execution_count": 77,
     "metadata": {},
     "output_type": "execute_result"
    }
   ],
   "source": [
    "student_info"
   ]
  },
  {
   "cell_type": "code",
   "execution_count": 79,
   "id": "5be75d7b",
   "metadata": {},
   "outputs": [],
   "source": [
    "di1 = {}\n",
    "di1.update(new_info)"
   ]
  },
  {
   "cell_type": "code",
   "execution_count": 80,
   "id": "d386013c",
   "metadata": {},
   "outputs": [
    {
     "data": {
      "text/plain": [
       "{'Placement_status': 'Placement_status',\n",
       " 'Status': 'Not Married',\n",
       " 'Siblings': 'Yes',\n",
       " 'Ready to relocate ?': 'Pune'}"
      ]
     },
     "execution_count": 80,
     "metadata": {},
     "output_type": "execute_result"
    }
   ],
   "source": [
    "di1"
   ]
  },
  {
   "cell_type": "code",
   "execution_count": 81,
   "id": "9d7e8c46",
   "metadata": {},
   "outputs": [],
   "source": [
    "di1.update(student_info)"
   ]
  },
  {
   "cell_type": "code",
   "execution_count": 82,
   "id": "551c5a28",
   "metadata": {},
   "outputs": [
    {
     "data": {
      "text/plain": [
       "{'Placement_status': 'Placement_status',\n",
       " 'Status': 'Not Married',\n",
       " 'Siblings': 'Yes',\n",
       " 'Ready to relocate ?': 'Pune',\n",
       " 'F_name': 'Rakesh',\n",
       " 'L_name': 'Sharma',\n",
       " 'Age': 24,\n",
       " 'Marks': 96,\n",
       " 'Place': 'Mahrashtra'}"
      ]
     },
     "execution_count": 82,
     "metadata": {},
     "output_type": "execute_result"
    }
   ],
   "source": [
    "di1"
   ]
  },
  {
   "cell_type": "markdown",
   "id": "3e1fb714",
   "metadata": {},
   "source": [
    "# Square of 1st 10 numbers"
   ]
  },
  {
   "cell_type": "code",
   "execution_count": 2,
   "id": "bf4d5577",
   "metadata": {},
   "outputs": [
    {
     "name": "stdout",
     "output_type": "stream",
     "text": [
      "{1: 1}\n",
      "{1: 1, 2: 4}\n",
      "{1: 1, 2: 4, 3: 9}\n",
      "{1: 1, 2: 4, 3: 9, 4: 16}\n",
      "{1: 1, 2: 4, 3: 9, 4: 16, 5: 25}\n",
      "{1: 1, 2: 4, 3: 9, 4: 16, 5: 25, 6: 36}\n",
      "{1: 1, 2: 4, 3: 9, 4: 16, 5: 25, 6: 36, 7: 49}\n",
      "{1: 1, 2: 4, 3: 9, 4: 16, 5: 25, 6: 36, 7: 49, 8: 64}\n",
      "{1: 1, 2: 4, 3: 9, 4: 16, 5: 25, 6: 36, 7: 49, 8: 64, 9: 81}\n",
      "{1: 1, 2: 4, 3: 9, 4: 16, 5: 25, 6: 36, 7: 49, 8: 64, 9: 81, 10: 100}\n"
     ]
    }
   ],
   "source": [
    "square_dict = {}\n",
    "for i in range(1,11):\n",
    "    square_dict[i] = i**2\n",
    "    print(square_dict)"
   ]
  },
  {
   "cell_type": "code",
   "execution_count": 86,
   "id": "beda6551",
   "metadata": {},
   "outputs": [
    {
     "name": "stdout",
     "output_type": "stream",
     "text": [
      "{1: 1, 2: 4, 3: 9, 4: 16, 5: 25, 6: 36, 7: 49, 8: 64, 9: 81, 10: 100}\n"
     ]
    }
   ],
   "source": [
    "square_dict = {}\n",
    "for i in range(1,11):\n",
    "    square_dict[i] = i**2\n",
    "print(square_dict)"
   ]
  },
  {
   "cell_type": "markdown",
   "id": "ad932fdd",
   "metadata": {},
   "source": [
    "# ASCII values for alphabets"
   ]
  },
  {
   "cell_type": "code",
   "execution_count": null,
   "id": "e491f244",
   "metadata": {},
   "outputs": [],
   "source": [
    "{'a': 97,'b':98,'z' :122}\n",
    "{'A': 65,'B':66,'Z' :90}"
   ]
  },
  {
   "cell_type": "code",
   "execution_count": 1,
   "id": "c6e0dc70",
   "metadata": {},
   "outputs": [
    {
     "name": "stdout",
     "output_type": "stream",
     "text": [
      "{65: 'A', 66: 'B', 67: 'C', 68: 'D', 69: 'E', 70: 'F', 71: 'G', 72: 'H', 73: 'I', 74: 'J', 75: 'K', 76: 'L', 77: 'M', 78: 'N', 79: 'O', 80: 'P', 81: 'Q', 82: 'R', 83: 'S', 84: 'T', 85: 'U', 86: 'V', 87: 'W', 88: 'X', 89: 'Y', 90: 'Z'}\n"
     ]
    }
   ],
   "source": [
    "num = 65\n",
    "alpha_dict = {}\n",
    "for i in range(65,91):\n",
    "    alpha_dict[i] = chr(num)\n",
    "    num+=1\n",
    "print(alpha_dict)"
   ]
  },
  {
   "cell_type": "code",
   "execution_count": 92,
   "id": "c5fd1781",
   "metadata": {},
   "outputs": [
    {
     "name": "stdout",
     "output_type": "stream",
     "text": [
      "{65: 'A', 66: 'B', 67: 'C', 68: 'D', 69: 'E', 70: 'F', 71: 'G', 72: 'H', 73: 'I', 74: 'J', 75: 'K', 76: 'L', 77: 'M', 78: 'N', 79: 'O', 80: 'P', 81: 'Q', 82: 'R', 83: 'S', 84: 'T', 85: 'U', 86: 'V', 87: 'W', 88: 'X', 89: 'Y', 90: 'Z'}\n"
     ]
    }
   ],
   "source": [
    "num = 65\n",
    "alpha_dict = {}\n",
    "for i in range(65,91):\n",
    "    alpha_dict[i] = chr(num)\n",
    "    num+=1\n",
    "print(alpha_dict)"
   ]
  },
  {
   "cell_type": "code",
   "execution_count": 93,
   "id": "24fd1ad8",
   "metadata": {},
   "outputs": [
    {
     "name": "stdout",
     "output_type": "stream",
     "text": [
      "{97: 'a'}\n",
      "{97: 'a', 98: 'b'}\n",
      "{97: 'a', 98: 'b', 99: 'c'}\n",
      "{97: 'a', 98: 'b', 99: 'c', 100: 'd'}\n",
      "{97: 'a', 98: 'b', 99: 'c', 100: 'd', 101: 'e'}\n",
      "{97: 'a', 98: 'b', 99: 'c', 100: 'd', 101: 'e', 102: 'f'}\n",
      "{97: 'a', 98: 'b', 99: 'c', 100: 'd', 101: 'e', 102: 'f', 103: 'g'}\n",
      "{97: 'a', 98: 'b', 99: 'c', 100: 'd', 101: 'e', 102: 'f', 103: 'g', 104: 'h'}\n",
      "{97: 'a', 98: 'b', 99: 'c', 100: 'd', 101: 'e', 102: 'f', 103: 'g', 104: 'h', 105: 'i'}\n",
      "{97: 'a', 98: 'b', 99: 'c', 100: 'd', 101: 'e', 102: 'f', 103: 'g', 104: 'h', 105: 'i', 106: 'j'}\n",
      "{97: 'a', 98: 'b', 99: 'c', 100: 'd', 101: 'e', 102: 'f', 103: 'g', 104: 'h', 105: 'i', 106: 'j', 107: 'k'}\n",
      "{97: 'a', 98: 'b', 99: 'c', 100: 'd', 101: 'e', 102: 'f', 103: 'g', 104: 'h', 105: 'i', 106: 'j', 107: 'k', 108: 'l'}\n",
      "{97: 'a', 98: 'b', 99: 'c', 100: 'd', 101: 'e', 102: 'f', 103: 'g', 104: 'h', 105: 'i', 106: 'j', 107: 'k', 108: 'l', 109: 'm'}\n",
      "{97: 'a', 98: 'b', 99: 'c', 100: 'd', 101: 'e', 102: 'f', 103: 'g', 104: 'h', 105: 'i', 106: 'j', 107: 'k', 108: 'l', 109: 'm', 110: 'n'}\n",
      "{97: 'a', 98: 'b', 99: 'c', 100: 'd', 101: 'e', 102: 'f', 103: 'g', 104: 'h', 105: 'i', 106: 'j', 107: 'k', 108: 'l', 109: 'm', 110: 'n', 111: 'o'}\n",
      "{97: 'a', 98: 'b', 99: 'c', 100: 'd', 101: 'e', 102: 'f', 103: 'g', 104: 'h', 105: 'i', 106: 'j', 107: 'k', 108: 'l', 109: 'm', 110: 'n', 111: 'o', 112: 'p'}\n",
      "{97: 'a', 98: 'b', 99: 'c', 100: 'd', 101: 'e', 102: 'f', 103: 'g', 104: 'h', 105: 'i', 106: 'j', 107: 'k', 108: 'l', 109: 'm', 110: 'n', 111: 'o', 112: 'p', 113: 'q'}\n",
      "{97: 'a', 98: 'b', 99: 'c', 100: 'd', 101: 'e', 102: 'f', 103: 'g', 104: 'h', 105: 'i', 106: 'j', 107: 'k', 108: 'l', 109: 'm', 110: 'n', 111: 'o', 112: 'p', 113: 'q', 114: 'r'}\n",
      "{97: 'a', 98: 'b', 99: 'c', 100: 'd', 101: 'e', 102: 'f', 103: 'g', 104: 'h', 105: 'i', 106: 'j', 107: 'k', 108: 'l', 109: 'm', 110: 'n', 111: 'o', 112: 'p', 113: 'q', 114: 'r', 115: 's'}\n",
      "{97: 'a', 98: 'b', 99: 'c', 100: 'd', 101: 'e', 102: 'f', 103: 'g', 104: 'h', 105: 'i', 106: 'j', 107: 'k', 108: 'l', 109: 'm', 110: 'n', 111: 'o', 112: 'p', 113: 'q', 114: 'r', 115: 's', 116: 't'}\n",
      "{97: 'a', 98: 'b', 99: 'c', 100: 'd', 101: 'e', 102: 'f', 103: 'g', 104: 'h', 105: 'i', 106: 'j', 107: 'k', 108: 'l', 109: 'm', 110: 'n', 111: 'o', 112: 'p', 113: 'q', 114: 'r', 115: 's', 116: 't', 117: 'u'}\n",
      "{97: 'a', 98: 'b', 99: 'c', 100: 'd', 101: 'e', 102: 'f', 103: 'g', 104: 'h', 105: 'i', 106: 'j', 107: 'k', 108: 'l', 109: 'm', 110: 'n', 111: 'o', 112: 'p', 113: 'q', 114: 'r', 115: 's', 116: 't', 117: 'u', 118: 'v'}\n",
      "{97: 'a', 98: 'b', 99: 'c', 100: 'd', 101: 'e', 102: 'f', 103: 'g', 104: 'h', 105: 'i', 106: 'j', 107: 'k', 108: 'l', 109: 'm', 110: 'n', 111: 'o', 112: 'p', 113: 'q', 114: 'r', 115: 's', 116: 't', 117: 'u', 118: 'v', 119: 'w'}\n",
      "{97: 'a', 98: 'b', 99: 'c', 100: 'd', 101: 'e', 102: 'f', 103: 'g', 104: 'h', 105: 'i', 106: 'j', 107: 'k', 108: 'l', 109: 'm', 110: 'n', 111: 'o', 112: 'p', 113: 'q', 114: 'r', 115: 's', 116: 't', 117: 'u', 118: 'v', 119: 'w', 120: 'x'}\n",
      "{97: 'a', 98: 'b', 99: 'c', 100: 'd', 101: 'e', 102: 'f', 103: 'g', 104: 'h', 105: 'i', 106: 'j', 107: 'k', 108: 'l', 109: 'm', 110: 'n', 111: 'o', 112: 'p', 113: 'q', 114: 'r', 115: 's', 116: 't', 117: 'u', 118: 'v', 119: 'w', 120: 'x', 121: 'y'}\n",
      "{97: 'a', 98: 'b', 99: 'c', 100: 'd', 101: 'e', 102: 'f', 103: 'g', 104: 'h', 105: 'i', 106: 'j', 107: 'k', 108: 'l', 109: 'm', 110: 'n', 111: 'o', 112: 'p', 113: 'q', 114: 'r', 115: 's', 116: 't', 117: 'u', 118: 'v', 119: 'w', 120: 'x', 121: 'y', 122: 'z'}\n"
     ]
    }
   ],
   "source": [
    "num = 97\n",
    "alpha_dict = {}\n",
    "for i in range(97,123):\n",
    "    alpha_dict[i] = chr(num)\n",
    "    num+=1\n",
    "    print(alpha_dict)"
   ]
  },
  {
   "cell_type": "code",
   "execution_count": 94,
   "id": "efe71489",
   "metadata": {},
   "outputs": [
    {
     "name": "stdout",
     "output_type": "stream",
     "text": [
      "{97: 'a', 98: 'b', 99: 'c', 100: 'd', 101: 'e', 102: 'f', 103: 'g', 104: 'h', 105: 'i', 106: 'j', 107: 'k', 108: 'l', 109: 'm', 110: 'n', 111: 'o', 112: 'p', 113: 'q', 114: 'r', 115: 's', 116: 't', 117: 'u', 118: 'v', 119: 'w', 120: 'x', 121: 'y', 122: 'z'}\n"
     ]
    }
   ],
   "source": [
    "num = 97\n",
    "alpha_dict = {}\n",
    "for i in range(97,123):\n",
    "    alpha_dict[i] = chr(num)\n",
    "    num+=1\n",
    "print(alpha_dict)"
   ]
  }
 ],
 "metadata": {
  "kernelspec": {
   "display_name": "Python 3 (ipykernel)",
   "language": "python",
   "name": "python3"
  },
  "language_info": {
   "codemirror_mode": {
    "name": "ipython",
    "version": 3
   },
   "file_extension": ".py",
   "mimetype": "text/x-python",
   "name": "python",
   "nbconvert_exporter": "python",
   "pygments_lexer": "ipython3",
   "version": "3.12.4"
  }
 },
 "nbformat": 4,
 "nbformat_minor": 5
}
