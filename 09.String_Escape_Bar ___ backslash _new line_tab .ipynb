{
 "cells": [
  {
   "cell_type": "markdown",
   "id": "7d9402ef",
   "metadata": {},
   "source": [
    "# String_escape_char\n",
    "### 1.Backslash >>>> ( \\ )\n",
    "- Backslash()=used as escape char"
   ]
  },
  {
   "cell_type": "code",
   "execution_count": 3,
   "id": "6b705d28",
   "metadata": {},
   "outputs": [
    {
     "name": "stdout",
     "output_type": "stream",
     "text": [
      "The String = Data Science\n",
      "The type = <class 'str'>\n"
     ]
    }
   ],
   "source": [
    "str1 = \"Data Science\"\n",
    "print(f\"The String = {str1}\")\n",
    "print(f\"The type = {type(str1)}\")"
   ]
  },
  {
   "cell_type": "code",
   "execution_count": 5,
   "id": "5b0cf573",
   "metadata": {},
   "outputs": [
    {
     "name": "stdout",
     "output_type": "stream",
     "text": [
      "The String = Pythons\n"
     ]
    }
   ],
   "source": [
    "str1 = 'Pythons'\n",
    "print(f\"The String = {str1}\")"
   ]
  },
  {
   "cell_type": "code",
   "execution_count": 7,
   "id": "ccb13a45",
   "metadata": {},
   "outputs": [
    {
     "ename": "SyntaxError",
     "evalue": "invalid syntax (Temp/ipykernel_12408/1552678716.py, line 1)",
     "output_type": "error",
     "traceback": [
      "\u001b[1;36m  File \u001b[1;32m\"C:\\Users\\Mohit\\AppData\\Local\\Temp/ipykernel_12408/1552678716.py\"\u001b[1;36m, line \u001b[1;32m1\u001b[0m\n\u001b[1;33m    str1 = 'Python's'\u001b[0m\n\u001b[1;37m                   ^\u001b[0m\n\u001b[1;31mSyntaxError\u001b[0m\u001b[1;31m:\u001b[0m invalid syntax\n"
     ]
    }
   ],
   "source": [
    "str1 = 'Python's'\n",
    "print(f\"The String = {str1}\")"
   ]
  },
  {
   "cell_type": "code",
   "execution_count": 11,
   "id": "beb54a2b",
   "metadata": {},
   "outputs": [
    {
     "name": "stdout",
     "output_type": "stream",
     "text": [
      "The String = Python's\n"
     ]
    }
   ],
   "source": [
    "str1 = 'Python\\'s'\n",
    "print(f\"The String = {str1}\")"
   ]
  },
  {
   "cell_type": "code",
   "execution_count": 14,
   "id": "878486ba",
   "metadata": {},
   "outputs": [
    {
     "name": "stdout",
     "output_type": "stream",
     "text": [
      "The string = Python 1st day\n"
     ]
    }
   ],
   "source": [
    "str1 = \"Python 1st day\"\n",
    "print(f\"The string = {str1}\")"
   ]
  },
  {
   "cell_type": "code",
   "execution_count": 15,
   "id": "7dde9850",
   "metadata": {},
   "outputs": [
    {
     "name": "stdout",
     "output_type": "stream",
     "text": [
      "The string = Python 1\"st day\n"
     ]
    }
   ],
   "source": [
    "str1 = \"Python 1\\\"st day\"\n",
    "print(f\"The string = {str1}\")"
   ]
  },
  {
   "cell_type": "code",
   "execution_count": 16,
   "id": "b48d97af",
   "metadata": {},
   "outputs": [
    {
     "name": "stdout",
     "output_type": "stream",
     "text": [
      "The string = Python and Data science\n"
     ]
    }
   ],
   "source": [
    "str1 = \"Python and Data science\"\n",
    "print(f\"The string = {str1}\")"
   ]
  },
  {
   "cell_type": "code",
   "execution_count": 19,
   "id": "2483716f",
   "metadata": {},
   "outputs": [
    {
     "name": "stdout",
     "output_type": "stream",
     "text": [
      "The string = Python and \"Data science\"\n"
     ]
    }
   ],
   "source": [
    "str1 = \"Python and \\\"Data science\\\"\"\n",
    "print(f\"The string = {str1}\")"
   ]
  },
  {
   "cell_type": "markdown",
   "id": "50b0522b",
   "metadata": {},
   "source": [
    "## 2. \\n = New Line\n",
    "- \\n used for new line"
   ]
  },
  {
   "cell_type": "code",
   "execution_count": 2,
   "id": "715080a6",
   "metadata": {},
   "outputs": [
    {
     "name": "stdout",
     "output_type": "stream",
     "text": [
      "Machine Learning = Machine learning (ML) is a field of inquiry devoted to understanding and building methods that 'learn', that is, methods that leverage data to improve performance on some set of tasks\n"
     ]
    }
   ],
   "source": [
    "x = \"Machine learning (ML) is a field of inquiry devoted to understanding and building methods that 'learn', that is, methods that leverage data to improve performance on some set of tasks\"\n",
    "print(\"Machine Learning = {}\".format(x))"
   ]
  },
  {
   "cell_type": "code",
   "execution_count": 2,
   "id": "412f9de8",
   "metadata": {},
   "outputs": [
    {
     "name": "stdout",
     "output_type": "stream",
     "text": [
      "Machine learning = Machine learning (ML) \n",
      "is a field of inquiry devoted to understanding\n"
     ]
    }
   ],
   "source": [
    "x = \"Machine learning (ML) \\nis a field of inquiry devoted to understanding\"\n",
    "print(\"Machine learning = {}\".format(x))"
   ]
  },
  {
   "cell_type": "code",
   "execution_count": 4,
   "id": "7444b56e",
   "metadata": {},
   "outputs": [
    {
     "name": "stdout",
     "output_type": "stream",
     "text": [
      "Machine learning = Machine learning (ML) \n",
      "is \n",
      "a field of inquiry devoted to understanding\n"
     ]
    }
   ],
   "source": [
    "x = \"Machine learning (ML) \\nis \\na field of inquiry devoted to understanding\"\n",
    "print(\"Machine learning = {}\".format(x))"
   ]
  },
  {
   "cell_type": "code",
   "execution_count": 6,
   "id": "672cada3",
   "metadata": {},
   "outputs": [
    {
     "name": "stdout",
     "output_type": "stream",
     "text": [
      "Machine learning = Machine learning (ML) \n",
      "is \n",
      "a \n",
      "field of inquiry devoted to understanding\n"
     ]
    }
   ],
   "source": [
    "x = \"Machine learning (ML) \\nis \\na \\nfield of inquiry devoted to understanding\"\n",
    "print(\"Machine learning = {}\".format(x))"
   ]
  },
  {
   "cell_type": "code",
   "execution_count": 13,
   "id": "c75adb52",
   "metadata": {},
   "outputs": [
    {
     "name": "stdout",
     "output_type": "stream",
     "text": [
      "Machine learning (ML)   ------\n",
      "----- is a Field\n"
     ]
    }
   ],
   "source": [
    "a = \"Machine learning (ML)   ------\\n----- is a Field\"\n",
    "print(\"a = {}\".format(a))"
   ]
  },
  {
   "cell_type": "code",
   "execution_count": 14,
   "id": "cbdb3af7",
   "metadata": {},
   "outputs": [
    {
     "name": "stdout",
     "output_type": "stream",
     "text": [
      "\n",
      "\n",
      "\n",
      "\n",
      "\n",
      "\n",
      "Machine learning (ML)\n"
     ]
    }
   ],
   "source": [
    "a = \"\\n\\n\\n\\n\\n\\nMachine learning (ML)\"\n",
    "print(\"{}\".format(a))"
   ]
  },
  {
   "cell_type": "code",
   "execution_count": 2,
   "id": "f37e9e13",
   "metadata": {},
   "outputs": [
    {
     "ename": "SyntaxError",
     "evalue": "(unicode error) 'unicodeescape' codec can't decode bytes in position 2-3: truncated \\UXXXXXXXX escape (Temp/ipykernel_9324/3876510346.py, line 1)",
     "output_type": "error",
     "traceback": [
      "\u001b[1;36m  File \u001b[1;32m\"C:\\Users\\Mohit\\AppData\\Local\\Temp/ipykernel_9324/3876510346.py\"\u001b[1;36m, line \u001b[1;32m1\u001b[0m\n\u001b[1;33m    file_path = \"C:\\Users\\Mohit\\Desktop\\VELOCITY\\31st july python and data science\\01_Aug_Introduction\"\u001b[0m\n\u001b[1;37m                                                                                                       ^\u001b[0m\n\u001b[1;31mSyntaxError\u001b[0m\u001b[1;31m:\u001b[0m (unicode error) 'unicodeescape' codec can't decode bytes in position 2-3: truncated \\UXXXXXXXX escape\n"
     ]
    }
   ],
   "source": [
    "file_path = \"C:\\Users\\Mohit\\Desktop\\VELOCITY\\31st july python and data science\\01_Aug_Introduction\"\n",
    "print(f\"File path = {file_path}\")"
   ]
  },
  {
   "cell_type": "code",
   "execution_count": 3,
   "id": "b582edc8",
   "metadata": {},
   "outputs": [
    {
     "name": "stdout",
     "output_type": "stream",
     "text": [
      "File path = C:\\Users\\Mohit\\Desktop\\VELOCITY\\31st july python and data science\\01_Aug_Introduction\n"
     ]
    }
   ],
   "source": [
    "file_path = r\"C:\\Users\\Mohit\\Desktop\\VELOCITY\\31st july python and data science\\01_Aug_Introduction\"\n",
    "print(f\"File path = {file_path}\")"
   ]
  },
  {
   "cell_type": "code",
   "execution_count": 4,
   "id": "a1884c51",
   "metadata": {},
   "outputs": [
    {
     "data": {
      "text/plain": [
       "'C:\\\\Users\\\\Mohit\\\\Desktop\\\\VELOCITY\\\\31st july python and data science\\\\01_Aug_Introduction'"
      ]
     },
     "execution_count": 4,
     "metadata": {},
     "output_type": "execute_result"
    }
   ],
   "source": [
    "file_path = r\"C:\\Users\\Mohit\\Desktop\\VELOCITY\\31st july python and data science\\01_Aug_Introduction\"\n",
    "file_path"
   ]
  },
  {
   "cell_type": "code",
   "execution_count": 6,
   "id": "1e6057bb",
   "metadata": {},
   "outputs": [
    {
     "data": {
      "text/plain": [
       "'C:\\\\Users\\\\Mohit\\\\Desktop\\\\VELOCITY\\\\31st july python and data science\\\\01_Aug_Introduction'"
      ]
     },
     "execution_count": 6,
     "metadata": {},
     "output_type": "execute_result"
    }
   ],
   "source": [
    "file_path = \"C:\\\\Users\\\\Mohit\\\\Desktop\\\\VELOCITY\\\\31st july python and data science\\\\01_Aug_Introduction\"\n",
    "file_path"
   ]
  },
  {
   "cell_type": "code",
   "execution_count": 5,
   "id": "a4541156",
   "metadata": {},
   "outputs": [
    {
     "data": {
      "text/plain": [
       "'C:\\\\\\\\Users\\\\\\\\Mohit\\\\\\\\Desktop\\\\\\\\VELOCITY\\\\\\\\31st july python and data science\\\\\\\\01_Aug_Introduction'"
      ]
     },
     "execution_count": 5,
     "metadata": {},
     "output_type": "execute_result"
    }
   ],
   "source": [
    "file_path = r\"C:\\\\Users\\\\Mohit\\\\Desktop\\\\VELOCITY\\\\31st july python and data science\\\\01_Aug_Introduction\"\n",
    "file_path"
   ]
  },
  {
   "cell_type": "code",
   "execution_count": 11,
   "id": "df9d3b24",
   "metadata": {},
   "outputs": [
    {
     "ename": "SyntaxError",
     "evalue": "EOL while scanning string literal (Temp/ipykernel_9324/1602109561.py, line 1)",
     "output_type": "error",
     "traceback": [
      "\u001b[1;36m  File \u001b[1;32m\"C:\\Users\\Mohit\\AppData\\Local\\Temp/ipykernel_9324/1602109561.py\"\u001b[1;36m, line \u001b[1;32m1\u001b[0m\n\u001b[1;33m    \"C:\\Users\\Mohit\\Desktop\\\"\u001b[0m\n\u001b[1;37m                             ^\u001b[0m\n\u001b[1;31mSyntaxError\u001b[0m\u001b[1;31m:\u001b[0m EOL while scanning string literal\n"
     ]
    }
   ],
   "source": [
    "\"C:\\Users\\Mohit\\Desktop\\\"      "
   ]
  },
  {
   "cell_type": "code",
   "execution_count": 13,
   "id": "f2c3c9a3",
   "metadata": {},
   "outputs": [
    {
     "data": {
      "text/plain": [
       "'C:/Users/Mohit/Desktop'"
      ]
     },
     "execution_count": 13,
     "metadata": {},
     "output_type": "execute_result"
    }
   ],
   "source": [
    "\"C:/Users/Mohit/Desktop\"        #Used front slash(/)"
   ]
  },
  {
   "cell_type": "markdown",
   "id": "e7efaf62",
   "metadata": {},
   "source": [
    "## 3. \\t\n",
    "- \\t = Used to tab"
   ]
  },
  {
   "cell_type": "code",
   "execution_count": 24,
   "id": "84d91cc9",
   "metadata": {},
   "outputs": [
    {
     "name": "stdout",
     "output_type": "stream",
     "text": [
      "Machine Learning (ML)\n"
     ]
    }
   ],
   "source": [
    "M1 = \"Machine Learning (ML)\"\n",
    "print(f\"{M1}\")"
   ]
  },
  {
   "cell_type": "code",
   "execution_count": 25,
   "id": "871ba86f",
   "metadata": {},
   "outputs": [
    {
     "name": "stdout",
     "output_type": "stream",
     "text": [
      "Machine \tLearning (ML)\n"
     ]
    }
   ],
   "source": [
    "M1 = \"Machine \\tLearning (ML)\"\n",
    "print(f\"{M1}\")"
   ]
  },
  {
   "cell_type": "code",
   "execution_count": 28,
   "id": "a3689c03",
   "metadata": {},
   "outputs": [
    {
     "name": "stdout",
     "output_type": "stream",
     "text": [
      "Machine \tLearning \t(ML)\n"
     ]
    }
   ],
   "source": [
    "M1 = \"Machine \\tLearning \\t(ML)\"\n",
    "print(f\"{M1}\")"
   ]
  },
  {
   "cell_type": "code",
   "execution_count": 32,
   "id": "809ee4d1",
   "metadata": {},
   "outputs": [
    {
     "name": "stdout",
     "output_type": "stream",
     "text": [
      "Machine \n",
      " \tLearning (ML)\n"
     ]
    }
   ],
   "source": [
    "M1 = \"Machine \\n \\tLearning (ML)\"\n",
    "print(f\"{M1}\")"
   ]
  },
  {
   "cell_type": "code",
   "execution_count": 33,
   "id": "f71e0aba",
   "metadata": {},
   "outputs": [
    {
     "name": "stdout",
     "output_type": "stream",
     "text": [
      "Python Java ASP\n"
     ]
    }
   ],
   "source": [
    "var2 = \"Python Java ASP\"\n",
    "print(f\"{var2}\")"
   ]
  },
  {
   "cell_type": "code",
   "execution_count": 35,
   "id": "59ab0228",
   "metadata": {},
   "outputs": [
    {
     "name": "stdout",
     "output_type": "stream",
     "text": [
      "Python Java \tASP\n"
     ]
    }
   ],
   "source": [
    "var2 = \"Python Java \\tASP\"\n",
    "print(f\"{var2}\")"
   ]
  },
  {
   "cell_type": "code",
   "execution_count": 36,
   "id": "82b721dc",
   "metadata": {},
   "outputs": [
    {
     "name": "stdout",
     "output_type": "stream",
     "text": [
      "Python \n",
      " \tJava \tASP\n"
     ]
    }
   ],
   "source": [
    "var2 = \"Python \\n \\tJava \\tASP\"\n",
    "print(f\"{var2}\")"
   ]
  },
  {
   "cell_type": "code",
   "execution_count": 41,
   "id": "dce07984",
   "metadata": {},
   "outputs": [
    {
     "name": "stdout",
     "output_type": "stream",
     "text": [
      "Python \n",
      " \tJava \n",
      " \t\tASP\n"
     ]
    }
   ],
   "source": [
    "var2 = \"Python \\n \\tJava \\n \\t\\tASP\"\n",
    "print(f\"{var2}\")"
   ]
  }
 ],
 "metadata": {
  "kernelspec": {
   "display_name": "Python 3 (ipykernel)",
   "language": "python",
   "name": "python3"
  },
  "language_info": {
   "codemirror_mode": {
    "name": "ipython",
    "version": 3
   },
   "file_extension": ".py",
   "mimetype": "text/x-python",
   "name": "python",
   "nbconvert_exporter": "python",
   "pygments_lexer": "ipython3",
   "version": "3.12.4"
  }
 },
 "nbformat": 4,
 "nbformat_minor": 5
}
