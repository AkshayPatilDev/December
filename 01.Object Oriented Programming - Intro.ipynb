{
 "cells": [
  {
   "cell_type": "markdown",
   "id": "d1861272",
   "metadata": {},
   "source": [
    "# Object Oriented Programming\n",
    "- class\n",
    "- object\n",
    "    - Code is more readable\n",
    "    - Code is reusable\n",
    "    - Provides a more stured way"
   ]
  },
  {
   "cell_type": "markdown",
   "id": "0b0c45f9",
   "metadata": {},
   "source": [
    "- 1.Object :- Real World Entity(Phone,Laptop,Chair,Fan,House,...)\n",
    "- 2.Class  :- Blueprint of an object that holds the variables and methods."
   ]
  },
  {
   "cell_type": "raw",
   "id": "5d19f3ad",
   "metadata": {},
   "source": [
    "Phone_Design:\n",
    "    Phone-1\n",
    "    Phone-2\n",
    "    Phone-3\n",
    "    Phone-4\n",
    "        .\n",
    "        .\n",
    "    Phone-n\n",
    "    \n",
    "Building_Design:\n",
    "    House-1\n",
    "    House-2\n",
    "    House-3\n",
    "    House-4\n",
    "        .\n",
    "        .\n",
    "    House-n"
   ]
  },
  {
   "cell_type": "markdown",
   "id": "be1cea21",
   "metadata": {},
   "source": [
    "## Syntax "
   ]
  },
  {
   "cell_type": "code",
   "execution_count": 1,
   "id": "3cd96422",
   "metadata": {},
   "outputs": [
    {
     "data": {
      "text/plain": [
       "<__main__.ClassName at 0x26fe0a9ddf0>"
      ]
     },
     "execution_count": 1,
     "metadata": {},
     "output_type": "execute_result"
    }
   ],
   "source": [
    "class ClassName():\n",
    "    Variables = \"Python\"\n",
    "    def Method1(self):\n",
    "        print(self)\n",
    "        print(\"First Method\")\n",
    "        \n",
    "obj1 = ClassName()\n",
    "obj1"
   ]
  },
  {
   "cell_type": "code",
   "execution_count": 3,
   "id": "66578805",
   "metadata": {},
   "outputs": [
    {
     "data": {
      "text/plain": [
       "'Python'"
      ]
     },
     "execution_count": 3,
     "metadata": {},
     "output_type": "execute_result"
    }
   ],
   "source": [
    "obj1.Variables"
   ]
  },
  {
   "cell_type": "code",
   "execution_count": 7,
   "id": "e921b263",
   "metadata": {
    "scrolled": true
   },
   "outputs": [
    {
     "name": "stdout",
     "output_type": "stream",
     "text": [
      "<__main__.ClassName object at 0x0000026FE0A9DDF0>\n",
      "First Method\n"
     ]
    }
   ],
   "source": [
    "obj1.Method1()"
   ]
  },
  {
   "cell_type": "code",
   "execution_count": 9,
   "id": "146680f9",
   "metadata": {},
   "outputs": [],
   "source": [
    "obj2 = ClassName()\n",
    "obj3 = ClassName()\n",
    "obj4 = ClassName()"
   ]
  },
  {
   "cell_type": "code",
   "execution_count": 11,
   "id": "94981d6d",
   "metadata": {},
   "outputs": [],
   "source": [
    "class TestClass():\n",
    "    pass\n",
    "\n",
    "test1 = TestClass() # creating an instance of a class\n",
    "test2 = TestClass() # creating an object of a class\n",
    "test3 = TestClass()\n",
    "test4 = TestClass()"
   ]
  },
  {
   "cell_type": "code",
   "execution_count": 12,
   "id": "2eea8e22",
   "metadata": {},
   "outputs": [],
   "source": [
    "class DataGathering():\n",
    "    def get_data_from_database(self):\n",
    "        pass\n",
    "    \n",
    "    def get_data_from_client_server(self):\n",
    "        pass\n",
    "    \n",
    "class DataPreprocessing():\n",
    "    def handler_ouliers(self):\n",
    "        pass\n",
    "    \n",
    "    def get_normalization(self):\n",
    "        pass\n",
    "    \n",
    "    def get_standardization(self):\n",
    "        pass\n",
    "    \n",
    "class ModelTraining():\n",
    "    def logistic_regression(self):\n",
    "        pass\n",
    "    \n",
    "    def knn(self):\n",
    "        pass\n",
    "    \n",
    "    def decision_tree(self):\n",
    "        pass\n",
    "    \n",
    "    def random_forest(self):\n",
    "        pass\n",
    "    \n",
    "class ModelEvaluation():\n",
    "    def confusion_matrix(self):\n",
    "        pass\n",
    "    \n",
    "    def classification_report(self):\n",
    "        pass\n",
    "    \n",
    "    def accuracy_score(self):\n",
    "        pass"
   ]
  },
  {
   "cell_type": "code",
   "execution_count": 13,
   "id": "943e84b5",
   "metadata": {},
   "outputs": [],
   "source": [
    "data_gather1 = DataGathering()\n",
    "data_gather2 = DataGathering()\n",
    "data_preprocess1 = DataPreprocessing()\n",
    "data_preprocess2 = DataPreprocessing()\n",
    "model_training1 = ModelTraining()\n",
    "model_evaluation = ModelEvaluation()"
   ]
  },
  {
   "cell_type": "markdown",
   "id": "9e3c507f",
   "metadata": {},
   "source": [
    "## Class Structure"
   ]
  },
  {
   "cell_type": "code",
   "execution_count": 7,
   "id": "b45906b7",
   "metadata": {},
   "outputs": [],
   "source": [
    "var1 = 5000                        # Global variable\n",
    "\n",
    "class ClassName():                 # Class Name\n",
    "    x = 1                          # Class Variable\n",
    "    y = 5.5                        # Class Variable\n",
    "    z = \"First Class\"              # Class Variable\n",
    "    \n",
    "    def Method1(self):             # First Method Of Class\n",
    "        print(\"This is method 1\")     \n",
    "        var2 = \"Data Science\"      # Local Varible\n",
    "        self.city_name = \"Mumbai\"  # Instance Variable \n",
    "        self.state = \"Maharashtra\" # Instacne variable    \n",
    "        \n",
    "    def Method2(self):             # Method 2\n",
    "        print(\"This is method 2\")     \n",
    "        var3 = \"Machine Learning\"  # Local Variable   \n",
    "        self.var4 = \"NLP\"          # Instance Variable\n",
    "        self.Method1()\n",
    "        print(\"Variable 1 from Method1\",self.city_name)\n",
    "        print(\"Variable 2 from Method2\",self.x)"
   ]
  },
  {
   "cell_type": "code",
   "execution_count": 8,
   "id": "1824d0df",
   "metadata": {},
   "outputs": [],
   "source": [
    "Obj1 = ClassName() # Creating an instance or an object of a class"
   ]
  },
  {
   "cell_type": "code",
   "execution_count": 9,
   "id": "c4744156",
   "metadata": {
    "scrolled": true
   },
   "outputs": [
    {
     "name": "stdout",
     "output_type": "stream",
     "text": [
      "This is method 1\n"
     ]
    }
   ],
   "source": [
    "Obj1.Method1()"
   ]
  },
  {
   "cell_type": "code",
   "execution_count": 10,
   "id": "366078d4",
   "metadata": {},
   "outputs": [
    {
     "ename": "AttributeError",
     "evalue": "'ClassName' object has no attribute 'city_name1'",
     "output_type": "error",
     "traceback": [
      "\u001b[1;31m---------------------------------------------------------------------------\u001b[0m",
      "\u001b[1;31mAttributeError\u001b[0m                            Traceback (most recent call last)",
      "\u001b[1;32m~\\AppData\\Local\\Temp\\ipykernel_3080\\3315797307.py\u001b[0m in \u001b[0;36m<module>\u001b[1;34m\u001b[0m\n\u001b[1;32m----> 1\u001b[1;33m \u001b[0mObj1\u001b[0m\u001b[1;33m.\u001b[0m\u001b[0mcity_name1\u001b[0m\u001b[1;33m\u001b[0m\u001b[1;33m\u001b[0m\u001b[0m\n\u001b[0m",
      "\u001b[1;31mAttributeError\u001b[0m: 'ClassName' object has no attribute 'city_name1'"
     ]
    }
   ],
   "source": [
    "Obj1.city_name1"
   ]
  },
  {
   "cell_type": "code",
   "execution_count": 11,
   "id": "df46c1f7",
   "metadata": {},
   "outputs": [
    {
     "data": {
      "text/plain": [
       "'Mumbai'"
      ]
     },
     "execution_count": 11,
     "metadata": {},
     "output_type": "execute_result"
    }
   ],
   "source": [
    "Obj1.city_name"
   ]
  },
  {
   "cell_type": "code",
   "execution_count": 12,
   "id": "2be2d4fc",
   "metadata": {},
   "outputs": [
    {
     "data": {
      "text/plain": [
       "'Maharashtra'"
      ]
     },
     "execution_count": 12,
     "metadata": {},
     "output_type": "execute_result"
    }
   ],
   "source": [
    "Obj1.state"
   ]
  },
  {
   "cell_type": "code",
   "execution_count": 21,
   "id": "fceb6735",
   "metadata": {
    "scrolled": true
   },
   "outputs": [
    {
     "data": {
      "text/plain": [
       "1"
      ]
     },
     "execution_count": 21,
     "metadata": {},
     "output_type": "execute_result"
    }
   ],
   "source": [
    "Obj1.x"
   ]
  },
  {
   "cell_type": "code",
   "execution_count": 22,
   "id": "e1cf3ea5",
   "metadata": {},
   "outputs": [
    {
     "data": {
      "text/plain": [
       "5.5"
      ]
     },
     "execution_count": 22,
     "metadata": {},
     "output_type": "execute_result"
    }
   ],
   "source": [
    "Obj1.y"
   ]
  },
  {
   "cell_type": "code",
   "execution_count": 23,
   "id": "5290ed81",
   "metadata": {},
   "outputs": [
    {
     "data": {
      "text/plain": [
       "'First Class'"
      ]
     },
     "execution_count": 23,
     "metadata": {},
     "output_type": "execute_result"
    }
   ],
   "source": [
    "Obj1.z"
   ]
  },
  {
   "cell_type": "code",
   "execution_count": 24,
   "id": "b4288146",
   "metadata": {},
   "outputs": [
    {
     "data": {
      "text/plain": [
       "5000"
      ]
     },
     "execution_count": 24,
     "metadata": {},
     "output_type": "execute_result"
    }
   ],
   "source": [
    "var1"
   ]
  },
  {
   "cell_type": "code",
   "execution_count": 26,
   "id": "0c2493f1",
   "metadata": {},
   "outputs": [
    {
     "name": "stdout",
     "output_type": "stream",
     "text": [
      "This is method 2\n",
      "This is method 1\n",
      "Variable 1 from Method1 Mumbai\n",
      "Variable 2 from Method2 1\n"
     ]
    }
   ],
   "source": [
    "Obj1.Method2()"
   ]
  },
  {
   "cell_type": "code",
   "execution_count": 27,
   "id": "795f2cf9",
   "metadata": {},
   "outputs": [
    {
     "data": {
      "text/plain": [
       "[100]"
      ]
     },
     "execution_count": 27,
     "metadata": {},
     "output_type": "execute_result"
    }
   ],
   "source": [
    "li = []\n",
    "li.append(100)\n",
    "li"
   ]
  },
  {
   "cell_type": "markdown",
   "id": "f91a13ea",
   "metadata": {},
   "source": [
    "# Self \n",
    "- Self is Nothing but a keuyword, We can use any keyword name,but have to follow  the same keyword name entire the class\n",
    "- It allows to access the variables and methods of each object\n",
    "- Self keyword is used to represent an instance of class\n",
    "- It helps to distinguish between local and instance variables"
   ]
  },
  {
   "cell_type": "markdown",
   "id": "8f6fc19e",
   "metadata": {},
   "source": [
    "# Employee Details"
   ]
  },
  {
   "cell_type": "code",
   "execution_count": 30,
   "id": "291b9923",
   "metadata": {},
   "outputs": [],
   "source": [
    "class EmpDetails():\n",
    "    location = \"Pune\"\n",
    "    \n",
    "    def emp_name():\n",
    "        pass\n",
    "    \n",
    "    def emp_salary():\n",
    "        pass\n",
    "    \n",
    "    def emp_company():\n",
    "        pass\n",
    "    \n",
    "    def emp_designation():\n",
    "        pass\n",
    "    \n",
    "emp1 = EmpDetails()\n",
    "emp2 = EmpDetails()"
   ]
  },
  {
   "cell_type": "code",
   "execution_count": 31,
   "id": "ff5bfca5",
   "metadata": {},
   "outputs": [
    {
     "data": {
      "text/plain": [
       "'Pune'"
      ]
     },
     "execution_count": 31,
     "metadata": {},
     "output_type": "execute_result"
    }
   ],
   "source": [
    "emp1.location"
   ]
  },
  {
   "cell_type": "code",
   "execution_count": 32,
   "id": "04d4aad9",
   "metadata": {},
   "outputs": [
    {
     "data": {
      "text/plain": [
       "'Pune'"
      ]
     },
     "execution_count": 32,
     "metadata": {},
     "output_type": "execute_result"
    }
   ],
   "source": [
    "emp2.location"
   ]
  },
  {
   "cell_type": "code",
   "execution_count": 33,
   "id": "5ac4f102",
   "metadata": {},
   "outputs": [],
   "source": [
    "li1 = []\n",
    "li2 = []\n",
    "li1.append(100)\n",
    "li2.append(100000)"
   ]
  },
  {
   "cell_type": "code",
   "execution_count": 34,
   "id": "4d6b5cec",
   "metadata": {},
   "outputs": [
    {
     "data": {
      "text/plain": [
       "'Pune'"
      ]
     },
     "execution_count": 34,
     "metadata": {},
     "output_type": "execute_result"
    }
   ],
   "source": [
    "EmpDetails.location"
   ]
  },
  {
   "cell_type": "code",
   "execution_count": 36,
   "id": "ee2a8ba8",
   "metadata": {},
   "outputs": [],
   "source": [
    "class EmpDetails():\n",
    "    location = \"Pune\"\n",
    "    \n",
    "    def emp_name(self):\n",
    "        print(\"We are in the class method and trying to print the object\")\n",
    "        print(self)\n",
    "        \n",
    "    def emp_salary():\n",
    "        pass\n",
    "    \n",
    "    def emp_company():\n",
    "        pass\n",
    "    \n",
    "    def emp_designation():\n",
    "        pass\n",
    "    \n",
    "emp1 = EmpDetails()\n",
    "emp2 = EmpDetails()"
   ]
  },
  {
   "cell_type": "code",
   "execution_count": 37,
   "id": "4f16bd8d",
   "metadata": {},
   "outputs": [
    {
     "name": "stdout",
     "output_type": "stream",
     "text": [
      "<__main__.EmpDetails object at 0x0000026FE373B430>\n"
     ]
    }
   ],
   "source": [
    "print(emp1)"
   ]
  },
  {
   "cell_type": "code",
   "execution_count": 38,
   "id": "40b9e9dd",
   "metadata": {},
   "outputs": [
    {
     "name": "stdout",
     "output_type": "stream",
     "text": [
      "We are in the class method and trying to print the object\n",
      "<__main__.EmpDetails object at 0x0000026FE373B430>\n"
     ]
    }
   ],
   "source": [
    "emp1.emp_name()"
   ]
  },
  {
   "cell_type": "code",
   "execution_count": 39,
   "id": "bca5ccdd",
   "metadata": {},
   "outputs": [
    {
     "data": {
      "text/plain": [
       "True"
      ]
     },
     "execution_count": 39,
     "metadata": {},
     "output_type": "execute_result"
    }
   ],
   "source": [
    "0x0000026FE373B430 == 0x0000026FE373B430"
   ]
  },
  {
   "cell_type": "code",
   "execution_count": 40,
   "id": "55671bb6",
   "metadata": {},
   "outputs": [
    {
     "name": "stdout",
     "output_type": "stream",
     "text": [
      "<__main__.EmpDetails object at 0x0000026FE3B9AD30>\n"
     ]
    }
   ],
   "source": [
    "print(emp2)"
   ]
  },
  {
   "cell_type": "code",
   "execution_count": 42,
   "id": "a5610816",
   "metadata": {},
   "outputs": [
    {
     "data": {
      "text/plain": [
       "False"
      ]
     },
     "execution_count": 42,
     "metadata": {},
     "output_type": "execute_result"
    }
   ],
   "source": [
    "0x0000026FE373B430 == 0x0000026FE3B9AD30"
   ]
  },
  {
   "cell_type": "code",
   "execution_count": 44,
   "id": "b025d45f",
   "metadata": {},
   "outputs": [
    {
     "name": "stdout",
     "output_type": "stream",
     "text": [
      "<__main__.EmpDetails object at 0x0000026FE3B9AD30>\n",
      "We are in the class method and trying to print the object\n",
      "<__main__.EmpDetails object at 0x0000026FE3B9AD30>\n"
     ]
    }
   ],
   "source": [
    "print(emp2)\n",
    "emp2.emp_name()"
   ]
  },
  {
   "cell_type": "code",
   "execution_count": 45,
   "id": "fe5d7267",
   "metadata": {},
   "outputs": [
    {
     "data": {
      "text/plain": [
       "True"
      ]
     },
     "execution_count": 45,
     "metadata": {},
     "output_type": "execute_result"
    }
   ],
   "source": [
    "0x0000026FE3B9AD30 == 0x0000026FE3B9AD30"
   ]
  },
  {
   "cell_type": "code",
   "execution_count": 46,
   "id": "d89b755d",
   "metadata": {},
   "outputs": [],
   "source": [
    "class EmpDetails():\n",
    "    location = \"Pune\"\n",
    "    \n",
    "    def emp_name(self,name):\n",
    "        print(self)\n",
    "        print(f\"Employee Name = {name}\")\n",
    "        \n",
    "    def emp_salary(self,salary):\n",
    "        print(f\"The Salary of {name} is {salary}\")\n",
    "    \n",
    "    def emp_company():\n",
    "        pass\n",
    "    \n",
    "    def emp_designation():\n",
    "        pass\n",
    "    \n",
    "emp1 = EmpDetails()\n",
    "emp2 = EmpDetails()"
   ]
  },
  {
   "cell_type": "code",
   "execution_count": 47,
   "id": "8c31778c",
   "metadata": {},
   "outputs": [
    {
     "name": "stdout",
     "output_type": "stream",
     "text": [
      "<__main__.EmpDetails object at 0x0000026FE3AE8B20>\n",
      "<__main__.EmpDetails object at 0x0000026FE3AE8B20>\n",
      "Employee Name = Mohit\n"
     ]
    }
   ],
   "source": [
    "print(emp1)\n",
    "\n",
    "emp1.emp_name(\"Mohit\")"
   ]
  },
  {
   "cell_type": "code",
   "execution_count": 48,
   "id": "2de98849",
   "metadata": {},
   "outputs": [
    {
     "name": "stdout",
     "output_type": "stream",
     "text": [
      "<__main__.EmpDetails object at 0x0000026FE3AE8FA0>\n",
      "Employee Name = Sanket\n"
     ]
    }
   ],
   "source": [
    "emp2.emp_name(\"Sanket\")"
   ]
  },
  {
   "cell_type": "code",
   "execution_count": 49,
   "id": "8e607d50",
   "metadata": {},
   "outputs": [
    {
     "ename": "NameError",
     "evalue": "name 'name' is not defined",
     "output_type": "error",
     "traceback": [
      "\u001b[1;31m---------------------------------------------------------------------------\u001b[0m",
      "\u001b[1;31mNameError\u001b[0m                                 Traceback (most recent call last)",
      "Cell \u001b[1;32mIn [49], line 1\u001b[0m\n\u001b[1;32m----> 1\u001b[0m \u001b[43memp1\u001b[49m\u001b[38;5;241;43m.\u001b[39;49m\u001b[43memp_salary\u001b[49m\u001b[43m(\u001b[49m\u001b[38;5;241;43m1500000\u001b[39;49m\u001b[43m)\u001b[49m\n",
      "Cell \u001b[1;32mIn [46], line 9\u001b[0m, in \u001b[0;36mEmpDetails.emp_salary\u001b[1;34m(self, salary)\u001b[0m\n\u001b[0;32m      8\u001b[0m \u001b[38;5;28;01mdef\u001b[39;00m \u001b[38;5;21memp_salary\u001b[39m(\u001b[38;5;28mself\u001b[39m,salary):\n\u001b[1;32m----> 9\u001b[0m     \u001b[38;5;28mprint\u001b[39m(\u001b[38;5;124mf\u001b[39m\u001b[38;5;124m\"\u001b[39m\u001b[38;5;124mThe Salary of \u001b[39m\u001b[38;5;132;01m{\u001b[39;00mname\u001b[38;5;132;01m}\u001b[39;00m\u001b[38;5;124m is \u001b[39m\u001b[38;5;132;01m{\u001b[39;00msalary\u001b[38;5;132;01m}\u001b[39;00m\u001b[38;5;124m\"\u001b[39m)\n",
      "\u001b[1;31mNameError\u001b[0m: name 'name' is not defined"
     ]
    }
   ],
   "source": [
    "emp1.emp_salary(1500000)"
   ]
  },
  {
   "cell_type": "code",
   "execution_count": 53,
   "id": "539b8b00",
   "metadata": {},
   "outputs": [],
   "source": [
    "class EmpDetails():\n",
    "    location = \"Pune\"\n",
    "    \n",
    "    def emp_name(self,name):\n",
    "        self.name = name\n",
    "        print(f\"Employee Name = {name}\")\n",
    "        \n",
    "    def emp_salary(self,salary):\n",
    "        print(f\"The Salary of {self.name} is {salary}\")\n",
    "    \n",
    "    def emp_company():\n",
    "        pass\n",
    "    \n",
    "    def emp_designation():\n",
    "        pass\n",
    "    \n",
    "emp1 = EmpDetails()\n",
    "emp2 = EmpDetails()"
   ]
  },
  {
   "cell_type": "code",
   "execution_count": 54,
   "id": "cd6ee33b",
   "metadata": {},
   "outputs": [
    {
     "name": "stdout",
     "output_type": "stream",
     "text": [
      "Employee Name = Mohit\n"
     ]
    }
   ],
   "source": [
    "emp1.emp_name(\"Mohit\")\n"
   ]
  },
  {
   "cell_type": "code",
   "execution_count": 55,
   "id": "364e81b3",
   "metadata": {},
   "outputs": [
    {
     "name": "stdout",
     "output_type": "stream",
     "text": [
      "The Salary of Mohit is 1500000\n"
     ]
    }
   ],
   "source": [
    "emp1.emp_salary(1500000)"
   ]
  },
  {
   "cell_type": "code",
   "execution_count": 56,
   "id": "19ee5226",
   "metadata": {},
   "outputs": [
    {
     "ename": "AttributeError",
     "evalue": "'EmpDetails' object has no attribute 'name'",
     "output_type": "error",
     "traceback": [
      "\u001b[1;31m---------------------------------------------------------------------------\u001b[0m",
      "\u001b[1;31mAttributeError\u001b[0m                            Traceback (most recent call last)",
      "Cell \u001b[1;32mIn [56], line 1\u001b[0m\n\u001b[1;32m----> 1\u001b[0m \u001b[43memp2\u001b[49m\u001b[38;5;241;43m.\u001b[39;49m\u001b[43memp_salary\u001b[49m\u001b[43m(\u001b[49m\u001b[38;5;241;43m1000000\u001b[39;49m\u001b[43m)\u001b[49m\n",
      "Cell \u001b[1;32mIn [53], line 9\u001b[0m, in \u001b[0;36mEmpDetails.emp_salary\u001b[1;34m(self, salary)\u001b[0m\n\u001b[0;32m      8\u001b[0m \u001b[38;5;28;01mdef\u001b[39;00m \u001b[38;5;21memp_salary\u001b[39m(\u001b[38;5;28mself\u001b[39m,salary):\n\u001b[1;32m----> 9\u001b[0m     \u001b[38;5;28mprint\u001b[39m(\u001b[38;5;124mf\u001b[39m\u001b[38;5;124m\"\u001b[39m\u001b[38;5;124mThe Salary of \u001b[39m\u001b[38;5;132;01m{\u001b[39;00m\u001b[38;5;28mself\u001b[39m\u001b[38;5;241m.\u001b[39mname\u001b[38;5;132;01m}\u001b[39;00m\u001b[38;5;124m is \u001b[39m\u001b[38;5;132;01m{\u001b[39;00msalary\u001b[38;5;132;01m}\u001b[39;00m\u001b[38;5;124m\"\u001b[39m)\n",
      "\u001b[1;31mAttributeError\u001b[0m: 'EmpDetails' object has no attribute 'name'"
     ]
    }
   ],
   "source": [
    "emp2.emp_salary(1000000)"
   ]
  },
  {
   "cell_type": "code",
   "execution_count": 57,
   "id": "a38e5dba",
   "metadata": {},
   "outputs": [],
   "source": [
    "emp3 = EmpDetails()"
   ]
  },
  {
   "cell_type": "code",
   "execution_count": 58,
   "id": "701f1234",
   "metadata": {},
   "outputs": [
    {
     "name": "stdout",
     "output_type": "stream",
     "text": [
      "Employee Name = Rishabh\n"
     ]
    }
   ],
   "source": [
    "emp3.emp_name(\"Rishabh\")"
   ]
  },
  {
   "cell_type": "code",
   "execution_count": 59,
   "id": "3d08dd39",
   "metadata": {},
   "outputs": [
    {
     "name": "stdout",
     "output_type": "stream",
     "text": [
      "The Salary of Rishabh is 2000000\n"
     ]
    }
   ],
   "source": [
    "emp3.emp_salary(2000000)"
   ]
  },
  {
   "cell_type": "code",
   "execution_count": 60,
   "id": "9e0462ab",
   "metadata": {},
   "outputs": [
    {
     "name": "stdout",
     "output_type": "stream",
     "text": [
      "The Salary of Rishabh is 2500000\n"
     ]
    }
   ],
   "source": [
    "emp3.emp_salary(2500000)"
   ]
  }
 ],
 "metadata": {
  "kernelspec": {
   "display_name": "Python 3 (ipykernel)",
   "language": "python",
   "name": "python3"
  },
  "language_info": {
   "codemirror_mode": {
    "name": "ipython",
    "version": 3
   },
   "file_extension": ".py",
   "mimetype": "text/x-python",
   "name": "python",
   "nbconvert_exporter": "python",
   "pygments_lexer": "ipython3",
   "version": "3.12.4"
  }
 },
 "nbformat": 4,
 "nbformat_minor": 5
}
