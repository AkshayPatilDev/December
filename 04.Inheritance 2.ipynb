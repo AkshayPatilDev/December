{
 "cells": [
  {
   "cell_type": "markdown",
   "id": "8468ccc3",
   "metadata": {},
   "source": [
    "# Single Inheritance"
   ]
  },
  {
   "cell_type": "code",
   "execution_count": 3,
   "id": "24d3f872",
   "metadata": {},
   "outputs": [
    {
     "name": "stdout",
     "output_type": "stream",
     "text": [
      "Child class __init__ Method\n"
     ]
    }
   ],
   "source": [
    "class P():\n",
    "    def __init__(self):\n",
    "        print(\"Parent class __init__ Method\")\n",
    "        \n",
    "class C(P):\n",
    "    def __init__(self):\n",
    "        print(\"Child class __init__ Method\")\n",
    "        \n",
    "c1 = C()"
   ]
  },
  {
   "cell_type": "code",
   "execution_count": 4,
   "id": "f954acec",
   "metadata": {},
   "outputs": [
    {
     "name": "stdout",
     "output_type": "stream",
     "text": [
      "Child class __init__ Method\n",
      "Parent class __init__ Method\n"
     ]
    }
   ],
   "source": [
    "class P():\n",
    "    def __init__(self):\n",
    "        print(\"Parent class __init__ Method\")\n",
    "        \n",
    "class C(P):\n",
    "    def __init__(self):\n",
    "        print(\"Child class __init__ Method\")\n",
    "        P.__init__(self)\n",
    "c1 = C()"
   ]
  },
  {
   "cell_type": "code",
   "execution_count": 5,
   "id": "84d07311",
   "metadata": {},
   "outputs": [
    {
     "name": "stdout",
     "output_type": "stream",
     "text": [
      "Child class __init__ Method\n",
      "Parent class __init__ Method\n"
     ]
    }
   ],
   "source": [
    "class P():\n",
    "    def __init__(self):\n",
    "        print(\"Parent class __init__ Method\")\n",
    "        \n",
    "class C(P):\n",
    "    def __init__(self):\n",
    "        print(\"Child class __init__ Method\")\n",
    "        super().__init__()\n",
    "c1 = C()"
   ]
  },
  {
   "cell_type": "code",
   "execution_count": 6,
   "id": "c7b22b1c",
   "metadata": {},
   "outputs": [
    {
     "name": "stdout",
     "output_type": "stream",
     "text": [
      "Child class __init__ Method\n",
      "Parent class __init__ Method\n"
     ]
    }
   ],
   "source": [
    "class P():\n",
    "    def __init__(self,a,b):\n",
    "        print(\"Parent class __init__ Method\")\n",
    "        self.a = a\n",
    "        self.b = b\n",
    "        \n",
    "class C(P):\n",
    "    def __init__(self,a,b,c,d):\n",
    "        print(\"Child class __init__ Method\")\n",
    "        self.c = c\n",
    "        self.d = d\n",
    "        super().__init__(a,b)\n",
    "        \n",
    "c1 = C(1,2,3,4)"
   ]
  },
  {
   "cell_type": "code",
   "execution_count": 7,
   "id": "2e0d43c6",
   "metadata": {},
   "outputs": [
    {
     "data": {
      "text/plain": [
       "1"
      ]
     },
     "execution_count": 7,
     "metadata": {},
     "output_type": "execute_result"
    }
   ],
   "source": [
    "c1.a"
   ]
  },
  {
   "cell_type": "code",
   "execution_count": 8,
   "id": "e9038bc0",
   "metadata": {},
   "outputs": [
    {
     "data": {
      "text/plain": [
       "2"
      ]
     },
     "execution_count": 8,
     "metadata": {},
     "output_type": "execute_result"
    }
   ],
   "source": [
    "c1.b"
   ]
  },
  {
   "cell_type": "code",
   "execution_count": 9,
   "id": "d4c4917f",
   "metadata": {},
   "outputs": [
    {
     "data": {
      "text/plain": [
       "3"
      ]
     },
     "execution_count": 9,
     "metadata": {},
     "output_type": "execute_result"
    }
   ],
   "source": [
    "c1.c"
   ]
  },
  {
   "cell_type": "code",
   "execution_count": 10,
   "id": "b1543659",
   "metadata": {},
   "outputs": [
    {
     "data": {
      "text/plain": [
       "4"
      ]
     },
     "execution_count": 10,
     "metadata": {},
     "output_type": "execute_result"
    }
   ],
   "source": [
    "c1.d"
   ]
  },
  {
   "cell_type": "code",
   "execution_count": 11,
   "id": "87a9c3d1",
   "metadata": {},
   "outputs": [
    {
     "name": "stdout",
     "output_type": "stream",
     "text": [
      "Child class __init__ Method\n",
      "Parent class __init__ Method\n"
     ]
    }
   ],
   "source": [
    "class P():\n",
    "    def __init__(self,a,b):\n",
    "        print(\"Parent class __init__ Method\")\n",
    "        self.a = a\n",
    "        self.b = b\n",
    "        \n",
    "class C(P):\n",
    "    def __init__(self,a,b,c,d):\n",
    "        print(\"Child class __init__ Method\")\n",
    "        self.c = c\n",
    "        self.d = d\n",
    "        P.__init__(self,a,b)\n",
    "        \n",
    "c1 = C(1,2,3,4)"
   ]
  },
  {
   "cell_type": "code",
   "execution_count": 12,
   "id": "073b6016",
   "metadata": {},
   "outputs": [
    {
     "data": {
      "text/plain": [
       "1"
      ]
     },
     "execution_count": 12,
     "metadata": {},
     "output_type": "execute_result"
    }
   ],
   "source": [
    "c1.a"
   ]
  },
  {
   "cell_type": "code",
   "execution_count": 13,
   "id": "7718ac95",
   "metadata": {},
   "outputs": [
    {
     "data": {
      "text/plain": [
       "2"
      ]
     },
     "execution_count": 13,
     "metadata": {},
     "output_type": "execute_result"
    }
   ],
   "source": [
    "c1.b"
   ]
  },
  {
   "cell_type": "code",
   "execution_count": 14,
   "id": "b8a43925",
   "metadata": {},
   "outputs": [
    {
     "data": {
      "text/plain": [
       "4"
      ]
     },
     "execution_count": 14,
     "metadata": {},
     "output_type": "execute_result"
    }
   ],
   "source": [
    "c1.d"
   ]
  },
  {
   "cell_type": "code",
   "execution_count": 15,
   "id": "ad8ecdea",
   "metadata": {},
   "outputs": [
    {
     "name": "stdout",
     "output_type": "stream",
     "text": [
      "method2\n"
     ]
    }
   ],
   "source": [
    "def method():\n",
    "    print(\"method1\")\n",
    "\n",
    "def method():\n",
    "    print(\"method2\")\n",
    "    \n",
    "method()"
   ]
  },
  {
   "cell_type": "markdown",
   "id": "a4588b24",
   "metadata": {},
   "source": [
    "# 2.Multilevel Inheritance"
   ]
  },
  {
   "cell_type": "code",
   "execution_count": 16,
   "id": "07877a51",
   "metadata": {},
   "outputs": [],
   "source": [
    "class GrandFather():\n",
    "    pass\n",
    "\n",
    "class Father():\n",
    "    pass\n",
    "\n",
    "class Child():\n",
    "    pass"
   ]
  },
  {
   "cell_type": "code",
   "execution_count": 17,
   "id": "1a632599",
   "metadata": {},
   "outputs": [],
   "source": [
    "class GrandFather():\n",
    "    pass\n",
    "\n",
    "class Father(GrandFather): # Single Inheritance\n",
    "    pass\n",
    "\n",
    "class Child():\n",
    "    pass"
   ]
  },
  {
   "cell_type": "code",
   "execution_count": 18,
   "id": "2a08297b",
   "metadata": {},
   "outputs": [],
   "source": [
    "class GrandFather():\n",
    "    pass\n",
    "\n",
    "class Father(GrandFather): # Single Inheritance\n",
    "    pass\n",
    "\n",
    "class Child(Father):  # Multilevel Inheritance\n",
    "    pass"
   ]
  },
  {
   "cell_type": "code",
   "execution_count": 19,
   "id": "b8be3bc5",
   "metadata": {},
   "outputs": [],
   "source": [
    "class BaseClass1():\n",
    "    pass\n",
    "\n",
    "class BaseClass2(BaseClass1):\n",
    "    pass\n",
    "\n",
    "class BaseClass3(BaseClass2):\n",
    "    pass\n",
    "\n",
    "class BaseClass4(BaseClass3):\n",
    "    pass\n",
    "\n",
    "class BaseClass5(BaseClass4):\n",
    "    pass\n",
    "\n",
    "class DerivedClass(BaseClass5):\n",
    "    pass\n",
    "\n",
    "obj1 = DerivedClass()"
   ]
  },
  {
   "cell_type": "code",
   "execution_count": 20,
   "id": "211c3c0e",
   "metadata": {},
   "outputs": [],
   "source": [
    "class BaseClass1():\n",
    "    def addition(self):\n",
    "        print(\"Addition Method\")\n",
    "\n",
    "class BaseClass2(BaseClass1):\n",
    "    def multiplication(self):\n",
    "        print(\"Multiplication Method\")\n",
    "\n",
    "class DerivedClass(BaseClass2):\n",
    "    def calc(self):\n",
    "        print(\"Calculation Method\")"
   ]
  },
  {
   "cell_type": "code",
   "execution_count": 22,
   "id": "bfb2562d",
   "metadata": {},
   "outputs": [
    {
     "name": "stdout",
     "output_type": "stream",
     "text": [
      "Addition Method\n",
      "Multiplication Method\n",
      "Calculation Method\n"
     ]
    }
   ],
   "source": [
    "d1 = DerivedClass()\n",
    "d1.addition()\n",
    "d1.multiplication()\n",
    "d1.calc()"
   ]
  },
  {
   "cell_type": "code",
   "execution_count": 23,
   "id": "5a63cf77",
   "metadata": {},
   "outputs": [],
   "source": [
    "class BaseClass1():\n",
    "    def addition(self):\n",
    "        print(f\"Addition of {self.a} and {self.b} = {self.a + self.b}\")\n",
    "\n",
    "class BaseClass2(BaseClass1):\n",
    "    def multiplication(self,a,b):\n",
    "        self.a = a\n",
    "        self.b = b\n",
    "        print(f\"Multiplication of {self.a} and {self.b} = {self.a * self.b}\")\n",
    "\n",
    "class DerivedClass(BaseClass2):\n",
    "    def calc(self):\n",
    "        print(\"Calculation Method\")\n",
    "        \n",
    "    def division(self):\n",
    "        print(f\"Division of {self.a} and {self.b} = {self.a / self.b}\")\n",
    "        \n",
    "\n",
    "calc1 = DerivedClass()"
   ]
  },
  {
   "cell_type": "code",
   "execution_count": 24,
   "id": "03f9bdda",
   "metadata": {},
   "outputs": [
    {
     "name": "stdout",
     "output_type": "stream",
     "text": [
      "Calculation Method\n"
     ]
    }
   ],
   "source": [
    "calc1.calc()"
   ]
  },
  {
   "cell_type": "code",
   "execution_count": 25,
   "id": "fd8a2850",
   "metadata": {},
   "outputs": [
    {
     "ename": "AttributeError",
     "evalue": "'DerivedClass' object has no attribute 'a'",
     "output_type": "error",
     "traceback": [
      "\u001b[1;31m---------------------------------------------------------------------------\u001b[0m",
      "\u001b[1;31mAttributeError\u001b[0m                            Traceback (most recent call last)",
      "Cell \u001b[1;32mIn [25], line 1\u001b[0m\n\u001b[1;32m----> 1\u001b[0m \u001b[43mcalc1\u001b[49m\u001b[38;5;241;43m.\u001b[39;49m\u001b[43mdivision\u001b[49m\u001b[43m(\u001b[49m\u001b[43m)\u001b[49m\n",
      "Cell \u001b[1;32mIn [23], line 16\u001b[0m, in \u001b[0;36mDerivedClass.division\u001b[1;34m(self)\u001b[0m\n\u001b[0;32m     15\u001b[0m \u001b[38;5;28;01mdef\u001b[39;00m \u001b[38;5;21mdivision\u001b[39m(\u001b[38;5;28mself\u001b[39m):\n\u001b[1;32m---> 16\u001b[0m     \u001b[38;5;28mprint\u001b[39m(\u001b[38;5;124mf\u001b[39m\u001b[38;5;124m\"\u001b[39m\u001b[38;5;124mDivision of \u001b[39m\u001b[38;5;132;01m{\u001b[39;00m\u001b[38;5;28mself\u001b[39m\u001b[38;5;241m.\u001b[39ma\u001b[38;5;132;01m}\u001b[39;00m\u001b[38;5;124m and \u001b[39m\u001b[38;5;132;01m{\u001b[39;00m\u001b[38;5;28mself\u001b[39m\u001b[38;5;241m.\u001b[39mb\u001b[38;5;132;01m}\u001b[39;00m\u001b[38;5;124m = \u001b[39m\u001b[38;5;132;01m{\u001b[39;00m\u001b[38;5;28mself\u001b[39m\u001b[38;5;241m.\u001b[39ma \u001b[38;5;241m/\u001b[39m \u001b[38;5;28mself\u001b[39m\u001b[38;5;241m.\u001b[39mb\u001b[38;5;132;01m}\u001b[39;00m\u001b[38;5;124m\"\u001b[39m)\n",
      "\u001b[1;31mAttributeError\u001b[0m: 'DerivedClass' object has no attribute 'a'"
     ]
    }
   ],
   "source": [
    "calc1.division()"
   ]
  },
  {
   "cell_type": "code",
   "execution_count": 26,
   "id": "e813c575",
   "metadata": {},
   "outputs": [
    {
     "name": "stdout",
     "output_type": "stream",
     "text": [
      "Multiplication of 10 and 5 = 50\n"
     ]
    }
   ],
   "source": [
    "calc1.multiplication(10,5)"
   ]
  },
  {
   "cell_type": "code",
   "execution_count": 27,
   "id": "6883fa21",
   "metadata": {},
   "outputs": [
    {
     "name": "stdout",
     "output_type": "stream",
     "text": [
      "Division of 10 and 5 = 2.0\n"
     ]
    }
   ],
   "source": [
    "calc1.division()"
   ]
  },
  {
   "cell_type": "code",
   "execution_count": 28,
   "id": "1483cea3",
   "metadata": {},
   "outputs": [
    {
     "name": "stdout",
     "output_type": "stream",
     "text": [
      "Addition of 10 and 5 = 15\n"
     ]
    }
   ],
   "source": [
    "calc1.addition()"
   ]
  },
  {
   "cell_type": "code",
   "execution_count": 30,
   "id": "2df78897",
   "metadata": {},
   "outputs": [
    {
     "name": "stdout",
     "output_type": "stream",
     "text": [
      "Derived Class __init__Method\n",
      "Calculation Method\n",
      "Addition of 20 and 10 = 30\n",
      "Multiplication of 20 and 10 = 200\n",
      "Division of 20 and 10 = 2.0\n"
     ]
    }
   ],
   "source": [
    "class BaseClass1():\n",
    "    def addition(self):\n",
    "        print(f\"Addition of {self.a} and {self.b} = {self.a + self.b}\")\n",
    "\n",
    "class BaseClass2(BaseClass1):\n",
    "    def multiplication(self):\n",
    "        print(f\"Multiplication of {self.a} and {self.b} = {self.a * self.b}\")\n",
    "\n",
    "class DerivedClass(BaseClass2):\n",
    "    def __init__(self,a,b):\n",
    "        print(\"Derived Class __init__Method\")\n",
    "        self.a = a\n",
    "        self.b = b\n",
    "        \n",
    "    def calc(self):\n",
    "        print(\"Calculation Method\")\n",
    "        \n",
    "    def division(self):\n",
    "        print(f\"Division of {self.a} and {self.b} = {self.a / self.b}\")\n",
    "        \n",
    "\n",
    "calc1 = DerivedClass(20,10)\n",
    "calc1.calc()\n",
    "calc1.addition()\n",
    "calc1.multiplication()\n",
    "calc1.division()"
   ]
  },
  {
   "cell_type": "code",
   "execution_count": 33,
   "id": "2347291f",
   "metadata": {},
   "outputs": [
    {
     "name": "stdout",
     "output_type": "stream",
     "text": [
      "BaseClass1 __init__Method\n",
      "BaseClass __init__ Method\n",
      "Derived Class __init__Method\n",
      "Calculation Method\n",
      "Addition of 20 and 10 = 30\n",
      "Multiplication of 20 and 10 = 200\n",
      "Division of 20 and 10 = 2.0\n"
     ]
    }
   ],
   "source": [
    "class BaseClass1():\n",
    "    def __init__(self):\n",
    "        print(\"BaseClass1 __init__Method\")\n",
    "        \n",
    "    def addition(self):\n",
    "        self.add = self.a + self.b\n",
    "        print(f\"Addition of {self.a} and {self.b} = {self.add}\")\n",
    "\n",
    "class BaseClass2(BaseClass1):\n",
    "    def __init__(self):\n",
    "        BaseClass1.__init__(self)\n",
    "        print(\"BaseClass __init__ Method\")\n",
    "        \n",
    "    def multiplication(self):\n",
    "        print(f\"Multiplication of {self.a} and {self.b} = {self.a * self.b}\")\n",
    "\n",
    "class DerivedClass(BaseClass2):\n",
    "    def __init__(self,a,b):\n",
    "        BaseClass2.__init__(self)\n",
    "        print(\"Derived Class __init__Method\")\n",
    "        self.a = a\n",
    "        self.b = b\n",
    "        \n",
    "    def calc(self):\n",
    "        print(\"Calculation Method\")\n",
    "        \n",
    "    def division(self):\n",
    "        print(f\"Division of {self.a} and {self.b} = {self.a / self.b}\")\n",
    "        \n",
    "\n",
    "calc1 = DerivedClass(20,10)\n",
    "calc1.calc()\n",
    "calc1.addition()\n",
    "calc1.multiplication()\n",
    "calc1.division()"
   ]
  },
  {
   "cell_type": "code",
   "execution_count": 34,
   "id": "4cfddd4a",
   "metadata": {},
   "outputs": [
    {
     "name": "stdout",
     "output_type": "stream",
     "text": [
      "BaseClass1 __init__Method\n",
      "BaseClass __init__ Method\n",
      "Derived Class __init__Method\n",
      "Calculation Method\n",
      "Addition of 20 and 10 = 30\n",
      "Multiplication of 20 and 10 = 200\n",
      "Division of 20 and 10 = 2.0\n"
     ]
    }
   ],
   "source": [
    "class BaseClass1():\n",
    "    def __init__(self):\n",
    "        print(\"BaseClass1 __init__Method\")\n",
    "        \n",
    "    def addition(self):\n",
    "        self.add = self.a + self.b\n",
    "        print(f\"Addition of {self.a} and {self.b} = {self.add}\")\n",
    "\n",
    "class BaseClass2(BaseClass1):\n",
    "    def __init__(self):\n",
    "        super().__init__()\n",
    "        print(\"BaseClass __init__ Method\")\n",
    "        \n",
    "    def multiplication(self):\n",
    "        print(f\"Multiplication of {self.a} and {self.b} = {self.a * self.b}\")\n",
    "\n",
    "class DerivedClass(BaseClass2):\n",
    "    def __init__(self,a,b):\n",
    "        super().__init__()\n",
    "        print(\"Derived Class __init__Method\")\n",
    "        self.a = a\n",
    "        self.b = b\n",
    "        \n",
    "    def calc(self):\n",
    "        print(\"Calculation Method\")\n",
    "        \n",
    "    def division(self):\n",
    "        print(f\"Division of {self.a} and {self.b} = {self.a / self.b}\")\n",
    "        \n",
    "\n",
    "calc1 = DerivedClass(20,10)\n",
    "calc1.calc()\n",
    "calc1.addition()\n",
    "calc1.multiplication()\n",
    "calc1.division()"
   ]
  },
  {
   "cell_type": "markdown",
   "id": "98c2a3b9",
   "metadata": {},
   "source": [
    "# 3.Multiple Inheritance"
   ]
  },
  {
   "cell_type": "code",
   "execution_count": 36,
   "id": "f36e8590",
   "metadata": {},
   "outputs": [],
   "source": [
    "class Father():\n",
    "    pass\n",
    "\n",
    "class Mother():\n",
    "    pass\n",
    "\n",
    "class Child(Mother):\n",
    "    pass\n",
    "\n",
    "obj1 = Child()"
   ]
  },
  {
   "cell_type": "code",
   "execution_count": 37,
   "id": "e9b8fe9c",
   "metadata": {},
   "outputs": [],
   "source": [
    "class Father():\n",
    "    pass\n",
    "\n",
    "class Mother(Father):\n",
    "    pass\n",
    "\n",
    "class Child(Mother):\n",
    "    pass\n",
    "\n",
    "obj1 = Child()"
   ]
  },
  {
   "cell_type": "code",
   "execution_count": 38,
   "id": "ac19ba83",
   "metadata": {},
   "outputs": [],
   "source": [
    "class Father():\n",
    "    pass\n",
    "\n",
    "class Mother():\n",
    "    pass\n",
    "\n",
    "class Child(Mother,Father):\n",
    "    pass\n",
    "\n",
    "obj1 = Child()"
   ]
  },
  {
   "cell_type": "markdown",
   "id": "088cb6a8",
   "metadata": {},
   "source": [
    "## Docstring"
   ]
  },
  {
   "cell_type": "code",
   "execution_count": 40,
   "id": "22e57bde",
   "metadata": {},
   "outputs": [
    {
     "name": "stdout",
     "output_type": "stream",
     "text": [
      "Derived Class __init__ Method\n"
     ]
    }
   ],
   "source": [
    "class BaseClass1():\n",
    "    def addition(self,a,b):\n",
    "        \"\"\"Addition\"\"\"\n",
    "        print(\"Addition Method\")\n",
    "        add = a + b\n",
    "        print(f\"Addition of {a} and {b} ==> {add}\")\n",
    "        \n",
    "class BaseClass2():\n",
    "    def multiplication(self,a,b):\n",
    "        print(\"Multiplication Method\")\n",
    "        mul = a * b\n",
    "        print(f\"Multiplication of {a} and {b} ==> {mul}\")\n",
    "\n",
    "class DerivedClass(BaseClass1,BaseClass2):\n",
    "    \"\"\"\n",
    "    Derived Class inheriting Properties from BaseClass1 and BaseClass2\n",
    "    \"\"\"\n",
    "    def __init__(self):\n",
    "        print(\"Derived Class __init__ Method\")\n",
    "\n",
    "    def calc(self):\n",
    "        print(\"Calculation Method\")\n",
    "              \n",
    "              \n",
    "obj1 = DerivedClass()\n"
   ]
  },
  {
   "cell_type": "code",
   "execution_count": 41,
   "id": "8e422f65",
   "metadata": {},
   "outputs": [
    {
     "name": "stdout",
     "output_type": "stream",
     "text": [
      "Addition Method\n",
      "Addition of 10 and 20 ==> 30\n"
     ]
    }
   ],
   "source": [
    "obj1.addition(10,20)"
   ]
  },
  {
   "cell_type": "code",
   "execution_count": 42,
   "id": "2bb7c4a3",
   "metadata": {},
   "outputs": [
    {
     "ename": "TypeError",
     "evalue": "multiplication() missing 2 required positional arguments: 'a' and 'b'",
     "output_type": "error",
     "traceback": [
      "\u001b[1;31m---------------------------------------------------------------------------\u001b[0m",
      "\u001b[1;31mTypeError\u001b[0m                                 Traceback (most recent call last)",
      "Cell \u001b[1;32mIn [42], line 1\u001b[0m\n\u001b[1;32m----> 1\u001b[0m \u001b[43mobj1\u001b[49m\u001b[38;5;241;43m.\u001b[39;49m\u001b[43mmultiplication\u001b[49m\u001b[43m(\u001b[49m\u001b[43m)\u001b[49m\n",
      "\u001b[1;31mTypeError\u001b[0m: multiplication() missing 2 required positional arguments: 'a' and 'b'"
     ]
    }
   ],
   "source": [
    "obj1.multiplication()"
   ]
  },
  {
   "cell_type": "code",
   "execution_count": 43,
   "id": "16eeeac3",
   "metadata": {},
   "outputs": [
    {
     "name": "stdout",
     "output_type": "stream",
     "text": [
      "Multiplication Method\n",
      "Multiplication of 10 and 30 ==> 300\n"
     ]
    }
   ],
   "source": [
    "obj1.multiplication(10,30)"
   ]
  },
  {
   "cell_type": "code",
   "execution_count": 44,
   "id": "a1a2f92c",
   "metadata": {},
   "outputs": [
    {
     "name": "stdout",
     "output_type": "stream",
     "text": [
      "Help on class DerivedClass in module __main__:\n",
      "\n",
      "class DerivedClass(BaseClass1, BaseClass2)\n",
      " |  Derived Class inheriting Properties from BaseClass1 and BaseClass2\n",
      " |  \n",
      " |  Method resolution order:\n",
      " |      DerivedClass\n",
      " |      BaseClass1\n",
      " |      BaseClass2\n",
      " |      builtins.object\n",
      " |  \n",
      " |  Methods defined here:\n",
      " |  \n",
      " |  __init__(self)\n",
      " |      Initialize self.  See help(type(self)) for accurate signature.\n",
      " |  \n",
      " |  calc(self)\n",
      " |  \n",
      " |  ----------------------------------------------------------------------\n",
      " |  Methods inherited from BaseClass1:\n",
      " |  \n",
      " |  addition(self, a, b)\n",
      " |      Addition\n",
      " |  \n",
      " |  ----------------------------------------------------------------------\n",
      " |  Data descriptors inherited from BaseClass1:\n",
      " |  \n",
      " |  __dict__\n",
      " |      dictionary for instance variables (if defined)\n",
      " |  \n",
      " |  __weakref__\n",
      " |      list of weak references to the object (if defined)\n",
      " |  \n",
      " |  ----------------------------------------------------------------------\n",
      " |  Methods inherited from BaseClass2:\n",
      " |  \n",
      " |  multiplication(self, a, b)\n",
      "\n"
     ]
    }
   ],
   "source": [
    "help(DerivedClass)"
   ]
  },
  {
   "cell_type": "code",
   "execution_count": 54,
   "id": "106f72d3",
   "metadata": {},
   "outputs": [
    {
     "name": "stdout",
     "output_type": "stream",
     "text": [
      "Derived Class __init__ Method\n",
      "Base Class 1 __init__ Method\n",
      "Base Class 2 __init__ Method\n"
     ]
    }
   ],
   "source": [
    "class BaseClass1():\n",
    "    def __init__(self,a,b):\n",
    "        \"\"\"This is the __init__ method of BaseClass which\n",
    "        will pass ots properties to derived class\"\"\"\n",
    "        print(\"Base Class 1 __init__ Method\")\n",
    "        self.a = a\n",
    "        self.b = b\n",
    "        \n",
    "    def addition(self):\n",
    "        \"\"\"Addition\"\"\"\n",
    "        print(\"Addition Method\")\n",
    "        self.add = self.a + self.b\n",
    "        print(f\"Addition of {self.a} and {self.b} ==> {self.add}\")\n",
    "            \n",
    "            \n",
    "class BaseClass2():\n",
    "    def __init__(self,a1,b1):\n",
    "        print(\"Base Class 2 __init__ Method\")\n",
    "        self.a1 =a1\n",
    "        self.b1 = b1\n",
    "        \n",
    "    def multiplication(self):\n",
    "        print(\"Multiplication Method\")\n",
    "        self.mul = self.a1 * self.b1\n",
    "        print(f\"Multiplication of {self.a1} and {self.b1} ==> {self.mul}\")\n",
    "        \n",
    "\n",
    "class DerivedClass(BaseClass1,BaseClass2):\n",
    "    \"\"\"\n",
    "    Derived Class inheriting Properties from BaseClass1 and BaseClass2\n",
    "    \"\"\"\n",
    "    \n",
    "    def __init__(self,a,b,a1,b1,c):\n",
    "        print(\"Derived Class __init__ Method\")\n",
    "        BaseClass1.__init__(self,a,b)\n",
    "        BaseClass2.__init__(self,a1,b1)\n",
    "        self.c = c\n",
    "        \n",
    "        \n",
    "    def calc(self):\n",
    "        print(\"Calculation Method\")\n",
    "        print(f\"self.c ---> {self.c}\")\n",
    "              \n",
    "              \n",
    "obj1 = DerivedClass(10,20,10,20,\"Python\")\n"
   ]
  },
  {
   "cell_type": "code",
   "execution_count": 55,
   "id": "dbd2e33a",
   "metadata": {},
   "outputs": [
    {
     "name": "stdout",
     "output_type": "stream",
     "text": [
      "Addition Method\n",
      "Addition of 10 and 20 ==> 30\n"
     ]
    }
   ],
   "source": [
    "obj1.addition()"
   ]
  },
  {
   "cell_type": "code",
   "execution_count": 56,
   "id": "2e1eecb3",
   "metadata": {},
   "outputs": [
    {
     "name": "stdout",
     "output_type": "stream",
     "text": [
      "Multiplication Method\n",
      "Multiplication of 10 and 20 ==> 200\n"
     ]
    }
   ],
   "source": [
    "obj1.multiplication()"
   ]
  },
  {
   "cell_type": "code",
   "execution_count": 58,
   "id": "394f563d",
   "metadata": {},
   "outputs": [
    {
     "name": "stdout",
     "output_type": "stream",
     "text": [
      "Calculation Method\n",
      "self.c ---> Python\n"
     ]
    }
   ],
   "source": [
    "obj1.calc()"
   ]
  },
  {
   "cell_type": "code",
   "execution_count": 61,
   "id": "36c48f41",
   "metadata": {},
   "outputs": [
    {
     "name": "stdout",
     "output_type": "stream",
     "text": [
      "Derived Class __init__ Method\n"
     ]
    }
   ],
   "source": [
    "class BaseClass1():\n",
    "#     def __init__(self,a,b):\n",
    "#         \"\"\"This is the __init__ method of BaseClass which\n",
    "#         will pass ots properties to derived class\"\"\"\n",
    "#         print(\"Base Class 1 __init__ Method\")\n",
    "#         self.a = a\n",
    "#         self.b = b\n",
    "        \n",
    "    def addition(self):\n",
    "        \"\"\"Addition\"\"\"\n",
    "        print(\"Addition Method\")\n",
    "        self.add = self.a + self.b\n",
    "        print(f\"Addition of {self.a} and {self.b} ==> {self.add}\")\n",
    "            \n",
    "            \n",
    "class BaseClass2():\n",
    "    def __init__(self,a1,b1):\n",
    "        print(\"Base Class 2 __init__ Method\")\n",
    "        self.a1 =a1\n",
    "        self.b1 = b1\n",
    "        \n",
    "    def multiplication(self):\n",
    "        print(\"Multiplication Method\")\n",
    "        self.mul = self.a1 * self.b1\n",
    "        print(f\"Multiplication of {self.a1} and {self.b1} ==> {self.mul}\")\n",
    "        \n",
    "\n",
    "class DerivedClass(BaseClass1,BaseClass2):\n",
    "    \"\"\"\n",
    "    Derived Class inheriting Properties from BaseClass1 and BaseClass2\n",
    "    \"\"\"\n",
    "    \n",
    "    def __init__(self,a,b,a1,b1,c):\n",
    "        print(\"Derived Class __init__ Method\")\n",
    "#         BaseClass1.__init__(self,a,b)\n",
    "#         BaseClass2.__init__(self,a1,b1)\n",
    "        self.c = c\n",
    "        \n",
    "        \n",
    "    def calc(self):\n",
    "        print(\"Calculation Method\")\n",
    "        print(f\"self.c ---> {self.c}\")\n",
    "              \n",
    "              \n",
    "obj1 = DerivedClass(10,20,10,20,\"Python\")\n"
   ]
  }
 ],
 "metadata": {
  "kernelspec": {
   "display_name": "Python 3 (ipykernel)",
   "language": "python",
   "name": "python3"
  },
  "language_info": {
   "codemirror_mode": {
    "name": "ipython",
    "version": 3
   },
   "file_extension": ".py",
   "mimetype": "text/x-python",
   "name": "python",
   "nbconvert_exporter": "python",
   "pygments_lexer": "ipython3",
   "version": "3.12.4"
  }
 },
 "nbformat": 4,
 "nbformat_minor": 5
}
