{
 "cells": [
  {
   "cell_type": "markdown",
   "id": "9c379b3e",
   "metadata": {},
   "source": [
    "# Calling a function inside other function"
   ]
  },
  {
   "cell_type": "code",
   "execution_count": 3,
   "id": "c9b3a174",
   "metadata": {},
   "outputs": [
    {
     "name": "stdout",
     "output_type": "stream",
     "text": [
      "150\n"
     ]
    }
   ],
   "source": [
    "def add(x,y):\n",
    "    print(x+y)\n",
    "\n",
    "def calc(x,y):\n",
    "    add(x,y)\n",
    "    \n",
    "x = 100\n",
    "y = 50\n",
    "calc(x,y)"
   ]
  },
  {
   "cell_type": "code",
   "execution_count": 2,
   "id": "cd79066c",
   "metadata": {},
   "outputs": [
    {
     "name": "stdout",
     "output_type": "stream",
     "text": [
      "505\n"
     ]
    }
   ],
   "source": [
    "add(500,5)"
   ]
  },
  {
   "cell_type": "code",
   "execution_count": 4,
   "id": "f52d2b38",
   "metadata": {},
   "outputs": [
    {
     "name": "stdout",
     "output_type": "stream",
     "text": [
      "x and y in calculation function x =100, y =50\n",
      "Calling add function\n",
      "x and y in add function x = 100,y = 50\n",
      "The result of add function = 150\n"
     ]
    }
   ],
   "source": [
    "def add(x,y): \n",
    "    print(f\"x and y in add function x = {x},y = {y}\")\n",
    "    return x+y\n",
    "\n",
    "def calc(x,y):\n",
    "    print(f\"x and y in calculation function x ={x}, y ={y}\")\n",
    "    print(\"Calling add function\")\n",
    "    res = add(x,y)\n",
    "    print(\"The result of add function =\", res)\n",
    "    \n",
    "x = 100\n",
    "y = 50\n",
    "calc(x,y)"
   ]
  },
  {
   "cell_type": "code",
   "execution_count": 5,
   "id": "979b5fc3",
   "metadata": {},
   "outputs": [
    {
     "name": "stdout",
     "output_type": "stream",
     "text": [
      "x and y in calculation function x =100, y =50\n",
      "Calling Add function\n",
      "x and y in add function x= 100,y =50\n",
      "The result of add fucntion 150\n",
      "\n",
      "Calling mul function\n",
      "x and y in mul function x =100, y =50\n",
      "The result of mul function 5000\n"
     ]
    }
   ],
   "source": [
    "def add(x,y):\n",
    "    print(f\"x and y in add function x= {x},y ={y}\")\n",
    "    return x+y\n",
    "\n",
    "def mul(x,y):\n",
    "    multiplication = x * y\n",
    "    print(f\"x and y in mul function x ={x}, y ={y}\")\n",
    "    return x  *y\n",
    "\n",
    "\n",
    "def calc(x,y):\n",
    "    print(f\"x and y in calculation function x ={x}, y ={y}\")\n",
    "    print(\"Calling Add function\")\n",
    "    res = add(x,y)\n",
    "    print(\"The result of add fucntion\",res)\n",
    "    print()\n",
    "    print(\"Calling mul function\")\n",
    "    res = mul(x,y)\n",
    "    print(\"The result of mul function\",res)\n",
    "x = 100\n",
    "y = 50\n",
    "calc(x,y)"
   ]
  },
  {
   "cell_type": "code",
   "execution_count": 6,
   "id": "6f96fa04",
   "metadata": {},
   "outputs": [
    {
     "name": "stdout",
     "output_type": "stream",
     "text": [
      "x and y in calculation function x =100, y =50\n",
      "Calling Add function\n",
      "x and y in add function x= 100,y =50\n",
      "The result of add fucntion 150\n",
      "\n",
      "Calling mul function\n",
      "x and y in mul function x =100, y =50\n",
      "The result of mul function 5000\n"
     ]
    }
   ],
   "source": [
    "def add(x,y):\n",
    "    print(f\"x and y in add function x= {x},y ={y}\")\n",
    "    return x+y\n",
    "\n",
    "def mul(x,y):\n",
    "    global multiplication\n",
    "    multiplication = x * y\n",
    "    print(f\"x and y in mul function x ={x}, y ={y}\")\n",
    "    return x  *y\n",
    "\n",
    "\n",
    "def calc(x,y):\n",
    "    print(f\"x and y in calculation function x ={x}, y ={y}\")\n",
    "    print(\"Calling Add function\")\n",
    "    res = add(x,y)\n",
    "    print(\"The result of add fucntion\",res)\n",
    "    print()\n",
    "    print(\"Calling mul function\")\n",
    "    res = mul(x,y)\n",
    "    print(\"The result of mul function\",res)\n",
    "x = 100\n",
    "y = 50\n",
    "calc(x,y)"
   ]
  },
  {
   "cell_type": "code",
   "execution_count": 10,
   "id": "6c01a01a",
   "metadata": {},
   "outputs": [
    {
     "name": "stdout",
     "output_type": "stream",
     "text": [
      "x and y in calculation function x =100, y =50\n",
      "Calling Add function\n",
      "x and y in add function x= 100,y =50\n",
      "The result of add fucntion 150\n",
      "\n",
      "Calling mul function\n",
      "x and y in mul function x =100, y =50\n",
      "The result of mul function 5000\n",
      "\n",
      "Calling sub function\n",
      "a and b in sub function a=100,b =50\n",
      "The result of sub function 50\n"
     ]
    }
   ],
   "source": [
    "def add(x,y):\n",
    "    print(f\"x and y in add function x= {x},y ={y}\")\n",
    "    return x+y\n",
    "\n",
    "def mul(x,y):\n",
    "    multiplication = x * y\n",
    "    print(f\"x and y in mul function x ={x}, y ={y}\")\n",
    "    return x  *y\n",
    "\n",
    "def sub(a,b):\n",
    "    print(f\"a and b in sub function a={a},b ={b}\")\n",
    "    return a - b\n",
    "\n",
    "\n",
    "def calc(x,y):\n",
    "    print(f\"x and y in calculation function x ={x}, y ={y}\")\n",
    "    print(\"Calling Add function\")\n",
    "    res = add(x,y)\n",
    "    print(\"The result of add fucntion\",res)\n",
    "    print()\n",
    "    print(\"Calling mul function\")\n",
    "    res = mul(x,y)\n",
    "    print(\"The result of mul function\",res)\n",
    "    print()\n",
    "    print(\"Calling sub function\")\n",
    "    res = sub(x,y)\n",
    "    print(\"The result of sub function\",res)\n",
    "x = 100\n",
    "y = 50\n",
    "calc(x,y)"
   ]
  },
  {
   "cell_type": "code",
   "execution_count": 13,
   "id": "dc2f021b",
   "metadata": {},
   "outputs": [
    {
     "name": "stdout",
     "output_type": "stream",
     "text": [
      "Add = 150\n",
      "Mul = 5000\n",
      "Sub = 50\n",
      "Div = 2.0\n",
      "All functions are executed\n"
     ]
    }
   ],
   "source": [
    "def add(x,y):\n",
    "    print(\"Add =\",x + y)\n",
    "\n",
    "def mul(x,y):\n",
    "    print(\"Mul =\",x * y)\n",
    "    \n",
    "def sub(a,b):\n",
    "    print(\"Sub =\",a - b)\n",
    "    \n",
    "def div(a,b):\n",
    "    print(\"Div =\",a/b)\n",
    "    \n",
    "def calc(x,y):\n",
    "    add(x,y)\n",
    "    mul(x,y)\n",
    "    sub(x,y)\n",
    "    div(x,y)\n",
    "    print(\"All functions are executed\")\n",
    "    \n",
    "x = 100\n",
    "y = 50\n",
    "calc(x,y)"
   ]
  },
  {
   "cell_type": "code",
   "execution_count": 3,
   "id": "68298464",
   "metadata": {},
   "outputs": [
    {
     "name": "stdout",
     "output_type": "stream",
     "text": [
      "Enter \n",
      "1 for addition\n",
      "2 for mul\n",
      "3 for sub\n",
      "4 for div3\n",
      "Sub = 5\n"
     ]
    }
   ],
   "source": [
    "def add(x,y):\n",
    "    print(\"Add =\",x + y)\n",
    "\n",
    "def mul(x,y):\n",
    "    print(\"Mul =\",x * y)\n",
    "    \n",
    "def sub(a,b):\n",
    "    print(\"Sub =\",a - b)\n",
    "    \n",
    "def div(a,b):\n",
    "    print(\"Div =\",a/b)\n",
    "    \n",
    "def calc(x,y):\n",
    "    which_operation = int(input(f\"Enter \\n1 for addition\\n2 for mul\\n3 for sub\\n4 for div\"))\n",
    "    if which_operation == 1:\n",
    "        add(x,y)\n",
    "    elif which_operation == 2:\n",
    "        mul(x,y)\n",
    "    elif which_operation == 3:\n",
    "        sub(x,y)\n",
    "    else:\n",
    "        div(x,y)\n",
    "\n",
    "x = 10\n",
    "y = 5\n",
    "calc(x,y)\n",
    "       "
   ]
  },
  {
   "cell_type": "code",
   "execution_count": 4,
   "id": "e299f3ba",
   "metadata": {},
   "outputs": [
    {
     "name": "stdout",
     "output_type": "stream",
     "text": [
      "Mohit\n"
     ]
    }
   ],
   "source": [
    "def my_name(name):\n",
    "    print(name)\n",
    "    \n",
    "my_first_name = \"Mohit\"\n",
    "my_name(my_first_name)"
   ]
  }
 ],
 "metadata": {
  "kernelspec": {
   "display_name": "Python 3 (ipykernel)",
   "language": "python",
   "name": "python3"
  },
  "language_info": {
   "codemirror_mode": {
    "name": "ipython",
    "version": 3
   },
   "file_extension": ".py",
   "mimetype": "text/x-python",
   "name": "python",
   "nbconvert_exporter": "python",
   "pygments_lexer": "ipython3",
   "version": "3.12.4"
  }
 },
 "nbformat": 4,
 "nbformat_minor": 5
}
