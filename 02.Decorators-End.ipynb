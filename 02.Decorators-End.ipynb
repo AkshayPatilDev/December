{
 "cells": [
  {
   "cell_type": "markdown",
   "id": "f95d0f04",
   "metadata": {},
   "source": [
    "# Decorators"
   ]
  },
  {
   "cell_type": "code",
   "execution_count": 1,
   "id": "14c0d6cc",
   "metadata": {},
   "outputs": [
    {
     "name": "stdout",
     "output_type": "stream",
     "text": [
      "This is Hello Decorator Function\n",
      "This is Inner Decorator Function\n"
     ]
    },
    {
     "data": {
      "text/plain": [
       "'Inner Decorators'"
      ]
     },
     "execution_count": 1,
     "metadata": {},
     "output_type": "execute_result"
    }
   ],
   "source": [
    "def HelloDecorator():\n",
    "    print(\"This is Hello Decorator Function\")\n",
    "    \n",
    "    def InnerDecoratorFunc():\n",
    "        print(\"This is Inner Decorator Function\")\n",
    "        return \"Inner Decorators\"\n",
    "    \n",
    "    return InnerDecoratorFunc()\n",
    "\n",
    "HelloDecorator()"
   ]
  },
  {
   "cell_type": "code",
   "execution_count": 3,
   "id": "648a61de",
   "metadata": {},
   "outputs": [
    {
     "name": "stdout",
     "output_type": "stream",
     "text": [
      "This is Hello Decorator Function\n"
     ]
    },
    {
     "data": {
      "text/plain": [
       "<function __main__.HelloDecorator.<locals>.InnerDecoratorFunc()>"
      ]
     },
     "execution_count": 3,
     "metadata": {},
     "output_type": "execute_result"
    }
   ],
   "source": [
    "def HelloDecorator():\n",
    "    print(\"This is Hello Decorator Function\")\n",
    "    \n",
    "    def InnerDecoratorFunc():\n",
    "        print(\"This is Inner Decorator Function\")\n",
    "        return \"Inner Decorators\"\n",
    "    \n",
    "    return InnerDecoratorFunc\n",
    "\n",
    "Res = HelloDecorator()\n",
    "Res"
   ]
  },
  {
   "cell_type": "code",
   "execution_count": 4,
   "id": "3b13aabc",
   "metadata": {},
   "outputs": [
    {
     "name": "stdout",
     "output_type": "stream",
     "text": [
      "This is Hello Decorator Function\n",
      "This is Inner Decorator Function\n"
     ]
    },
    {
     "data": {
      "text/plain": [
       "'Inner Decorators'"
      ]
     },
     "execution_count": 4,
     "metadata": {},
     "output_type": "execute_result"
    }
   ],
   "source": [
    "def HelloDecorator():\n",
    "    print(\"This is Hello Decorator Function\")\n",
    "    \n",
    "    def InnerDecoratorFunc():\n",
    "        print(\"This is Inner Decorator Function\")\n",
    "        return \"Inner Decorators\"\n",
    "    \n",
    "    return InnerDecoratorFunc\n",
    "\n",
    "Res = HelloDecorator()\n",
    "Res()"
   ]
  },
  {
   "cell_type": "code",
   "execution_count": 5,
   "id": "3fbeb2f0",
   "metadata": {},
   "outputs": [
    {
     "name": "stdout",
     "output_type": "stream",
     "text": [
      "This is Inner Decorator Function\n"
     ]
    },
    {
     "data": {
      "text/plain": [
       "'Inner Decorators'"
      ]
     },
     "execution_count": 5,
     "metadata": {},
     "output_type": "execute_result"
    }
   ],
   "source": [
    "Res()"
   ]
  },
  {
   "cell_type": "code",
   "execution_count": 8,
   "id": "acad89bf",
   "metadata": {},
   "outputs": [
    {
     "name": "stdout",
     "output_type": "stream",
     "text": [
      "This is Hello Decorator Function\n",
      "This is Inner Decorator Function\n",
      "Learning Decorators\n",
      "**********\n"
     ]
    },
    {
     "data": {
      "text/plain": [
       "'Inner Decorators'"
      ]
     },
     "execution_count": 8,
     "metadata": {},
     "output_type": "execute_result"
    }
   ],
   "source": [
    "def HelloDecorator(func):\n",
    "    print(\"This is Hello Decorator Function\")\n",
    "    \n",
    "    def InnerDecoratorFunc():\n",
    "        print(\"This is Inner Decorator Function\")\n",
    "        func()\n",
    "        print(\"*\"*10)\n",
    "        return \"Inner Decorators\"\n",
    "    \n",
    "    return InnerDecoratorFunc\n",
    "\n",
    "def my_func():\n",
    "    print(\"Learning Decorators\")\n",
    "    \n",
    "    \n",
    "Res = HelloDecorator(my_func)\n",
    "Res()"
   ]
  },
  {
   "cell_type": "code",
   "execution_count": 9,
   "id": "a010039b",
   "metadata": {},
   "outputs": [
    {
     "name": "stdout",
     "output_type": "stream",
     "text": [
      "This is Hello Decorator Function\n",
      "This is Inner Decorator Function\n",
      "Learning Decorators\n",
      "**********\n"
     ]
    },
    {
     "data": {
      "text/plain": [
       "'Inner Decorators'"
      ]
     },
     "execution_count": 9,
     "metadata": {},
     "output_type": "execute_result"
    }
   ],
   "source": [
    "def HelloDecorator(func):\n",
    "    print(\"This is Hello Decorator Function\")\n",
    "    \n",
    "    def InnerDecoratorFunc():\n",
    "        print(\"This is Inner Decorator Function\")\n",
    "        func()\n",
    "        print(\"*\"*10)\n",
    "        return \"Inner Decorators\"\n",
    "    \n",
    "    return InnerDecoratorFunc\n",
    "\n",
    "@HelloDecorator\n",
    "def my_func():\n",
    "    print(\"Learning Decorators\")\n",
    "    \n",
    "    \n",
    "my_func()\n"
   ]
  },
  {
   "cell_type": "code",
   "execution_count": 1,
   "id": "82b82fd9",
   "metadata": {},
   "outputs": [],
   "source": [
    "from Demo import Division"
   ]
  },
  {
   "cell_type": "code",
   "execution_count": 2,
   "id": "3d9f9f18",
   "metadata": {},
   "outputs": [
    {
     "data": {
      "text/plain": [
       "'Division of 10 and 5 is 2.0'"
      ]
     },
     "execution_count": 2,
     "metadata": {},
     "output_type": "execute_result"
    }
   ],
   "source": [
    "Division(10,5)"
   ]
  },
  {
   "cell_type": "code",
   "execution_count": 3,
   "id": "0181a9ac",
   "metadata": {},
   "outputs": [
    {
     "data": {
      "text/plain": [
       "'Division of 500 and 100 is 5.0'"
      ]
     },
     "execution_count": 3,
     "metadata": {},
     "output_type": "execute_result"
    }
   ],
   "source": [
    "Division(500,100)"
   ]
  },
  {
   "cell_type": "code",
   "execution_count": 4,
   "id": "2ed6dab8",
   "metadata": {},
   "outputs": [
    {
     "data": {
      "text/plain": [
       "'Division of 5 and 10 is 0.5'"
      ]
     },
     "execution_count": 4,
     "metadata": {},
     "output_type": "execute_result"
    }
   ],
   "source": [
    "Division(5,10)"
   ]
  },
  {
   "cell_type": "code",
   "execution_count": 5,
   "id": "63307aac",
   "metadata": {},
   "outputs": [],
   "source": [
    "def Division1(func):\n",
    "    def InnerFunc(a,b):\n",
    "        if a < b:\n",
    "            a,b = b,a\n",
    "        return func(a,b)\n",
    "    return InnerFunc"
   ]
  },
  {
   "cell_type": "code",
   "execution_count": 6,
   "id": "e20d9e0c",
   "metadata": {},
   "outputs": [
    {
     "data": {
      "text/plain": [
       "'Division of 10 and 5 is 2.0'"
      ]
     },
     "execution_count": 6,
     "metadata": {},
     "output_type": "execute_result"
    }
   ],
   "source": [
    "Division(10,5)"
   ]
  },
  {
   "cell_type": "code",
   "execution_count": 7,
   "id": "ebf691c3",
   "metadata": {},
   "outputs": [
    {
     "data": {
      "text/plain": [
       "'Division of 5 and 10 is 0.5'"
      ]
     },
     "execution_count": 7,
     "metadata": {},
     "output_type": "execute_result"
    }
   ],
   "source": [
    "Division(5,10)"
   ]
  },
  {
   "cell_type": "code",
   "execution_count": 8,
   "id": "1edf2f0b",
   "metadata": {},
   "outputs": [
    {
     "ename": "TypeError",
     "evalue": "Division1() missing 1 required positional argument: 'func'",
     "output_type": "error",
     "traceback": [
      "\u001b[1;31m---------------------------------------------------------------------------\u001b[0m",
      "\u001b[1;31mTypeError\u001b[0m                                 Traceback (most recent call last)",
      "Cell \u001b[1;32mIn [8], line 1\u001b[0m\n\u001b[1;32m----> 1\u001b[0m \u001b[43mDivision1\u001b[49m\u001b[43m(\u001b[49m\u001b[43m)\u001b[49m\n",
      "\u001b[1;31mTypeError\u001b[0m: Division1() missing 1 required positional argument: 'func'"
     ]
    }
   ],
   "source": [
    "Division1()"
   ]
  },
  {
   "cell_type": "code",
   "execution_count": 10,
   "id": "8efe9e4b",
   "metadata": {},
   "outputs": [
    {
     "data": {
      "text/plain": [
       "<function __main__.Division1.<locals>.InnerFunc(a, b)>"
      ]
     },
     "execution_count": 10,
     "metadata": {},
     "output_type": "execute_result"
    }
   ],
   "source": [
    "div1 = Division1(Division)\n",
    "div1"
   ]
  },
  {
   "cell_type": "code",
   "execution_count": 15,
   "id": "2df18068",
   "metadata": {},
   "outputs": [
    {
     "data": {
      "text/plain": [
       "'Division of 10 and 5 is 2.0'"
      ]
     },
     "execution_count": 15,
     "metadata": {},
     "output_type": "execute_result"
    }
   ],
   "source": [
    "div1(10,5)"
   ]
  },
  {
   "cell_type": "code",
   "execution_count": 16,
   "id": "b8f6ae0a",
   "metadata": {},
   "outputs": [
    {
     "data": {
      "text/plain": [
       "'Division of 10 and 5 is 2.0'"
      ]
     },
     "execution_count": 16,
     "metadata": {},
     "output_type": "execute_result"
    }
   ],
   "source": [
    "div1(5,10)"
   ]
  },
  {
   "cell_type": "code",
   "execution_count": 18,
   "id": "c1782cfe",
   "metadata": {},
   "outputs": [
    {
     "data": {
      "text/plain": [
       "'Division of 100 and 5 is 20.0'"
      ]
     },
     "execution_count": 18,
     "metadata": {},
     "output_type": "execute_result"
    }
   ],
   "source": [
    "@Division1\n",
    "def Division(a,b):\n",
    "    return f\"Division of {a} and {b} is {a/b}\"\n",
    "\n",
    "Division(100,5)"
   ]
  },
  {
   "cell_type": "code",
   "execution_count": 19,
   "id": "075130d4",
   "metadata": {},
   "outputs": [
    {
     "data": {
      "text/plain": [
       "'Division of 100 and 5 is 20.0'"
      ]
     },
     "execution_count": 19,
     "metadata": {},
     "output_type": "execute_result"
    }
   ],
   "source": [
    "Division(5,100)"
   ]
  },
  {
   "cell_type": "code",
   "execution_count": 20,
   "id": "85ee3456",
   "metadata": {},
   "outputs": [],
   "source": [
    "import time"
   ]
  },
  {
   "cell_type": "code",
   "execution_count": 21,
   "id": "015958c6",
   "metadata": {},
   "outputs": [
    {
     "name": "stdout",
     "output_type": "stream",
     "text": [
      "Factorial of 5 ---> 120\n"
     ]
    }
   ],
   "source": [
    "def fact(num):\n",
    "    Factorial = 1\n",
    "    for i in range(1,num+1):\n",
    "        Factorial *= i\n",
    "    print(f\"Factorial of {num} ---> {Factorial}\")\n",
    "    \n",
    "fact(5)"
   ]
  },
  {
   "cell_type": "code",
   "execution_count": null,
   "id": "0db38166",
   "metadata": {},
   "outputs": [],
   "source": []
  },
  {
   "cell_type": "code",
   "execution_count": 23,
   "id": "529b76e5",
   "metadata": {},
   "outputs": [],
   "source": [
    "def CalcTime(fact):\n",
    "    \n",
    "    def InnerFunc(num):\n",
    "        start_time = time.time()\n",
    "        fact(num)\n",
    "        end_time = time.time()\n",
    "        \n",
    "        total_time = end_time - start_time\n",
    "        print(f\"The Total time required --> {total_time}\")\n",
    "        \n",
    "    return InnerFunc"
   ]
  },
  {
   "cell_type": "code",
   "execution_count": 24,
   "id": "71cd0d30",
   "metadata": {},
   "outputs": [
    {
     "name": "stdout",
     "output_type": "stream",
     "text": [
      "Factorial of 5 ---> 120\n",
      "The Total time required --> 0.00045990943908691406\n"
     ]
    }
   ],
   "source": [
    "@CalcTime\n",
    "def fact(num):\n",
    "    Factorial = 1\n",
    "    for i in range(1,num+1):\n",
    "        Factorial *= i\n",
    "    print(f\"Factorial of {num} ---> {Factorial}\")\n",
    "    \n",
    "fact(5)"
   ]
  },
  {
   "cell_type": "code",
   "execution_count": 25,
   "id": "914c0c70",
   "metadata": {},
   "outputs": [
    {
     "name": "stdout",
     "output_type": "stream",
     "text": [
      "Factorial of 100 ---> 93326215443944152681699238856266700490715968264381621468592963895217599993229915608941463976156518286253697920827223758251185210916864000000000000000000000000\n",
      "The Total time required --> 0.0\n"
     ]
    }
   ],
   "source": [
    "fact(100)"
   ]
  },
  {
   "cell_type": "code",
   "execution_count": 26,
   "id": "fae75bb8",
   "metadata": {},
   "outputs": [
    {
     "name": "stdout",
     "output_type": "stream",
     "text": [
      "Factorial of 1000 ---> 402387260077093773543702433923003985719374864210714632543799910429938512398629020592044208486969404800479988610197196058631666872994808558901323829669944590997424504087073759918823627727188732519779505950995276120874975462497043601418278094646496291056393887437886487337119181045825783647849977012476632889835955735432513185323958463075557409114262417474349347553428646576611667797396668820291207379143853719588249808126867838374559731746136085379534524221586593201928090878297308431392844403281231558611036976801357304216168747609675871348312025478589320767169132448426236131412508780208000261683151027341827977704784635868170164365024153691398281264810213092761244896359928705114964975419909342221566832572080821333186116811553615836546984046708975602900950537616475847728421889679646244945160765353408198901385442487984959953319101723355556602139450399736280750137837615307127761926849034352625200015888535147331611702103968175921510907788019393178114194545257223865541461062892187960223838971476088506276862967146674697562911234082439208160153780889893964518263243671616762179168909779911903754031274622289988005195444414282012187361745992642956581746628302955570299024324153181617210465832036786906117260158783520751516284225540265170483304226143974286933061690897968482590125458327168226458066526769958652682272807075781391858178889652208164348344825993266043367660176999612831860788386150279465955131156552036093988180612138558600301435694527224206344631797460594682573103790084024432438465657245014402821885252470935190620929023136493273497565513958720559654228749774011413346962715422845862377387538230483865688976461927383814900140767310446640259899490222221765904339901886018566526485061799702356193897017860040811889729918311021171229845901641921068884387121855646124960798722908519296819372388642614839657382291123125024186649353143970137428531926649875337218940694281434118520158014123344828015051399694290153483077644569099073152433278288269864602789864321139083506217095002597389863554277196742822248757586765752344220207573630569498825087968928162753848863396909959826280956121450994871701244516461260379029309120889086942028510640182154399457156805941872748998094254742173582401063677404595741785160829230135358081840096996372524230560855903700624271243416909004153690105933983835777939410970027753472000000000000000000000000000000000000000000000000000000000000000000000000000000000000000000000000000000000000000000000000000000000000000000000000000000000000000000000000000000000000000000000000000000000000000000000000000000000000000000000000000000000\n",
      "The Total time required --> 0.0010211467742919922\n"
     ]
    }
   ],
   "source": [
    "fact(1000)"
   ]
  },
  {
   "cell_type": "markdown",
   "id": "3aee9eba",
   "metadata": {},
   "source": [
    "# Chaining Decorators"
   ]
  },
  {
   "cell_type": "code",
   "execution_count": 27,
   "id": "56d3c48e",
   "metadata": {},
   "outputs": [],
   "source": [
    "def dec1(fun):\n",
    "    print(\"This is dec 1\")\n",
    "    def inner1():\n",
    "        print(\"-\"*65)\n",
    "        fun()\n",
    "        print(\"-\"*65)\n",
    "    return inner1\n",
    "\n",
    "def dec2(fun):\n",
    "    print(\"This is dec 2\")\n",
    "    def inner2():\n",
    "        print(\"-\"*65)\n",
    "        fun()\n",
    "        print(\"-\"*65)\n",
    "    return inner2"
   ]
  },
  {
   "cell_type": "code",
   "execution_count": 28,
   "id": "56396476",
   "metadata": {},
   "outputs": [
    {
     "name": "stdout",
     "output_type": "stream",
     "text": [
      "This is dec 1\n",
      "-----------------------------------------------------------------\n",
      "Chaining Decorators\n",
      "-----------------------------------------------------------------\n"
     ]
    }
   ],
   "source": [
    "@dec1\n",
    "def Display():\n",
    "    print(\"Chaining Decorators\")\n",
    "    \n",
    "Display()"
   ]
  },
  {
   "cell_type": "code",
   "execution_count": 29,
   "id": "b2551ad1",
   "metadata": {},
   "outputs": [
    {
     "name": "stdout",
     "output_type": "stream",
     "text": [
      "This is dec 2\n",
      "-----------------------------------------------------------------\n",
      "Chaining Decorators\n",
      "-----------------------------------------------------------------\n"
     ]
    }
   ],
   "source": [
    "@dec2\n",
    "def Display():\n",
    "    print(\"Chaining Decorators\")\n",
    "    \n",
    "Display()"
   ]
  },
  {
   "cell_type": "code",
   "execution_count": 30,
   "id": "52747b45",
   "metadata": {},
   "outputs": [
    {
     "name": "stdout",
     "output_type": "stream",
     "text": [
      "This is dec 1\n",
      "-----------------------------------------------------------------\n",
      "-----------------------------------------------------------------\n",
      "Chaining Decorators\n",
      "-----------------------------------------------------------------\n",
      "-----------------------------------------------------------------\n"
     ]
    }
   ],
   "source": [
    "obj1 = dec1(Display)\n",
    "obj1()"
   ]
  },
  {
   "cell_type": "code",
   "execution_count": 35,
   "id": "28b25b22",
   "metadata": {},
   "outputs": [
    {
     "name": "stdout",
     "output_type": "stream",
     "text": [
      "This is dec 2\n",
      "-----------------------------------------------------------------\n",
      "-----------------------------------------------------------------\n",
      "-----------------------------------------------------------------\n",
      "Chaining Decorators\n",
      "-----------------------------------------------------------------\n",
      "-----------------------------------------------------------------\n",
      "-----------------------------------------------------------------\n"
     ]
    }
   ],
   "source": [
    "obj2 = dec2(obj1)\n",
    "obj2()"
   ]
  },
  {
   "cell_type": "code",
   "execution_count": 36,
   "id": "98f601d6",
   "metadata": {},
   "outputs": [
    {
     "name": "stdout",
     "output_type": "stream",
     "text": [
      "This is dec 2\n",
      "This is dec 1\n",
      "-----------------------------------------------------------------\n",
      "-----------------------------------------------------------------\n",
      "Chaining Decorators\n",
      "-----------------------------------------------------------------\n",
      "-----------------------------------------------------------------\n"
     ]
    }
   ],
   "source": [
    "@dec1\n",
    "@dec2\n",
    "def Display():\n",
    "    print(\"Chaining Decorators\")\n",
    "    \n",
    "Display()"
   ]
  }
 ],
 "metadata": {
  "kernelspec": {
   "display_name": "Python 3 (ipykernel)",
   "language": "python",
   "name": "python3"
  },
  "language_info": {
   "codemirror_mode": {
    "name": "ipython",
    "version": 3
   },
   "file_extension": ".py",
   "mimetype": "text/x-python",
   "name": "python",
   "nbconvert_exporter": "python",
   "pygments_lexer": "ipython3",
   "version": "3.12.4"
  }
 },
 "nbformat": 4,
 "nbformat_minor": 5
}
