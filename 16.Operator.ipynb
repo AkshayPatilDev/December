{
 "cells": [
  {
   "cell_type": "markdown",
   "id": "3a013d04",
   "metadata": {},
   "source": [
    "# Operator\n",
    "## 1.Comparison operator\n",
    "- val1 == val2\n",
    "- val1 != val2\n",
    "- val1 > val2\n",
    "- val1 < val2\n",
    "- val1 >= val2\n",
    "- val1 <= val2"
   ]
  },
  {
   "cell_type": "code",
   "execution_count": 1,
   "id": "a9826db4",
   "metadata": {},
   "outputs": [
    {
     "data": {
      "text/plain": [
       "True"
      ]
     },
     "execution_count": 1,
     "metadata": {},
     "output_type": "execute_result"
    }
   ],
   "source": [
    "val1 = 5\n",
    "val2 = 5\n",
    "val1 == val2"
   ]
  },
  {
   "cell_type": "code",
   "execution_count": 2,
   "id": "16da01ef",
   "metadata": {},
   "outputs": [
    {
     "data": {
      "text/plain": [
       "False"
      ]
     },
     "execution_count": 2,
     "metadata": {},
     "output_type": "execute_result"
    }
   ],
   "source": [
    "val1 = 5.5\n",
    "val2 = 5\n",
    "val1 == val2"
   ]
  },
  {
   "cell_type": "code",
   "execution_count": 3,
   "id": "d488788f",
   "metadata": {},
   "outputs": [
    {
     "data": {
      "text/plain": [
       "True"
      ]
     },
     "execution_count": 3,
     "metadata": {},
     "output_type": "execute_result"
    }
   ],
   "source": [
    "val1 = 5.5\n",
    "val2 = 5\n",
    "val1 != val2"
   ]
  },
  {
   "cell_type": "code",
   "execution_count": 4,
   "id": "a5665110",
   "metadata": {},
   "outputs": [
    {
     "data": {
      "text/plain": [
       "False"
      ]
     },
     "execution_count": 4,
     "metadata": {},
     "output_type": "execute_result"
    }
   ],
   "source": [
    "val1 = 5\n",
    "val2 = 5\n",
    "val1 != val2"
   ]
  },
  {
   "cell_type": "code",
   "execution_count": 8,
   "id": "23974075",
   "metadata": {},
   "outputs": [
    {
     "data": {
      "text/plain": [
       "True"
      ]
     },
     "execution_count": 8,
     "metadata": {},
     "output_type": "execute_result"
    }
   ],
   "source": [
    "a = \"Python\"\n",
    "b = \"Python\"\n",
    "a == b"
   ]
  },
  {
   "cell_type": "code",
   "execution_count": 10,
   "id": "ec30fcd5",
   "metadata": {},
   "outputs": [
    {
     "data": {
      "text/plain": [
       "False"
      ]
     },
     "execution_count": 10,
     "metadata": {},
     "output_type": "execute_result"
    }
   ],
   "source": [
    "a = \"Python\"\n",
    "b = \"Python\".upper()\n",
    "a == b"
   ]
  },
  {
   "cell_type": "code",
   "execution_count": 11,
   "id": "f50bbdc3",
   "metadata": {},
   "outputs": [
    {
     "data": {
      "text/plain": [
       "True"
      ]
     },
     "execution_count": 11,
     "metadata": {},
     "output_type": "execute_result"
    }
   ],
   "source": [
    "a = \"Python\"\n",
    "b = \"Python\".upper()\n",
    "a != b"
   ]
  },
  {
   "cell_type": "code",
   "execution_count": 13,
   "id": "0ea67faa",
   "metadata": {},
   "outputs": [
    {
     "name": "stdout",
     "output_type": "stream",
     "text": [
      "The 100 is equal to 100\n"
     ]
    }
   ],
   "source": [
    "val1 = 100\n",
    "val2 = 100\n",
    "if val1 == val2:\n",
    "    print(f\"The {val1} is equal to {val2}\")"
   ]
  },
  {
   "cell_type": "code",
   "execution_count": 1,
   "id": "4decfe01",
   "metadata": {},
   "outputs": [],
   "source": [
    "val1 = 1001\n",
    "val2 = 100\n",
    "if val1 == val2:\n",
    "    print(f\"The {val1} is equal to {val2}\")"
   ]
  },
  {
   "cell_type": "code",
   "execution_count": 16,
   "id": "66f0788d",
   "metadata": {},
   "outputs": [
    {
     "name": "stdout",
     "output_type": "stream",
     "text": [
      "The 1001 is not equal to 100\n"
     ]
    }
   ],
   "source": [
    "val1 = 1001\n",
    "val2 = 100\n",
    "if val1 == val2:\n",
    "    print(f\"The {val1} is equal to {val2}\")\n",
    "else:\n",
    "    print(f\"The {val1} is not equal to {val2}\")"
   ]
  },
  {
   "cell_type": "code",
   "execution_count": 21,
   "id": "423022bd",
   "metadata": {},
   "outputs": [
    {
     "name": "stdout",
     "output_type": "stream",
     "text": [
      "The 1001 is Greater than 100\n"
     ]
    }
   ],
   "source": [
    "val1 = 1001\n",
    "val2 = 100\n",
    "if val1 > val2:\n",
    "    print(f\"The {val1} is Greater than {val2}\")\n",
    "else:\n",
    "    print(f\"The {val1} is Less than {val2}\")"
   ]
  },
  {
   "cell_type": "code",
   "execution_count": 20,
   "id": "b79d42ca",
   "metadata": {},
   "outputs": [
    {
     "name": "stdout",
     "output_type": "stream",
     "text": [
      "The 10 is Less than 100\n"
     ]
    }
   ],
   "source": [
    "val1 = 10\n",
    "val2 = 100\n",
    "if val1 > val2:\n",
    "    print(f\"The {val1} is Greater than {val2}\")\n",
    "else:\n",
    "    print(f\"The {val1} is Less than {val2}\")"
   ]
  },
  {
   "cell_type": "code",
   "execution_count": 22,
   "id": "4f6b4e88",
   "metadata": {},
   "outputs": [
    {
     "name": "stdout",
     "output_type": "stream",
     "text": [
      "1000 is Greater than equal to 100\n"
     ]
    }
   ],
   "source": [
    "val1 = 1000\n",
    "val2 = 100\n",
    "if val1 == val2:\n",
    "    print(f\"{val1} is equal to {val2}\")\n",
    "elif val1 >= val2:\n",
    "    print(f\"{val1} is Greater than equal to {val2}\")\n",
    "elif val1 <= val2:\n",
    "    print(f\"{val1} is Less than equal to {val2}\")"
   ]
  },
  {
   "cell_type": "code",
   "execution_count": 25,
   "id": "3e4f8e2f",
   "metadata": {},
   "outputs": [
    {
     "name": "stdout",
     "output_type": "stream",
     "text": [
      "100 is Less than equal to 1000\n"
     ]
    }
   ],
   "source": [
    "val1 = 100\n",
    "val2 = 1000\n",
    "if val1 == val2:\n",
    "    print(f\"{val1} is equal to {val2}\")\n",
    "elif val1 >= val2:\n",
    "    print(f\"{val1} is Greater than equal to {val2}\")\n",
    "elif val1 <= val2:\n",
    "    print(f\"{val1} is Less than equal to {val2}\")"
   ]
  },
  {
   "cell_type": "code",
   "execution_count": 1,
   "id": "e7a97878",
   "metadata": {},
   "outputs": [
    {
     "name": "stdout",
     "output_type": "stream",
     "text": [
      "100 is Greater than equal to 100\n"
     ]
    }
   ],
   "source": [
    "val1 = 100\n",
    "val2 = 100\n",
    "if val1 >= val2:\n",
    "    print(f\"{val1} is Greater than equal to {val2}\")\n",
    "elif val1 < val2:\n",
    "    print(f\"{val1} is Less than {val2}\")"
   ]
  },
  {
   "cell_type": "code",
   "execution_count": 2,
   "id": "f0d9e85e",
   "metadata": {},
   "outputs": [
    {
     "name": "stdout",
     "output_type": "stream",
     "text": [
      "1001 is Greater than equal to 100\n"
     ]
    }
   ],
   "source": [
    "val1 = 1001\n",
    "val2 = 100\n",
    "if val1 >= val2:\n",
    "    print(f\"{val1} is Greater than equal to {val2}\")\n",
    "elif val1 < val2:\n",
    "    print(f\"{val1} is Less than {val2}\")"
   ]
  },
  {
   "cell_type": "code",
   "execution_count": 3,
   "id": "d696ac69",
   "metadata": {},
   "outputs": [
    {
     "name": "stdout",
     "output_type": "stream",
     "text": [
      "10 is Less than 100\n"
     ]
    }
   ],
   "source": [
    "val1 = 10\n",
    "val2 = 100\n",
    "if val1 >= val2:\n",
    "    print(f\"{val1} is Greater than equal to {val2}\")\n",
    "elif val1 < val2:\n",
    "    print(f\"{val1} is Less than {val2}\")"
   ]
  },
  {
   "cell_type": "markdown",
   "id": "ac74e347",
   "metadata": {},
   "source": [
    "## 2. Logical operator\n",
    "- 1.and operator\n",
    "- 2.or operator\n",
    "- 1 = True\n",
    "- 0 = False"
   ]
  },
  {
   "cell_type": "code",
   "execution_count": 12,
   "id": "0aea13e4",
   "metadata": {},
   "outputs": [
    {
     "data": {
      "text/plain": [
       "1"
      ]
     },
     "execution_count": 12,
     "metadata": {},
     "output_type": "execute_result"
    }
   ],
   "source": [
    "0 and 0 = 0  # False and False = False\n",
    "0 and 1 = 0  # False and True = False\n",
    "1 and 0 = 0  # Frue and False = False\n",
    "1 and 1 = 1  # True and True = True"
   ]
  },
  {
   "cell_type": "code",
   "execution_count": 19,
   "id": "6bc9ee72",
   "metadata": {},
   "outputs": [
    {
     "data": {
      "text/plain": [
       "1"
      ]
     },
     "execution_count": 19,
     "metadata": {},
     "output_type": "execute_result"
    }
   ],
   "source": [
    "0 or 0 = 0  # False or False = False\n",
    "0 or 1 = 1  # False or True = True\n",
    "1 or 0 = 1  # True or False = True\n",
    "1 or 1 = 1  # True or True = True"
   ]
  },
  {
   "cell_type": "code",
   "execution_count": 20,
   "id": "9eb512d8",
   "metadata": {},
   "outputs": [
    {
     "data": {
      "text/plain": [
       "False"
      ]
     },
     "execution_count": 20,
     "metadata": {},
     "output_type": "execute_result"
    }
   ],
   "source": [
    "val1 = 50\n",
    "val2 = 100\n",
    "val1 > val2 "
   ]
  },
  {
   "cell_type": "code",
   "execution_count": 21,
   "id": "3e0b55a5",
   "metadata": {},
   "outputs": [
    {
     "data": {
      "text/plain": [
       "False"
      ]
     },
     "execution_count": 21,
     "metadata": {},
     "output_type": "execute_result"
    }
   ],
   "source": [
    "val1 = 50\n",
    "val2 = 100\n",
    "val1 > val2 and val1 == val2 #False and False = False"
   ]
  },
  {
   "cell_type": "code",
   "execution_count": 24,
   "id": "6f2bae86",
   "metadata": {},
   "outputs": [
    {
     "data": {
      "text/plain": [
       "True"
      ]
     },
     "execution_count": 24,
     "metadata": {},
     "output_type": "execute_result"
    }
   ],
   "source": [
    "val1 = 50\n",
    "val2 = 100\n",
    "val1 > val2 or val1 < val2 # False or True = True"
   ]
  },
  {
   "cell_type": "code",
   "execution_count": 25,
   "id": "a3b0dec9",
   "metadata": {},
   "outputs": [
    {
     "data": {
      "text/plain": [
       "True"
      ]
     },
     "execution_count": 25,
     "metadata": {},
     "output_type": "execute_result"
    }
   ],
   "source": [
    "val1 = 5\n",
    "val2 = 6\n",
    "val3 = 10\n",
    "val4 = 20\n",
    "val1 < val2 and val2 < val3 and val3 < val4 and val1 <val4  #True and True and True and True = True"
   ]
  },
  {
   "cell_type": "code",
   "execution_count": 26,
   "id": "fbb9782c",
   "metadata": {},
   "outputs": [
    {
     "data": {
      "text/plain": [
       "False"
      ]
     },
     "execution_count": 26,
     "metadata": {},
     "output_type": "execute_result"
    }
   ],
   "source": [
    "val1 = 50\n",
    "val2 = 6\n",
    "val3 = 10\n",
    "val4 = 20\n",
    "val5 = 20\n",
    "val5 == val4 and val1 < val2 and val1 < val3 and val1 < val4  and val2 > val1 # true and False and false and false and false"
   ]
  },
  {
   "cell_type": "code",
   "execution_count": 27,
   "id": "e7a7abaf",
   "metadata": {},
   "outputs": [
    {
     "name": "stdout",
     "output_type": "stream",
     "text": [
      "30 is Gretaer than 20 and 10\n"
     ]
    }
   ],
   "source": [
    "val1 = 30\n",
    "val2 = 20\n",
    "val3 = 10\n",
    "if val1 > val2 and val1 > val3:\n",
    "    print(f\"{val1} is Gretaer than {val2} and {val3}\")"
   ]
  },
  {
   "cell_type": "code",
   "execution_count": 37,
   "id": "2317e425",
   "metadata": {},
   "outputs": [
    {
     "name": "stdout",
     "output_type": "stream",
     "text": [
      "30 is Gretaer than 20 and 10\n"
     ]
    }
   ],
   "source": [
    "val1 = 30\n",
    "val2 = 20\n",
    "val3 = 10 \n",
    "if val1 > val2 or val1 > val3:     #True or True = True\n",
    "    print(f\"{val1} is Gretaer than {val2} and {val3}\")"
   ]
  },
  {
   "cell_type": "code",
   "execution_count": 36,
   "id": "75615506",
   "metadata": {},
   "outputs": [
    {
     "name": "stdout",
     "output_type": "stream",
     "text": [
      "30 is Greater than 20 and 10\n"
     ]
    }
   ],
   "source": [
    "val1 = 30\n",
    "val2 = 20\n",
    "val3 = 10 \n",
    "if val1 < val2 and val1 > val3:     #False and True = False\n",
    "    print(f\"{val1} is Greater than {val2} and {val3}\")\n",
    "elif val1 > val2 and val1 > val3:   #True and true =True\n",
    "    print(f\"{val1} is Greater than {val2} and {val3}\")"
   ]
  },
  {
   "cell_type": "code",
   "execution_count": 38,
   "id": "cdfa1faa",
   "metadata": {},
   "outputs": [
    {
     "name": "stdout",
     "output_type": "stream",
     "text": [
      "1000 is greater than 50 and 300\n"
     ]
    }
   ],
   "source": [
    "val1 = 50\n",
    "val2 = 300\n",
    "val3 = 1000\n",
    "if val1 > val2 and val1 > val3: # False and False\n",
    "    print(f\"{val1} is greater than {val2} and {val3}\")\n",
    "\n",
    "elif val2 > val1 and val2 > val3: #True and False\n",
    "    print(f\"{val2} is greater than {val1} and {val3}\")\n",
    "    \n",
    "else:\n",
    "    print(f\"{val3} is greater than {val1} and {val2}\")"
   ]
  },
  {
   "cell_type": "code",
   "execution_count": 40,
   "id": "b43125c9",
   "metadata": {
    "scrolled": true
   },
   "outputs": [
    {
     "name": "stdout",
     "output_type": "stream",
     "text": [
      "value for a:-500\n"
     ]
    },
    {
     "data": {
      "text/plain": [
       "'500'"
      ]
     },
     "execution_count": 40,
     "metadata": {},
     "output_type": "execute_result"
    }
   ],
   "source": [
    "a =input(\"value for a:-\")\n",
    "a"
   ]
  },
  {
   "cell_type": "code",
   "execution_count": 43,
   "id": "d67eab7f",
   "metadata": {},
   "outputs": [
    {
     "name": "stdout",
     "output_type": "stream",
     "text": [
      "value for a:-20\n"
     ]
    },
    {
     "data": {
      "text/plain": [
       "20"
      ]
     },
     "execution_count": 43,
     "metadata": {},
     "output_type": "execute_result"
    }
   ],
   "source": [
    "a =input(\"value for a:-\")\n",
    "b = int(a)\n",
    "b"
   ]
  },
  {
   "cell_type": "code",
   "execution_count": 42,
   "id": "c36440f9",
   "metadata": {},
   "outputs": [
    {
     "data": {
      "text/plain": [
       "int"
      ]
     },
     "execution_count": 42,
     "metadata": {},
     "output_type": "execute_result"
    }
   ],
   "source": [
    "type(b)"
   ]
  },
  {
   "cell_type": "code",
   "execution_count": 46,
   "id": "4a849a04",
   "metadata": {},
   "outputs": [
    {
     "name": "stdout",
     "output_type": "stream",
     "text": [
      "Value for a :-500\n"
     ]
    },
    {
     "data": {
      "text/plain": [
       "int"
      ]
     },
     "execution_count": 46,
     "metadata": {},
     "output_type": "execute_result"
    }
   ],
   "source": [
    "a = int(input(\"Value for a :-\"))\n",
    "type (a)"
   ]
  },
  {
   "cell_type": "code",
   "execution_count": 48,
   "id": "de20a261",
   "metadata": {},
   "outputs": [
    {
     "name": "stdout",
     "output_type": "stream",
     "text": [
      "Enter the value of val1 = 1000\n",
      "Enter the value of val2 = 200\n",
      "Enter the value of val3 = 100\n",
      "1000 is greater than 200 and 100\n"
     ]
    }
   ],
   "source": [
    "val1 = input(\"Enter the value of val1 = \")\n",
    "val2 = input(\"Enter the value of val2 = \")\n",
    "val3 = input(\"Enter the value of val3 = \")\n",
    "\n",
    "val1 = int(val1)\n",
    "val2 = int(val2)\n",
    "val3 = int(val3)\n",
    "\n",
    "if val1 > val2 and val1 > val3:\n",
    "    print(f\"{val1} is greater than {val2} and {val3}\")\n",
    "\n",
    "elif val2 > val1 and val2 > val3:\n",
    "    print(f\"{val2} is greater than {val1} and {val3}\")\n",
    "    \n",
    "else:\n",
    "    print(f\"{val3} is greater than {val1} and {val2}\")"
   ]
  },
  {
   "cell_type": "code",
   "execution_count": 49,
   "id": "caa5174b",
   "metadata": {
    "scrolled": true
   },
   "outputs": [
    {
     "name": "stdout",
     "output_type": "stream",
     "text": [
      "Enter the value of val1 = 100\n",
      "Enter the value of val2 = 200\n",
      "Enter the value of val3 = 300\n",
      "300 is greater than 100 and 200\n"
     ]
    }
   ],
   "source": [
    "val1 = input(\"Enter the value of val1 = \")\n",
    "val2 = input(\"Enter the value of val2 = \")\n",
    "val3 = input(\"Enter the value of val3 = \")\n",
    "\n",
    "val1 = int(val1)\n",
    "val2 = int(val2)\n",
    "val3 = int(val3)\n",
    "\n",
    "if val1 > val2 and val1 > val3:\n",
    "    print(f\"{val1} is greater than {val2} and {val3}\")\n",
    "\n",
    "elif val2 > val1 and val2 > val3:\n",
    "    print(f\"{val2} is greater than {val1} and {val3}\")\n",
    "    \n",
    "else:\n",
    "    print(f\"{val3} is greater than {val1} and {val2}\")\n"
   ]
  },
  {
   "cell_type": "code",
   "execution_count": 52,
   "id": "77e3ad58",
   "metadata": {},
   "outputs": [
    {
     "name": "stdout",
     "output_type": "stream",
     "text": [
      "Enter the value of val1 = 50\n",
      "Enter the value of val2 = 60\n",
      "Enter the value of val3 = 70\n",
      "**************************************************\n",
      "Value 1 = 50\n",
      "Value 2 = 60\n",
      "Value 3 = 70\n",
      "70 is greater than 50 and 60\n"
     ]
    }
   ],
   "source": [
    "val1 = input(\"Enter the value of val1 = \")\n",
    "val2 = input(\"Enter the value of val2 = \")\n",
    "val3 = input(\"Enter the value of val3 = \")\n",
    "\n",
    "val1 = int(val1)\n",
    "val2 = int(val2)\n",
    "val3 = int(val3)\n",
    "print(\"*\"*50)\n",
    "\n",
    "print(f\"Value 1 = {val1}\")\n",
    "print(f\"Value 2 = {val2}\")\n",
    "print(f\"Value 3 = {val3}\")\n",
    "\n",
    "if val1 > val2 and val1 > val3:\n",
    "    print(f\"{val1} is greater than {val2} and {val3}\")\n",
    "\n",
    "elif val2 > val1 and val2 > val3:\n",
    "    print(f\"{val2} is greater than {val1} and {val3}\")\n",
    "    \n",
    "else:\n",
    "    print(f\"{val3} is greater than {val1} and {val2}\")"
   ]
  },
  {
   "cell_type": "code",
   "execution_count": 53,
   "id": "ef23f1cd",
   "metadata": {},
   "outputs": [
    {
     "data": {
      "text/plain": [
       "0"
      ]
     },
     "execution_count": 53,
     "metadata": {},
     "output_type": "execute_result"
    }
   ],
   "source": [
    "(1 and 1) and 0"
   ]
  },
  {
   "cell_type": "code",
   "execution_count": 54,
   "id": "918e70f3",
   "metadata": {},
   "outputs": [
    {
     "data": {
      "text/plain": [
       "1"
      ]
     },
     "execution_count": 54,
     "metadata": {},
     "output_type": "execute_result"
    }
   ],
   "source": [
    "(1 and 1) or 0"
   ]
  },
  {
   "cell_type": "code",
   "execution_count": 55,
   "id": "2cbef3e1",
   "metadata": {},
   "outputs": [
    {
     "data": {
      "text/plain": [
       "1"
      ]
     },
     "execution_count": 55,
     "metadata": {},
     "output_type": "execute_result"
    }
   ],
   "source": [
    "1 and 0 or 1\n"
   ]
  },
  {
   "cell_type": "code",
   "execution_count": 56,
   "id": "65121290",
   "metadata": {},
   "outputs": [
    {
     "name": "stdout",
     "output_type": "stream",
     "text": [
      "--------------------------------------------------\n",
      "Value 1 = 20\n",
      "Value 2 = 50\n",
      "Value 3 = 10\n",
      "--------------------------------------------------\n",
      "50 is greater than 20 and 10\n"
     ]
    }
   ],
   "source": [
    "val1 = 20\n",
    "val2 = 50\n",
    "val3 = 10\n",
    "\n",
    "print(\"-\"*50)\n",
    "print(f\"Value 1 = {val1}\")\n",
    "print(f\"Value 2 = {val2}\")\n",
    "print(f\"Value 3 = {val3}\")\n",
    "print(\"-\"*50)\n",
    "\n",
    "if val1 > val2 and (val1 > val3 or val1 == 20):\n",
    "    print(f\"{val1} is greater than {val2} and {val3}\")\n",
    "elif val2 > val1 and val2 > val3:\n",
    "    print(f\"{val2} is greater than {val1} and {val3}\")\n",
    "else:\n",
    "    print(f\"{val3} is greater than {val1} and {val2}\")\n",
    "\n",
    "\n"
   ]
  },
  {
   "cell_type": "markdown",
   "id": "2523155b",
   "metadata": {},
   "source": [
    "## 3. Arithmetic operator\n"
   ]
  },
  {
   "cell_type": "raw",
   "id": "a5611794",
   "metadata": {},
   "source": [
    "- + -> Addition operator\n",
    "- - -> Subtraction operator\n",
    "- * -> Multiplicatio operator\n",
    "- / -> Division oprator\n",
    "- // -> Floor Division opeartor\n",
    "- % -> Modulus operator\n",
    "- ** -> Exponent operator\n",
    "\n",
    "Preference of Arithmetic operator\n",
    "- () --> Paranthesis\n",
    "- ** --> Exponent\n",
    "- *,//,/,+,-"
   ]
  },
  {
   "cell_type": "code",
   "execution_count": 57,
   "id": "b5073b51",
   "metadata": {},
   "outputs": [
    {
     "data": {
      "text/plain": [
       "2.5"
      ]
     },
     "execution_count": 57,
     "metadata": {},
     "output_type": "execute_result"
    }
   ],
   "source": [
    "5 / 2"
   ]
  },
  {
   "cell_type": "code",
   "execution_count": 58,
   "id": "1271da82",
   "metadata": {},
   "outputs": [
    {
     "data": {
      "text/plain": [
       "2"
      ]
     },
     "execution_count": 58,
     "metadata": {},
     "output_type": "execute_result"
    }
   ],
   "source": [
    "5 // 2\n"
   ]
  },
  {
   "cell_type": "code",
   "execution_count": 59,
   "id": "fe188a3d",
   "metadata": {},
   "outputs": [
    {
     "data": {
      "text/plain": [
       "10"
      ]
     },
     "execution_count": 59,
     "metadata": {},
     "output_type": "execute_result"
    }
   ],
   "source": [
    "5 * 2"
   ]
  },
  {
   "cell_type": "code",
   "execution_count": 1,
   "id": "6a7fd852",
   "metadata": {},
   "outputs": [
    {
     "data": {
      "text/plain": [
       "2"
      ]
     },
     "execution_count": 1,
     "metadata": {},
     "output_type": "execute_result"
    }
   ],
   "source": [
    "27 % 5"
   ]
  },
  {
   "cell_type": "code",
   "execution_count": 2,
   "id": "57fa0c24",
   "metadata": {},
   "outputs": [
    {
     "data": {
      "text/plain": [
       "0"
      ]
     },
     "execution_count": 2,
     "metadata": {},
     "output_type": "execute_result"
    }
   ],
   "source": [
    "25 % 5\n"
   ]
  },
  {
   "cell_type": "code",
   "execution_count": 3,
   "id": "adc4c6cc",
   "metadata": {},
   "outputs": [
    {
     "data": {
      "text/plain": [
       "0"
      ]
     },
     "execution_count": 3,
     "metadata": {},
     "output_type": "execute_result"
    }
   ],
   "source": [
    "10%2  #Even"
   ]
  },
  {
   "cell_type": "code",
   "execution_count": 4,
   "id": "26a92041",
   "metadata": {},
   "outputs": [
    {
     "data": {
      "text/plain": [
       "1"
      ]
     },
     "execution_count": 4,
     "metadata": {},
     "output_type": "execute_result"
    }
   ],
   "source": [
    "9%2  #Odd"
   ]
  },
  {
   "cell_type": "code",
   "execution_count": 5,
   "id": "d2381228",
   "metadata": {},
   "outputs": [
    {
     "data": {
      "text/plain": [
       "False"
      ]
     },
     "execution_count": 5,
     "metadata": {},
     "output_type": "execute_result"
    }
   ],
   "source": [
    "11 % 2 == 0"
   ]
  },
  {
   "cell_type": "code",
   "execution_count": 6,
   "id": "0e447978",
   "metadata": {},
   "outputs": [
    {
     "data": {
      "text/plain": [
       "True"
      ]
     },
     "execution_count": 6,
     "metadata": {},
     "output_type": "execute_result"
    }
   ],
   "source": [
    "50 % 5 == 0"
   ]
  },
  {
   "cell_type": "code",
   "execution_count": 9,
   "id": "7d323bc0",
   "metadata": {},
   "outputs": [
    {
     "name": "stdout",
     "output_type": "stream",
     "text": [
      "Enter the number --->  50\n",
      "The number is even = 50\n"
     ]
    }
   ],
   "source": [
    "num = int(input(\"Enter the number --->  \"))\n",
    "if num % 2 == 0:\n",
    "    print(f\"The number is even = {num}\")\n",
    "else:\n",
    "    print(f\"The Number is odd = {num}\")"
   ]
  },
  {
   "cell_type": "code",
   "execution_count": 1,
   "id": "0159db70",
   "metadata": {},
   "outputs": [
    {
     "name": "stdout",
     "output_type": "stream",
     "text": [
      "Enter the number --->  12\n",
      "The number is even = 12\n"
     ]
    }
   ],
   "source": [
    "num = int(input(\"Enter the number --->  \"))\n",
    "print(f\"The number is even = {num}\") if num % 2 == 0 else print(f\"The Number is odd = {num}\")\n",
    "    "
   ]
  },
  {
   "cell_type": "code",
   "execution_count": 12,
   "id": "60604981",
   "metadata": {},
   "outputs": [
    {
     "data": {
      "text/plain": [
       "125"
      ]
     },
     "execution_count": 12,
     "metadata": {},
     "output_type": "execute_result"
    }
   ],
   "source": [
    "5*5*5"
   ]
  },
  {
   "cell_type": "code",
   "execution_count": 13,
   "id": "4b330b76",
   "metadata": {
    "scrolled": true
   },
   "outputs": [
    {
     "data": {
      "text/plain": [
       "8"
      ]
     },
     "execution_count": 13,
     "metadata": {},
     "output_type": "execute_result"
    }
   ],
   "source": [
    "2*2*2\n"
   ]
  },
  {
   "cell_type": "code",
   "execution_count": 14,
   "id": "7fb080c2",
   "metadata": {},
   "outputs": [
    {
     "data": {
      "text/plain": [
       "125"
      ]
     },
     "execution_count": 14,
     "metadata": {},
     "output_type": "execute_result"
    }
   ],
   "source": [
    "5**3"
   ]
  },
  {
   "cell_type": "code",
   "execution_count": 15,
   "id": "bea00eee",
   "metadata": {},
   "outputs": [
    {
     "data": {
      "text/plain": [
       "8"
      ]
     },
     "execution_count": 15,
     "metadata": {},
     "output_type": "execute_result"
    }
   ],
   "source": [
    "2**3"
   ]
  },
  {
   "cell_type": "code",
   "execution_count": 16,
   "id": "ed7628b7",
   "metadata": {},
   "outputs": [
    {
     "data": {
      "text/plain": [
       "100000"
      ]
     },
     "execution_count": 16,
     "metadata": {},
     "output_type": "execute_result"
    }
   ],
   "source": [
    "10*10*10*10*10"
   ]
  },
  {
   "cell_type": "code",
   "execution_count": 18,
   "id": "625f5b52",
   "metadata": {},
   "outputs": [
    {
     "data": {
      "text/plain": [
       "100000"
      ]
     },
     "execution_count": 18,
     "metadata": {},
     "output_type": "execute_result"
    }
   ],
   "source": [
    "10**5"
   ]
  },
  {
   "cell_type": "raw",
   "id": "018a8b99",
   "metadata": {},
   "source": [
    "x = 4\n",
    "y = 5x^3 + 3x^2 - 8x +7 "
   ]
  },
  {
   "cell_type": "code",
   "execution_count": 22,
   "id": "5e0f8043",
   "metadata": {},
   "outputs": [
    {
     "name": "stdout",
     "output_type": "stream",
     "text": [
      "y is 343 for value of x = 4\n"
     ]
    }
   ],
   "source": [
    "x = 4\n",
    "y = 5*(x**3) + 3*(x**2) - 8*(x)+7\n",
    "print(f\"y is {y} for value of x = {x}\")"
   ]
  },
  {
   "cell_type": "code",
   "execution_count": 23,
   "id": "c839dd3d",
   "metadata": {},
   "outputs": [
    {
     "name": "stdout",
     "output_type": "stream",
     "text": [
      "Enter the number --->7\n",
      "y is 1813 for value of x = 7\n"
     ]
    }
   ],
   "source": [
    "x = int(input(\"Enter the number --->\"))\n",
    "y = 5*(x**3) + 3*(x**2) - 8*(x)+7\n",
    "print(f\"y is {y} for value of x = {x}\")"
   ]
  },
  {
   "cell_type": "code",
   "execution_count": 29,
   "id": "44a3b3f9",
   "metadata": {},
   "outputs": [
    {
     "name": "stdout",
     "output_type": "stream",
     "text": [
      "y = 7      for      x = 0\n",
      "y = 7      for      x = 1\n",
      "y = 43      for      x = 2\n",
      "y = 145      for      x = 3\n",
      "y = 343      for      x = 4\n",
      "y = 667      for      x = 5\n",
      "y = 1147      for      x = 6\n",
      "y = 1813      for      x = 7\n",
      "y = 2695      for      x = 8\n",
      "y = 3823      for      x = 9\n"
     ]
    }
   ],
   "source": [
    "for x in range(10):\n",
    "   \n",
    "    y = 5*(x**3) + 3*(x**2) - 8*(x)+7\n",
    "    print(f\"y = {y}      for      x = {x}\")"
   ]
  },
  {
   "cell_type": "code",
   "execution_count": 30,
   "id": "886a96fe",
   "metadata": {},
   "outputs": [
    {
     "data": {
      "text/plain": [
       "15.0"
      ]
     },
     "execution_count": 30,
     "metadata": {},
     "output_type": "execute_result"
    }
   ],
   "source": [
    "10 * 6/4"
   ]
  },
  {
   "cell_type": "code",
   "execution_count": 32,
   "id": "eff1c41f",
   "metadata": {},
   "outputs": [
    {
     "data": {
      "text/plain": [
       "6.666666666666667"
      ]
     },
     "execution_count": 32,
     "metadata": {},
     "output_type": "execute_result"
    }
   ],
   "source": [
    "10/6*4"
   ]
  },
  {
   "cell_type": "code",
   "execution_count": 33,
   "id": "d4c81f04",
   "metadata": {},
   "outputs": [
    {
     "data": {
      "text/plain": [
       "6.666666666666667"
      ]
     },
     "execution_count": 33,
     "metadata": {},
     "output_type": "execute_result"
    }
   ],
   "source": [
    "(10/6)*4"
   ]
  },
  {
   "cell_type": "code",
   "execution_count": 35,
   "id": "c35f9aa1",
   "metadata": {},
   "outputs": [
    {
     "data": {
      "text/plain": [
       "0.4166666666666667"
      ]
     },
     "execution_count": 35,
     "metadata": {},
     "output_type": "execute_result"
    }
   ],
   "source": [
    "10/(6*4)"
   ]
  },
  {
   "cell_type": "code",
   "execution_count": 36,
   "id": "7b8767a0",
   "metadata": {},
   "outputs": [
    {
     "data": {
      "text/plain": [
       "240"
      ]
     },
     "execution_count": 36,
     "metadata": {},
     "output_type": "execute_result"
    }
   ],
   "source": [
    "10*6*4"
   ]
  },
  {
   "cell_type": "code",
   "execution_count": 37,
   "id": "3ef4cbee",
   "metadata": {},
   "outputs": [
    {
     "data": {
      "text/plain": [
       "240"
      ]
     },
     "execution_count": 37,
     "metadata": {},
     "output_type": "execute_result"
    }
   ],
   "source": [
    "10*(6*4)"
   ]
  },
  {
   "cell_type": "markdown",
   "id": "2f7b6404",
   "metadata": {},
   "source": [
    "## 4.Assignment operator"
   ]
  },
  {
   "cell_type": "raw",
   "id": "567c9e67",
   "metadata": {},
   "source": [
    "=       a=b \n",
    "a = 5\n",
    "+=     a += 1  >>  a =  a+1  = 6\n",
    "-=     a -= 1  >>  a =  a-1  = 4\n",
    "*=     a *= 1  >>  a =  a*2  = 10\n",
    "**=    a **= 1 >>  a = a**2  = 25\n",
    "/=     a /= 1  >>  a  = a/2  = 2.5\n",
    "//=    a //= 1 >>  a = a//2  = 2\n",
    "%=     a %= 2  >>  a = a % 2 = 1"
   ]
  },
  {
   "cell_type": "code",
   "execution_count": 1,
   "id": "01161d62",
   "metadata": {},
   "outputs": [
    {
     "name": "stdout",
     "output_type": "stream",
     "text": [
      "a = 50\n",
      "a = 55\n"
     ]
    }
   ],
   "source": [
    "a = 50\n",
    "print(f\"a = {a}\")\n",
    "a = a + 5\n",
    "print(f\"a = {a}\")"
   ]
  },
  {
   "cell_type": "code",
   "execution_count": 2,
   "id": "1518649b",
   "metadata": {},
   "outputs": [
    {
     "name": "stdout",
     "output_type": "stream",
     "text": [
      "a = 0\n",
      "a = 1\n"
     ]
    }
   ],
   "source": [
    "a = 0\n",
    "print(f\"a = {a}\")\n",
    "a = a + 1\n",
    "print(f\"a = {a}\")"
   ]
  },
  {
   "cell_type": "code",
   "execution_count": 4,
   "id": "ff567521",
   "metadata": {},
   "outputs": [
    {
     "name": "stdout",
     "output_type": "stream",
     "text": [
      "a = 50\n",
      "a = 55\n"
     ]
    }
   ],
   "source": [
    "a = 50\n",
    "print(f\"a = {a}\")\n",
    "a += 5\n",
    "print(f\"a = {a}\")"
   ]
  },
  {
   "cell_type": "code",
   "execution_count": 43,
   "id": "f3e17417",
   "metadata": {},
   "outputs": [
    {
     "name": "stdout",
     "output_type": "stream",
     "text": [
      "M 1\n",
      "a 2\n",
      "c 3\n",
      "h 4\n",
      "i 5\n",
      "n 6\n",
      "e 7\n",
      "  8\n",
      "l 9\n",
      "e 10\n",
      "a 11\n",
      "r 12\n",
      "n 13\n",
      "i 14\n",
      "n 15\n",
      "g 16\n"
     ]
    }
   ],
   "source": [
    "count = 0\n",
    "str1 =\"Machine learning\"\n",
    "for i in str1:\n",
    "    count+=1\n",
    "    print(f\"{i} {count}\")\n",
    "\n",
    " "
   ]
  },
  {
   "cell_type": "code",
   "execution_count": 53,
   "id": "381cc9a4",
   "metadata": {},
   "outputs": [
    {
     "name": "stdout",
     "output_type": "stream",
     "text": [
      "15\n",
      "14\n",
      "13\n",
      "12\n",
      "11\n",
      "10\n",
      "9\n",
      "8\n",
      "7\n",
      "6\n",
      "5\n",
      "4\n",
      "3\n",
      "2\n",
      "1\n"
     ]
    }
   ],
   "source": [
    "count = 15\n",
    "for i in \"Python and data science\":\n",
    "    if count > 0:\n",
    "        print(count)\n",
    "        count-=1\n",
    "        "
   ]
  },
  {
   "cell_type": "code",
   "execution_count": 56,
   "id": "b1fa832a",
   "metadata": {},
   "outputs": [
    {
     "name": "stdout",
     "output_type": "stream",
     "text": [
      "15 P\n",
      "13 y\n",
      "11 t\n",
      "9 h\n",
      "7 o\n",
      "5 n\n",
      "3  \n",
      "1 a\n"
     ]
    }
   ],
   "source": [
    "count = 15\n",
    "for i in \"Python and Data Science\":\n",
    "    if count > 0:\n",
    "        print(count,i)\n",
    "        count-=2\n"
   ]
  },
  {
   "cell_type": "code",
   "execution_count": 59,
   "id": "e00316ec",
   "metadata": {},
   "outputs": [
    {
     "name": "stdout",
     "output_type": "stream",
     "text": [
      "15 P\n",
      "12 y\n",
      "9 t\n",
      "6 h\n",
      "3 o\n"
     ]
    }
   ],
   "source": [
    "count = 15\n",
    "for i in \"Python and Data Science\":\n",
    "    if count > 0:\n",
    "        print(count,i)\n",
    "        count+=-3\n"
   ]
  }
 ],
 "metadata": {
  "kernelspec": {
   "display_name": "Python 3 (ipykernel)",
   "language": "python",
   "name": "python3"
  },
  "language_info": {
   "codemirror_mode": {
    "name": "ipython",
    "version": 3
   },
   "file_extension": ".py",
   "mimetype": "text/x-python",
   "name": "python",
   "nbconvert_exporter": "python",
   "pygments_lexer": "ipython3",
   "version": "3.12.4"
  }
 },
 "nbformat": 4,
 "nbformat_minor": 5
}
