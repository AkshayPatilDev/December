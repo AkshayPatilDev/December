{
 "cells": [
  {
   "cell_type": "markdown",
   "id": "f4112da8",
   "metadata": {},
   "source": [
    "# OS Module"
   ]
  },
  {
   "cell_type": "code",
   "execution_count": 1,
   "id": "924c9068",
   "metadata": {},
   "outputs": [],
   "source": [
    "with open(\"Sample.txt\",\"w\") as f:\n",
    "    f.write(\"Sample File\")"
   ]
  },
  {
   "cell_type": "code",
   "execution_count": 2,
   "id": "c837fbaf",
   "metadata": {},
   "outputs": [],
   "source": [
    "import os"
   ]
  },
  {
   "cell_type": "code",
   "execution_count": 3,
   "id": "ee57a744",
   "metadata": {},
   "outputs": [
    {
     "data": {
      "text/plain": [
       "True"
      ]
     },
     "execution_count": 3,
     "metadata": {},
     "output_type": "execute_result"
    }
   ],
   "source": [
    "os.path.exists(\"Sample.txt\")"
   ]
  },
  {
   "cell_type": "code",
   "execution_count": 4,
   "id": "f7bff7a4",
   "metadata": {},
   "outputs": [
    {
     "name": "stdout",
     "output_type": "stream",
     "text": [
      "Sample File\n"
     ]
    }
   ],
   "source": [
    "if os.path.exists(\"Sample.txt\"):\n",
    "    with open(\"Sample.txt\") as f:\n",
    "        print(f.read())"
   ]
  },
  {
   "cell_type": "code",
   "execution_count": 6,
   "id": "4fabad2f",
   "metadata": {},
   "outputs": [],
   "source": [
    "if os.path.exists(\"Sample1.txt\"):\n",
    "    with open(\"Sample.txt\") as f:\n",
    "        print(f.read())"
   ]
  },
  {
   "cell_type": "code",
   "execution_count": 8,
   "id": "eb9acdc8",
   "metadata": {},
   "outputs": [
    {
     "name": "stdout",
     "output_type": "stream",
     "text": [
      "Sample File\n"
     ]
    }
   ],
   "source": [
    "if os.path.exists(\"Sample.txt\"):\n",
    "    with open(\"Sample.txt\") as f:\n",
    "        print(f.read())\n",
    "else:\n",
    "    print(\"File not found\")"
   ]
  },
  {
   "cell_type": "code",
   "execution_count": 9,
   "id": "854c9d3c",
   "metadata": {},
   "outputs": [
    {
     "name": "stdout",
     "output_type": "stream",
     "text": [
      "File not found\n"
     ]
    }
   ],
   "source": [
    "if os.path.exists(\"Sample1.txt\"):\n",
    "    with open(\"Sample.txt\") as f:\n",
    "        print(f.read())\n",
    "else:\n",
    "    print(\"File not found\")"
   ]
  },
  {
   "cell_type": "code",
   "execution_count": 10,
   "id": "f3db771e",
   "metadata": {},
   "outputs": [],
   "source": [
    "for i in range(1,6):\n",
    "    with open(f\"Model {i}.txt\",\"w\") as f:\n",
    "        f.write(f\"**********Model File {i}**********\")"
   ]
  },
  {
   "cell_type": "code",
   "execution_count": 12,
   "id": "497581a5",
   "metadata": {},
   "outputs": [],
   "source": [
    "if os.path.exists(\"Model 1.txt\"):\n",
    "    os.remove(\"Model 1.txt\")\n",
    "else:\n",
    "    print(\"File not found\")"
   ]
  },
  {
   "cell_type": "code",
   "execution_count": 13,
   "id": "5936cc0b",
   "metadata": {},
   "outputs": [
    {
     "name": "stdout",
     "output_type": "stream",
     "text": [
      "File not found\n"
     ]
    }
   ],
   "source": [
    "if os.path.exists(\"Model 1.txt\"):\n",
    "    os.remove(\"Model 1.txt\")\n",
    "    print(\"File removed\")\n",
    "else:\n",
    "    print(\"File not found\")"
   ]
  },
  {
   "cell_type": "code",
   "execution_count": 15,
   "id": "c075bf51",
   "metadata": {},
   "outputs": [
    {
     "name": "stdout",
     "output_type": "stream",
     "text": [
      "File Created\n"
     ]
    }
   ],
   "source": [
    "if os.path.exists(\"Model 1.txt\"):\n",
    "    with open(\"Model 1.txt\",\"a\") as f:\n",
    "        f.write(\"\\nThis is the model file for linear regression\")\n",
    "        print(\"new message appended\")\n",
    "else:\n",
    "    with open(\"Model 1.txt\",\"w\") as f:\n",
    "        f.write(f\"**********Model fiile{1}**********\")\n",
    "        print(\"File Created\")"
   ]
  },
  {
   "cell_type": "code",
   "execution_count": 16,
   "id": "4598135a",
   "metadata": {},
   "outputs": [
    {
     "name": "stdout",
     "output_type": "stream",
     "text": [
      "new message appended\n"
     ]
    }
   ],
   "source": [
    "if os.path.exists(\"Model 1.txt\"):\n",
    "    with open(\"Model 1.txt\",\"a\") as f:\n",
    "        f.write(\"\\nThis is the model file for linear regression\")\n",
    "        print(\"new message appended\")\n",
    "else:\n",
    "    with open(\"Model 1.txt\",\"w\") as f:\n",
    "        f.write(f\"**********Model fiile{1}**********\")\n",
    "        print(\"File Created\")"
   ]
  },
  {
   "cell_type": "markdown",
   "id": "91c772c0",
   "metadata": {},
   "source": [
    "# Create Directory\n",
    "- os.mkdir(folder_path)"
   ]
  },
  {
   "cell_type": "code",
   "execution_count": 17,
   "id": "6709bd54",
   "metadata": {},
   "outputs": [],
   "source": [
    "os.mkdir(\"Data Science_batch\")"
   ]
  },
  {
   "cell_type": "code",
   "execution_count": 18,
   "id": "793f4c12",
   "metadata": {},
   "outputs": [
    {
     "ename": "FileExistsError",
     "evalue": "[WinError 183] Cannot create a file when that file already exists: 'Data Science_batch/'",
     "output_type": "error",
     "traceback": [
      "\u001b[1;31m---------------------------------------------------------------------------\u001b[0m",
      "\u001b[1;31mFileExistsError\u001b[0m                           Traceback (most recent call last)",
      "Cell \u001b[1;32mIn [18], line 1\u001b[0m\n\u001b[1;32m----> 1\u001b[0m \u001b[43mos\u001b[49m\u001b[38;5;241;43m.\u001b[39;49m\u001b[43mmkdir\u001b[49m\u001b[43m(\u001b[49m\u001b[38;5;124;43m\"\u001b[39;49m\u001b[38;5;124;43mData Science_batch/\u001b[39;49m\u001b[38;5;124;43m\"\u001b[39;49m\u001b[43m)\u001b[49m\n",
      "\u001b[1;31mFileExistsError\u001b[0m: [WinError 183] Cannot create a file when that file already exists: 'Data Science_batch/'"
     ]
    }
   ],
   "source": [
    "os.mkdir(\"Data Science_batch/\")"
   ]
  },
  {
   "cell_type": "code",
   "execution_count": 19,
   "id": "1a630713",
   "metadata": {},
   "outputs": [],
   "source": [
    "os.mkdir(\"Data\")"
   ]
  },
  {
   "cell_type": "code",
   "execution_count": 20,
   "id": "923816c4",
   "metadata": {},
   "outputs": [
    {
     "ename": "FileExistsError",
     "evalue": "[WinError 183] Cannot create a file when that file already exists: 'Data'",
     "output_type": "error",
     "traceback": [
      "\u001b[1;31m---------------------------------------------------------------------------\u001b[0m",
      "\u001b[1;31mFileExistsError\u001b[0m                           Traceback (most recent call last)",
      "Cell \u001b[1;32mIn [20], line 1\u001b[0m\n\u001b[1;32m----> 1\u001b[0m \u001b[43mos\u001b[49m\u001b[38;5;241;43m.\u001b[39;49m\u001b[43mmkdir\u001b[49m\u001b[43m(\u001b[49m\u001b[38;5;124;43m\"\u001b[39;49m\u001b[38;5;124;43mData\u001b[39;49m\u001b[38;5;124;43m\"\u001b[39;49m\u001b[43m)\u001b[49m\n",
      "\u001b[1;31mFileExistsError\u001b[0m: [WinError 183] Cannot create a file when that file already exists: 'Data'"
     ]
    }
   ],
   "source": [
    "os.mkdir(\"Data\")"
   ]
  },
  {
   "cell_type": "code",
   "execution_count": 21,
   "id": "3a238e8e",
   "metadata": {},
   "outputs": [
    {
     "data": {
      "text/plain": [
       "True"
      ]
     },
     "execution_count": 21,
     "metadata": {},
     "output_type": "execute_result"
    }
   ],
   "source": [
    "folder_path = \"Data\"\n",
    "os.path.exists(folder_path)"
   ]
  },
  {
   "cell_type": "code",
   "execution_count": 22,
   "id": "d2646bba",
   "metadata": {},
   "outputs": [
    {
     "name": "stdout",
     "output_type": "stream",
     "text": [
      "Data :-This folder is already present\n"
     ]
    }
   ],
   "source": [
    "if os.path.exists(folder_path):\n",
    "    print(f\"{folder_path} :-This folder is already present\")\n",
    "else:\n",
    "    print(f\"{folder_path} :-This folder is not present\")\n",
    "    os.mkdir(folder_path)\n",
    "    print(\"Folder created\")"
   ]
  },
  {
   "cell_type": "code",
   "execution_count": 23,
   "id": "cb1a6c76",
   "metadata": {},
   "outputs": [
    {
     "name": "stdout",
     "output_type": "stream",
     "text": [
      "Python :-This folder is not present\n",
      "Folder created\n"
     ]
    }
   ],
   "source": [
    "folder_path = \"Python\"\n",
    "if os.path.exists(folder_path):\n",
    "    print(f\"{folder_path} :-This folder is already present\")\n",
    "else:\n",
    "    print(f\"{folder_path} :-This folder is not present\")\n",
    "    os.mkdir(folder_path)\n",
    "    print(\"Folder created\")"
   ]
  },
  {
   "cell_type": "code",
   "execution_count": 24,
   "id": "ef954e32",
   "metadata": {},
   "outputs": [
    {
     "data": {
      "text/plain": [
       "'C:\\\\Users\\\\Mohit\\\\Desktop\\\\VELOCITY\\\\31st july python and data science'"
      ]
     },
     "execution_count": 24,
     "metadata": {},
     "output_type": "execute_result"
    }
   ],
   "source": [
    "path = r\"C:\\Users\\Mohit\\Desktop\\VELOCITY\\31st july python and data science\"\n",
    "path"
   ]
  },
  {
   "cell_type": "code",
   "execution_count": 26,
   "id": "6ad351c0",
   "metadata": {},
   "outputs": [
    {
     "data": {
      "text/plain": [
       "'C:\\\\Users\\\\Mohit\\\\Desktop\\\\VELOCITY\\\\31st july python and data science\\\\SQL'"
      ]
     },
     "execution_count": 26,
     "metadata": {},
     "output_type": "execute_result"
    }
   ],
   "source": [
    "folder_path = path + \"\\SQL\"\n",
    "folder_path"
   ]
  },
  {
   "cell_type": "code",
   "execution_count": 27,
   "id": "9cfcac39",
   "metadata": {},
   "outputs": [
    {
     "name": "stdout",
     "output_type": "stream",
     "text": [
      "C:\\Users\\Mohit\\Desktop\\VELOCITY\\31st july python and data science\\SQL :-This folder is not present\n",
      "Folder created\n"
     ]
    }
   ],
   "source": [
    "\n",
    "if os.path.exists(folder_path):\n",
    "    print(f\"{folder_path} :-This folder is already present\")\n",
    "else:\n",
    "    print(f\"{folder_path} :-This folder is not present\")\n",
    "    os.mkdir(folder_path)\n",
    "    print(\"Folder created\")"
   ]
  },
  {
   "cell_type": "code",
   "execution_count": 28,
   "id": "8b3519fa",
   "metadata": {},
   "outputs": [
    {
     "name": "stdout",
     "output_type": "stream",
     "text": [
      "C:\\Users\\Mohit\\Desktop\\VELOCITY\\31st july python and data science\\SQL :-This folder is already present\n"
     ]
    }
   ],
   "source": [
    "\n",
    "if os.path.exists(folder_path):\n",
    "    print(f\"{folder_path} :-This folder is already present\")\n",
    "else:\n",
    "    print(f\"{folder_path} :-This folder is not present\")\n",
    "    os.mkdir(folder_path)\n",
    "    print(\"Folder created\")"
   ]
  },
  {
   "cell_type": "code",
   "execution_count": 31,
   "id": "08138acb",
   "metadata": {},
   "outputs": [
    {
     "name": "stdout",
     "output_type": "stream",
     "text": [
      "C:\\Users\\Mohit\\Desktop\\VELOCITY\\31st july python and data science\\SQL :-This folder is already present\n",
      "Folder is removed\n"
     ]
    }
   ],
   "source": [
    "\n",
    "if os.path.exists(folder_path):\n",
    "    print(f\"{folder_path} :-This folder is already present\")\n",
    "    os.rmdir(folder_path)\n",
    "    print(\"Folder is removed\")\n",
    "else:\n",
    "    print(f\"{folder_path} :-This folder is not present\")\n",
    "    os.mkdir(folder_path)\n",
    "    print(\"Folder created\")"
   ]
  },
  {
   "cell_type": "code",
   "execution_count": 32,
   "id": "5d190e14",
   "metadata": {},
   "outputs": [
    {
     "data": {
      "text/plain": [
       "'Folder1\\\\sample.txt'"
      ]
     },
     "execution_count": 32,
     "metadata": {},
     "output_type": "execute_result"
    }
   ],
   "source": [
    "\"Folder1\\sample.txt\""
   ]
  },
  {
   "cell_type": "code",
   "execution_count": 33,
   "id": "81c7cc2d",
   "metadata": {},
   "outputs": [
    {
     "data": {
      "text/plain": [
       "'folder\\\\new_file.txt'"
      ]
     },
     "execution_count": 33,
     "metadata": {},
     "output_type": "execute_result"
    }
   ],
   "source": [
    "r\"folder\\new_file.txt\""
   ]
  },
  {
   "cell_type": "code",
   "execution_count": 41,
   "id": "33fae2fd",
   "metadata": {},
   "outputs": [
    {
     "data": {
      "text/plain": [
       "'C:\\\\Users\\\\Mohit\\\\Desktop\\\\VELOCITY\\\\31st july python and data science\\\\Datalake\\\\databricks'"
      ]
     },
     "execution_count": 41,
     "metadata": {},
     "output_type": "execute_result"
    }
   ],
   "source": [
    "path = r\"C:\\Users\\Mohit\\Desktop\\VELOCITY\\31st july python and data science\"\n",
    "folders = path + \"\\Datalake\\databricks\"\n",
    "folders"
   ]
  },
  {
   "cell_type": "code",
   "execution_count": 42,
   "id": "35281fe7",
   "metadata": {},
   "outputs": [
    {
     "ename": "FileNotFoundError",
     "evalue": "[WinError 3] The system cannot find the path specified: 'C:\\\\Users\\\\Mohit\\\\Desktop\\\\VELOCITY\\\\31st july python and data science\\\\Datalake\\\\databricks'",
     "output_type": "error",
     "traceback": [
      "\u001b[1;31m---------------------------------------------------------------------------\u001b[0m",
      "\u001b[1;31mFileNotFoundError\u001b[0m                         Traceback (most recent call last)",
      "Cell \u001b[1;32mIn [42], line 1\u001b[0m\n\u001b[1;32m----> 1\u001b[0m \u001b[43mos\u001b[49m\u001b[38;5;241;43m.\u001b[39;49m\u001b[43mmkdir\u001b[49m\u001b[43m(\u001b[49m\u001b[43mfolders\u001b[49m\u001b[43m)\u001b[49m\n",
      "\u001b[1;31mFileNotFoundError\u001b[0m: [WinError 3] The system cannot find the path specified: 'C:\\\\Users\\\\Mohit\\\\Desktop\\\\VELOCITY\\\\31st july python and data science\\\\Datalake\\\\databricks'"
     ]
    }
   ],
   "source": [
    "os.mkdir(folders)"
   ]
  },
  {
   "cell_type": "code",
   "execution_count": 44,
   "id": "9f0d3203",
   "metadata": {},
   "outputs": [],
   "source": [
    "os.makedirs(folders)"
   ]
  },
  {
   "cell_type": "code",
   "execution_count": 45,
   "id": "9a6233ab",
   "metadata": {},
   "outputs": [],
   "source": [
    "os.makedirs(folders + \"\\databricks1\")"
   ]
  },
  {
   "cell_type": "code",
   "execution_count": 46,
   "id": "ed8dd164",
   "metadata": {},
   "outputs": [
    {
     "data": {
      "text/plain": [
       "'C:\\\\Users\\\\Mohit\\\\Desktop\\\\VELOCITY\\\\31st july python and data science\\\\Datalake\\\\databricksdatabricks1'"
      ]
     },
     "execution_count": 46,
     "metadata": {},
     "output_type": "execute_result"
    }
   ],
   "source": [
    "folders + \"databricks1\""
   ]
  },
  {
   "cell_type": "code",
   "execution_count": 47,
   "id": "cc52f871",
   "metadata": {},
   "outputs": [
    {
     "data": {
      "text/plain": [
       "'C:\\\\Users\\\\Mohit\\\\Desktop\\\\VELOCITY\\\\31st july python and data science'"
      ]
     },
     "execution_count": 47,
     "metadata": {},
     "output_type": "execute_result"
    }
   ],
   "source": [
    "path"
   ]
  },
  {
   "cell_type": "code",
   "execution_count": 48,
   "id": "296e626c",
   "metadata": {},
   "outputs": [],
   "source": [
    "path = path + \"AWS\\Cred\\S3_Cred\""
   ]
  },
  {
   "cell_type": "code",
   "execution_count": 49,
   "id": "1a1bfbe5",
   "metadata": {},
   "outputs": [],
   "source": [
    "os.makedirs(path)"
   ]
  },
  {
   "cell_type": "markdown",
   "id": "237ba592",
   "metadata": {},
   "source": [
    "# Delete Directory\n",
    "- os.rmdir(folder_path)\n",
    "    - Works only for empty directory"
   ]
  },
  {
   "cell_type": "code",
   "execution_count": 50,
   "id": "e87333a9",
   "metadata": {},
   "outputs": [
    {
     "data": {
      "text/plain": [
       "True"
      ]
     },
     "execution_count": 50,
     "metadata": {},
     "output_type": "execute_result"
    }
   ],
   "source": [
    "folder_path = \"Python\"\n",
    "os.path.exists(folder_path)"
   ]
  },
  {
   "cell_type": "code",
   "execution_count": 51,
   "id": "627c1080",
   "metadata": {},
   "outputs": [],
   "source": [
    "os.rmdir(folder_path)"
   ]
  },
  {
   "cell_type": "code",
   "execution_count": 52,
   "id": "1bec9bd8",
   "metadata": {},
   "outputs": [
    {
     "ename": "FileNotFoundError",
     "evalue": "[WinError 2] The system cannot find the file specified: 'Datalake'",
     "output_type": "error",
     "traceback": [
      "\u001b[1;31m---------------------------------------------------------------------------\u001b[0m",
      "\u001b[1;31mFileNotFoundError\u001b[0m                         Traceback (most recent call last)",
      "Cell \u001b[1;32mIn [52], line 1\u001b[0m\n\u001b[1;32m----> 1\u001b[0m \u001b[43mos\u001b[49m\u001b[38;5;241;43m.\u001b[39;49m\u001b[43mrmdir\u001b[49m\u001b[43m(\u001b[49m\u001b[38;5;124;43m\"\u001b[39;49m\u001b[38;5;124;43mDatalake\u001b[39;49m\u001b[38;5;124;43m\"\u001b[39;49m\u001b[43m)\u001b[49m\n",
      "\u001b[1;31mFileNotFoundError\u001b[0m: [WinError 2] The system cannot find the file specified: 'Datalake'"
     ]
    }
   ],
   "source": [
    "os.rmdir(\"Datalake\")"
   ]
  },
  {
   "cell_type": "code",
   "execution_count": 53,
   "id": "4429b420",
   "metadata": {},
   "outputs": [],
   "source": [
    "os.rmdir(\"Data\")"
   ]
  },
  {
   "cell_type": "markdown",
   "id": "96fbb39e",
   "metadata": {},
   "source": [
    "# Check files in folder"
   ]
  },
  {
   "cell_type": "code",
   "execution_count": 54,
   "id": "ceda3d0f",
   "metadata": {},
   "outputs": [
    {
     "data": {
      "text/plain": [
       "['.ipynb_checkpoints',\n",
       " 'Data Science_batch',\n",
       " 'Model 1.txt',\n",
       " 'Model 2.txt',\n",
       " 'Model 3.txt',\n",
       " 'Model 4.txt',\n",
       " 'Model 5.txt',\n",
       " 'MODEL1.pkl',\n",
       " 'model2.pkl',\n",
       " 'model3.pkl',\n",
       " 'model4.pkl',\n",
       " 'OS MODULE Final.ipynb',\n",
       " 'OS Module.ipynb',\n",
       " 'SAMPLE.txt']"
      ]
     },
     "execution_count": 54,
     "metadata": {},
     "output_type": "execute_result"
    }
   ],
   "source": [
    "os.listdir()"
   ]
  },
  {
   "cell_type": "code",
   "execution_count": 55,
   "id": "9da6eb65",
   "metadata": {},
   "outputs": [
    {
     "data": {
      "text/plain": [
       "'C:\\\\Users\\\\Mohit\\\\Desktop\\\\VELOCITY\\\\31st july python and data science\\\\01_Aug_Introduction\\\\43.OS Module'"
      ]
     },
     "execution_count": 55,
     "metadata": {},
     "output_type": "execute_result"
    }
   ],
   "source": [
    "# cwd = current working directory\n",
    "cwd = os.getcwd()\n",
    "cwd"
   ]
  },
  {
   "cell_type": "code",
   "execution_count": 56,
   "id": "479341f9",
   "metadata": {},
   "outputs": [
    {
     "data": {
      "text/plain": [
       "['.ipynb_checkpoints',\n",
       " 'Data Science_batch',\n",
       " 'Model 1.txt',\n",
       " 'Model 2.txt',\n",
       " 'Model 3.txt',\n",
       " 'Model 4.txt',\n",
       " 'Model 5.txt',\n",
       " 'MODEL1.pkl',\n",
       " 'model2.pkl',\n",
       " 'model3.pkl',\n",
       " 'model4.pkl',\n",
       " 'OS MODULE Final.ipynb',\n",
       " 'OS Module.ipynb',\n",
       " 'SAMPLE.txt']"
      ]
     },
     "execution_count": 56,
     "metadata": {},
     "output_type": "execute_result"
    }
   ],
   "source": [
    "os.listdir(path = cwd)"
   ]
  },
  {
   "cell_type": "code",
   "execution_count": 59,
   "id": "6b3c7d22",
   "metadata": {},
   "outputs": [],
   "source": [
    "os.mkdir(\"Datalake\" + \"\\Databricks\")"
   ]
  },
  {
   "cell_type": "code",
   "execution_count": 60,
   "id": "f7c4bba4",
   "metadata": {},
   "outputs": [
    {
     "data": {
      "text/plain": [
       "['Databricks']"
      ]
     },
     "execution_count": 60,
     "metadata": {},
     "output_type": "execute_result"
    }
   ],
   "source": [
    "os.listdir(\"Datalake\")"
   ]
  },
  {
   "cell_type": "code",
   "execution_count": 61,
   "id": "a290227b",
   "metadata": {},
   "outputs": [
    {
     "ename": "FileNotFoundError",
     "evalue": "[WinError 3] The system cannot find the path specified: 'Databricks'",
     "output_type": "error",
     "traceback": [
      "\u001b[1;31m---------------------------------------------------------------------------\u001b[0m",
      "\u001b[1;31mFileNotFoundError\u001b[0m                         Traceback (most recent call last)",
      "Cell \u001b[1;32mIn [61], line 1\u001b[0m\n\u001b[1;32m----> 1\u001b[0m \u001b[43mos\u001b[49m\u001b[38;5;241;43m.\u001b[39;49m\u001b[43mlistdir\u001b[49m\u001b[43m(\u001b[49m\u001b[38;5;124;43m\"\u001b[39;49m\u001b[38;5;124;43mDatabricks\u001b[39;49m\u001b[38;5;124;43m\"\u001b[39;49m\u001b[43m)\u001b[49m\n",
      "\u001b[1;31mFileNotFoundError\u001b[0m: [WinError 3] The system cannot find the path specified: 'Databricks'"
     ]
    }
   ],
   "source": [
    "os.listdir(\"Databricks\")"
   ]
  },
  {
   "cell_type": "code",
   "execution_count": 62,
   "id": "b2e5f45a",
   "metadata": {},
   "outputs": [
    {
     "data": {
      "text/plain": [
       "[]"
      ]
     },
     "execution_count": 62,
     "metadata": {},
     "output_type": "execute_result"
    }
   ],
   "source": [
    "os.listdir(\"Datalake\\Databricks\")"
   ]
  },
  {
   "cell_type": "code",
   "execution_count": 63,
   "id": "26b4c9be",
   "metadata": {},
   "outputs": [
    {
     "name": "stdout",
     "output_type": "stream",
     "text": [
      "Files created\n",
      "Files created\n",
      "Files created\n",
      "Files created\n",
      "Files created\n"
     ]
    }
   ],
   "source": [
    "for i in range(1,6):\n",
    "    with open(f\"JSON_FILE{i}.json\",'w') as f:\n",
    "        pass\n",
    "    print(\"Files created\")"
   ]
  },
  {
   "cell_type": "code",
   "execution_count": 64,
   "id": "182a66c0",
   "metadata": {},
   "outputs": [
    {
     "name": "stdout",
     "output_type": "stream",
     "text": [
      "Files created\n",
      "Files created\n",
      "Files created\n",
      "Files created\n",
      "Files created\n"
     ]
    }
   ],
   "source": [
    "for i in range(1,6):\n",
    "    with open(f\"data{i}.csv\",'w') as f:\n",
    "        pass\n",
    "    print(\"Files created\")"
   ]
  },
  {
   "cell_type": "code",
   "execution_count": 65,
   "id": "5b038b19",
   "metadata": {},
   "outputs": [
    {
     "data": {
      "text/plain": [
       "['.ipynb_checkpoints',\n",
       " 'Data Science_batch',\n",
       " 'data1.csv',\n",
       " 'data2.csv',\n",
       " 'data3.csv',\n",
       " 'data4.csv',\n",
       " 'data5.csv',\n",
       " 'Datalake',\n",
       " 'JSON_FILE1.json',\n",
       " 'JSON_FILE2.json',\n",
       " 'JSON_FILE3.json',\n",
       " 'JSON_FILE4.json',\n",
       " 'JSON_FILE5.json',\n",
       " 'Model 1.txt',\n",
       " 'Model 2.txt',\n",
       " 'Model 3.txt',\n",
       " 'Model 4.txt',\n",
       " 'Model 5.txt',\n",
       " 'MODEL1.pkl',\n",
       " 'model2.pkl',\n",
       " 'model3.pkl',\n",
       " 'model4.pkl',\n",
       " 'OS MODULE Final.ipynb',\n",
       " 'OS Module.ipynb',\n",
       " 'SAMPLE.txt']"
      ]
     },
     "execution_count": 65,
     "metadata": {},
     "output_type": "execute_result"
    }
   ],
   "source": [
    "os.listdir()"
   ]
  },
  {
   "cell_type": "code",
   "execution_count": 66,
   "id": "176f4a4d",
   "metadata": {},
   "outputs": [
    {
     "name": "stdout",
     "output_type": "stream",
     "text": [
      ".ipynb_checkpoints <class 'str'>\n",
      "Data Science_batch <class 'str'>\n",
      "data1.csv <class 'str'>\n",
      "data2.csv <class 'str'>\n",
      "data3.csv <class 'str'>\n",
      "data4.csv <class 'str'>\n",
      "data5.csv <class 'str'>\n",
      "Datalake <class 'str'>\n",
      "JSON_FILE1.json <class 'str'>\n",
      "JSON_FILE2.json <class 'str'>\n",
      "JSON_FILE3.json <class 'str'>\n",
      "JSON_FILE4.json <class 'str'>\n",
      "JSON_FILE5.json <class 'str'>\n",
      "Model 1.txt <class 'str'>\n",
      "Model 2.txt <class 'str'>\n",
      "Model 3.txt <class 'str'>\n",
      "Model 4.txt <class 'str'>\n",
      "Model 5.txt <class 'str'>\n",
      "MODEL1.pkl <class 'str'>\n",
      "model2.pkl <class 'str'>\n",
      "model3.pkl <class 'str'>\n",
      "model4.pkl <class 'str'>\n",
      "OS MODULE Final.ipynb <class 'str'>\n",
      "OS Module.ipynb <class 'str'>\n",
      "SAMPLE.txt <class 'str'>\n"
     ]
    }
   ],
   "source": [
    "txt_files = []\n",
    "for i in os.listdir():\n",
    "    print(i,type(i))"
   ]
  },
  {
   "cell_type": "code",
   "execution_count": 68,
   "id": "437280db",
   "metadata": {},
   "outputs": [
    {
     "name": "stdout",
     "output_type": "stream",
     "text": [
      "['Model 1.txt', 'Model 2.txt', 'Model 3.txt', 'Model 4.txt', 'Model 5.txt', 'SAMPLE.txt']\n"
     ]
    }
   ],
   "source": [
    "txt_files = []\n",
    "for i in os.listdir():\n",
    "    if i.endswith(\".txt\"):\n",
    "        txt_files.append(i)\n",
    "print(txt_files)"
   ]
  },
  {
   "cell_type": "code",
   "execution_count": 4,
   "id": "8c3177ca",
   "metadata": {},
   "outputs": [
    {
     "name": "stdout",
     "output_type": "stream",
     "text": [
      "['data1.csv', 'data2.csv', 'data3.csv', 'data4.csv', 'data5.csv']\n"
     ]
    }
   ],
   "source": [
    "csv_files = []\n",
    "for i in os.listdir():\n",
    "    if i.endswith(\".csv\"):\n",
    "        csv_files.append(i)\n",
    "print(csv_files)"
   ]
  },
  {
   "cell_type": "code",
   "execution_count": 5,
   "id": "046c6474",
   "metadata": {},
   "outputs": [
    {
     "name": "stdout",
     "output_type": "stream",
     "text": [
      "['.ipynb_checkpoints', 'Data Science_batch', 'data1.csv', 'data2.csv', 'data3.csv', 'data4.csv', 'data5.csv', 'Datalake', 'Model 1.txt', 'Model 2.txt', 'Model 3.txt', 'Model 4.txt', 'Model 5.txt', 'MODEL1.pkl', 'model2.pkl', 'model3.pkl', 'model4.pkl', 'OS MODULE Final.ipynb', 'OS Module.ipynb', 'SAMPLE.txt']\n"
     ]
    }
   ],
   "source": [
    "not_json_files = []\n",
    "for i in os.listdir():\n",
    "    if not i.endswith(\".json\"):\n",
    "        not_json_files.append(i)\n",
    "print(not_json_files)"
   ]
  },
  {
   "cell_type": "markdown",
   "id": "8a449e50",
   "metadata": {},
   "source": [
    "# Current working Directory\n",
    "- os.getcwd()\n",
    "- return Current Working Directory"
   ]
  },
  {
   "cell_type": "code",
   "execution_count": 6,
   "id": "88511742",
   "metadata": {},
   "outputs": [
    {
     "data": {
      "text/plain": [
       "'C:\\\\Users\\\\Mohit\\\\Desktop\\\\VELOCITY\\\\31st july python and data science\\\\01_Aug_Introduction\\\\43.OS Module'"
      ]
     },
     "execution_count": 6,
     "metadata": {},
     "output_type": "execute_result"
    }
   ],
   "source": [
    "os.getcwd()"
   ]
  },
  {
   "cell_type": "markdown",
   "id": "9c75feed",
   "metadata": {},
   "source": [
    "# Change Directory\n",
    "- os.chdir(path)"
   ]
  },
  {
   "cell_type": "code",
   "execution_count": 7,
   "id": "21690756",
   "metadata": {},
   "outputs": [
    {
     "data": {
      "text/plain": [
       "'C:\\\\Users\\\\Mohit\\\\Desktop\\\\VELOCITY\\\\31st july python and data science\\\\01_Aug_Introduction\\\\43.OS Module'"
      ]
     },
     "execution_count": 7,
     "metadata": {},
     "output_type": "execute_result"
    }
   ],
   "source": [
    "os.getcwd()"
   ]
  },
  {
   "cell_type": "code",
   "execution_count": 8,
   "id": "2a00b892",
   "metadata": {},
   "outputs": [
    {
     "data": {
      "text/plain": [
       "'C:\\\\Users\\\\Mohit\\\\Desktop\\\\VELOCITY\\\\31st july python and data science\\\\01_Aug_Introduction\\\\43.OS Module'"
      ]
     },
     "execution_count": 8,
     "metadata": {},
     "output_type": "execute_result"
    }
   ],
   "source": [
    "path = os.getcwd()\n",
    "path"
   ]
  },
  {
   "cell_type": "code",
   "execution_count": 9,
   "id": "b041e66b",
   "metadata": {},
   "outputs": [],
   "source": [
    "folder = \"Datalake\""
   ]
  },
  {
   "cell_type": "code",
   "execution_count": 10,
   "id": "d662a6b2",
   "metadata": {},
   "outputs": [
    {
     "ename": "SyntaxError",
     "evalue": "EOL while scanning string literal (3997330877.py, line 1)",
     "output_type": "error",
     "traceback": [
      "\u001b[1;36m  Cell \u001b[1;32mIn [10], line 1\u001b[1;36m\u001b[0m\n\u001b[1;33m    path + \"\\\" + folder\u001b[0m\n\u001b[1;37m                       ^\u001b[0m\n\u001b[1;31mSyntaxError\u001b[0m\u001b[1;31m:\u001b[0m EOL while scanning string literal\n"
     ]
    }
   ],
   "source": [
    "path + \"\\\" + folder"
   ]
  },
  {
   "cell_type": "code",
   "execution_count": 11,
   "id": "9585e817",
   "metadata": {},
   "outputs": [
    {
     "data": {
      "text/plain": [
       "'C:\\\\Users\\\\Mohit\\\\Desktop\\\\VELOCITY\\\\31st july python and data science\\\\01_Aug_Introduction\\\\43.OS Module\\\\Datalake'"
      ]
     },
     "execution_count": 11,
     "metadata": {},
     "output_type": "execute_result"
    }
   ],
   "source": [
    "os.path.join(path,folder)"
   ]
  },
  {
   "cell_type": "code",
   "execution_count": 12,
   "id": "a62dd0c1",
   "metadata": {},
   "outputs": [
    {
     "data": {
      "text/plain": [
       "'C:\\\\Users\\\\Mohit\\\\Desktop\\\\VELOCITY\\\\31st july python and data science\\\\01_Aug_Introduction\\\\43.OS Module'"
      ]
     },
     "execution_count": 12,
     "metadata": {},
     "output_type": "execute_result"
    }
   ],
   "source": [
    "os.path.join(folder,path)"
   ]
  },
  {
   "cell_type": "code",
   "execution_count": 13,
   "id": "e95b2bd8",
   "metadata": {},
   "outputs": [],
   "source": [
    "os.chdir(os.path.join(path,folder))"
   ]
  },
  {
   "cell_type": "code",
   "execution_count": 14,
   "id": "3af39437",
   "metadata": {},
   "outputs": [
    {
     "data": {
      "text/plain": [
       "['Databricks']"
      ]
     },
     "execution_count": 14,
     "metadata": {},
     "output_type": "execute_result"
    }
   ],
   "source": [
    "os.listdir()"
   ]
  },
  {
   "cell_type": "code",
   "execution_count": 15,
   "id": "5e2a7de8",
   "metadata": {},
   "outputs": [],
   "source": [
    "for i in range(1,6):\n",
    "    with open(f\"file{i}.txt\",\"w\") as f:\n",
    "        pass"
   ]
  },
  {
   "cell_type": "code",
   "execution_count": 16,
   "id": "29d37fdf",
   "metadata": {},
   "outputs": [
    {
     "data": {
      "text/plain": [
       "['Databricks', 'file1.txt', 'file2.txt', 'file3.txt', 'file4.txt', 'file5.txt']"
      ]
     },
     "execution_count": 16,
     "metadata": {},
     "output_type": "execute_result"
    }
   ],
   "source": [
    "os.listdir()"
   ]
  },
  {
   "cell_type": "code",
   "execution_count": 17,
   "id": "7a44b0be",
   "metadata": {},
   "outputs": [
    {
     "data": {
      "text/plain": [
       "'C:\\\\Users\\\\Mohit\\\\Desktop\\\\VELOCITY\\\\31st july python and data science\\\\01_Aug_Introduction\\\\43.OS Module\\\\Datalake'"
      ]
     },
     "execution_count": 17,
     "metadata": {},
     "output_type": "execute_result"
    }
   ],
   "source": [
    "os.getcwd()"
   ]
  },
  {
   "cell_type": "code",
   "execution_count": 19,
   "id": "480b06d0",
   "metadata": {},
   "outputs": [],
   "source": [
    "os.chdir(r\"C:\\\\Users\\\\Mohit\\\\Desktop\\\\VELOCITY\\\\31st july python and data science\\\\01_Aug_Introduction\\\\43.OS Module\\\\Datalake\")"
   ]
  },
  {
   "cell_type": "code",
   "execution_count": 20,
   "id": "cea57dc8",
   "metadata": {},
   "outputs": [
    {
     "data": {
      "text/plain": [
       "['Databricks', 'file1.txt', 'file2.txt', 'file3.txt', 'file4.txt', 'file5.txt']"
      ]
     },
     "execution_count": 20,
     "metadata": {},
     "output_type": "execute_result"
    }
   ],
   "source": [
    "os.listdir()"
   ]
  },
  {
   "cell_type": "code",
   "execution_count": 21,
   "id": "74fd0a6d",
   "metadata": {},
   "outputs": [
    {
     "data": {
      "text/plain": [
       "'C:\\\\Users\\\\Mohit\\\\Desktop\\\\VELOCITY\\\\31st july python and data science\\\\01_Aug_Introduction\\\\43.OS Module\\\\Datalake'"
      ]
     },
     "execution_count": 21,
     "metadata": {},
     "output_type": "execute_result"
    }
   ],
   "source": [
    "os.getcwd()"
   ]
  },
  {
   "cell_type": "markdown",
   "id": "b23a1d7b",
   "metadata": {},
   "source": [
    "# Shutil"
   ]
  },
  {
   "cell_type": "code",
   "execution_count": 22,
   "id": "fafed103",
   "metadata": {},
   "outputs": [],
   "source": [
    "import shutil"
   ]
  },
  {
   "cell_type": "code",
   "execution_count": 23,
   "id": "8544cce5",
   "metadata": {},
   "outputs": [
    {
     "ename": "FileNotFoundError",
     "evalue": "[WinError 2] The system cannot find the file specified: 'Datalake'",
     "output_type": "error",
     "traceback": [
      "\u001b[1;31m---------------------------------------------------------------------------\u001b[0m",
      "\u001b[1;31mFileNotFoundError\u001b[0m                         Traceback (most recent call last)",
      "Cell \u001b[1;32mIn [23], line 1\u001b[0m\n\u001b[1;32m----> 1\u001b[0m \u001b[43mos\u001b[49m\u001b[38;5;241;43m.\u001b[39;49m\u001b[43mrmdir\u001b[49m\u001b[43m(\u001b[49m\u001b[38;5;124;43m\"\u001b[39;49m\u001b[38;5;124;43mDatalake\u001b[39;49m\u001b[38;5;124;43m\"\u001b[39;49m\u001b[43m)\u001b[49m\n",
      "\u001b[1;31mFileNotFoundError\u001b[0m: [WinError 2] The system cannot find the file specified: 'Datalake'"
     ]
    }
   ],
   "source": [
    "os.rmdir(\"Datalake\")"
   ]
  },
  {
   "cell_type": "code",
   "execution_count": 25,
   "id": "ab670760",
   "metadata": {},
   "outputs": [
    {
     "data": {
      "text/plain": [
       "'Datalake'"
      ]
     },
     "execution_count": 25,
     "metadata": {},
     "output_type": "execute_result"
    }
   ],
   "source": [
    "folder_path = \"Datalake\"\n",
    "folder_path"
   ]
  },
  {
   "cell_type": "code",
   "execution_count": 26,
   "id": "9cc30301",
   "metadata": {},
   "outputs": [
    {
     "ename": "FileNotFoundError",
     "evalue": "[WinError 3] The system cannot find the path specified: 'Datalake'",
     "output_type": "error",
     "traceback": [
      "\u001b[1;31m---------------------------------------------------------------------------\u001b[0m",
      "\u001b[1;31mFileNotFoundError\u001b[0m                         Traceback (most recent call last)",
      "Cell \u001b[1;32mIn [26], line 1\u001b[0m\n\u001b[1;32m----> 1\u001b[0m \u001b[43mshutil\u001b[49m\u001b[38;5;241;43m.\u001b[39;49m\u001b[43mrmtree\u001b[49m\u001b[43m(\u001b[49m\u001b[43mfolder_path\u001b[49m\u001b[43m)\u001b[49m\n",
      "File \u001b[1;32m~\\anaconda3\\lib\\shutil.py:748\u001b[0m, in \u001b[0;36mrmtree\u001b[1;34m(path, ignore_errors, onerror)\u001b[0m\n\u001b[0;32m    746\u001b[0m     \u001b[38;5;66;03m# can't continue even if onerror hook returns\u001b[39;00m\n\u001b[0;32m    747\u001b[0m     \u001b[38;5;28;01mreturn\u001b[39;00m\n\u001b[1;32m--> 748\u001b[0m \u001b[38;5;28;01mreturn\u001b[39;00m \u001b[43m_rmtree_unsafe\u001b[49m\u001b[43m(\u001b[49m\u001b[43mpath\u001b[49m\u001b[43m,\u001b[49m\u001b[43m \u001b[49m\u001b[43monerror\u001b[49m\u001b[43m)\u001b[49m\n",
      "File \u001b[1;32m~\\anaconda3\\lib\\shutil.py:607\u001b[0m, in \u001b[0;36m_rmtree_unsafe\u001b[1;34m(path, onerror)\u001b[0m\n\u001b[0;32m    605\u001b[0m         entries \u001b[38;5;241m=\u001b[39m \u001b[38;5;28mlist\u001b[39m(scandir_it)\n\u001b[0;32m    606\u001b[0m \u001b[38;5;28;01mexcept\u001b[39;00m \u001b[38;5;167;01mOSError\u001b[39;00m:\n\u001b[1;32m--> 607\u001b[0m     \u001b[43monerror\u001b[49m\u001b[43m(\u001b[49m\u001b[43mos\u001b[49m\u001b[38;5;241;43m.\u001b[39;49m\u001b[43mscandir\u001b[49m\u001b[43m,\u001b[49m\u001b[43m \u001b[49m\u001b[43mpath\u001b[49m\u001b[43m,\u001b[49m\u001b[43m \u001b[49m\u001b[43msys\u001b[49m\u001b[38;5;241;43m.\u001b[39;49m\u001b[43mexc_info\u001b[49m\u001b[43m(\u001b[49m\u001b[43m)\u001b[49m\u001b[43m)\u001b[49m\n\u001b[0;32m    608\u001b[0m     entries \u001b[38;5;241m=\u001b[39m []\n\u001b[0;32m    609\u001b[0m \u001b[38;5;28;01mfor\u001b[39;00m entry \u001b[38;5;129;01min\u001b[39;00m entries:\n",
      "File \u001b[1;32m~\\anaconda3\\lib\\shutil.py:604\u001b[0m, in \u001b[0;36m_rmtree_unsafe\u001b[1;34m(path, onerror)\u001b[0m\n\u001b[0;32m    602\u001b[0m \u001b[38;5;28;01mdef\u001b[39;00m \u001b[38;5;21m_rmtree_unsafe\u001b[39m(path, onerror):\n\u001b[0;32m    603\u001b[0m     \u001b[38;5;28;01mtry\u001b[39;00m:\n\u001b[1;32m--> 604\u001b[0m         \u001b[38;5;28;01mwith\u001b[39;00m \u001b[43mos\u001b[49m\u001b[38;5;241;43m.\u001b[39;49m\u001b[43mscandir\u001b[49m\u001b[43m(\u001b[49m\u001b[43mpath\u001b[49m\u001b[43m)\u001b[49m \u001b[38;5;28;01mas\u001b[39;00m scandir_it:\n\u001b[0;32m    605\u001b[0m             entries \u001b[38;5;241m=\u001b[39m \u001b[38;5;28mlist\u001b[39m(scandir_it)\n\u001b[0;32m    606\u001b[0m     \u001b[38;5;28;01mexcept\u001b[39;00m \u001b[38;5;167;01mOSError\u001b[39;00m:\n",
      "\u001b[1;31mFileNotFoundError\u001b[0m: [WinError 3] The system cannot find the path specified: 'Datalake'"
     ]
    }
   ],
   "source": [
    "shutil.rmtree(folder_path)"
   ]
  }
 ],
 "metadata": {
  "kernelspec": {
   "display_name": "Python 3 (ipykernel)",
   "language": "python",
   "name": "python3"
  },
  "language_info": {
   "codemirror_mode": {
    "name": "ipython",
    "version": 3
   },
   "file_extension": ".py",
   "mimetype": "text/x-python",
   "name": "python",
   "nbconvert_exporter": "python",
   "pygments_lexer": "ipython3",
   "version": "3.12.4"
  }
 },
 "nbformat": 4,
 "nbformat_minor": 5
}
