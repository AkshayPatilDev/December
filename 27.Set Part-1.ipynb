{
 "cells": [
  {
   "cell_type": "markdown",
   "id": "3193d6ce",
   "metadata": {},
   "source": [
    "# Set"
   ]
  },
  {
   "cell_type": "raw",
   "id": "a4ea4912",
   "metadata": {},
   "source": [
    "string---> Ordered  ,Immutable,Allowed Duplicate    ,\" \"\n",
    "List  ---> Ordered  ,Mutable  ,Allowed Duplicate    ,[ ]\n",
    "Tuple ---> Ordered  ,Immutable,Allowed Duplicate    ,( )\n",
    "Set   ---> Unordered,mutable,Duplicate Not Allowed,{ }"
   ]
  },
  {
   "cell_type": "markdown",
   "id": "c8b955a6",
   "metadata": {},
   "source": [
    "## Set Functions:\n",
    "- 1.add()\n",
    "- 2.update()\n",
    "- 3.union()\n",
    "- 4.remove()\n",
    "- 5.discard()\n",
    "- 6.pop()\n",
    "- 7.clear()\n",
    "- 8.intersection()\n",
    "- 9.intersection_update()\n",
    "- 10.difference()\n",
    "- 11.difference_update()\n",
    "- 12.symmetric_difference()\n",
    "- 13.symmetric_difference_update()\n",
    "- 14.issubset()\n",
    "- 15.issuperset()\n",
    "- 16.isdisjoint()"
   ]
  },
  {
   "cell_type": "code",
   "execution_count": 1,
   "id": "0971b82b",
   "metadata": {},
   "outputs": [
    {
     "data": {
      "text/plain": [
       "dict"
      ]
     },
     "execution_count": 1,
     "metadata": {},
     "output_type": "execute_result"
    }
   ],
   "source": [
    "set1 = {}\n",
    "type(set1)"
   ]
  },
  {
   "cell_type": "code",
   "execution_count": 2,
   "id": "59fbd48a",
   "metadata": {
    "scrolled": true
   },
   "outputs": [
    {
     "name": "stdout",
     "output_type": "stream",
     "text": [
      "{}\n"
     ]
    },
    {
     "data": {
      "text/plain": [
       "dict"
      ]
     },
     "execution_count": 2,
     "metadata": {},
     "output_type": "execute_result"
    }
   ],
   "source": [
    "di1 = dict()\n",
    "print(di1)\n",
    "type(di1)"
   ]
  },
  {
   "cell_type": "code",
   "execution_count": 3,
   "id": "19d506d8",
   "metadata": {},
   "outputs": [
    {
     "data": {
      "text/plain": [
       "{'Name': 'Mohit', 'Batch': '30 july'}"
      ]
     },
     "execution_count": 3,
     "metadata": {},
     "output_type": "execute_result"
    }
   ],
   "source": [
    "di = {\"Name\":\"Mohit\",\"Batch\":\"30 july\"}\n",
    "di"
   ]
  },
  {
   "cell_type": "code",
   "execution_count": 6,
   "id": "d1dbccaa",
   "metadata": {},
   "outputs": [
    {
     "data": {
      "text/plain": [
       "set"
      ]
     },
     "execution_count": 6,
     "metadata": {},
     "output_type": "execute_result"
    }
   ],
   "source": [
    "# to create an empty set\n",
    "set1 = set()\n",
    "type(set1)"
   ]
  },
  {
   "cell_type": "code",
   "execution_count": 15,
   "id": "3466a61b",
   "metadata": {},
   "outputs": [
    {
     "data": {
      "text/plain": [
       "{1, 2, 3, 4, 5}"
      ]
     },
     "execution_count": 15,
     "metadata": {},
     "output_type": "execute_result"
    }
   ],
   "source": [
    "set1 = {1,2,3,4,5}\n",
    "set1"
   ]
  },
  {
   "cell_type": "code",
   "execution_count": 16,
   "id": "b3a0fed5",
   "metadata": {},
   "outputs": [
    {
     "data": {
      "text/plain": [
       "set"
      ]
     },
     "execution_count": 16,
     "metadata": {},
     "output_type": "execute_result"
    }
   ],
   "source": [
    "type(set1)"
   ]
  },
  {
   "cell_type": "code",
   "execution_count": 17,
   "id": "70e8cfe8",
   "metadata": {},
   "outputs": [
    {
     "data": {
      "text/plain": [
       "[1, 1, 2, 2, 3, 3, 4, 4, 5, 5]"
      ]
     },
     "execution_count": 17,
     "metadata": {},
     "output_type": "execute_result"
    }
   ],
   "source": [
    "li = [1,1,2,2,3,3,4,4,5,5]\n",
    "li"
   ]
  },
  {
   "cell_type": "code",
   "execution_count": 19,
   "id": "193fd06f",
   "metadata": {},
   "outputs": [
    {
     "data": {
      "text/plain": [
       "{1, 2, 3, 4, 5}"
      ]
     },
     "execution_count": 19,
     "metadata": {},
     "output_type": "execute_result"
    }
   ],
   "source": [
    "set1 = {1,1,2,2,3,3,4,4,5,5}\n",
    "set1"
   ]
  },
  {
   "cell_type": "code",
   "execution_count": 23,
   "id": "88aa3b78",
   "metadata": {},
   "outputs": [
    {
     "data": {
      "text/plain": [
       "[1, 1.1, 2, 2.2, 3, 3.3, 4, 4.4, 5, 5.5, 'A', 'AB', 'ABC']"
      ]
     },
     "execution_count": 23,
     "metadata": {},
     "output_type": "execute_result"
    }
   ],
   "source": [
    "li = [1,1.1,2,2.2,3,3.3,4,4.4,5,5.5,\"A\",\"AB\",\"ABC\"]\n",
    "li"
   ]
  },
  {
   "cell_type": "code",
   "execution_count": 24,
   "id": "7c736c87",
   "metadata": {},
   "outputs": [
    {
     "data": {
      "text/plain": [
       "{1, 1.1, 2, 2.2, 3, 3.3, 4, 4.4, 5, 5.5, 'A', 'AB', 'ABC'}"
      ]
     },
     "execution_count": 24,
     "metadata": {},
     "output_type": "execute_result"
    }
   ],
   "source": [
    "set1 = {1,1.1,2,2.2,3,3.3,4,4.4,5,5.5,\"A\",\"AB\",\"ABC\"}\n",
    "set1"
   ]
  },
  {
   "cell_type": "code",
   "execution_count": 25,
   "id": "a1cf3707",
   "metadata": {
    "scrolled": true
   },
   "outputs": [
    {
     "ename": "TypeError",
     "evalue": "'set' object is not subscriptable",
     "output_type": "error",
     "traceback": [
      "\u001b[1;31m---------------------------------------------------------------------------\u001b[0m",
      "\u001b[1;31mTypeError\u001b[0m                                 Traceback (most recent call last)",
      "\u001b[1;32m~\\AppData\\Local\\Temp/ipykernel_7688/2166654704.py\u001b[0m in \u001b[0;36m<module>\u001b[1;34m\u001b[0m\n\u001b[1;32m----> 1\u001b[1;33m \u001b[0mset1\u001b[0m\u001b[1;33m[\u001b[0m\u001b[1;36m0\u001b[0m\u001b[1;33m]\u001b[0m\u001b[1;33m\u001b[0m\u001b[1;33m\u001b[0m\u001b[0m\n\u001b[0m",
      "\u001b[1;31mTypeError\u001b[0m: 'set' object is not subscriptable"
     ]
    }
   ],
   "source": [
    "set1[0]"
   ]
  },
  {
   "cell_type": "code",
   "execution_count": 31,
   "id": "863cd0df",
   "metadata": {},
   "outputs": [
    {
     "name": "stdout",
     "output_type": "stream",
     "text": [
      "1\n",
      "2\n",
      "3\n",
      "1.1\n",
      "2.2\n",
      "3.3\n",
      "4\n",
      "4.4\n",
      "5\n",
      "5.5\n",
      "A\n",
      "ABC\n",
      "AB\n"
     ]
    }
   ],
   "source": [
    "for i in set1:\n",
    "    print(i)"
   ]
  },
  {
   "cell_type": "code",
   "execution_count": 32,
   "id": "d16a1b7d",
   "metadata": {},
   "outputs": [
    {
     "name": "stdout",
     "output_type": "stream",
     "text": [
      "1 2 3 1.1 2.2 3.3 4 4.4 5 5.5 A ABC AB "
     ]
    }
   ],
   "source": [
    "for i in set1:\n",
    "    print(i,end=' ')"
   ]
  }
 ],
 "metadata": {
  "kernelspec": {
   "display_name": "Python 3 (ipykernel)",
   "language": "python",
   "name": "python3"
  },
  "language_info": {
   "codemirror_mode": {
    "name": "ipython",
    "version": 3
   },
   "file_extension": ".py",
   "mimetype": "text/x-python",
   "name": "python",
   "nbconvert_exporter": "python",
   "pygments_lexer": "ipython3",
   "version": "3.12.4"
  }
 },
 "nbformat": 4,
 "nbformat_minor": 5
}
