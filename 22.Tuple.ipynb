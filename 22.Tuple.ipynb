{
 "cells": [
  {
   "cell_type": "markdown",
   "id": "3679ad7e",
   "metadata": {},
   "source": [
    "# List\n",
    "- 1.Mutable (values can be changed/changable)------>add,delete,update\n",
    "- 2.Allow duplicate items\n",
    "- 3.Ordered data type\n",
    "- 4.Enclosed by []\n",
    "- 5.Variable length\n",
    "- 6.More memory required\n",
    "- 7.More Functional\n",
    "- 8.Collecion of any data types\n",
    "- 9.List is slower than tuple"
   ]
  },
  {
   "cell_type": "markdown",
   "id": "e3e15013",
   "metadata": {},
   "source": [
    "# Tuple\n",
    "- 1.Immutable(values cannot be changable)\n",
    "- 2.Allows duplicate items\n",
    "- 3.Ordered data type\n",
    "- 4.Enclosed by ()\n",
    "- 5.Fixed length\n",
    "- 6.Requires less memory\n",
    "- 7.Less functional\n",
    "- 8.Collection of any Data types\n",
    "- 9.Tuple is faster than List"
   ]
  },
  {
   "cell_type": "markdown",
   "id": "a8fedf89",
   "metadata": {},
   "source": [
    "## How to create Tuple"
   ]
  },
  {
   "cell_type": "code",
   "execution_count": 1,
   "id": "264e63ff",
   "metadata": {},
   "outputs": [
    {
     "name": "stdout",
     "output_type": "stream",
     "text": [
      "(1, 2, 3, 4, 5) <class 'tuple'>\n"
     ]
    }
   ],
   "source": [
    "tup1 = 1,2,3,4,5\n",
    "print(tup1,type(tup1))"
   ]
  },
  {
   "cell_type": "code",
   "execution_count": 2,
   "id": "49d9577e",
   "metadata": {},
   "outputs": [
    {
     "name": "stdout",
     "output_type": "stream",
     "text": [
      "1 <class 'int'>\n"
     ]
    }
   ],
   "source": [
    "tup1 = 1\n",
    "print(tup1,type(tup1))"
   ]
  },
  {
   "cell_type": "code",
   "execution_count": 3,
   "id": "633de65b",
   "metadata": {},
   "outputs": [
    {
     "name": "stdout",
     "output_type": "stream",
     "text": [
      "(1,) <class 'tuple'>\n"
     ]
    }
   ],
   "source": [
    "tup1 = 1,\n",
    "print(tup1,type(tup1))"
   ]
  },
  {
   "cell_type": "code",
   "execution_count": 5,
   "id": "a9348656",
   "metadata": {},
   "outputs": [
    {
     "name": "stdout",
     "output_type": "stream",
     "text": [
      "('Python',) <class 'tuple'>\n"
     ]
    }
   ],
   "source": [
    "tup1 = (\"Python\",)\n",
    "print(tup1,type(tup1))"
   ]
  },
  {
   "cell_type": "code",
   "execution_count": 6,
   "id": "20e74c80",
   "metadata": {},
   "outputs": [
    {
     "name": "stdout",
     "output_type": "stream",
     "text": [
      "(1, 2, 3, 4, 5) <class 'tuple'>\n"
     ]
    }
   ],
   "source": [
    "tup1 = (1,2,3,4,5)\n",
    "print(tup1,type(tup1))"
   ]
  },
  {
   "cell_type": "raw",
   "id": "17762881",
   "metadata": {},
   "source": [
    "1. Enclosing all elements by ()        -----> tup1 = (1,2,3,4,5)\n",
    "2. By one element with comma           -----> tup1 =1, , tup1 = (1,)\n",
    "3. All elements with comma without ()  -----> tup1 =1,2,3,4,5"
   ]
  },
  {
   "cell_type": "markdown",
   "id": "5aaefb99",
   "metadata": {},
   "source": [
    "## indexing and slicing"
   ]
  },
  {
   "cell_type": "code",
   "execution_count": 7,
   "id": "0b4989c2",
   "metadata": {},
   "outputs": [
    {
     "data": {
      "text/plain": [
       "(1, 2, 3, 4, 5)"
      ]
     },
     "execution_count": 7,
     "metadata": {},
     "output_type": "execute_result"
    }
   ],
   "source": [
    "tup1 = (1,2,3,4,5)\n",
    "tup1"
   ]
  },
  {
   "cell_type": "code",
   "execution_count": 10,
   "id": "a90671fa",
   "metadata": {},
   "outputs": [
    {
     "name": "stdout",
     "output_type": "stream",
     "text": [
      "1\n",
      "2\n",
      "3\n",
      "4\n",
      "5\n"
     ]
    }
   ],
   "source": [
    "print(tup1 [0])\n",
    "print(tup1 [1])\n",
    "print(tup1 [2])\n",
    "print(tup1 [3])\n",
    "print(tup1 [4])"
   ]
  },
  {
   "cell_type": "code",
   "execution_count": 11,
   "id": "07f259f6",
   "metadata": {},
   "outputs": [
    {
     "name": "stdout",
     "output_type": "stream",
     "text": [
      "5\n",
      "4\n",
      "3\n",
      "2\n",
      "1\n"
     ]
    }
   ],
   "source": [
    "print(tup1 [-1])\n",
    "print(tup1 [-2])\n",
    "print(tup1 [-3])\n",
    "print(tup1 [-4])\n",
    "print(tup1 [-5])"
   ]
  },
  {
   "cell_type": "code",
   "execution_count": 12,
   "id": "d52f75ce",
   "metadata": {},
   "outputs": [
    {
     "data": {
      "text/plain": [
       "(1, 2, 3, 4, 5)"
      ]
     },
     "execution_count": 12,
     "metadata": {},
     "output_type": "execute_result"
    }
   ],
   "source": [
    "tup1 [:]"
   ]
  },
  {
   "cell_type": "code",
   "execution_count": 13,
   "id": "ce57a403",
   "metadata": {},
   "outputs": [
    {
     "data": {
      "text/plain": [
       "(2, 3)"
      ]
     },
     "execution_count": 13,
     "metadata": {},
     "output_type": "execute_result"
    }
   ],
   "source": [
    "tup1[1:3]"
   ]
  },
  {
   "cell_type": "code",
   "execution_count": 14,
   "id": "c4caa22e",
   "metadata": {},
   "outputs": [
    {
     "data": {
      "text/plain": [
       "()"
      ]
     },
     "execution_count": 14,
     "metadata": {},
     "output_type": "execute_result"
    }
   ],
   "source": [
    "tup1[1:3:-1]"
   ]
  },
  {
   "cell_type": "code",
   "execution_count": 15,
   "id": "92ac535c",
   "metadata": {},
   "outputs": [
    {
     "data": {
      "text/plain": [
       "(2, 4)"
      ]
     },
     "execution_count": 15,
     "metadata": {},
     "output_type": "execute_result"
    }
   ],
   "source": [
    "tup1[1:5:2]"
   ]
  },
  {
   "cell_type": "code",
   "execution_count": 16,
   "id": "a89b18bb",
   "metadata": {},
   "outputs": [
    {
     "data": {
      "text/plain": [
       "(5, 4, 3, 2, 1)"
      ]
     },
     "execution_count": 16,
     "metadata": {},
     "output_type": "execute_result"
    }
   ],
   "source": [
    "tup1[::-1]"
   ]
  },
  {
   "cell_type": "code",
   "execution_count": 17,
   "id": "d2982fb9",
   "metadata": {},
   "outputs": [
    {
     "data": {
      "text/plain": [
       "(5, 4, 3, 2)"
      ]
     },
     "execution_count": 17,
     "metadata": {},
     "output_type": "execute_result"
    }
   ],
   "source": [
    "tup1[-1:-5:-1]"
   ]
  },
  {
   "cell_type": "markdown",
   "id": "5ac4cd72",
   "metadata": {},
   "source": [
    "## Delete items"
   ]
  },
  {
   "cell_type": "code",
   "execution_count": 18,
   "id": "d01329bf",
   "metadata": {},
   "outputs": [
    {
     "data": {
      "text/plain": [
       "(1, 2, 3, 4, 5)"
      ]
     },
     "execution_count": 18,
     "metadata": {},
     "output_type": "execute_result"
    }
   ],
   "source": [
    "tup1"
   ]
  },
  {
   "cell_type": "code",
   "execution_count": 20,
   "id": "f68153f1",
   "metadata": {},
   "outputs": [
    {
     "ename": "TypeError",
     "evalue": "'tuple' object doesn't support item deletion",
     "output_type": "error",
     "traceback": [
      "\u001b[1;31m---------------------------------------------------------------------------\u001b[0m",
      "\u001b[1;31mTypeError\u001b[0m                                 Traceback (most recent call last)",
      "\u001b[1;32m~\\AppData\\Local\\Temp/ipykernel_24708/381909728.py\u001b[0m in \u001b[0;36m<module>\u001b[1;34m\u001b[0m\n\u001b[0;32m      1\u001b[0m \u001b[0mtup1\u001b[0m \u001b[1;33m=\u001b[0m \u001b[1;33m(\u001b[0m\u001b[1;36m1\u001b[0m\u001b[1;33m,\u001b[0m\u001b[1;36m2\u001b[0m\u001b[1;33m,\u001b[0m\u001b[1;36m3\u001b[0m\u001b[1;33m,\u001b[0m\u001b[1;36m4\u001b[0m\u001b[1;33m,\u001b[0m\u001b[1;36m5\u001b[0m\u001b[1;33m)\u001b[0m\u001b[1;33m\u001b[0m\u001b[1;33m\u001b[0m\u001b[0m\n\u001b[1;32m----> 2\u001b[1;33m \u001b[1;32mdel\u001b[0m \u001b[0mtup1\u001b[0m \u001b[1;33m[\u001b[0m\u001b[1;36m1\u001b[0m\u001b[1;33m]\u001b[0m\u001b[1;33m\u001b[0m\u001b[1;33m\u001b[0m\u001b[0m\n\u001b[0m",
      "\u001b[1;31mTypeError\u001b[0m: 'tuple' object doesn't support item deletion"
     ]
    }
   ],
   "source": [
    "tup1 = (1,2,3,4,5)\n",
    "del tup1 [1]"
   ]
  },
  {
   "cell_type": "code",
   "execution_count": 22,
   "id": "a7b2558b",
   "metadata": {},
   "outputs": [
    {
     "data": {
      "text/plain": [
       "[1, 3, 4, 5]"
      ]
     },
     "execution_count": 22,
     "metadata": {},
     "output_type": "execute_result"
    }
   ],
   "source": [
    "li = [1,2,3,4,5]\n",
    "del li[1]\n",
    "li"
   ]
  },
  {
   "cell_type": "code",
   "execution_count": 23,
   "id": "d56a9b44",
   "metadata": {},
   "outputs": [
    {
     "ename": "NameError",
     "evalue": "name 'tup1' is not defined",
     "output_type": "error",
     "traceback": [
      "\u001b[1;31m---------------------------------------------------------------------------\u001b[0m",
      "\u001b[1;31mNameError\u001b[0m                                 Traceback (most recent call last)",
      "\u001b[1;32m~\\AppData\\Local\\Temp/ipykernel_24708/1685397888.py\u001b[0m in \u001b[0;36m<module>\u001b[1;34m\u001b[0m\n\u001b[0;32m      1\u001b[0m \u001b[1;32mdel\u001b[0m \u001b[0mtup1\u001b[0m\u001b[1;33m\u001b[0m\u001b[1;33m\u001b[0m\u001b[0m\n\u001b[1;32m----> 2\u001b[1;33m \u001b[0mtup1\u001b[0m\u001b[1;33m\u001b[0m\u001b[1;33m\u001b[0m\u001b[0m\n\u001b[0m",
      "\u001b[1;31mNameError\u001b[0m: name 'tup1' is not defined"
     ]
    }
   ],
   "source": [
    "del tup1\n",
    "tup1"
   ]
  },
  {
   "cell_type": "code",
   "execution_count": 25,
   "id": "f6f999dc",
   "metadata": {},
   "outputs": [
    {
     "name": "stdout",
     "output_type": "stream",
     "text": [
      "[22, 33, 44, 55]\n",
      "(22, 33, 44, 55)\n"
     ]
    }
   ],
   "source": [
    "tup1 = (11,22,33,44,55)\n",
    "tu_li = list(tup1)\n",
    "del tu_li[0]\n",
    "print(tu_li)\n",
    "tup2 = tuple(tu_li)\n",
    "print(tup2)\n"
   ]
  },
  {
   "cell_type": "code",
   "execution_count": 26,
   "id": "d88a0691",
   "metadata": {},
   "outputs": [
    {
     "data": {
      "text/plain": [
       "(11, 22, 33, 44, 55)"
      ]
     },
     "execution_count": 26,
     "metadata": {},
     "output_type": "execute_result"
    }
   ],
   "source": [
    "tup1"
   ]
  },
  {
   "cell_type": "code",
   "execution_count": 27,
   "id": "a69fe241",
   "metadata": {},
   "outputs": [
    {
     "data": {
      "text/plain": [
       "(22, 33, 44, 55)"
      ]
     },
     "execution_count": 27,
     "metadata": {},
     "output_type": "execute_result"
    }
   ],
   "source": [
    "tup2"
   ]
  },
  {
   "cell_type": "markdown",
   "id": "87aa9e1e",
   "metadata": {},
   "source": [
    "## Tuple operations"
   ]
  },
  {
   "cell_type": "code",
   "execution_count": 28,
   "id": "f0c3f3fc",
   "metadata": {},
   "outputs": [
    {
     "data": {
      "text/plain": [
       "(1, 2, 3, 4, 5, 6)"
      ]
     },
     "execution_count": 28,
     "metadata": {},
     "output_type": "execute_result"
    }
   ],
   "source": [
    "tup1 = (1,2,3)\n",
    "tup2 = 4,5,6\n",
    "tup1 + tup2"
   ]
  },
  {
   "cell_type": "code",
   "execution_count": 30,
   "id": "69e818ee",
   "metadata": {},
   "outputs": [
    {
     "data": {
      "text/plain": [
       "(1, 2, 3, 4, 5, 6, 'Python')"
      ]
     },
     "execution_count": 30,
     "metadata": {},
     "output_type": "execute_result"
    }
   ],
   "source": [
    "tup1 = (1,2,3)\n",
    "tup2 = 4,5,6,\"Python\"\n",
    "tup1 + tup2"
   ]
  },
  {
   "cell_type": "code",
   "execution_count": 31,
   "id": "a1c8640d",
   "metadata": {},
   "outputs": [
    {
     "data": {
      "text/plain": [
       "(4, 5, 6, 'Python', 1, 2, 3)"
      ]
     },
     "execution_count": 31,
     "metadata": {},
     "output_type": "execute_result"
    }
   ],
   "source": [
    "tup1 = (1,2,3)\n",
    "tup2 = 4,5,6,\"Python\"\n",
    "tup2 + tup1"
   ]
  },
  {
   "cell_type": "code",
   "execution_count": 32,
   "id": "7fdf2451",
   "metadata": {},
   "outputs": [
    {
     "data": {
      "text/plain": [
       "(4, 5, 6, 'Python', 4, 5, 6, 'Python', 4, 5, 6, 'Python')"
      ]
     },
     "execution_count": 32,
     "metadata": {},
     "output_type": "execute_result"
    }
   ],
   "source": [
    "tup1 = (1,2,3)\n",
    "tup2 = 4,5,6,\"Python\"\n",
    "tup2 + tup2 + tup2"
   ]
  },
  {
   "cell_type": "code",
   "execution_count": 33,
   "id": "b0c471de",
   "metadata": {},
   "outputs": [
    {
     "data": {
      "text/plain": [
       "(4, 5, 6, 'Python', 4, 5, 6, 'Python', 4, 5, 6, 'Python')"
      ]
     },
     "execution_count": 33,
     "metadata": {},
     "output_type": "execute_result"
    }
   ],
   "source": [
    "tup1 = (1,2,3)\n",
    "tup2 = 4,5,6,\"Python\"\n",
    "tup2 * 3"
   ]
  },
  {
   "cell_type": "code",
   "execution_count": 35,
   "id": "17ba0598",
   "metadata": {},
   "outputs": [
    {
     "name": "stdout",
     "output_type": "stream",
     "text": [
      "(4, 5, 6, 'Python', [1, 2], 4, 5, 6, 'Python', [1, 2], 4, 5, 6, 'Python', [1, 2])\n"
     ]
    }
   ],
   "source": [
    "tup1 = (1,2,3)\n",
    "tup2 = 4,5,6,\"Python\",[1,2]\n",
    "print(tup2 * 3)"
   ]
  },
  {
   "cell_type": "code",
   "execution_count": 36,
   "id": "f2546289",
   "metadata": {},
   "outputs": [
    {
     "data": {
      "text/plain": [
       "'HiBye'"
      ]
     },
     "execution_count": 36,
     "metadata": {},
     "output_type": "execute_result"
    }
   ],
   "source": [
    "\"Hi\" + \"Bye\""
   ]
  },
  {
   "cell_type": "code",
   "execution_count": 37,
   "id": "8e00bbdd",
   "metadata": {},
   "outputs": [
    {
     "data": {
      "text/plain": [
       "'HiHiHi'"
      ]
     },
     "execution_count": 37,
     "metadata": {},
     "output_type": "execute_result"
    }
   ],
   "source": [
    "\"Hi\" * 3"
   ]
  },
  {
   "cell_type": "markdown",
   "id": "c45bf185",
   "metadata": {},
   "source": [
    "## Access items using for loop"
   ]
  },
  {
   "cell_type": "code",
   "execution_count": 38,
   "id": "9b454e6c",
   "metadata": {},
   "outputs": [
    {
     "data": {
      "text/plain": [
       "('Pune', 'Mumbai', 'Chennai', 'Gujrat', 'Maharashtra', 'Delhi')"
      ]
     },
     "execution_count": 38,
     "metadata": {},
     "output_type": "execute_result"
    }
   ],
   "source": [
    "tup1 = (\"Pune\",\"Mumbai\",\"Chennai\",\"Gujrat\",\"Maharashtra\",\"Delhi\")\n",
    "tup1"
   ]
  },
  {
   "cell_type": "code",
   "execution_count": 39,
   "id": "e5c060dc",
   "metadata": {},
   "outputs": [
    {
     "name": "stdout",
     "output_type": "stream",
     "text": [
      "We are learning tuple\n",
      "We are learning tuple\n",
      "We are learning tuple\n",
      "We are learning tuple\n",
      "We are learning tuple\n",
      "We are learning tuple\n"
     ]
    }
   ],
   "source": [
    "for item in tup1:\n",
    "    print(\"We are learning tuple\")"
   ]
  },
  {
   "cell_type": "code",
   "execution_count": 40,
   "id": "3360e2d4",
   "metadata": {},
   "outputs": [
    {
     "name": "stdout",
     "output_type": "stream",
     "text": [
      "Item = Pune\n",
      "Item = Mumbai\n",
      "Item = Chennai\n",
      "Item = Gujrat\n",
      "Item = Maharashtra\n",
      "Item = Delhi\n"
     ]
    }
   ],
   "source": [
    "for item in tup1:\n",
    "    print(f\"Item = {item}\")"
   ]
  },
  {
   "cell_type": "code",
   "execution_count": 41,
   "id": "a604dff0",
   "metadata": {},
   "outputs": [
    {
     "name": "stdout",
     "output_type": "stream",
     "text": [
      "Index = 0, Item = Pune\n",
      "Index = 1, Item = Mumbai\n",
      "Index = 2, Item = Chennai\n",
      "Index = 3, Item = Gujrat\n",
      "Index = 4, Item = Maharashtra\n",
      "Index = 5, Item = Delhi\n"
     ]
    }
   ],
   "source": [
    "index = 0\n",
    "for item in tup1:\n",
    "    print(f\"Index = {index}, Item = {item}\")\n",
    "    index +=1"
   ]
  },
  {
   "cell_type": "code",
   "execution_count": 42,
   "id": "2591c96e",
   "metadata": {},
   "outputs": [
    {
     "name": "stdout",
     "output_type": "stream",
     "text": [
      "Index = 0 and Item = Pune\n",
      "Index = 1 and Item = Mumbai\n",
      "Index = 2 and Item = Chennai\n",
      "Index = 3 and Item = Gujrat\n",
      "Index = 4 and Item = Maharashtra\n",
      "Index = 5 and Item = Delhi\n"
     ]
    }
   ],
   "source": [
    "for index,item in enumerate(tup1):\n",
    "    print(f\"Index = {index} and Item = {item}\")"
   ]
  },
  {
   "cell_type": "code",
   "execution_count": 43,
   "id": "121242cd",
   "metadata": {},
   "outputs": [
    {
     "data": {
      "text/plain": [
       "('Pune', 'Mumbai', 'Chennai', 'Gujrat', 'Maharashtra', 'Delhi')"
      ]
     },
     "execution_count": 43,
     "metadata": {},
     "output_type": "execute_result"
    }
   ],
   "source": [
    "tup1"
   ]
  },
  {
   "cell_type": "code",
   "execution_count": 46,
   "id": "ca66f53f",
   "metadata": {},
   "outputs": [
    {
     "data": {
      "text/plain": [
       "True"
      ]
     },
     "execution_count": 46,
     "metadata": {},
     "output_type": "execute_result"
    }
   ],
   "source": [
    "\"Pune\" in tup1"
   ]
  },
  {
   "cell_type": "code",
   "execution_count": 47,
   "id": "e1351074",
   "metadata": {},
   "outputs": [
    {
     "data": {
      "text/plain": [
       "False"
      ]
     },
     "execution_count": 47,
     "metadata": {},
     "output_type": "execute_result"
    }
   ],
   "source": [
    "\"pune\" in tup1"
   ]
  },
  {
   "cell_type": "code",
   "execution_count": 48,
   "id": "05afc995",
   "metadata": {},
   "outputs": [
    {
     "name": "stdout",
     "output_type": "stream",
     "text": [
      "Pune is present\n"
     ]
    }
   ],
   "source": [
    "if \"Pune\" in tup1:\n",
    "    print(\"Pune is present\")\n",
    "else:\n",
    "    print(\"Pune is not present\")"
   ]
  },
  {
   "cell_type": "code",
   "execution_count": 49,
   "id": "6bc5e8c0",
   "metadata": {},
   "outputs": [
    {
     "name": "stdout",
     "output_type": "stream",
     "text": [
      "Pune is not present\n"
     ]
    }
   ],
   "source": [
    "if \"pune\" in tup1:\n",
    "    print(\"Pune is present\")\n",
    "else:\n",
    "    print(\"Pune is not present\")"
   ]
  },
  {
   "cell_type": "markdown",
   "id": "25abc22a",
   "metadata": {},
   "source": [
    "## Functions of tuple\n",
    "- count\n",
    "- index"
   ]
  },
  {
   "cell_type": "code",
   "execution_count": 50,
   "id": "9d228f77",
   "metadata": {},
   "outputs": [
    {
     "data": {
      "text/plain": [
       "1"
      ]
     },
     "execution_count": 50,
     "metadata": {},
     "output_type": "execute_result"
    }
   ],
   "source": [
    "tup1 =(\"Pune\",\"Mumbai\",\"Chennai\",\"Gujrat\",\"Maharashtra\",\"Delhi\")\n",
    "tup1.count(\"Pune\")"
   ]
  },
  {
   "cell_type": "code",
   "execution_count": 51,
   "id": "ee5dc534",
   "metadata": {},
   "outputs": [
    {
     "data": {
      "text/plain": [
       "3"
      ]
     },
     "execution_count": 51,
     "metadata": {},
     "output_type": "execute_result"
    }
   ],
   "source": [
    "tup1 = (\"Pune\",\"Pune\",\"Pune\",\"Mumbai\",\"Chennai\",\"Gujrat\",\"Maharashtra\",\"Delhi\")\n",
    "tup1.count(\"Pune\")"
   ]
  },
  {
   "cell_type": "code",
   "execution_count": 52,
   "id": "7a9ce4c0",
   "metadata": {},
   "outputs": [
    {
     "data": {
      "text/plain": [
       "0"
      ]
     },
     "execution_count": 52,
     "metadata": {},
     "output_type": "execute_result"
    }
   ],
   "source": [
    "tup1 = (\"Pune\",\"Mumbai\",\"Chennai\",\"Gujrat\",\"Maharashtra\",\"Delhi\")\n",
    "tup1.count(\"pune\")"
   ]
  },
  {
   "cell_type": "markdown",
   "id": "cedad1dd",
   "metadata": {},
   "source": [
    "### index()"
   ]
  },
  {
   "cell_type": "code",
   "execution_count": 53,
   "id": "d232adcd",
   "metadata": {},
   "outputs": [
    {
     "data": {
      "text/plain": [
       "0"
      ]
     },
     "execution_count": 53,
     "metadata": {},
     "output_type": "execute_result"
    }
   ],
   "source": [
    "tup1 = (\"Pune\",\"Mumbai\",\"Chennai\",\"Gujrat\",\"Maharashtra\",\"Delhi\")\n",
    "tup1.index(\"Pune\")"
   ]
  },
  {
   "cell_type": "code",
   "execution_count": 55,
   "id": "3076ec17",
   "metadata": {},
   "outputs": [
    {
     "data": {
      "text/plain": [
       "4"
      ]
     },
     "execution_count": 55,
     "metadata": {},
     "output_type": "execute_result"
    }
   ],
   "source": [
    "tup1 = (\"Pune\",\"Mumbai\",\"Chennai\",\"Gujrat\",\"Maharashtra\",\"Delhi\")\n",
    "tup1.index(\"Maharashtra\")"
   ]
  },
  {
   "cell_type": "code",
   "execution_count": 56,
   "id": "570ec72c",
   "metadata": {},
   "outputs": [
    {
     "ename": "ValueError",
     "evalue": "tuple.index(x): x not in tuple",
     "output_type": "error",
     "traceback": [
      "\u001b[1;31m---------------------------------------------------------------------------\u001b[0m",
      "\u001b[1;31mValueError\u001b[0m                                Traceback (most recent call last)",
      "\u001b[1;32m~\\AppData\\Local\\Temp/ipykernel_24708/702329668.py\u001b[0m in \u001b[0;36m<module>\u001b[1;34m\u001b[0m\n\u001b[0;32m      1\u001b[0m \u001b[0mtup1\u001b[0m \u001b[1;33m=\u001b[0m \u001b[1;33m(\u001b[0m\u001b[1;34m\"Pune\"\u001b[0m\u001b[1;33m,\u001b[0m\u001b[1;34m\"Mumbai\"\u001b[0m\u001b[1;33m,\u001b[0m\u001b[1;34m\"Chennai\"\u001b[0m\u001b[1;33m,\u001b[0m\u001b[1;34m\"Gujrat\"\u001b[0m\u001b[1;33m,\u001b[0m\u001b[1;34m\"Maharashtra\"\u001b[0m\u001b[1;33m,\u001b[0m\u001b[1;34m\"Delhi\"\u001b[0m\u001b[1;33m)\u001b[0m\u001b[1;33m\u001b[0m\u001b[1;33m\u001b[0m\u001b[0m\n\u001b[1;32m----> 2\u001b[1;33m \u001b[0mtup1\u001b[0m\u001b[1;33m.\u001b[0m\u001b[0mindex\u001b[0m\u001b[1;33m(\u001b[0m\u001b[1;34m\"Hyderabad\"\u001b[0m\u001b[1;33m)\u001b[0m\u001b[1;33m\u001b[0m\u001b[1;33m\u001b[0m\u001b[0m\n\u001b[0m",
      "\u001b[1;31mValueError\u001b[0m: tuple.index(x): x not in tuple"
     ]
    }
   ],
   "source": [
    "tup1 = (\"Pune\",\"Mumbai\",\"Chennai\",\"Gujrat\",\"Maharashtra\",\"Delhi\")\n",
    "tup1.index(\"Hyderabad\")"
   ]
  },
  {
   "cell_type": "code",
   "execution_count": 57,
   "id": "f78ecea2",
   "metadata": {},
   "outputs": [
    {
     "name": "stdout",
     "output_type": "stream",
     "text": [
      "Mumbai is present and its index = 1\n"
     ]
    }
   ],
   "source": [
    "tup1 = (\"Pune\",\"Mumbai\",\"Chennai\",\"Gujrat\",\"Maharashtra\",\"Delhi\")\n",
    "city_name = \"Mumbai\"\n",
    "if city_name in tup1:\n",
    "    print(f\"{city_name} is present and its index = {tup1.index(city_name)}\")\n",
    "else:\n",
    "    print(f\"{city_name} is not present in given tuple\")"
   ]
  },
  {
   "cell_type": "code",
   "execution_count": 58,
   "id": "38cb794d",
   "metadata": {},
   "outputs": [
    {
     "name": "stdout",
     "output_type": "stream",
     "text": [
      "Bombay is not present in given tuple\n"
     ]
    }
   ],
   "source": [
    "tup1 = (\"Pune\",\"Mumbai\",\"Chennai\",\"Gujrat\",\"Maharashtra\",\"Delhi\")\n",
    "city_name = \"Bombay\"\n",
    "if city_name in tup1:\n",
    "    print(f\"{city_name} is present and its index = {tup1.index(city_name)}\")\n",
    "else:\n",
    "    print(f\"{city_name} is not present in given tuple\")"
   ]
  },
  {
   "cell_type": "code",
   "execution_count": 59,
   "id": "eeef7e47",
   "metadata": {},
   "outputs": [
    {
     "name": "stdout",
     "output_type": "stream",
     "text": [
      "0 --> 1\n",
      "1 --> 2\n"
     ]
    }
   ],
   "source": [
    "for a,b in enumerate([\"1\",\"2\"]):\n",
    "    print(f\"{a} --> {b}\")"
   ]
  },
  {
   "cell_type": "markdown",
   "id": "f3c549cc",
   "metadata": {},
   "source": [
    "## Tuple constructor"
   ]
  },
  {
   "cell_type": "code",
   "execution_count": 60,
   "id": "ca40e70c",
   "metadata": {},
   "outputs": [
    {
     "data": {
      "text/plain": [
       "tuple"
      ]
     },
     "execution_count": 60,
     "metadata": {},
     "output_type": "execute_result"
    }
   ],
   "source": [
    "num_tup = (1,2,3,4,5)\n",
    "type(num_tup)"
   ]
  },
  {
   "cell_type": "code",
   "execution_count": 62,
   "id": "a4fb43ca",
   "metadata": {},
   "outputs": [
    {
     "name": "stdout",
     "output_type": "stream",
     "text": [
      "[1, 2, 3, 4, 5] <class 'list'>\n",
      "(1, 2, 3, 4, 5) <class 'tuple'>\n"
     ]
    }
   ],
   "source": [
    "li = [1,2,3,4,5]\n",
    "print(li,type(li))\n",
    "tup1 = tuple(li)\n",
    "print(tup1,type(tup1))"
   ]
  },
  {
   "cell_type": "code",
   "execution_count": 63,
   "id": "3679fd83",
   "metadata": {},
   "outputs": [
    {
     "data": {
      "text/plain": [
       "['H', 'e', 'l', 'l', 'o']"
      ]
     },
     "execution_count": 63,
     "metadata": {},
     "output_type": "execute_result"
    }
   ],
   "source": [
    "list(\"Hello\")\n"
   ]
  },
  {
   "cell_type": "code",
   "execution_count": 64,
   "id": "6574ac7e",
   "metadata": {},
   "outputs": [
    {
     "data": {
      "text/plain": [
       "('H', 'e', 'l', 'l', 'o')"
      ]
     },
     "execution_count": 64,
     "metadata": {},
     "output_type": "execute_result"
    }
   ],
   "source": [
    "tuple(\"Hello\")"
   ]
  },
  {
   "cell_type": "code",
   "execution_count": 66,
   "id": "a25cc428",
   "metadata": {},
   "outputs": [
    {
     "data": {
      "text/plain": [
       "(1, 3, 5, 6, 7)"
      ]
     },
     "execution_count": 66,
     "metadata": {},
     "output_type": "execute_result"
    }
   ],
   "source": [
    "tuple({1,7,6,3,5,7})"
   ]
  },
  {
   "cell_type": "code",
   "execution_count": 67,
   "id": "3dc124ab",
   "metadata": {},
   "outputs": [
    {
     "name": "stdout",
     "output_type": "stream",
     "text": [
      "(1, 2, 3, 4, 5)\n"
     ]
    },
    {
     "data": {
      "text/plain": [
       "('Python', 2, 3, 4, 5)"
      ]
     },
     "execution_count": 67,
     "metadata": {},
     "output_type": "execute_result"
    }
   ],
   "source": [
    "number = (1,2,3,4,5)\n",
    "print(number)\n",
    "li1 = list(number)\n",
    "li1 [0] = \"Python\"\n",
    "number =tuple(li1)\n",
    "number"
   ]
  },
  {
   "cell_type": "code",
   "execution_count": 68,
   "id": "5bf5fd72",
   "metadata": {},
   "outputs": [
    {
     "name": "stdout",
     "output_type": "stream",
     "text": [
      "(1, 2, 3, 4, 5)\n"
     ]
    },
    {
     "data": {
      "text/plain": [
       "(1, 2, 3, 4, 5, 1, 2, 3, 4, 5)"
      ]
     },
     "execution_count": 68,
     "metadata": {},
     "output_type": "execute_result"
    }
   ],
   "source": [
    "number = (1,2,3,4,5)\n",
    "print(number)\n",
    "li1 = list(number)\n",
    "li1.extend(li1)\n",
    "number = tuple(li1)\n",
    "number"
   ]
  },
  {
   "cell_type": "code",
   "execution_count": 71,
   "id": "8fe69790",
   "metadata": {},
   "outputs": [
    {
     "name": "stdout",
     "output_type": "stream",
     "text": [
      "(1, 2, 3, 4, 5)\n",
      "(1, 2, 3, 4, 5, ['Python', 'ML', 'DL'])\n"
     ]
    }
   ],
   "source": [
    "number = (1,2,3,4,5)\n",
    "print(number)\n",
    "li1 = list(number)\n",
    "li1.append([\"Python\",\"ML\",\"DL\"])\n",
    "number = tuple(li1)\n",
    "print(number)"
   ]
  },
  {
   "cell_type": "markdown",
   "id": "0af80601",
   "metadata": {},
   "source": [
    "## Copy"
   ]
  },
  {
   "cell_type": "code",
   "execution_count": 72,
   "id": "9f2497ff",
   "metadata": {},
   "outputs": [
    {
     "name": "stdout",
     "output_type": "stream",
     "text": [
      "(3, 4, 5, 6) 2917865958912\n",
      "(3, 4, 5, 6) 2917865958912\n"
     ]
    }
   ],
   "source": [
    "tup1 = (3,4,5,6)\n",
    "tup2 = tup1\n",
    "print(tup1,id(tup1))\n",
    "print(tup2,id(tup2))"
   ]
  },
  {
   "cell_type": "code",
   "execution_count": 73,
   "id": "4491f49c",
   "metadata": {},
   "outputs": [
    {
     "name": "stdout",
     "output_type": "stream",
     "text": [
      "(3, 4, 5, 6)\n",
      "(3, 4, 5, 6)\n",
      "(3, 4, 5, 6)\n",
      "(3, 4, 5, 6)\n",
      "(3, 4, 5, 6, 'Python')\n"
     ]
    }
   ],
   "source": [
    "tup1 = (3,4,5,6)\n",
    "tup2 = tup1\n",
    "print(tup1)\n",
    "print(tup2)\n",
    "\n",
    "li1 = list(tup2)\n",
    "li1.append(\"Python\")\n",
    "\n",
    "tup3 = tuple(li1)\n",
    "\n",
    "print(tup1)\n",
    "print(tup2)\n",
    "print(tup3)"
   ]
  },
  {
   "cell_type": "code",
   "execution_count": 2,
   "id": "c7d109c6",
   "metadata": {},
   "outputs": [
    {
     "data": {
      "text/plain": [
       "3"
      ]
     },
     "execution_count": 2,
     "metadata": {},
     "output_type": "execute_result"
    }
   ],
   "source": [
    "tup1 = (4,5,[\"Python\",\"DS\",\"ML\"])\n",
    "len(tup1)"
   ]
  },
  {
   "cell_type": "code",
   "execution_count": 3,
   "id": "31dbe049",
   "metadata": {},
   "outputs": [
    {
     "data": {
      "text/plain": [
       "'ML'"
      ]
     },
     "execution_count": 3,
     "metadata": {},
     "output_type": "execute_result"
    }
   ],
   "source": [
    "tup1[2][2]"
   ]
  },
  {
   "cell_type": "code",
   "execution_count": 4,
   "id": "92b3ca56",
   "metadata": {},
   "outputs": [
    {
     "data": {
      "text/plain": [
       "(4, 5, ['Python', 'ds', 'ML'])"
      ]
     },
     "execution_count": 4,
     "metadata": {},
     "output_type": "execute_result"
    }
   ],
   "source": [
    "tup1[2][1] = tup1[2][1].lower()\n",
    "\n",
    "tup1"
   ]
  },
  {
   "cell_type": "markdown",
   "id": "8bbfb547",
   "metadata": {},
   "source": [
    "## Deep copy"
   ]
  },
  {
   "cell_type": "code",
   "execution_count": 5,
   "id": "c477d2ec",
   "metadata": {},
   "outputs": [],
   "source": [
    "import copy"
   ]
  },
  {
   "cell_type": "code",
   "execution_count": 7,
   "id": "e6786de9",
   "metadata": {},
   "outputs": [
    {
     "name": "stdout",
     "output_type": "stream",
     "text": [
      "(4, 5, ['PYTHON', 'DS', 'ML'])\n",
      "(4, 5, ['PYTHON', 'DS', 'ML'])\n"
     ]
    }
   ],
   "source": [
    "tup1 =(4,5,[\"Python\",\"DS\",\"ML\"])\n",
    "tup2 = tup1\n",
    "\n",
    "tup1[2][0] = tup1[2][0].upper()\n",
    "\n",
    "print(tup1)\n",
    "print(tup2)"
   ]
  },
  {
   "cell_type": "code",
   "execution_count": 8,
   "id": "55335064",
   "metadata": {},
   "outputs": [
    {
     "name": "stdout",
     "output_type": "stream",
     "text": [
      "(4, 5, ['PYTHON', 'DS', 'ML'])\n",
      "(4, 5, ['Python', 'DS', 'ML'])\n"
     ]
    }
   ],
   "source": [
    "tup1 =(4,5,[\"Python\",\"DS\",\"ML\"])\n",
    "tup2 = copy.deepcopy(tup1)\n",
    "\n",
    "tup1[2][0] = tup1[2][0].upper()\n",
    "\n",
    "print(tup1)\n",
    "print(tup2)"
   ]
  },
  {
   "cell_type": "code",
   "execution_count": 9,
   "id": "8dc1d7f1",
   "metadata": {},
   "outputs": [
    {
     "data": {
      "text/plain": [
       "['python', 'ds', 'ml', 'nlp', 'dl']"
      ]
     },
     "execution_count": 9,
     "metadata": {},
     "output_type": "execute_result"
    }
   ],
   "source": [
    "domains = ['PYTHON','DS','ML','NLP','DL']\n",
    "new_li = [i.lower() for i in domains]\n",
    "new_li"
   ]
  },
  {
   "cell_type": "code",
   "execution_count": 12,
   "id": "d23a46ee",
   "metadata": {},
   "outputs": [
    {
     "data": {
      "text/plain": [
       "<generator object <genexpr> at 0x000002E815495E40>"
      ]
     },
     "execution_count": 12,
     "metadata": {},
     "output_type": "execute_result"
    }
   ],
   "source": [
    "domains = ['PYTHON','DS','ML','NLP','DL']\n",
    "new_tu = (i.lower() for i in domains)\n",
    "new_tu"
   ]
  },
  {
   "cell_type": "code",
   "execution_count": 13,
   "id": "e8ef44a2",
   "metadata": {},
   "outputs": [
    {
     "data": {
      "text/plain": [
       "['python', 'ds', 'ml', 'nlp', 'dl']"
      ]
     },
     "execution_count": 13,
     "metadata": {},
     "output_type": "execute_result"
    }
   ],
   "source": [
    "domains = ['PYTHON','DS','ML','NLP','DL']\n",
    "new_tu = list(i.lower() for i in domains)\n",
    "new_tu"
   ]
  },
  {
   "cell_type": "code",
   "execution_count": 14,
   "id": "c3038396",
   "metadata": {},
   "outputs": [
    {
     "data": {
      "text/plain": [
       "('python', 'ds', 'ml', 'nlp', 'dl')"
      ]
     },
     "execution_count": 14,
     "metadata": {},
     "output_type": "execute_result"
    }
   ],
   "source": [
    "domains = ['PYTHON','DS','ML','NLP','DL']\n",
    "new_tu = tuple(i.lower() for i in domains)\n",
    "new_tu"
   ]
  },
  {
   "cell_type": "code",
   "execution_count": 15,
   "id": "99fbbc73",
   "metadata": {},
   "outputs": [
    {
     "data": {
      "text/plain": [
       "[3, 6, 4]"
      ]
     },
     "execution_count": 15,
     "metadata": {},
     "output_type": "execute_result"
    }
   ],
   "source": [
    "list(reversed([4,6,3]))"
   ]
  },
  {
   "cell_type": "code",
   "execution_count": 16,
   "id": "5eaf2141",
   "metadata": {},
   "outputs": [
    {
     "data": {
      "text/plain": [
       "(3, 6, 4)"
      ]
     },
     "execution_count": 16,
     "metadata": {},
     "output_type": "execute_result"
    }
   ],
   "source": [
    "tuple(reversed((4,6,3)))"
   ]
  },
  {
   "cell_type": "code",
   "execution_count": 17,
   "id": "67527f3f",
   "metadata": {},
   "outputs": [
    {
     "data": {
      "text/plain": [
       "[2, 4, 6, 8, 10]"
      ]
     },
     "execution_count": 17,
     "metadata": {},
     "output_type": "execute_result"
    }
   ],
   "source": [
    "[i for i in range(1,11) if i%2 == 0]"
   ]
  },
  {
   "cell_type": "code",
   "execution_count": 18,
   "id": "199dc4d1",
   "metadata": {},
   "outputs": [
    {
     "data": {
      "text/plain": [
       "(2, 4, 6, 8, 10)"
      ]
     },
     "execution_count": 18,
     "metadata": {},
     "output_type": "execute_result"
    }
   ],
   "source": [
    "tuple(i for i in range(1,11) if i%2 == 0)"
   ]
  },
  {
   "cell_type": "code",
   "execution_count": 19,
   "id": "5be5df6d",
   "metadata": {},
   "outputs": [
    {
     "data": {
      "text/plain": [
       "(502, 504, 506, 508, 510)"
      ]
     },
     "execution_count": 19,
     "metadata": {},
     "output_type": "execute_result"
    }
   ],
   "source": [
    "tuple(i + 500 for i in range(1,11) if i %2 ==0)"
   ]
  }
 ],
 "metadata": {
  "kernelspec": {
   "display_name": "Python 3 (ipykernel)",
   "language": "python",
   "name": "python3"
  },
  "language_info": {
   "codemirror_mode": {
    "name": "ipython",
    "version": 3
   },
   "file_extension": ".py",
   "mimetype": "text/x-python",
   "name": "python",
   "nbconvert_exporter": "python",
   "pygments_lexer": "ipython3",
   "version": "3.12.4"
  }
 },
 "nbformat": 4,
 "nbformat_minor": 5
}
