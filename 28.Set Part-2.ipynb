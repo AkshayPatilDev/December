{
 "cells": [
  {
   "cell_type": "code",
   "execution_count": 2,
   "id": "e06c7e93",
   "metadata": {},
   "outputs": [
    {
     "name": "stdout",
     "output_type": "stream",
     "text": [
      "<class 'set'> {1, 2, 3, 4, 5}\n"
     ]
    }
   ],
   "source": [
    "set1 = {1,2,3,4,5}\n",
    "print(type(set1),set1)"
   ]
  },
  {
   "cell_type": "code",
   "execution_count": 3,
   "id": "231c484f",
   "metadata": {},
   "outputs": [
    {
     "data": {
      "text/plain": [
       "set"
      ]
     },
     "execution_count": 3,
     "metadata": {},
     "output_type": "execute_result"
    }
   ],
   "source": [
    "set1 =set()\n",
    "type(set1)"
   ]
  },
  {
   "cell_type": "code",
   "execution_count": 4,
   "id": "11c0053f",
   "metadata": {},
   "outputs": [
    {
     "data": {
      "text/plain": [
       "{1, 2, 3, 4, 5}"
      ]
     },
     "execution_count": 4,
     "metadata": {},
     "output_type": "execute_result"
    }
   ],
   "source": [
    "set1 = {1,1,2,2,3,4,5,5}\n",
    "set1"
   ]
  },
  {
   "cell_type": "code",
   "execution_count": 5,
   "id": "7c496660",
   "metadata": {},
   "outputs": [
    {
     "data": {
      "text/plain": [
       "{1, 2, 3, 4, 5, 6, 'Data Science', 'Python'}"
      ]
     },
     "execution_count": 5,
     "metadata": {},
     "output_type": "execute_result"
    }
   ],
   "source": [
    "set1 = {1,1,2,2,3,4,5,6,6,\"Python\",\"Data Science\"}\n",
    "set1"
   ]
  },
  {
   "cell_type": "code",
   "execution_count": 7,
   "id": "398047a4",
   "metadata": {
    "scrolled": true
   },
   "outputs": [
    {
     "name": "stdout",
     "output_type": "stream",
     "text": [
      "10\n",
      "\n",
      "7\n"
     ]
    }
   ],
   "source": [
    "list1 = [1,2,3,3,3,3,5.5,3.5,\"Python\",\"DataScience\"]\n",
    "print(len(list1))\n",
    "print()\n",
    "set1 = {1,2,3,3,3,3,5.5,3.5,\"Python\",\"DataScience\"}\n",
    "print(len(set1))"
   ]
  },
  {
   "cell_type": "raw",
   "id": "183c9c35",
   "metadata": {},
   "source": [
    "True = 1\n",
    "False = 0"
   ]
  },
  {
   "cell_type": "code",
   "execution_count": 11,
   "id": "d5764992",
   "metadata": {},
   "outputs": [
    {
     "name": "stdout",
     "output_type": "stream",
     "text": [
      "[True, True, True, True, False, False, False, False] 8\n"
     ]
    }
   ],
   "source": [
    "li = [True,True,True,True,False,False,False,False]\n",
    "print(li,len(li))"
   ]
  },
  {
   "cell_type": "code",
   "execution_count": 9,
   "id": "9466b414",
   "metadata": {},
   "outputs": [
    {
     "name": "stdout",
     "output_type": "stream",
     "text": [
      "{False, True} 2\n"
     ]
    }
   ],
   "source": [
    "set1 = {True,True,True,True,False,False,False,False}\n",
    "print(set1,len(set1))"
   ]
  },
  {
   "cell_type": "markdown",
   "id": "b5728408",
   "metadata": {},
   "source": [
    "## Set Constructor"
   ]
  },
  {
   "cell_type": "code",
   "execution_count": 12,
   "id": "c431ffc2",
   "metadata": {},
   "outputs": [
    {
     "name": "stdout",
     "output_type": "stream",
     "text": [
      "[1, 2, 3, 3, 3, 3, 5.5, 3.5, 'Python', 'DataScience'] 10\n",
      "{1, 2, 3.5, 3, 5.5, 'DataScience', 'Python'} 7\n"
     ]
    }
   ],
   "source": [
    "li =[1,2,3,3,3,3,5.5,3.5,\"Python\",\"DataScience\"]\n",
    "print(li,len(li))\n",
    "\n",
    "set1 = set(li)\n",
    "print(set1,len(set1))"
   ]
  },
  {
   "cell_type": "code",
   "execution_count": 13,
   "id": "0ace396b",
   "metadata": {},
   "outputs": [
    {
     "name": "stdout",
     "output_type": "stream",
     "text": [
      "[1, 2, 3, 3, 3, 3, 5.5, 3.5, 'Python', 'DataScience'] 10\n",
      "{1, 2, 3.5, 3, 5.5, 'DataScience', 'Python'} 7\n",
      "[1, 2, 3.5, 3, 5.5, 'DataScience', 'Python'] 7\n"
     ]
    }
   ],
   "source": [
    "li = [1,2,3,3,3,3,5.5,3.5,\"Python\",\"DataScience\"]\n",
    "print(li,len(li))\n",
    "\n",
    "set1 = set(li)\n",
    "print(set1,len(set1))\n",
    "\n",
    "li2 = list(set1)\n",
    "print(li2,len(li2))"
   ]
  },
  {
   "cell_type": "code",
   "execution_count": 14,
   "id": "42dd81df",
   "metadata": {},
   "outputs": [
    {
     "data": {
      "text/plain": [
       "[33, 5, 69, 7, 11, 44, 22]"
      ]
     },
     "execution_count": 14,
     "metadata": {},
     "output_type": "execute_result"
    }
   ],
   "source": [
    "li1 = [11,22,33,44,5,69,7]\n",
    "li2 = list(set(li1))\n",
    "li2"
   ]
  },
  {
   "cell_type": "code",
   "execution_count": 16,
   "id": "7254e09c",
   "metadata": {},
   "outputs": [
    {
     "data": {
      "text/plain": [
       "{1, 2, 3, 3.5, 5.5}"
      ]
     },
     "execution_count": 16,
     "metadata": {},
     "output_type": "execute_result"
    }
   ],
   "source": [
    "t1 = (1,2,3,3,3,3,5.5,3.5)\n",
    "set1 = set(t1)\n",
    "set1"
   ]
  },
  {
   "cell_type": "code",
   "execution_count": 17,
   "id": "dde10149",
   "metadata": {},
   "outputs": [
    {
     "data": {
      "text/plain": [
       "(1, 2, 3.5, 3, 5.5)"
      ]
     },
     "execution_count": 17,
     "metadata": {},
     "output_type": "execute_result"
    }
   ],
   "source": [
    "t1 = (1,2,3,3,3,3,5.5,3.5)\n",
    "t2 = tuple(set(t1))\n",
    "t2"
   ]
  },
  {
   "cell_type": "code",
   "execution_count": 18,
   "id": "8743308d",
   "metadata": {},
   "outputs": [
    {
     "data": {
      "text/plain": [
       "['P',\n",
       " 'y',\n",
       " 't',\n",
       " 'h',\n",
       " 'o',\n",
       " 'n',\n",
       " ' ',\n",
       " 'D',\n",
       " 'a',\n",
       " 't',\n",
       " 'a',\n",
       " ' ',\n",
       " 'S',\n",
       " 'c',\n",
       " 'i',\n",
       " 'e',\n",
       " 'n',\n",
       " 'c',\n",
       " 'e']"
      ]
     },
     "execution_count": 18,
     "metadata": {},
     "output_type": "execute_result"
    }
   ],
   "source": [
    "list(\"Python Data Science\")"
   ]
  },
  {
   "cell_type": "code",
   "execution_count": 19,
   "id": "25da5064",
   "metadata": {},
   "outputs": [
    {
     "data": {
      "text/plain": [
       "{' ', 'D', 'P', 'S', 'a', 'c', 'e', 'h', 'i', 'n', 'o', 't', 'y'}"
      ]
     },
     "execution_count": 19,
     "metadata": {},
     "output_type": "execute_result"
    }
   ],
   "source": [
    "set(\"Python Data Science\")"
   ]
  },
  {
   "cell_type": "code",
   "execution_count": 20,
   "id": "e22e4f5e",
   "metadata": {},
   "outputs": [
    {
     "ename": "TypeError",
     "evalue": "set expected at most 1 argument, got 3",
     "output_type": "error",
     "traceback": [
      "\u001b[1;31m---------------------------------------------------------------------------\u001b[0m",
      "\u001b[1;31mTypeError\u001b[0m                                 Traceback (most recent call last)",
      "\u001b[1;32m~\\AppData\\Local\\Temp/ipykernel_884/1498957235.py\u001b[0m in \u001b[0;36m<module>\u001b[1;34m\u001b[0m\n\u001b[1;32m----> 1\u001b[1;33m \u001b[0mset\u001b[0m\u001b[1;33m(\u001b[0m\u001b[1;34m\"Python\"\u001b[0m\u001b[1;33m,\u001b[0m\u001b[1;34m\"Data Science\"\u001b[0m\u001b[1;33m,\u001b[0m\u001b[1;36m123\u001b[0m\u001b[1;33m)\u001b[0m\u001b[1;33m\u001b[0m\u001b[1;33m\u001b[0m\u001b[0m\n\u001b[0m",
      "\u001b[1;31mTypeError\u001b[0m: set expected at most 1 argument, got 3"
     ]
    }
   ],
   "source": [
    "set(\"Python\",\"Data Science\",123)"
   ]
  },
  {
   "cell_type": "code",
   "execution_count": 21,
   "id": "575dd0a9",
   "metadata": {},
   "outputs": [
    {
     "data": {
      "text/plain": [
       "{10, 20, 30}"
      ]
     },
     "execution_count": 21,
     "metadata": {},
     "output_type": "execute_result"
    }
   ],
   "source": [
    "set([10,20,30])"
   ]
  },
  {
   "cell_type": "code",
   "execution_count": 22,
   "id": "77b249d1",
   "metadata": {
    "scrolled": true
   },
   "outputs": [
    {
     "ename": "TypeError",
     "evalue": "list expected at most 1 argument, got 2",
     "output_type": "error",
     "traceback": [
      "\u001b[1;31m---------------------------------------------------------------------------\u001b[0m",
      "\u001b[1;31mTypeError\u001b[0m                                 Traceback (most recent call last)",
      "\u001b[1;32m~\\AppData\\Local\\Temp/ipykernel_884/2455786564.py\u001b[0m in \u001b[0;36m<module>\u001b[1;34m\u001b[0m\n\u001b[1;32m----> 1\u001b[1;33m \u001b[0mlist\u001b[0m\u001b[1;33m(\u001b[0m\u001b[1;36m1\u001b[0m\u001b[1;33m,\u001b[0m\u001b[1;36m2\u001b[0m\u001b[1;33m)\u001b[0m\u001b[1;33m\u001b[0m\u001b[1;33m\u001b[0m\u001b[0m\n\u001b[0m",
      "\u001b[1;31mTypeError\u001b[0m: list expected at most 1 argument, got 2"
     ]
    }
   ],
   "source": [
    "list(1,2)"
   ]
  },
  {
   "cell_type": "markdown",
   "id": "72d38932",
   "metadata": {},
   "source": [
    "## How to access items in set"
   ]
  },
  {
   "cell_type": "raw",
   "id": "d74447a1",
   "metadata": {},
   "source": [
    "---> No indexing and slicing in set"
   ]
  },
  {
   "cell_type": "code",
   "execution_count": 24,
   "id": "bc4ac373",
   "metadata": {},
   "outputs": [
    {
     "data": {
      "text/plain": [
       "{'C', 'C++', 'Golang', 'Java', 'Python', 'R'}"
      ]
     },
     "execution_count": 24,
     "metadata": {},
     "output_type": "execute_result"
    }
   ],
   "source": [
    "set1 = {\"Python\",\"Java\",\"R\",\"Golang\",\"C\",\"C++\"}\n",
    "set1"
   ]
  },
  {
   "cell_type": "code",
   "execution_count": 25,
   "id": "806b25d1",
   "metadata": {},
   "outputs": [
    {
     "ename": "TypeError",
     "evalue": "'set' object is not subscriptable",
     "output_type": "error",
     "traceback": [
      "\u001b[1;31m---------------------------------------------------------------------------\u001b[0m",
      "\u001b[1;31mTypeError\u001b[0m                                 Traceback (most recent call last)",
      "\u001b[1;32m~\\AppData\\Local\\Temp/ipykernel_884/2166654704.py\u001b[0m in \u001b[0;36m<module>\u001b[1;34m\u001b[0m\n\u001b[1;32m----> 1\u001b[1;33m \u001b[0mset1\u001b[0m\u001b[1;33m[\u001b[0m\u001b[1;36m0\u001b[0m\u001b[1;33m]\u001b[0m\u001b[1;33m\u001b[0m\u001b[1;33m\u001b[0m\u001b[0m\n\u001b[0m",
      "\u001b[1;31mTypeError\u001b[0m: 'set' object is not subscriptable"
     ]
    }
   ],
   "source": [
    "set1[0]"
   ]
  },
  {
   "cell_type": "code",
   "execution_count": 26,
   "id": "3bf3bc05",
   "metadata": {},
   "outputs": [
    {
     "ename": "TypeError",
     "evalue": "'set' object is not subscriptable",
     "output_type": "error",
     "traceback": [
      "\u001b[1;31m---------------------------------------------------------------------------\u001b[0m",
      "\u001b[1;31mTypeError\u001b[0m                                 Traceback (most recent call last)",
      "\u001b[1;32m~\\AppData\\Local\\Temp/ipykernel_884/3409391827.py\u001b[0m in \u001b[0;36m<module>\u001b[1;34m\u001b[0m\n\u001b[1;32m----> 1\u001b[1;33m \u001b[0mset1\u001b[0m\u001b[1;33m[\u001b[0m\u001b[1;36m1\u001b[0m\u001b[1;33m:\u001b[0m\u001b[1;36m5\u001b[0m\u001b[1;33m]\u001b[0m\u001b[1;33m\u001b[0m\u001b[1;33m\u001b[0m\u001b[0m\n\u001b[0m",
      "\u001b[1;31mTypeError\u001b[0m: 'set' object is not subscriptable"
     ]
    }
   ],
   "source": [
    "set1[1:5]"
   ]
  },
  {
   "cell_type": "code",
   "execution_count": 28,
   "id": "9d4c2a82",
   "metadata": {
    "scrolled": true
   },
   "outputs": [
    {
     "name": "stdout",
     "output_type": "stream",
     "text": [
      "Language set=  {'R', 'C++', 'Java', 'C', 'Golang', 'Python'}\n",
      "\n",
      "Language Name =  R\n",
      "Language Name =  C++\n",
      "Language Name =  Java\n",
      "Language Name =  C\n",
      "Language Name =  Golang\n",
      "Language Name =  Python\n"
     ]
    }
   ],
   "source": [
    "set1 = {\"Python\",\"Java\",\"R\",\"Golang\",\"C\",\"C++\"}\n",
    "print(\"Language set= \",set1)\n",
    "print()\n",
    "for val in set1:\n",
    "    print(\"Language Name = \",val)"
   ]
  },
  {
   "cell_type": "code",
   "execution_count": 30,
   "id": "b3aca798",
   "metadata": {},
   "outputs": [
    {
     "name": "stdout",
     "output_type": "stream",
     "text": [
      "1\n",
      "2\n",
      "3\n"
     ]
    }
   ],
   "source": [
    "li = [1,2,3]\n",
    "i = 0\n",
    "while i < len(li):\n",
    "    print(li[i])\n",
    "    i+=1"
   ]
  },
  {
   "cell_type": "code",
   "execution_count": 32,
   "id": "0c230f21",
   "metadata": {},
   "outputs": [
    {
     "ename": "KeyboardInterrupt",
     "evalue": "",
     "output_type": "error",
     "traceback": [
      "\u001b[1;31m---------------------------------------------------------------------------\u001b[0m",
      "\u001b[1;31mKeyboardInterrupt\u001b[0m                         Traceback (most recent call last)",
      "\u001b[1;32m~\\AppData\\Local\\Temp/ipykernel_884/4207267420.py\u001b[0m in \u001b[0;36m<module>\u001b[1;34m\u001b[0m\n\u001b[0;32m      5\u001b[0m     \u001b[1;32mif\u001b[0m \u001b[0mval\u001b[0m \u001b[1;33m==\u001b[0m \u001b[1;34m\"R\"\u001b[0m \u001b[1;32mand\u001b[0m \u001b[0mcnt\u001b[0m \u001b[1;33m<\u001b[0m \u001b[0mlegth\u001b[0m\u001b[1;33m:\u001b[0m\u001b[1;33m\u001b[0m\u001b[1;33m\u001b[0m\u001b[0m\n\u001b[0;32m      6\u001b[0m         \u001b[0mprint\u001b[0m\u001b[1;33m(\u001b[0m\u001b[0mval\u001b[0m\u001b[1;33m)\u001b[0m\u001b[1;33m\u001b[0m\u001b[1;33m\u001b[0m\u001b[0m\n\u001b[1;32m----> 7\u001b[1;33m     \u001b[0mcnt\u001b[0m\u001b[1;33m+=\u001b[0m\u001b[1;36m1\u001b[0m\u001b[1;33m\u001b[0m\u001b[1;33m\u001b[0m\u001b[0m\n\u001b[0m",
      "\u001b[1;31mKeyboardInterrupt\u001b[0m: "
     ]
    }
   ],
   "source": [
    "cnt = 0\n",
    "length = len(set1)\n",
    "i = 0\n",
    "while i < length:\n",
    "    if val == \"R\" and cnt < legth:\n",
    "        print(val)\n",
    "    cnt+=1"
   ]
  },
  {
   "cell_type": "code",
   "execution_count": 34,
   "id": "0248fc46",
   "metadata": {},
   "outputs": [
    {
     "name": "stdout",
     "output_type": "stream",
     "text": [
      "R\n"
     ]
    }
   ],
   "source": [
    "val = \"R\"\n",
    "if val in set1:\n",
    "    print(val)"
   ]
  },
  {
   "cell_type": "markdown",
   "id": "ff28e50f",
   "metadata": {},
   "source": [
    "## Set Functions\n"
   ]
  },
  {
   "cell_type": "code",
   "execution_count": 38,
   "id": "c2393372",
   "metadata": {},
   "outputs": [
    {
     "name": "stdout",
     "output_type": "stream",
     "text": [
      "[7, 8, 9]\n"
     ]
    }
   ],
   "source": [
    "list1 = [4,5,6,7,8,9]\n",
    "list2 = [7,8,9,10,11,12]\n",
    "list3 = []\n",
    "for i in list1:\n",
    "    if i in list2:\n",
    "        list3.append(i)\n",
    "print(list3)"
   ]
  },
  {
   "cell_type": "code",
   "execution_count": 40,
   "id": "a6e2a6b2",
   "metadata": {},
   "outputs": [
    {
     "name": "stdout",
     "output_type": "stream",
     "text": [
      "[4, 5, 6, 10, 11, 12]\n"
     ]
    }
   ],
   "source": [
    "list1 = [4,5,6,7,8,9]\n",
    "list2 = [7,8,9,10,11,12]\n",
    "list3 = []\n",
    "for i in list1:\n",
    "    if i not in list2:\n",
    "        list3.append(i)\n",
    "for i in list2:\n",
    "    if i not in list1:\n",
    "        list3.append(i)\n",
    "\n",
    "print(list3)"
   ]
  },
  {
   "cell_type": "markdown",
   "id": "ef9778c2",
   "metadata": {},
   "source": [
    "## How to add items in set"
   ]
  },
  {
   "cell_type": "markdown",
   "id": "9b531d17",
   "metadata": {},
   "source": [
    "### 1.add()\n",
    "- Used to add only one item in set"
   ]
  },
  {
   "cell_type": "code",
   "execution_count": 42,
   "id": "e03d8cf1",
   "metadata": {},
   "outputs": [
    {
     "data": {
      "text/plain": [
       "{1, 2, 3, 4, 5, 6}"
      ]
     },
     "execution_count": 42,
     "metadata": {},
     "output_type": "execute_result"
    }
   ],
   "source": [
    "set1 = {1,2,3,4,5}\n",
    "set1.add(6)\n",
    "set1"
   ]
  },
  {
   "cell_type": "code",
   "execution_count": 44,
   "id": "54601efb",
   "metadata": {},
   "outputs": [
    {
     "data": {
      "text/plain": [
       "{1, 2, 3, 4, 5, 6, 'Python'}"
      ]
     },
     "execution_count": 44,
     "metadata": {},
     "output_type": "execute_result"
    }
   ],
   "source": [
    "set1.add('Python')\n",
    "set1"
   ]
  },
  {
   "cell_type": "code",
   "execution_count": 45,
   "id": "e1bd3820",
   "metadata": {},
   "outputs": [
    {
     "data": {
      "text/plain": [
       "{'.Net', 'C', 'C++', 'GoLang', 'Java', 'Python', 'R'}"
      ]
     },
     "execution_count": 45,
     "metadata": {},
     "output_type": "execute_result"
    }
   ],
   "source": [
    "set1 = {\"Python\",\"R\",\"Java\",\"GoLang\",\"C\",\"C++\"}\n",
    "set1.add(\".Net\")\n",
    "set1"
   ]
  },
  {
   "cell_type": "markdown",
   "id": "ad2ddf81",
   "metadata": {},
   "source": [
    "### 2.update()\n"
   ]
  },
  {
   "cell_type": "code",
   "execution_count": 47,
   "id": "8a622cce",
   "metadata": {},
   "outputs": [
    {
     "name": "stdout",
     "output_type": "stream",
     "text": [
      "set1---> {'R', 'C++', 'Java', 'C', 'Golang', 'Python'}\n",
      "set2---> {'C++', 'C', 'Golang'}\n"
     ]
    }
   ],
   "source": [
    "set1 ={\"Python\",\"R\",\"Java\"}\n",
    "set2 = {\"Golang\",\"C\",\"C++\"}\n",
    "\n",
    "set1.update(set2)\n",
    "\n",
    "print(\"set1--->\",set1)\n",
    "print(\"set2--->\",set2)"
   ]
  },
  {
   "cell_type": "code",
   "execution_count": 48,
   "id": "4994b2ec",
   "metadata": {},
   "outputs": [
    {
     "name": "stdout",
     "output_type": "stream",
     "text": [
      "set1---> {'Java', 'Python', 'R'}\n",
      "set2---> {'R', 'C++', 'Java', 'C', 'Golang', 'Python'}\n"
     ]
    }
   ],
   "source": [
    "set1 ={\"Python\",\"R\",\"Java\"}\n",
    "set2 = {\"Golang\",\"C\",\"C++\"}\n",
    "\n",
    "set2.update(set1)\n",
    "\n",
    "print(\"set1--->\",set1)\n",
    "print(\"set2--->\",set2)"
   ]
  },
  {
   "cell_type": "code",
   "execution_count": 49,
   "id": "9b83cf40",
   "metadata": {},
   "outputs": [
    {
     "name": "stdout",
     "output_type": "stream",
     "text": [
      "set1---> {1, 2, 3, 66, 55, 44}\n",
      "set2---> {66, 3, 44, 55}\n"
     ]
    }
   ],
   "source": [
    "set1 = {1,2,3}\n",
    "set2 = {3,44,55,66}\n",
    "\n",
    "set1.update(set2)\n",
    "\n",
    "print(\"set1--->\",set1)\n",
    "print(\"set2--->\",set2)"
   ]
  },
  {
   "cell_type": "code",
   "execution_count": 50,
   "id": "fc3ec61a",
   "metadata": {},
   "outputs": [
    {
     "name": "stdout",
     "output_type": "stream",
     "text": [
      "set1---> {1, 2, 3}\n",
      "set2---> {1, 66, 3, 2, 55, 44}\n"
     ]
    }
   ],
   "source": [
    "set1 = {1,2,3}\n",
    "set2 = {3,44,55,66}\n",
    "\n",
    "set2.update(set1)\n",
    "\n",
    "print(\"set1--->\",set1)\n",
    "print(\"set2--->\",set2)"
   ]
  },
  {
   "cell_type": "code",
   "execution_count": 51,
   "id": "3d0f7cbe",
   "metadata": {},
   "outputs": [
    {
     "name": "stdout",
     "output_type": "stream",
     "text": [
      "set1---> {1, 2, 3, 66, 44, 55}\n",
      "set2---> [44, 55, 66]\n"
     ]
    }
   ],
   "source": [
    "set1 = {1,2,3}\n",
    "set2 = [44,55,66]  #--->list\n",
    "\n",
    "set1.update(set2)  #--->list,tuple,set\n",
    "\n",
    "print(\"set1--->\",set1)\n",
    "print(\"set2--->\",set2)"
   ]
  },
  {
   "cell_type": "code",
   "execution_count": 52,
   "id": "497576df",
   "metadata": {},
   "outputs": [
    {
     "ename": "AttributeError",
     "evalue": "'list' object has no attribute 'update'",
     "output_type": "error",
     "traceback": [
      "\u001b[1;31m---------------------------------------------------------------------------\u001b[0m",
      "\u001b[1;31mAttributeError\u001b[0m                            Traceback (most recent call last)",
      "\u001b[1;32m~\\AppData\\Local\\Temp/ipykernel_884/2809079048.py\u001b[0m in \u001b[0;36m<module>\u001b[1;34m\u001b[0m\n\u001b[0;32m      2\u001b[0m \u001b[0mset2\u001b[0m \u001b[1;33m=\u001b[0m \u001b[1;33m[\u001b[0m\u001b[1;36m44\u001b[0m\u001b[1;33m,\u001b[0m\u001b[1;36m55\u001b[0m\u001b[1;33m,\u001b[0m\u001b[1;36m66\u001b[0m\u001b[1;33m]\u001b[0m\u001b[1;33m\u001b[0m\u001b[1;33m\u001b[0m\u001b[0m\n\u001b[0;32m      3\u001b[0m \u001b[1;33m\u001b[0m\u001b[0m\n\u001b[1;32m----> 4\u001b[1;33m \u001b[0mset2\u001b[0m\u001b[1;33m.\u001b[0m\u001b[0mupdate\u001b[0m\u001b[1;33m(\u001b[0m\u001b[0mset1\u001b[0m\u001b[1;33m)\u001b[0m\u001b[1;33m\u001b[0m\u001b[1;33m\u001b[0m\u001b[0m\n\u001b[0m\u001b[0;32m      5\u001b[0m \u001b[1;33m\u001b[0m\u001b[0m\n\u001b[0;32m      6\u001b[0m \u001b[0mprint\u001b[0m\u001b[1;33m(\u001b[0m\u001b[1;34m\"set1--->\"\u001b[0m\u001b[1;33m,\u001b[0m\u001b[0mset1\u001b[0m\u001b[1;33m)\u001b[0m\u001b[1;33m\u001b[0m\u001b[1;33m\u001b[0m\u001b[0m\n",
      "\u001b[1;31mAttributeError\u001b[0m: 'list' object has no attribute 'update'"
     ]
    }
   ],
   "source": [
    "set1 = {1,2,3}\n",
    "set2 = [44,55,66]  #--->list\n",
    "\n",
    "set2.update(set1)  #--->list,tuple,set\n",
    "\n",
    "print(\"set1--->\",set1)\n",
    "print(\"set2--->\",set2)"
   ]
  },
  {
   "cell_type": "code",
   "execution_count": 53,
   "id": "706365db",
   "metadata": {},
   "outputs": [
    {
     "name": "stdout",
     "output_type": "stream",
     "text": [
      "set1---> {1, 2, 3, 66, 44, 55}\n",
      "set2---> (44, 55, 66)\n"
     ]
    }
   ],
   "source": [
    "set1 = {1,2,3}\n",
    "set2 = (44,55,66)  #--->tuple\n",
    "\n",
    "set1.update(set2)  #--->list,tuple,set\n",
    "\n",
    "print(\"set1--->\",set1)\n",
    "print(\"set2--->\",set2)"
   ]
  },
  {
   "cell_type": "code",
   "execution_count": 55,
   "id": "c69097a1",
   "metadata": {},
   "outputs": [
    {
     "name": "stdout",
     "output_type": "stream",
     "text": [
      "set1---> {1, 2, 3, 'v', 'J', 'a', 'o', 'h', 'y', 't', 'n', 'P'}\n",
      "set2---> (44, 55, 66)\n"
     ]
    }
   ],
   "source": [
    "set1 = {1,2,3}\n",
    "set2 = (44,55,66) \n",
    "\n",
    "set1.update(\"Python\",\"Java\") \n",
    "\n",
    "print(\"set1--->\",set1)\n",
    "print(\"set2--->\",set2)"
   ]
  },
  {
   "cell_type": "markdown",
   "id": "16e98179",
   "metadata": {},
   "source": [
    "### 3.union()\n",
    "- Returns a new set"
   ]
  },
  {
   "cell_type": "code",
   "execution_count": 56,
   "id": "fbc54447",
   "metadata": {},
   "outputs": [
    {
     "name": "stdout",
     "output_type": "stream",
     "text": [
      "set1---> {1, 2, 3, 4, 5}\n",
      "set2---> {66, 4, 5, 55, 44}\n",
      "set3---> {1, 2, 3, 4, 5, 66, 44, 55}\n"
     ]
    }
   ],
   "source": [
    "set1 = {1,2,3,4,5}\n",
    "set2 = {4,5,44,55,66}\n",
    "set3 = {}\n",
    "\n",
    "set3 = set1.union(set2)\n",
    "print(\"set1--->\",set1)\n",
    "print(\"set2--->\",set2)\n",
    "print(\"set3--->\",set3)"
   ]
  },
  {
   "cell_type": "code",
   "execution_count": 57,
   "id": "f870c6de",
   "metadata": {},
   "outputs": [
    {
     "name": "stdout",
     "output_type": "stream",
     "text": [
      "set1---> {1, 2, 3, 4, 5}\n",
      "set2---> {66, 4, 5, 55, 44}\n",
      "set3---> {1, 66, 2, 4, 5, 3, 44, 55}\n"
     ]
    }
   ],
   "source": [
    "set1 = {1,2,3,4,5}\n",
    "set2 = {4,5,44,55,66}\n",
    "set3 = {}\n",
    "\n",
    "set3 = set2.union(set1)\n",
    "print(\"set1--->\",set1)\n",
    "print(\"set2--->\",set2)\n",
    "print(\"set3--->\",set3)"
   ]
  },
  {
   "cell_type": "code",
   "execution_count": 58,
   "id": "3d2c59e4",
   "metadata": {},
   "outputs": [
    {
     "name": "stdout",
     "output_type": "stream",
     "text": [
      "set1---> {1, 2, 3, 4, 5}\n",
      "set2---> {66, 4, 5, 55, 44}\n",
      "set3---> {1, 2, 3, 4, 5, 66, 33, 11, 44, 22, 55}\n"
     ]
    }
   ],
   "source": [
    "set1 = {1,2,3,4,5}\n",
    "set2 = {4,5,44,55,66}\n",
    "set4 = {2,3,22,33,11}\n",
    "set3 = {}\n",
    "\n",
    "set3 = set1.union(set2,set4)\n",
    "print(\"set1--->\",set1)\n",
    "print(\"set2--->\",set2)\n",
    "print(\"set3--->\",set3)"
   ]
  }
 ],
 "metadata": {
  "kernelspec": {
   "display_name": "Python 3 (ipykernel)",
   "language": "python",
   "name": "python3"
  },
  "language_info": {
   "codemirror_mode": {
    "name": "ipython",
    "version": 3
   },
   "file_extension": ".py",
   "mimetype": "text/x-python",
   "name": "python",
   "nbconvert_exporter": "python",
   "pygments_lexer": "ipython3",
   "version": "3.12.4"
  }
 },
 "nbformat": 4,
 "nbformat_minor": 5
}
