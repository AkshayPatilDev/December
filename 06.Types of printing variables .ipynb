{
 "cells": [
  {
   "cell_type": "markdown",
   "id": "168404d8",
   "metadata": {},
   "source": [
    "# Print function"
   ]
  },
  {
   "cell_type": "code",
   "execution_count": 6,
   "id": "7fdb659e",
   "metadata": {},
   "outputs": [
    {
     "name": "stdout",
     "output_type": "stream",
     "text": [
      "The value of var1 and var2 =  100 200\n"
     ]
    }
   ],
   "source": [
    "var1 = 100\n",
    "var2 = 200\n",
    "print(\"The value of var1 and var2 = \", var1 , var2)"
   ]
  },
  {
   "cell_type": "code",
   "execution_count": 7,
   "id": "a1ba905d",
   "metadata": {},
   "outputs": [
    {
     "name": "stdout",
     "output_type": "stream",
     "text": [
      "The values of var1 and var2 =  Python Data science\n"
     ]
    }
   ],
   "source": [
    "var1 = \"Python\"\n",
    "var2= \"Data science\"\n",
    "print(\"The values of var1 and var2 = \", var1, var2)"
   ]
  },
  {
   "cell_type": "code",
   "execution_count": 9,
   "id": "9e174685",
   "metadata": {},
   "outputs": [
    {
     "name": "stdout",
     "output_type": "stream",
     "text": [
      "The value of var1 =  Python The value of var2 =  Data science\n"
     ]
    }
   ],
   "source": [
    "var1 = \"Python\"\n",
    "var2= \"Data science\"\n",
    "print(\"The value of var1 = \", var1, \"The value of var2 = \",var2)"
   ]
  },
  {
   "cell_type": "code",
   "execution_count": 11,
   "id": "11677fc2",
   "metadata": {},
   "outputs": [
    {
     "name": "stdout",
     "output_type": "stream",
     "text": [
      "The addition of num1 and num2 =  30\n"
     ]
    }
   ],
   "source": [
    "num1 = 10\n",
    "num2 = 20\n",
    "addtion = num1 + num2\n",
    "print(\"The addition of num1 and num2 = \",num1+num2)"
   ]
  },
  {
   "cell_type": "code",
   "execution_count": 15,
   "id": "02dc8867",
   "metadata": {},
   "outputs": [
    {
     "name": "stdout",
     "output_type": "stream",
     "text": [
      "The addition of num1 10 and num2 20 is eqal to 30\n"
     ]
    }
   ],
   "source": [
    "num1 = 10\n",
    "num2 = 20\n",
    "addition = num1 + num2\n",
    "print(\"The addition of num1\" ,num1 , \"and num2\", num2, \"is eqal to\",addition)"
   ]
  },
  {
   "cell_type": "markdown",
   "id": "5851c9e2",
   "metadata": {},
   "source": [
    "## f-string"
   ]
  },
  {
   "cell_type": "code",
   "execution_count": 17,
   "id": "a9a57e96",
   "metadata": {},
   "outputs": [
    {
     "name": "stdout",
     "output_type": "stream",
     "text": [
      "The addition of num1 and num2 is = 30\n"
     ]
    }
   ],
   "source": [
    "num1 = 10\n",
    "num2 = 20\n",
    "addtion = num1 + num2\n",
    "print(f\"The addition of num1 and num2 is = {addition}\")"
   ]
  },
  {
   "cell_type": "code",
   "execution_count": 19,
   "id": "0b57f139",
   "metadata": {},
   "outputs": [
    {
     "name": "stdout",
     "output_type": "stream",
     "text": [
      "The addition of 10 and 20 = 30\n"
     ]
    }
   ],
   "source": [
    "num1 = 10\n",
    "num2 = 20\n",
    "addtion = num1 + num2\n",
    "print(f\"The addition of {num1} and {num2} = {addition}\")"
   ]
  },
  {
   "cell_type": "code",
   "execution_count": 24,
   "id": "db1486f1",
   "metadata": {},
   "outputs": [
    {
     "name": "stdout",
     "output_type": "stream",
     "text": [
      "The Multiplication of 10 and 20 = 200\n"
     ]
    }
   ],
   "source": [
    "num1 = 10\n",
    "num2 = 20\n",
    "multiplication = num1 * num2\n",
    "print(f\"The Multiplication of {num1} and {num2} = {multiplication}\")"
   ]
  },
  {
   "cell_type": "code",
   "execution_count": 27,
   "id": "b7849c1f",
   "metadata": {},
   "outputs": [
    {
     "name": "stdout",
     "output_type": "stream",
     "text": [
      "The addition of a + b = 15\n",
      "The addition of a and b = 15\n"
     ]
    }
   ],
   "source": [
    "a = 5\n",
    "b = 10 \n",
    "addition = a + b\n",
    "print(\"The addition of a + b =\",addition)\n",
    "print(f\"The addition of a and b = {addition}\")"
   ]
  },
  {
   "cell_type": "markdown",
   "id": "d95aa020",
   "metadata": {},
   "source": [
    "## . Format string"
   ]
  },
  {
   "cell_type": "code",
   "execution_count": 28,
   "id": "bee8d07c",
   "metadata": {},
   "outputs": [
    {
     "name": "stdout",
     "output_type": "stream",
     "text": [
      "The Division of 50 and 10 is equal to 5.0 \n"
     ]
    }
   ],
   "source": [
    "a = 50\n",
    "b = 10\n",
    "div = a / b\n",
    "print(\"The Division of {} and {} is equal to {} \".format(a,b,div))"
   ]
  },
  {
   "cell_type": "code",
   "execution_count": 31,
   "id": "54c76061",
   "metadata": {},
   "outputs": [
    {
     "name": "stdout",
     "output_type": "stream",
     "text": [
      "The Division of 50 and 10 is equal to 5 \n"
     ]
    }
   ],
   "source": [
    "a = 50\n",
    "b = 10\n",
    "floor_div = a // b\n",
    "print(\"The Division of {0} and {1} is equal to {2} \".format(a,b,floor_div))"
   ]
  },
  {
   "cell_type": "code",
   "execution_count": 39,
   "id": "20b1b8cc",
   "metadata": {},
   "outputs": [
    {
     "name": "stdout",
     "output_type": "stream",
     "text": [
      "The Addition of 500 and 300 is equal to 800\n",
      "The sub of 500 and 300 = 200\n"
     ]
    }
   ],
   "source": [
    "x = 500\n",
    "y = 300\n",
    "add = x + y\n",
    "sub = x - y\n",
    "print(\"The Addition of {} and {} is equal to {}\".format(x,y,add))\n",
    "print(\"The sub of {0} and {1} = {2}\".format(x,y,sub))"
   ]
  },
  {
   "cell_type": "code",
   "execution_count": 41,
   "id": "611d9b56",
   "metadata": {},
   "outputs": [
    {
     "name": "stdout",
     "output_type": "stream",
     "text": [
      "Hi 0\n"
     ]
    }
   ],
   "source": [
    "print(\"Hi {}\".format(0))"
   ]
  },
  {
   "cell_type": "code",
   "execution_count": 42,
   "id": "2c9ade62",
   "metadata": {},
   "outputs": [
    {
     "name": "stdout",
     "output_type": "stream",
     "text": [
      "Hi Mohit\n"
     ]
    }
   ],
   "source": [
    "a = \"Mohit\"\n",
    "print(\"Hi {}\".format(a))"
   ]
  },
  {
   "cell_type": "code",
   "execution_count": 44,
   "id": "cbb85a47",
   "metadata": {},
   "outputs": [
    {
     "name": "stdout",
     "output_type": "stream",
     "text": [
      "The division of 500 and 100 = 5.0\n",
      "The Floor division of 500 and 100 = 5\n"
     ]
    }
   ],
   "source": [
    "a = 500\n",
    "b = 100\n",
    "div = a / b\n",
    "floor_div = a // b\n",
    "print(\"The division of {} and {} = {}\".format(a,b,div))\n",
    "print(\"The Floor division of {} and {} = {}\".format(a,b,floor_div))"
   ]
  },
  {
   "cell_type": "code",
   "execution_count": 46,
   "id": "b8b55291",
   "metadata": {},
   "outputs": [
    {
     "name": "stdout",
     "output_type": "stream",
     "text": [
      "The division of 500 and 100 = 5.0\n",
      "The Floor division of 500 and 100 = 5\n"
     ]
    }
   ],
   "source": [
    "a = 500\n",
    "b = 100\n",
    "div = a / b\n",
    "floor_div = a // b\n",
    "print(\"The division of {0} and {1} = {2}\".format(a,b,div))\n",
    "print(\"The Floor division of {0} and {1} = {2}\".format(a,b,floor_div))"
   ]
  },
  {
   "cell_type": "code",
   "execution_count": 50,
   "id": "101137fb",
   "metadata": {},
   "outputs": [
    {
     "name": "stdout",
     "output_type": "stream",
     "text": [
      "The division of 5.0 and 100 = 500\n"
     ]
    }
   ],
   "source": [
    "a = 500\n",
    "b = 100\n",
    "div = a / b\n",
    "# floor_div = a // b\n",
    "print(\"The division of {2} and {1} = {0}\".format(a,b,div))\n",
    "# print(\"The Floor division of {0} and {1} = {2}\".format(a,b,floor_div))"
   ]
  },
  {
   "cell_type": "code",
   "execution_count": 53,
   "id": "bb0faf65",
   "metadata": {},
   "outputs": [
    {
     "name": "stdout",
     "output_type": "stream",
     "text": [
      "The sub of 100 and 50 is equal to 50\n",
      "The value of 100 and 50 = 50  Python\n"
     ]
    }
   ],
   "source": [
    "x = 100\n",
    "y = 50\n",
    "z = \"Python\"\n",
    "sub = x - y\n",
    "print(\"The sub of {} and {} is equal to {}\".format(x,y,sub))\n",
    "print(\"The value of {} and {} = {}  {}\".format(x,y,sub,z))"
   ]
  },
  {
   "cell_type": "code",
   "execution_count": 57,
   "id": "1ae628e8",
   "metadata": {},
   "outputs": [
    {
     "name": "stdout",
     "output_type": "stream",
     "text": [
      "The value of x = {x} and The value of y = {y} and the value of z = {z} The sub of x and y = 50 \n"
     ]
    }
   ],
   "source": [
    "x = 100\n",
    "y = 50\n",
    "z = \"Python\"\n",
    "sub = x - y\n",
    "print(\"The value of x = {x} and The value of y = {y} and the value of z = {z}\",f\"The sub of x and y = {sub} \".format(x,y,z,sub))"
   ]
  },
  {
   "cell_type": "code",
   "execution_count": 13,
   "id": "746cd6cf",
   "metadata": {},
   "outputs": [
    {
     "name": "stdout",
     "output_type": "stream",
     "text": [
      "a = 500 and b = 100 a-b = 400\n"
     ]
    }
   ],
   "source": [
    "a = 500\n",
    "b = 100\n",
    "print(\"a = {} and b = {} a-b = {}\".format(a,b,a-b))"
   ]
  },
  {
   "cell_type": "code",
   "execution_count": 15,
   "id": "afaeb023",
   "metadata": {},
   "outputs": [
    {
     "name": "stdout",
     "output_type": "stream",
     "text": [
      "list = [1, 2, 3, 4] \n",
      "list = [1, 2, 3, 4]\n"
     ]
    }
   ],
   "source": [
    "list1 = [1,2,3,4]\n",
    "print(\"list = {} \".format(list1))    # .format\n",
    "print(f\"list = {list1}\")             # f string"
   ]
  },
  {
   "cell_type": "code",
   "execution_count": 18,
   "id": "90560ee1",
   "metadata": {},
   "outputs": [
    {
     "name": "stdout",
     "output_type": "stream",
     "text": [
      "list = [1, 2, 3, 4] , The type = <class 'list'> \n",
      "list = [1, 2, 3, 4] , The type = <class 'list'>\n"
     ]
    }
   ],
   "source": [
    "list1 = [1,2,3,4]\n",
    "print(\"list = {} , The type = {} \".format(list1,type(list1)))  \n",
    "print(f\"list = {list1} , The type = {type(list1)}\")"
   ]
  },
  {
   "cell_type": "code",
   "execution_count": 28,
   "id": "14da42e8",
   "metadata": {},
   "outputs": [
    {
     "name": "stdout",
     "output_type": "stream",
     "text": [
      "Tuple = (10, 20, 30, 40) and the type is <class 'tuple'>\n",
      "Tuple = (10, 20, 30, 40) and the type is <class 'tuple'>\n"
     ]
    }
   ],
   "source": [
    "tup = (10,20,30,40)\n",
    "print(\"Tuple = {} and the type is {}\".format(tup,type(tup)))\n",
    "print(f\"Tuple = {tup} and the type is {type(tup)}\")"
   ]
  },
  {
   "cell_type": "code",
   "execution_count": 29,
   "id": "3a44d41d",
   "metadata": {},
   "outputs": [
    {
     "name": "stdout",
     "output_type": "stream",
     "text": [
      "The set = {200, 100, 300} and The Type = <class 'set'>\n",
      "The set = {200, 100, 300} and The Type = <class 'set'>\n"
     ]
    }
   ],
   "source": [
    "set1 = {100,200,300}\n",
    "print(\"The set = {} and The Type = {}\".format(set1,type(set1)))\n",
    "print(f\"The set = {set1} and The Type = {type(set1)}\")"
   ]
  },
  {
   "cell_type": "code",
   "execution_count": 1,
   "id": "c6406fe2",
   "metadata": {},
   "outputs": [
    {
     "name": "stdout",
     "output_type": "stream",
     "text": [
      "* * * * * * * * \n",
      "* * * * * * * * \n",
      "* * * * * * * * \n",
      "* * * * * * * * \n",
      "* * * * * * * * \n",
      "* * * * * * * * \n",
      "* * * * * * * * \n",
      "* * * * * * * * \n"
     ]
    }
   ],
   "source": [
    "for i in range (8):\n",
    "    for j in range (8):\n",
    "        print(\"*\",end =\" \")\n",
    "    print()"
   ]
  }
 ],
 "metadata": {
  "kernelspec": {
   "display_name": "Python 3 (ipykernel)",
   "language": "python",
   "name": "python3"
  },
  "language_info": {
   "codemirror_mode": {
    "name": "ipython",
    "version": 3
   },
   "file_extension": ".py",
   "mimetype": "text/x-python",
   "name": "python",
   "nbconvert_exporter": "python",
   "pygments_lexer": "ipython3",
   "version": "3.12.4"
  }
 },
 "nbformat": 4,
 "nbformat_minor": 5
}
