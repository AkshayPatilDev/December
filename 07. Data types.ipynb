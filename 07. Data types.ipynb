{
 "cells": [
  {
   "cell_type": "markdown",
   "id": "4fa93d84",
   "metadata": {},
   "source": [
    "# Data types\n",
    "- Numeric >>> int, float, complex\n",
    "- Text >>> str\n",
    "- Sequence >>> list, tuple, range\n",
    "- Mapping >>> dict\n",
    "- Set >>> set, frozenset\n",
    "- Boolean >>> bool (True and False)\n",
    "- bytearray\n"
   ]
  },
  {
   "cell_type": "markdown",
   "id": "2df3c7f7",
   "metadata": {},
   "source": [
    "## Numeric data types\n",
    "\n",
    "\n",
    "### 1. int\n",
    "- int contains whole numbers\n",
    "- +ve  and - ve numbers"
   ]
  },
  {
   "cell_type": "code",
   "execution_count": 1,
   "id": "f5f82562",
   "metadata": {},
   "outputs": [
    {
     "name": "stdout",
     "output_type": "stream",
     "text": [
      "The Number = 15 and The Data Type = <class 'int'>\n"
     ]
    }
   ],
   "source": [
    "num = 15\n",
    "print(f\"The Number = {num} and The Data Type = {type(num)}\")"
   ]
  },
  {
   "cell_type": "code",
   "execution_count": 2,
   "id": "252f7a16",
   "metadata": {},
   "outputs": [
    {
     "name": "stdout",
     "output_type": "stream",
     "text": [
      "The Number = 0 and The Data Type = <class 'int'>\n"
     ]
    }
   ],
   "source": [
    "num = 0\n",
    "print(f\"The Number = {num} and The Data Type = {type(num)}\")"
   ]
  },
  {
   "cell_type": "code",
   "execution_count": 3,
   "id": "90ab692d",
   "metadata": {},
   "outputs": [
    {
     "name": "stdout",
     "output_type": "stream",
     "text": [
      "The Number = -15 and The Data Type = <class 'int'>\n"
     ]
    }
   ],
   "source": [
    "num = -15\n",
    "print(f\"The Number = {num} and The Data Type = {type(num)}\")"
   ]
  },
  {
   "cell_type": "code",
   "execution_count": 4,
   "id": "bd7e5746",
   "metadata": {},
   "outputs": [
    {
     "name": "stdout",
     "output_type": "stream",
     "text": [
      "The Number = 15516548 and The Data Type = <class 'int'>\n"
     ]
    }
   ],
   "source": [
    "num = 15516548\n",
    "print(f\"The Number = {num} and The Data Type = {type(num)}\")"
   ]
  },
  {
   "cell_type": "markdown",
   "id": "27a8fe4b",
   "metadata": {},
   "source": [
    "### 2.float\n",
    "- float contains all decimal points\n",
    "- +ve or - ve"
   ]
  },
  {
   "cell_type": "code",
   "execution_count": 5,
   "id": "05ec752a",
   "metadata": {},
   "outputs": [
    {
     "name": "stdout",
     "output_type": "stream",
     "text": [
      "The Number = 1.5 and The Data Type = <class 'float'>\n"
     ]
    }
   ],
   "source": [
    "num = 1.5\n",
    "print(f\"The Number = {num} and The Data Type = {type(num)}\")"
   ]
  },
  {
   "cell_type": "code",
   "execution_count": 6,
   "id": "834810bf",
   "metadata": {},
   "outputs": [
    {
     "name": "stdout",
     "output_type": "stream",
     "text": [
      "The Number = 0.0 and The Data Type = <class 'float'>\n"
     ]
    }
   ],
   "source": [
    "num = 0.0\n",
    "print(f\"The Number = {num} and The Data Type = {type(num)}\")"
   ]
  },
  {
   "cell_type": "code",
   "execution_count": 7,
   "id": "44271e6c",
   "metadata": {},
   "outputs": [
    {
     "name": "stdout",
     "output_type": "stream",
     "text": [
      "The Number = -52.55 and The Data Type = <class 'float'>\n"
     ]
    }
   ],
   "source": [
    "num = -52.55\n",
    "print(f\"The Number = {num} and The Data Type = {type(num)}\")"
   ]
  },
  {
   "cell_type": "code",
   "execution_count": 8,
   "id": "79796474",
   "metadata": {},
   "outputs": [
    {
     "name": "stdout",
     "output_type": "stream",
     "text": [
      "The Number = 25.564564845 and The Data Type = <class 'float'>\n"
     ]
    }
   ],
   "source": [
    "num = 25.564564845\n",
    "print(f\"The Number = {num} and The Data Type = {type(num)}\")"
   ]
  },
  {
   "cell_type": "code",
   "execution_count": 9,
   "id": "2d94ddb9",
   "metadata": {},
   "outputs": [
    {
     "name": "stdout",
     "output_type": "stream",
     "text": [
      "The Number = 0 and The Data Type = <class 'int'>\n"
     ]
    }
   ],
   "source": [
    "num = 0\n",
    "print(f\"The Number = {num} and The Data Type = {type(num)}\")"
   ]
  },
  {
   "cell_type": "markdown",
   "id": "89628f5e",
   "metadata": {},
   "source": [
    "### complex data type\n",
    "- complex data type conatins real and imaginary part"
   ]
  },
  {
   "cell_type": "code",
   "execution_count": 10,
   "id": "c2169113",
   "metadata": {},
   "outputs": [
    {
     "name": "stdout",
     "output_type": "stream",
     "text": [
      "The Number = (5+10j) and The Data Type = <class 'complex'>\n"
     ]
    }
   ],
   "source": [
    "num = 5 + 10j\n",
    "print(f\"The Number = {num} and The Data Type = {type(num)}\")"
   ]
  },
  {
   "cell_type": "code",
   "execution_count": 11,
   "id": "82a34f95",
   "metadata": {
    "scrolled": true
   },
   "outputs": [
    {
     "name": "stdout",
     "output_type": "stream",
     "text": [
      "The Number = (5-10j) and The Data Type = <class 'complex'>\n"
     ]
    }
   ],
   "source": [
    "num = 5 - 10j\n",
    "print(f\"The Number = {num} and The Data Type = {type(num)}\")"
   ]
  },
  {
   "cell_type": "code",
   "execution_count": 13,
   "id": "5f5a5a6c",
   "metadata": {},
   "outputs": [
    {
     "name": "stdout",
     "output_type": "stream",
     "text": [
      "The Number = -20j and The Data Type = <class 'complex'>\n"
     ]
    }
   ],
   "source": [
    "num = 0 - 20j\n",
    "print(f\"The Number = {num} and The Data Type = {type(num)}\")"
   ]
  },
  {
   "cell_type": "code",
   "execution_count": 14,
   "id": "05b1b728",
   "metadata": {},
   "outputs": [
    {
     "name": "stdout",
     "output_type": "stream",
     "text": [
      "The Number = 0j and The Data Type = <class 'complex'>\n"
     ]
    }
   ],
   "source": [
    "num = 0 + 0j\n",
    "print(f\"The Number = {num} and The Data Type = {type(num)}\")"
   ]
  },
  {
   "cell_type": "markdown",
   "id": "5f7a3364",
   "metadata": {},
   "source": [
    "# Python type casting\n",
    "- Here we need to specify data type\n",
    "- int()\n",
    "- float()\n",
    "- str()\n",
    "- complex()"
   ]
  },
  {
   "cell_type": "markdown",
   "id": "ecb6c63d",
   "metadata": {},
   "source": [
    "### 1. int to float"
   ]
  },
  {
   "cell_type": "code",
   "execution_count": 15,
   "id": "2d546aea",
   "metadata": {
    "scrolled": true
   },
   "outputs": [
    {
     "name": "stdout",
     "output_type": "stream",
     "text": [
      "The Number = 40 and The Data Type = <class 'int'>\n"
     ]
    }
   ],
   "source": [
    "num = 40\n",
    "print(f\"The Number = {num} and The Data Type = {type(num)}\")"
   ]
  },
  {
   "cell_type": "code",
   "execution_count": 19,
   "id": "d3648635",
   "metadata": {
    "scrolled": true
   },
   "outputs": [
    {
     "name": "stdout",
     "output_type": "stream",
     "text": [
      "The Number = 40 and The Data Type = <class 'int'>\n",
      "\n",
      "************************************************************\n",
      "\n",
      "The Number = 40.0 and The Data Type = <class 'float'>\n"
     ]
    }
   ],
   "source": [
    "num = 40\n",
    "print(f\"The Number = {num} and The Data Type = {type(num)}\")\n",
    "print()\n",
    "print(\"*\"*60)\n",
    "print()\n",
    "num = float(num)\n",
    "print(f\"The Number = {num} and The Data Type = {type(num)}\")"
   ]
  },
  {
   "cell_type": "code",
   "execution_count": 22,
   "id": "349ebcdf",
   "metadata": {},
   "outputs": [
    {
     "name": "stdout",
     "output_type": "stream",
     "text": [
      "The Number = -40 and The Data Type = <class 'int'>\n",
      "\n",
      "************************************************************\n",
      "\n",
      "The Number = -40.0 and The Data Type = <class 'float'>\n"
     ]
    }
   ],
   "source": [
    "num = -40\n",
    "print(f\"The Number = {num} and The Data Type = {type(num)}\")\n",
    "print()\n",
    "print(\"*\"*60)\n",
    "print()\n",
    "num = float(num)\n",
    "print(f\"The Number = {num} and The Data Type = {type(num)}\")"
   ]
  },
  {
   "cell_type": "code",
   "execution_count": 24,
   "id": "a10c7481",
   "metadata": {},
   "outputs": [
    {
     "name": "stdout",
     "output_type": "stream",
     "text": [
      "The Number = 0 and The Data Type = <class 'int'>\n",
      "\n",
      "************************************************************\n",
      "\n",
      "The Number = 0.0 and The Data Type = <class 'float'>\n"
     ]
    }
   ],
   "source": [
    "num = 0\n",
    "print(f\"The Number = {num} and The Data Type = {type(num)}\")\n",
    "print()\n",
    "print(\"*\"*60)\n",
    "print()\n",
    "num = float(num)\n",
    "print(f\"The Number = {num} and The Data Type = {type(num)}\")"
   ]
  },
  {
   "cell_type": "markdown",
   "id": "b1aa1f4e",
   "metadata": {},
   "source": [
    "### 2. float to int"
   ]
  },
  {
   "cell_type": "code",
   "execution_count": 25,
   "id": "bc76a43e",
   "metadata": {},
   "outputs": [
    {
     "name": "stdout",
     "output_type": "stream",
     "text": [
      "The Number = 5.7 and The Data Type = <class 'float'>\n",
      "\n",
      "************************************************************\n",
      "\n",
      "The Number = 5 and The Data Type = <class 'int'>\n"
     ]
    }
   ],
   "source": [
    "num = 5.7\n",
    "print(f\"The Number = {num} and The Data Type = {type(num)}\")\n",
    "print()\n",
    "print(\"*\"*60)\n",
    "print()\n",
    "num = int(num)\n",
    "print(f\"The Number = {num} and The Data Type = {type(num)}\")"
   ]
  },
  {
   "cell_type": "code",
   "execution_count": 26,
   "id": "d3768275",
   "metadata": {},
   "outputs": [
    {
     "name": "stdout",
     "output_type": "stream",
     "text": [
      "The Number = -5.7 and The Data Type = <class 'float'>\n",
      "\n",
      "************************************************************\n",
      "\n",
      "The Number = -5 and The Data Type = <class 'int'>\n"
     ]
    }
   ],
   "source": [
    "num = - 5.7\n",
    "print(f\"The Number = {num} and The Data Type = {type(num)}\")\n",
    "print()\n",
    "print(\"*\"*60)\n",
    "print()\n",
    "num = int(num)\n",
    "print(f\"The Number = {num} and The Data Type = {type(num)}\")"
   ]
  },
  {
   "cell_type": "code",
   "execution_count": 27,
   "id": "db64b711",
   "metadata": {},
   "outputs": [
    {
     "name": "stdout",
     "output_type": "stream",
     "text": [
      "The Number = 5.7548415484654 and The Data Type = <class 'float'>\n",
      "\n",
      "************************************************************\n",
      "\n",
      "The Number = 5 and The Data Type = <class 'int'>\n"
     ]
    }
   ],
   "source": [
    "num = 5.7548415484654\n",
    "print(f\"The Number = {num} and The Data Type = {type(num)}\")\n",
    "print()\n",
    "print(\"*\"*60)\n",
    "print()\n",
    "num = int(num)\n",
    "print(f\"The Number = {num} and The Data Type = {type(num)}\")"
   ]
  },
  {
   "cell_type": "code",
   "execution_count": 1,
   "id": "dbb78056",
   "metadata": {},
   "outputs": [
    {
     "data": {
      "text/plain": [
       "3.142857142857143"
      ]
     },
     "execution_count": 1,
     "metadata": {},
     "output_type": "execute_result"
    }
   ],
   "source": [
    "x = 22/7\n",
    "x"
   ]
  },
  {
   "cell_type": "code",
   "execution_count": 3,
   "id": "99942678",
   "metadata": {},
   "outputs": [
    {
     "data": {
      "text/plain": [
       "3.14"
      ]
     },
     "execution_count": 3,
     "metadata": {},
     "output_type": "execute_result"
    }
   ],
   "source": [
    "x = round(x,2)\n",
    "x"
   ]
  },
  {
   "cell_type": "code",
   "execution_count": 5,
   "id": "cec38857",
   "metadata": {},
   "outputs": [
    {
     "data": {
      "text/plain": [
       "3.14"
      ]
     },
     "execution_count": 5,
     "metadata": {},
     "output_type": "execute_result"
    }
   ],
   "source": [
    "x = round(x,5)\n",
    "x"
   ]
  },
  {
   "cell_type": "markdown",
   "id": "0326a763",
   "metadata": {},
   "source": [
    "### 3 . int to complex"
   ]
  },
  {
   "cell_type": "code",
   "execution_count": 38,
   "id": "c08f1d3d",
   "metadata": {},
   "outputs": [
    {
     "name": "stdout",
     "output_type": "stream",
     "text": [
      "The Number = 40 and The Data Type = <class 'int'>\n",
      "\n",
      "************************************************************\n",
      "\n",
      "The Number = (40+0j) and The Data Type = <class 'complex'>\n"
     ]
    }
   ],
   "source": [
    "num = 40\n",
    "print(f\"The Number = {num} and The Data Type = {type(num)}\")\n",
    "print()\n",
    "print(\"*\"*60)\n",
    "print()\n",
    "num = complex(num)\n",
    "print(f\"The Number = {num} and The Data Type = {type(num)}\")"
   ]
  },
  {
   "cell_type": "code",
   "execution_count": 39,
   "id": "9940757e",
   "metadata": {},
   "outputs": [
    {
     "name": "stdout",
     "output_type": "stream",
     "text": [
      "The Number = -40 and The Data Type = <class 'int'>\n",
      "\n",
      "************************************************************\n",
      "\n",
      "The Number = (-40+0j) and The Data Type = <class 'complex'>\n"
     ]
    }
   ],
   "source": [
    "num = - 40\n",
    "print(f\"The Number = {num} and The Data Type = {type(num)}\")\n",
    "print()\n",
    "print(\"*\"*60)\n",
    "print()\n",
    "num = complex(num)\n",
    "print(f\"The Number = {num} and The Data Type = {type(num)}\")"
   ]
  },
  {
   "cell_type": "code",
   "execution_count": 40,
   "id": "965c54b0",
   "metadata": {},
   "outputs": [
    {
     "name": "stdout",
     "output_type": "stream",
     "text": [
      "The Number = 0 and The Data Type = <class 'int'>\n",
      "\n",
      "************************************************************\n",
      "\n",
      "The Number = 0j and The Data Type = <class 'complex'>\n"
     ]
    }
   ],
   "source": [
    "num = 0\n",
    "print(f\"The Number = {num} and The Data Type = {type(num)}\")\n",
    "print()\n",
    "print(\"*\"*60)\n",
    "print()\n",
    "num = complex(num)\n",
    "print(f\"The Number = {num} and The Data Type = {type(num)}\")"
   ]
  },
  {
   "cell_type": "markdown",
   "id": "0f717573",
   "metadata": {},
   "source": [
    "###  4. float to complex"
   ]
  },
  {
   "cell_type": "code",
   "execution_count": 41,
   "id": "ec6723ab",
   "metadata": {},
   "outputs": [
    {
     "name": "stdout",
     "output_type": "stream",
     "text": [
      "The Number = 5.7 and The Data Type = <class 'float'>\n",
      "\n",
      "************************************************************\n",
      "\n",
      "The Number = (5.7+0j) and The Data Type = <class 'complex'>\n"
     ]
    }
   ],
   "source": [
    "num = 5.7\n",
    "print(f\"The Number = {num} and The Data Type = {type(num)}\")\n",
    "print()\n",
    "print(\"*\"*60)\n",
    "print()\n",
    "num = complex(num)\n",
    "print(f\"The Number = {num} and The Data Type = {type(num)}\")"
   ]
  },
  {
   "cell_type": "code",
   "execution_count": 42,
   "id": "8aeb7a17",
   "metadata": {},
   "outputs": [
    {
     "name": "stdout",
     "output_type": "stream",
     "text": [
      "The Number = -5.7 and The Data Type = <class 'float'>\n",
      "\n",
      "************************************************************\n",
      "\n",
      "The Number = (-5.7+0j) and The Data Type = <class 'complex'>\n"
     ]
    }
   ],
   "source": [
    "num = - 5.7\n",
    "print(f\"The Number = {num} and The Data Type = {type(num)}\")\n",
    "print()\n",
    "print(\"*\"*60)\n",
    "print()\n",
    "num = complex(num)\n",
    "print(f\"The Number = {num} and The Data Type = {type(num)}\")"
   ]
  },
  {
   "cell_type": "code",
   "execution_count": 43,
   "id": "8ed85450",
   "metadata": {},
   "outputs": [
    {
     "name": "stdout",
     "output_type": "stream",
     "text": [
      "The Number = 5.7453453453453 and The Data Type = <class 'float'>\n",
      "\n",
      "************************************************************\n",
      "\n",
      "The Number = (5.7453453453453+0j) and The Data Type = <class 'complex'>\n"
     ]
    }
   ],
   "source": [
    "num = 5.7453453453453\n",
    "print(f\"The Number = {num} and The Data Type = {type(num)}\")\n",
    "print()\n",
    "print(\"*\"*60)\n",
    "print()\n",
    "num = complex(num)\n",
    "print(f\"The Number = {num} and The Data Type = {type(num)}\")"
   ]
  },
  {
   "cell_type": "markdown",
   "id": "20aee04d",
   "metadata": {},
   "source": [
    "### 5. complex to int\n",
    "- we cannot convert complex to int"
   ]
  },
  {
   "cell_type": "code",
   "execution_count": 44,
   "id": "8a0bc920",
   "metadata": {
    "scrolled": true
   },
   "outputs": [
    {
     "name": "stdout",
     "output_type": "stream",
     "text": [
      "The Number = (5+8j) and The Data Type = <class 'complex'>\n",
      "\n",
      "************************************************************\n",
      "\n"
     ]
    },
    {
     "ename": "TypeError",
     "evalue": "can't convert complex to int",
     "output_type": "error",
     "traceback": [
      "\u001b[1;31m---------------------------------------------------------------------------\u001b[0m",
      "\u001b[1;31mTypeError\u001b[0m                                 Traceback (most recent call last)",
      "\u001b[1;32m~\\AppData\\Local\\Temp/ipykernel_11036/2810491916.py\u001b[0m in \u001b[0;36m<module>\u001b[1;34m\u001b[0m\n\u001b[0;32m      4\u001b[0m \u001b[0mprint\u001b[0m\u001b[1;33m(\u001b[0m\u001b[1;34m\"*\"\u001b[0m\u001b[1;33m*\u001b[0m\u001b[1;36m60\u001b[0m\u001b[1;33m)\u001b[0m\u001b[1;33m\u001b[0m\u001b[1;33m\u001b[0m\u001b[0m\n\u001b[0;32m      5\u001b[0m \u001b[0mprint\u001b[0m\u001b[1;33m(\u001b[0m\u001b[1;33m)\u001b[0m\u001b[1;33m\u001b[0m\u001b[1;33m\u001b[0m\u001b[0m\n\u001b[1;32m----> 6\u001b[1;33m \u001b[0mnum\u001b[0m \u001b[1;33m=\u001b[0m \u001b[0mint\u001b[0m\u001b[1;33m(\u001b[0m\u001b[0mnum\u001b[0m\u001b[1;33m)\u001b[0m\u001b[1;33m\u001b[0m\u001b[1;33m\u001b[0m\u001b[0m\n\u001b[0m\u001b[0;32m      7\u001b[0m \u001b[0mprint\u001b[0m\u001b[1;33m(\u001b[0m\u001b[1;34mf\"The Number = {num} and The Data Type = {type(num)}\"\u001b[0m\u001b[1;33m)\u001b[0m\u001b[1;33m\u001b[0m\u001b[1;33m\u001b[0m\u001b[0m\n",
      "\u001b[1;31mTypeError\u001b[0m: can't convert complex to int"
     ]
    }
   ],
   "source": [
    "num = 5 + 8j\n",
    "print(f\"The Number = {num} and The Data Type = {type(num)}\")\n",
    "print()\n",
    "print(\"*\"*60)\n",
    "print()\n",
    "num = int(num)\n",
    "print(f\"The Number = {num} and The Data Type = {type(num)}\")"
   ]
  },
  {
   "cell_type": "markdown",
   "id": "1caec3a1",
   "metadata": {},
   "source": [
    "### 6. complex to float\n",
    "- we cannot convert complex to float"
   ]
  },
  {
   "cell_type": "code",
   "execution_count": 45,
   "id": "0c5ddcc1",
   "metadata": {
    "scrolled": true
   },
   "outputs": [
    {
     "name": "stdout",
     "output_type": "stream",
     "text": [
      "The Number = (5+8j) and The Data Type = <class 'complex'>\n",
      "\n",
      "************************************************************\n",
      "\n"
     ]
    },
    {
     "ename": "TypeError",
     "evalue": "can't convert complex to float",
     "output_type": "error",
     "traceback": [
      "\u001b[1;31m---------------------------------------------------------------------------\u001b[0m",
      "\u001b[1;31mTypeError\u001b[0m                                 Traceback (most recent call last)",
      "\u001b[1;32m~\\AppData\\Local\\Temp/ipykernel_11036/410099138.py\u001b[0m in \u001b[0;36m<module>\u001b[1;34m\u001b[0m\n\u001b[0;32m      4\u001b[0m \u001b[0mprint\u001b[0m\u001b[1;33m(\u001b[0m\u001b[1;34m\"*\"\u001b[0m\u001b[1;33m*\u001b[0m\u001b[1;36m60\u001b[0m\u001b[1;33m)\u001b[0m\u001b[1;33m\u001b[0m\u001b[1;33m\u001b[0m\u001b[0m\n\u001b[0;32m      5\u001b[0m \u001b[0mprint\u001b[0m\u001b[1;33m(\u001b[0m\u001b[1;33m)\u001b[0m\u001b[1;33m\u001b[0m\u001b[1;33m\u001b[0m\u001b[0m\n\u001b[1;32m----> 6\u001b[1;33m \u001b[0mnum\u001b[0m \u001b[1;33m=\u001b[0m \u001b[0mfloat\u001b[0m\u001b[1;33m(\u001b[0m\u001b[0mnum\u001b[0m\u001b[1;33m)\u001b[0m\u001b[1;33m\u001b[0m\u001b[1;33m\u001b[0m\u001b[0m\n\u001b[0m\u001b[0;32m      7\u001b[0m \u001b[0mprint\u001b[0m\u001b[1;33m(\u001b[0m\u001b[1;34mf\"The Number = {num} and The Data Type = {type(num)}\"\u001b[0m\u001b[1;33m)\u001b[0m\u001b[1;33m\u001b[0m\u001b[1;33m\u001b[0m\u001b[0m\n",
      "\u001b[1;31mTypeError\u001b[0m: can't convert complex to float"
     ]
    }
   ],
   "source": [
    "num = 5 + 8j\n",
    "print(f\"The Number = {num} and The Data Type = {type(num)}\")\n",
    "print()\n",
    "print(\"*\"*60)\n",
    "print()\n",
    "num = float(num)\n",
    "print(f\"The Number = {num} and The Data Type = {type(num)}\")"
   ]
  },
  {
   "cell_type": "markdown",
   "id": "03f38b24",
   "metadata": {},
   "source": [
    "### 7. int to string"
   ]
  },
  {
   "cell_type": "code",
   "execution_count": 47,
   "id": "a4f28b33",
   "metadata": {},
   "outputs": [
    {
     "name": "stdout",
     "output_type": "stream",
     "text": [
      "The Number = 40 and The Data Type = <class 'int'>\n",
      "\n",
      "************************************************************\n",
      "\n",
      "The Number = 40 and The Data Type = <class 'str'>\n"
     ]
    },
    {
     "data": {
      "text/plain": [
       "'40'"
      ]
     },
     "execution_count": 47,
     "metadata": {},
     "output_type": "execute_result"
    }
   ],
   "source": [
    "num = 40\n",
    "print(f\"The Number = {num} and The Data Type = {type(num)}\")\n",
    "print()\n",
    "print(\"*\"*60)\n",
    "print()\n",
    "num = str(num)\n",
    "print(f\"The Number = {num} and The Data Type = {type(num)}\")\n",
    "num"
   ]
  },
  {
   "cell_type": "code",
   "execution_count": 49,
   "id": "45b15411",
   "metadata": {},
   "outputs": [
    {
     "name": "stdout",
     "output_type": "stream",
     "text": [
      "The Number = -500000 and The Data Type = <class 'int'>\n",
      "\n",
      "************************************************************\n",
      "\n",
      "The Number = -500000 and The Data Type = <class 'str'>\n"
     ]
    },
    {
     "data": {
      "text/plain": [
       "'-500000'"
      ]
     },
     "execution_count": 49,
     "metadata": {},
     "output_type": "execute_result"
    }
   ],
   "source": [
    "num = -500000\n",
    "print(f\"The Number = {num} and The Data Type = {type(num)}\")\n",
    "print()\n",
    "print(\"*\"*60)\n",
    "print()\n",
    "num = str(num)\n",
    "print(f\"The Number = {num} and The Data Type = {type(num)}\")\n",
    "num"
   ]
  },
  {
   "cell_type": "markdown",
   "id": "87540eb3",
   "metadata": {},
   "source": [
    "### 8. float to string"
   ]
  },
  {
   "cell_type": "code",
   "execution_count": 50,
   "id": "106ee03c",
   "metadata": {},
   "outputs": [
    {
     "name": "stdout",
     "output_type": "stream",
     "text": [
      "The Number = 95.12 and The Data Type = <class 'float'>\n",
      "\n",
      "************************************************************\n",
      "\n",
      "The Number = 95.12 and The Data Type = <class 'str'>\n"
     ]
    },
    {
     "data": {
      "text/plain": [
       "'95.12'"
      ]
     },
     "execution_count": 50,
     "metadata": {},
     "output_type": "execute_result"
    }
   ],
   "source": [
    "num = 95.12\n",
    "print(f\"The Number = {num} and The Data Type = {type(num)}\")\n",
    "print()\n",
    "print(\"*\"*60)\n",
    "print()\n",
    "num = str(num)\n",
    "print(f\"The Number = {num} and The Data Type = {type(num)}\")\n",
    "num"
   ]
  },
  {
   "cell_type": "code",
   "execution_count": 51,
   "id": "7dc2e8b7",
   "metadata": {
    "scrolled": true
   },
   "outputs": [
    {
     "name": "stdout",
     "output_type": "stream",
     "text": [
      "The Number = 2.54646548484 and The Data Type = <class 'float'>\n",
      "\n",
      "************************************************************\n",
      "\n",
      "The Number = 2.54646548484 and The Data Type = <class 'str'>\n"
     ]
    },
    {
     "data": {
      "text/plain": [
       "'2.54646548484'"
      ]
     },
     "execution_count": 51,
     "metadata": {},
     "output_type": "execute_result"
    }
   ],
   "source": [
    "num = 2.54646548484\n",
    "print(f\"The Number = {num} and The Data Type = {type(num)}\")\n",
    "print()\n",
    "print(\"*\"*60)\n",
    "print()\n",
    "num = str(num)\n",
    "print(f\"The Number = {num} and The Data Type = {type(num)}\")\n",
    "num"
   ]
  },
  {
   "cell_type": "markdown",
   "id": "a198e2f2",
   "metadata": {},
   "source": [
    "### 9.string to int"
   ]
  },
  {
   "cell_type": "code",
   "execution_count": 53,
   "id": "0ad81fc8",
   "metadata": {
    "scrolled": true
   },
   "outputs": [
    {
     "name": "stdout",
     "output_type": "stream",
     "text": [
      "The Number = 500 and The Data Type = <class 'str'>\n",
      "\n",
      "************************************************************\n",
      "\n",
      "The Number = 500 and The Data Type = <class 'int'>\n"
     ]
    }
   ],
   "source": [
    "num = \"500\"\n",
    "print(f\"The Number = {num} and The Data Type = {type(num)}\")\n",
    "print()\n",
    "print(\"*\"*60)\n",
    "print()\n",
    "num = int(num)\n",
    "print(f\"The Number = {num} and The Data Type = {type(num)}\")\n"
   ]
  },
  {
   "cell_type": "code",
   "execution_count": 57,
   "id": "87eeebb1",
   "metadata": {},
   "outputs": [
    {
     "name": "stdout",
     "output_type": "stream",
     "text": [
      "The Number = 50 00 and The Data Type = <class 'str'>\n",
      "\n",
      "************************************************************\n",
      "\n"
     ]
    },
    {
     "ename": "ValueError",
     "evalue": "invalid literal for int() with base 10: '50 00'",
     "output_type": "error",
     "traceback": [
      "\u001b[1;31m---------------------------------------------------------------------------\u001b[0m",
      "\u001b[1;31mValueError\u001b[0m                                Traceback (most recent call last)",
      "\u001b[1;32m~\\AppData\\Local\\Temp/ipykernel_11036/557769486.py\u001b[0m in \u001b[0;36m<module>\u001b[1;34m\u001b[0m\n\u001b[0;32m      4\u001b[0m \u001b[0mprint\u001b[0m\u001b[1;33m(\u001b[0m\u001b[1;34m\"*\"\u001b[0m\u001b[1;33m*\u001b[0m\u001b[1;36m60\u001b[0m\u001b[1;33m)\u001b[0m\u001b[1;33m\u001b[0m\u001b[1;33m\u001b[0m\u001b[0m\n\u001b[0;32m      5\u001b[0m \u001b[0mprint\u001b[0m\u001b[1;33m(\u001b[0m\u001b[1;33m)\u001b[0m\u001b[1;33m\u001b[0m\u001b[1;33m\u001b[0m\u001b[0m\n\u001b[1;32m----> 6\u001b[1;33m \u001b[0mnum\u001b[0m \u001b[1;33m=\u001b[0m \u001b[0mint\u001b[0m\u001b[1;33m(\u001b[0m\u001b[0mnum\u001b[0m\u001b[1;33m)\u001b[0m\u001b[1;33m\u001b[0m\u001b[1;33m\u001b[0m\u001b[0m\n\u001b[0m\u001b[0;32m      7\u001b[0m \u001b[0mprint\u001b[0m\u001b[1;33m(\u001b[0m\u001b[1;34mf\"The Number = {num} and The Data Type = {type(num)}\"\u001b[0m\u001b[1;33m)\u001b[0m\u001b[1;33m\u001b[0m\u001b[1;33m\u001b[0m\u001b[0m\n",
      "\u001b[1;31mValueError\u001b[0m: invalid literal for int() with base 10: '50 00'"
     ]
    }
   ],
   "source": [
    "num = \"50 00\"\n",
    "print(f\"The Number = {num} and The Data Type = {type(num)}\")\n",
    "print()\n",
    "print(\"*\"*60)\n",
    "print()\n",
    "num = int(num)\n",
    "print(f\"The Number = {num} and The Data Type = {type(num)}\")"
   ]
  },
  {
   "cell_type": "code",
   "execution_count": 58,
   "id": "121a6ec2",
   "metadata": {},
   "outputs": [
    {
     "name": "stdout",
     "output_type": "stream",
     "text": [
      "The Number = 50 - and The Data Type = <class 'str'>\n",
      "\n",
      "************************************************************\n",
      "\n"
     ]
    },
    {
     "ename": "ValueError",
     "evalue": "invalid literal for int() with base 10: '50 -'",
     "output_type": "error",
     "traceback": [
      "\u001b[1;31m---------------------------------------------------------------------------\u001b[0m",
      "\u001b[1;31mValueError\u001b[0m                                Traceback (most recent call last)",
      "\u001b[1;32m~\\AppData\\Local\\Temp/ipykernel_11036/3453249149.py\u001b[0m in \u001b[0;36m<module>\u001b[1;34m\u001b[0m\n\u001b[0;32m      4\u001b[0m \u001b[0mprint\u001b[0m\u001b[1;33m(\u001b[0m\u001b[1;34m\"*\"\u001b[0m\u001b[1;33m*\u001b[0m\u001b[1;36m60\u001b[0m\u001b[1;33m)\u001b[0m\u001b[1;33m\u001b[0m\u001b[1;33m\u001b[0m\u001b[0m\n\u001b[0;32m      5\u001b[0m \u001b[0mprint\u001b[0m\u001b[1;33m(\u001b[0m\u001b[1;33m)\u001b[0m\u001b[1;33m\u001b[0m\u001b[1;33m\u001b[0m\u001b[0m\n\u001b[1;32m----> 6\u001b[1;33m \u001b[0mnum\u001b[0m \u001b[1;33m=\u001b[0m \u001b[0mint\u001b[0m\u001b[1;33m(\u001b[0m\u001b[0mnum\u001b[0m\u001b[1;33m)\u001b[0m\u001b[1;33m\u001b[0m\u001b[1;33m\u001b[0m\u001b[0m\n\u001b[0m\u001b[0;32m      7\u001b[0m \u001b[0mprint\u001b[0m\u001b[1;33m(\u001b[0m\u001b[1;34mf\"The Number = {num} and The Data Type = {type(num)}\"\u001b[0m\u001b[1;33m)\u001b[0m\u001b[1;33m\u001b[0m\u001b[1;33m\u001b[0m\u001b[0m\n",
      "\u001b[1;31mValueError\u001b[0m: invalid literal for int() with base 10: '50 -'"
     ]
    }
   ],
   "source": [
    "num = \"50 -\"\n",
    "print(f\"The Number = {num} and The Data Type = {type(num)}\")\n",
    "print()\n",
    "print(\"*\"*60)\n",
    "print()\n",
    "num = int(num)\n",
    "print(f\"The Number = {num} and The Data Type = {type(num)}\")"
   ]
  },
  {
   "cell_type": "code",
   "execution_count": 59,
   "id": "355bce67",
   "metadata": {},
   "outputs": [
    {
     "name": "stdout",
     "output_type": "stream",
     "text": [
      "The Number =  500  and The Data Type = <class 'str'>\n",
      "\n",
      "************************************************************\n",
      "\n",
      "The Number = 500 and The Data Type = <class 'int'>\n"
     ]
    }
   ],
   "source": [
    "num = \" 500 \"\n",
    "print(f\"The Number = {num} and The Data Type = {type(num)}\")\n",
    "print()\n",
    "print(\"*\"*60)\n",
    "print()\n",
    "num = int(num)\n",
    "print(f\"The Number = {num} and The Data Type = {type(num)}\")"
   ]
  },
  {
   "cell_type": "code",
   "execution_count": 60,
   "id": "75fe7c78",
   "metadata": {
    "scrolled": true
   },
   "outputs": [
    {
     "name": "stdout",
     "output_type": "stream",
     "text": [
      "The Number =                500 and The Data Type = <class 'str'>\n",
      "\n",
      "************************************************************\n",
      "\n",
      "The Number = 500 and The Data Type = <class 'int'>\n"
     ]
    }
   ],
   "source": [
    "num = \"               500\"\n",
    "print(f\"The Number = {num} and The Data Type = {type(num)}\")\n",
    "print()\n",
    "print(\"*\"*60)\n",
    "print()\n",
    "num = int(num)\n",
    "print(f\"The Number = {num} and The Data Type = {type(num)}\")"
   ]
  },
  {
   "cell_type": "markdown",
   "id": "dd68714c",
   "metadata": {},
   "source": [
    "### 10. string to float"
   ]
  },
  {
   "cell_type": "code",
   "execution_count": 61,
   "id": "8b6a3689",
   "metadata": {},
   "outputs": [
    {
     "name": "stdout",
     "output_type": "stream",
     "text": [
      "The Number = 500 and The Data Type = <class 'str'>\n",
      "\n",
      "************************************************************\n",
      "\n",
      "The Number = 500.0 and The Data Type = <class 'float'>\n"
     ]
    }
   ],
   "source": [
    "num = \"500\"\n",
    "print(f\"The Number = {num} and The Data Type = {type(num)}\")\n",
    "print()\n",
    "print(\"*\"*60)\n",
    "print()\n",
    "num = float(num)\n",
    "print(f\"The Number = {num} and The Data Type = {type(num)}\")"
   ]
  },
  {
   "cell_type": "code",
   "execution_count": 9,
   "id": "eb3b22cd",
   "metadata": {},
   "outputs": [
    {
     "data": {
      "text/plain": [
       "\"Python is a high-level, interpreted, general-purpose 1'st2'nd programming language.\""
      ]
     },
     "execution_count": 9,
     "metadata": {},
     "output_type": "execute_result"
    }
   ],
   "source": [
    "string1 = \"Python is a high-level, interpreted, general-purpose 1'st2'nd programming language.\"\n",
    "string1"
   ]
  }
 ],
 "metadata": {
  "kernelspec": {
   "display_name": "Python 3 (ipykernel)",
   "language": "python",
   "name": "python3"
  },
  "language_info": {
   "codemirror_mode": {
    "name": "ipython",
    "version": 3
   },
   "file_extension": ".py",
   "mimetype": "text/x-python",
   "name": "python",
   "nbconvert_exporter": "python",
   "pygments_lexer": "ipython3",
   "version": "3.12.4"
  }
 },
 "nbformat": 4,
 "nbformat_minor": 5
}
