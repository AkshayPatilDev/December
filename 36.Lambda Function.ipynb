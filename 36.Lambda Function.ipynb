{
 "cells": [
  {
   "cell_type": "markdown",
   "id": "eea51fe7",
   "metadata": {},
   "source": [
    "# Lambda Function\n",
    "- An annonymous function(a function without name)\n",
    "- lambda keyword will be used to define lambda function.\n",
    "- No need of return statement in lambda function\n",
    "- takes multiple arguments but only one expression\n",
    "- Work:-\n",
    "    - The expression is evaluated and result will be returned\n",
    "- Lambda function can be defined whenever u reqire to execute a short period function\n",
    "- Higher-order function :- if a function is taking another function as an argument"
   ]
  },
  {
   "cell_type": "markdown",
   "id": "55cba298",
   "metadata": {},
   "source": [
    "## Syntax"
   ]
  },
  {
   "cell_type": "raw",
   "id": "bfa6b5db",
   "metadata": {},
   "source": [
    "lambda arguments : expression\n",
    "        Multiple    One"
   ]
  },
  {
   "cell_type": "code",
   "execution_count": 3,
   "id": "5b175e7c",
   "metadata": {},
   "outputs": [
    {
     "data": {
      "text/plain": [
       "10"
      ]
     },
     "execution_count": 3,
     "metadata": {},
     "output_type": "execute_result"
    }
   ],
   "source": [
    "def addition(a,b,c,d):\n",
    "    return a+b+c+d\n",
    "\n",
    "addition(1,2,3,4)"
   ]
  },
  {
   "cell_type": "code",
   "execution_count": 4,
   "id": "228747fa",
   "metadata": {},
   "outputs": [
    {
     "data": {
      "text/plain": [
       "26"
      ]
     },
     "execution_count": 4,
     "metadata": {},
     "output_type": "execute_result"
    }
   ],
   "source": [
    "addition(5,6,7,8)"
   ]
  },
  {
   "cell_type": "code",
   "execution_count": 6,
   "id": "5b3f8ce2",
   "metadata": {},
   "outputs": [
    {
     "data": {
      "text/plain": [
       "<function __main__.<lambda>(a, b, c, d)>"
      ]
     },
     "execution_count": 6,
     "metadata": {},
     "output_type": "execute_result"
    }
   ],
   "source": [
    "add1 = lambda a,b,c,d : a+b+c+d\n",
    "add1"
   ]
  },
  {
   "cell_type": "code",
   "execution_count": 7,
   "id": "fc216d85",
   "metadata": {},
   "outputs": [
    {
     "data": {
      "text/plain": [
       "10"
      ]
     },
     "execution_count": 7,
     "metadata": {},
     "output_type": "execute_result"
    }
   ],
   "source": [
    "add1(1,2,3,4)"
   ]
  },
  {
   "cell_type": "code",
   "execution_count": 8,
   "id": "7f33915a",
   "metadata": {},
   "outputs": [
    {
     "data": {
      "text/plain": [
       "26"
      ]
     },
     "execution_count": 8,
     "metadata": {},
     "output_type": "execute_result"
    }
   ],
   "source": [
    "add1(5,6,7,8)"
   ]
  },
  {
   "cell_type": "code",
   "execution_count": 9,
   "id": "21b6b988",
   "metadata": {},
   "outputs": [
    {
     "data": {
      "text/plain": [
       "5"
      ]
     },
     "execution_count": 9,
     "metadata": {},
     "output_type": "execute_result"
    }
   ],
   "source": [
    "sub1 = lambda a,b : a-b\n",
    "sub1(10,5)"
   ]
  },
  {
   "cell_type": "code",
   "execution_count": 11,
   "id": "e9db0679",
   "metadata": {},
   "outputs": [
    {
     "data": {
      "text/plain": [
       "50"
      ]
     },
     "execution_count": 11,
     "metadata": {},
     "output_type": "execute_result"
    }
   ],
   "source": [
    "sub1(100,50)"
   ]
  },
  {
   "cell_type": "code",
   "execution_count": 12,
   "id": "d9c2adcd",
   "metadata": {},
   "outputs": [
    {
     "data": {
      "text/plain": [
       "50"
      ]
     },
     "execution_count": 12,
     "metadata": {},
     "output_type": "execute_result"
    }
   ],
   "source": [
    "mul1 = lambda x,y :x*y\n",
    "mul1(5,10)"
   ]
  },
  {
   "cell_type": "code",
   "execution_count": 13,
   "id": "3f9783f3",
   "metadata": {},
   "outputs": [
    {
     "data": {
      "text/plain": [
       "200"
      ]
     },
     "execution_count": 13,
     "metadata": {},
     "output_type": "execute_result"
    }
   ],
   "source": [
    "mul1(100,2)"
   ]
  },
  {
   "cell_type": "code",
   "execution_count": 16,
   "id": "db905b95",
   "metadata": {},
   "outputs": [
    {
     "data": {
      "text/plain": [
       "'amol.indore@gmail.com'"
      ]
     },
     "execution_count": 16,
     "metadata": {},
     "output_type": "execute_result"
    }
   ],
   "source": [
    "def get_mailID(fname,lname,):\n",
    "    return fname.lower()+ \".\" + lname.lower()+ \"@gmail.com\"\n",
    "\n",
    "get_mailID(\"Amol\",\"Indore\")"
   ]
  },
  {
   "cell_type": "code",
   "execution_count": 17,
   "id": "12f6bac7",
   "metadata": {},
   "outputs": [
    {
     "data": {
      "text/plain": [
       "'mohit.avtade@gmail.com'"
      ]
     },
     "execution_count": 17,
     "metadata": {},
     "output_type": "execute_result"
    }
   ],
   "source": [
    "get_mailID = lambda fname,lname : fname.lower()+\".\"+lname.lower()+\"@gmail.com\"\n",
    "get_mailID(\"Mohit\",\"Avtade\")"
   ]
  },
  {
   "cell_type": "code",
   "execution_count": 18,
   "id": "7e999a44",
   "metadata": {},
   "outputs": [
    {
     "data": {
      "text/plain": [
       "'MOHIT'"
      ]
     },
     "execution_count": 18,
     "metadata": {},
     "output_type": "execute_result"
    }
   ],
   "source": [
    "get_upper = lambda str1 : str1.upper()\n",
    "get_upper(\"mohit\")"
   ]
  },
  {
   "cell_type": "code",
   "execution_count": 19,
   "id": "e8318919",
   "metadata": {},
   "outputs": [
    {
     "data": {
      "text/plain": [
       "False"
      ]
     },
     "execution_count": 19,
     "metadata": {},
     "output_type": "execute_result"
    }
   ],
   "source": [
    "x = 5\n",
    "x % 2 ==0"
   ]
  },
  {
   "cell_type": "code",
   "execution_count": 20,
   "id": "fff60120",
   "metadata": {},
   "outputs": [
    {
     "data": {
      "text/plain": [
       "True"
      ]
     },
     "execution_count": 20,
     "metadata": {},
     "output_type": "execute_result"
    }
   ],
   "source": [
    "check_even = lambda x : x % 2 ==0\n",
    "check_even(10)"
   ]
  },
  {
   "cell_type": "code",
   "execution_count": 21,
   "id": "b66959ab",
   "metadata": {},
   "outputs": [
    {
     "data": {
      "text/plain": [
       "False"
      ]
     },
     "execution_count": 21,
     "metadata": {},
     "output_type": "execute_result"
    }
   ],
   "source": [
    "(lambda x : x % 2 ==0)(15)"
   ]
  },
  {
   "cell_type": "code",
   "execution_count": 22,
   "id": "35f6840b",
   "metadata": {},
   "outputs": [
    {
     "data": {
      "text/plain": [
       "True"
      ]
     },
     "execution_count": 22,
     "metadata": {},
     "output_type": "execute_result"
    }
   ],
   "source": [
    "(lambda x : x % 2 ==0)(16)"
   ]
  },
  {
   "cell_type": "code",
   "execution_count": 23,
   "id": "e1fe5521",
   "metadata": {},
   "outputs": [
    {
     "name": "stdout",
     "output_type": "stream",
     "text": [
      "8\n",
      "27\n"
     ]
    }
   ],
   "source": [
    "cube = lambda x : x **3\n",
    "print(cube(2))\n",
    "print(cube(3))"
   ]
  },
  {
   "cell_type": "code",
   "execution_count": 24,
   "id": "5c5e1754",
   "metadata": {},
   "outputs": [
    {
     "name": "stdout",
     "output_type": "stream",
     "text": [
      "2.0\n",
      "20.0\n"
     ]
    }
   ],
   "source": [
    "avg = lambda x,y,z : (x+y+z)/3\n",
    "print(avg(1,2,3))\n",
    "print(avg(10,20,30))"
   ]
  },
  {
   "cell_type": "code",
   "execution_count": 25,
   "id": "8089f1ea",
   "metadata": {},
   "outputs": [
    {
     "ename": "TypeError",
     "evalue": "<lambda>() missing 1 required positional argument: 'z'",
     "output_type": "error",
     "traceback": [
      "\u001b[1;31m---------------------------------------------------------------------------\u001b[0m",
      "\u001b[1;31mTypeError\u001b[0m                                 Traceback (most recent call last)",
      "\u001b[1;32m~\\AppData\\Local\\Temp/ipykernel_8860/145186835.py\u001b[0m in \u001b[0;36m<module>\u001b[1;34m\u001b[0m\n\u001b[1;32m----> 1\u001b[1;33m \u001b[0mavg\u001b[0m\u001b[1;33m(\u001b[0m\u001b[1;36m1\u001b[0m\u001b[1;33m,\u001b[0m\u001b[1;36m2\u001b[0m\u001b[1;33m)\u001b[0m\u001b[1;33m\u001b[0m\u001b[1;33m\u001b[0m\u001b[0m\n\u001b[0m",
      "\u001b[1;31mTypeError\u001b[0m: <lambda>() missing 1 required positional argument: 'z'"
     ]
    }
   ],
   "source": [
    "avg(1,2)"
   ]
  },
  {
   "cell_type": "code",
   "execution_count": 26,
   "id": "5b1cd955",
   "metadata": {},
   "outputs": [
    {
     "ename": "TypeError",
     "evalue": "<lambda>() takes 2 positional arguments but 3 were given",
     "output_type": "error",
     "traceback": [
      "\u001b[1;31m---------------------------------------------------------------------------\u001b[0m",
      "\u001b[1;31mTypeError\u001b[0m                                 Traceback (most recent call last)",
      "\u001b[1;32m~\\AppData\\Local\\Temp/ipykernel_8860/1643437147.py\u001b[0m in \u001b[0;36m<module>\u001b[1;34m\u001b[0m\n\u001b[0;32m      1\u001b[0m \u001b[0mavg\u001b[0m \u001b[1;33m=\u001b[0m \u001b[1;32mlambda\u001b[0m \u001b[0mx\u001b[0m\u001b[1;33m,\u001b[0m\u001b[0my\u001b[0m \u001b[1;33m:\u001b[0m \u001b[1;33m(\u001b[0m\u001b[0mx\u001b[0m\u001b[1;33m+\u001b[0m\u001b[0my\u001b[0m\u001b[1;33m)\u001b[0m\u001b[1;33m/\u001b[0m\u001b[1;36m2\u001b[0m\u001b[1;33m\u001b[0m\u001b[1;33m\u001b[0m\u001b[0m\n\u001b[1;32m----> 2\u001b[1;33m \u001b[0mprint\u001b[0m\u001b[1;33m(\u001b[0m\u001b[0mavg\u001b[0m\u001b[1;33m(\u001b[0m\u001b[1;36m1\u001b[0m\u001b[1;33m,\u001b[0m\u001b[1;36m2\u001b[0m\u001b[1;33m,\u001b[0m\u001b[1;36m3\u001b[0m\u001b[1;33m)\u001b[0m\u001b[1;33m)\u001b[0m\u001b[1;33m\u001b[0m\u001b[1;33m\u001b[0m\u001b[0m\n\u001b[0m",
      "\u001b[1;31mTypeError\u001b[0m: <lambda>() takes 2 positional arguments but 3 were given"
     ]
    }
   ],
   "source": [
    "avg = lambda x,y : (x+y)/2\n",
    "print(avg(1,2,3))"
   ]
  },
  {
   "cell_type": "code",
   "execution_count": 27,
   "id": "d0c25162",
   "metadata": {},
   "outputs": [
    {
     "data": {
      "text/plain": [
       "6"
      ]
     },
     "execution_count": 27,
     "metadata": {},
     "output_type": "execute_result"
    }
   ],
   "source": [
    "1 * 2\n",
    "2 * 2\n",
    "3 * 2"
   ]
  },
  {
   "cell_type": "code",
   "execution_count": 29,
   "id": "3698baa6",
   "metadata": {},
   "outputs": [
    {
     "name": "stdout",
     "output_type": "stream",
     "text": [
      "2\n",
      "4\n",
      "6\n",
      "8\n",
      "10\n",
      "12\n",
      "14\n",
      "16\n",
      "18\n",
      "20\n"
     ]
    }
   ],
   "source": [
    "for x in range(1,11):\n",
    "    table = lambda x,y = 2 : x * y\n",
    "    print(table(x))"
   ]
  },
  {
   "cell_type": "code",
   "execution_count": 30,
   "id": "4a971180",
   "metadata": {},
   "outputs": [
    {
     "name": "stdout",
     "output_type": "stream",
     "text": [
      "3\n",
      "6\n",
      "9\n",
      "12\n",
      "15\n",
      "18\n",
      "21\n",
      "24\n",
      "27\n",
      "30\n"
     ]
    }
   ],
   "source": [
    "for x in range(1,11):\n",
    "    table = lambda x,y = 2 : x * y\n",
    "    print(table(x,3))"
   ]
  },
  {
   "cell_type": "code",
   "execution_count": 31,
   "id": "170b931b",
   "metadata": {},
   "outputs": [
    {
     "data": {
      "text/plain": [
       "130"
      ]
     },
     "execution_count": 31,
     "metadata": {},
     "output_type": "execute_result"
    }
   ],
   "source": [
    "    add1 = lambda x,y,z = 100 : x+y+z\n",
    "    add1(10,20)"
   ]
  },
  {
   "cell_type": "code",
   "execution_count": 32,
   "id": "0d9409e1",
   "metadata": {},
   "outputs": [
    {
     "ename": "SyntaxError",
     "evalue": "positional argument follows keyword argument (Temp/ipykernel_8860/2460256656.py, line 2)",
     "output_type": "error",
     "traceback": [
      "\u001b[1;36m  File \u001b[1;32m\"C:\\Users\\Mohit\\AppData\\Local\\Temp/ipykernel_8860/2460256656.py\"\u001b[1;36m, line \u001b[1;32m2\u001b[0m\n\u001b[1;33m    add1(x=10,y=20,500)\u001b[0m\n\u001b[1;37m                      ^\u001b[0m\n\u001b[1;31mSyntaxError\u001b[0m\u001b[1;31m:\u001b[0m positional argument follows keyword argument\n"
     ]
    }
   ],
   "source": [
    "add1 = lambda x,y,z = 100 : x+y+z\n",
    "add1(x=10,y=20,500)"
   ]
  },
  {
   "cell_type": "code",
   "execution_count": 33,
   "id": "6edf412e",
   "metadata": {},
   "outputs": [
    {
     "data": {
      "text/plain": [
       "530"
      ]
     },
     "execution_count": 33,
     "metadata": {},
     "output_type": "execute_result"
    }
   ],
   "source": [
    "add1 = lambda x,y,z = 100 : x+y+z\n",
    "add1(x=10,y=20,z=500)"
   ]
  },
  {
   "cell_type": "code",
   "execution_count": 34,
   "id": "46bc402d",
   "metadata": {},
   "outputs": [
    {
     "data": {
      "text/plain": [
       "16"
      ]
     },
     "execution_count": 34,
     "metadata": {},
     "output_type": "execute_result"
    }
   ],
   "source": [
    "add1 = lambda x,y = 5,z = 10 : x+y+z\n",
    "add1(1)"
   ]
  },
  {
   "cell_type": "code",
   "execution_count": 35,
   "id": "41302754",
   "metadata": {},
   "outputs": [
    {
     "data": {
      "text/plain": [
       "65"
      ]
     },
     "execution_count": 35,
     "metadata": {},
     "output_type": "execute_result"
    }
   ],
   "source": [
    "add1 = lambda x,y = 5,z = 10 : x+y+z\n",
    "add1(5,50)"
   ]
  },
  {
   "cell_type": "code",
   "execution_count": 37,
   "id": "82dd4242",
   "metadata": {},
   "outputs": [
    {
     "ename": "SyntaxError",
     "evalue": "non-default argument follows default argument (Temp/ipykernel_8860/2159790612.py, line 1)",
     "output_type": "error",
     "traceback": [
      "\u001b[1;36m  File \u001b[1;32m\"C:\\Users\\Mohit\\AppData\\Local\\Temp/ipykernel_8860/2159790612.py\"\u001b[1;36m, line \u001b[1;32m1\u001b[0m\n\u001b[1;33m    add1 = lambda y = 5,x,z = 10 : x+y+z\u001b[0m\n\u001b[1;37m                         ^\u001b[0m\n\u001b[1;31mSyntaxError\u001b[0m\u001b[1;31m:\u001b[0m non-default argument follows default argument\n"
     ]
    }
   ],
   "source": [
    "add1 = lambda y = 5,x,z = 10 : x+y+z\n",
    "add1(1)"
   ]
  },
  {
   "cell_type": "code",
   "execution_count": 39,
   "id": "fedced10",
   "metadata": {},
   "outputs": [
    {
     "data": {
      "text/plain": [
       "15"
      ]
     },
     "execution_count": 39,
     "metadata": {},
     "output_type": "execute_result"
    }
   ],
   "source": [
    "dummy = lambda x,y,*args : x+y+sum(args)   # x=1, y=2, args=(3,4,5)\n",
    "dummy(1,2,3,4,5)"
   ]
  },
  {
   "cell_type": "code",
   "execution_count": 40,
   "id": "4a70f44c",
   "metadata": {},
   "outputs": [
    {
     "data": {
      "text/plain": [
       "6"
      ]
     },
     "execution_count": 40,
     "metadata": {},
     "output_type": "execute_result"
    }
   ],
   "source": [
    "sum((1,2,3))"
   ]
  },
  {
   "cell_type": "code",
   "execution_count": 41,
   "id": "d04bfb9b",
   "metadata": {},
   "outputs": [
    {
     "data": {
      "text/plain": [
       "9"
      ]
     },
     "execution_count": 41,
     "metadata": {},
     "output_type": "execute_result"
    }
   ],
   "source": [
    "max1 = lambda x :max(x)\n",
    "max1((6,5,8,9,7,5))"
   ]
  },
  {
   "cell_type": "code",
   "execution_count": 42,
   "id": "abf6a07c",
   "metadata": {},
   "outputs": [
    {
     "data": {
      "text/plain": [
       "765"
      ]
     },
     "execution_count": 42,
     "metadata": {},
     "output_type": "execute_result"
    }
   ],
   "source": [
    "max1([88,765,4,3,6])"
   ]
  },
  {
   "cell_type": "code",
   "execution_count": 43,
   "id": "47cfdea9",
   "metadata": {},
   "outputs": [
    {
     "data": {
      "text/plain": [
       "5"
      ]
     },
     "execution_count": 43,
     "metadata": {},
     "output_type": "execute_result"
    }
   ],
   "source": [
    "min1 = lambda x : min(x)\n",
    "min1((6,5,8,9,7,5))"
   ]
  },
  {
   "cell_type": "code",
   "execution_count": 46,
   "id": "76d159a2",
   "metadata": {},
   "outputs": [
    {
     "data": {
      "text/plain": [
       "3"
      ]
     },
     "execution_count": 46,
     "metadata": {},
     "output_type": "execute_result"
    }
   ],
   "source": [
    "min1([88,765,4,3,6])"
   ]
  },
  {
   "cell_type": "code",
   "execution_count": 47,
   "id": "b78ba080",
   "metadata": {},
   "outputs": [
    {
     "data": {
      "text/plain": [
       "dict_keys(['x1', 'x2', 'x3', 'x4', 'x5'])"
      ]
     },
     "execution_count": 47,
     "metadata": {},
     "output_type": "execute_result"
    }
   ],
   "source": [
    "x = lambda **kwargs : kwargs.keys()\n",
    "x(x1 = 1,x2 = 2,x3 = 3,x4 = 4,x5 = 5)"
   ]
  },
  {
   "cell_type": "code",
   "execution_count": 48,
   "id": "8a7106c6",
   "metadata": {},
   "outputs": [
    {
     "data": {
      "text/plain": [
       "dict_values([1, 2, 3, 4, 5])"
      ]
     },
     "execution_count": 48,
     "metadata": {},
     "output_type": "execute_result"
    }
   ],
   "source": [
    "x = lambda **kwargs : kwargs.values()\n",
    "x(x1 = 1,x2 = 2,x3 = 3,x4 = 4,x5 = 5)"
   ]
  },
  {
   "cell_type": "code",
   "execution_count": 49,
   "id": "860e7be1",
   "metadata": {},
   "outputs": [
    {
     "data": {
      "text/plain": [
       "dict_items([('x1', 1), ('x2', 2), ('x3', 3), ('x4', 4), ('x5', 5)])"
      ]
     },
     "execution_count": 49,
     "metadata": {},
     "output_type": "execute_result"
    }
   ],
   "source": [
    "x = lambda **kwargs : kwargs.items()\n",
    "x(x1 = 1,x2 = 2,x3 = 3,x4 = 4,x5 = 5)"
   ]
  },
  {
   "cell_type": "code",
   "execution_count": 50,
   "id": "cf99f89a",
   "metadata": {},
   "outputs": [
    {
     "data": {
      "text/plain": [
       "15"
      ]
     },
     "execution_count": 50,
     "metadata": {},
     "output_type": "execute_result"
    }
   ],
   "source": [
    "x = lambda **kwargs : sum(kwargs.values())\n",
    "x(x1 = 1,x2 = 2,x3 = 3,x4 = 4,x5 = 5)"
   ]
  },
  {
   "cell_type": "code",
   "execution_count": 53,
   "id": "2c090566",
   "metadata": {},
   "outputs": [
    {
     "data": {
      "text/plain": [
       "[9, 16, 25, 36, 49]"
      ]
     },
     "execution_count": 53,
     "metadata": {},
     "output_type": "execute_result"
    }
   ],
   "source": [
    "li1 = [3,4,5,6,7]\n",
    "def get_sq_li(li):\n",
    "    sqr_li = [i **2 for i in li]\n",
    "    return sqr_li\n",
    "\n",
    "get_sq_li([3,4,5,6,7])"
   ]
  },
  {
   "cell_type": "code",
   "execution_count": 64,
   "id": "db48a30e",
   "metadata": {},
   "outputs": [
    {
     "data": {
      "text/plain": [
       "[9, 16, 25, 36, 49]"
      ]
     },
     "execution_count": 64,
     "metadata": {},
     "output_type": "execute_result"
    }
   ],
   "source": [
    "sqr = lambda li : [i ** 2 for i in li]\n",
    "sqr(li1)"
   ]
  },
  {
   "cell_type": "code",
   "execution_count": 65,
   "id": "2c48aab1",
   "metadata": {},
   "outputs": [
    {
     "data": {
      "text/plain": [
       "[100, 400, 900]"
      ]
     },
     "execution_count": 65,
     "metadata": {},
     "output_type": "execute_result"
    }
   ],
   "source": [
    "sqr([10,20,30])"
   ]
  },
  {
   "cell_type": "code",
   "execution_count": 66,
   "id": "65f721e9",
   "metadata": {},
   "outputs": [
    {
     "data": {
      "text/plain": [
       "[100, 400, 900, 1600]"
      ]
     },
     "execution_count": 66,
     "metadata": {},
     "output_type": "execute_result"
    }
   ],
   "source": [
    "get_sq_li([10,20,30,40])"
   ]
  },
  {
   "cell_type": "code",
   "execution_count": 67,
   "id": "1450c6df",
   "metadata": {},
   "outputs": [
    {
     "name": "stdout",
     "output_type": "stream",
     "text": [
      "100 is smaller than 200\n"
     ]
    }
   ],
   "source": [
    "a = 100\n",
    "b = 200\n",
    "if a < b:\n",
    "    print(f\"{a} is smaller than {b}\")\n",
    "else:\n",
    "    print(f\"{a} is greater than {b}\")"
   ]
  },
  {
   "cell_type": "code",
   "execution_count": 68,
   "id": "6c95115b",
   "metadata": {},
   "outputs": [
    {
     "name": "stdout",
     "output_type": "stream",
     "text": [
      "1000 is greater than 200\n"
     ]
    }
   ],
   "source": [
    "a = 1000\n",
    "b = 200\n",
    "if a < b:\n",
    "    print(f\"{a} is smaller than {b}\")\n",
    "else:\n",
    "    print(f\"{a} is greater than {b}\")"
   ]
  },
  {
   "cell_type": "code",
   "execution_count": 71,
   "id": "4f9e053b",
   "metadata": {},
   "outputs": [
    {
     "name": "stdout",
     "output_type": "stream",
     "text": [
      "200 is greater than or equal to 200\n"
     ]
    }
   ],
   "source": [
    "a = 200\n",
    "b = 200\n",
    "if a < b:\n",
    "    print(f\"{a} is smaller than {b}\")\n",
    "else:\n",
    "    print(f\"{a} is greater than or equal to {b}\")"
   ]
  },
  {
   "cell_type": "code",
   "execution_count": 74,
   "id": "c58eecd1",
   "metadata": {},
   "outputs": [
    {
     "name": "stdout",
     "output_type": "stream",
     "text": [
      "200 is greater than or equal to200\n"
     ]
    }
   ],
   "source": [
    "a = 200\n",
    "b = 200\n",
    "def compare(a,b):\n",
    "    if a < b:\n",
    "        print(f\"{a} is smaller than {b}\")\n",
    "    else:\n",
    "        print(f\"{a} is greater than or equal to{b}\")\n",
    "        \n",
    "compare(a,b)"
   ]
  },
  {
   "cell_type": "code",
   "execution_count": 75,
   "id": "4fbb1b43",
   "metadata": {},
   "outputs": [
    {
     "name": "stdout",
     "output_type": "stream",
     "text": [
      "20 is smaller than 200\n"
     ]
    }
   ],
   "source": [
    "a = 20\n",
    "b = 200\n",
    "def compare(a,b):\n",
    "    if a < b:\n",
    "        print(f\"{a} is smaller than {b}\")\n",
    "    else:\n",
    "        print(f\"{a} is greater than or equal to{b}\")\n",
    "        \n",
    "compare(a,b)"
   ]
  },
  {
   "cell_type": "code",
   "execution_count": null,
   "id": "afd6c8f3",
   "metadata": {},
   "outputs": [],
   "source": []
  },
  {
   "cell_type": "code",
   "execution_count": 80,
   "id": "da9119ef",
   "metadata": {},
   "outputs": [
    {
     "name": "stdout",
     "output_type": "stream",
     "text": [
      "200 is greater than or equal to 200\n"
     ]
    }
   ],
   "source": [
    "a = 200\n",
    "b = 200\n",
    "print(f\"{a} is smaller than {b}\") if a < b else print(f\"{a} is greater than or equal to {b}\")"
   ]
  },
  {
   "cell_type": "code",
   "execution_count": 82,
   "id": "96bd5f24",
   "metadata": {},
   "outputs": [],
   "source": [
    "compare = lambda a,b : print(f\"{a} is smaller than {b}\") if a < b else print(f\"{a} is greater than or equal to {b}\")\n"
   ]
  },
  {
   "cell_type": "code",
   "execution_count": 83,
   "id": "c249a211",
   "metadata": {},
   "outputs": [
    {
     "name": "stdout",
     "output_type": "stream",
     "text": [
      "1000 is greater than or equal to 200\n"
     ]
    }
   ],
   "source": [
    "compare(1000,200)"
   ]
  },
  {
   "cell_type": "code",
   "execution_count": 84,
   "id": "42bb9e2a",
   "metadata": {},
   "outputs": [
    {
     "name": "stdout",
     "output_type": "stream",
     "text": [
      "100 is smaller than 200\n"
     ]
    }
   ],
   "source": [
    "compare(100,200)"
   ]
  }
 ],
 "metadata": {
  "kernelspec": {
   "display_name": "Python 3 (ipykernel)",
   "language": "python",
   "name": "python3"
  },
  "language_info": {
   "codemirror_mode": {
    "name": "ipython",
    "version": 3
   },
   "file_extension": ".py",
   "mimetype": "text/x-python",
   "name": "python",
   "nbconvert_exporter": "python",
   "pygments_lexer": "ipython3",
   "version": "3.12.4"
  }
 },
 "nbformat": 4,
 "nbformat_minor": 5
}
