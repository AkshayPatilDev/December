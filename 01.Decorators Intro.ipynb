{
 "cells": [
  {
   "cell_type": "markdown",
   "id": "3d34fe7c",
   "metadata": {},
   "source": [
    "# Decorators\n",
    "- A decorator in python is a function that takes another function as it's parameter(Higher Order Function) and returns yet another function(returning an object)\n",
    "- Decorators can extremely useful as they allow the extension of an existing fucntion,without any modification to the original source code"
   ]
  },
  {
   "cell_type": "code",
   "execution_count": 1,
   "id": "730cf2e4",
   "metadata": {},
   "outputs": [
    {
     "name": "stdout",
     "output_type": "stream",
     "text": [
      "The First Function\n"
     ]
    },
    {
     "data": {
      "text/plain": [
       "'This is the First Return Statetment'"
      ]
     },
     "execution_count": 1,
     "metadata": {},
     "output_type": "execute_result"
    }
   ],
   "source": [
    "def func():\n",
    "    print(\"The First Function\")\n",
    "    return \"This is the First Return Statetment\"\n",
    "\n",
    "func()"
   ]
  },
  {
   "cell_type": "code",
   "execution_count": 2,
   "id": "31478dc2",
   "metadata": {},
   "outputs": [
    {
     "name": "stdout",
     "output_type": "stream",
     "text": [
      "Outer Function\n",
      "Outer Function completed\n"
     ]
    },
    {
     "data": {
      "text/plain": [
       "'Outer return'"
      ]
     },
     "execution_count": 2,
     "metadata": {},
     "output_type": "execute_result"
    }
   ],
   "source": [
    "def outer_function():\n",
    "    print(\"Outer Function\")\n",
    "    \n",
    "    def inner_function():\n",
    "        print(\"Inner Function\")\n",
    "        \n",
    "        return \"Inner Function\"\n",
    "    \n",
    "    print(\"Outer Function completed\")\n",
    "    return\"Outer return\"\n",
    "\n",
    "outer_function()"
   ]
  },
  {
   "cell_type": "code",
   "execution_count": 3,
   "id": "ff31d0a5",
   "metadata": {},
   "outputs": [
    {
     "name": "stdout",
     "output_type": "stream",
     "text": [
      "Outer Function\n",
      "Inner Function\n"
     ]
    },
    {
     "data": {
      "text/plain": [
       "'Outer return'"
      ]
     },
     "execution_count": 3,
     "metadata": {},
     "output_type": "execute_result"
    }
   ],
   "source": [
    "def outer_function():\n",
    "    print(\"Outer Function\")\n",
    "    \n",
    "    def inner_function():\n",
    "        print(\"Inner Function\")\n",
    "        \n",
    "    inner_function()\n",
    "    return\"Outer return\"\n",
    "\n",
    "outer_function()"
   ]
  },
  {
   "cell_type": "code",
   "execution_count": 5,
   "id": "45ceaf9e",
   "metadata": {},
   "outputs": [
    {
     "name": "stdout",
     "output_type": "stream",
     "text": [
      "Outer Function\n",
      "Inner Function\n"
     ]
    }
   ],
   "source": [
    "def outer_function():\n",
    "    print(\"Outer Function\")\n",
    "    \n",
    "    def inner_function():\n",
    "        print(\"Inner Function\")\n",
    "        \n",
    "    \n",
    "    return inner_function()\n",
    "\n",
    "outer_function()"
   ]
  },
  {
   "cell_type": "code",
   "execution_count": 6,
   "id": "1d7b7769",
   "metadata": {},
   "outputs": [
    {
     "name": "stdout",
     "output_type": "stream",
     "text": [
      "Outer Function\n"
     ]
    },
    {
     "data": {
      "text/plain": [
       "<function __main__.outer_function.<locals>.inner_function()>"
      ]
     },
     "execution_count": 6,
     "metadata": {},
     "output_type": "execute_result"
    }
   ],
   "source": [
    "def outer_function():\n",
    "    print(\"Outer Function\")\n",
    "    \n",
    "    def inner_function():\n",
    "        print(\"Inner Function\")\n",
    "        \n",
    "    \n",
    "    return inner_function\n",
    "\n",
    "outer_function()"
   ]
  },
  {
   "cell_type": "code",
   "execution_count": 3,
   "id": "1e3211cc",
   "metadata": {},
   "outputs": [
    {
     "data": {
      "text/plain": [
       "<function __main__.dummy()>"
      ]
     },
     "execution_count": 3,
     "metadata": {},
     "output_type": "execute_result"
    }
   ],
   "source": [
    "def dummy():\n",
    "    return \"Hi\"\n",
    "\n",
    "dummy"
   ]
  },
  {
   "cell_type": "code",
   "execution_count": 8,
   "id": "f0bc4254",
   "metadata": {},
   "outputs": [],
   "source": [
    "def m():\n",
    "    def n():\n",
    "        pass\n",
    "    return n()\n",
    "m()"
   ]
  },
  {
   "cell_type": "code",
   "execution_count": 10,
   "id": "9018e4ac",
   "metadata": {},
   "outputs": [
    {
     "name": "stdout",
     "output_type": "stream",
     "text": [
      "m\n",
      "n\n"
     ]
    }
   ],
   "source": [
    "def m():\n",
    "    print(\"m\")\n",
    "    def n():\n",
    "        print(\"n\")\n",
    "    return n()  #n\n",
    "m()"
   ]
  },
  {
   "cell_type": "code",
   "execution_count": 11,
   "id": "47dc64b4",
   "metadata": {},
   "outputs": [
    {
     "name": "stdout",
     "output_type": "stream",
     "text": [
      "m\n"
     ]
    },
    {
     "data": {
      "text/plain": [
       "<function __main__.m.<locals>.n()>"
      ]
     },
     "execution_count": 11,
     "metadata": {},
     "output_type": "execute_result"
    }
   ],
   "source": [
    "def m():\n",
    "    print(\"m\")\n",
    "    def n():\n",
    "        print(\"n\")\n",
    "    return n  \n",
    "m()"
   ]
  },
  {
   "cell_type": "code",
   "execution_count": 5,
   "id": "5655f19c",
   "metadata": {},
   "outputs": [
    {
     "name": "stdout",
     "output_type": "stream",
     "text": [
      "m\n"
     ]
    },
    {
     "data": {
      "text/plain": [
       "<function __main__.m.<locals>.n()>"
      ]
     },
     "execution_count": 5,
     "metadata": {},
     "output_type": "execute_result"
    }
   ],
   "source": [
    "def m():\n",
    "    print(\"m\")\n",
    "    def n():\n",
    "        print(\"n\")\n",
    "    return n  \n",
    "\n",
    "N = m()\n",
    "N"
   ]
  },
  {
   "cell_type": "code",
   "execution_count": 13,
   "id": "3b8284f5",
   "metadata": {},
   "outputs": [
    {
     "name": "stdout",
     "output_type": "stream",
     "text": [
      "n\n"
     ]
    }
   ],
   "source": [
    "N()"
   ]
  },
  {
   "cell_type": "code",
   "execution_count": 14,
   "id": "cb8b3bfd",
   "metadata": {},
   "outputs": [
    {
     "data": {
      "text/plain": [
       "<function __main__.<lambda>(n, m)>"
      ]
     },
     "execution_count": 14,
     "metadata": {},
     "output_type": "execute_result"
    }
   ],
   "source": [
    "x = lambda n,m: n + m\n",
    "x"
   ]
  },
  {
   "cell_type": "code",
   "execution_count": 15,
   "id": "7fc32a1e",
   "metadata": {},
   "outputs": [
    {
     "data": {
      "text/plain": [
       "11"
      ]
     },
     "execution_count": 15,
     "metadata": {},
     "output_type": "execute_result"
    }
   ],
   "source": [
    "x(5,6)"
   ]
  },
  {
   "cell_type": "code",
   "execution_count": 16,
   "id": "90a17ef9",
   "metadata": {},
   "outputs": [
    {
     "name": "stdout",
     "output_type": "stream",
     "text": [
      "Outer Function\n"
     ]
    },
    {
     "data": {
      "text/plain": [
       "<function __main__.outer_function.<locals>.inner_function()>"
      ]
     },
     "execution_count": 16,
     "metadata": {},
     "output_type": "execute_result"
    }
   ],
   "source": [
    "def outer_function():\n",
    "    print(\"Outer Function\")\n",
    "    \n",
    "    def inner_function():\n",
    "        print(\"Inner Function\")\n",
    "        \n",
    "    \n",
    "    return inner_function\n",
    "\n",
    "outer_function()"
   ]
  },
  {
   "cell_type": "code",
   "execution_count": 17,
   "id": "33cd79ed",
   "metadata": {},
   "outputs": [
    {
     "name": "stdout",
     "output_type": "stream",
     "text": [
      "Outer Function\n"
     ]
    },
    {
     "data": {
      "text/plain": [
       "<function __main__.outer_function.<locals>.inner_function()>"
      ]
     },
     "execution_count": 17,
     "metadata": {},
     "output_type": "execute_result"
    }
   ],
   "source": [
    "def outer_function():\n",
    "    print(\"Outer Function\")\n",
    "    \n",
    "    def inner_function():\n",
    "        print(\"Inner Function\")\n",
    "        \n",
    "    \n",
    "    return inner_function\n",
    "\n",
    "fun_obj = outer_function()\n",
    "fun_obj"
   ]
  },
  {
   "cell_type": "code",
   "execution_count": 18,
   "id": "73e5209e",
   "metadata": {},
   "outputs": [
    {
     "name": "stdout",
     "output_type": "stream",
     "text": [
      "Inner Function\n"
     ]
    }
   ],
   "source": [
    "fun_obj()"
   ]
  },
  {
   "cell_type": "code",
   "execution_count": 19,
   "id": "a311ec7f",
   "metadata": {},
   "outputs": [
    {
     "name": "stdout",
     "output_type": "stream",
     "text": [
      "Outer Function\n"
     ]
    },
    {
     "data": {
      "text/plain": [
       "<function __main__.outer_function.<locals>.inner_function(default_val='Python')>"
      ]
     },
     "execution_count": 19,
     "metadata": {},
     "output_type": "execute_result"
    }
   ],
   "source": [
    "def outer_function():\n",
    "    print(\"Outer Function\")\n",
    "    \n",
    "    def inner_function(default_val = \"Python\"):\n",
    "        print(f\"The default value is --->{default_val} \")\n",
    "        print(\"Inner Function\")\n",
    "        \n",
    "        \n",
    "    \n",
    "    return inner_function\n",
    "\n",
    "fun_obj = outer_function()\n",
    "fun_obj"
   ]
  },
  {
   "cell_type": "code",
   "execution_count": 20,
   "id": "0a5eb3b2",
   "metadata": {},
   "outputs": [
    {
     "name": "stdout",
     "output_type": "stream",
     "text": [
      "The default value is --->Python \n",
      "Inner Function\n"
     ]
    }
   ],
   "source": [
    "fun_obj()"
   ]
  },
  {
   "cell_type": "code",
   "execution_count": 21,
   "id": "d3535daa",
   "metadata": {},
   "outputs": [
    {
     "name": "stdout",
     "output_type": "stream",
     "text": [
      "The default value is --->R \n",
      "Inner Function\n"
     ]
    }
   ],
   "source": [
    "def inner_function(default_val = \"Python\"):\n",
    "        print(f\"The default value is --->{default_val} \")\n",
    "        print(\"Inner Function\")\n",
    "        \n",
    "inner_function('R')"
   ]
  },
  {
   "cell_type": "code",
   "execution_count": 22,
   "id": "b47f7794",
   "metadata": {},
   "outputs": [
    {
     "name": "stdout",
     "output_type": "stream",
     "text": [
      "Outer Function\n",
      "Outer Function executed\n"
     ]
    },
    {
     "data": {
      "text/plain": [
       "<function __main__.outer_function.<locals>.inner_function(default_val='Python')>"
      ]
     },
     "execution_count": 22,
     "metadata": {},
     "output_type": "execute_result"
    }
   ],
   "source": [
    "def outer_function():\n",
    "    print(\"Outer Function\")\n",
    "    \n",
    "    def inner_function(default_val = \"Python\"):\n",
    "        print(f\"The default value is --->{default_val} \")\n",
    "        print(\"Inner Function\")\n",
    "        \n",
    "        \n",
    "    print(\"Outer Function executed\")\n",
    "    return inner_function\n",
    "\n",
    "fun_obj = outer_function()\n",
    "fun_obj"
   ]
  },
  {
   "cell_type": "code",
   "execution_count": 23,
   "id": "189b6c19",
   "metadata": {},
   "outputs": [
    {
     "name": "stdout",
     "output_type": "stream",
     "text": [
      "The default value is --->C++ \n",
      "Inner Function\n"
     ]
    }
   ],
   "source": [
    "fun_obj(\"C++\")"
   ]
  }
 ],
 "metadata": {
  "kernelspec": {
   "display_name": "Python 3 (ipykernel)",
   "language": "python",
   "name": "python3"
  },
  "language_info": {
   "codemirror_mode": {
    "name": "ipython",
    "version": 3
   },
   "file_extension": ".py",
   "mimetype": "text/x-python",
   "name": "python",
   "nbconvert_exporter": "python",
   "pygments_lexer": "ipython3",
   "version": "3.12.4"
  }
 },
 "nbformat": 4,
 "nbformat_minor": 5
}
