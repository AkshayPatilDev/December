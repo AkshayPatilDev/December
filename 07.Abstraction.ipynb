{
 "cells": [
  {
   "cell_type": "markdown",
   "id": "b1e423ad",
   "metadata": {},
   "source": [
    "# Abstraction\n",
    "- Blueprint of other class/project\n",
    "    - We cannot create an object of the abstract class\n",
    "    - Abstract class is only used for declaration of methods\n",
    "    - In the abstract class we are not supposed to implement this methods\n",
    "    - @abstractmethod decorator--> used to define abstract method\n",
    "    - The abstract method is child class of ABC(Abstract Base Class)\n",
    "    - It is used to hide the internal functionality of method"
   ]
  },
  {
   "cell_type": "code",
   "execution_count": 1,
   "id": "83025040",
   "metadata": {},
   "outputs": [],
   "source": [
    "class BaseClass:\n",
    "    pass\n",
    "\n",
    "class DerivedClass:\n",
    "    pass\n",
    "\n",
    "obj = BaseClass()\n",
    "obj = DerivedClass()"
   ]
  },
  {
   "cell_type": "code",
   "execution_count": 1,
   "id": "e5f0262b",
   "metadata": {},
   "outputs": [],
   "source": [
    "from abc import ABC,abstractmethod"
   ]
  },
  {
   "cell_type": "code",
   "execution_count": 2,
   "id": "096b710b",
   "metadata": {},
   "outputs": [],
   "source": [
    "class Product():\n",
    "    def login(self):\n",
    "        pass\n",
    "    \n",
    "    def logout(self):\n",
    "        pass\n",
    "    \n",
    "    def signup(self):\n",
    "        pass\n",
    "    \n",
    "    def for_pass(self):\n",
    "        pass\n",
    "    \n",
    "p1 =Product()\n",
    "p1.for_pass()"
   ]
  },
  {
   "cell_type": "code",
   "execution_count": 3,
   "id": "b748db38",
   "metadata": {},
   "outputs": [
    {
     "ename": "TypeError",
     "evalue": "Can't instantiate abstract class Product1 with abstract methods for_pass, login, logout, signup",
     "output_type": "error",
     "traceback": [
      "\u001b[1;31m---------------------------------------------------------------------------\u001b[0m",
      "\u001b[1;31mTypeError\u001b[0m                                 Traceback (most recent call last)",
      "Cell \u001b[1;32mIn [3], line 24\u001b[0m\n\u001b[0;32m     21\u001b[0m     \u001b[38;5;28;01mdef\u001b[39;00m \u001b[38;5;21mmethod2\u001b[39m(\u001b[38;5;28mself\u001b[39m):\n\u001b[0;32m     22\u001b[0m         \u001b[38;5;28;01mpass\u001b[39;00m\n\u001b[1;32m---> 24\u001b[0m p1 \u001b[38;5;241m=\u001b[39m \u001b[43mProduct1\u001b[49m\u001b[43m(\u001b[49m\u001b[43m)\u001b[49m\n\u001b[0;32m     25\u001b[0m p1\u001b[38;5;241m.\u001b[39mfor_pass()\n",
      "\u001b[1;31mTypeError\u001b[0m: Can't instantiate abstract class Product1 with abstract methods for_pass, login, logout, signup"
     ]
    }
   ],
   "source": [
    "class Product1(ABC):\n",
    "    @abstractmethod\n",
    "    def login(self):\n",
    "        pass\n",
    "    \n",
    "    @abstractmethod\n",
    "    def logout(self):\n",
    "        pass\n",
    "    \n",
    "    @abstractmethod\n",
    "    def signup(self):\n",
    "        pass\n",
    "    \n",
    "    @abstractmethod\n",
    "    def for_pass(self):\n",
    "        pass\n",
    "    \n",
    "    def method1(self):\n",
    "        pass\n",
    "    \n",
    "    def method2(self):\n",
    "        pass\n",
    "    \n",
    "p1 = Product1()\n",
    "p1.for_pass()"
   ]
  },
  {
   "cell_type": "code",
   "execution_count": 5,
   "id": "04851748",
   "metadata": {},
   "outputs": [
    {
     "ename": "TypeError",
     "evalue": "Can't instantiate abstract class dev1 with abstract methods for_pass, login, logout, signup",
     "output_type": "error",
     "traceback": [
      "\u001b[1;31m---------------------------------------------------------------------------\u001b[0m",
      "\u001b[1;31mTypeError\u001b[0m                                 Traceback (most recent call last)",
      "Cell \u001b[1;32mIn [5], line 13\u001b[0m\n\u001b[0;32m      9\u001b[0m         \u001b[38;5;28mprint\u001b[39m(\u001b[38;5;124m\"\u001b[39m\u001b[38;5;124mThis is method 13\u001b[39m\u001b[38;5;124m\"\u001b[39m)\n\u001b[0;32m     12\u001b[0m p1 \u001b[38;5;241m=\u001b[39m Product()\n\u001b[1;32m---> 13\u001b[0m d1 \u001b[38;5;241m=\u001b[39m \u001b[43mdev1\u001b[49m\u001b[43m(\u001b[49m\u001b[43m)\u001b[49m\n",
      "\u001b[1;31mTypeError\u001b[0m: Can't instantiate abstract class dev1 with abstract methods for_pass, login, logout, signup"
     ]
    }
   ],
   "source": [
    "class dev1(Product1):\n",
    "    def method11(self):\n",
    "        print(\"This is method 11\")\n",
    "        \n",
    "    def method12(self):\n",
    "        print(\"This is method 12\")\n",
    "        \n",
    "    def method13(self):\n",
    "        print(\"This is method 13\")\n",
    "        \n",
    "\n",
    "# p1 = Product()\n",
    "d1 = dev1()"
   ]
  },
  {
   "cell_type": "code",
   "execution_count": 10,
   "id": "19d7c9e8",
   "metadata": {},
   "outputs": [
    {
     "name": "stdout",
     "output_type": "stream",
     "text": [
      "This is forget password API\n",
      "Process Document API\n",
      "Result API\n"
     ]
    }
   ],
   "source": [
    "class ProjectBlueprint(ABC):    # Abstract Class\n",
    "    @abstractmethod             # Decorator\n",
    "    def registration(self):     # Abstract Method\n",
    "        pass\n",
    "    \n",
    "    @abstractmethod\n",
    "    def login(self):\n",
    "        pass\n",
    "    \n",
    "    @abstractmethod\n",
    "    def forget_pass(self):\n",
    "        pass\n",
    "    \n",
    "    def process_documents(self):  #Normal Method\n",
    "        pass\n",
    "    \n",
    "class ProjectAPI(ProjectBlueprint):\n",
    "    def registration(self):\n",
    "        print(\"This is registration API\")\n",
    "        \n",
    "    def login(self):\n",
    "        print(\"This is login API\")\n",
    "        \n",
    "    def forget_pass(self):\n",
    "        print(\"This is forget password API\")\n",
    "        \n",
    "    def process_documents(self):\n",
    "        print(\"Process Document API\")\n",
    "        \n",
    "    def result(self):\n",
    "        print(\"Result API\")\n",
    "        \n",
    "        \n",
    "# obj1 = ProjectBlueprint()\n",
    "obj1 = ProjectAPI()\n",
    "obj1.forget_pass()\n",
    "obj1.process_documents()\n",
    "obj1.result()"
   ]
  },
  {
   "cell_type": "code",
   "execution_count": 12,
   "id": "66085bad",
   "metadata": {},
   "outputs": [
    {
     "name": "stdout",
     "output_type": "stream",
     "text": [
      "This is login API\n"
     ]
    }
   ],
   "source": [
    "class ProjectBlueprint(ABC):    # Abstract Class\n",
    "    @abstractmethod             # Decorator\n",
    "    def registration(self):     # Abstract Method\n",
    "        pass\n",
    "    \n",
    "    @abstractmethod\n",
    "    def login(self):\n",
    "        pass\n",
    "    \n",
    "    @abstractmethod\n",
    "    def forget_pass(self):\n",
    "        pass\n",
    "    \n",
    "    def process_documents(self):  #Normal Method\n",
    "        pass\n",
    "    \n",
    "class ProjectAPI(ProjectBlueprint):\n",
    "    def registration(self):\n",
    "        print(\"This is registration API\")\n",
    "        \n",
    "    def login(self):\n",
    "        print(\"This is login API\")\n",
    "        \n",
    "    def forget_pass(self):\n",
    "        print(\"This is forget password API\")\n",
    "        \n",
    "#     def process_documents(self):\n",
    "#         print(\"Process Document API\")\n",
    "        \n",
    "#     def result(self):\n",
    "#         print(\"Result API\")\n",
    "        \n",
    "        \n",
    "# obj1 = ProjectBlueprint()\n",
    "obj1 = ProjectAPI()\n",
    "obj1.login()"
   ]
  },
  {
   "cell_type": "code",
   "execution_count": 15,
   "id": "1bbba04e",
   "metadata": {},
   "outputs": [
    {
     "ename": "TypeError",
     "evalue": "Can't instantiate abstract class ProjectAPI with abstract method forget_pass",
     "output_type": "error",
     "traceback": [
      "\u001b[1;31m---------------------------------------------------------------------------\u001b[0m",
      "\u001b[1;31mTypeError\u001b[0m                                 Traceback (most recent call last)",
      "Cell \u001b[1;32mIn [15], line 35\u001b[0m\n\u001b[0;32m     22\u001b[0m         \u001b[38;5;28mprint\u001b[39m(\u001b[38;5;124m\"\u001b[39m\u001b[38;5;124mThis is login API\u001b[39m\u001b[38;5;124m\"\u001b[39m)\n\u001b[0;32m     24\u001b[0m \u001b[38;5;66;03m#     def forget_pass(self):\u001b[39;00m\n\u001b[0;32m     25\u001b[0m \u001b[38;5;66;03m#         print(\"This is forget password API\")\u001b[39;00m\n\u001b[0;32m     26\u001b[0m         \n\u001b[1;32m   (...)\u001b[0m\n\u001b[0;32m     33\u001b[0m         \n\u001b[0;32m     34\u001b[0m \u001b[38;5;66;03m# obj1 = ProjectBlueprint()\u001b[39;00m\n\u001b[1;32m---> 35\u001b[0m obj1 \u001b[38;5;241m=\u001b[39m \u001b[43mProjectAPI\u001b[49m\u001b[43m(\u001b[49m\u001b[43m)\u001b[49m\n\u001b[0;32m     36\u001b[0m obj1\u001b[38;5;241m.\u001b[39mlogin()\n",
      "\u001b[1;31mTypeError\u001b[0m: Can't instantiate abstract class ProjectAPI with abstract method forget_pass"
     ]
    }
   ],
   "source": [
    "class ProjectBlueprint(ABC):    # Abstract Class\n",
    "    @abstractmethod             # Decorator\n",
    "    def registration(self):     # Abstract Method\n",
    "        pass\n",
    "    \n",
    "    @abstractmethod\n",
    "    def login(self):\n",
    "        pass\n",
    "    \n",
    "    @abstractmethod\n",
    "    def forget_pass(self):\n",
    "        pass\n",
    "    \n",
    "    def process_documents(self):  #Normal Method\n",
    "        pass\n",
    "    \n",
    "class ProjectAPI(ProjectBlueprint):\n",
    "    def registration(self):\n",
    "        print(\"This is registration API\")\n",
    "        \n",
    "    def login(self):\n",
    "        print(\"This is login API\")\n",
    "        \n",
    "#     def forget_pass(self):\n",
    "#         print(\"This is forget password API\")\n",
    "        \n",
    "#     def process_documents(self):\n",
    "#         print(\"Process Document API\")\n",
    "        \n",
    "#     def result(self):\n",
    "#         print(\"Result API\")\n",
    "        \n",
    "        \n",
    "# obj1 = ProjectBlueprint()\n",
    "obj1 = ProjectAPI()\n",
    "obj1.login()"
   ]
  },
  {
   "cell_type": "code",
   "execution_count": 17,
   "id": "2b11365e",
   "metadata": {},
   "outputs": [
    {
     "ename": "TypeError",
     "evalue": "Can't instantiate abstract class ProjectAPI with abstract method login",
     "output_type": "error",
     "traceback": [
      "\u001b[1;31m---------------------------------------------------------------------------\u001b[0m",
      "\u001b[1;31mTypeError\u001b[0m                                 Traceback (most recent call last)",
      "Cell \u001b[1;32mIn [17], line 35\u001b[0m\n\u001b[0;32m     25\u001b[0m         \u001b[38;5;28mprint\u001b[39m(\u001b[38;5;124m\"\u001b[39m\u001b[38;5;124mThis is forget password API\u001b[39m\u001b[38;5;124m\"\u001b[39m)\n\u001b[0;32m     27\u001b[0m \u001b[38;5;66;03m#     def process_documents(self):\u001b[39;00m\n\u001b[0;32m     28\u001b[0m \u001b[38;5;66;03m#         print(\"Process Document API\")\u001b[39;00m\n\u001b[0;32m     29\u001b[0m         \n\u001b[1;32m   (...)\u001b[0m\n\u001b[0;32m     33\u001b[0m         \n\u001b[0;32m     34\u001b[0m \u001b[38;5;66;03m# obj1 = ProjectBlueprint()\u001b[39;00m\n\u001b[1;32m---> 35\u001b[0m obj1 \u001b[38;5;241m=\u001b[39m \u001b[43mProjectAPI\u001b[49m\u001b[43m(\u001b[49m\u001b[43m)\u001b[49m\n\u001b[0;32m     36\u001b[0m obj1\u001b[38;5;241m.\u001b[39mforget_pass()\n",
      "\u001b[1;31mTypeError\u001b[0m: Can't instantiate abstract class ProjectAPI with abstract method login"
     ]
    }
   ],
   "source": [
    "class ProjectBlueprint(ABC):    # Abstract Class\n",
    "    @abstractmethod             # Decorator\n",
    "    def registration(self):     # Abstract Method\n",
    "        pass\n",
    "    \n",
    "    @abstractmethod\n",
    "    def login(self):\n",
    "        pass\n",
    "    \n",
    "    @abstractmethod\n",
    "    def forget_pass(self):\n",
    "        pass\n",
    "    \n",
    "    def process_documents(self):  #Normal Method\n",
    "        pass\n",
    "    \n",
    "class ProjectAPI(ProjectBlueprint):\n",
    "    def registration(self):\n",
    "        print(\"This is registration API\")\n",
    "        \n",
    "#     def login(self):\n",
    "#         print(\"This is login API\")\n",
    "        \n",
    "    def forget_pass(self):\n",
    "        print(\"This is forget password API\")\n",
    "        \n",
    "#     def process_documents(self):\n",
    "#         print(\"Process Document API\")\n",
    "        \n",
    "#     def result(self):\n",
    "#         print(\"Result API\")\n",
    "        \n",
    "        \n",
    "# obj1 = ProjectBlueprint()\n",
    "obj1 = ProjectAPI()\n",
    "obj1.forget_pass()"
   ]
  },
  {
   "cell_type": "code",
   "execution_count": 18,
   "id": "ec22c486",
   "metadata": {},
   "outputs": [
    {
     "name": "stdout",
     "output_type": "stream",
     "text": [
      "This is forget password API\n"
     ]
    }
   ],
   "source": [
    "class ProjectBlueprint(ABC):    # Abstract Class\n",
    "    @abstractmethod             # Decorator\n",
    "    def registration(self):     # Abstract Method\n",
    "        pass\n",
    "    \n",
    "    @abstractmethod\n",
    "    def login(self):\n",
    "        pass\n",
    "    \n",
    "    @abstractmethod\n",
    "    def forget_pass(self):\n",
    "        pass\n",
    "    \n",
    "    def process_documents(self):  #Normal Method\n",
    "        pass\n",
    "    \n",
    "class ProjectAPI(ProjectBlueprint):\n",
    "    def registration(self):\n",
    "        print(\"This is registration API\")\n",
    "        \n",
    "    def login(self):\n",
    "        print(\"This is login API\")\n",
    "        \n",
    "    def forget_pass(self):\n",
    "        print(\"This is forget password API\")\n",
    "        \n",
    "#     def process_documents(self):\n",
    "#         print(\"Process Document API\")\n",
    "        \n",
    "#     def result(self):\n",
    "#         print(\"Result API\")\n",
    "        \n",
    "        \n",
    "# obj1 = ProjectBlueprint()\n",
    "obj1 = ProjectAPI()\n",
    "obj1.forget_pass()"
   ]
  },
  {
   "cell_type": "code",
   "execution_count": 20,
   "id": "b61b7353",
   "metadata": {},
   "outputs": [
    {
     "ename": "TypeError",
     "evalue": "Can't instantiate abstract class Cube with abstract method area",
     "output_type": "error",
     "traceback": [
      "\u001b[1;31m---------------------------------------------------------------------------\u001b[0m",
      "\u001b[1;31mTypeError\u001b[0m                                 Traceback (most recent call last)",
      "Cell \u001b[1;32mIn [20], line 20\u001b[0m\n\u001b[0;32m     16\u001b[0m         val \u001b[38;5;241m=\u001b[39m \u001b[38;5;28mself\u001b[39m\u001b[38;5;241m.\u001b[39mside \u001b[38;5;241m*\u001b[39m\u001b[38;5;241m*\u001b[39m \u001b[38;5;241m3\u001b[39m\n\u001b[0;32m     17\u001b[0m         \u001b[38;5;28mprint\u001b[39m(\u001b[38;5;124mf\u001b[39m\u001b[38;5;124m\"\u001b[39m\u001b[38;5;124mThe volume of a cube = \u001b[39m\u001b[38;5;132;01m{\u001b[39;00mval\u001b[38;5;132;01m}\u001b[39;00m\u001b[38;5;124m\"\u001b[39m)\n\u001b[1;32m---> 20\u001b[0m c1 \u001b[38;5;241m=\u001b[39m \u001b[43mCube\u001b[49m\u001b[43m(\u001b[49m\u001b[38;5;241;43m5\u001b[39;49m\u001b[43m)\u001b[49m\n\u001b[0;32m     21\u001b[0m c1\u001b[38;5;241m.\u001b[39mvolume()\n",
      "\u001b[1;31mTypeError\u001b[0m: Can't instantiate abstract class Cube with abstract method area"
     ]
    }
   ],
   "source": [
    "class Shape(ABC):\n",
    "    @abstractmethod\n",
    "    def volume(self):\n",
    "        pass\n",
    "    \n",
    "    @abstractmethod\n",
    "    def area(self):\n",
    "        pass\n",
    "    \n",
    "class Cube(Shape):\n",
    "    def __init__(self,side):\n",
    "        print(\"Cube __init_ method\")\n",
    "        self.side = side\n",
    "        \n",
    "    def volume(self):\n",
    "        val = self.side ** 3\n",
    "        print(f\"The volume of a cube = {val}\")\n",
    "        \n",
    "        \n",
    "c1 = Cube(5)\n",
    "c1.volume()"
   ]
  },
  {
   "cell_type": "code",
   "execution_count": 22,
   "id": "44029b41",
   "metadata": {},
   "outputs": [
    {
     "name": "stdout",
     "output_type": "stream",
     "text": [
      "Cube __init_ method\n",
      "The volume of a cube = 125\n",
      "The Area of a cube = 150\n"
     ]
    }
   ],
   "source": [
    "class Shape(ABC):\n",
    "    @abstractmethod\n",
    "    def volume(self):\n",
    "        pass\n",
    "    \n",
    "    @abstractmethod\n",
    "    def area(self):\n",
    "        pass\n",
    "    \n",
    "class Cube(Shape):\n",
    "    def __init__(self,side):\n",
    "        print(\"Cube __init_ method\")\n",
    "        self.side = side\n",
    "        \n",
    "    def volume(self):\n",
    "        val = self.side ** 3\n",
    "        print(f\"The volume of a cube = {val}\")\n",
    "        \n",
    "    def area(self):\n",
    "        area_cube = self.side * self.side * 6\n",
    "        print(f\"The Area of a cube = {area_cube}\")\n",
    "        \n",
    "c1 = Cube(5)\n",
    "c1.volume()\n",
    "c1.area()"
   ]
  },
  {
   "cell_type": "code",
   "execution_count": 23,
   "id": "b6600251",
   "metadata": {},
   "outputs": [
    {
     "name": "stdout",
     "output_type": "stream",
     "text": [
      "Cube __init_ method\n",
      "The volume of a cube = 125\n",
      "The Area of a cube = 150\n",
      "The side of a cube = 5\n"
     ]
    }
   ],
   "source": [
    "class Shape(ABC):\n",
    "    @abstractmethod\n",
    "    def volume(self):\n",
    "        pass\n",
    "    \n",
    "    @abstractmethod\n",
    "    def area(self):\n",
    "        pass\n",
    "    \n",
    "class Cube(Shape):\n",
    "    def __init__(self,side):\n",
    "        print(\"Cube __init_ method\")\n",
    "        self.side = side\n",
    "        \n",
    "    def volume(self):\n",
    "        val = self.side ** 3\n",
    "        print(f\"The volume of a cube = {val}\")\n",
    "        \n",
    "    def area(self):\n",
    "        area_cube = self.side * self.side * 6\n",
    "        print(f\"The Area of a cube = {area_cube}\")\n",
    "        \n",
    "    def print_side(self):\n",
    "        print(f\"The side of a cube = {self.side}\")\n",
    "        \n",
    "c1 = Cube(5)\n",
    "c1.volume()\n",
    "c1.area()\n",
    "c1.print_side()"
   ]
  },
  {
   "cell_type": "code",
   "execution_count": 24,
   "id": "d8e1f688",
   "metadata": {},
   "outputs": [
    {
     "ename": "TypeError",
     "evalue": "Can't instantiate abstract class Cube with abstract method area",
     "output_type": "error",
     "traceback": [
      "\u001b[1;31m---------------------------------------------------------------------------\u001b[0m",
      "\u001b[1;31mTypeError\u001b[0m                                 Traceback (most recent call last)",
      "Cell \u001b[1;32mIn [24], line 26\u001b[0m\n\u001b[0;32m     23\u001b[0m     \u001b[38;5;28;01mdef\u001b[39;00m \u001b[38;5;21mprint_side\u001b[39m(\u001b[38;5;28mself\u001b[39m):\n\u001b[0;32m     24\u001b[0m         \u001b[38;5;28mprint\u001b[39m(\u001b[38;5;124mf\u001b[39m\u001b[38;5;124m\"\u001b[39m\u001b[38;5;124mThe side of a cube = \u001b[39m\u001b[38;5;132;01m{\u001b[39;00m\u001b[38;5;28mself\u001b[39m\u001b[38;5;241m.\u001b[39mside\u001b[38;5;132;01m}\u001b[39;00m\u001b[38;5;124m\"\u001b[39m)\n\u001b[1;32m---> 26\u001b[0m c1 \u001b[38;5;241m=\u001b[39m \u001b[43mCube\u001b[49m\u001b[43m(\u001b[49m\u001b[38;5;241;43m5\u001b[39;49m\u001b[43m)\u001b[49m\n\u001b[0;32m     27\u001b[0m c1\u001b[38;5;241m.\u001b[39mvolume()\n\u001b[0;32m     28\u001b[0m c1\u001b[38;5;241m.\u001b[39marea()\n",
      "\u001b[1;31mTypeError\u001b[0m: Can't instantiate abstract class Cube with abstract method area"
     ]
    }
   ],
   "source": [
    "class Shape(ABC):\n",
    "    @abstractmethod\n",
    "    def volume(self):\n",
    "        pass\n",
    "    \n",
    "    @abstractmethod\n",
    "    def area(self):\n",
    "        pass\n",
    "    \n",
    "class Cube(Shape):\n",
    "    def __init__(self,side):\n",
    "        print(\"Cube __init_ method\")\n",
    "        self.side = side\n",
    "        \n",
    "    def volume(self):\n",
    "        val = self.side ** 3\n",
    "        print(f\"The volume of a cube = {val}\")\n",
    "        \n",
    "#     def area(self):\n",
    "#         area_cube = self.side * self.side * 6\n",
    "#         print(f\"The Area of a cube = {area_cube}\")\n",
    "        \n",
    "    def print_side(self):\n",
    "        print(f\"The side of a cube = {self.side}\")\n",
    "        \n",
    "c1 = Cube(5)\n",
    "c1.volume()\n",
    "c1.area()\n",
    "c1.print_side()"
   ]
  }
 ],
 "metadata": {
  "kernelspec": {
   "display_name": "Python 3 (ipykernel)",
   "language": "python",
   "name": "python3"
  },
  "language_info": {
   "codemirror_mode": {
    "name": "ipython",
    "version": 3
   },
   "file_extension": ".py",
   "mimetype": "text/x-python",
   "name": "python",
   "nbconvert_exporter": "python",
   "pygments_lexer": "ipython3",
   "version": "3.12.4"
  }
 },
 "nbformat": 4,
 "nbformat_minor": 5
}
