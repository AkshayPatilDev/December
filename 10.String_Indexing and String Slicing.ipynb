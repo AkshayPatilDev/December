{
 "cells": [
  {
   "cell_type": "markdown",
   "id": "00e38105",
   "metadata": {},
   "source": [
    "# String Indexing\n",
    "- Accessing char from string\n",
    "- Indexing will start from 0\n",
    "- To access any item from string w use []\n",
    "- length(len) function is used to know the length of string"
   ]
  },
  {
   "cell_type": "raw",
   "id": "5646adca",
   "metadata": {},
   "source": [
    "\"P y t h o n\"\n",
    " 0 1 2 3 4 5"
   ]
  },
  {
   "cell_type": "code",
   "execution_count": 3,
   "id": "3778baf0",
   "metadata": {},
   "outputs": [
    {
     "data": {
      "text/plain": [
       "'s'"
      ]
     },
     "execution_count": 3,
     "metadata": {},
     "output_type": "execute_result"
    }
   ],
   "source": [
    "str1 = \"Data science\"\n",
    "str1[5]"
   ]
  },
  {
   "cell_type": "code",
   "execution_count": 4,
   "id": "825f2f5b",
   "metadata": {},
   "outputs": [
    {
     "data": {
      "text/plain": [
       "12"
      ]
     },
     "execution_count": 4,
     "metadata": {},
     "output_type": "execute_result"
    }
   ],
   "source": [
    "str1 = \"Data science\"\n",
    "len(str1)"
   ]
  },
  {
   "cell_type": "code",
   "execution_count": 8,
   "id": "0530656b",
   "metadata": {},
   "outputs": [
    {
     "name": "stdout",
     "output_type": "stream",
     "text": [
      "D\n",
      "a\n",
      "t\n",
      "a\n",
      " \n",
      "s\n",
      "c\n",
      "i\n",
      "e\n",
      "n\n",
      "c\n",
      "e\n"
     ]
    }
   ],
   "source": [
    "str1 = \"Data science\"\n",
    "print(str1[0] )       # D\n",
    "print(str1[1] )       # a\n",
    "print(str1[2] )       # t\n",
    "print(str1[3] )       # a\n",
    "print(str1[4] )       # ' '\n",
    "print(str1[5] )       # s\n",
    "print(str1[6] )       # c\n",
    "print(str1[7] )       # i\n",
    "print(str1[8] )       # e\n",
    "print(str1[9] )       # n\n",
    "print(str1[10])       # c\n",
    "print(str1[11])       # e"
   ]
  },
  {
   "cell_type": "raw",
   "id": "eb25eeff",
   "metadata": {},
   "source": [
    "\"P  y  t  h  o  n\"\n",
    " 0  1  2  3  4  5   ------->Positive Indexing\n",
    "-6 -5 -4 -3 -2 -1   ------->Negative Indexing"
   ]
  },
  {
   "cell_type": "code",
   "execution_count": 10,
   "id": "72856de9",
   "metadata": {},
   "outputs": [
    {
     "data": {
      "text/plain": [
       "'n'"
      ]
     },
     "execution_count": 10,
     "metadata": {},
     "output_type": "execute_result"
    }
   ],
   "source": [
    "str1 = 'Python'\n",
    "str1[5]"
   ]
  },
  {
   "cell_type": "code",
   "execution_count": 14,
   "id": "f012006c",
   "metadata": {},
   "outputs": [
    {
     "name": "stdout",
     "output_type": "stream",
     "text": [
      "6\n"
     ]
    },
    {
     "data": {
      "text/plain": [
       "'y'"
      ]
     },
     "execution_count": 14,
     "metadata": {},
     "output_type": "execute_result"
    }
   ],
   "source": [
    "str1 = 'Python'\n",
    "print(len(str1))\n",
    "str1[-5]"
   ]
  },
  {
   "cell_type": "code",
   "execution_count": 19,
   "id": "b7006034",
   "metadata": {},
   "outputs": [
    {
     "data": {
      "text/plain": [
       "'n'"
      ]
     },
     "execution_count": 19,
     "metadata": {},
     "output_type": "execute_result"
    }
   ],
   "source": [
    "str1 = 'Python'\n",
    "str1[len(str1)-1]    # Here len of str1 = 6 so 6-1 = 5"
   ]
  },
  {
   "cell_type": "code",
   "execution_count": 22,
   "id": "f6cb5bbe",
   "metadata": {},
   "outputs": [
    {
     "data": {
      "text/plain": [
       "'P'"
      ]
     },
     "execution_count": 22,
     "metadata": {},
     "output_type": "execute_result"
    }
   ],
   "source": [
    "str1[-len(str1)]     # Before - there is nothing means its 0"
   ]
  },
  {
   "cell_type": "code",
   "execution_count": 23,
   "id": "bb588eb8",
   "metadata": {},
   "outputs": [
    {
     "name": "stdout",
     "output_type": "stream",
     "text": [
      "Used Positive indexing :- t\n",
      "Used Negative indexing :- t\n"
     ]
    }
   ],
   "source": [
    "str1 = 'Python'\n",
    "print(f\"Used Positive indexing :- {str1[2]}\")\n",
    "print(f\"Used Negative indexing :- {str1[-4]}\")"
   ]
  },
  {
   "cell_type": "code",
   "execution_count": 33,
   "id": "a6242fa0",
   "metadata": {},
   "outputs": [
    {
     "name": "stdout",
     "output_type": "stream",
     "text": [
      "The length of string   = 6\n",
      "Used positive indexing = y\n",
      "Used negative indexing = h\n"
     ]
    }
   ],
   "source": [
    "str1 = 'Python'\n",
    "length = len(str1)\n",
    "print(f\"The length of string   = {length}\")\n",
    "print(f\"Used positive indexing = {str1[length - 5]}\")\n",
    "print(f\"Used negative indexing = {str1[3 - length]}\")"
   ]
  },
  {
   "cell_type": "code",
   "execution_count": 36,
   "id": "552c9753",
   "metadata": {},
   "outputs": [
    {
     "data": {
      "text/plain": [
       "14"
      ]
     },
     "execution_count": 36,
     "metadata": {},
     "output_type": "execute_result"
    }
   ],
   "source": [
    "var1 = \"DR ABDUL KALAM\"\n",
    "len(var1)"
   ]
  },
  {
   "cell_type": "code",
   "execution_count": 43,
   "id": "a43aa8d1",
   "metadata": {},
   "outputs": [
    {
     "name": "stdout",
     "output_type": "stream",
     "text": [
      "The length of string = 14\n",
      "Positive indexing    = A\n",
      "Negative indexing    = K\n",
      "Positive indexing    = D\n",
      "Negative indexing    = L\n"
     ]
    }
   ],
   "source": [
    "var1 = \"DR ABDUL KALAM\"\n",
    "L = len(var1)\n",
    "print(f\"The length of string = {L}\")\n",
    "print(f\"Positive indexing    = {var1[10]}\")\n",
    "print(f\"Negative indexing    = {var1[-5]}\")\n",
    "print(f\"Positive indexing    = {var1[L - 14]}\")\n",
    "print(f\"Negative indexing    = {var1[11 - L]}\")"
   ]
  },
  {
   "cell_type": "code",
   "execution_count": 47,
   "id": "a7dc0532",
   "metadata": {},
   "outputs": [
    {
     "data": {
      "text/plain": [
       "'o'"
      ]
     },
     "execution_count": 47,
     "metadata": {},
     "output_type": "execute_result"
    }
   ],
   "source": [
    "\"Coool\"[-3]\n"
   ]
  },
  {
   "cell_type": "markdown",
   "id": "ac6ae8b8",
   "metadata": {},
   "source": [
    "# Slicing\n",
    "- Used for retriving sub string from a string\n",
    "- string[start index:end index]\n",
    "- start_index ===> default = 0     ===> included\n",
    "- end_index   ===> default = length===> excluded"
   ]
  },
  {
   "cell_type": "code",
   "execution_count": 48,
   "id": "4c6fdd33",
   "metadata": {},
   "outputs": [
    {
     "data": {
      "text/plain": [
       "'Python and Data Science'"
      ]
     },
     "execution_count": 48,
     "metadata": {},
     "output_type": "execute_result"
    }
   ],
   "source": [
    "string =\"Python and Data Science\"\n",
    "string[:]"
   ]
  },
  {
   "cell_type": "code",
   "execution_count": 49,
   "id": "fc71d718",
   "metadata": {},
   "outputs": [
    {
     "data": {
      "text/plain": [
       "'Python and Data Science'"
      ]
     },
     "execution_count": 49,
     "metadata": {},
     "output_type": "execute_result"
    }
   ],
   "source": [
    "string =\"Python and Data Science\"\n",
    "string[0:len(string)]"
   ]
  },
  {
   "cell_type": "code",
   "execution_count": 50,
   "id": "9536612a",
   "metadata": {},
   "outputs": [
    {
     "data": {
      "text/plain": [
       "'Pytho'"
      ]
     },
     "execution_count": 50,
     "metadata": {},
     "output_type": "execute_result"
    }
   ],
   "source": [
    "string =\"Python and Data Science\"\n",
    "string[0:5]"
   ]
  },
  {
   "cell_type": "code",
   "execution_count": 51,
   "id": "c2c8d8c8",
   "metadata": {},
   "outputs": [
    {
     "data": {
      "text/plain": [
       "'Python'"
      ]
     },
     "execution_count": 51,
     "metadata": {},
     "output_type": "execute_result"
    }
   ],
   "source": [
    "string =\"Python and Data Science\"\n",
    "string[:6]"
   ]
  },
  {
   "cell_type": "code",
   "execution_count": 53,
   "id": "2991c1d7",
   "metadata": {},
   "outputs": [
    {
     "data": {
      "text/plain": [
       "'and Data'"
      ]
     },
     "execution_count": 53,
     "metadata": {},
     "output_type": "execute_result"
    }
   ],
   "source": [
    "string =\"Python and Data Science\"\n",
    "string[7:15]"
   ]
  },
  {
   "cell_type": "code",
   "execution_count": 54,
   "id": "cae8cbfa",
   "metadata": {},
   "outputs": [
    {
     "data": {
      "text/plain": [
       "'ta Science'"
      ]
     },
     "execution_count": 54,
     "metadata": {},
     "output_type": "execute_result"
    }
   ],
   "source": [
    "string =\"Python and Data Science\"\n",
    "string[13:]"
   ]
  },
  {
   "cell_type": "code",
   "execution_count": 56,
   "id": "1c946a04",
   "metadata": {},
   "outputs": [
    {
     "name": "stdout",
     "output_type": "stream",
     "text": [
      "23\n"
     ]
    },
    {
     "data": {
      "text/plain": [
       "' Data Science'"
      ]
     },
     "execution_count": 56,
     "metadata": {},
     "output_type": "execute_result"
    }
   ],
   "source": [
    "string =\"Python and Data Science\"\n",
    "length = len(string)\n",
    "print(length)\n",
    "string[10:]"
   ]
  },
  {
   "cell_type": "code",
   "execution_count": 58,
   "id": "c4e28a81",
   "metadata": {},
   "outputs": [
    {
     "data": {
      "text/plain": [
       "'and Data Science'"
      ]
     },
     "execution_count": 58,
     "metadata": {},
     "output_type": "execute_result"
    }
   ],
   "source": [
    "string =\"Python and Data Science\"\n",
    "length = len(string)\n",
    "string[7:len(string)]"
   ]
  },
  {
   "cell_type": "code",
   "execution_count": 59,
   "id": "84570e3f",
   "metadata": {},
   "outputs": [
    {
     "data": {
      "text/plain": [
       "5"
      ]
     },
     "execution_count": 59,
     "metadata": {},
     "output_type": "execute_result"
    }
   ],
   "source": [
    "a = \"Hello\"\n",
    "len(a)"
   ]
  },
  {
   "cell_type": "code",
   "execution_count": 61,
   "id": "f8d87615",
   "metadata": {},
   "outputs": [
    {
     "data": {
      "text/plain": [
       "'o'"
      ]
     },
     "execution_count": 61,
     "metadata": {},
     "output_type": "execute_result"
    }
   ],
   "source": [
    "a[4]"
   ]
  },
  {
   "cell_type": "code",
   "execution_count": 63,
   "id": "87efbcd0",
   "metadata": {},
   "outputs": [
    {
     "data": {
      "text/plain": [
       "'Hell'"
      ]
     },
     "execution_count": 63,
     "metadata": {},
     "output_type": "execute_result"
    }
   ],
   "source": [
    "a[0:4]    # >>>>>>> end is excluded"
   ]
  },
  {
   "cell_type": "code",
   "execution_count": 65,
   "id": "c3f65ca0",
   "metadata": {},
   "outputs": [
    {
     "data": {
      "text/plain": [
       "'3456'"
      ]
     },
     "execution_count": 65,
     "metadata": {},
     "output_type": "execute_result"
    }
   ],
   "source": [
    "d = \"123456\"\n",
    "len(d)   \n",
    "d[2:]"
   ]
  },
  {
   "cell_type": "code",
   "execution_count": 66,
   "id": "53f8417f",
   "metadata": {},
   "outputs": [
    {
     "data": {
      "text/plain": [
       "10.0"
      ]
     },
     "execution_count": 66,
     "metadata": {},
     "output_type": "execute_result"
    }
   ],
   "source": [
    "num = 10\n",
    "num = float(num)\n",
    "num"
   ]
  },
  {
   "cell_type": "code",
   "execution_count": 68,
   "id": "9f0ecdbc",
   "metadata": {},
   "outputs": [
    {
     "data": {
      "text/plain": [
       "3.142857142857143"
      ]
     },
     "execution_count": 68,
     "metadata": {},
     "output_type": "execute_result"
    }
   ],
   "source": [
    "num = 22/7\n",
    "num"
   ]
  },
  {
   "cell_type": "code",
   "execution_count": 74,
   "id": "d0e7680e",
   "metadata": {},
   "outputs": [],
   "source": [
    "num = 22/7"
   ]
  },
  {
   "cell_type": "code",
   "execution_count": 75,
   "id": "da59c873",
   "metadata": {},
   "outputs": [
    {
     "data": {
      "text/plain": [
       "3.142857142857143"
      ]
     },
     "execution_count": 75,
     "metadata": {},
     "output_type": "execute_result"
    }
   ],
   "source": [
    "num"
   ]
  },
  {
   "cell_type": "code",
   "execution_count": 78,
   "id": "259f80ff",
   "metadata": {},
   "outputs": [
    {
     "data": {
      "text/plain": [
       "3.143"
      ]
     },
     "execution_count": 78,
     "metadata": {},
     "output_type": "execute_result"
    }
   ],
   "source": [
    "num1 = round(num,3)\n",
    "num1"
   ]
  },
  {
   "cell_type": "code",
   "execution_count": 79,
   "id": "86cfba0c",
   "metadata": {},
   "outputs": [
    {
     "data": {
      "text/plain": [
       "3.1"
      ]
     },
     "execution_count": 79,
     "metadata": {},
     "output_type": "execute_result"
    }
   ],
   "source": [
    "num1 = round(num,1)\n",
    "num1"
   ]
  }
 ],
 "metadata": {
  "kernelspec": {
   "display_name": "Python 3 (ipykernel)",
   "language": "python",
   "name": "python3"
  },
  "language_info": {
   "codemirror_mode": {
    "name": "ipython",
    "version": 3
   },
   "file_extension": ".py",
   "mimetype": "text/x-python",
   "name": "python",
   "nbconvert_exporter": "python",
   "pygments_lexer": "ipython3",
   "version": "3.12.4"
  }
 },
 "nbformat": 4,
 "nbformat_minor": 5
}
