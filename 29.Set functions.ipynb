{
 "cells": [
  {
   "cell_type": "markdown",
   "id": "69943135",
   "metadata": {},
   "source": [
    "# Set"
   ]
  },
  {
   "cell_type": "markdown",
   "id": "e01ccd4d",
   "metadata": {},
   "source": [
    "## Delete\n",
    "- 1.remove()\n",
    "- 2.discard()\n",
    "- 3.pop()\n",
    "- 4.clear()"
   ]
  },
  {
   "cell_type": "markdown",
   "id": "3c5c79e1",
   "metadata": {},
   "source": [
    "### 1.reomve()\n",
    "- set.remove(item)"
   ]
  },
  {
   "cell_type": "code",
   "execution_count": 1,
   "id": "53e4a4c3",
   "metadata": {},
   "outputs": [
    {
     "data": {
      "text/plain": [
       "{1, 2, 3, 4, 5}"
      ]
     },
     "execution_count": 1,
     "metadata": {},
     "output_type": "execute_result"
    }
   ],
   "source": [
    "set1 = {1,2,3,4,5,9}\n",
    "set1.remove(9)\n",
    "set1"
   ]
  },
  {
   "cell_type": "code",
   "execution_count": 3,
   "id": "335047b2",
   "metadata": {},
   "outputs": [
    {
     "name": "stdout",
     "output_type": "stream",
     "text": [
      "Language set before remove = {'C', 'Java', 'C++', 'R', 'Python'}\n",
      "Enter item which want to remove --->Java\n",
      "Language set after remove = {'C', 'C++', 'R', 'Python'}\n"
     ]
    }
   ],
   "source": [
    "lang_set = {\"C\",\"C++\",\"Python\",\"Java\",\"R\"}\n",
    "print(f\"Language set before remove = {lang_set}\")\n",
    "item = input(\"Enter item which want to remove --->\")\n",
    "lang_set.remove(item)\n",
    "print(f\"Language set after remove = {lang_set}\")"
   ]
  },
  {
   "cell_type": "code",
   "execution_count": 4,
   "id": "4ad7e192",
   "metadata": {},
   "outputs": [
    {
     "name": "stdout",
     "output_type": "stream",
     "text": [
      "Language set before remove = {'C', 'Java', 'C++', 'R', 'Python'}\n",
      "Enter item which want to remove --->Cplus plus\n"
     ]
    },
    {
     "ename": "KeyError",
     "evalue": "'Cplus plus'",
     "output_type": "error",
     "traceback": [
      "\u001b[1;31m---------------------------------------------------------------------------\u001b[0m",
      "\u001b[1;31mKeyError\u001b[0m                                  Traceback (most recent call last)",
      "\u001b[1;32m~\\AppData\\Local\\Temp/ipykernel_22504/4065833423.py\u001b[0m in \u001b[0;36m<module>\u001b[1;34m\u001b[0m\n\u001b[0;32m      2\u001b[0m \u001b[0mprint\u001b[0m\u001b[1;33m(\u001b[0m\u001b[1;34mf\"Language set before remove = {lang_set}\"\u001b[0m\u001b[1;33m)\u001b[0m\u001b[1;33m\u001b[0m\u001b[1;33m\u001b[0m\u001b[0m\n\u001b[0;32m      3\u001b[0m \u001b[0mitem\u001b[0m \u001b[1;33m=\u001b[0m \u001b[0minput\u001b[0m\u001b[1;33m(\u001b[0m\u001b[1;34m\"Enter item which want to remove --->\"\u001b[0m\u001b[1;33m)\u001b[0m\u001b[1;33m\u001b[0m\u001b[1;33m\u001b[0m\u001b[0m\n\u001b[1;32m----> 4\u001b[1;33m \u001b[0mlang_set\u001b[0m\u001b[1;33m.\u001b[0m\u001b[0mremove\u001b[0m\u001b[1;33m(\u001b[0m\u001b[0mitem\u001b[0m\u001b[1;33m)\u001b[0m\u001b[1;33m\u001b[0m\u001b[1;33m\u001b[0m\u001b[0m\n\u001b[0m\u001b[0;32m      5\u001b[0m \u001b[0mprint\u001b[0m\u001b[1;33m(\u001b[0m\u001b[1;34mf\"Language set after remove = {lang_set}\"\u001b[0m\u001b[1;33m)\u001b[0m\u001b[1;33m\u001b[0m\u001b[1;33m\u001b[0m\u001b[0m\n",
      "\u001b[1;31mKeyError\u001b[0m: 'Cplus plus'"
     ]
    }
   ],
   "source": [
    "lang_set = {\"C\",\"C++\",\"Python\",\"Java\",\"R\"}\n",
    "print(f\"Language set before remove = {lang_set}\")\n",
    "item = input(\"Enter item which want to remove --->\")\n",
    "lang_set.remove(item)\n",
    "print(f\"Language set after remove = {lang_set}\")"
   ]
  },
  {
   "cell_type": "code",
   "execution_count": 5,
   "id": "65942a20",
   "metadata": {},
   "outputs": [
    {
     "name": "stdout",
     "output_type": "stream",
     "text": [
      "Language set before remove = {'C', 'Java', 'C++', 'R', 'Python'}\n",
      "Enter item which want to remove --->C++\n",
      "Language set after remove = {'C', 'Java', 'R', 'Python'}\n"
     ]
    }
   ],
   "source": [
    "lang_set = {\"C\",\"C++\",\"Python\",\"Java\",\"R\"}\n",
    "print(f\"Language set before remove = {lang_set}\")\n",
    "item = input(\"Enter item which want to remove --->\")\n",
    "if item in lang_set:\n",
    "    lang_set.remove(item)\n",
    "else:\n",
    "    print(\"Item not present\")\n",
    "print(f\"Language set after remove = {lang_set}\")"
   ]
  },
  {
   "cell_type": "code",
   "execution_count": 6,
   "id": "68b93942",
   "metadata": {},
   "outputs": [
    {
     "name": "stdout",
     "output_type": "stream",
     "text": [
      "Language set before remove = {'C', 'Java', 'C++', 'R', 'Python'}\n",
      "Enter item which want to remove --->r\n",
      "Item not present\n",
      "Language set after remove = {'C', 'Java', 'C++', 'R', 'Python'}\n"
     ]
    }
   ],
   "source": [
    "lang_set = {\"C\",\"C++\",\"Python\",\"Java\",\"R\"}\n",
    "print(f\"Language set before remove = {lang_set}\")\n",
    "item = input(\"Enter item which want to remove --->\")\n",
    "if item in lang_set:\n",
    "    lang_set.remove(item)\n",
    "else:\n",
    "    print(\"Item not present\")\n",
    "print(f\"Language set after remove = {lang_set}\")"
   ]
  },
  {
   "cell_type": "markdown",
   "id": "f529e99f",
   "metadata": {},
   "source": [
    "### 2.discard()\n"
   ]
  },
  {
   "cell_type": "code",
   "execution_count": 7,
   "id": "ae4b9f0c",
   "metadata": {},
   "outputs": [
    {
     "name": "stdout",
     "output_type": "stream",
     "text": [
      "Language set before remove = {'C', 'Java', 'C++', 'R', 'Python'}\n",
      "Enter item which want to remove --->C++\n",
      "Language set after remove = {'C', 'Java', 'R', 'Python'}\n"
     ]
    }
   ],
   "source": [
    "lang_set = {\"C\",\"C++\",\"Python\",\"Java\",\"R\"}\n",
    "print(f\"Language set before remove = {lang_set}\")\n",
    "item = input(\"Enter item which want to remove --->\")\n",
    "lang_set.remove(item)\n",
    "print(f\"Language set after remove = {lang_set}\")"
   ]
  },
  {
   "cell_type": "code",
   "execution_count": 8,
   "id": "407cf88d",
   "metadata": {},
   "outputs": [
    {
     "name": "stdout",
     "output_type": "stream",
     "text": [
      "Language set before remove = {'C', 'Java', 'C++', 'R', 'Python'}\n",
      "Enter item which want to remove --->c++\n"
     ]
    },
    {
     "ename": "KeyError",
     "evalue": "'c++'",
     "output_type": "error",
     "traceback": [
      "\u001b[1;31m---------------------------------------------------------------------------\u001b[0m",
      "\u001b[1;31mKeyError\u001b[0m                                  Traceback (most recent call last)",
      "\u001b[1;32m~\\AppData\\Local\\Temp/ipykernel_22504/4065833423.py\u001b[0m in \u001b[0;36m<module>\u001b[1;34m\u001b[0m\n\u001b[0;32m      2\u001b[0m \u001b[0mprint\u001b[0m\u001b[1;33m(\u001b[0m\u001b[1;34mf\"Language set before remove = {lang_set}\"\u001b[0m\u001b[1;33m)\u001b[0m\u001b[1;33m\u001b[0m\u001b[1;33m\u001b[0m\u001b[0m\n\u001b[0;32m      3\u001b[0m \u001b[0mitem\u001b[0m \u001b[1;33m=\u001b[0m \u001b[0minput\u001b[0m\u001b[1;33m(\u001b[0m\u001b[1;34m\"Enter item which want to remove --->\"\u001b[0m\u001b[1;33m)\u001b[0m\u001b[1;33m\u001b[0m\u001b[1;33m\u001b[0m\u001b[0m\n\u001b[1;32m----> 4\u001b[1;33m \u001b[0mlang_set\u001b[0m\u001b[1;33m.\u001b[0m\u001b[0mremove\u001b[0m\u001b[1;33m(\u001b[0m\u001b[0mitem\u001b[0m\u001b[1;33m)\u001b[0m\u001b[1;33m\u001b[0m\u001b[1;33m\u001b[0m\u001b[0m\n\u001b[0m\u001b[0;32m      5\u001b[0m \u001b[0mprint\u001b[0m\u001b[1;33m(\u001b[0m\u001b[1;34mf\"Language set after remove = {lang_set}\"\u001b[0m\u001b[1;33m)\u001b[0m\u001b[1;33m\u001b[0m\u001b[1;33m\u001b[0m\u001b[0m\n",
      "\u001b[1;31mKeyError\u001b[0m: 'c++'"
     ]
    }
   ],
   "source": [
    "lang_set = {\"C\",\"C++\",\"Python\",\"Java\",\"R\"}\n",
    "print(f\"Language set before remove = {lang_set}\")\n",
    "item = input(\"Enter item which want to remove --->\")\n",
    "lang_set.remove(item)\n",
    "print(f\"Language set after remove = {lang_set}\")"
   ]
  },
  {
   "cell_type": "code",
   "execution_count": 9,
   "id": "836456f4",
   "metadata": {},
   "outputs": [
    {
     "name": "stdout",
     "output_type": "stream",
     "text": [
      "Language set before discard = {'C', 'Java', 'C++', 'R', 'Python'}\n",
      "Enter item which want to remove --->C++\n",
      "Language set after discard = {'C', 'Java', 'R', 'Python'}\n"
     ]
    }
   ],
   "source": [
    "lang_set = {\"C\",\"C++\",\"Python\",\"Java\",\"R\"}\n",
    "print(f\"Language set before discard = {lang_set}\")\n",
    "item = input(\"Enter item which want to remove --->\")\n",
    "lang_set.discard(item)\n",
    "print(f\"Language set after discard = {lang_set}\")"
   ]
  },
  {
   "cell_type": "code",
   "execution_count": 10,
   "id": "2a08558e",
   "metadata": {},
   "outputs": [
    {
     "name": "stdout",
     "output_type": "stream",
     "text": [
      "Language set before discard = {'C', 'Java', 'C++', 'R', 'Python'}\n",
      "Enter item which want to remove --->c++\n",
      "Language set after discard = {'C', 'Java', 'C++', 'R', 'Python'}\n"
     ]
    }
   ],
   "source": [
    "lang_set = {\"C\",\"C++\",\"Python\",\"Java\",\"R\"}\n",
    "print(f\"Language set before discard = {lang_set}\")\n",
    "item = input(\"Enter item which want to remove --->\")\n",
    "lang_set.discard(item)\n",
    "print(f\"Language set after discard = {lang_set}\")"
   ]
  },
  {
   "cell_type": "markdown",
   "id": "912e882b",
   "metadata": {},
   "source": [
    "### 3.pop()\n",
    "- It will delete random element form set"
   ]
  },
  {
   "cell_type": "code",
   "execution_count": 11,
   "id": "edb92aad",
   "metadata": {},
   "outputs": [
    {
     "name": "stdout",
     "output_type": "stream",
     "text": [
      "Language set before discard = {'C', 'Java', 'C++', 'R', 'Python'}\n",
      "Language set after discard = {'Java', 'C++', 'R', 'Python'}\n"
     ]
    }
   ],
   "source": [
    "lang_set = {\"C\",\"C++\",\"Python\",\"Java\",\"R\"}\n",
    "print(f\"Language set before discard = {lang_set}\")\n",
    "lang_set.pop()\n",
    "print(f\"Language set after discard = {lang_set}\")"
   ]
  },
  {
   "cell_type": "code",
   "execution_count": 12,
   "id": "67010ed4",
   "metadata": {},
   "outputs": [
    {
     "data": {
      "text/plain": [
       "{2, 3, 4, 5}"
      ]
     },
     "execution_count": 12,
     "metadata": {},
     "output_type": "execute_result"
    }
   ],
   "source": [
    "set1 = {1,2,3,4,5}\n",
    "set1.pop()\n",
    "set1"
   ]
  },
  {
   "cell_type": "code",
   "execution_count": 13,
   "id": "18eb2add",
   "metadata": {},
   "outputs": [
    {
     "name": "stdout",
     "output_type": "stream",
     "text": [
      "Before pop --->{'Chem', 'Math', 'Bio', 'Phy', 'Eng'}\n",
      "After pop ---> {'Math', 'Bio', 'Phy', 'Eng'}\n"
     ]
    }
   ],
   "source": [
    "sub_name = {'Phy','Chem','Bio','Math','Eng'}\n",
    "print(f\"Before pop --->{sub_name}\")\n",
    "sub_name.pop()\n",
    "print(f\"After pop ---> {sub_name}\")"
   ]
  },
  {
   "cell_type": "markdown",
   "id": "9521dc41",
   "metadata": {},
   "source": [
    "### 4.clear()\n",
    "- Used to remove all elements in set and returns an empty set-->set()"
   ]
  },
  {
   "cell_type": "code",
   "execution_count": 16,
   "id": "e2966797",
   "metadata": {},
   "outputs": [],
   "source": [
    "set1 = {'phy','che','math','eng','bio',1,2,3,4,5, 'Java', 'C', 'Python'}"
   ]
  },
  {
   "cell_type": "code",
   "execution_count": 17,
   "id": "4b285e53",
   "metadata": {},
   "outputs": [],
   "source": [
    "set1.clear()"
   ]
  },
  {
   "cell_type": "code",
   "execution_count": 18,
   "id": "927460ee",
   "metadata": {},
   "outputs": [
    {
     "data": {
      "text/plain": [
       "set()"
      ]
     },
     "execution_count": 18,
     "metadata": {},
     "output_type": "execute_result"
    }
   ],
   "source": [
    "set1"
   ]
  },
  {
   "cell_type": "markdown",
   "id": "c22ebed9",
   "metadata": {},
   "source": [
    "### >>del"
   ]
  },
  {
   "cell_type": "code",
   "execution_count": 19,
   "id": "c2565592",
   "metadata": {},
   "outputs": [
    {
     "data": {
      "text/plain": [
       "{1, 2, 3, 4, 5, 'C', 'Java', 'Python', 'bio', 'che', 'eng', 'math', 'phy'}"
      ]
     },
     "execution_count": 19,
     "metadata": {},
     "output_type": "execute_result"
    }
   ],
   "source": [
    "set1 = {'phy','che','math','eng','bio',1,2,3,4,5, 'Java', 'C', 'Python'}\n",
    "set1"
   ]
  },
  {
   "cell_type": "code",
   "execution_count": 21,
   "id": "687dca9e",
   "metadata": {},
   "outputs": [],
   "source": [
    "del set1"
   ]
  },
  {
   "cell_type": "code",
   "execution_count": 22,
   "id": "f89282b1",
   "metadata": {},
   "outputs": [
    {
     "ename": "NameError",
     "evalue": "name 'set1' is not defined",
     "output_type": "error",
     "traceback": [
      "\u001b[1;31m---------------------------------------------------------------------------\u001b[0m",
      "\u001b[1;31mNameError\u001b[0m                                 Traceback (most recent call last)",
      "\u001b[1;32m~\\AppData\\Local\\Temp/ipykernel_22504/3466344282.py\u001b[0m in \u001b[0;36m<module>\u001b[1;34m\u001b[0m\n\u001b[1;32m----> 1\u001b[1;33m \u001b[0mset1\u001b[0m\u001b[1;33m\u001b[0m\u001b[1;33m\u001b[0m\u001b[0m\n\u001b[0m",
      "\u001b[1;31mNameError\u001b[0m: name 'set1' is not defined"
     ]
    }
   ],
   "source": [
    "set1"
   ]
  },
  {
   "cell_type": "markdown",
   "id": "8a05eb7d",
   "metadata": {},
   "source": [
    "## Other Functions"
   ]
  },
  {
   "cell_type": "markdown",
   "id": "bdc826df",
   "metadata": {},
   "source": [
    "### 1.intersection()\n",
    "- It returns common elements from two or more sets"
   ]
  },
  {
   "cell_type": "code",
   "execution_count": 23,
   "id": "aaabd359",
   "metadata": {},
   "outputs": [
    {
     "data": {
      "text/plain": [
       "{'R'}"
      ]
     },
     "execution_count": 23,
     "metadata": {},
     "output_type": "execute_result"
    }
   ],
   "source": [
    "set1 = {\"Python\",\"R\"}\n",
    "set2 = {\"R\",\"Java\"}\n",
    "\n",
    "set3 = set1.intersection(set2)\n",
    "set3"
   ]
  },
  {
   "cell_type": "code",
   "execution_count": 4,
   "id": "90be7c9d",
   "metadata": {},
   "outputs": [
    {
     "data": {
      "text/plain": [
       "{'C', 'R'}"
      ]
     },
     "execution_count": 4,
     "metadata": {},
     "output_type": "execute_result"
    }
   ],
   "source": [
    "set1 = {\"Python\",\"R\",\"C\"}\n",
    "set2 = {\"R\",\"Java\",\"C\"}\n",
    "set3 = [\"C\",\"R\",\"C++\"]  #--->list\n",
    "\n",
    "set4 = set1.intersection(set2,set3)\n",
    "set4"
   ]
  },
  {
   "cell_type": "code",
   "execution_count": 5,
   "id": "7c7d83a5",
   "metadata": {},
   "outputs": [
    {
     "data": {
      "text/plain": [
       "{'C', 'R'}"
      ]
     },
     "execution_count": 5,
     "metadata": {},
     "output_type": "execute_result"
    }
   ],
   "source": [
    "set1 = {\"Python\",\"R\",\"C\"}\n",
    "set2 = {\"R\",\"Java\",\"C\"}\n",
    "set3 = (\"C\",\"R\",\"C++\")   #--->tuple\n",
    "\n",
    "set4 = set1.intersection(set2,set3)\n",
    "set4"
   ]
  },
  {
   "cell_type": "markdown",
   "id": "ef3e6d78",
   "metadata": {},
   "source": [
    "### 2.intersection_update()\n",
    "- It updates the set not returns new set"
   ]
  },
  {
   "cell_type": "code",
   "execution_count": 8,
   "id": "373d7dde",
   "metadata": {},
   "outputs": [
    {
     "data": {
      "text/plain": [
       "{'R'}"
      ]
     },
     "execution_count": 8,
     "metadata": {},
     "output_type": "execute_result"
    }
   ],
   "source": [
    "set1 = {\"Python\",\"R\"}\n",
    "set2 = {\"R\",\"Java\"}\n",
    "\n",
    "set2.intersection_update(set1)\n",
    "set2"
   ]
  },
  {
   "cell_type": "code",
   "execution_count": 10,
   "id": "2fdbc259",
   "metadata": {},
   "outputs": [
    {
     "name": "stdout",
     "output_type": "stream",
     "text": [
      "{'Mumbai'}\n",
      "{'Banglore', 'Mumbai', 'Delhi'}\n"
     ]
    }
   ],
   "source": [
    "city1 = {\"Pune\",\"Mumbai\",\"Chennai\"}\n",
    "city2 = {\"Mumbai\",\"Banglore\",\"Delhi\"}\n",
    "\n",
    "city1.intersection_update(city2)\n",
    "print(city1)\n",
    "print(city2)"
   ]
  },
  {
   "cell_type": "raw",
   "id": "713218fb",
   "metadata": {},
   "source": [
    "10 - 6 = 4\n",
    "1,2,3,4,5,6,7,8,9,10\n",
    "1,2,3,4,5,6\n",
    "Difference--->7,8,9,10"
   ]
  },
  {
   "cell_type": "markdown",
   "id": "d4fb7a6c",
   "metadata": {},
   "source": [
    "### 3.difference()"
   ]
  },
  {
   "cell_type": "code",
   "execution_count": 12,
   "id": "758210df",
   "metadata": {},
   "outputs": [
    {
     "data": {
      "text/plain": [
       "{7, 8, 9, 10}"
      ]
     },
     "execution_count": 12,
     "metadata": {},
     "output_type": "execute_result"
    }
   ],
   "source": [
    "set1 = {1,2,3,4,5,6,7,8,9,10}\n",
    "set2 = {1,2,3,4,5,6}\n",
    "\n",
    "set3 = set1.difference(set2)\n",
    "set3"
   ]
  },
  {
   "cell_type": "code",
   "execution_count": 13,
   "id": "96f14129",
   "metadata": {},
   "outputs": [
    {
     "name": "stdout",
     "output_type": "stream",
     "text": [
      "Set1 before difference opeartion---> {1, 2, 3, 4, 5, 6, 7, 8, 9, 10}\n",
      "Set2 before difference operation---> {1, 2, 3, 4, 5, 6}\n",
      "Set3 after difference opeartion--->{8, 9, 10, 7}\n"
     ]
    }
   ],
   "source": [
    "set1 = {1,2,3,4,5,6,7,8,9,10}\n",
    "set2 = {1,2,3,4,5,6}\n",
    "print(f\"Set1 before difference opeartion---> {set1}\")\n",
    "print(f\"Set2 before difference operation---> {set2}\")\n",
    "set3 = set1.difference(set2)\n",
    "print(f\"Set3 after difference opeartion--->{set3}\")"
   ]
  },
  {
   "cell_type": "code",
   "execution_count": 15,
   "id": "b58c2033",
   "metadata": {},
   "outputs": [
    {
     "name": "stdout",
     "output_type": "stream",
     "text": [
      "Set1 before difference operation---> {'Pune', 'Delhi', 'Mumbai', 'Kolkata', 'Hyderabad'}\n",
      "Set2 before difference operation---> {'Banglore', 'Chennai', 'Mumbai', 'Pune'}\n",
      "Set3 after difference operation---> {'Kolkata', 'Hyderabad', 'Delhi'}\n"
     ]
    }
   ],
   "source": [
    "set1 = {\"Pune\",\"Mumbai\",\"Delhi\",\"Hyderabad\",\"Kolkata\"}\n",
    "set2 = {\"Banglore\",\"Mumbai\",\"Chennai\",\"Pune\"}\n",
    "\n",
    "print(f\"Set1 before difference operation---> {set1}\")\n",
    "print(f\"Set2 before difference operation---> {set2}\")\n",
    "\n",
    "set3 = set1.difference(set2)\n",
    "print(f\"Set3 after difference operation---> {set3}\")"
   ]
  },
  {
   "cell_type": "code",
   "execution_count": 16,
   "id": "c9e1ef7a",
   "metadata": {},
   "outputs": [
    {
     "name": "stdout",
     "output_type": "stream",
     "text": [
      "Set1 before difference operation---> {'Pune', 'Delhi', 'Mumbai', 'Kolkata', 'Hyderabad'}\n",
      "Set2 before difference operation---> {'Banglore', 'Chennai', 'Mumbai', 'Pune'}\n",
      "Set3 after difference operation---> set()\n"
     ]
    }
   ],
   "source": [
    "set1 = {\"Pune\",\"Mumbai\",\"Delhi\",\"Hyderabad\",\"Kolkata\"}\n",
    "set2 = {\"Banglore\",\"Mumbai\",\"Chennai\",\"Pune\"}\n",
    "\n",
    "print(f\"Set1 before difference operation---> {set1}\")\n",
    "print(f\"Set2 before difference operation---> {set2}\")\n",
    "\n",
    "set3 = set2.difference(set2)\n",
    "print(f\"Set3 after difference operation---> {set3}\")"
   ]
  },
  {
   "cell_type": "code",
   "execution_count": 22,
   "id": "8e2d3530",
   "metadata": {},
   "outputs": [
    {
     "data": {
      "text/plain": [
       "[1, 2]"
      ]
     },
     "execution_count": 22,
     "metadata": {},
     "output_type": "execute_result"
    }
   ],
   "source": [
    "li1 = [1,2,3,4,5]\n",
    "li2 = [3,4,5,6,7]\n",
    "li3 =[]\n",
    "for i in li1:\n",
    "    if i not in li2:\n",
    "        li3.append(i)\n",
    "li3"
   ]
  },
  {
   "cell_type": "code",
   "execution_count": 1,
   "id": "c97507fb",
   "metadata": {},
   "outputs": [
    {
     "data": {
      "text/plain": [
       "[1, 2]"
      ]
     },
     "execution_count": 1,
     "metadata": {},
     "output_type": "execute_result"
    }
   ],
   "source": [
    "li1 = [1,2,3,4,5]\n",
    "li2 = [3,4,5,6,7]\n",
    "res = list(set(li1).difference(li2))\n",
    "res"
   ]
  },
  {
   "cell_type": "markdown",
   "id": "f60a7678",
   "metadata": {},
   "source": [
    "### 4.difference_update()"
   ]
  },
  {
   "cell_type": "code",
   "execution_count": 2,
   "id": "69b5552b",
   "metadata": {},
   "outputs": [
    {
     "name": "stdout",
     "output_type": "stream",
     "text": [
      "Set1 before difference update--->{1, 2, 3, 4, 5, 6, 7, 8, 9, 10}\n",
      "Set2 before difference update--->{1, 2, 3, 4, 5, 6}\n",
      "Set1 after difference update--->{7, 8, 9, 10}\n",
      "Set2 after difference update--->{1, 2, 3, 4, 5, 6}\n"
     ]
    }
   ],
   "source": [
    "set1 = {1,2,3,4,5,6,7,8,9,10}\n",
    "set2 = {1,2,3,4,5,6}\n",
    "\n",
    "print(f\"Set1 before difference update--->{set1}\")\n",
    "print(f\"Set2 before difference update--->{set2}\")\n",
    "\n",
    "set1.difference_update(set2)\n",
    "\n",
    "print(f\"Set1 after difference update--->{set1}\")\n",
    "print(f\"Set2 after difference update--->{set2}\")"
   ]
  },
  {
   "cell_type": "code",
   "execution_count": 3,
   "id": "82d1a836",
   "metadata": {},
   "outputs": [
    {
     "name": "stdout",
     "output_type": "stream",
     "text": [
      "Set1 before difference update--->{'Delhi', 'Pune', 'Kolkata', 'Hyderabad', 'Mumbai'}\n",
      "Set2 before difference update--->{'Mumbai', 'Bangalore', 'Chennai', 'Pune'}\n",
      "Set1 after difference update--->{'Delhi', 'Kolkata', 'Hyderabad'}\n",
      "Set2 after difference update--->{'Mumbai', 'Bangalore', 'Chennai', 'Pune'}\n"
     ]
    }
   ],
   "source": [
    "set1 = {'Pune','Mumbai','Delhi','Kolkata','Hyderabad'}\n",
    "set2 = {\"Pune\",'Bangalore','Chennai','Mumbai'}\n",
    "\n",
    "print(f\"Set1 before difference update--->{set1}\")\n",
    "print(f\"Set2 before difference update--->{set2}\")\n",
    "\n",
    "set1.difference_update(set2)\n",
    "\n",
    "print(f\"Set1 after difference update--->{set1}\")\n",
    "print(f\"Set2 after difference update--->{set2}\")"
   ]
  },
  {
   "cell_type": "code",
   "execution_count": 5,
   "id": "bd76298f",
   "metadata": {},
   "outputs": [
    {
     "name": "stdout",
     "output_type": "stream",
     "text": [
      "Set1 before difference update--->{'Delhi', 'Pune', 'Kolkata', 'Hyderabad', 'Mumbai'}\n",
      "Set2 before difference update--->{'Mumbai', 'Bangalore', 'Chennai', 'Pune'}\n",
      "Set1 after difference update--->{'Delhi', 'Pune', 'Kolkata', 'Hyderabad', 'Mumbai'}\n",
      "Set2 after difference update--->{'Mumbai', 'Bangalore', 'Chennai', 'Pune'}\n",
      "Set3 after difference update--->{'Banglore', 'Gurgaon'}\n"
     ]
    }
   ],
   "source": [
    "set1 = {'Pune','Mumbai','Delhi','Kolkata','Hyderabad'}\n",
    "set2 = {\"Pune\",'Bangalore','Chennai','Mumbai'}\n",
    "set3 = {\"Pune\",\"Banglore\",\"Gurgaon\",\"Mumbai\"}\n",
    "\n",
    "print(f\"Set1 before difference update--->{set1}\")\n",
    "print(f\"Set2 before difference update--->{set2}\")\n",
    "\n",
    "set3.difference_update(set1,set2)\n",
    "\n",
    "print(f\"Set1 after difference update--->{set1}\")\n",
    "print(f\"Set2 after difference update--->{set2}\")\n",
    "print(f\"Set3 after difference update--->{set3}\")"
   ]
  },
  {
   "cell_type": "code",
   "execution_count": 7,
   "id": "27189148",
   "metadata": {},
   "outputs": [
    {
     "name": "stdout",
     "output_type": "stream",
     "text": [
      "Set1 before difference update--->{'Delhi', 'Pune', 'Kolkata', 'Hyderabad', 'Mumbai'}\n",
      "Set2 before difference update--->{'Banglore', 'Mumbai', 'Chennai', 'Pune'}\n",
      "Set1 after difference update--->{'Delhi', 'Pune', 'Kolkata', 'Hyderabad', 'Mumbai'}\n",
      "Set2 after difference update--->{'Banglore', 'Mumbai', 'Chennai', 'Pune'}\n",
      "Set3 after difference update--->set()\n"
     ]
    }
   ],
   "source": [
    "set1 = {'Pune','Mumbai','Delhi','Kolkata','Hyderabad'}\n",
    "set2 = {\"Pune\",'Banglore','Chennai','Mumbai'}\n",
    "set3 = {\"Pune\",\"Banglore\",\"Chennai\",\"Mumbai\"}\n",
    "\n",
    "print(f\"Set1 before difference update--->{set1}\")\n",
    "print(f\"Set2 before difference update--->{set2}\")\n",
    "\n",
    "set3.difference_update(set1,set2)\n",
    "\n",
    "print(f\"Set1 after difference update--->{set1}\")\n",
    "print(f\"Set2 after difference update--->{set2}\")\n",
    "print(f\"Set3 after difference update--->{set3}\")"
   ]
  },
  {
   "cell_type": "markdown",
   "id": "d68e2946",
   "metadata": {},
   "source": [
    "### 5.symmetric_difference()"
   ]
  },
  {
   "cell_type": "code",
   "execution_count": 10,
   "id": "8dbae5a1",
   "metadata": {},
   "outputs": [
    {
     "name": "stdout",
     "output_type": "stream",
     "text": [
      "Set1 before symmetric difference operation--->{'R', 'Python'}\n",
      "Set2 before symmetric difference operation--->{'R', 'Java'}\n",
      "Set1 after symmetric difference operation--->{'R', 'Python'}\n",
      "Set2 after symmetric difference operation--->{'R', 'Java'}\n",
      "Result--->{'Python', 'Java'}\n"
     ]
    }
   ],
   "source": [
    "set1 = {\"Python\",\"R\"}\n",
    "set2 = {\"R\",\"Java\"}\n",
    "\n",
    "print(f\"Set1 before symmetric difference operation--->{set1}\")\n",
    "print(f\"Set2 before symmetric difference operation--->{set2}\")\n",
    "\n",
    "res = set1.symmetric_difference(set2)\n",
    "\n",
    "\n",
    "print(f\"Set1 after symmetric difference operation--->{set1}\")\n",
    "print(f\"Set2 after symmetric difference operation--->{set2}\")\n",
    "print(f\"Result--->{res}\")"
   ]
  },
  {
   "cell_type": "markdown",
   "id": "9dba0fb6",
   "metadata": {},
   "source": [
    "### 6.symmetric_difference_update()"
   ]
  },
  {
   "cell_type": "code",
   "execution_count": 11,
   "id": "58eefe79",
   "metadata": {},
   "outputs": [
    {
     "name": "stdout",
     "output_type": "stream",
     "text": [
      "Set1 before symmetric difference operation--->{'R', 'Python'}\n",
      "Set2 before symmetric difference operation--->{'R', 'Java'}\n",
      "Set1 after symmetric difference operation--->{'Java', 'Python'}\n",
      "Set2 after symmetric difference operation--->{'R', 'Java'}\n"
     ]
    }
   ],
   "source": [
    "set1 = {\"Python\",\"R\"}\n",
    "set2 = {\"R\",\"Java\"}\n",
    "\n",
    "print(f\"Set1 before symmetric difference operation--->{set1}\")\n",
    "print(f\"Set2 before symmetric difference operation--->{set2}\")\n",
    "\n",
    "set1.symmetric_difference_update(set2)\n",
    "\n",
    "\n",
    "print(f\"Set1 after symmetric difference operation--->{set1}\")\n",
    "print(f\"Set2 after symmetric difference operation--->{set2}\")\n"
   ]
  },
  {
   "cell_type": "code",
   "execution_count": 12,
   "id": "278a8bb5",
   "metadata": {},
   "outputs": [
    {
     "name": "stdout",
     "output_type": "stream",
     "text": [
      "Set1 before symmetric difference operation--->{'R', 'Python'}\n",
      "Set2 before symmetric difference operation--->{'R', 'Java'}\n",
      "Set1 after symmetric difference operation--->{'R', 'Python'}\n",
      "Set2 after symmetric difference operation--->{'Python', 'Java'}\n"
     ]
    }
   ],
   "source": [
    "set1 = {\"Python\",\"R\"}\n",
    "set2 = {\"R\",\"Java\"}\n",
    "\n",
    "print(f\"Set1 before symmetric difference operation--->{set1}\")\n",
    "print(f\"Set2 before symmetric difference operation--->{set2}\")\n",
    "\n",
    "set2.symmetric_difference_update(set1)\n",
    "\n",
    "\n",
    "print(f\"Set1 after symmetric difference operation--->{set1}\")\n",
    "print(f\"Set2 after symmetric difference operation--->{set2}\")\n"
   ]
  },
  {
   "cell_type": "code",
   "execution_count": 13,
   "id": "d0793f90",
   "metadata": {},
   "outputs": [
    {
     "name": "stdout",
     "output_type": "stream",
     "text": [
      "Set1 before symmetric difference operation--->{'R', 'Python'}\n",
      "Set2 before symmetric difference operation--->{'R', 'Java'}\n",
      "Set1 after symmetric difference operation--->{'R', 'Python'}\n",
      "Set2 after symmetric difference operation--->set()\n"
     ]
    }
   ],
   "source": [
    "set1 = {\"Python\",\"R\"}\n",
    "set2 = {\"R\",\"Java\"}\n",
    "\n",
    "print(f\"Set1 before symmetric difference operation--->{set1}\")\n",
    "print(f\"Set2 before symmetric difference operation--->{set2}\")\n",
    "\n",
    "set2.symmetric_difference_update(set2)\n",
    "\n",
    "\n",
    "print(f\"Set1 after symmetric difference operation--->{set1}\")\n",
    "print(f\"Set2 after symmetric difference operation--->{set2}\")\n"
   ]
  },
  {
   "cell_type": "markdown",
   "id": "b9fee9fa",
   "metadata": {},
   "source": [
    "### 7.issubset()\n",
    "- True\n",
    "- False"
   ]
  },
  {
   "cell_type": "code",
   "execution_count": 14,
   "id": "8c658611",
   "metadata": {},
   "outputs": [
    {
     "data": {
      "text/plain": [
       "False"
      ]
     },
     "execution_count": 14,
     "metadata": {},
     "output_type": "execute_result"
    }
   ],
   "source": [
    "set1 = {1,2,3,4,5}\n",
    "set2 = {1,2}\n",
    "\n",
    "set1.issubset(set2)"
   ]
  },
  {
   "cell_type": "code",
   "execution_count": 15,
   "id": "a8ff6549",
   "metadata": {},
   "outputs": [
    {
     "data": {
      "text/plain": [
       "True"
      ]
     },
     "execution_count": 15,
     "metadata": {},
     "output_type": "execute_result"
    }
   ],
   "source": [
    "set1 = {1,2,3,4,5}\n",
    "set2 = {1,2}\n",
    "\n",
    "set2.issubset(set1)"
   ]
  },
  {
   "cell_type": "code",
   "execution_count": 16,
   "id": "63fdcc6d",
   "metadata": {},
   "outputs": [
    {
     "data": {
      "text/plain": [
       "True"
      ]
     },
     "execution_count": 16,
     "metadata": {},
     "output_type": "execute_result"
    }
   ],
   "source": [
    "set1 = {1,2,3,4,5}\n",
    "set2 = {1,2}\n",
    "\n",
    "set2.issubset(set2)"
   ]
  },
  {
   "cell_type": "code",
   "execution_count": 18,
   "id": "3f3990f4",
   "metadata": {},
   "outputs": [
    {
     "data": {
      "text/plain": [
       "True"
      ]
     },
     "execution_count": 18,
     "metadata": {},
     "output_type": "execute_result"
    }
   ],
   "source": [
    "a = {\"Python\",\"R\"}\n",
    "b = {\"R\"}\n",
    "\n",
    "b.issubset(a)\n"
   ]
  },
  {
   "cell_type": "markdown",
   "id": "954d2c49",
   "metadata": {},
   "source": [
    "### 8.issuperset()\n",
    "- True\n",
    "- False\n"
   ]
  },
  {
   "cell_type": "code",
   "execution_count": 19,
   "id": "138e41f7",
   "metadata": {},
   "outputs": [
    {
     "data": {
      "text/plain": [
       "True"
      ]
     },
     "execution_count": 19,
     "metadata": {},
     "output_type": "execute_result"
    }
   ],
   "source": [
    "set1 = {1,2,3,4,5}\n",
    "set2 = {1,2}\n",
    "\n",
    "set1.issuperset(set2)"
   ]
  },
  {
   "cell_type": "code",
   "execution_count": 20,
   "id": "1ab09b03",
   "metadata": {},
   "outputs": [
    {
     "data": {
      "text/plain": [
       "False"
      ]
     },
     "execution_count": 20,
     "metadata": {},
     "output_type": "execute_result"
    }
   ],
   "source": [
    "set1 = {1,2,3,4,5}\n",
    "set2 = {1,2}\n",
    "\n",
    "set2.issuperset(set1)"
   ]
  },
  {
   "cell_type": "markdown",
   "id": "b3151605",
   "metadata": {},
   "source": [
    "### 9.isdisjoint()"
   ]
  },
  {
   "cell_type": "code",
   "execution_count": 21,
   "id": "91964095",
   "metadata": {},
   "outputs": [
    {
     "data": {
      "text/plain": [
       "False"
      ]
     },
     "execution_count": 21,
     "metadata": {},
     "output_type": "execute_result"
    }
   ],
   "source": [
    "set1 = {\"Python\",\"R\"}\n",
    "set2 = {\"R\"}\n",
    "\n",
    "set1.isdisjoint(set2)"
   ]
  },
  {
   "cell_type": "code",
   "execution_count": 23,
   "id": "59f5b6b7",
   "metadata": {},
   "outputs": [
    {
     "data": {
      "text/plain": [
       "False"
      ]
     },
     "execution_count": 23,
     "metadata": {},
     "output_type": "execute_result"
    }
   ],
   "source": [
    "set1 = {\"Python\",\"R\"}\n",
    "set2 = {\"R\"}\n",
    "\n",
    "set2.isdisjoint(set1)"
   ]
  },
  {
   "cell_type": "code",
   "execution_count": 24,
   "id": "b3002852",
   "metadata": {},
   "outputs": [
    {
     "data": {
      "text/plain": [
       "True"
      ]
     },
     "execution_count": 24,
     "metadata": {},
     "output_type": "execute_result"
    }
   ],
   "source": [
    "set1 = {\"Python\",\"R\"}\n",
    "set2 = {\"Java\"}\n",
    "\n",
    "set1.isdisjoint(set2)"
   ]
  }
 ],
 "metadata": {
  "kernelspec": {
   "display_name": "Python 3 (ipykernel)",
   "language": "python",
   "name": "python3"
  },
  "language_info": {
   "codemirror_mode": {
    "name": "ipython",
    "version": 3
   },
   "file_extension": ".py",
   "mimetype": "text/x-python",
   "name": "python",
   "nbconvert_exporter": "python",
   "pygments_lexer": "ipython3",
   "version": "3.12.4"
  }
 },
 "nbformat": 4,
 "nbformat_minor": 5
}
